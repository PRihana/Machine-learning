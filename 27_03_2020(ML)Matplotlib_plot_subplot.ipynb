{
  "nbformat": 4,
  "nbformat_minor": 0,
  "metadata": {
    "colab": {
      "name": "27-03-2020(ML)Matplotlib-plot-subplot.ipynb",
      "provenance": [],
      "collapsed_sections": [],
      "authorship_tag": "ABX9TyPylO55xer1HlZfWRnPv1UJ",
      "include_colab_link": true
    },
    "kernelspec": {
      "name": "python3",
      "display_name": "Python 3"
    }
  },
  "cells": [
    {
      "cell_type": "markdown",
      "metadata": {
        "id": "view-in-github",
        "colab_type": "text"
      },
      "source": [
        "<a href=\"https://colab.research.google.com/github/PRihana/Machine-learning/blob/master/27_03_2020(ML)Matplotlib_plot_subplot.ipynb\" target=\"_parent\"><img src=\"https://colab.research.google.com/assets/colab-badge.svg\" alt=\"Open In Colab\"/></a>"
      ]
    },
    {
      "cell_type": "markdown",
      "metadata": {
        "id": "OKnG_5ROUxQU",
        "colab_type": "text"
      },
      "source": [
        "- Visualization\n",
        "\n",
        "  - matplotlib\n",
        "  - seaborn"
      ]
    },
    {
      "cell_type": "code",
      "metadata": {
        "id": "BBJMfWH4Ua7K",
        "colab_type": "code",
        "colab": {}
      },
      "source": [
        "import numpy as np\n",
        "import pandas as pd"
      ],
      "execution_count": 0,
      "outputs": []
    },
    {
      "cell_type": "code",
      "metadata": {
        "id": "YBHUjQa7VTXO",
        "colab_type": "code",
        "colab": {}
      },
      "source": [
        "import matplotlib.pyplot as plt\n",
        "%matplotlib inline"
      ],
      "execution_count": 0,
      "outputs": []
    },
    {
      "cell_type": "code",
      "metadata": {
        "id": "3s6dxMo1VSx3",
        "colab_type": "code",
        "outputId": "3b3f573e-2f9d-4adf-9879-0b9c24cf0a79",
        "colab": {
          "base_uri": "https://localhost:8080/",
          "height": 35
        }
      },
      "source": [
        "import matplotlib\n",
        "matplotlib.__version__"
      ],
      "execution_count": 0,
      "outputs": [
        {
          "output_type": "execute_result",
          "data": {
            "text/plain": [
              "'3.2.1'"
            ]
          },
          "metadata": {
            "tags": []
          },
          "execution_count": 3
        }
      ]
    },
    {
      "cell_type": "code",
      "metadata": {
        "id": "4xCQ2MvfVez-",
        "colab_type": "code",
        "outputId": "85264782-28fe-4f16-ba8d-e8312a02ae1c",
        "colab": {
          "base_uri": "https://localhost:8080/",
          "height": 283
        }
      },
      "source": [
        "l1 = [11,23,35,47,89]\n",
        "plt.plot(l1) # (0,11),(1,23),(2,35),(3,47),(4,89)"
      ],
      "execution_count": 0,
      "outputs": [
        {
          "output_type": "execute_result",
          "data": {
            "text/plain": [
              "[<matplotlib.lines.Line2D at 0x7f2a34cf9828>]"
            ]
          },
          "metadata": {
            "tags": []
          },
          "execution_count": 4
        },
        {
          "output_type": "display_data",
          "data": {
            "image/png": "[encoded data removed]",
            "text/plain": [
              "<Figure size 432x288 with 1 Axes>"
            ]
          },
          "metadata": {
            "tags": []
          }
        }
      ]
    },
    {
      "cell_type": "code",
      "metadata": {
        "id": "zVdrbfSUVfBv",
        "colab_type": "code",
        "outputId": "30511503-66a4-4e0e-d92b-f57847956658",
        "colab": {
          "base_uri": "https://localhost:8080/",
          "height": 283
        }
      },
      "source": [
        "l1 = [11,23,35,47,89]\n",
        "plt.plot(l1,marker ='o')"
      ],
      "execution_count": 0,
      "outputs": [
        {
          "output_type": "execute_result",
          "data": {
            "text/plain": [
              "[<matplotlib.lines.Line2D at 0x7f2a3484ed30>]"
            ]
          },
          "metadata": {
            "tags": []
          },
          "execution_count": 5
        },
        {
          "output_type": "display_data",
          "data": {
            "image/png": "[encoded data removed]",
            "text/plain": [
              "<Figure size 432x288 with 1 Axes>"
            ]
          },
          "metadata": {
            "tags": []
          }
        }
      ]
    },
    {
      "cell_type": "code",
      "metadata": {
        "id": "MVMSUqQTVfF7",
        "colab_type": "code",
        "outputId": "cadd806b-c9e1-458f-a8b7-619214199cee",
        "colab": {
          "base_uri": "https://localhost:8080/",
          "height": 283
        }
      },
      "source": [
        "l1 = [11,78,35,47]\n",
        "plt.plot(l1,marker ='o')"
      ],
      "execution_count": 0,
      "outputs": [
        {
          "output_type": "execute_result",
          "data": {
            "text/plain": [
              "[<matplotlib.lines.Line2D at 0x7f2a347c3c50>]"
            ]
          },
          "metadata": {
            "tags": []
          },
          "execution_count": 6
        },
        {
          "output_type": "display_data",
          "data": {
            "image/png": "[encoded data removed]",
            "text/plain": [
              "<Figure size 432x288 with 1 Axes>"
            ]
          },
          "metadata": {
            "tags": []
          }
        }
      ]
    },
    {
      "cell_type": "code",
      "metadata": {
        "id": "ZZFQEqcBVuE-",
        "colab_type": "code",
        "outputId": "3e555ba0-4849-4ec4-a71b-89093c1b8a03",
        "colab": {
          "base_uri": "https://localhost:8080/",
          "height": 1000
        }
      },
      "source": [
        "help(plt.plot)"
      ],
      "execution_count": 0,
      "outputs": [
        {
          "output_type": "stream",
          "text": [
            "Help on function plot in module matplotlib.pyplot:\n",
            "\n",
            "plot(*args, scalex=True, scaley=True, data=None, **kwargs)\n",
            "    Plot y versus x as lines and/or markers.\n",
            "    \n",
            "    Call signatures::\n",
            "    \n",
            "        plot([x], y, [fmt], *, data=None, **kwargs)\n",
            "        plot([x], y, [fmt], [x2], y2, [fmt2], ..., **kwargs)\n",
            "    \n",
            "    The coordinates of the points or line nodes are given by *x*, *y*.\n",
            "    \n",
            "    The optional parameter *fmt* is a convenient way for defining basic\n",
            "    formatting like color, marker and linestyle. It's a shortcut string\n",
            "    notation described in the *Notes* section below.\n",
            "    \n",
            "    >>> plot(x, y)        # plot x and y using default line style and color\n",
            "    >>> plot(x, y, 'bo')  # plot x and y using blue circle markers\n",
            "    >>> plot(y)           # plot y using x as index array 0..N-1\n",
            "    >>> plot(y, 'r+')     # ditto, but with red plusses\n",
            "    \n",
            "    You can use `.Line2D` properties as keyword arguments for more\n",
            "    control on the appearance. Line properties and *fmt* can be mixed.\n",
            "    The following two calls yield identical results:\n",
            "    \n",
            "    >>> plot(x, y, 'go--', linewidth=2, markersize=12)\n",
            "    >>> plot(x, y, color='green', marker='o', linestyle='dashed',\n",
            "    ...      linewidth=2, markersize=12)\n",
            "    \n",
            "    When conflicting with *fmt*, keyword arguments take precedence.\n",
            "    \n",
            "    \n",
            "    **Plotting labelled data**\n",
            "    \n",
            "    There's a convenient way for plotting objects with labelled data (i.e.\n",
            "    data that can be accessed by index ``obj['y']``). Instead of giving\n",
            "    the data in *x* and *y*, you can provide the object in the *data*\n",
            "    parameter and just give the labels for *x* and *y*::\n",
            "    \n",
            "    >>> plot('xlabel', 'ylabel', data=obj)\n",
            "    \n",
            "    All indexable objects are supported. This could e.g. be a `dict`, a\n",
            "    `pandas.DataFame` or a structured numpy array.\n",
            "    \n",
            "    \n",
            "    **Plotting multiple sets of data**\n",
            "    \n",
            "    There are various ways to plot multiple sets of data.\n",
            "    \n",
            "    - The most straight forward way is just to call `plot` multiple times.\n",
            "      Example:\n",
            "    \n",
            "      >>> plot(x1, y1, 'bo')\n",
            "      >>> plot(x2, y2, 'go')\n",
            "    \n",
            "    - Alternatively, if your data is already a 2d array, you can pass it\n",
            "      directly to *x*, *y*. A separate data set will be drawn for every\n",
            "      column.\n",
            "    \n",
            "      Example: an array ``a`` where the first column represents the *x*\n",
            "      values and the other columns are the *y* columns::\n",
            "    \n",
            "      >>> plot(a[0], a[1:])\n",
            "    \n",
            "    - The third way is to specify multiple sets of *[x]*, *y*, *[fmt]*\n",
            "      groups::\n",
            "    \n",
            "      >>> plot(x1, y1, 'g^', x2, y2, 'g-')\n",
            "    \n",
            "      In this case, any additional keyword argument applies to all\n",
            "      datasets. Also this syntax cannot be combined with the *data*\n",
            "      parameter.\n",
            "    \n",
            "    By default, each line is assigned a different style specified by a\n",
            "    'style cycle'. The *fmt* and line property parameters are only\n",
            "    necessary if you want explicit deviations from these defaults.\n",
            "    Alternatively, you can also change the style cycle using\n",
            "    :rc:`axes.prop_cycle`.\n",
            "    \n",
            "    \n",
            "    Parameters\n",
            "    ----------\n",
            "    x, y : array-like or scalar\n",
            "        The horizontal / vertical coordinates of the data points.\n",
            "        *x* values are optional and default to `range(len(y))`.\n",
            "    \n",
            "        Commonly, these parameters are 1D arrays.\n",
            "    \n",
            "        They can also be scalars, or two-dimensional (in that case, the\n",
            "        columns represent separate data sets).\n",
            "    \n",
            "        These arguments cannot be passed as keywords.\n",
            "    \n",
            "    fmt : str, optional\n",
            "        A format string, e.g. 'ro' for red circles. See the *Notes*\n",
            "        section for a full description of the format strings.\n",
            "    \n",
            "        Format strings are just an abbreviation for quickly setting\n",
            "        basic line properties. All of these and more can also be\n",
            "        controlled by keyword arguments.\n",
            "    \n",
            "        This argument cannot be passed as keyword.\n",
            "    \n",
            "    data : indexable object, optional\n",
            "        An object with labelled data. If given, provide the label names to\n",
            "        plot in *x* and *y*.\n",
            "    \n",
            "        .. note::\n",
            "            Technically there's a slight ambiguity in calls where the\n",
            "            second label is a valid *fmt*. `plot('n', 'o', data=obj)`\n",
            "            could be `plt(x, y)` or `plt(y, fmt)`. In such cases,\n",
            "            the former interpretation is chosen, but a warning is issued.\n",
            "            You may suppress the warning by adding an empty format string\n",
            "            `plot('n', 'o', '', data=obj)`.\n",
            "    \n",
            "    Other Parameters\n",
            "    ----------------\n",
            "    scalex, scaley : bool, optional, default: True\n",
            "        These parameters determined if the view limits are adapted to\n",
            "        the data limits. The values are passed on to `autoscale_view`.\n",
            "    \n",
            "    **kwargs : `.Line2D` properties, optional\n",
            "        *kwargs* are used to specify properties like a line label (for\n",
            "        auto legends), linewidth, antialiasing, marker face color.\n",
            "        Example::\n",
            "    \n",
            "        >>> plot([1, 2, 3], [1, 2, 3], 'go-', label='line 1', linewidth=2)\n",
            "        >>> plot([1, 2, 3], [1, 4, 9], 'rs', label='line 2')\n",
            "    \n",
            "        If you make multiple lines with one plot command, the kwargs\n",
            "        apply to all those lines.\n",
            "    \n",
            "        Here is a list of available `.Line2D` properties:\n",
            "    \n",
            "        Properties:\n",
            "        agg_filter: a filter function, which takes a (m, n, 3) float array and a dpi value, and returns a (m, n, 3) array\n",
            "        alpha: float or None\n",
            "        animated: bool\n",
            "        antialiased or aa: bool\n",
            "        clip_box: `.Bbox`\n",
            "        clip_on: bool\n",
            "        clip_path: Patch or (Path, Transform) or None\n",
            "        color or c: color\n",
            "        contains: callable\n",
            "        dash_capstyle: {'butt', 'round', 'projecting'}\n",
            "        dash_joinstyle: {'miter', 'round', 'bevel'}\n",
            "        dashes: sequence of floats (on/off ink in points) or (None, None)\n",
            "        data: (2, N) array or two 1D arrays\n",
            "        drawstyle or ds: {'default', 'steps', 'steps-pre', 'steps-mid', 'steps-post'}, default: 'default'\n",
            "        figure: `.Figure`\n",
            "        fillstyle: {'full', 'left', 'right', 'bottom', 'top', 'none'}\n",
            "        gid: str\n",
            "        in_layout: bool\n",
            "        label: object\n",
            "        linestyle or ls: {'-', '--', '-.', ':', '', (offset, on-off-seq), ...}\n",
            "        linewidth or lw: float\n",
            "        marker: marker style\n",
            "        markeredgecolor or mec: color\n",
            "        markeredgewidth or mew: float\n",
            "        markerfacecolor or mfc: color\n",
            "        markerfacecoloralt or mfcalt: color\n",
            "        markersize or ms: float\n",
            "        markevery: None or int or (int, int) or slice or List[int] or float or (float, float)\n",
            "        path_effects: `.AbstractPathEffect`\n",
            "        picker: float or callable[[Artist, Event], Tuple[bool, dict]]\n",
            "        pickradius: float\n",
            "        rasterized: bool or None\n",
            "        sketch_params: (scale: float, length: float, randomness: float)\n",
            "        snap: bool or None\n",
            "        solid_capstyle: {'butt', 'round', 'projecting'}\n",
            "        solid_joinstyle: {'miter', 'round', 'bevel'}\n",
            "        transform: `matplotlib.transforms.Transform`\n",
            "        url: str\n",
            "        visible: bool\n",
            "        xdata: 1D array\n",
            "        ydata: 1D array\n",
            "        zorder: float\n",
            "    \n",
            "    Returns\n",
            "    -------\n",
            "    lines\n",
            "        A list of `.Line2D` objects representing the plotted data.\n",
            "    \n",
            "    See Also\n",
            "    --------\n",
            "    scatter : XY scatter plot with markers of varying size and/or color (\n",
            "        sometimes also called bubble chart).\n",
            "    \n",
            "    Notes\n",
            "    -----\n",
            "    **Format Strings**\n",
            "    \n",
            "    A format string consists of a part for color, marker and line::\n",
            "    \n",
            "        fmt = '[marker][line][color]'\n",
            "    \n",
            "    Each of them is optional. If not provided, the value from the style\n",
            "    cycle is used. Exception: If ``line`` is given, but no ``marker``,\n",
            "    the data will be a line without markers.\n",
            "    \n",
            "    Other combinations such as ``[color][marker][line]`` are also\n",
            "    supported, but note that their parsing may be ambiguous.\n",
            "    \n",
            "    **Markers**\n",
            "    \n",
            "    =============    ===============================\n",
            "    character        description\n",
            "    =============    ===============================\n",
            "    ``'.'``          point marker\n",
            "    ``','``          pixel marker\n",
            "    ``'o'``          circle marker\n",
            "    ``'v'``          triangle_down marker\n",
            "    ``'^'``          triangle_up marker\n",
            "    ``'<'``          triangle_left marker\n",
            "    ``'>'``          triangle_right marker\n",
            "    ``'1'``          tri_down marker\n",
            "    ``'2'``          tri_up marker\n",
            "    ``'3'``          tri_left marker\n",
            "    ``'4'``          tri_right marker\n",
            "    ``'s'``          square marker\n",
            "    ``'p'``          pentagon marker\n",
            "    ``'*'``          star marker\n",
            "    ``'h'``          hexagon1 marker\n",
            "    ``'H'``          hexagon2 marker\n",
            "    ``'+'``          plus marker\n",
            "    ``'x'``          x marker\n",
            "    ``'D'``          diamond marker\n",
            "    ``'d'``          thin_diamond marker\n",
            "    ``'|'``          vline marker\n",
            "    ``'_'``          hline marker\n",
            "    =============    ===============================\n",
            "    \n",
            "    **Line Styles**\n",
            "    \n",
            "    =============    ===============================\n",
            "    character        description\n",
            "    =============    ===============================\n",
            "    ``'-'``          solid line style\n",
            "    ``'--'``         dashed line style\n",
            "    ``'-.'``         dash-dot line style\n",
            "    ``':'``          dotted line style\n",
            "    =============    ===============================\n",
            "    \n",
            "    Example format strings::\n",
            "    \n",
            "        'b'    # blue markers with default shape\n",
            "        'or'   # red circles\n",
            "        '-g'   # green solid line\n",
            "        '--'   # dashed line with default color\n",
            "        '^k:'  # black triangle_up markers connected by a dotted line\n",
            "    \n",
            "    **Colors**\n",
            "    \n",
            "    The supported color abbreviations are the single letter codes\n",
            "    \n",
            "    =============    ===============================\n",
            "    character        color\n",
            "    =============    ===============================\n",
            "    ``'b'``          blue\n",
            "    ``'g'``          green\n",
            "    ``'r'``          red\n",
            "    ``'c'``          cyan\n",
            "    ``'m'``          magenta\n",
            "    ``'y'``          yellow\n",
            "    ``'k'``          black\n",
            "    ``'w'``          white\n",
            "    =============    ===============================\n",
            "    \n",
            "    and the ``'CN'`` colors that index into the default property cycle.\n",
            "    \n",
            "    If the color is the only part of the format string, you can\n",
            "    additionally use any  `matplotlib.colors` spec, e.g. full names\n",
            "    (``'green'``) or hex strings (``'#008000'``).\n",
            "\n"
          ],
          "name": "stdout"
        }
      ]
    },
    {
      "cell_type": "code",
      "metadata": {
        "id": "XMvTu2_zVuOJ",
        "colab_type": "code",
        "outputId": "ef8daf2b-44e6-4d08-9376-d383ae7a0a93",
        "colab": {
          "base_uri": "https://localhost:8080/",
          "height": 283
        }
      },
      "source": [
        "x = np.arange(0,50,3)\n",
        "y =  x*2 + 3\n",
        "plt.plot(x,y)"
      ],
      "execution_count": 0,
      "outputs": [
        {
          "output_type": "execute_result",
          "data": {
            "text/plain": [
              "[<matplotlib.lines.Line2D at 0x7f2a3472d898>]"
            ]
          },
          "metadata": {
            "tags": []
          },
          "execution_count": 8
        },
        {
          "output_type": "display_data",
          "data": {
            "image/png": "[encoded data removed]",
            "text/plain": [
              "<Figure size 432x288 with 1 Axes>"
            ]
          },
          "metadata": {
            "tags": []
          }
        }
      ]
    },
    {
      "cell_type": "code",
      "metadata": {
        "id": "t6i9MR_OWDQJ",
        "colab_type": "code",
        "outputId": "752c0a02-d85e-47f8-cd3c-a5b779e9e355",
        "colab": {
          "base_uri": "https://localhost:8080/",
          "height": 283
        }
      },
      "source": [
        "plt.plot(x,y,'r')"
      ],
      "execution_count": 0,
      "outputs": [
        {
          "output_type": "execute_result",
          "data": {
            "text/plain": [
              "[<matplotlib.lines.Line2D at 0x7f2a3470add8>]"
            ]
          },
          "metadata": {
            "tags": []
          },
          "execution_count": 9
        },
        {
          "output_type": "display_data",
          "data": {
            "image/png": "[encoded data removed]",
            "text/plain": [
              "<Figure size 432x288 with 1 Axes>"
            ]
          },
          "metadata": {
            "tags": []
          }
        }
      ]
    },
    {
      "cell_type": "code",
      "metadata": {
        "id": "5BltVCpvWDYg",
        "colab_type": "code",
        "outputId": "0cc2dd9c-b883-46b1-b4d1-de10510eabce",
        "colab": {
          "base_uri": "https://localhost:8080/",
          "height": 283
        }
      },
      "source": [
        "plt.plot(x,y,'red')"
      ],
      "execution_count": 0,
      "outputs": [
        {
          "output_type": "execute_result",
          "data": {
            "text/plain": [
              "[<matplotlib.lines.Line2D at 0x7f2a3466f6d8>]"
            ]
          },
          "metadata": {
            "tags": []
          },
          "execution_count": 10
        },
        {
          "output_type": "display_data",
          "data": {
            "image/png": "[encoded data removed]",
            "text/plain": [
              "<Figure size 432x288 with 1 Axes>"
            ]
          },
          "metadata": {
            "tags": []
          }
        }
      ]
    },
    {
      "cell_type": "code",
      "metadata": {
        "id": "Q3RKxoPiWLx3",
        "colab_type": "code",
        "outputId": "7f35d69f-e99d-4be1-99d9-8319474a65bb",
        "colab": {
          "base_uri": "https://localhost:8080/",
          "height": 283
        }
      },
      "source": [
        "plt.plot(x,y,'#FF0000')"
      ],
      "execution_count": 0,
      "outputs": [
        {
          "output_type": "execute_result",
          "data": {
            "text/plain": [
              "[<matplotlib.lines.Line2D at 0x7f2a34648f28>]"
            ]
          },
          "metadata": {
            "tags": []
          },
          "execution_count": 11
        },
        {
          "output_type": "display_data",
          "data": {
            "image/png": "[encoded data removed]",
            "text/plain": [
              "<Figure size 432x288 with 1 Axes>"
            ]
          },
          "metadata": {
            "tags": []
          }
        }
      ]
    },
    {
      "cell_type": "code",
      "metadata": {
        "id": "Ti6LnYuwWL4j",
        "colab_type": "code",
        "outputId": "e55dae99-aaea-439b-ea3e-9aded1d03b44",
        "colab": {
          "base_uri": "https://localhost:8080/",
          "height": 283
        }
      },
      "source": [
        "plt.plot(x,y,'b')"
      ],
      "execution_count": 0,
      "outputs": [
        {
          "output_type": "execute_result",
          "data": {
            "text/plain": [
              "[<matplotlib.lines.Line2D at 0x7f2a347852b0>]"
            ]
          },
          "metadata": {
            "tags": []
          },
          "execution_count": 12
        },
        {
          "output_type": "display_data",
          "data": {
            "image/png": "[encoded data removed]",
            "text/plain": [
              "<Figure size 432x288 with 1 Axes>"
            ]
          },
          "metadata": {
            "tags": []
          }
        }
      ]
    },
    {
      "cell_type": "code",
      "metadata": {
        "id": "FJnX6o4WWDV8",
        "colab_type": "code",
        "outputId": "40b08a6a-5fe7-446e-a968-681d6c0c275b",
        "colab": {
          "base_uri": "https://localhost:8080/",
          "height": 283
        }
      },
      "source": [
        "plt.plot(x,y,'k')"
      ],
      "execution_count": 0,
      "outputs": [
        {
          "output_type": "execute_result",
          "data": {
            "text/plain": [
              "[<matplotlib.lines.Line2D at 0x7f2a34569a90>]"
            ]
          },
          "metadata": {
            "tags": []
          },
          "execution_count": 13
        },
        {
          "output_type": "display_data",
          "data": {
            "image/png": "[encoded data removed]",
            "text/plain": [
              "<Figure size 432x288 with 1 Axes>"
            ]
          },
          "metadata": {
            "tags": []
          }
        }
      ]
    },
    {
      "cell_type": "code",
      "metadata": {
        "id": "Z28-PRcnWy1s",
        "colab_type": "code",
        "outputId": "aeedab6c-68c3-4629-db42-7ec6ea1473bb",
        "colab": {
          "base_uri": "https://localhost:8080/",
          "height": 283
        }
      },
      "source": [
        "plt.plot(x,y,'o')"
      ],
      "execution_count": 0,
      "outputs": [
        {
          "output_type": "execute_result",
          "data": {
            "text/plain": [
              "[<matplotlib.lines.Line2D at 0x7f2a3454f320>]"
            ]
          },
          "metadata": {
            "tags": []
          },
          "execution_count": 14
        },
        {
          "output_type": "display_data",
          "data": {
            "image/png": "[encoded data removed]",
            "text/plain": [
              "<Figure size 432x288 with 1 Axes>"
            ]
          },
          "metadata": {
            "tags": []
          }
        }
      ]
    },
    {
      "cell_type": "code",
      "metadata": {
        "id": "GYK2U1PfWzEq",
        "colab_type": "code",
        "outputId": "21a39b88-0f62-4ed1-f1e5-15150843fb34",
        "colab": {
          "base_uri": "https://localhost:8080/",
          "height": 283
        }
      },
      "source": [
        "plt.plot(x,y,'o',markersize=5)"
      ],
      "execution_count": 0,
      "outputs": [
        {
          "output_type": "execute_result",
          "data": {
            "text/plain": [
              "[<matplotlib.lines.Line2D at 0x7f2a34489470>]"
            ]
          },
          "metadata": {
            "tags": []
          },
          "execution_count": 16
        },
        {
          "output_type": "display_data",
          "data": {
            "image/png": "[encoded data removed]",
            "text/plain": [
              "<Figure size 432x288 with 1 Axes>"
            ]
          },
          "metadata": {
            "tags": []
          }
        }
      ]
    },
    {
      "cell_type": "code",
      "metadata": {
        "id": "wA15tJjFXB4y",
        "colab_type": "code",
        "outputId": "b472445d-a4a6-42c8-88f3-80d5374d9cc1",
        "colab": {
          "base_uri": "https://localhost:8080/",
          "height": 283
        }
      },
      "source": [
        "plt.plot(x,y,linewidth=5)"
      ],
      "execution_count": 0,
      "outputs": [
        {
          "output_type": "execute_result",
          "data": {
            "text/plain": [
              "[<matplotlib.lines.Line2D at 0x7f2a343edc88>]"
            ]
          },
          "metadata": {
            "tags": []
          },
          "execution_count": 17
        },
        {
          "output_type": "display_data",
          "data": {
            "image/png": "[encoded data removed]",
            "text/plain": [
              "<Figure size 432x288 with 1 Axes>"
            ]
          },
          "metadata": {
            "tags": []
          }
        }
      ]
    },
    {
      "cell_type": "code",
      "metadata": {
        "id": "VWjCnUhdXE0s",
        "colab_type": "code",
        "outputId": "d199d96d-615a-456b-f804-d9c0b2e8aef6",
        "colab": {
          "base_uri": "https://localhost:8080/",
          "height": 283
        }
      },
      "source": [
        "plt.plot(x,y,linestyle='dashed')"
      ],
      "execution_count": 0,
      "outputs": [
        {
          "output_type": "execute_result",
          "data": {
            "text/plain": [
              "[<matplotlib.lines.Line2D at 0x7f2a343d3550>]"
            ]
          },
          "metadata": {
            "tags": []
          },
          "execution_count": 18
        },
        {
          "output_type": "display_data",
          "data": {
            "image/png": "[encoded data removed]",
            "text/plain": [
              "<Figure size 432x288 with 1 Axes>"
            ]
          },
          "metadata": {
            "tags": []
          }
        }
      ]
    },
    {
      "cell_type": "code",
      "metadata": {
        "id": "puEO9hFlXQ9B",
        "colab_type": "code",
        "outputId": "c9f1c7e0-5a38-45f6-9898-36567f287c6c",
        "colab": {
          "base_uri": "https://localhost:8080/",
          "height": 283
        }
      },
      "source": [
        "plt.plot(x,y,\"r+\")"
      ],
      "execution_count": 0,
      "outputs": [
        {
          "output_type": "execute_result",
          "data": {
            "text/plain": [
              "[<matplotlib.lines.Line2D at 0x7f2a3432ed68>]"
            ]
          },
          "metadata": {
            "tags": []
          },
          "execution_count": 19
        },
        {
          "output_type": "display_data",
          "data": {
            "image/png": "[encoded data removed]",
            "text/plain": [
              "<Figure size 432x288 with 1 Axes>"
            ]
          },
          "metadata": {
            "tags": []
          }
        }
      ]
    },
    {
      "cell_type": "code",
      "metadata": {
        "id": "uP8TEvcSXRIC",
        "colab_type": "code",
        "outputId": "d5087032-0677-44b6-bdc7-e4b2340632d1",
        "colab": {
          "base_uri": "https://localhost:8080/",
          "height": 283
        }
      },
      "source": [
        "plt.plot(x,y,\"r-\")"
      ],
      "execution_count": 0,
      "outputs": [
        {
          "output_type": "execute_result",
          "data": {
            "text/plain": [
              "[<matplotlib.lines.Line2D at 0x7f2a343155f8>]"
            ]
          },
          "metadata": {
            "tags": []
          },
          "execution_count": 20
        },
        {
          "output_type": "display_data",
          "data": {
            "image/png": "[encoded data removed]",
            "text/plain": [
              "<Figure size 432x288 with 1 Axes>"
            ]
          },
          "metadata": {
            "tags": []
          }
        }
      ]
    },
    {
      "cell_type": "code",
      "metadata": {
        "id": "Nnn_CX4uXRD6",
        "colab_type": "code",
        "outputId": "86f8ef93-dd06-42a6-d495-420b575ec1f2",
        "colab": {
          "base_uri": "https://localhost:8080/",
          "height": 283
        }
      },
      "source": [
        "plt.plot(x,y,\"r^\")"
      ],
      "execution_count": 0,
      "outputs": [
        {
          "output_type": "execute_result",
          "data": {
            "text/plain": [
              "[<matplotlib.lines.Line2D at 0x7f2a3426ee48>]"
            ]
          },
          "metadata": {
            "tags": []
          },
          "execution_count": 21
        },
        {
          "output_type": "display_data",
          "data": {
            "image/png": "[encoded data removed]",
            "text/plain": [
              "<Figure size 432x288 with 1 Axes>"
            ]
          },
          "metadata": {
            "tags": []
          }
        }
      ]
    },
    {
      "cell_type": "code",
      "metadata": {
        "id": "NooK4J1nXjpj",
        "colab_type": "code",
        "outputId": "cef36e32-a70a-42f1-c3dd-a394f4f88a39",
        "colab": {
          "base_uri": "https://localhost:8080/",
          "height": 283
        }
      },
      "source": [
        "x = np.random.randint(50,100,10)\n",
        "y = np.random.randint(50,100,10)\n",
        "plt.plot(x,y,\"o\")"
      ],
      "execution_count": 0,
      "outputs": [
        {
          "output_type": "execute_result",
          "data": {
            "text/plain": [
              "[<matplotlib.lines.Line2D at 0x7f2a3424ea90>]"
            ]
          },
          "metadata": {
            "tags": []
          },
          "execution_count": 22
        },
        {
          "output_type": "display_data",
          "data": {
            "image/png": "[encoded data removed]",
            "text/plain": [
              "<Figure size 432x288 with 1 Axes>"
            ]
          },
          "metadata": {
            "tags": []
          }
        }
      ]
    },
    {
      "cell_type": "code",
      "metadata": {
        "id": "1Dv8D9oTXjzN",
        "colab_type": "code",
        "outputId": "925db01d-44e3-4935-8549-cfcf52780a50",
        "colab": {
          "base_uri": "https://localhost:8080/",
          "height": 389
        }
      },
      "source": [
        "x = np.arange(10)\n",
        "y =x**2\n",
        "z = x*2+5\n",
        "plt.plot(x,y,'g',z,\"r\",x**0.5,'b',np.log(x),'m')"
      ],
      "execution_count": 0,
      "outputs": [
        {
          "output_type": "stream",
          "text": [
            "/usr/local/lib/python3.6/dist-packages/ipykernel_launcher.py:4: RuntimeWarning: divide by zero encountered in log\n",
            "  after removing the cwd from sys.path.\n"
          ],
          "name": "stderr"
        },
        {
          "output_type": "execute_result",
          "data": {
            "text/plain": [
              "[<matplotlib.lines.Line2D at 0x7f2a341c2240>,\n",
              " <matplotlib.lines.Line2D at 0x7f2a341c2358>,\n",
              " <matplotlib.lines.Line2D at 0x7f2a341c24a8>,\n",
              " <matplotlib.lines.Line2D at 0x7f2a341c25f8>]"
            ]
          },
          "metadata": {
            "tags": []
          },
          "execution_count": 23
        },
        {
          "output_type": "display_data",
          "data": {
            "image/png": "[encoded data removed]",
            "text/plain": [
              "<Figure size 432x288 with 1 Axes>"
            ]
          },
          "metadata": {
            "tags": []
          }
        }
      ]
    },
    {
      "cell_type": "code",
      "metadata": {
        "id": "5MqOO4bFXkH1",
        "colab_type": "code",
        "outputId": "1fff48f1-6203-44fe-8885-f31d06e2571c",
        "colab": {
          "base_uri": "https://localhost:8080/",
          "height": 300
        }
      },
      "source": [
        "x = np.arange(-9,10)\n",
        "y =x**2\n",
        "plt.plot(x,y)"
      ],
      "execution_count": 0,
      "outputs": [
        {
          "output_type": "stream",
          "text": [
            "ERROR! Session/line number was not unique in database. History logging moved to new session 59\n"
          ],
          "name": "stdout"
        },
        {
          "output_type": "execute_result",
          "data": {
            "text/plain": [
              "[<matplotlib.lines.Line2D at 0x7f2a34135320>]"
            ]
          },
          "metadata": {
            "tags": []
          },
          "execution_count": 24
        },
        {
          "output_type": "display_data",
          "data": {
            "image/png": "[encoded data removed]",
            "text/plain": [
              "<Figure size 432x288 with 1 Axes>"
            ]
          },
          "metadata": {
            "tags": []
          }
        }
      ]
    },
    {
      "cell_type": "code",
      "metadata": {
        "id": "eX-oEa3NXkMd",
        "colab_type": "code",
        "outputId": "3799f436-81c6-4080-a50f-cbfe37e03412",
        "colab": {
          "base_uri": "https://localhost:8080/",
          "height": 642
        }
      },
      "source": [
        "plt.plot(x,y)\n",
        "plt.xlabel(\"x value\")\n",
        "plt.ylabel(\"y value\")\n",
        "plt.title(\"parabola\")\n",
        "plt.xticks(np.arange(-9,10,4))\n",
        "plt.yticks(y)"
      ],
      "execution_count": 0,
      "outputs": [
        {
          "output_type": "execute_result",
          "data": {
            "text/plain": [
              "([<matplotlib.axis.YTick at 0x7f2a34101128>,\n",
              "  <matplotlib.axis.YTick at 0x7f2a340f8ac8>,\n",
              "  <matplotlib.axis.YTick at 0x7f2a34166630>,\n",
              "  <matplotlib.axis.YTick at 0x7f2a340a9b38>,\n",
              "  <matplotlib.axis.YTick at 0x7f2a340a9128>,\n",
              "  <matplotlib.axis.YTick at 0x7f2a340b0128>,\n",
              "  <matplotlib.axis.YTick at 0x7f2a340b0550>,\n",
              "  <matplotlib.axis.YTick at 0x7f2a340b09e8>,\n",
              "  <matplotlib.axis.YTick at 0x7f2a340b0e80>,\n",
              "  <matplotlib.axis.YTick at 0x7f2a340b8358>,\n",
              "  <matplotlib.axis.YTick at 0x7f2a340b87f0>,\n",
              "  <matplotlib.axis.YTick at 0x7f2a340b8c88>,\n",
              "  <matplotlib.axis.YTick at 0x7f2a340b8c50>,\n",
              "  <matplotlib.axis.YTick at 0x7f2a340b0dd8>,\n",
              "  <matplotlib.axis.YTick at 0x7f2a340a9fd0>,\n",
              "  <matplotlib.axis.YTick at 0x7f2a340c14a8>,\n",
              "  <matplotlib.axis.YTick at 0x7f2a340c1940>,\n",
              "  <matplotlib.axis.YTick at 0x7f2a340c1dd8>,\n",
              "  <matplotlib.axis.YTick at 0x7f2a340ca2b0>],\n",
              " <a list of 19 Text major ticklabel objects>)"
            ]
          },
          "metadata": {
            "tags": []
          },
          "execution_count": 25
        },
        {
          "output_type": "display_data",
          "data": {
            "image/png": "[encoded data removed]",
            "text/plain": [
              "<Figure size 432x288 with 1 Axes>"
            ]
          },
          "metadata": {
            "tags": []
          }
        }
      ]
    },
    {
      "cell_type": "code",
      "metadata": {
        "id": "BQKyVt1vXkVp",
        "colab_type": "code",
        "outputId": "36fb5351-01b6-449d-80ef-c17dda770a6d",
        "colab": {
          "base_uri": "https://localhost:8080/",
          "height": 313
        }
      },
      "source": [
        "plt.plot(x,y)\n",
        "plt.xlabel(\"x value\")\n",
        "plt.ylabel(\"y value\")\n",
        "plt.title(\"parabola\")\n",
        "plt.xlim(-5,5)\n",
        "plt.ylim(10,50)"
      ],
      "execution_count": 0,
      "outputs": [
        {
          "output_type": "execute_result",
          "data": {
            "text/plain": [
              "(10.0, 50.0)"
            ]
          },
          "metadata": {
            "tags": []
          },
          "execution_count": 26
        },
        {
          "output_type": "display_data",
          "data": {
            "image/png": "[encoded data removed]",
            "text/plain": [
              "<Figure size 432x288 with 1 Axes>"
            ]
          },
          "metadata": {
            "tags": []
          }
        }
      ]
    },
    {
      "cell_type": "code",
      "metadata": {
        "id": "nHgPtP7SXkbj",
        "colab_type": "code",
        "outputId": "e516df7a-64f7-49f2-f5ba-8cf1dbf52a66",
        "colab": {
          "base_uri": "https://localhost:8080/",
          "height": 299
        }
      },
      "source": [
        "x = np.arange(5,10)\n",
        "plt.subplot(2,2,1)\n",
        "plt.plot(x)\n",
        "plt.title(\"X\")\n",
        "plt.subplot(2,2,2)\n",
        "plt.plot(x,x+3,'o')\n",
        "plt.title(\"X+3\")\n",
        "plt.subplot(2,2,3)\n",
        "plt.plot(x,x*x)\n",
        "plt.title(\"X*X\")\n",
        "plt.subplot(2,2,4)\n",
        "plt.plot(x,np.log(x))\n",
        "plt.title('logX')"
      ],
      "execution_count": 0,
      "outputs": [
        {
          "output_type": "execute_result",
          "data": {
            "text/plain": [
              "Text(0.5, 1.0, 'logX')"
            ]
          },
          "metadata": {
            "tags": []
          },
          "execution_count": 27
        },
        {
          "output_type": "display_data",
          "data": {
            "image/png": "[encoded data removed]",
            "text/plain": [
              "<Figure size 432x288 with 4 Axes>"
            ]
          },
          "metadata": {
            "tags": []
          }
        }
      ]
    },
    {
      "cell_type": "code",
      "metadata": {
        "id": "nRg2G6gMXkjP",
        "colab_type": "code",
        "outputId": "9e9bfae4-9fa2-4cfa-f0fe-03b2ea847ae3",
        "colab": {
          "base_uri": "https://localhost:8080/",
          "height": 1000
        }
      },
      "source": [
        "help(plt.subplot)"
      ],
      "execution_count": 0,
      "outputs": [
        {
          "output_type": "stream",
          "text": [
            "Help on function subplot in module matplotlib.pyplot:\n",
            "\n",
            "subplot(*args, **kwargs)\n",
            "    Add a subplot to the current figure.\n",
            "    \n",
            "    Wrapper of `.Figure.add_subplot` with a difference in behavior\n",
            "    explained in the notes section.\n",
            "    \n",
            "    Call signatures::\n",
            "    \n",
            "       subplot(nrows, ncols, index, **kwargs)\n",
            "       subplot(pos, **kwargs)\n",
            "       subplot(ax)\n",
            "    \n",
            "    Parameters\n",
            "    ----------\n",
            "    *args\n",
            "        Either a 3-digit integer or three separate integers\n",
            "        describing the position of the subplot. If the three\n",
            "        integers are *nrows*, *ncols*, and *index* in order, the\n",
            "        subplot will take the *index* position on a grid with *nrows*\n",
            "        rows and *ncols* columns. *index* starts at 1 in the upper left\n",
            "        corner and increases to the right.\n",
            "    \n",
            "        *pos* is a three digit integer, where the first digit is the\n",
            "        number of rows, the second the number of columns, and the third\n",
            "        the index of the subplot. i.e. fig.add_subplot(235) is the same as\n",
            "        fig.add_subplot(2, 3, 5). Note that all integers must be less than\n",
            "        10 for this form to work.\n",
            "    \n",
            "    projection : {None, 'aitoff', 'hammer', 'lambert', 'mollweide', 'polar', 'rectilinear', str}, optional\n",
            "        The projection type of the subplot (`~.axes.Axes`). *str* is the name\n",
            "        of a custom projection, see `~matplotlib.projections`. The default\n",
            "        None results in a 'rectilinear' projection.\n",
            "    \n",
            "    polar : boolean, optional\n",
            "        If True, equivalent to projection='polar'.\n",
            "    \n",
            "    sharex, sharey : `~.axes.Axes`, optional\n",
            "        Share the x or y `~matplotlib.axis` with sharex and/or sharey. The\n",
            "        axis will have the same limits, ticks, and scale as the axis of the\n",
            "        shared axes.\n",
            "    \n",
            "    label : str\n",
            "        A label for the returned axes.\n",
            "    \n",
            "    Other Parameters\n",
            "    ----------------\n",
            "    **kwargs\n",
            "        This method also takes the keyword arguments for the returned axes\n",
            "        base class; except for the *figure* argument. The keyword arguments\n",
            "        for the rectilinear base class `~.axes.Axes` can be found in\n",
            "        the following table but there might also be other keyword\n",
            "        arguments if another projection is used.\n",
            "    \n",
            "        Properties:\n",
            "        adjustable: {'box', 'datalim'}\n",
            "        agg_filter: a filter function, which takes a (m, n, 3) float array and a dpi value, and returns a (m, n, 3) array\n",
            "        alpha: float or None\n",
            "        anchor: 2-tuple of floats or {'C', 'SW', 'S', 'SE', ...}\n",
            "        animated: bool\n",
            "        aspect: {'auto', 'equal'} or num\n",
            "        autoscale_on: bool\n",
            "        autoscalex_on: bool\n",
            "        autoscaley_on: bool\n",
            "        axes_locator: Callable[[Axes, Renderer], Bbox]\n",
            "        axisbelow: bool or 'line'\n",
            "        clip_box: `.Bbox`\n",
            "        clip_on: bool\n",
            "        clip_path: Patch or (Path, Transform) or None\n",
            "        contains: callable\n",
            "        facecolor: color\n",
            "        fc: color\n",
            "        figure: `.Figure`\n",
            "        frame_on: bool\n",
            "        gid: str\n",
            "        in_layout: bool\n",
            "        label: object\n",
            "        navigate: bool\n",
            "        navigate_mode: unknown\n",
            "        path_effects: `.AbstractPathEffect`\n",
            "        picker: None or bool or float or callable\n",
            "        position: [left, bottom, width, height] or `~matplotlib.transforms.Bbox`\n",
            "        prop_cycle: unknown\n",
            "        rasterization_zorder: float or None\n",
            "        rasterized: bool or None\n",
            "        sketch_params: (scale: float, length: float, randomness: float)\n",
            "        snap: bool or None\n",
            "        title: str\n",
            "        transform: `.Transform`\n",
            "        url: str\n",
            "        visible: bool\n",
            "        xbound: unknown\n",
            "        xlabel: str\n",
            "        xlim: (bottom: float, top: float)\n",
            "        xmargin: float greater than -0.5\n",
            "        xscale: {\"linear\", \"log\", \"symlog\", \"logit\", ...}\n",
            "        xticklabels: List[str]\n",
            "        xticks: unknown\n",
            "        ybound: unknown\n",
            "        ylabel: str\n",
            "        ylim: (bottom: float, top: float)\n",
            "        ymargin: float greater than -0.5\n",
            "        yscale: {\"linear\", \"log\", \"symlog\", \"logit\", ...}\n",
            "        yticklabels: List[str]\n",
            "        yticks: unknown\n",
            "        zorder: float\n",
            "    \n",
            "    Returns\n",
            "    -------\n",
            "    axes : an `.axes.SubplotBase` subclass of `~.axes.Axes` (or a subclass     of `~.axes.Axes`)\n",
            "    \n",
            "        The axes of the subplot. The returned axes base class depends on\n",
            "        the projection used. It is `~.axes.Axes` if rectilinear projection\n",
            "        are used and `.projections.polar.PolarAxes` if polar projection\n",
            "        are used. The returned axes is then a subplot subclass of the\n",
            "        base class.\n",
            "    \n",
            "    Notes\n",
            "    -----\n",
            "    Creating a subplot will delete any pre-existing subplot that overlaps\n",
            "    with it beyond sharing a boundary::\n",
            "    \n",
            "        import matplotlib.pyplot as plt\n",
            "        # plot a line, implicitly creating a subplot(111)\n",
            "        plt.plot([1, 2, 3])\n",
            "        # now create a subplot which represents the top plot of a grid\n",
            "        # with 2 rows and 1 column. Since this subplot will overlap the\n",
            "        # first, the plot (and its axes) previously created, will be removed\n",
            "        plt.subplot(211)\n",
            "    \n",
            "    If you do not want this behavior, use the `.Figure.add_subplot` method\n",
            "    or the `.pyplot.axes` function instead.\n",
            "    \n",
            "    If the figure already has a subplot with key (*args*,\n",
            "    *kwargs*) then it will simply make that subplot current and\n",
            "    return it.  This behavior is deprecated. Meanwhile, if you do\n",
            "    not want this behavior (i.e., you want to force the creation of a\n",
            "    new subplot), you must use a unique set of args and kwargs.  The axes\n",
            "    *label* attribute has been exposed for this purpose: if you want\n",
            "    two subplots that are otherwise identical to be added to the figure,\n",
            "    make sure you give them unique labels.\n",
            "    \n",
            "    In rare circumstances, `.add_subplot` may be called with a single\n",
            "    argument, a subplot axes instance already created in the\n",
            "    present figure but not in the figure's list of axes.\n",
            "    \n",
            "    See Also\n",
            "    --------\n",
            "    .Figure.add_subplot\n",
            "    .pyplot.subplots\n",
            "    .pyplot.axes\n",
            "    .Figure.subplots\n",
            "    \n",
            "    Examples\n",
            "    --------\n",
            "    ::\n",
            "    \n",
            "        plt.subplot(221)\n",
            "    \n",
            "        # equivalent but more general\n",
            "        ax1=plt.subplot(2, 2, 1)\n",
            "    \n",
            "        # add a subplot with no frame\n",
            "        ax2=plt.subplot(222, frameon=False)\n",
            "    \n",
            "        # add a polar subplot\n",
            "        plt.subplot(223, projection='polar')\n",
            "    \n",
            "        # add a red subplot that shares the x-axis with ax1\n",
            "        plt.subplot(224, sharex=ax1, facecolor='red')\n",
            "    \n",
            "        # delete ax2 from the figure\n",
            "        plt.delaxes(ax2)\n",
            "    \n",
            "        # add ax2 to the figure again\n",
            "        plt.subplot(ax2)\n",
            "\n"
          ],
          "name": "stdout"
        }
      ]
    },
    {
      "cell_type": "code",
      "metadata": {
        "id": "Po87oX_sXjwf",
        "colab_type": "code",
        "outputId": "e715fbfe-420a-42eb-ed67-d62b3fbdabf5",
        "colab": {
          "base_uri": "https://localhost:8080/",
          "height": 303
        }
      },
      "source": [
        "x = np.arange(5,10)\n",
        "plt.subplot(2,2,1,frameon=False)\n",
        "plt.plot(x)\n",
        "plt.title(\"X\")\n",
        "plt.subplot(2,2,2,projection='polar')\n",
        "plt.plot(x,x+3,'o')\n",
        "plt.title(\"X+3\")\n",
        "plt.subplot(2,2,3)\n",
        "plt.plot(x,x*x)\n",
        "plt.title(\"X*X\")\n",
        "plt.subplot(2,2,4)\n",
        "plt.plot(x,np.log(x))\n",
        "plt.title('logX')"
      ],
      "execution_count": 0,
      "outputs": [
        {
          "output_type": "execute_result",
          "data": {
            "text/plain": [
              "Text(0.5, 1.0, 'logX')"
            ]
          },
          "metadata": {
            "tags": []
          },
          "execution_count": 29
        },
        {
          "output_type": "display_data",
          "data": {
            "image/png": "[encoded data removed]",
            "text/plain": [
              "<Figure size 432x288 with 4 Axes>"
            ]
          },
          "metadata": {
            "tags": []
          }
        }
      ]
    }
  ]
}