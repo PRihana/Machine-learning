{
  "nbformat": 4,
  "nbformat_minor": 0,
  "metadata": {
    "colab": {
      "name": "13-04-2020-Q-Learning.ipynb",
      "provenance": [],
      "collapsed_sections": [],
      "authorship_tag": "ABX9TyP7fsrFg3uOKgDNiG95gBPB",
      "include_colab_link": true
    },
    "kernelspec": {
      "name": "python3",
      "display_name": "Python 3"
    }
  },
  "cells": [
    {
      "cell_type": "markdown",
      "metadata": {
        "id": "view-in-github",
        "colab_type": "text"
      },
      "source": [
        "<a href=\"https://colab.research.google.com/github/PRihana/Machine-learning/blob/master/13_04_2020_Q_Learning.ipynb\" target=\"_parent\"><img src=\"https://colab.research.google.com/assets/colab-badge.svg\" alt=\"Open In Colab\"/></a>"
      ]
    },
    {
      "cell_type": "code",
      "metadata": {
        "id": "IcYELxUNC0TE",
        "colab_type": "code",
        "colab": {}
      },
      "source": [
        "environment_matrix = [[None, 0],\n",
        "                  [-100, 0],\n",
        "                  [0, 0],\n",
        "                  [0, 0],\n",
        "                  [0, 0],\n",
        "                  [0, 100],\n",
        "                  [0, 0],\n",
        "                  [100, 0],\n",
        "                  [0, 0],\n",
        "                  [0, None]]"
      ],
      "execution_count": 0,
      "outputs": []
    },
    {
      "cell_type": "code",
      "metadata": {
        "id": "3t3r3sNCEbf6",
        "colab_type": "code",
        "colab": {}
      },
      "source": [
        "q_matrix = [[0, 0],\n",
        "      [0, 0],\n",
        "      [0, 0],\n",
        "      [0, 0],\n",
        "      [0, 0],\n",
        "      [0, 0],\n",
        "      [0, 0],\n",
        "      [0, 0],\n",
        "      [0, 0],\n",
        "      [0, 0]]"
      ],
      "execution_count": 0,
      "outputs": []
    },
    {
      "cell_type": "code",
      "metadata": {
        "id": "GVF9t9fgEovF",
        "colab_type": "code",
        "colab": {}
      },
      "source": [
        "# win loss \n",
        "# win state -6\n",
        "# loss sate - 0\n",
        "win_loss_states = [0,6]"
      ],
      "execution_count": 0,
      "outputs": []
    },
    {
      "cell_type": "code",
      "metadata": {
        "id": "Jk1iad02EpKw",
        "colab_type": "code",
        "colab": {}
      },
      "source": [
        "# left action -0\n",
        "# Right action -1\n",
        "def getAllPossibleNextAction(cur_pos):\n",
        "    step_matrix = [x != None for x in environment_matrix[cur_pos]]\n",
        "    #print(step_matrix)\n",
        "    action = []\n",
        "    if(step_matrix[0]):\n",
        "        action.append(0)    \n",
        "    if(step_matrix[1]):\n",
        "        action.append(1)\n",
        "    return(action)"
      ],
      "execution_count": 0,
      "outputs": []
    },
    {
      "cell_type": "code",
      "metadata": {
        "id": "4IdG1PUMEpG7",
        "colab_type": "code",
        "colab": {
          "base_uri": "https://localhost:8080/",
          "height": 35
        },
        "outputId": "47d42a10-afd7-4044-a403-b991769b19b4"
      },
      "source": [
        "getAllPossibleNextAction(0)"
      ],
      "execution_count": 7,
      "outputs": [
        {
          "output_type": "execute_result",
          "data": {
            "text/plain": [
              "[1]"
            ]
          },
          "metadata": {
            "tags": []
          },
          "execution_count": 7
        }
      ]
    },
    {
      "cell_type": "code",
      "metadata": {
        "id": "kg4-UxAmEo_2",
        "colab_type": "code",
        "colab": {
          "base_uri": "https://localhost:8080/",
          "height": 35
        },
        "outputId": "91f1e1a1-946e-4627-aac9-14f2cfe1a014"
      },
      "source": [
        "getAllPossibleNextAction(1)"
      ],
      "execution_count": 8,
      "outputs": [
        {
          "output_type": "execute_result",
          "data": {
            "text/plain": [
              "[0, 1]"
            ]
          },
          "metadata": {
            "tags": []
          },
          "execution_count": 8
        }
      ]
    },
    {
      "cell_type": "code",
      "metadata": {
        "id": "uIJcsW3xEo8j",
        "colab_type": "code",
        "colab": {}
      },
      "source": [
        "def isGoalStateReached(cur_pos):\n",
        "    return (cur_pos in [6])"
      ],
      "execution_count": 0,
      "outputs": []
    },
    {
      "cell_type": "code",
      "metadata": {
        "id": "1I1LmiW5Eo5x",
        "colab_type": "code",
        "colab": {}
      },
      "source": [
        "def getNextState(cur_pos, action):\n",
        "    if (action == 0):\n",
        "        return cur_pos - 1\n",
        "    else:\n",
        "        return cur_pos + 1"
      ],
      "execution_count": 0,
      "outputs": []
    },
    {
      "cell_type": "code",
      "metadata": {
        "id": "sUhjJ4TbEo2H",
        "colab_type": "code",
        "colab": {
          "base_uri": "https://localhost:8080/",
          "height": 35
        },
        "outputId": "9a9b88d7-e6c8-45e9-dd23-f41579e97c44"
      },
      "source": [
        "getNextState(1,0)"
      ],
      "execution_count": 11,
      "outputs": [
        {
          "output_type": "execute_result",
          "data": {
            "text/plain": [
              "0"
            ]
          },
          "metadata": {
            "tags": []
          },
          "execution_count": 11
        }
      ]
    },
    {
      "cell_type": "code",
      "metadata": {
        "id": "bXSmUaJfFiRt",
        "colab_type": "code",
        "colab": {
          "base_uri": "https://localhost:8080/",
          "height": 35
        },
        "outputId": "280fdfe0-83a7-453b-e6e8-523039f348cd"
      },
      "source": [
        "getNextState(5,1)"
      ],
      "execution_count": 12,
      "outputs": [
        {
          "output_type": "execute_result",
          "data": {
            "text/plain": [
              "6"
            ]
          },
          "metadata": {
            "tags": []
          },
          "execution_count": 12
        }
      ]
    },
    {
      "cell_type": "code",
      "metadata": {
        "id": "N4hUGc3eFigz",
        "colab_type": "code",
        "colab": {}
      },
      "source": [
        "def isGameOver(cur_pos):\n",
        "    return cur_pos in win_loss_states"
      ],
      "execution_count": 0,
      "outputs": []
    },
    {
      "cell_type": "code",
      "metadata": {
        "id": "8h5rd6nxF0DY",
        "colab_type": "code",
        "colab": {
          "base_uri": "https://localhost:8080/",
          "height": 35
        },
        "outputId": "097adf63-4483-4265-cd62-f2a4d90cdc53"
      },
      "source": [
        "isGameOver(6)"
      ],
      "execution_count": 14,
      "outputs": [
        {
          "output_type": "execute_result",
          "data": {
            "text/plain": [
              "True"
            ]
          },
          "metadata": {
            "tags": []
          },
          "execution_count": 14
        }
      ]
    },
    {
      "cell_type": "code",
      "metadata": {
        "id": "71fj-TDAF0d4",
        "colab_type": "code",
        "colab": {
          "base_uri": "https://localhost:8080/",
          "height": 35
        },
        "outputId": "10f11172-1ad1-482d-b924-30cf966f67e1"
      },
      "source": [
        "isGameOver(0)"
      ],
      "execution_count": 15,
      "outputs": [
        {
          "output_type": "execute_result",
          "data": {
            "text/plain": [
              "True"
            ]
          },
          "metadata": {
            "tags": []
          },
          "execution_count": 15
        }
      ]
    },
    {
      "cell_type": "code",
      "metadata": {
        "id": "WpLOYNgXF9vV",
        "colab_type": "code",
        "colab": {
          "base_uri": "https://localhost:8080/",
          "height": 35
        },
        "outputId": "09048358-5355-4a41-af9a-ee1bf186256c"
      },
      "source": [
        "isGameOver(2)"
      ],
      "execution_count": 16,
      "outputs": [
        {
          "output_type": "execute_result",
          "data": {
            "text/plain": [
              "False"
            ]
          },
          "metadata": {
            "tags": []
          },
          "execution_count": 16
        }
      ]
    },
    {
      "cell_type": "code",
      "metadata": {
        "id": "LB5knHlLF98M",
        "colab_type": "code",
        "colab": {}
      },
      "source": [
        "q_matrix = [[0, 0],\n",
        "      [0, 0],\n",
        "      [0, 0],\n",
        "      [0, 0],\n",
        "      [0, 0],\n",
        "      [0, 0],\n",
        "      [0, 0],\n",
        "      [0, 0],\n",
        "      [0, 0],\n",
        "      [0, 0]]"
      ],
      "execution_count": 0,
      "outputs": []
    },
    {
      "cell_type": "code",
      "metadata": {
        "id": "2OsOIKamGMiQ",
        "colab_type": "code",
        "colab": {
          "base_uri": "https://localhost:8080/",
          "height": 72
        },
        "outputId": "b5f34d38-27f3-45ea-a7fd-38644ae97277"
      },
      "source": [
        "import random\n",
        "discount = 0.9\n",
        "learning_rate = 0.1\n",
        "for _ in range(50):\n",
        "    # get starting place\n",
        "    cur_pos = random.choice([0,1,2,3,4,5,6,7,8,9])\n",
        "    # while goal state is not reached\n",
        "    while(not isGameOver(cur_pos)):\n",
        "        # get all possible next states from cur_step\n",
        "        possible_actions = getAllPossibleNextAction(cur_pos)\n",
        "        # select any one action randomly\n",
        "        action = random.choice(possible_actions)\n",
        "        # find the next state corresponding to the action selected\n",
        "        next_state = getNextState(cur_pos, action)\n",
        "        # update the q_matrix\n",
        "        q_matrix[cur_pos][action] = q_matrix[cur_pos][action] + learning_rate * (environment_matrix[cur_pos][action] + \n",
        "            discount * max(q_matrix[next_state]) - q_matrix[cur_pos][action])\n",
        "        # go to next state\n",
        "        cur_pos = next_state\n",
        "    # print status\n",
        "    #print(\"Episode \", _ , \" done\")\n",
        "print(q_matrix)\n",
        "print(\"Training done...\")\n"
      ],
      "execution_count": 18,
      "outputs": [
        {
          "output_type": "stream",
          "text": [
            "[[0, 0], [-71.7570463519, 1.0744748081581004], [0.18352772593952785, 4.935404984700437], [2.0138843586941144, 9.585653980928486], [2.6132836092882368, 25.075213518960002], [5.063522164920002, 61.2579511], [0, 0], [81.4697981114816, 25.427462336684023], [56.162783974876206, 15.312596465147832], [31.62940592486964, 0]]\n",
            "Training done...\n"
          ],
          "name": "stdout"
        }
      ]
    },
    {
      "cell_type": "code",
      "metadata": {
        "id": "ap_zZmjhFiOP",
        "colab_type": "code",
        "colab": {}
      },
      "source": [
        ""
      ],
      "execution_count": 0,
      "outputs": []
    }
  ]
}