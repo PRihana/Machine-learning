{
  "nbformat": 4,
  "nbformat_minor": 0,
  "metadata": {
    "colab": {
      "name": "23-03-2020(ML)Task.ipynb",
      "provenance": [],
      "authorship_tag": "ABX9TyPqwplr7KkOblmIX+UzFZ2y",
      "include_colab_link": true
    },
    "kernelspec": {
      "name": "python3",
      "display_name": "Python 3"
    }
  },
  "cells": [
    {
      "cell_type": "markdown",
      "metadata": {
        "id": "view-in-github",
        "colab_type": "text"
      },
      "source": [
        "<a href=\"https://colab.research.google.com/github/PRihana/Machine-learning/blob/master/23_03_2020(ML)Task.ipynb\" target=\"_parent\"><img src=\"https://colab.research.google.com/assets/colab-badge.svg\" alt=\"Open In Colab\"/></a>"
      ]
    },
    {
      "cell_type": "code",
      "metadata": {
        "id": "lEhwDxQrnvNM",
        "colab_type": "code",
        "colab": {}
      },
      "source": [
        "import numpy as np\n",
        "import pandas as pd"
      ],
      "execution_count": 0,
      "outputs": []
    },
    {
      "cell_type": "markdown",
      "metadata": {
        "id": "DQqk2XCZnzUX",
        "colab_type": "text"
      },
      "source": [
        "- What is the argument we should use to mentions the fisrt row in the datset are not columns\n",
        "- what is the value we should send for that argument\n",
        "  - Answer: We should use header=None\n",
        "- Read the data in the data.csv file in the proper format\n",
        "- Use ['my_datetime', 'event', 'country', 'user_id', 'source', 'topic'] as columns"
      ]
    },
    {
      "cell_type": "code",
      "metadata": {
        "id": "GHbBhqnhn2s3",
        "colab_type": "code",
        "colab": {
          "base_uri": "https://localhost:8080/",
          "height": 254
        },
        "outputId": "776b82c3-4a02-4eb1-be64-9cc76b898d8f"
      },
      "source": [
        "import pandas as pd\n",
        "df=pd.read_csv(\"/content/sample.csv\",names=['my_datetime', 'event', 'country', 'user_id', 'source', 'topic'],sep='\\t' )\n",
        "print(df.columns)\n",
        "print(df.shape)\n",
        "print(df.index)\n",
        "df.head()"
      ],
      "execution_count": 2,
      "outputs": [
        {
          "output_type": "stream",
          "text": [
            "Index(['my_datetime', 'event', 'country', 'user_id', 'source', 'topic'], dtype='object')\n",
            "(5, 6)\n",
            "RangeIndex(start=0, stop=5, step=1)\n"
          ],
          "name": "stdout"
        },
        {
          "output_type": "execute_result",
          "data": {
            "text/html": [
              "<div>\n",
              "<style scoped>\n",
              "    .dataframe tbody tr th:only-of-type {\n",
              "        vertical-align: middle;\n",
              "    }\n",
              "\n",
              "    .dataframe tbody tr th {\n",
              "        vertical-align: top;\n",
              "    }\n",
              "\n",
              "    .dataframe thead th {\n",
              "        text-align: right;\n",
              "    }\n",
              "</style>\n",
              "<table border=\"1\" class=\"dataframe\">\n",
              "  <thead>\n",
              "    <tr style=\"text-align: right;\">\n",
              "      <th></th>\n",
              "      <th>my_datetime</th>\n",
              "      <th>event</th>\n",
              "      <th>country</th>\n",
              "      <th>user_id</th>\n",
              "      <th>source</th>\n",
              "      <th>topic</th>\n",
              "    </tr>\n",
              "  </thead>\n",
              "  <tbody>\n",
              "    <tr>\n",
              "      <th>0</th>\n",
              "      <td>name,salary,year</td>\n",
              "      <td>NaN</td>\n",
              "      <td>NaN</td>\n",
              "      <td>NaN</td>\n",
              "      <td>NaN</td>\n",
              "      <td>NaN</td>\n",
              "    </tr>\n",
              "    <tr>\n",
              "      <th>1</th>\n",
              "      <td>Raj Acharya,45000,2015</td>\n",
              "      <td>NaN</td>\n",
              "      <td>NaN</td>\n",
              "      <td>NaN</td>\n",
              "      <td>NaN</td>\n",
              "      <td>NaN</td>\n",
              "    </tr>\n",
              "    <tr>\n",
              "      <th>2</th>\n",
              "      <td>SaiTeja Ram,78000,2012</td>\n",
              "      <td>NaN</td>\n",
              "      <td>NaN</td>\n",
              "      <td>NaN</td>\n",
              "      <td>NaN</td>\n",
              "      <td>NaN</td>\n",
              "    </tr>\n",
              "    <tr>\n",
              "      <th>3</th>\n",
              "      <td>Hemendra Arya,32000,2018</td>\n",
              "      <td>NaN</td>\n",
              "      <td>NaN</td>\n",
              "      <td>NaN</td>\n",
              "      <td>NaN</td>\n",
              "      <td>NaN</td>\n",
              "    </tr>\n",
              "    <tr>\n",
              "      <th>4</th>\n",
              "      <td>Revanth Sundarm,15000,2019</td>\n",
              "      <td>NaN</td>\n",
              "      <td>NaN</td>\n",
              "      <td>NaN</td>\n",
              "      <td>NaN</td>\n",
              "      <td>NaN</td>\n",
              "    </tr>\n",
              "  </tbody>\n",
              "</table>\n",
              "</div>"
            ],
            "text/plain": [
              "                  my_datetime  event  country  user_id  source  topic\n",
              "0            name,salary,year    NaN      NaN      NaN     NaN    NaN\n",
              "1      Raj Acharya,45000,2015    NaN      NaN      NaN     NaN    NaN\n",
              "2      SaiTeja Ram,78000,2012    NaN      NaN      NaN     NaN    NaN\n",
              "3    Hemendra Arya,32000,2018    NaN      NaN      NaN     NaN    NaN\n",
              "4  Revanth Sundarm,15000,2019    NaN      NaN      NaN     NaN    NaN"
            ]
          },
          "metadata": {
            "tags": []
          },
          "execution_count": 2
        }
      ]
    },
    {
      "cell_type": "markdown",
      "metadata": {
        "id": "DGDfs3cio9Au",
        "colab_type": "text"
      },
      "source": [
        "- Read the data in the ceral.csv file in the proper format"
      ]
    },
    {
      "cell_type": "code",
      "metadata": {
        "id": "JbI114qwn20N",
        "colab_type": "code",
        "colab": {
          "base_uri": "https://localhost:8080/",
          "height": 274
        },
        "outputId": "c2081956-6a3a-47d0-c79c-1bbcb3882340"
      },
      "source": [
        "data=pd.read_csv(\"/content/cereal.csv\")\n",
        "print(data.shape)\n",
        "print(data.columns)\n",
        "print(data.index)\n",
        "data.head()"
      ],
      "execution_count": 5,
      "outputs": [
        {
          "output_type": "stream",
          "text": [
            "(78, 1)\n",
            "Index(['X.1\\tX.2\\tX.3\\tX.4\\tX.5\\tX.6\\tX.7\\tX.8\\tX.9\\tX.10\\tX.11\\tX.12\\tX.13\\tX.14\\tX.15\\tX.16'], dtype='object')\n",
            "RangeIndex(start=0, stop=78, step=1)\n"
          ],
          "name": "stdout"
        },
        {
          "output_type": "execute_result",
          "data": {
            "text/html": [
              "<div>\n",
              "<style scoped>\n",
              "    .dataframe tbody tr th:only-of-type {\n",
              "        vertical-align: middle;\n",
              "    }\n",
              "\n",
              "    .dataframe tbody tr th {\n",
              "        vertical-align: top;\n",
              "    }\n",
              "\n",
              "    .dataframe thead th {\n",
              "        text-align: right;\n",
              "    }\n",
              "</style>\n",
              "<table border=\"1\" class=\"dataframe\">\n",
              "  <thead>\n",
              "    <tr style=\"text-align: right;\">\n",
              "      <th></th>\n",
              "      <th>X.1\\tX.2\\tX.3\\tX.4\\tX.5\\tX.6\\tX.7\\tX.8\\tX.9\\tX.10\\tX.11\\tX.12\\tX.13\\tX.14\\tX.15\\tX.16</th>\n",
              "    </tr>\n",
              "  </thead>\n",
              "  <tbody>\n",
              "    <tr>\n",
              "      <th>0</th>\n",
              "      <td>name\\tmfr\\ttype\\tcalories\\tprotein\\tfat\\tsodiu...</td>\n",
              "    </tr>\n",
              "    <tr>\n",
              "      <th>1</th>\n",
              "      <td>100% Bran\\tN\\tC\\t70\\t4\\t1\\t130\\t10\\t5\\t6\\t280\\...</td>\n",
              "    </tr>\n",
              "    <tr>\n",
              "      <th>2</th>\n",
              "      <td>100% Natural Bran\\tQ\\tC\\t120\\t3\\t5\\t15\\t2\\t8\\t...</td>\n",
              "    </tr>\n",
              "    <tr>\n",
              "      <th>3</th>\n",
              "      <td>All-Bran\\tK\\tC\\t70\\t4\\t1\\t260\\t9\\t7\\t5\\t320\\t2...</td>\n",
              "    </tr>\n",
              "    <tr>\n",
              "      <th>4</th>\n",
              "      <td>All-Bran with Extra Fiber\\tK\\tC\\t50\\t4\\t0\\t140...</td>\n",
              "    </tr>\n",
              "  </tbody>\n",
              "</table>\n",
              "</div>"
            ],
            "text/plain": [
              "  X.1\\tX.2\\tX.3\\tX.4\\tX.5\\tX.6\\tX.7\\tX.8\\tX.9\\tX.10\\tX.11\\tX.12\\tX.13\\tX.14\\tX.15\\tX.16\n",
              "0  name\\tmfr\\ttype\\tcalories\\tprotein\\tfat\\tsodiu...                                   \n",
              "1  100% Bran\\tN\\tC\\t70\\t4\\t1\\t130\\t10\\t5\\t6\\t280\\...                                   \n",
              "2  100% Natural Bran\\tQ\\tC\\t120\\t3\\t5\\t15\\t2\\t8\\t...                                   \n",
              "3  All-Bran\\tK\\tC\\t70\\t4\\t1\\t260\\t9\\t7\\t5\\t320\\t2...                                   \n",
              "4  All-Bran with Extra Fiber\\tK\\tC\\t50\\t4\\t0\\t140...                                   "
            ]
          },
          "metadata": {
            "tags": []
          },
          "execution_count": 5
        }
      ]
    },
    {
      "cell_type": "markdown",
      "metadata": {
        "id": "g6wJ9RW1qtjW",
        "colab_type": "text"
      },
      "source": [
        "- Read \"Sensor Data.xls\" as DataFrame"
      ]
    },
    {
      "cell_type": "code",
      "metadata": {
        "id": "iJf6znZwn2ye",
        "colab_type": "code",
        "colab": {
          "base_uri": "https://localhost:8080/",
          "height": 557
        },
        "outputId": "9e85f105-edc7-46c1-f782-d06547f7ba8e"
      },
      "source": [
        "xls=pd.read_excel(\"/content/Sensor Data.xls\")\n",
        "print(xls.shape)\n",
        "print(xls.columns)\n",
        "print(xls.index)\n",
        "xls"
      ],
      "execution_count": 7,
      "outputs": [
        {
          "output_type": "stream",
          "text": [
            "(2212, 15)\n",
            "Index(['Input 1', 'Input 2', 'Input 3', 'Input 4', 'Input 5', 'Input 6',\n",
            "       'Input 7', 'Input 8', 'Input 9', 'Input 10 ', 'Input 11 ', 'Input 12',\n",
            "       'output1', 'output2', 'class'],\n",
            "      dtype='object')\n",
            "RangeIndex(start=0, stop=2212, step=1)\n"
          ],
          "name": "stdout"
        },
        {
          "output_type": "execute_result",
          "data": {
            "text/html": [
              "<div>\n",
              "<style scoped>\n",
              "    .dataframe tbody tr th:only-of-type {\n",
              "        vertical-align: middle;\n",
              "    }\n",
              "\n",
              "    .dataframe tbody tr th {\n",
              "        vertical-align: top;\n",
              "    }\n",
              "\n",
              "    .dataframe thead th {\n",
              "        text-align: right;\n",
              "    }\n",
              "</style>\n",
              "<table border=\"1\" class=\"dataframe\">\n",
              "  <thead>\n",
              "    <tr style=\"text-align: right;\">\n",
              "      <th></th>\n",
              "      <th>Input 1</th>\n",
              "      <th>Input 2</th>\n",
              "      <th>Input 3</th>\n",
              "      <th>Input 4</th>\n",
              "      <th>Input 5</th>\n",
              "      <th>Input 6</th>\n",
              "      <th>Input 7</th>\n",
              "      <th>Input 8</th>\n",
              "      <th>Input 9</th>\n",
              "      <th>Input 10</th>\n",
              "      <th>Input 11</th>\n",
              "      <th>Input 12</th>\n",
              "      <th>output1</th>\n",
              "      <th>output2</th>\n",
              "      <th>class</th>\n",
              "    </tr>\n",
              "  </thead>\n",
              "  <tbody>\n",
              "    <tr>\n",
              "      <th>0</th>\n",
              "      <td>1.473</td>\n",
              "      <td>2.311</td>\n",
              "      <td>3.179</td>\n",
              "      <td>2.666</td>\n",
              "      <td>0.2795</td>\n",
              "      <td>0.2771</td>\n",
              "      <td>0.22340</td>\n",
              "      <td>0.18550</td>\n",
              "      <td>0.2539</td>\n",
              "      <td>1.138</td>\n",
              "      <td>1.111</td>\n",
              "      <td>4.712</td>\n",
              "      <td>1</td>\n",
              "      <td>1</td>\n",
              "      <td>one</td>\n",
              "    </tr>\n",
              "    <tr>\n",
              "      <th>1</th>\n",
              "      <td>1.460</td>\n",
              "      <td>2.377</td>\n",
              "      <td>3.214</td>\n",
              "      <td>2.920</td>\n",
              "      <td>0.2527</td>\n",
              "      <td>0.3064</td>\n",
              "      <td>0.02563</td>\n",
              "      <td>0.19650</td>\n",
              "      <td>0.3027</td>\n",
              "      <td>1.213</td>\n",
              "      <td>1.027</td>\n",
              "      <td>5.463</td>\n",
              "      <td>1</td>\n",
              "      <td>1</td>\n",
              "      <td>one</td>\n",
              "    </tr>\n",
              "    <tr>\n",
              "      <th>2</th>\n",
              "      <td>1.552</td>\n",
              "      <td>2.164</td>\n",
              "      <td>3.064</td>\n",
              "      <td>2.745</td>\n",
              "      <td>0.2820</td>\n",
              "      <td>0.2100</td>\n",
              "      <td>0.17210</td>\n",
              "      <td>0.19290</td>\n",
              "      <td>0.2100</td>\n",
              "      <td>1.221</td>\n",
              "      <td>1.058</td>\n",
              "      <td>5.332</td>\n",
              "      <td>1</td>\n",
              "      <td>1</td>\n",
              "      <td>one</td>\n",
              "    </tr>\n",
              "    <tr>\n",
              "      <th>3</th>\n",
              "      <td>1.605</td>\n",
              "      <td>2.228</td>\n",
              "      <td>3.149</td>\n",
              "      <td>2.834</td>\n",
              "      <td>0.2917</td>\n",
              "      <td>0.3613</td>\n",
              "      <td>0.20870</td>\n",
              "      <td>0.12940</td>\n",
              "      <td>0.2734</td>\n",
              "      <td>1.144</td>\n",
              "      <td>1.062</td>\n",
              "      <td>4.829</td>\n",
              "      <td>1</td>\n",
              "      <td>1</td>\n",
              "      <td>one</td>\n",
              "    </tr>\n",
              "    <tr>\n",
              "      <th>4</th>\n",
              "      <td>1.534</td>\n",
              "      <td>2.114</td>\n",
              "      <td>3.309</td>\n",
              "      <td>2.976</td>\n",
              "      <td>0.2100</td>\n",
              "      <td>0.2502</td>\n",
              "      <td>0.22580</td>\n",
              "      <td>0.17700</td>\n",
              "      <td>0.2039</td>\n",
              "      <td>1.254</td>\n",
              "      <td>1.112</td>\n",
              "      <td>5.734</td>\n",
              "      <td>1</td>\n",
              "      <td>1</td>\n",
              "      <td>one</td>\n",
              "    </tr>\n",
              "    <tr>\n",
              "      <th>...</th>\n",
              "      <td>...</td>\n",
              "      <td>...</td>\n",
              "      <td>...</td>\n",
              "      <td>...</td>\n",
              "      <td>...</td>\n",
              "      <td>...</td>\n",
              "      <td>...</td>\n",
              "      <td>...</td>\n",
              "      <td>...</td>\n",
              "      <td>...</td>\n",
              "      <td>...</td>\n",
              "      <td>...</td>\n",
              "      <td>...</td>\n",
              "      <td>...</td>\n",
              "      <td>...</td>\n",
              "    </tr>\n",
              "    <tr>\n",
              "      <th>2207</th>\n",
              "      <td>3.682</td>\n",
              "      <td>1.301</td>\n",
              "      <td>4.939</td>\n",
              "      <td>4.453</td>\n",
              "      <td>0.4895</td>\n",
              "      <td>0.7922</td>\n",
              "      <td>0.23190</td>\n",
              "      <td>0.05005</td>\n",
              "      <td>0.3687</td>\n",
              "      <td>1.478</td>\n",
              "      <td>1.174</td>\n",
              "      <td>5.125</td>\n",
              "      <td>0</td>\n",
              "      <td>1</td>\n",
              "      <td>two</td>\n",
              "    </tr>\n",
              "    <tr>\n",
              "      <th>2208</th>\n",
              "      <td>3.412</td>\n",
              "      <td>1.293</td>\n",
              "      <td>4.949</td>\n",
              "      <td>4.199</td>\n",
              "      <td>0.4578</td>\n",
              "      <td>0.9521</td>\n",
              "      <td>0.21360</td>\n",
              "      <td>0.23070</td>\n",
              "      <td>0.4578</td>\n",
              "      <td>1.526</td>\n",
              "      <td>1.167</td>\n",
              "      <td>5.433</td>\n",
              "      <td>0</td>\n",
              "      <td>1</td>\n",
              "      <td>two</td>\n",
              "    </tr>\n",
              "    <tr>\n",
              "      <th>2209</th>\n",
              "      <td>3.640</td>\n",
              "      <td>1.284</td>\n",
              "      <td>5.111</td>\n",
              "      <td>4.460</td>\n",
              "      <td>0.5786</td>\n",
              "      <td>0.8020</td>\n",
              "      <td>0.26980</td>\n",
              "      <td>0.31740</td>\n",
              "      <td>0.4309</td>\n",
              "      <td>1.460</td>\n",
              "      <td>1.118</td>\n",
              "      <td>4.867</td>\n",
              "      <td>0</td>\n",
              "      <td>1</td>\n",
              "      <td>two</td>\n",
              "    </tr>\n",
              "    <tr>\n",
              "      <th>2210</th>\n",
              "      <td>3.746</td>\n",
              "      <td>1.261</td>\n",
              "      <td>5.049</td>\n",
              "      <td>4.885</td>\n",
              "      <td>0.5835</td>\n",
              "      <td>1.1470</td>\n",
              "      <td>0.32350</td>\n",
              "      <td>0.23070</td>\n",
              "      <td>0.4614</td>\n",
              "      <td>1.482</td>\n",
              "      <td>1.128</td>\n",
              "      <td>5.627</td>\n",
              "      <td>0</td>\n",
              "      <td>1</td>\n",
              "      <td>two</td>\n",
              "    </tr>\n",
              "    <tr>\n",
              "      <th>2211</th>\n",
              "      <td>3.959</td>\n",
              "      <td>1.108</td>\n",
              "      <td>5.422</td>\n",
              "      <td>4.835</td>\n",
              "      <td>0.5579</td>\n",
              "      <td>1.3230</td>\n",
              "      <td>0.51510</td>\n",
              "      <td>0.21000</td>\n",
              "      <td>0.5737</td>\n",
              "      <td>1.595</td>\n",
              "      <td>1.244</td>\n",
              "      <td>5.623</td>\n",
              "      <td>0</td>\n",
              "      <td>1</td>\n",
              "      <td>two</td>\n",
              "    </tr>\n",
              "  </tbody>\n",
              "</table>\n",
              "<p>2212 rows × 15 columns</p>\n",
              "</div>"
            ],
            "text/plain": [
              "      Input 1  Input 2  Input 3  Input 4  ...  Input 12  output1  output2  class\n",
              "0       1.473    2.311    3.179    2.666  ...     4.712        1        1    one\n",
              "1       1.460    2.377    3.214    2.920  ...     5.463        1        1    one\n",
              "2       1.552    2.164    3.064    2.745  ...     5.332        1        1    one\n",
              "3       1.605    2.228    3.149    2.834  ...     4.829        1        1    one\n",
              "4       1.534    2.114    3.309    2.976  ...     5.734        1        1    one\n",
              "...       ...      ...      ...      ...  ...       ...      ...      ...    ...\n",
              "2207    3.682    1.301    4.939    4.453  ...     5.125        0        1    two\n",
              "2208    3.412    1.293    4.949    4.199  ...     5.433        0        1    two\n",
              "2209    3.640    1.284    5.111    4.460  ...     4.867        0        1    two\n",
              "2210    3.746    1.261    5.049    4.885  ...     5.627        0        1    two\n",
              "2211    3.959    1.108    5.422    4.835  ...     5.623        0        1    two\n",
              "\n",
              "[2212 rows x 15 columns]"
            ]
          },
          "metadata": {
            "tags": []
          },
          "execution_count": 7
        }
      ]
    },
    {
      "cell_type": "code",
      "metadata": {
        "id": "pQNAIr_Dn2v6",
        "colab_type": "code",
        "colab": {
          "base_uri": "https://localhost:8080/",
          "height": 239
        },
        "outputId": "6d426cc2-5d6a-4929-aa59-7811602ae764"
      },
      "source": [
        "xls.head()"
      ],
      "execution_count": 8,
      "outputs": [
        {
          "output_type": "execute_result",
          "data": {
            "text/html": [
              "<div>\n",
              "<style scoped>\n",
              "    .dataframe tbody tr th:only-of-type {\n",
              "        vertical-align: middle;\n",
              "    }\n",
              "\n",
              "    .dataframe tbody tr th {\n",
              "        vertical-align: top;\n",
              "    }\n",
              "\n",
              "    .dataframe thead th {\n",
              "        text-align: right;\n",
              "    }\n",
              "</style>\n",
              "<table border=\"1\" class=\"dataframe\">\n",
              "  <thead>\n",
              "    <tr style=\"text-align: right;\">\n",
              "      <th></th>\n",
              "      <th>Input 1</th>\n",
              "      <th>Input 2</th>\n",
              "      <th>Input 3</th>\n",
              "      <th>Input 4</th>\n",
              "      <th>Input 5</th>\n",
              "      <th>Input 6</th>\n",
              "      <th>Input 7</th>\n",
              "      <th>Input 8</th>\n",
              "      <th>Input 9</th>\n",
              "      <th>Input 10</th>\n",
              "      <th>Input 11</th>\n",
              "      <th>Input 12</th>\n",
              "      <th>output1</th>\n",
              "      <th>output2</th>\n",
              "      <th>class</th>\n",
              "    </tr>\n",
              "  </thead>\n",
              "  <tbody>\n",
              "    <tr>\n",
              "      <th>0</th>\n",
              "      <td>1.473</td>\n",
              "      <td>2.311</td>\n",
              "      <td>3.179</td>\n",
              "      <td>2.666</td>\n",
              "      <td>0.2795</td>\n",
              "      <td>0.2771</td>\n",
              "      <td>0.22340</td>\n",
              "      <td>0.1855</td>\n",
              "      <td>0.2539</td>\n",
              "      <td>1.138</td>\n",
              "      <td>1.111</td>\n",
              "      <td>4.712</td>\n",
              "      <td>1</td>\n",
              "      <td>1</td>\n",
              "      <td>one</td>\n",
              "    </tr>\n",
              "    <tr>\n",
              "      <th>1</th>\n",
              "      <td>1.460</td>\n",
              "      <td>2.377</td>\n",
              "      <td>3.214</td>\n",
              "      <td>2.920</td>\n",
              "      <td>0.2527</td>\n",
              "      <td>0.3064</td>\n",
              "      <td>0.02563</td>\n",
              "      <td>0.1965</td>\n",
              "      <td>0.3027</td>\n",
              "      <td>1.213</td>\n",
              "      <td>1.027</td>\n",
              "      <td>5.463</td>\n",
              "      <td>1</td>\n",
              "      <td>1</td>\n",
              "      <td>one</td>\n",
              "    </tr>\n",
              "    <tr>\n",
              "      <th>2</th>\n",
              "      <td>1.552</td>\n",
              "      <td>2.164</td>\n",
              "      <td>3.064</td>\n",
              "      <td>2.745</td>\n",
              "      <td>0.2820</td>\n",
              "      <td>0.2100</td>\n",
              "      <td>0.17210</td>\n",
              "      <td>0.1929</td>\n",
              "      <td>0.2100</td>\n",
              "      <td>1.221</td>\n",
              "      <td>1.058</td>\n",
              "      <td>5.332</td>\n",
              "      <td>1</td>\n",
              "      <td>1</td>\n",
              "      <td>one</td>\n",
              "    </tr>\n",
              "    <tr>\n",
              "      <th>3</th>\n",
              "      <td>1.605</td>\n",
              "      <td>2.228</td>\n",
              "      <td>3.149</td>\n",
              "      <td>2.834</td>\n",
              "      <td>0.2917</td>\n",
              "      <td>0.3613</td>\n",
              "      <td>0.20870</td>\n",
              "      <td>0.1294</td>\n",
              "      <td>0.2734</td>\n",
              "      <td>1.144</td>\n",
              "      <td>1.062</td>\n",
              "      <td>4.829</td>\n",
              "      <td>1</td>\n",
              "      <td>1</td>\n",
              "      <td>one</td>\n",
              "    </tr>\n",
              "    <tr>\n",
              "      <th>4</th>\n",
              "      <td>1.534</td>\n",
              "      <td>2.114</td>\n",
              "      <td>3.309</td>\n",
              "      <td>2.976</td>\n",
              "      <td>0.2100</td>\n",
              "      <td>0.2502</td>\n",
              "      <td>0.22580</td>\n",
              "      <td>0.1770</td>\n",
              "      <td>0.2039</td>\n",
              "      <td>1.254</td>\n",
              "      <td>1.112</td>\n",
              "      <td>5.734</td>\n",
              "      <td>1</td>\n",
              "      <td>1</td>\n",
              "      <td>one</td>\n",
              "    </tr>\n",
              "  </tbody>\n",
              "</table>\n",
              "</div>"
            ],
            "text/plain": [
              "   Input 1  Input 2  Input 3  Input 4  ...  Input 12  output1  output2  class\n",
              "0    1.473    2.311    3.179    2.666  ...     4.712        1        1    one\n",
              "1    1.460    2.377    3.214    2.920  ...     5.463        1        1    one\n",
              "2    1.552    2.164    3.064    2.745  ...     5.332        1        1    one\n",
              "3    1.605    2.228    3.149    2.834  ...     4.829        1        1    one\n",
              "4    1.534    2.114    3.309    2.976  ...     5.734        1        1    one\n",
              "\n",
              "[5 rows x 15 columns]"
            ]
          },
          "metadata": {
            "tags": []
          },
          "execution_count": 8
        }
      ]
    },
    {
      "cell_type": "code",
      "metadata": {
        "id": "l3Uy3lcKtku1",
        "colab_type": "code",
        "colab": {
          "base_uri": "https://localhost:8080/",
          "height": 393
        },
        "outputId": "e779111f-09a2-4653-c021-d0755d268ce4"
      },
      "source": [
        "xls.tail(10)"
      ],
      "execution_count": 9,
      "outputs": [
        {
          "output_type": "execute_result",
          "data": {
            "text/html": [
              "<div>\n",
              "<style scoped>\n",
              "    .dataframe tbody tr th:only-of-type {\n",
              "        vertical-align: middle;\n",
              "    }\n",
              "\n",
              "    .dataframe tbody tr th {\n",
              "        vertical-align: top;\n",
              "    }\n",
              "\n",
              "    .dataframe thead th {\n",
              "        text-align: right;\n",
              "    }\n",
              "</style>\n",
              "<table border=\"1\" class=\"dataframe\">\n",
              "  <thead>\n",
              "    <tr style=\"text-align: right;\">\n",
              "      <th></th>\n",
              "      <th>Input 1</th>\n",
              "      <th>Input 2</th>\n",
              "      <th>Input 3</th>\n",
              "      <th>Input 4</th>\n",
              "      <th>Input 5</th>\n",
              "      <th>Input 6</th>\n",
              "      <th>Input 7</th>\n",
              "      <th>Input 8</th>\n",
              "      <th>Input 9</th>\n",
              "      <th>Input 10</th>\n",
              "      <th>Input 11</th>\n",
              "      <th>Input 12</th>\n",
              "      <th>output1</th>\n",
              "      <th>output2</th>\n",
              "      <th>class</th>\n",
              "    </tr>\n",
              "  </thead>\n",
              "  <tbody>\n",
              "    <tr>\n",
              "      <th>2202</th>\n",
              "      <td>4.257</td>\n",
              "      <td>0.9558</td>\n",
              "      <td>5.598</td>\n",
              "      <td>5.454</td>\n",
              "      <td>0.8105</td>\n",
              "      <td>2.0510</td>\n",
              "      <td>0.3748</td>\n",
              "      <td>0.30150</td>\n",
              "      <td>0.7971</td>\n",
              "      <td>2.643</td>\n",
              "      <td>1.604</td>\n",
              "      <td>5.044</td>\n",
              "      <td>0</td>\n",
              "      <td>1</td>\n",
              "      <td>two</td>\n",
              "    </tr>\n",
              "    <tr>\n",
              "      <th>2203</th>\n",
              "      <td>4.032</td>\n",
              "      <td>0.7959</td>\n",
              "      <td>5.350</td>\n",
              "      <td>5.460</td>\n",
              "      <td>0.7483</td>\n",
              "      <td>1.9060</td>\n",
              "      <td>0.4480</td>\n",
              "      <td>0.30760</td>\n",
              "      <td>0.8521</td>\n",
              "      <td>2.377</td>\n",
              "      <td>1.570</td>\n",
              "      <td>5.468</td>\n",
              "      <td>0</td>\n",
              "      <td>1</td>\n",
              "      <td>two</td>\n",
              "    </tr>\n",
              "    <tr>\n",
              "      <th>2204</th>\n",
              "      <td>3.976</td>\n",
              "      <td>0.8899</td>\n",
              "      <td>5.543</td>\n",
              "      <td>4.835</td>\n",
              "      <td>0.7507</td>\n",
              "      <td>1.7350</td>\n",
              "      <td>0.5530</td>\n",
              "      <td>0.41500</td>\n",
              "      <td>0.7495</td>\n",
              "      <td>2.220</td>\n",
              "      <td>1.732</td>\n",
              "      <td>5.015</td>\n",
              "      <td>0</td>\n",
              "      <td>1</td>\n",
              "      <td>two</td>\n",
              "    </tr>\n",
              "    <tr>\n",
              "      <th>2205</th>\n",
              "      <td>3.453</td>\n",
              "      <td>1.4810</td>\n",
              "      <td>4.355</td>\n",
              "      <td>4.058</td>\n",
              "      <td>0.4578</td>\n",
              "      <td>0.4102</td>\n",
              "      <td>0.1843</td>\n",
              "      <td>0.13920</td>\n",
              "      <td>0.5103</td>\n",
              "      <td>1.552</td>\n",
              "      <td>1.187</td>\n",
              "      <td>5.563</td>\n",
              "      <td>0</td>\n",
              "      <td>1</td>\n",
              "      <td>two</td>\n",
              "    </tr>\n",
              "    <tr>\n",
              "      <th>2206</th>\n",
              "      <td>3.401</td>\n",
              "      <td>1.2260</td>\n",
              "      <td>4.624</td>\n",
              "      <td>4.265</td>\n",
              "      <td>0.4028</td>\n",
              "      <td>0.5481</td>\n",
              "      <td>0.2576</td>\n",
              "      <td>0.14770</td>\n",
              "      <td>0.3308</td>\n",
              "      <td>1.497</td>\n",
              "      <td>1.240</td>\n",
              "      <td>4.757</td>\n",
              "      <td>0</td>\n",
              "      <td>1</td>\n",
              "      <td>two</td>\n",
              "    </tr>\n",
              "    <tr>\n",
              "      <th>2207</th>\n",
              "      <td>3.682</td>\n",
              "      <td>1.3010</td>\n",
              "      <td>4.939</td>\n",
              "      <td>4.453</td>\n",
              "      <td>0.4895</td>\n",
              "      <td>0.7922</td>\n",
              "      <td>0.2319</td>\n",
              "      <td>0.05005</td>\n",
              "      <td>0.3687</td>\n",
              "      <td>1.478</td>\n",
              "      <td>1.174</td>\n",
              "      <td>5.125</td>\n",
              "      <td>0</td>\n",
              "      <td>1</td>\n",
              "      <td>two</td>\n",
              "    </tr>\n",
              "    <tr>\n",
              "      <th>2208</th>\n",
              "      <td>3.412</td>\n",
              "      <td>1.2930</td>\n",
              "      <td>4.949</td>\n",
              "      <td>4.199</td>\n",
              "      <td>0.4578</td>\n",
              "      <td>0.9521</td>\n",
              "      <td>0.2136</td>\n",
              "      <td>0.23070</td>\n",
              "      <td>0.4578</td>\n",
              "      <td>1.526</td>\n",
              "      <td>1.167</td>\n",
              "      <td>5.433</td>\n",
              "      <td>0</td>\n",
              "      <td>1</td>\n",
              "      <td>two</td>\n",
              "    </tr>\n",
              "    <tr>\n",
              "      <th>2209</th>\n",
              "      <td>3.640</td>\n",
              "      <td>1.2840</td>\n",
              "      <td>5.111</td>\n",
              "      <td>4.460</td>\n",
              "      <td>0.5786</td>\n",
              "      <td>0.8020</td>\n",
              "      <td>0.2698</td>\n",
              "      <td>0.31740</td>\n",
              "      <td>0.4309</td>\n",
              "      <td>1.460</td>\n",
              "      <td>1.118</td>\n",
              "      <td>4.867</td>\n",
              "      <td>0</td>\n",
              "      <td>1</td>\n",
              "      <td>two</td>\n",
              "    </tr>\n",
              "    <tr>\n",
              "      <th>2210</th>\n",
              "      <td>3.746</td>\n",
              "      <td>1.2610</td>\n",
              "      <td>5.049</td>\n",
              "      <td>4.885</td>\n",
              "      <td>0.5835</td>\n",
              "      <td>1.1470</td>\n",
              "      <td>0.3235</td>\n",
              "      <td>0.23070</td>\n",
              "      <td>0.4614</td>\n",
              "      <td>1.482</td>\n",
              "      <td>1.128</td>\n",
              "      <td>5.627</td>\n",
              "      <td>0</td>\n",
              "      <td>1</td>\n",
              "      <td>two</td>\n",
              "    </tr>\n",
              "    <tr>\n",
              "      <th>2211</th>\n",
              "      <td>3.959</td>\n",
              "      <td>1.1080</td>\n",
              "      <td>5.422</td>\n",
              "      <td>4.835</td>\n",
              "      <td>0.5579</td>\n",
              "      <td>1.3230</td>\n",
              "      <td>0.5151</td>\n",
              "      <td>0.21000</td>\n",
              "      <td>0.5737</td>\n",
              "      <td>1.595</td>\n",
              "      <td>1.244</td>\n",
              "      <td>5.623</td>\n",
              "      <td>0</td>\n",
              "      <td>1</td>\n",
              "      <td>two</td>\n",
              "    </tr>\n",
              "  </tbody>\n",
              "</table>\n",
              "</div>"
            ],
            "text/plain": [
              "      Input 1  Input 2  Input 3  Input 4  ...  Input 12  output1  output2  class\n",
              "2202    4.257   0.9558    5.598    5.454  ...     5.044        0        1    two\n",
              "2203    4.032   0.7959    5.350    5.460  ...     5.468        0        1    two\n",
              "2204    3.976   0.8899    5.543    4.835  ...     5.015        0        1    two\n",
              "2205    3.453   1.4810    4.355    4.058  ...     5.563        0        1    two\n",
              "2206    3.401   1.2260    4.624    4.265  ...     4.757        0        1    two\n",
              "2207    3.682   1.3010    4.939    4.453  ...     5.125        0        1    two\n",
              "2208    3.412   1.2930    4.949    4.199  ...     5.433        0        1    two\n",
              "2209    3.640   1.2840    5.111    4.460  ...     4.867        0        1    two\n",
              "2210    3.746   1.2610    5.049    4.885  ...     5.627        0        1    two\n",
              "2211    3.959   1.1080    5.422    4.835  ...     5.623        0        1    two\n",
              "\n",
              "[10 rows x 15 columns]"
            ]
          },
          "metadata": {
            "tags": []
          },
          "execution_count": 9
        }
      ]
    },
    {
      "cell_type": "code",
      "metadata": {
        "id": "GlWWHZTbtrqD",
        "colab_type": "code",
        "colab": {
          "base_uri": "https://localhost:8080/",
          "height": 178
        },
        "outputId": "30bb476d-5889-472c-cd80-56a7cdcd499c"
      },
      "source": [
        "xls.sample(3)"
      ],
      "execution_count": 10,
      "outputs": [
        {
          "output_type": "execute_result",
          "data": {
            "text/html": [
              "<div>\n",
              "<style scoped>\n",
              "    .dataframe tbody tr th:only-of-type {\n",
              "        vertical-align: middle;\n",
              "    }\n",
              "\n",
              "    .dataframe tbody tr th {\n",
              "        vertical-align: top;\n",
              "    }\n",
              "\n",
              "    .dataframe thead th {\n",
              "        text-align: right;\n",
              "    }\n",
              "</style>\n",
              "<table border=\"1\" class=\"dataframe\">\n",
              "  <thead>\n",
              "    <tr style=\"text-align: right;\">\n",
              "      <th></th>\n",
              "      <th>Input 1</th>\n",
              "      <th>Input 2</th>\n",
              "      <th>Input 3</th>\n",
              "      <th>Input 4</th>\n",
              "      <th>Input 5</th>\n",
              "      <th>Input 6</th>\n",
              "      <th>Input 7</th>\n",
              "      <th>Input 8</th>\n",
              "      <th>Input 9</th>\n",
              "      <th>Input 10</th>\n",
              "      <th>Input 11</th>\n",
              "      <th>Input 12</th>\n",
              "      <th>output1</th>\n",
              "      <th>output2</th>\n",
              "      <th>class</th>\n",
              "    </tr>\n",
              "  </thead>\n",
              "  <tbody>\n",
              "    <tr>\n",
              "      <th>677</th>\n",
              "      <td>2.756</td>\n",
              "      <td>2.3500</td>\n",
              "      <td>4.897</td>\n",
              "      <td>4.081</td>\n",
              "      <td>0.4285</td>\n",
              "      <td>0.4675</td>\n",
              "      <td>0.3662</td>\n",
              "      <td>0.3162</td>\n",
              "      <td>0.4236</td>\n",
              "      <td>1.650</td>\n",
              "      <td>1.052</td>\n",
              "      <td>5.0950</td>\n",
              "      <td>0</td>\n",
              "      <td>1</td>\n",
              "      <td>two</td>\n",
              "    </tr>\n",
              "    <tr>\n",
              "      <th>514</th>\n",
              "      <td>4.133</td>\n",
              "      <td>0.8459</td>\n",
              "      <td>5.365</td>\n",
              "      <td>5.209</td>\n",
              "      <td>0.7019</td>\n",
              "      <td>1.7630</td>\n",
              "      <td>0.5920</td>\n",
              "      <td>0.2612</td>\n",
              "      <td>0.7800</td>\n",
              "      <td>2.605</td>\n",
              "      <td>1.469</td>\n",
              "      <td>5.4240</td>\n",
              "      <td>0</td>\n",
              "      <td>1</td>\n",
              "      <td>two</td>\n",
              "    </tr>\n",
              "    <tr>\n",
              "      <th>1052</th>\n",
              "      <td>4.714</td>\n",
              "      <td>0.5640</td>\n",
              "      <td>5.775</td>\n",
              "      <td>5.892</td>\n",
              "      <td>2.2940</td>\n",
              "      <td>2.5620</td>\n",
              "      <td>2.0620</td>\n",
              "      <td>1.0820</td>\n",
              "      <td>1.8300</td>\n",
              "      <td>5.068</td>\n",
              "      <td>1.823</td>\n",
              "      <td>0.8655</td>\n",
              "      <td>1</td>\n",
              "      <td>0</td>\n",
              "      <td>three</td>\n",
              "    </tr>\n",
              "  </tbody>\n",
              "</table>\n",
              "</div>"
            ],
            "text/plain": [
              "      Input 1  Input 2  Input 3  Input 4  ...  Input 12  output1  output2  class\n",
              "677     2.756   2.3500    4.897    4.081  ...    5.0950        0        1    two\n",
              "514     4.133   0.8459    5.365    5.209  ...    5.4240        0        1    two\n",
              "1052    4.714   0.5640    5.775    5.892  ...    0.8655        1        0  three\n",
              "\n",
              "[3 rows x 15 columns]"
            ]
          },
          "metadata": {
            "tags": []
          },
          "execution_count": 10
        }
      ]
    },
    {
      "cell_type": "code",
      "metadata": {
        "id": "hlnvl2_ct0A1",
        "colab_type": "code",
        "colab": {
          "base_uri": "https://localhost:8080/",
          "height": 35
        },
        "outputId": "db927e4e-344d-4743-d9d2-b5d2b27be52b"
      },
      "source": [
        "# what type of data you have\n",
        "print(type(xls))"
      ],
      "execution_count": 11,
      "outputs": [
        {
          "output_type": "stream",
          "text": [
            "<class 'pandas.core.frame.DataFrame'>\n"
          ],
          "name": "stdout"
        }
      ]
    },
    {
      "cell_type": "code",
      "metadata": {
        "id": "QBJO4167t0KC",
        "colab_type": "code",
        "colab": {
          "base_uri": "https://localhost:8080/",
          "height": 453
        },
        "outputId": "af328d06-8e6e-40f4-880e-f00cf590b89a"
      },
      "source": [
        "# In the data you have observed are there any missing values(NaN)\n",
        "xls.isnull()"
      ],
      "execution_count": 12,
      "outputs": [
        {
          "output_type": "execute_result",
          "data": {
            "text/html": [
              "<div>\n",
              "<style scoped>\n",
              "    .dataframe tbody tr th:only-of-type {\n",
              "        vertical-align: middle;\n",
              "    }\n",
              "\n",
              "    .dataframe tbody tr th {\n",
              "        vertical-align: top;\n",
              "    }\n",
              "\n",
              "    .dataframe thead th {\n",
              "        text-align: right;\n",
              "    }\n",
              "</style>\n",
              "<table border=\"1\" class=\"dataframe\">\n",
              "  <thead>\n",
              "    <tr style=\"text-align: right;\">\n",
              "      <th></th>\n",
              "      <th>Input 1</th>\n",
              "      <th>Input 2</th>\n",
              "      <th>Input 3</th>\n",
              "      <th>Input 4</th>\n",
              "      <th>Input 5</th>\n",
              "      <th>Input 6</th>\n",
              "      <th>Input 7</th>\n",
              "      <th>Input 8</th>\n",
              "      <th>Input 9</th>\n",
              "      <th>Input 10</th>\n",
              "      <th>Input 11</th>\n",
              "      <th>Input 12</th>\n",
              "      <th>output1</th>\n",
              "      <th>output2</th>\n",
              "      <th>class</th>\n",
              "    </tr>\n",
              "  </thead>\n",
              "  <tbody>\n",
              "    <tr>\n",
              "      <th>0</th>\n",
              "      <td>False</td>\n",
              "      <td>False</td>\n",
              "      <td>False</td>\n",
              "      <td>False</td>\n",
              "      <td>False</td>\n",
              "      <td>False</td>\n",
              "      <td>False</td>\n",
              "      <td>False</td>\n",
              "      <td>False</td>\n",
              "      <td>False</td>\n",
              "      <td>False</td>\n",
              "      <td>False</td>\n",
              "      <td>False</td>\n",
              "      <td>False</td>\n",
              "      <td>False</td>\n",
              "    </tr>\n",
              "    <tr>\n",
              "      <th>1</th>\n",
              "      <td>False</td>\n",
              "      <td>False</td>\n",
              "      <td>False</td>\n",
              "      <td>False</td>\n",
              "      <td>False</td>\n",
              "      <td>False</td>\n",
              "      <td>False</td>\n",
              "      <td>False</td>\n",
              "      <td>False</td>\n",
              "      <td>False</td>\n",
              "      <td>False</td>\n",
              "      <td>False</td>\n",
              "      <td>False</td>\n",
              "      <td>False</td>\n",
              "      <td>False</td>\n",
              "    </tr>\n",
              "    <tr>\n",
              "      <th>2</th>\n",
              "      <td>False</td>\n",
              "      <td>False</td>\n",
              "      <td>False</td>\n",
              "      <td>False</td>\n",
              "      <td>False</td>\n",
              "      <td>False</td>\n",
              "      <td>False</td>\n",
              "      <td>False</td>\n",
              "      <td>False</td>\n",
              "      <td>False</td>\n",
              "      <td>False</td>\n",
              "      <td>False</td>\n",
              "      <td>False</td>\n",
              "      <td>False</td>\n",
              "      <td>False</td>\n",
              "    </tr>\n",
              "    <tr>\n",
              "      <th>3</th>\n",
              "      <td>False</td>\n",
              "      <td>False</td>\n",
              "      <td>False</td>\n",
              "      <td>False</td>\n",
              "      <td>False</td>\n",
              "      <td>False</td>\n",
              "      <td>False</td>\n",
              "      <td>False</td>\n",
              "      <td>False</td>\n",
              "      <td>False</td>\n",
              "      <td>False</td>\n",
              "      <td>False</td>\n",
              "      <td>False</td>\n",
              "      <td>False</td>\n",
              "      <td>False</td>\n",
              "    </tr>\n",
              "    <tr>\n",
              "      <th>4</th>\n",
              "      <td>False</td>\n",
              "      <td>False</td>\n",
              "      <td>False</td>\n",
              "      <td>False</td>\n",
              "      <td>False</td>\n",
              "      <td>False</td>\n",
              "      <td>False</td>\n",
              "      <td>False</td>\n",
              "      <td>False</td>\n",
              "      <td>False</td>\n",
              "      <td>False</td>\n",
              "      <td>False</td>\n",
              "      <td>False</td>\n",
              "      <td>False</td>\n",
              "      <td>False</td>\n",
              "    </tr>\n",
              "    <tr>\n",
              "      <th>...</th>\n",
              "      <td>...</td>\n",
              "      <td>...</td>\n",
              "      <td>...</td>\n",
              "      <td>...</td>\n",
              "      <td>...</td>\n",
              "      <td>...</td>\n",
              "      <td>...</td>\n",
              "      <td>...</td>\n",
              "      <td>...</td>\n",
              "      <td>...</td>\n",
              "      <td>...</td>\n",
              "      <td>...</td>\n",
              "      <td>...</td>\n",
              "      <td>...</td>\n",
              "      <td>...</td>\n",
              "    </tr>\n",
              "    <tr>\n",
              "      <th>2207</th>\n",
              "      <td>False</td>\n",
              "      <td>False</td>\n",
              "      <td>False</td>\n",
              "      <td>False</td>\n",
              "      <td>False</td>\n",
              "      <td>False</td>\n",
              "      <td>False</td>\n",
              "      <td>False</td>\n",
              "      <td>False</td>\n",
              "      <td>False</td>\n",
              "      <td>False</td>\n",
              "      <td>False</td>\n",
              "      <td>False</td>\n",
              "      <td>False</td>\n",
              "      <td>False</td>\n",
              "    </tr>\n",
              "    <tr>\n",
              "      <th>2208</th>\n",
              "      <td>False</td>\n",
              "      <td>False</td>\n",
              "      <td>False</td>\n",
              "      <td>False</td>\n",
              "      <td>False</td>\n",
              "      <td>False</td>\n",
              "      <td>False</td>\n",
              "      <td>False</td>\n",
              "      <td>False</td>\n",
              "      <td>False</td>\n",
              "      <td>False</td>\n",
              "      <td>False</td>\n",
              "      <td>False</td>\n",
              "      <td>False</td>\n",
              "      <td>False</td>\n",
              "    </tr>\n",
              "    <tr>\n",
              "      <th>2209</th>\n",
              "      <td>False</td>\n",
              "      <td>False</td>\n",
              "      <td>False</td>\n",
              "      <td>False</td>\n",
              "      <td>False</td>\n",
              "      <td>False</td>\n",
              "      <td>False</td>\n",
              "      <td>False</td>\n",
              "      <td>False</td>\n",
              "      <td>False</td>\n",
              "      <td>False</td>\n",
              "      <td>False</td>\n",
              "      <td>False</td>\n",
              "      <td>False</td>\n",
              "      <td>False</td>\n",
              "    </tr>\n",
              "    <tr>\n",
              "      <th>2210</th>\n",
              "      <td>False</td>\n",
              "      <td>False</td>\n",
              "      <td>False</td>\n",
              "      <td>False</td>\n",
              "      <td>False</td>\n",
              "      <td>False</td>\n",
              "      <td>False</td>\n",
              "      <td>False</td>\n",
              "      <td>False</td>\n",
              "      <td>False</td>\n",
              "      <td>False</td>\n",
              "      <td>False</td>\n",
              "      <td>False</td>\n",
              "      <td>False</td>\n",
              "      <td>False</td>\n",
              "    </tr>\n",
              "    <tr>\n",
              "      <th>2211</th>\n",
              "      <td>False</td>\n",
              "      <td>False</td>\n",
              "      <td>False</td>\n",
              "      <td>False</td>\n",
              "      <td>False</td>\n",
              "      <td>False</td>\n",
              "      <td>False</td>\n",
              "      <td>False</td>\n",
              "      <td>False</td>\n",
              "      <td>False</td>\n",
              "      <td>False</td>\n",
              "      <td>False</td>\n",
              "      <td>False</td>\n",
              "      <td>False</td>\n",
              "      <td>False</td>\n",
              "    </tr>\n",
              "  </tbody>\n",
              "</table>\n",
              "<p>2212 rows × 15 columns</p>\n",
              "</div>"
            ],
            "text/plain": [
              "      Input 1  Input 2  Input 3  Input 4  ...  Input 12  output1  output2  class\n",
              "0       False    False    False    False  ...     False    False    False  False\n",
              "1       False    False    False    False  ...     False    False    False  False\n",
              "2       False    False    False    False  ...     False    False    False  False\n",
              "3       False    False    False    False  ...     False    False    False  False\n",
              "4       False    False    False    False  ...     False    False    False  False\n",
              "...       ...      ...      ...      ...  ...       ...      ...      ...    ...\n",
              "2207    False    False    False    False  ...     False    False    False  False\n",
              "2208    False    False    False    False  ...     False    False    False  False\n",
              "2209    False    False    False    False  ...     False    False    False  False\n",
              "2210    False    False    False    False  ...     False    False    False  False\n",
              "2211    False    False    False    False  ...     False    False    False  False\n",
              "\n",
              "[2212 rows x 15 columns]"
            ]
          },
          "metadata": {
            "tags": []
          },
          "execution_count": 12
        }
      ]
    },
    {
      "cell_type": "code",
      "metadata": {
        "id": "wc8xqTxxt-5S",
        "colab_type": "code",
        "colab": {
          "base_uri": "https://localhost:8080/",
          "height": 295
        },
        "outputId": "757e0c3a-7ac1-4024-bdad-5faec7693a0a"
      },
      "source": [
        "# print the datatype of each column\n",
        "xls.dtypes"
      ],
      "execution_count": 13,
      "outputs": [
        {
          "output_type": "execute_result",
          "data": {
            "text/plain": [
              "Input 1      float64\n",
              "Input 2      float64\n",
              "Input 3      float64\n",
              "Input 4      float64\n",
              "Input 5      float64\n",
              "Input 6      float64\n",
              "Input 7      float64\n",
              "Input 8      float64\n",
              "Input 9      float64\n",
              "Input 10     float64\n",
              "Input 11     float64\n",
              "Input 12     float64\n",
              "output1        int64\n",
              "output2        int64\n",
              "class         object\n",
              "dtype: object"
            ]
          },
          "metadata": {
            "tags": []
          },
          "execution_count": 13
        }
      ]
    },
    {
      "cell_type": "code",
      "metadata": {
        "id": "xXINTunxuDMh",
        "colab_type": "code",
        "colab": {
          "base_uri": "https://localhost:8080/",
          "height": 87
        },
        "outputId": "2489f74f-9ce7-495d-8bd6-630ce9da04ef"
      },
      "source": [
        "# For each datatype how many columns are there\n",
        "xls.dtypes.value_counts()"
      ],
      "execution_count": 14,
      "outputs": [
        {
          "output_type": "execute_result",
          "data": {
            "text/plain": [
              "float64    12\n",
              "int64       2\n",
              "object      1\n",
              "dtype: int64"
            ]
          },
          "metadata": {
            "tags": []
          },
          "execution_count": 14
        }
      ]
    },
    {
      "cell_type": "code",
      "metadata": {
        "id": "Livy3GhhuHIQ",
        "colab_type": "code",
        "colab": {
          "base_uri": "https://localhost:8080/",
          "height": 35
        },
        "outputId": "d2629448-1e16-49b5-9bcd-bcc2f0032a7c"
      },
      "source": [
        "# Choose any specific column\n",
        "# check its data type\n",
        "type(xls[\"Input 3\"])"
      ],
      "execution_count": 15,
      "outputs": [
        {
          "output_type": "execute_result",
          "data": {
            "text/plain": [
              "pandas.core.series.Series"
            ]
          },
          "metadata": {
            "tags": []
          },
          "execution_count": 15
        }
      ]
    },
    {
      "cell_type": "code",
      "metadata": {
        "id": "jjLt7ToyuObd",
        "colab_type": "code",
        "colab": {
          "base_uri": "https://localhost:8080/",
          "height": 35
        },
        "outputId": "5e1d6cfb-e256-4fc1-e9ea-b16edb470a6f"
      },
      "source": [
        "# check how many non null values are there\n",
        "xls[\"Input 3\"].notnull().sum()"
      ],
      "execution_count": 16,
      "outputs": [
        {
          "output_type": "execute_result",
          "data": {
            "text/plain": [
              "2212"
            ]
          },
          "metadata": {
            "tags": []
          },
          "execution_count": 16
        }
      ]
    },
    {
      "cell_type": "code",
      "metadata": {
        "id": "cct7rAC8uXaH",
        "colab_type": "code",
        "colab": {
          "base_uri": "https://localhost:8080/",
          "height": 35
        },
        "outputId": "59005e5e-f6e1-4ac7-a517-251be5dc2b7c"
      },
      "source": [
        "# If it is numerical column\n",
        "# caluculate min,max,mean,mode,sum,std,median\n",
        "# calculate 25%,50%,75% quartile values uisng np.quantile\n",
        "# calculate the range\n",
        "xls[\"Input 3\"].dtypes"
      ],
      "execution_count": 17,
      "outputs": [
        {
          "output_type": "execute_result",
          "data": {
            "text/plain": [
              "dtype('float64')"
            ]
          },
          "metadata": {
            "tags": []
          },
          "execution_count": 17
        }
      ]
    },
    {
      "cell_type": "code",
      "metadata": {
        "id": "pWu_gVx3ucZO",
        "colab_type": "code",
        "colab": {}
      },
      "source": [
        "xls[\"Input 3\"].describe()"
      ],
      "execution_count": 0,
      "outputs": []
    },
    {
      "cell_type": "code",
      "metadata": {
        "id": "2ws7Bz4RukEO",
        "colab_type": "code",
        "colab": {
          "base_uri": "https://localhost:8080/",
          "height": 87
        },
        "outputId": "43b43db1-78d0-4a9b-b312-cbecf6ee7c05"
      },
      "source": [
        "xls[\"Input 3\"].mode()"
      ],
      "execution_count": 18,
      "outputs": [
        {
          "output_type": "execute_result",
          "data": {
            "text/plain": [
              "0    5.245\n",
              "1    5.564\n",
              "2    5.707\n",
              "dtype: float64"
            ]
          },
          "metadata": {
            "tags": []
          },
          "execution_count": 18
        }
      ]
    },
    {
      "cell_type": "code",
      "metadata": {
        "id": "WhPAZw0GuqDd",
        "colab_type": "code",
        "colab": {
          "base_uri": "https://localhost:8080/",
          "height": 35
        },
        "outputId": "cc788a53-503f-45a6-dade-4657e1fa04ee"
      },
      "source": [
        "xls[\"Input 3\"].median()"
      ],
      "execution_count": 19,
      "outputs": [
        {
          "output_type": "execute_result",
          "data": {
            "text/plain": [
              "5.319"
            ]
          },
          "metadata": {
            "tags": []
          },
          "execution_count": 19
        }
      ]
    },
    {
      "cell_type": "code",
      "metadata": {
        "id": "1G6WlYL7vHLv",
        "colab_type": "code",
        "colab": {
          "base_uri": "https://localhost:8080/",
          "height": 225
        },
        "outputId": "ab785efe-fce1-4ef9-a60e-187f2e404807"
      },
      "source": [
        "# it is a categorical column calculate\n",
        "# the count\n",
        "# unique value count\n",
        "# unique values\n",
        "# frequency for each unique value\n",
        "xls['class']"
      ],
      "execution_count": 20,
      "outputs": [
        {
          "output_type": "execute_result",
          "data": {
            "text/plain": [
              "0       one\n",
              "1       one\n",
              "2       one\n",
              "3       one\n",
              "4       one\n",
              "       ... \n",
              "2207    two\n",
              "2208    two\n",
              "2209    two\n",
              "2210    two\n",
              "2211    two\n",
              "Name: class, Length: 2212, dtype: object"
            ]
          },
          "metadata": {
            "tags": []
          },
          "execution_count": 20
        }
      ]
    },
    {
      "cell_type": "code",
      "metadata": {
        "id": "YpB0ux53vHZf",
        "colab_type": "code",
        "colab": {
          "base_uri": "https://localhost:8080/",
          "height": 35
        },
        "outputId": "dbd205b3-04fb-4aa1-917d-3b774cdb1338"
      },
      "source": [
        "xls['class'].count()"
      ],
      "execution_count": 21,
      "outputs": [
        {
          "output_type": "execute_result",
          "data": {
            "text/plain": [
              "2212"
            ]
          },
          "metadata": {
            "tags": []
          },
          "execution_count": 21
        }
      ]
    },
    {
      "cell_type": "code",
      "metadata": {
        "id": "u6NXIvhrvHXI",
        "colab_type": "code",
        "colab": {
          "base_uri": "https://localhost:8080/",
          "height": 87
        },
        "outputId": "ba0c6ed9-79e6-4f22-9388-9924636fd321"
      },
      "source": [
        "xls['class'].value_counts()"
      ],
      "execution_count": 22,
      "outputs": [
        {
          "output_type": "execute_result",
          "data": {
            "text/plain": [
              "one      947\n",
              "two      799\n",
              "three    466\n",
              "Name: class, dtype: int64"
            ]
          },
          "metadata": {
            "tags": []
          },
          "execution_count": 22
        }
      ]
    },
    {
      "cell_type": "code",
      "metadata": {
        "id": "1fHe-mQnvHIx",
        "colab_type": "code",
        "colab": {
          "base_uri": "https://localhost:8080/",
          "height": 35
        },
        "outputId": "4904b7bd-1683-4bbe-b976-47e04a5161bf"
      },
      "source": [
        "xls['class'].unique()"
      ],
      "execution_count": 23,
      "outputs": [
        {
          "output_type": "execute_result",
          "data": {
            "text/plain": [
              "array(['one', 'two', 'three'], dtype=object)"
            ]
          },
          "metadata": {
            "tags": []
          },
          "execution_count": 23
        }
      ]
    },
    {
      "cell_type": "code",
      "metadata": {
        "id": "9ffbHE1ivaoT",
        "colab_type": "code",
        "colab": {
          "base_uri": "https://localhost:8080/",
          "height": 104
        },
        "outputId": "d864cfb1-c938-4872-c585-4441a0442019"
      },
      "source": [
        "# otherwise\n",
        "xls['class'].describe()"
      ],
      "execution_count": 24,
      "outputs": [
        {
          "output_type": "execute_result",
          "data": {
            "text/plain": [
              "count     2212\n",
              "unique       3\n",
              "top        one\n",
              "freq       947\n",
              "Name: class, dtype: object"
            ]
          },
          "metadata": {
            "tags": []
          },
          "execution_count": 24
        }
      ]
    },
    {
      "cell_type": "code",
      "metadata": {
        "id": "aI0UKG0_vegD",
        "colab_type": "code",
        "colab": {
          "base_uri": "https://localhost:8080/",
          "height": 314
        },
        "outputId": "c9eb64f1-da59-42fd-c562-32d5c0534014"
      },
      "source": [
        "# Using describe function observe the different measures for numerical and categorical columns\n",
        "xls.describe()"
      ],
      "execution_count": 25,
      "outputs": [
        {
          "output_type": "execute_result",
          "data": {
            "text/html": [
              "<div>\n",
              "<style scoped>\n",
              "    .dataframe tbody tr th:only-of-type {\n",
              "        vertical-align: middle;\n",
              "    }\n",
              "\n",
              "    .dataframe tbody tr th {\n",
              "        vertical-align: top;\n",
              "    }\n",
              "\n",
              "    .dataframe thead th {\n",
              "        text-align: right;\n",
              "    }\n",
              "</style>\n",
              "<table border=\"1\" class=\"dataframe\">\n",
              "  <thead>\n",
              "    <tr style=\"text-align: right;\">\n",
              "      <th></th>\n",
              "      <th>Input 1</th>\n",
              "      <th>Input 2</th>\n",
              "      <th>Input 3</th>\n",
              "      <th>Input 4</th>\n",
              "      <th>Input 5</th>\n",
              "      <th>Input 6</th>\n",
              "      <th>Input 7</th>\n",
              "      <th>Input 8</th>\n",
              "      <th>Input 9</th>\n",
              "      <th>Input 10</th>\n",
              "      <th>Input 11</th>\n",
              "      <th>Input 12</th>\n",
              "      <th>output1</th>\n",
              "      <th>output2</th>\n",
              "    </tr>\n",
              "  </thead>\n",
              "  <tbody>\n",
              "    <tr>\n",
              "      <th>count</th>\n",
              "      <td>2212.000000</td>\n",
              "      <td>2212.000000</td>\n",
              "      <td>2212.000000</td>\n",
              "      <td>2212.000000</td>\n",
              "      <td>2212.000000</td>\n",
              "      <td>2212.000000</td>\n",
              "      <td>2212.000000</td>\n",
              "      <td>2212.000000</td>\n",
              "      <td>2212.000000</td>\n",
              "      <td>2212.000000</td>\n",
              "      <td>2212.000000</td>\n",
              "      <td>2212.000000</td>\n",
              "      <td>2212.000000</td>\n",
              "      <td>2212.000000</td>\n",
              "    </tr>\n",
              "    <tr>\n",
              "      <th>mean</th>\n",
              "      <td>3.610539</td>\n",
              "      <td>1.842638</td>\n",
              "      <td>4.954648</td>\n",
              "      <td>4.648922</td>\n",
              "      <td>0.987010</td>\n",
              "      <td>1.461061</td>\n",
              "      <td>0.678302</td>\n",
              "      <td>0.362244</td>\n",
              "      <td>0.882657</td>\n",
              "      <td>2.772385</td>\n",
              "      <td>1.889226</td>\n",
              "      <td>3.889218</td>\n",
              "      <td>0.638788</td>\n",
              "      <td>0.789331</td>\n",
              "    </tr>\n",
              "    <tr>\n",
              "      <th>std</th>\n",
              "      <td>1.138348</td>\n",
              "      <td>1.134857</td>\n",
              "      <td>0.901254</td>\n",
              "      <td>1.172157</td>\n",
              "      <td>0.687484</td>\n",
              "      <td>0.921709</td>\n",
              "      <td>0.511789</td>\n",
              "      <td>0.246895</td>\n",
              "      <td>0.622500</td>\n",
              "      <td>1.629973</td>\n",
              "      <td>1.369276</td>\n",
              "      <td>3.526215</td>\n",
              "      <td>0.480460</td>\n",
              "      <td>0.407876</td>\n",
              "    </tr>\n",
              "    <tr>\n",
              "      <th>min</th>\n",
              "      <td>1.129000</td>\n",
              "      <td>0.324700</td>\n",
              "      <td>2.676000</td>\n",
              "      <td>1.705000</td>\n",
              "      <td>0.013430</td>\n",
              "      <td>-0.175800</td>\n",
              "      <td>-0.107400</td>\n",
              "      <td>-0.073240</td>\n",
              "      <td>-0.062260</td>\n",
              "      <td>0.741000</td>\n",
              "      <td>0.704300</td>\n",
              "      <td>-0.241700</td>\n",
              "      <td>0.000000</td>\n",
              "      <td>0.000000</td>\n",
              "    </tr>\n",
              "    <tr>\n",
              "      <th>25%</th>\n",
              "      <td>3.004750</td>\n",
              "      <td>0.865500</td>\n",
              "      <td>4.784750</td>\n",
              "      <td>3.677500</td>\n",
              "      <td>0.439175</td>\n",
              "      <td>0.592375</td>\n",
              "      <td>0.295400</td>\n",
              "      <td>0.184300</td>\n",
              "      <td>0.402800</td>\n",
              "      <td>1.400500</td>\n",
              "      <td>1.096000</td>\n",
              "      <td>0.808100</td>\n",
              "      <td>0.000000</td>\n",
              "      <td>1.000000</td>\n",
              "    </tr>\n",
              "    <tr>\n",
              "      <th>50%</th>\n",
              "      <td>4.052000</td>\n",
              "      <td>1.533000</td>\n",
              "      <td>5.319000</td>\n",
              "      <td>5.026500</td>\n",
              "      <td>0.798950</td>\n",
              "      <td>1.583000</td>\n",
              "      <td>0.544400</td>\n",
              "      <td>0.296600</td>\n",
              "      <td>0.690900</td>\n",
              "      <td>1.974500</td>\n",
              "      <td>1.279000</td>\n",
              "      <td>4.978000</td>\n",
              "      <td>1.000000</td>\n",
              "      <td>1.000000</td>\n",
              "    </tr>\n",
              "    <tr>\n",
              "      <th>75%</th>\n",
              "      <td>4.485250</td>\n",
              "      <td>2.631750</td>\n",
              "      <td>5.581250</td>\n",
              "      <td>5.607250</td>\n",
              "      <td>1.332250</td>\n",
              "      <td>2.135000</td>\n",
              "      <td>0.922900</td>\n",
              "      <td>0.473600</td>\n",
              "      <td>1.195000</td>\n",
              "      <td>4.952500</td>\n",
              "      <td>1.892000</td>\n",
              "      <td>5.420000</td>\n",
              "      <td>1.000000</td>\n",
              "      <td>1.000000</td>\n",
              "    </tr>\n",
              "    <tr>\n",
              "      <th>max</th>\n",
              "      <td>5.105000</td>\n",
              "      <td>4.675000</td>\n",
              "      <td>5.944000</td>\n",
              "      <td>6.013000</td>\n",
              "      <td>2.754000</td>\n",
              "      <td>3.638000</td>\n",
              "      <td>2.446000</td>\n",
              "      <td>1.199000</td>\n",
              "      <td>2.561000</td>\n",
              "      <td>5.312000</td>\n",
              "      <td>5.640000</td>\n",
              "      <td>20.000000</td>\n",
              "      <td>1.000000</td>\n",
              "      <td>1.000000</td>\n",
              "    </tr>\n",
              "  </tbody>\n",
              "</table>\n",
              "</div>"
            ],
            "text/plain": [
              "           Input 1      Input 2  ...      output1      output2\n",
              "count  2212.000000  2212.000000  ...  2212.000000  2212.000000\n",
              "mean      3.610539     1.842638  ...     0.638788     0.789331\n",
              "std       1.138348     1.134857  ...     0.480460     0.407876\n",
              "min       1.129000     0.324700  ...     0.000000     0.000000\n",
              "25%       3.004750     0.865500  ...     0.000000     1.000000\n",
              "50%       4.052000     1.533000  ...     1.000000     1.000000\n",
              "75%       4.485250     2.631750  ...     1.000000     1.000000\n",
              "max       5.105000     4.675000  ...     1.000000     1.000000\n",
              "\n",
              "[8 rows x 14 columns]"
            ]
          },
          "metadata": {
            "tags": []
          },
          "execution_count": 25
        }
      ]
    },
    {
      "cell_type": "code",
      "metadata": {
        "id": "Z_Sm5RQPvkOb",
        "colab_type": "code",
        "colab": {
          "base_uri": "https://localhost:8080/",
          "height": 280
        },
        "outputId": "aca3de46-c060-495e-c467-3e0d50d02e8f"
      },
      "source": [
        "# Use the info function to get the detailed info of the dataframe\n",
        "xls.info"
      ],
      "execution_count": 26,
      "outputs": [
        {
          "output_type": "execute_result",
          "data": {
            "text/plain": [
              "<bound method DataFrame.info of       Input 1  Input 2  Input 3  Input 4  ...  Input 12  output1  output2  class\n",
              "0       1.473    2.311    3.179    2.666  ...     4.712        1        1    one\n",
              "1       1.460    2.377    3.214    2.920  ...     5.463        1        1    one\n",
              "2       1.552    2.164    3.064    2.745  ...     5.332        1        1    one\n",
              "3       1.605    2.228    3.149    2.834  ...     4.829        1        1    one\n",
              "4       1.534    2.114    3.309    2.976  ...     5.734        1        1    one\n",
              "...       ...      ...      ...      ...  ...       ...      ...      ...    ...\n",
              "2207    3.682    1.301    4.939    4.453  ...     5.125        0        1    two\n",
              "2208    3.412    1.293    4.949    4.199  ...     5.433        0        1    two\n",
              "2209    3.640    1.284    5.111    4.460  ...     4.867        0        1    two\n",
              "2210    3.746    1.261    5.049    4.885  ...     5.627        0        1    two\n",
              "2211    3.959    1.108    5.422    4.835  ...     5.623        0        1    two\n",
              "\n",
              "[2212 rows x 15 columns]>"
            ]
          },
          "metadata": {
            "tags": []
          },
          "execution_count": 26
        }
      ]
    }
  ]
}