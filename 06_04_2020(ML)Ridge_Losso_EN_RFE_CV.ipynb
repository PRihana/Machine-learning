{
  "nbformat": 4,
  "nbformat_minor": 0,
  "metadata": {
    "colab": {
      "name": "06-04-2020(ML)Ridge-Losso-EN-RFE-CV.ipynb",
      "provenance": [],
      "collapsed_sections": [],
      "authorship_tag": "ABX9TyMZgvI0ZYpD4HCMBTn5a80q",
      "include_colab_link": true
    },
    "kernelspec": {
      "name": "python3",
      "display_name": "Python 3"
    }
  },
  "cells": [
    {
      "cell_type": "markdown",
      "metadata": {
        "id": "view-in-github",
        "colab_type": "text"
      },
      "source": [
        "<a href=\"https://colab.research.google.com/github/PRihana/Machine-learning/blob/master/06_04_2020(ML)Ridge_Losso_EN_RFE_CV.ipynb\" target=\"_parent\"><img src=\"https://colab.research.google.com/assets/colab-badge.svg\" alt=\"Open In Colab\"/></a>"
      ]
    },
    {
      "cell_type": "code",
      "metadata": {
        "id": "scaGbdJyRWJP",
        "colab_type": "code",
        "colab": {}
      },
      "source": [
        "import pandas as pd\n",
        "import numpy as np\n",
        "import matplotlib.pyplot as plt\n",
        "%matplotlib inline"
      ],
      "execution_count": 0,
      "outputs": []
    },
    {
      "cell_type": "markdown",
      "metadata": {
        "id": "Y4OKx5pGRkeP",
        "colab_type": "text"
      },
      "source": [
        "1.CRIM per capita crime rate by \n",
        "\n",
        "2.ZN proportion of residential land zoned for lots over 25,000 sq.ft.\n",
        "\n",
        "3.INDUS proportion of non-retail business acres per town\n",
        "\n",
        "4.CHAS Charles River dummy variable (= 1 if tract bounds\n",
        "\n",
        "          river; 0 otherwise)\n",
        "\n",
        "5.NOX nitric oxides concentration (parts per 10 million)\n",
        "\n",
        "6.RM average number of rooms per dwelling\n",
        "\n",
        "7.AGE proportion of owner-occupied units built prior to 1940\n",
        "\n",
        "8.DIS weighted distances to five Boston employment centres\n",
        "\n",
        "9.RAD index of accessibility to radial highways\n",
        "\n",
        "10.TAX full-value property-tax rate per $10,000\n",
        "PTRATIO pupil-teacher ratio by town 12.B 1000(Bk - 0.63)^2 where Bk is the proportion of blacks by town\n",
        "\n",
        "11.LSTAT % lower status of the population\n",
        "\n",
        "12.MEDV Median value of owner-occupied homes in $1000's"
      ]
    },
    {
      "cell_type": "code",
      "metadata": {
        "id": "Obxz4rDERWNb",
        "colab_type": "code",
        "outputId": "0eaeb9d2-cf8d-4ea1-e2e6-7aab4fdcd3ee",
        "colab": {
          "base_uri": "https://localhost:8080/",
          "height": 202
        }
      },
      "source": [
        "data = pd.read_csv(\"/content/bostonhousing.csv\")\n",
        "data.head()"
      ],
      "execution_count": 0,
      "outputs": [
        {
          "output_type": "execute_result",
          "data": {
            "text/html": [
              "<div>\n",
              "<style scoped>\n",
              "    .dataframe tbody tr th:only-of-type {\n",
              "        vertical-align: middle;\n",
              "    }\n",
              "\n",
              "    .dataframe tbody tr th {\n",
              "        vertical-align: top;\n",
              "    }\n",
              "\n",
              "    .dataframe thead th {\n",
              "        text-align: right;\n",
              "    }\n",
              "</style>\n",
              "<table border=\"1\" class=\"dataframe\">\n",
              "  <thead>\n",
              "    <tr style=\"text-align: right;\">\n",
              "      <th></th>\n",
              "      <th>crim</th>\n",
              "      <th>zn</th>\n",
              "      <th>indus</th>\n",
              "      <th>chas</th>\n",
              "      <th>nox</th>\n",
              "      <th>rm</th>\n",
              "      <th>age</th>\n",
              "      <th>dis</th>\n",
              "      <th>rad</th>\n",
              "      <th>tax</th>\n",
              "      <th>ptratio</th>\n",
              "      <th>b</th>\n",
              "      <th>lstat</th>\n",
              "      <th>medv</th>\n",
              "    </tr>\n",
              "  </thead>\n",
              "  <tbody>\n",
              "    <tr>\n",
              "      <th>0</th>\n",
              "      <td>0.00632</td>\n",
              "      <td>18.0</td>\n",
              "      <td>2.31</td>\n",
              "      <td>0</td>\n",
              "      <td>0.538</td>\n",
              "      <td>6.575</td>\n",
              "      <td>65.2</td>\n",
              "      <td>4.0900</td>\n",
              "      <td>1</td>\n",
              "      <td>296</td>\n",
              "      <td>15.3</td>\n",
              "      <td>396.90</td>\n",
              "      <td>4.98</td>\n",
              "      <td>24.0</td>\n",
              "    </tr>\n",
              "    <tr>\n",
              "      <th>1</th>\n",
              "      <td>0.02731</td>\n",
              "      <td>0.0</td>\n",
              "      <td>7.07</td>\n",
              "      <td>0</td>\n",
              "      <td>0.469</td>\n",
              "      <td>6.421</td>\n",
              "      <td>78.9</td>\n",
              "      <td>4.9671</td>\n",
              "      <td>2</td>\n",
              "      <td>242</td>\n",
              "      <td>17.8</td>\n",
              "      <td>396.90</td>\n",
              "      <td>9.14</td>\n",
              "      <td>21.6</td>\n",
              "    </tr>\n",
              "    <tr>\n",
              "      <th>2</th>\n",
              "      <td>0.02729</td>\n",
              "      <td>0.0</td>\n",
              "      <td>7.07</td>\n",
              "      <td>0</td>\n",
              "      <td>0.469</td>\n",
              "      <td>7.185</td>\n",
              "      <td>61.1</td>\n",
              "      <td>4.9671</td>\n",
              "      <td>2</td>\n",
              "      <td>242</td>\n",
              "      <td>17.8</td>\n",
              "      <td>392.83</td>\n",
              "      <td>4.03</td>\n",
              "      <td>34.7</td>\n",
              "    </tr>\n",
              "    <tr>\n",
              "      <th>3</th>\n",
              "      <td>0.03237</td>\n",
              "      <td>0.0</td>\n",
              "      <td>2.18</td>\n",
              "      <td>0</td>\n",
              "      <td>0.458</td>\n",
              "      <td>6.998</td>\n",
              "      <td>45.8</td>\n",
              "      <td>6.0622</td>\n",
              "      <td>3</td>\n",
              "      <td>222</td>\n",
              "      <td>18.7</td>\n",
              "      <td>394.63</td>\n",
              "      <td>2.94</td>\n",
              "      <td>33.4</td>\n",
              "    </tr>\n",
              "    <tr>\n",
              "      <th>4</th>\n",
              "      <td>0.06905</td>\n",
              "      <td>0.0</td>\n",
              "      <td>2.18</td>\n",
              "      <td>0</td>\n",
              "      <td>0.458</td>\n",
              "      <td>7.147</td>\n",
              "      <td>54.2</td>\n",
              "      <td>6.0622</td>\n",
              "      <td>3</td>\n",
              "      <td>222</td>\n",
              "      <td>18.7</td>\n",
              "      <td>396.90</td>\n",
              "      <td>5.33</td>\n",
              "      <td>36.2</td>\n",
              "    </tr>\n",
              "  </tbody>\n",
              "</table>\n",
              "</div>"
            ],
            "text/plain": [
              "      crim    zn  indus  chas    nox  ...  tax  ptratio       b  lstat  medv\n",
              "0  0.00632  18.0   2.31     0  0.538  ...  296     15.3  396.90   4.98  24.0\n",
              "1  0.02731   0.0   7.07     0  0.469  ...  242     17.8  396.90   9.14  21.6\n",
              "2  0.02729   0.0   7.07     0  0.469  ...  242     17.8  392.83   4.03  34.7\n",
              "3  0.03237   0.0   2.18     0  0.458  ...  222     18.7  394.63   2.94  33.4\n",
              "4  0.06905   0.0   2.18     0  0.458  ...  222     18.7  396.90   5.33  36.2\n",
              "\n",
              "[5 rows x 14 columns]"
            ]
          },
          "metadata": {
            "tags": []
          },
          "execution_count": 7
        }
      ]
    },
    {
      "cell_type": "code",
      "metadata": {
        "id": "SZW7jmZgRWRm",
        "colab_type": "code",
        "outputId": "3b4a97eb-d97b-4d3f-af76-e61296f43ecd",
        "colab": {
          "base_uri": "https://localhost:8080/",
          "height": 35
        }
      },
      "source": [
        "data.isnull().sum().sum()"
      ],
      "execution_count": 0,
      "outputs": [
        {
          "output_type": "execute_result",
          "data": {
            "text/plain": [
              "0"
            ]
          },
          "metadata": {
            "tags": []
          },
          "execution_count": 8
        }
      ]
    },
    {
      "cell_type": "code",
      "metadata": {
        "id": "cxv7nEbtRWVR",
        "colab_type": "code",
        "outputId": "94b68ea8-94e5-45ac-8bdf-25bd3c683d1c",
        "colab": {
          "base_uri": "https://localhost:8080/",
          "height": 277
        }
      },
      "source": [
        "data.dtypes"
      ],
      "execution_count": 0,
      "outputs": [
        {
          "output_type": "execute_result",
          "data": {
            "text/plain": [
              "crim       float64\n",
              "zn         float64\n",
              "indus      float64\n",
              "chas         int64\n",
              "nox        float64\n",
              "rm         float64\n",
              "age        float64\n",
              "dis        float64\n",
              "rad          int64\n",
              "tax          int64\n",
              "ptratio    float64\n",
              "b          float64\n",
              "lstat      float64\n",
              "medv       float64\n",
              "dtype: object"
            ]
          },
          "metadata": {
            "tags": []
          },
          "execution_count": 9
        }
      ]
    },
    {
      "cell_type": "code",
      "metadata": {
        "id": "APWTXuRFTjo4",
        "colab_type": "code",
        "outputId": "886352c7-9acf-469c-afbd-d7e572011871",
        "colab": {
          "base_uri": "https://localhost:8080/",
          "height": 283
        }
      },
      "source": [
        "plt.scatter(data['crim'],data['medv'])"
      ],
      "execution_count": 0,
      "outputs": [
        {
          "output_type": "execute_result",
          "data": {
            "text/plain": [
              "<matplotlib.collections.PathCollection at 0x7f65621ca908>"
            ]
          },
          "metadata": {
            "tags": []
          },
          "execution_count": 10
        },
        {
          "output_type": "display_data",
          "data": {
            "image/png": "[encoded data removed]",
            "text/plain": [
              "<Figure size 432x288 with 1 Axes>"
            ]
          },
          "metadata": {
            "tags": []
          }
        }
      ]
    },
    {
      "cell_type": "code",
      "metadata": {
        "id": "Oly7aA-6Tjzy",
        "colab_type": "code",
        "outputId": "6f3c5111-11d0-4f3e-f2a3-8a2511a2f433",
        "colab": {
          "base_uri": "https://localhost:8080/",
          "height": 498
        }
      },
      "source": [
        "data.corr()"
      ],
      "execution_count": 0,
      "outputs": [
        {
          "output_type": "execute_result",
          "data": {
            "text/html": [
              "<div>\n",
              "<style scoped>\n",
              "    .dataframe tbody tr th:only-of-type {\n",
              "        vertical-align: middle;\n",
              "    }\n",
              "\n",
              "    .dataframe tbody tr th {\n",
              "        vertical-align: top;\n",
              "    }\n",
              "\n",
              "    .dataframe thead th {\n",
              "        text-align: right;\n",
              "    }\n",
              "</style>\n",
              "<table border=\"1\" class=\"dataframe\">\n",
              "  <thead>\n",
              "    <tr style=\"text-align: right;\">\n",
              "      <th></th>\n",
              "      <th>crim</th>\n",
              "      <th>zn</th>\n",
              "      <th>indus</th>\n",
              "      <th>chas</th>\n",
              "      <th>nox</th>\n",
              "      <th>rm</th>\n",
              "      <th>age</th>\n",
              "      <th>dis</th>\n",
              "      <th>rad</th>\n",
              "      <th>tax</th>\n",
              "      <th>ptratio</th>\n",
              "      <th>b</th>\n",
              "      <th>lstat</th>\n",
              "      <th>medv</th>\n",
              "    </tr>\n",
              "  </thead>\n",
              "  <tbody>\n",
              "    <tr>\n",
              "      <th>crim</th>\n",
              "      <td>1.000000</td>\n",
              "      <td>-0.200469</td>\n",
              "      <td>0.406583</td>\n",
              "      <td>-0.055892</td>\n",
              "      <td>0.420972</td>\n",
              "      <td>-0.219247</td>\n",
              "      <td>0.352734</td>\n",
              "      <td>-0.379670</td>\n",
              "      <td>0.625505</td>\n",
              "      <td>0.582764</td>\n",
              "      <td>0.289946</td>\n",
              "      <td>-0.385064</td>\n",
              "      <td>0.455621</td>\n",
              "      <td>-0.388305</td>\n",
              "    </tr>\n",
              "    <tr>\n",
              "      <th>zn</th>\n",
              "      <td>-0.200469</td>\n",
              "      <td>1.000000</td>\n",
              "      <td>-0.533828</td>\n",
              "      <td>-0.042697</td>\n",
              "      <td>-0.516604</td>\n",
              "      <td>0.311991</td>\n",
              "      <td>-0.569537</td>\n",
              "      <td>0.664408</td>\n",
              "      <td>-0.311948</td>\n",
              "      <td>-0.314563</td>\n",
              "      <td>-0.391679</td>\n",
              "      <td>0.175520</td>\n",
              "      <td>-0.412995</td>\n",
              "      <td>0.360445</td>\n",
              "    </tr>\n",
              "    <tr>\n",
              "      <th>indus</th>\n",
              "      <td>0.406583</td>\n",
              "      <td>-0.533828</td>\n",
              "      <td>1.000000</td>\n",
              "      <td>0.062938</td>\n",
              "      <td>0.763651</td>\n",
              "      <td>-0.391676</td>\n",
              "      <td>0.644779</td>\n",
              "      <td>-0.708027</td>\n",
              "      <td>0.595129</td>\n",
              "      <td>0.720760</td>\n",
              "      <td>0.383248</td>\n",
              "      <td>-0.356977</td>\n",
              "      <td>0.603800</td>\n",
              "      <td>-0.483725</td>\n",
              "    </tr>\n",
              "    <tr>\n",
              "      <th>chas</th>\n",
              "      <td>-0.055892</td>\n",
              "      <td>-0.042697</td>\n",
              "      <td>0.062938</td>\n",
              "      <td>1.000000</td>\n",
              "      <td>0.091203</td>\n",
              "      <td>0.091251</td>\n",
              "      <td>0.086518</td>\n",
              "      <td>-0.099176</td>\n",
              "      <td>-0.007368</td>\n",
              "      <td>-0.035587</td>\n",
              "      <td>-0.121515</td>\n",
              "      <td>0.048788</td>\n",
              "      <td>-0.053929</td>\n",
              "      <td>0.175260</td>\n",
              "    </tr>\n",
              "    <tr>\n",
              "      <th>nox</th>\n",
              "      <td>0.420972</td>\n",
              "      <td>-0.516604</td>\n",
              "      <td>0.763651</td>\n",
              "      <td>0.091203</td>\n",
              "      <td>1.000000</td>\n",
              "      <td>-0.302188</td>\n",
              "      <td>0.731470</td>\n",
              "      <td>-0.769230</td>\n",
              "      <td>0.611441</td>\n",
              "      <td>0.668023</td>\n",
              "      <td>0.188933</td>\n",
              "      <td>-0.380051</td>\n",
              "      <td>0.590879</td>\n",
              "      <td>-0.427321</td>\n",
              "    </tr>\n",
              "    <tr>\n",
              "      <th>rm</th>\n",
              "      <td>-0.219247</td>\n",
              "      <td>0.311991</td>\n",
              "      <td>-0.391676</td>\n",
              "      <td>0.091251</td>\n",
              "      <td>-0.302188</td>\n",
              "      <td>1.000000</td>\n",
              "      <td>-0.240265</td>\n",
              "      <td>0.205246</td>\n",
              "      <td>-0.209847</td>\n",
              "      <td>-0.292048</td>\n",
              "      <td>-0.355501</td>\n",
              "      <td>0.128069</td>\n",
              "      <td>-0.613808</td>\n",
              "      <td>0.695360</td>\n",
              "    </tr>\n",
              "    <tr>\n",
              "      <th>age</th>\n",
              "      <td>0.352734</td>\n",
              "      <td>-0.569537</td>\n",
              "      <td>0.644779</td>\n",
              "      <td>0.086518</td>\n",
              "      <td>0.731470</td>\n",
              "      <td>-0.240265</td>\n",
              "      <td>1.000000</td>\n",
              "      <td>-0.747881</td>\n",
              "      <td>0.456022</td>\n",
              "      <td>0.506456</td>\n",
              "      <td>0.261515</td>\n",
              "      <td>-0.273534</td>\n",
              "      <td>0.602339</td>\n",
              "      <td>-0.376955</td>\n",
              "    </tr>\n",
              "    <tr>\n",
              "      <th>dis</th>\n",
              "      <td>-0.379670</td>\n",
              "      <td>0.664408</td>\n",
              "      <td>-0.708027</td>\n",
              "      <td>-0.099176</td>\n",
              "      <td>-0.769230</td>\n",
              "      <td>0.205246</td>\n",
              "      <td>-0.747881</td>\n",
              "      <td>1.000000</td>\n",
              "      <td>-0.494588</td>\n",
              "      <td>-0.534432</td>\n",
              "      <td>-0.232471</td>\n",
              "      <td>0.291512</td>\n",
              "      <td>-0.496996</td>\n",
              "      <td>0.249929</td>\n",
              "    </tr>\n",
              "    <tr>\n",
              "      <th>rad</th>\n",
              "      <td>0.625505</td>\n",
              "      <td>-0.311948</td>\n",
              "      <td>0.595129</td>\n",
              "      <td>-0.007368</td>\n",
              "      <td>0.611441</td>\n",
              "      <td>-0.209847</td>\n",
              "      <td>0.456022</td>\n",
              "      <td>-0.494588</td>\n",
              "      <td>1.000000</td>\n",
              "      <td>0.910228</td>\n",
              "      <td>0.464741</td>\n",
              "      <td>-0.444413</td>\n",
              "      <td>0.488676</td>\n",
              "      <td>-0.381626</td>\n",
              "    </tr>\n",
              "    <tr>\n",
              "      <th>tax</th>\n",
              "      <td>0.582764</td>\n",
              "      <td>-0.314563</td>\n",
              "      <td>0.720760</td>\n",
              "      <td>-0.035587</td>\n",
              "      <td>0.668023</td>\n",
              "      <td>-0.292048</td>\n",
              "      <td>0.506456</td>\n",
              "      <td>-0.534432</td>\n",
              "      <td>0.910228</td>\n",
              "      <td>1.000000</td>\n",
              "      <td>0.460853</td>\n",
              "      <td>-0.441808</td>\n",
              "      <td>0.543993</td>\n",
              "      <td>-0.468536</td>\n",
              "    </tr>\n",
              "    <tr>\n",
              "      <th>ptratio</th>\n",
              "      <td>0.289946</td>\n",
              "      <td>-0.391679</td>\n",
              "      <td>0.383248</td>\n",
              "      <td>-0.121515</td>\n",
              "      <td>0.188933</td>\n",
              "      <td>-0.355501</td>\n",
              "      <td>0.261515</td>\n",
              "      <td>-0.232471</td>\n",
              "      <td>0.464741</td>\n",
              "      <td>0.460853</td>\n",
              "      <td>1.000000</td>\n",
              "      <td>-0.177383</td>\n",
              "      <td>0.374044</td>\n",
              "      <td>-0.507787</td>\n",
              "    </tr>\n",
              "    <tr>\n",
              "      <th>b</th>\n",
              "      <td>-0.385064</td>\n",
              "      <td>0.175520</td>\n",
              "      <td>-0.356977</td>\n",
              "      <td>0.048788</td>\n",
              "      <td>-0.380051</td>\n",
              "      <td>0.128069</td>\n",
              "      <td>-0.273534</td>\n",
              "      <td>0.291512</td>\n",
              "      <td>-0.444413</td>\n",
              "      <td>-0.441808</td>\n",
              "      <td>-0.177383</td>\n",
              "      <td>1.000000</td>\n",
              "      <td>-0.366087</td>\n",
              "      <td>0.333461</td>\n",
              "    </tr>\n",
              "    <tr>\n",
              "      <th>lstat</th>\n",
              "      <td>0.455621</td>\n",
              "      <td>-0.412995</td>\n",
              "      <td>0.603800</td>\n",
              "      <td>-0.053929</td>\n",
              "      <td>0.590879</td>\n",
              "      <td>-0.613808</td>\n",
              "      <td>0.602339</td>\n",
              "      <td>-0.496996</td>\n",
              "      <td>0.488676</td>\n",
              "      <td>0.543993</td>\n",
              "      <td>0.374044</td>\n",
              "      <td>-0.366087</td>\n",
              "      <td>1.000000</td>\n",
              "      <td>-0.737663</td>\n",
              "    </tr>\n",
              "    <tr>\n",
              "      <th>medv</th>\n",
              "      <td>-0.388305</td>\n",
              "      <td>0.360445</td>\n",
              "      <td>-0.483725</td>\n",
              "      <td>0.175260</td>\n",
              "      <td>-0.427321</td>\n",
              "      <td>0.695360</td>\n",
              "      <td>-0.376955</td>\n",
              "      <td>0.249929</td>\n",
              "      <td>-0.381626</td>\n",
              "      <td>-0.468536</td>\n",
              "      <td>-0.507787</td>\n",
              "      <td>0.333461</td>\n",
              "      <td>-0.737663</td>\n",
              "      <td>1.000000</td>\n",
              "    </tr>\n",
              "  </tbody>\n",
              "</table>\n",
              "</div>"
            ],
            "text/plain": [
              "             crim        zn     indus  ...         b     lstat      medv\n",
              "crim     1.000000 -0.200469  0.406583  ... -0.385064  0.455621 -0.388305\n",
              "zn      -0.200469  1.000000 -0.533828  ...  0.175520 -0.412995  0.360445\n",
              "indus    0.406583 -0.533828  1.000000  ... -0.356977  0.603800 -0.483725\n",
              "chas    -0.055892 -0.042697  0.062938  ...  0.048788 -0.053929  0.175260\n",
              "nox      0.420972 -0.516604  0.763651  ... -0.380051  0.590879 -0.427321\n",
              "rm      -0.219247  0.311991 -0.391676  ...  0.128069 -0.613808  0.695360\n",
              "age      0.352734 -0.569537  0.644779  ... -0.273534  0.602339 -0.376955\n",
              "dis     -0.379670  0.664408 -0.708027  ...  0.291512 -0.496996  0.249929\n",
              "rad      0.625505 -0.311948  0.595129  ... -0.444413  0.488676 -0.381626\n",
              "tax      0.582764 -0.314563  0.720760  ... -0.441808  0.543993 -0.468536\n",
              "ptratio  0.289946 -0.391679  0.383248  ... -0.177383  0.374044 -0.507787\n",
              "b       -0.385064  0.175520 -0.356977  ...  1.000000 -0.366087  0.333461\n",
              "lstat    0.455621 -0.412995  0.603800  ... -0.366087  1.000000 -0.737663\n",
              "medv    -0.388305  0.360445 -0.483725  ...  0.333461 -0.737663  1.000000\n",
              "\n",
              "[14 rows x 14 columns]"
            ]
          },
          "metadata": {
            "tags": []
          },
          "execution_count": 11
        }
      ]
    },
    {
      "cell_type": "code",
      "metadata": {
        "id": "Q9wXqZU1Tj57",
        "colab_type": "code",
        "outputId": "012da1b5-e367-4a1b-a762-9ac93654259e",
        "colab": {
          "base_uri": "https://localhost:8080/",
          "height": 283
        }
      },
      "source": [
        "# Positive correlation --> 0.695360\n",
        "plt.scatter(data['rm'],data['medv'])"
      ],
      "execution_count": 0,
      "outputs": [
        {
          "output_type": "execute_result",
          "data": {
            "text/plain": [
              "<matplotlib.collections.PathCollection at 0x7f655f49ad68>"
            ]
          },
          "metadata": {
            "tags": []
          },
          "execution_count": 12
        },
        {
          "output_type": "display_data",
          "data": {
            "image/png": "[encoded data removed]",
            "text/plain": [
              "<Figure size 432x288 with 1 Axes>"
            ]
          },
          "metadata": {
            "tags": []
          }
        }
      ]
    },
    {
      "cell_type": "code",
      "metadata": {
        "id": "UO9H2z2bTkAB",
        "colab_type": "code",
        "outputId": "b48b6f8d-46f7-4dca-be58-748384c1ba4a",
        "colab": {
          "base_uri": "https://localhost:8080/",
          "height": 283
        }
      },
      "source": [
        "# Negative correlation --> -0.737663\t\n",
        "plt.scatter(data['lstat'],data['medv'])"
      ],
      "execution_count": 0,
      "outputs": [
        {
          "output_type": "execute_result",
          "data": {
            "text/plain": [
              "<matplotlib.collections.PathCollection at 0x7f655f47e358>"
            ]
          },
          "metadata": {
            "tags": []
          },
          "execution_count": 13
        },
        {
          "output_type": "display_data",
          "data": {
            "image/png": "[encoded data removed]",
            "text/plain": [
              "<Figure size 432x288 with 1 Axes>"
            ]
          },
          "metadata": {
            "tags": []
          }
        }
      ]
    },
    {
      "cell_type": "code",
      "metadata": {
        "id": "1CaEsdGcT_XO",
        "colab_type": "code",
        "outputId": "4328c346-9a8e-47b7-90c9-fb091bd2f607",
        "colab": {
          "base_uri": "https://localhost:8080/",
          "height": 35
        }
      },
      "source": [
        "y_pred = np.array([23,34,27,78,99.3]) \n",
        "y_obs = np.array([25,32,25.5,77,95])\n",
        "# mean squared error(MSE)\n",
        "np.mean((y_pred-y_obs)**2)"
      ],
      "execution_count": 0,
      "outputs": [
        {
          "output_type": "execute_result",
          "data": {
            "text/plain": [
              "5.947999999999995"
            ]
          },
          "metadata": {
            "tags": []
          },
          "execution_count": 14
        }
      ]
    },
    {
      "cell_type": "code",
      "metadata": {
        "id": "imwVYImKT_k_",
        "colab_type": "code",
        "outputId": "ea24b6fc-a5e8-4c3b-c404-b238645a676a",
        "colab": {
          "base_uri": "https://localhost:8080/",
          "height": 35
        }
      },
      "source": [
        "from sklearn.metrics import mean_squared_error\n",
        "mean_squared_error(y_pred,y_obs)"
      ],
      "execution_count": 0,
      "outputs": [
        {
          "output_type": "execute_result",
          "data": {
            "text/plain": [
              "5.947999999999995"
            ]
          },
          "metadata": {
            "tags": []
          },
          "execution_count": 15
        }
      ]
    },
    {
      "cell_type": "code",
      "metadata": {
        "id": "QOq2gutcT_pY",
        "colab_type": "code",
        "outputId": "79f14810-3a24-42ff-b094-4492f5b6ca17",
        "colab": {
          "base_uri": "https://localhost:8080/",
          "height": 35
        }
      },
      "source": [
        "# Root mean squared error(RMSE)\n",
        "np.sqrt(np.mean((y_pred-y_obs)**2))"
      ],
      "execution_count": 0,
      "outputs": [
        {
          "output_type": "execute_result",
          "data": {
            "text/plain": [
              "2.438852189043033"
            ]
          },
          "metadata": {
            "tags": []
          },
          "execution_count": 16
        }
      ]
    },
    {
      "cell_type": "code",
      "metadata": {
        "id": "_sbNQns9T_2d",
        "colab_type": "code",
        "outputId": "d700e3d1-ffdb-4d34-fc38-d003f7e3156d",
        "colab": {
          "base_uri": "https://localhost:8080/",
          "height": 35
        }
      },
      "source": [
        "# Mean Absolute error\n",
        "np.sqrt(np.mean(np.abs(y_pred-y_obs)))"
      ],
      "execution_count": 0,
      "outputs": [
        {
          "output_type": "execute_result",
          "data": {
            "text/plain": [
              "1.4696938456699067"
            ]
          },
          "metadata": {
            "tags": []
          },
          "execution_count": 17
        }
      ]
    },
    {
      "cell_type": "markdown",
      "metadata": {
        "id": "KoHDbJ2PUVzi",
        "colab_type": "text"
      },
      "source": [
        "**Create a model with single feature lstat and target is medv**"
      ]
    },
    {
      "cell_type": "code",
      "metadata": {
        "id": "HUBRIzSdT_0P",
        "colab_type": "code",
        "colab": {}
      },
      "source": [
        "# Get the featrure data as a dataframe\n",
        "x_data = data[['lstat']]\n",
        "y_data = data['medv']"
      ],
      "execution_count": 0,
      "outputs": []
    },
    {
      "cell_type": "code",
      "metadata": {
        "id": "GTsMaItjT_iZ",
        "colab_type": "code",
        "outputId": "e5ba8ee6-d5db-4e47-9946-d1a7aa1fb6f2",
        "colab": {
          "base_uri": "https://localhost:8080/",
          "height": 319
        }
      },
      "source": [
        "# observe the histogram of the target column\n",
        "plt.hist(y_data)"
      ],
      "execution_count": 0,
      "outputs": [
        {
          "output_type": "execute_result",
          "data": {
            "text/plain": [
              "(array([ 21.,  55.,  82., 154.,  84.,  41.,  30.,   8.,  10.,  21.]),\n",
              " array([ 5. ,  9.5, 14. , 18.5, 23. , 27.5, 32. , 36.5, 41. , 45.5, 50. ]),\n",
              " <a list of 10 Patch objects>)"
            ]
          },
          "metadata": {
            "tags": []
          },
          "execution_count": 19
        },
        {
          "output_type": "display_data",
          "data": {
            "image/png": "[encoded data removed]",
            "text/plain": [
              "<Figure size 432x288 with 1 Axes>"
            ]
          },
          "metadata": {
            "tags": []
          }
        }
      ]
    },
    {
      "cell_type": "code",
      "metadata": {
        "id": "BCP9GCIXT_fN",
        "colab_type": "code",
        "outputId": "3e9cc12c-73dc-4097-8724-4fcea11d3fa4",
        "colab": {
          "base_uri": "https://localhost:8080/",
          "height": 52
        }
      },
      "source": [
        "# Divide the data for tarining and testing\n",
        "# train_test_split and use test_size as 0.2\n",
        "# 20% for testing and 80% for training\n",
        "from sklearn.model_selection import train_test_split\n",
        "x_train,x_test,y_train,y_test = train_test_split(x_data,y_data,test_size=0.2)\n",
        "print(x_train.shape)\n",
        "print(y_train.shape)"
      ],
      "execution_count": 0,
      "outputs": [
        {
          "output_type": "stream",
          "text": [
            "(404, 1)\n",
            "(404,)\n"
          ],
          "name": "stdout"
        }
      ]
    },
    {
      "cell_type": "code",
      "metadata": {
        "id": "XKBjXO25T_cn",
        "colab_type": "code",
        "colab": {}
      },
      "source": [
        "x_data.shape[0]*0.8"
      ],
      "execution_count": 0,
      "outputs": []
    },
    {
      "cell_type": "code",
      "metadata": {
        "id": "baHZoKiAT_U8",
        "colab_type": "code",
        "colab": {
          "base_uri": "https://localhost:8080/",
          "height": 319
        },
        "outputId": "48a0284c-9586-4b4a-fbc0-d4a3d1ba34a9"
      },
      "source": [
        "plt.subplot(1,3,1)\n",
        "plt.hist(y_train)\n",
        "plt.subplot(1,3,2)\n",
        "plt.hist(y_test)\n",
        "plt.subplot(1,3,3)\n",
        "plt.hist(y_data)"
      ],
      "execution_count": 22,
      "outputs": [
        {
          "output_type": "execute_result",
          "data": {
            "text/plain": [
              "(array([ 21.,  55.,  82., 154.,  84.,  41.,  30.,   8.,  10.,  21.]),\n",
              " array([ 5. ,  9.5, 14. , 18.5, 23. , 27.5, 32. , 36.5, 41. , 45.5, 50. ]),\n",
              " <a list of 10 Patch objects>)"
            ]
          },
          "metadata": {
            "tags": []
          },
          "execution_count": 22
        },
        {
          "output_type": "display_data",
          "data": {
            "image/png": "[encoded data removed]",
            "text/plain": [
              "<Figure size 432x288 with 3 Axes>"
            ]
          },
          "metadata": {
            "tags": []
          }
        }
      ]
    },
    {
      "cell_type": "code",
      "metadata": {
        "id": "nACCxbmTTkNt",
        "colab_type": "code",
        "colab": {
          "base_uri": "https://localhost:8080/",
          "height": 381
        },
        "outputId": "b431d5d9-018d-4939-ced4-f58c31e163b8"
      },
      "source": [
        "# Linear regression\n",
        "# import the model\n",
        "from sklearn.linear_model import LinearRegression\n",
        "# Create an instance for the model\n",
        "LR = LinearRegression()\n",
        "# Training the model \n",
        "LR.fit(x_train,y_train)\n",
        "# Predict the output\n",
        "LR.predict(x_test)"
      ],
      "execution_count": 23,
      "outputs": [
        {
          "output_type": "execute_result",
          "data": {
            "text/plain": [
              "array([17.35491095, 24.90930489, 24.9277078 , 26.82320738, 31.58956068,\n",
              "       28.2678357 ,  2.92703068, 18.48668983, 30.03451491, 29.90569455,\n",
              "       30.77063125, 26.46435066, 12.75418383, 18.05422148, 18.67992036,\n",
              "       22.88498496, 25.48899651, 24.61485836, 19.37923089, 30.05291782,\n",
              "       18.64311455, 14.18961069, 18.44068255, 20.74104612, 17.86099094,\n",
              "       19.2964178 , 26.14229976, 23.99836092, 10.60104353,  6.69042547,\n",
              "       25.82024887, 23.90634638, 31.36872578, 22.23168171, 20.8054563 ,\n",
              "       29.15117531, 23.0782155 , 27.78015862, 27.14525828, 11.30955551,\n",
              "       17.64015603, 31.58035923, 23.64870566, 28.46106624, 27.47651063,\n",
              "       32.63852647, 21.26552901, 30.97306325, 20.27177195, 22.02004826,\n",
              "       19.70128179, 17.54814149, 27.43050336,  6.65361966, 27.10845246,\n",
              "       25.37857906, 21.79921336, 31.32271851, 17.61255167, 17.74137203,\n",
              "       28.79231859, 28.17582115, 29.60204656, 18.03581857, 14.88892121,\n",
              "       18.03581857, 22.8757835 , 20.62142721, 26.9796321 , 13.08543618,\n",
              "       30.13573091, 21.21032028, 24.78048453, 30.08972364, 26.25271722,\n",
              "       18.82714363, 22.57213551,  6.04632367, 16.02990154, 29.32600294,\n",
              "       18.33946656, 24.89090199,  6.08312949, 20.40979376, 22.94019368,\n",
              "       23.81433184, 27.301683  , 15.54222446, 16.73841352, 23.16102859,\n",
              "       22.57213551,  9.59808502, 30.00691055, 28.27703715, 22.79297042,\n",
              "        6.92046183, 22.16727153, 25.29576597, 19.10318726, 29.00395204,\n",
              "       23.73151875, 29.98850764])"
            ]
          },
          "metadata": {
            "tags": []
          },
          "execution_count": 23
        }
      ]
    },
    {
      "cell_type": "code",
      "metadata": {
        "id": "2AzpCzRITkL3",
        "colab_type": "code",
        "colab": {}
      },
      "source": [
        "y_pred = LR.predict(x_test)"
      ],
      "execution_count": 0,
      "outputs": []
    },
    {
      "cell_type": "code",
      "metadata": {
        "id": "M7rNc1fqTkJn",
        "colab_type": "code",
        "colab": {
          "base_uri": "https://localhost:8080/",
          "height": 381
        },
        "outputId": "e3aac8a7-6243-4460-81b0-d2e4389f1aab"
      },
      "source": [
        "y_pred"
      ],
      "execution_count": 25,
      "outputs": [
        {
          "output_type": "execute_result",
          "data": {
            "text/plain": [
              "array([17.35491095, 24.90930489, 24.9277078 , 26.82320738, 31.58956068,\n",
              "       28.2678357 ,  2.92703068, 18.48668983, 30.03451491, 29.90569455,\n",
              "       30.77063125, 26.46435066, 12.75418383, 18.05422148, 18.67992036,\n",
              "       22.88498496, 25.48899651, 24.61485836, 19.37923089, 30.05291782,\n",
              "       18.64311455, 14.18961069, 18.44068255, 20.74104612, 17.86099094,\n",
              "       19.2964178 , 26.14229976, 23.99836092, 10.60104353,  6.69042547,\n",
              "       25.82024887, 23.90634638, 31.36872578, 22.23168171, 20.8054563 ,\n",
              "       29.15117531, 23.0782155 , 27.78015862, 27.14525828, 11.30955551,\n",
              "       17.64015603, 31.58035923, 23.64870566, 28.46106624, 27.47651063,\n",
              "       32.63852647, 21.26552901, 30.97306325, 20.27177195, 22.02004826,\n",
              "       19.70128179, 17.54814149, 27.43050336,  6.65361966, 27.10845246,\n",
              "       25.37857906, 21.79921336, 31.32271851, 17.61255167, 17.74137203,\n",
              "       28.79231859, 28.17582115, 29.60204656, 18.03581857, 14.88892121,\n",
              "       18.03581857, 22.8757835 , 20.62142721, 26.9796321 , 13.08543618,\n",
              "       30.13573091, 21.21032028, 24.78048453, 30.08972364, 26.25271722,\n",
              "       18.82714363, 22.57213551,  6.04632367, 16.02990154, 29.32600294,\n",
              "       18.33946656, 24.89090199,  6.08312949, 20.40979376, 22.94019368,\n",
              "       23.81433184, 27.301683  , 15.54222446, 16.73841352, 23.16102859,\n",
              "       22.57213551,  9.59808502, 30.00691055, 28.27703715, 22.79297042,\n",
              "        6.92046183, 22.16727153, 25.29576597, 19.10318726, 29.00395204,\n",
              "       23.73151875, 29.98850764])"
            ]
          },
          "metadata": {
            "tags": []
          },
          "execution_count": 25
        }
      ]
    },
    {
      "cell_type": "code",
      "metadata": {
        "id": "KS_WkjALTkER",
        "colab_type": "code",
        "colab": {
          "base_uri": "https://localhost:8080/",
          "height": 225
        },
        "outputId": "6d0f8924-a236-496d-a2b5-290fce3db92a"
      },
      "source": [
        "y_test"
      ],
      "execution_count": 26,
      "outputs": [
        {
          "output_type": "execute_result",
          "data": {
            "text/plain": [
              "129    14.3\n",
              "38     24.7\n",
              "176    23.2\n",
              "64     33.0\n",
              "192    36.4\n",
              "       ... \n",
              "220    26.7\n",
              "447    12.6\n",
              "333    22.2\n",
              "36     20.0\n",
              "344    31.2\n",
              "Name: medv, Length: 102, dtype: float64"
            ]
          },
          "metadata": {
            "tags": []
          },
          "execution_count": 26
        }
      ]
    },
    {
      "cell_type": "code",
      "metadata": {
        "id": "Skt2wDWqTj9Z",
        "colab_type": "code",
        "colab": {
          "base_uri": "https://localhost:8080/",
          "height": 35
        },
        "outputId": "5f467223-e27d-4059-9147-ca62c9708096"
      },
      "source": [
        "# Not the proper way to evaluate Regression model\n",
        "(y_test == y_pred).sum()"
      ],
      "execution_count": 27,
      "outputs": [
        {
          "output_type": "execute_result",
          "data": {
            "text/plain": [
              "0"
            ]
          },
          "metadata": {
            "tags": []
          },
          "execution_count": 27
        }
      ]
    },
    {
      "cell_type": "code",
      "metadata": {
        "id": "eZiVmjgtTj4B",
        "colab_type": "code",
        "colab": {
          "base_uri": "https://localhost:8080/",
          "height": 35
        },
        "outputId": "14930428-ecc8-4de9-e80b-4eb9ca541643"
      },
      "source": [
        "mean_squared_error(y_pred,y_test)"
      ],
      "execution_count": 28,
      "outputs": [
        {
          "output_type": "execute_result",
          "data": {
            "text/plain": [
              "40.39576341136942"
            ]
          },
          "metadata": {
            "tags": []
          },
          "execution_count": 28
        }
      ]
    },
    {
      "cell_type": "code",
      "metadata": {
        "id": "g9kbtbGXTjxU",
        "colab_type": "code",
        "colab": {
          "base_uri": "https://localhost:8080/",
          "height": 35
        },
        "outputId": "8a379093-d091-4f6a-cba5-4c74c60e84f9"
      },
      "source": [
        "from sklearn.metrics import r2_score\n",
        "r2_score(y_test,y_pred)"
      ],
      "execution_count": 29,
      "outputs": [
        {
          "output_type": "execute_result",
          "data": {
            "text/plain": [
              "0.5884157339639788"
            ]
          },
          "metadata": {
            "tags": []
          },
          "execution_count": 29
        }
      ]
    },
    {
      "cell_type": "markdown",
      "metadata": {
        "id": "l_sMiaxjYhkp",
        "colab_type": "text"
      },
      "source": [
        "**58% times we are predicting the house price** "
      ]
    },
    {
      "cell_type": "markdown",
      "metadata": {
        "id": "SULdbDTnY2ha",
        "colab_type": "text"
      },
      "source": [
        "**correctly when we use a single column i.e lstat\n",
        "Create a model with single feature rm and target is medv**"
      ]
    },
    {
      "cell_type": "code",
      "metadata": {
        "id": "4CuT-TDoTjuL",
        "colab_type": "code",
        "colab": {}
      },
      "source": [
        "x_data_rm = data[['rm']]"
      ],
      "execution_count": 0,
      "outputs": []
    },
    {
      "cell_type": "code",
      "metadata": {
        "id": "hNLQS2m3YgC_",
        "colab_type": "code",
        "colab": {}
      },
      "source": [
        "# train_test_split\n",
        "x_train_rm,x_test_rm,y_train_rm,y_test_rm = \\\n",
        "        train_test_split(x_data_rm,y_data,test_size =0.2)"
      ],
      "execution_count": 0,
      "outputs": []
    },
    {
      "cell_type": "code",
      "metadata": {
        "id": "i4aFFL3IYgRD",
        "colab_type": "code",
        "colab": {
          "base_uri": "https://localhost:8080/",
          "height": 381
        },
        "outputId": "f129387d-9a94-4d8a-97c1-9bd2d5bb3b86"
      },
      "source": [
        "# Linear regression\n",
        "# import the model\n",
        "from sklearn.linear_model import LinearRegression\n",
        "# Create an instance for the model\n",
        "LR = LinearRegression()\n",
        "# Training the model \n",
        "LR.fit(x_train_rm,y_train_rm)\n",
        "# Predict the output\n",
        "LR.predict(x_test_rm)"
      ],
      "execution_count": 32,
      "outputs": [
        {
          "output_type": "execute_result",
          "data": {
            "text/plain": [
              "array([21.12520701, 25.06170954, 30.27353688, 24.83215108, 23.49731113,\n",
              "       25.77589143, 30.59661916, 40.43362442, 19.88389087, 28.53059299,\n",
              "       14.97814149, 16.71258321, 21.61833259, 21.99242787, 19.41627178,\n",
              "       31.5913725 , 10.91410647, 17.56279974, 21.52480878, 18.80411588,\n",
              "       26.42205599, 34.38008272, 27.35729418, 19.75635839, 25.50382214,\n",
              "       25.35928533, 25.40179616, 23.59083495, 20.07093851, 15.39474759,\n",
              "       16.63606372, 21.82238456, 22.00093003, 19.71384757, 23.62484361,\n",
              "       20.99767453, 43.035287  , 40.23807462, 20.60657492, 22.8171379 ,\n",
              "       25.61435029, 23.24224617, 26.12448021, 39.91499234, 17.34174345,\n",
              "       20.36001213, 18.2344708 , 35.98699196, 28.37755401, 11.22868659,\n",
              "       19.9008952 , 22.69810759, 16.58505073, 23.233744  , 15.06316314,\n",
              "       20.63208142, 29.80591779, 32.08449809, 21.12520701, 20.27499048,\n",
              "       29.43182251, 39.57490572, 28.66662763, 23.46330247, 21.84789106,\n",
              "       21.46529362, 16.7891027 , 20.07944067, 18.53204659, 30.29904337,\n",
              "       19.61182158, 23.96493022, 26.84716426, 26.22650619, 28.0629739 ,\n",
              "       19.50129343, 23.08920719, 23.93942372, 24.63660128, 21.46529362,\n",
              "       20.17296449, 28.60711248, 21.96692137, 14.46801157, 21.33776114,\n",
              "       19.49279127, 28.18200421, 19.50129343, 23.92241939, 19.93490386,\n",
              "       18.93164836, 26.9831989 , 21.06569185, 26.23500836, 30.66463648,\n",
              "       30.98771876, 20.47904244, 15.96439267, 14.96963932, 18.82962237,\n",
              "       26.79615127, 22.74061842])"
            ]
          },
          "metadata": {
            "tags": []
          },
          "execution_count": 32
        }
      ]
    },
    {
      "cell_type": "code",
      "metadata": {
        "id": "EVYlJJqSYgOz",
        "colab_type": "code",
        "colab": {
          "base_uri": "https://localhost:8080/",
          "height": 35
        },
        "outputId": "0fa45373-4c7c-40e4-80fc-f5ae434a5655"
      },
      "source": [
        "r2_score(LR.predict(x_test_rm),y_test_rm)"
      ],
      "execution_count": 33,
      "outputs": [
        {
          "output_type": "execute_result",
          "data": {
            "text/plain": [
              "0.14497853641485958"
            ]
          },
          "metadata": {
            "tags": []
          },
          "execution_count": 33
        }
      ]
    },
    {
      "cell_type": "code",
      "metadata": {
        "id": "WcjQEcx0YgJk",
        "colab_type": "code",
        "colab": {
          "base_uri": "https://localhost:8080/",
          "height": 35
        },
        "outputId": "8138fe00-a006-4706-a9fc-6f7a1805a369"
      },
      "source": [
        "mean_squared_error(LR.predict(x_test_rm),y_test_rm)"
      ],
      "execution_count": 34,
      "outputs": [
        {
          "output_type": "execute_result",
          "data": {
            "text/plain": [
              "32.324641050424745"
            ]
          },
          "metadata": {
            "tags": []
          },
          "execution_count": 34
        }
      ]
    },
    {
      "cell_type": "markdown",
      "metadata": {
        "id": "7vKCuhIMZsRs",
        "colab_type": "text"
      },
      "source": [
        "**LinearRegression with two columns**"
      ]
    },
    {
      "cell_type": "code",
      "metadata": {
        "id": "WQDhh-qGYgAo",
        "colab_type": "code",
        "colab": {}
      },
      "source": [
        "x_data2 = data[[\"rm\",\"lstat\"]]"
      ],
      "execution_count": 0,
      "outputs": []
    },
    {
      "cell_type": "code",
      "metadata": {
        "id": "wpCGjEQiYf73",
        "colab_type": "code",
        "colab": {
          "base_uri": "https://localhost:8080/",
          "height": 381
        },
        "outputId": "65ba0866-fb13-4d82-886b-1c6d58646a49"
      },
      "source": [
        "x_train2,x_test2,y_train2,y_test2 = train_test_split(x_data2,y_data,test_size=0.2)\n",
        "# Create an instance for the model\n",
        "LR = LinearRegression()\n",
        "# Training the model \n",
        "LR.fit(x_train2,y_train2)\n",
        "# Predict the output\n",
        "LR.predict(x_test2)"
      ],
      "execution_count": 36,
      "outputs": [
        {
          "output_type": "execute_result",
          "data": {
            "text/plain": [
              "array([19.48260755, 18.65904548, 12.6028215 , 22.59516739, 21.61164941,\n",
              "       20.59747571, 27.67133981,  8.19435612, 36.63872084,  6.80454057,\n",
              "       22.49340625, 31.37171797, 19.12301411, 23.55592292, 26.17725712,\n",
              "       28.50792059, 19.91579132, 20.17065893, 24.1536168 , 20.84806935,\n",
              "       29.93988519, 13.01221559, 30.06122439, 23.83076226, 19.50873195,\n",
              "       -2.78364563, 38.56191019, 26.96776463,  9.37611806,  9.18910377,\n",
              "       18.64273522, 27.74026252, 19.31824855, 21.85417671, 18.09503793,\n",
              "       26.2273407 , 28.15262218, 20.6620137 , 23.0526399 , 29.73289738,\n",
              "       21.89684767, 23.61324604, 21.16409731, 24.23184921, 29.26125248,\n",
              "       27.04078642, 22.95929574, -5.41518495, 27.47488489, 15.7950961 ,\n",
              "       13.88281046, 20.00126238, 18.4434685 , 29.38887259, 33.04939157,\n",
              "       31.10721109,  8.58545676, 30.89165609, 28.97023381, 12.25368786,\n",
              "       20.07291078, 18.29932112, 18.76313685, 17.65411378, 36.6485982 ,\n",
              "       27.51873419, 28.7306712 , 20.74781611, 24.10220288, 19.75186725,\n",
              "       23.47230322, 23.02610343, 19.6204117 , 20.1689367 , 25.73356422,\n",
              "       27.51367468, 26.64114056, 16.41295945, 25.11705319, 25.70986332,\n",
              "       21.68608853, 31.29730082, 31.42398157, 28.94258581,  6.5150271 ,\n",
              "       31.82999621, 20.09196782, 20.94780158, 19.50547895, 23.58736331,\n",
              "       20.31474129, 22.87491425, 21.46804681, 35.0553052 , 22.26753805,\n",
              "       19.14508068, 36.10925109, 22.56209086, 19.15290715, 16.72268632,\n",
              "       28.03806473, 23.25162368])"
            ]
          },
          "metadata": {
            "tags": []
          },
          "execution_count": 36
        }
      ]
    },
    {
      "cell_type": "code",
      "metadata": {
        "id": "5yGJ21qVZ-ry",
        "colab_type": "code",
        "colab": {
          "base_uri": "https://localhost:8080/",
          "height": 35
        },
        "outputId": "5853d3c6-b453-4e62-845c-88d75b4d783d"
      },
      "source": [
        "#mse\n",
        "mean_squared_error(LR.predict(x_test2),y_test2)"
      ],
      "execution_count": 37,
      "outputs": [
        {
          "output_type": "execute_result",
          "data": {
            "text/plain": [
              "28.13327945197916"
            ]
          },
          "metadata": {
            "tags": []
          },
          "execution_count": 37
        }
      ]
    },
    {
      "cell_type": "code",
      "metadata": {
        "id": "2ghwmSckZ_BR",
        "colab_type": "code",
        "colab": {
          "base_uri": "https://localhost:8080/",
          "height": 35
        },
        "outputId": "7be4bcbd-f979-4b88-d1fb-c2914c3c3aa9"
      },
      "source": [
        "r2_score(LR.predict(x_test2),y_test2)"
      ],
      "execution_count": 38,
      "outputs": [
        {
          "output_type": "execute_result",
          "data": {
            "text/plain": [
              "0.4995738340234097"
            ]
          },
          "metadata": {
            "tags": []
          },
          "execution_count": 38
        }
      ]
    },
    {
      "cell_type": "code",
      "metadata": {
        "id": "8mIrDLjQZ-_n",
        "colab_type": "code",
        "colab": {
          "base_uri": "https://localhost:8080/",
          "height": 314
        },
        "outputId": "e9b7389e-8d09-4297-c906-358735901bff"
      },
      "source": [
        "data.describe()"
      ],
      "execution_count": 39,
      "outputs": [
        {
          "output_type": "execute_result",
          "data": {
            "text/html": [
              "<div>\n",
              "<style scoped>\n",
              "    .dataframe tbody tr th:only-of-type {\n",
              "        vertical-align: middle;\n",
              "    }\n",
              "\n",
              "    .dataframe tbody tr th {\n",
              "        vertical-align: top;\n",
              "    }\n",
              "\n",
              "    .dataframe thead th {\n",
              "        text-align: right;\n",
              "    }\n",
              "</style>\n",
              "<table border=\"1\" class=\"dataframe\">\n",
              "  <thead>\n",
              "    <tr style=\"text-align: right;\">\n",
              "      <th></th>\n",
              "      <th>crim</th>\n",
              "      <th>zn</th>\n",
              "      <th>indus</th>\n",
              "      <th>chas</th>\n",
              "      <th>nox</th>\n",
              "      <th>rm</th>\n",
              "      <th>age</th>\n",
              "      <th>dis</th>\n",
              "      <th>rad</th>\n",
              "      <th>tax</th>\n",
              "      <th>ptratio</th>\n",
              "      <th>b</th>\n",
              "      <th>lstat</th>\n",
              "      <th>medv</th>\n",
              "    </tr>\n",
              "  </thead>\n",
              "  <tbody>\n",
              "    <tr>\n",
              "      <th>count</th>\n",
              "      <td>506.000000</td>\n",
              "      <td>506.000000</td>\n",
              "      <td>506.000000</td>\n",
              "      <td>506.000000</td>\n",
              "      <td>506.000000</td>\n",
              "      <td>506.000000</td>\n",
              "      <td>506.000000</td>\n",
              "      <td>506.000000</td>\n",
              "      <td>506.000000</td>\n",
              "      <td>506.000000</td>\n",
              "      <td>506.000000</td>\n",
              "      <td>506.000000</td>\n",
              "      <td>506.000000</td>\n",
              "      <td>506.000000</td>\n",
              "    </tr>\n",
              "    <tr>\n",
              "      <th>mean</th>\n",
              "      <td>3.613524</td>\n",
              "      <td>11.363636</td>\n",
              "      <td>11.136779</td>\n",
              "      <td>0.069170</td>\n",
              "      <td>0.554695</td>\n",
              "      <td>6.284634</td>\n",
              "      <td>68.574901</td>\n",
              "      <td>3.795043</td>\n",
              "      <td>9.549407</td>\n",
              "      <td>408.237154</td>\n",
              "      <td>18.455534</td>\n",
              "      <td>356.674032</td>\n",
              "      <td>12.653063</td>\n",
              "      <td>22.532806</td>\n",
              "    </tr>\n",
              "    <tr>\n",
              "      <th>std</th>\n",
              "      <td>8.601545</td>\n",
              "      <td>23.322453</td>\n",
              "      <td>6.860353</td>\n",
              "      <td>0.253994</td>\n",
              "      <td>0.115878</td>\n",
              "      <td>0.702617</td>\n",
              "      <td>28.148861</td>\n",
              "      <td>2.105710</td>\n",
              "      <td>8.707259</td>\n",
              "      <td>168.537116</td>\n",
              "      <td>2.164946</td>\n",
              "      <td>91.294864</td>\n",
              "      <td>7.141062</td>\n",
              "      <td>9.197104</td>\n",
              "    </tr>\n",
              "    <tr>\n",
              "      <th>min</th>\n",
              "      <td>0.006320</td>\n",
              "      <td>0.000000</td>\n",
              "      <td>0.460000</td>\n",
              "      <td>0.000000</td>\n",
              "      <td>0.385000</td>\n",
              "      <td>3.561000</td>\n",
              "      <td>2.900000</td>\n",
              "      <td>1.129600</td>\n",
              "      <td>1.000000</td>\n",
              "      <td>187.000000</td>\n",
              "      <td>12.600000</td>\n",
              "      <td>0.320000</td>\n",
              "      <td>1.730000</td>\n",
              "      <td>5.000000</td>\n",
              "    </tr>\n",
              "    <tr>\n",
              "      <th>25%</th>\n",
              "      <td>0.082045</td>\n",
              "      <td>0.000000</td>\n",
              "      <td>5.190000</td>\n",
              "      <td>0.000000</td>\n",
              "      <td>0.449000</td>\n",
              "      <td>5.885500</td>\n",
              "      <td>45.025000</td>\n",
              "      <td>2.100175</td>\n",
              "      <td>4.000000</td>\n",
              "      <td>279.000000</td>\n",
              "      <td>17.400000</td>\n",
              "      <td>375.377500</td>\n",
              "      <td>6.950000</td>\n",
              "      <td>17.025000</td>\n",
              "    </tr>\n",
              "    <tr>\n",
              "      <th>50%</th>\n",
              "      <td>0.256510</td>\n",
              "      <td>0.000000</td>\n",
              "      <td>9.690000</td>\n",
              "      <td>0.000000</td>\n",
              "      <td>0.538000</td>\n",
              "      <td>6.208500</td>\n",
              "      <td>77.500000</td>\n",
              "      <td>3.207450</td>\n",
              "      <td>5.000000</td>\n",
              "      <td>330.000000</td>\n",
              "      <td>19.050000</td>\n",
              "      <td>391.440000</td>\n",
              "      <td>11.360000</td>\n",
              "      <td>21.200000</td>\n",
              "    </tr>\n",
              "    <tr>\n",
              "      <th>75%</th>\n",
              "      <td>3.677082</td>\n",
              "      <td>12.500000</td>\n",
              "      <td>18.100000</td>\n",
              "      <td>0.000000</td>\n",
              "      <td>0.624000</td>\n",
              "      <td>6.623500</td>\n",
              "      <td>94.075000</td>\n",
              "      <td>5.188425</td>\n",
              "      <td>24.000000</td>\n",
              "      <td>666.000000</td>\n",
              "      <td>20.200000</td>\n",
              "      <td>396.225000</td>\n",
              "      <td>16.955000</td>\n",
              "      <td>25.000000</td>\n",
              "    </tr>\n",
              "    <tr>\n",
              "      <th>max</th>\n",
              "      <td>88.976200</td>\n",
              "      <td>100.000000</td>\n",
              "      <td>27.740000</td>\n",
              "      <td>1.000000</td>\n",
              "      <td>0.871000</td>\n",
              "      <td>8.780000</td>\n",
              "      <td>100.000000</td>\n",
              "      <td>12.126500</td>\n",
              "      <td>24.000000</td>\n",
              "      <td>711.000000</td>\n",
              "      <td>22.000000</td>\n",
              "      <td>396.900000</td>\n",
              "      <td>37.970000</td>\n",
              "      <td>50.000000</td>\n",
              "    </tr>\n",
              "  </tbody>\n",
              "</table>\n",
              "</div>"
            ],
            "text/plain": [
              "             crim          zn       indus  ...           b       lstat        medv\n",
              "count  506.000000  506.000000  506.000000  ...  506.000000  506.000000  506.000000\n",
              "mean     3.613524   11.363636   11.136779  ...  356.674032   12.653063   22.532806\n",
              "std      8.601545   23.322453    6.860353  ...   91.294864    7.141062    9.197104\n",
              "min      0.006320    0.000000    0.460000  ...    0.320000    1.730000    5.000000\n",
              "25%      0.082045    0.000000    5.190000  ...  375.377500    6.950000   17.025000\n",
              "50%      0.256510    0.000000    9.690000  ...  391.440000   11.360000   21.200000\n",
              "75%      3.677082   12.500000   18.100000  ...  396.225000   16.955000   25.000000\n",
              "max     88.976200  100.000000   27.740000  ...  396.900000   37.970000   50.000000\n",
              "\n",
              "[8 rows x 14 columns]"
            ]
          },
          "metadata": {
            "tags": []
          },
          "execution_count": 39
        }
      ]
    },
    {
      "cell_type": "code",
      "metadata": {
        "id": "7flPlD2YZ-9z",
        "colab_type": "code",
        "colab": {
          "base_uri": "https://localhost:8080/",
          "height": 435
        },
        "outputId": "42bf805d-533e-4bfb-cb0e-33f1e0386b0d"
      },
      "source": [
        "data"
      ],
      "execution_count": 40,
      "outputs": [
        {
          "output_type": "execute_result",
          "data": {
            "text/html": [
              "<div>\n",
              "<style scoped>\n",
              "    .dataframe tbody tr th:only-of-type {\n",
              "        vertical-align: middle;\n",
              "    }\n",
              "\n",
              "    .dataframe tbody tr th {\n",
              "        vertical-align: top;\n",
              "    }\n",
              "\n",
              "    .dataframe thead th {\n",
              "        text-align: right;\n",
              "    }\n",
              "</style>\n",
              "<table border=\"1\" class=\"dataframe\">\n",
              "  <thead>\n",
              "    <tr style=\"text-align: right;\">\n",
              "      <th></th>\n",
              "      <th>crim</th>\n",
              "      <th>zn</th>\n",
              "      <th>indus</th>\n",
              "      <th>chas</th>\n",
              "      <th>nox</th>\n",
              "      <th>rm</th>\n",
              "      <th>age</th>\n",
              "      <th>dis</th>\n",
              "      <th>rad</th>\n",
              "      <th>tax</th>\n",
              "      <th>ptratio</th>\n",
              "      <th>b</th>\n",
              "      <th>lstat</th>\n",
              "      <th>medv</th>\n",
              "    </tr>\n",
              "  </thead>\n",
              "  <tbody>\n",
              "    <tr>\n",
              "      <th>0</th>\n",
              "      <td>0.00632</td>\n",
              "      <td>18.0</td>\n",
              "      <td>2.31</td>\n",
              "      <td>0</td>\n",
              "      <td>0.538</td>\n",
              "      <td>6.575</td>\n",
              "      <td>65.2</td>\n",
              "      <td>4.0900</td>\n",
              "      <td>1</td>\n",
              "      <td>296</td>\n",
              "      <td>15.3</td>\n",
              "      <td>396.90</td>\n",
              "      <td>4.98</td>\n",
              "      <td>24.0</td>\n",
              "    </tr>\n",
              "    <tr>\n",
              "      <th>1</th>\n",
              "      <td>0.02731</td>\n",
              "      <td>0.0</td>\n",
              "      <td>7.07</td>\n",
              "      <td>0</td>\n",
              "      <td>0.469</td>\n",
              "      <td>6.421</td>\n",
              "      <td>78.9</td>\n",
              "      <td>4.9671</td>\n",
              "      <td>2</td>\n",
              "      <td>242</td>\n",
              "      <td>17.8</td>\n",
              "      <td>396.90</td>\n",
              "      <td>9.14</td>\n",
              "      <td>21.6</td>\n",
              "    </tr>\n",
              "    <tr>\n",
              "      <th>2</th>\n",
              "      <td>0.02729</td>\n",
              "      <td>0.0</td>\n",
              "      <td>7.07</td>\n",
              "      <td>0</td>\n",
              "      <td>0.469</td>\n",
              "      <td>7.185</td>\n",
              "      <td>61.1</td>\n",
              "      <td>4.9671</td>\n",
              "      <td>2</td>\n",
              "      <td>242</td>\n",
              "      <td>17.8</td>\n",
              "      <td>392.83</td>\n",
              "      <td>4.03</td>\n",
              "      <td>34.7</td>\n",
              "    </tr>\n",
              "    <tr>\n",
              "      <th>3</th>\n",
              "      <td>0.03237</td>\n",
              "      <td>0.0</td>\n",
              "      <td>2.18</td>\n",
              "      <td>0</td>\n",
              "      <td>0.458</td>\n",
              "      <td>6.998</td>\n",
              "      <td>45.8</td>\n",
              "      <td>6.0622</td>\n",
              "      <td>3</td>\n",
              "      <td>222</td>\n",
              "      <td>18.7</td>\n",
              "      <td>394.63</td>\n",
              "      <td>2.94</td>\n",
              "      <td>33.4</td>\n",
              "    </tr>\n",
              "    <tr>\n",
              "      <th>4</th>\n",
              "      <td>0.06905</td>\n",
              "      <td>0.0</td>\n",
              "      <td>2.18</td>\n",
              "      <td>0</td>\n",
              "      <td>0.458</td>\n",
              "      <td>7.147</td>\n",
              "      <td>54.2</td>\n",
              "      <td>6.0622</td>\n",
              "      <td>3</td>\n",
              "      <td>222</td>\n",
              "      <td>18.7</td>\n",
              "      <td>396.90</td>\n",
              "      <td>5.33</td>\n",
              "      <td>36.2</td>\n",
              "    </tr>\n",
              "    <tr>\n",
              "      <th>...</th>\n",
              "      <td>...</td>\n",
              "      <td>...</td>\n",
              "      <td>...</td>\n",
              "      <td>...</td>\n",
              "      <td>...</td>\n",
              "      <td>...</td>\n",
              "      <td>...</td>\n",
              "      <td>...</td>\n",
              "      <td>...</td>\n",
              "      <td>...</td>\n",
              "      <td>...</td>\n",
              "      <td>...</td>\n",
              "      <td>...</td>\n",
              "      <td>...</td>\n",
              "    </tr>\n",
              "    <tr>\n",
              "      <th>501</th>\n",
              "      <td>0.06263</td>\n",
              "      <td>0.0</td>\n",
              "      <td>11.93</td>\n",
              "      <td>0</td>\n",
              "      <td>0.573</td>\n",
              "      <td>6.593</td>\n",
              "      <td>69.1</td>\n",
              "      <td>2.4786</td>\n",
              "      <td>1</td>\n",
              "      <td>273</td>\n",
              "      <td>21.0</td>\n",
              "      <td>391.99</td>\n",
              "      <td>9.67</td>\n",
              "      <td>22.4</td>\n",
              "    </tr>\n",
              "    <tr>\n",
              "      <th>502</th>\n",
              "      <td>0.04527</td>\n",
              "      <td>0.0</td>\n",
              "      <td>11.93</td>\n",
              "      <td>0</td>\n",
              "      <td>0.573</td>\n",
              "      <td>6.120</td>\n",
              "      <td>76.7</td>\n",
              "      <td>2.2875</td>\n",
              "      <td>1</td>\n",
              "      <td>273</td>\n",
              "      <td>21.0</td>\n",
              "      <td>396.90</td>\n",
              "      <td>9.08</td>\n",
              "      <td>20.6</td>\n",
              "    </tr>\n",
              "    <tr>\n",
              "      <th>503</th>\n",
              "      <td>0.06076</td>\n",
              "      <td>0.0</td>\n",
              "      <td>11.93</td>\n",
              "      <td>0</td>\n",
              "      <td>0.573</td>\n",
              "      <td>6.976</td>\n",
              "      <td>91.0</td>\n",
              "      <td>2.1675</td>\n",
              "      <td>1</td>\n",
              "      <td>273</td>\n",
              "      <td>21.0</td>\n",
              "      <td>396.90</td>\n",
              "      <td>5.64</td>\n",
              "      <td>23.9</td>\n",
              "    </tr>\n",
              "    <tr>\n",
              "      <th>504</th>\n",
              "      <td>0.10959</td>\n",
              "      <td>0.0</td>\n",
              "      <td>11.93</td>\n",
              "      <td>0</td>\n",
              "      <td>0.573</td>\n",
              "      <td>6.794</td>\n",
              "      <td>89.3</td>\n",
              "      <td>2.3889</td>\n",
              "      <td>1</td>\n",
              "      <td>273</td>\n",
              "      <td>21.0</td>\n",
              "      <td>393.45</td>\n",
              "      <td>6.48</td>\n",
              "      <td>22.0</td>\n",
              "    </tr>\n",
              "    <tr>\n",
              "      <th>505</th>\n",
              "      <td>0.04741</td>\n",
              "      <td>0.0</td>\n",
              "      <td>11.93</td>\n",
              "      <td>0</td>\n",
              "      <td>0.573</td>\n",
              "      <td>6.030</td>\n",
              "      <td>80.8</td>\n",
              "      <td>2.5050</td>\n",
              "      <td>1</td>\n",
              "      <td>273</td>\n",
              "      <td>21.0</td>\n",
              "      <td>396.90</td>\n",
              "      <td>7.88</td>\n",
              "      <td>11.9</td>\n",
              "    </tr>\n",
              "  </tbody>\n",
              "</table>\n",
              "<p>506 rows × 14 columns</p>\n",
              "</div>"
            ],
            "text/plain": [
              "        crim    zn  indus  chas    nox  ...  tax  ptratio       b  lstat  medv\n",
              "0    0.00632  18.0   2.31     0  0.538  ...  296     15.3  396.90   4.98  24.0\n",
              "1    0.02731   0.0   7.07     0  0.469  ...  242     17.8  396.90   9.14  21.6\n",
              "2    0.02729   0.0   7.07     0  0.469  ...  242     17.8  392.83   4.03  34.7\n",
              "3    0.03237   0.0   2.18     0  0.458  ...  222     18.7  394.63   2.94  33.4\n",
              "4    0.06905   0.0   2.18     0  0.458  ...  222     18.7  396.90   5.33  36.2\n",
              "..       ...   ...    ...   ...    ...  ...  ...      ...     ...    ...   ...\n",
              "501  0.06263   0.0  11.93     0  0.573  ...  273     21.0  391.99   9.67  22.4\n",
              "502  0.04527   0.0  11.93     0  0.573  ...  273     21.0  396.90   9.08  20.6\n",
              "503  0.06076   0.0  11.93     0  0.573  ...  273     21.0  396.90   5.64  23.9\n",
              "504  0.10959   0.0  11.93     0  0.573  ...  273     21.0  393.45   6.48  22.0\n",
              "505  0.04741   0.0  11.93     0  0.573  ...  273     21.0  396.90   7.88  11.9\n",
              "\n",
              "[506 rows x 14 columns]"
            ]
          },
          "metadata": {
            "tags": []
          },
          "execution_count": 40
        }
      ]
    },
    {
      "cell_type": "code",
      "metadata": {
        "id": "DnAWVk-wZ-60",
        "colab_type": "code",
        "colab": {}
      },
      "source": [
        "x = data.drop('medv',axis=1)\n",
        "y = data['medv']"
      ],
      "execution_count": 0,
      "outputs": []
    },
    {
      "cell_type": "code",
      "metadata": {
        "id": "Dc8UhcwFZ-3H",
        "colab_type": "code",
        "colab": {
          "base_uri": "https://localhost:8080/",
          "height": 52
        },
        "outputId": "89b3b482-300e-46af-bcca-403b7573338a"
      },
      "source": [
        "train_x,test_x,train_y,test_y = train_test_split(x,y,test_size=0.2)\n",
        "print(train_x.shape)\n",
        "print(train_y.shape)"
      ],
      "execution_count": 42,
      "outputs": [
        {
          "output_type": "stream",
          "text": [
            "(404, 13)\n",
            "(404,)\n"
          ],
          "name": "stdout"
        }
      ]
    },
    {
      "cell_type": "code",
      "metadata": {
        "id": "4FsnG50pZ-0A",
        "colab_type": "code",
        "colab": {}
      },
      "source": [
        "results = pd.DataFrame()"
      ],
      "execution_count": 0,
      "outputs": []
    },
    {
      "cell_type": "markdown",
      "metadata": {
        "id": "m14JQF6natAk",
        "colab_type": "text"
      },
      "source": [
        "**Linear Regressor**"
      ]
    },
    {
      "cell_type": "code",
      "metadata": {
        "id": "RKGRzB_cZ-wY",
        "colab_type": "code",
        "colab": {
          "base_uri": "https://localhost:8080/",
          "height": 110
        },
        "outputId": "3b5e6080-bd6d-46da-ec1e-4ec63de9f473"
      },
      "source": [
        "from sklearn.linear_model import LinearRegression\n",
        "LR = LinearRegression()\n",
        "LR.fit(train_x,train_y)\n",
        "y_pred = LR.predict(test_x)\n",
        "results['lr'] = pd.Series([r2_score(y_pred,test_y),mean_squared_error(y_pred,test_y)])\n",
        "y_pre =  LR.predict(train_x)\n",
        "results['lr_train'] = pd.Series([r2_score(y_pre,train_y),mean_squared_error(y_pre,train_y)])\n",
        "results"
      ],
      "execution_count": 44,
      "outputs": [
        {
          "output_type": "execute_result",
          "data": {
            "text/html": [
              "<div>\n",
              "<style scoped>\n",
              "    .dataframe tbody tr th:only-of-type {\n",
              "        vertical-align: middle;\n",
              "    }\n",
              "\n",
              "    .dataframe tbody tr th {\n",
              "        vertical-align: top;\n",
              "    }\n",
              "\n",
              "    .dataframe thead th {\n",
              "        text-align: right;\n",
              "    }\n",
              "</style>\n",
              "<table border=\"1\" class=\"dataframe\">\n",
              "  <thead>\n",
              "    <tr style=\"text-align: right;\">\n",
              "      <th></th>\n",
              "      <th>lr</th>\n",
              "      <th>lr_train</th>\n",
              "    </tr>\n",
              "  </thead>\n",
              "  <tbody>\n",
              "    <tr>\n",
              "      <th>0</th>\n",
              "      <td>0.710372</td>\n",
              "      <td>0.646243</td>\n",
              "    </tr>\n",
              "    <tr>\n",
              "      <th>1</th>\n",
              "      <td>21.747669</td>\n",
              "      <td>22.111071</td>\n",
              "    </tr>\n",
              "  </tbody>\n",
              "</table>\n",
              "</div>"
            ],
            "text/plain": [
              "          lr   lr_train\n",
              "0   0.710372   0.646243\n",
              "1  21.747669  22.111071"
            ]
          },
          "metadata": {
            "tags": []
          },
          "execution_count": 44
        }
      ]
    },
    {
      "cell_type": "markdown",
      "metadata": {
        "id": "cf3aFwZza_UR",
        "colab_type": "text"
      },
      "source": [
        "**Ridge Regression**"
      ]
    },
    {
      "cell_type": "code",
      "metadata": {
        "id": "jDGynksgazyt",
        "colab_type": "code",
        "colab": {
          "base_uri": "https://localhost:8080/",
          "height": 110
        },
        "outputId": "2e8d2c35-5fce-4000-aa58-334d1a9f557c"
      },
      "source": [
        "from sklearn.linear_model import Ridge\n",
        "ridge = Ridge()\n",
        "ridge.fit(train_x,train_y)\n",
        "y_pred = ridge.predict(test_x)\n",
        "results['ridge'] = pd.Series([r2_score(y_pred,test_y),mean_squared_error(y_pred,test_y)])\n",
        "y_pre =  ridge.predict(train_x)\n",
        "results['ridge_train'] = pd.Series([r2_score(y_pre,train_y),mean_squared_error(y_pre,train_y)])\n",
        "results"
      ],
      "execution_count": 45,
      "outputs": [
        {
          "output_type": "execute_result",
          "data": {
            "text/html": [
              "<div>\n",
              "<style scoped>\n",
              "    .dataframe tbody tr th:only-of-type {\n",
              "        vertical-align: middle;\n",
              "    }\n",
              "\n",
              "    .dataframe tbody tr th {\n",
              "        vertical-align: top;\n",
              "    }\n",
              "\n",
              "    .dataframe thead th {\n",
              "        text-align: right;\n",
              "    }\n",
              "</style>\n",
              "<table border=\"1\" class=\"dataframe\">\n",
              "  <thead>\n",
              "    <tr style=\"text-align: right;\">\n",
              "      <th></th>\n",
              "      <th>lr</th>\n",
              "      <th>lr_train</th>\n",
              "      <th>ridge</th>\n",
              "      <th>ridge_train</th>\n",
              "    </tr>\n",
              "  </thead>\n",
              "  <tbody>\n",
              "    <tr>\n",
              "      <th>0</th>\n",
              "      <td>0.710372</td>\n",
              "      <td>0.646243</td>\n",
              "      <td>0.701423</td>\n",
              "      <td>0.638916</td>\n",
              "    </tr>\n",
              "    <tr>\n",
              "      <th>1</th>\n",
              "      <td>21.747669</td>\n",
              "      <td>22.111071</td>\n",
              "      <td>22.109423</td>\n",
              "      <td>22.299984</td>\n",
              "    </tr>\n",
              "  </tbody>\n",
              "</table>\n",
              "</div>"
            ],
            "text/plain": [
              "          lr   lr_train      ridge  ridge_train\n",
              "0   0.710372   0.646243   0.701423     0.638916\n",
              "1  21.747669  22.111071  22.109423    22.299984"
            ]
          },
          "metadata": {
            "tags": []
          },
          "execution_count": 45
        }
      ]
    },
    {
      "cell_type": "markdown",
      "metadata": {
        "id": "AX-k7xX-bLgk",
        "colab_type": "text"
      },
      "source": [
        "**Ridge Regression with different alpha values**"
      ]
    },
    {
      "cell_type": "code",
      "metadata": {
        "id": "GNL59Ek1az6b",
        "colab_type": "code",
        "colab": {
          "base_uri": "https://localhost:8080/",
          "height": 35
        },
        "outputId": "986aea1a-88ce-4e3e-b05c-284adbf4e226"
      },
      "source": [
        "ridge = Ridge(alpha=1)\n",
        "ridge.fit(train_x,train_y)\n",
        "y_pred = ridge.predict(test_x)\n",
        "print(r2_score(y_pred,test_y),mean_squared_error(y_pred,test_y))"
      ],
      "execution_count": 46,
      "outputs": [
        {
          "output_type": "stream",
          "text": [
            "0.7014232946714727 22.109422912368938\n"
          ],
          "name": "stdout"
        }
      ]
    },
    {
      "cell_type": "code",
      "metadata": {
        "id": "atsoV_3ha0Er",
        "colab_type": "code",
        "colab": {
          "base_uri": "https://localhost:8080/",
          "height": 35
        },
        "outputId": "aa9a1ce8-793c-4969-a624-6680807e8d07"
      },
      "source": [
        "ridge = Ridge(alpha=0.1)\n",
        "ridge.fit(train_x,train_y)\n",
        "y_pred = ridge.predict(test_x)\n",
        "print(r2_score(y_pred,test_y),mean_squared_error(y_pred,test_y))"
      ],
      "execution_count": 47,
      "outputs": [
        {
          "output_type": "stream",
          "text": [
            "0.7092397603311064 21.774408956921484\n"
          ],
          "name": "stdout"
        }
      ]
    },
    {
      "cell_type": "code",
      "metadata": {
        "id": "xHFL2OUxa0Cv",
        "colab_type": "code",
        "colab": {
          "base_uri": "https://localhost:8080/",
          "height": 35
        },
        "outputId": "3d77b222-3b53-42f1-fa2b-c7ea84a0f71e"
      },
      "source": [
        "ridge = Ridge(alpha=0.000001)\n",
        "ridge.fit(train_x,train_y)\n",
        "y_pred = ridge.predict(test_x)\n",
        "print(r2_score(y_pred,test_y),mean_squared_error(y_pred,test_y))"
      ],
      "execution_count": 48,
      "outputs": [
        {
          "output_type": "stream",
          "text": [
            "0.7103717235484224 21.74766879321148\n"
          ],
          "name": "stdout"
        }
      ]
    },
    {
      "cell_type": "markdown",
      "metadata": {
        "id": "_Bl3auAAbtsY",
        "colab_type": "text"
      },
      "source": [
        "**Cross validation with Ridge**"
      ]
    },
    {
      "cell_type": "code",
      "metadata": {
        "id": "fcyRuqlYaz_X",
        "colab_type": "code",
        "colab": {}
      },
      "source": [
        "from sklearn.model_selection import cross_val_score\n",
        "rd = Ridge()\n",
        "preds = cross_val_score(rd,x,y,cv =4)"
      ],
      "execution_count": 0,
      "outputs": []
    },
    {
      "cell_type": "code",
      "metadata": {
        "id": "Y4zXzESEaz31",
        "colab_type": "code",
        "colab": {
          "base_uri": "https://localhost:8080/",
          "height": 35
        },
        "outputId": "50d850aa-55e4-45ab-eef0-d34dc534fe63"
      },
      "source": [
        "preds"
      ],
      "execution_count": 50,
      "outputs": [
        {
          "output_type": "execute_result",
          "data": {
            "text/plain": [
              "array([ 0.63408956,  0.60443638,  0.36402473, -0.96395419])"
            ]
          },
          "metadata": {
            "tags": []
          },
          "execution_count": 50
        }
      ]
    },
    {
      "cell_type": "code",
      "metadata": {
        "id": "mFr63U5SbySf",
        "colab_type": "code",
        "colab": {
          "base_uri": "https://localhost:8080/",
          "height": 1000
        },
        "outputId": "6cedb16a-8c99-4b14-a575-835bd221f968"
      },
      "source": [
        "help(cross_val_score)"
      ],
      "execution_count": 51,
      "outputs": [
        {
          "output_type": "stream",
          "text": [
            "Help on function cross_val_score in module sklearn.model_selection._validation:\n",
            "\n",
            "cross_val_score(estimator, X, y=None, groups=None, scoring=None, cv=None, n_jobs=None, verbose=0, fit_params=None, pre_dispatch='2*n_jobs', error_score=nan)\n",
            "    Evaluate a score by cross-validation\n",
            "    \n",
            "    Read more in the :ref:`User Guide <cross_validation>`.\n",
            "    \n",
            "    Parameters\n",
            "    ----------\n",
            "    estimator : estimator object implementing 'fit'\n",
            "        The object to use to fit the data.\n",
            "    \n",
            "    X : array-like\n",
            "        The data to fit. Can be for example a list, or an array.\n",
            "    \n",
            "    y : array-like, optional, default: None\n",
            "        The target variable to try to predict in the case of\n",
            "        supervised learning.\n",
            "    \n",
            "    groups : array-like, with shape (n_samples,), optional\n",
            "        Group labels for the samples used while splitting the dataset into\n",
            "        train/test set. Only used in conjunction with a \"Group\" :term:`cv`\n",
            "        instance (e.g., :class:`GroupKFold`).\n",
            "    \n",
            "    scoring : string, callable or None, optional, default: None\n",
            "        A string (see model evaluation documentation) or\n",
            "        a scorer callable object / function with signature\n",
            "        ``scorer(estimator, X, y)`` which should return only\n",
            "        a single value.\n",
            "    \n",
            "        Similar to :func:`cross_validate`\n",
            "        but only a single metric is permitted.\n",
            "    \n",
            "        If None, the estimator's default scorer (if available) is used.\n",
            "    \n",
            "    cv : int, cross-validation generator or an iterable, optional\n",
            "        Determines the cross-validation splitting strategy.\n",
            "        Possible inputs for cv are:\n",
            "    \n",
            "        - None, to use the default 5-fold cross validation,\n",
            "        - integer, to specify the number of folds in a `(Stratified)KFold`,\n",
            "        - :term:`CV splitter`,\n",
            "        - An iterable yielding (train, test) splits as arrays of indices.\n",
            "    \n",
            "        For integer/None inputs, if the estimator is a classifier and ``y`` is\n",
            "        either binary or multiclass, :class:`StratifiedKFold` is used. In all\n",
            "        other cases, :class:`KFold` is used.\n",
            "    \n",
            "        Refer :ref:`User Guide <cross_validation>` for the various\n",
            "        cross-validation strategies that can be used here.\n",
            "    \n",
            "        .. versionchanged:: 0.22\n",
            "            ``cv`` default value if None changed from 3-fold to 5-fold.\n",
            "    \n",
            "    n_jobs : int or None, optional (default=None)\n",
            "        The number of CPUs to use to do the computation.\n",
            "        ``None`` means 1 unless in a :obj:`joblib.parallel_backend` context.\n",
            "        ``-1`` means using all processors. See :term:`Glossary <n_jobs>`\n",
            "        for more details.\n",
            "    \n",
            "    verbose : integer, optional\n",
            "        The verbosity level.\n",
            "    \n",
            "    fit_params : dict, optional\n",
            "        Parameters to pass to the fit method of the estimator.\n",
            "    \n",
            "    pre_dispatch : int, or string, optional\n",
            "        Controls the number of jobs that get dispatched during parallel\n",
            "        execution. Reducing this number can be useful to avoid an\n",
            "        explosion of memory consumption when more jobs get dispatched\n",
            "        than CPUs can process. This parameter can be:\n",
            "    \n",
            "            - None, in which case all the jobs are immediately\n",
            "              created and spawned. Use this for lightweight and\n",
            "              fast-running jobs, to avoid delays due to on-demand\n",
            "              spawning of the jobs\n",
            "    \n",
            "            - An int, giving the exact number of total jobs that are\n",
            "              spawned\n",
            "    \n",
            "            - A string, giving an expression as a function of n_jobs,\n",
            "              as in '2*n_jobs'\n",
            "    \n",
            "    error_score : 'raise' or numeric\n",
            "        Value to assign to the score if an error occurs in estimator fitting.\n",
            "        If set to 'raise', the error is raised.\n",
            "        If a numeric value is given, FitFailedWarning is raised. This parameter\n",
            "        does not affect the refit step, which will always raise the error.\n",
            "    \n",
            "    Returns\n",
            "    -------\n",
            "    scores : array of float, shape=(len(list(cv)),)\n",
            "        Array of scores of the estimator for each run of the cross validation.\n",
            "    \n",
            "    Examples\n",
            "    --------\n",
            "    >>> from sklearn import datasets, linear_model\n",
            "    >>> from sklearn.model_selection import cross_val_score\n",
            "    >>> diabetes = datasets.load_diabetes()\n",
            "    >>> X = diabetes.data[:150]\n",
            "    >>> y = diabetes.target[:150]\n",
            "    >>> lasso = linear_model.Lasso()\n",
            "    >>> print(cross_val_score(lasso, X, y, cv=3))\n",
            "    [0.33150734 0.08022311 0.03531764]\n",
            "    \n",
            "    See Also\n",
            "    ---------\n",
            "    :func:`sklearn.model_selection.cross_validate`:\n",
            "        To run cross-validation on multiple metrics and also to return\n",
            "        train scores, fit times and score times.\n",
            "    \n",
            "    :func:`sklearn.model_selection.cross_val_predict`:\n",
            "        Get predictions from each split of cross-validation for diagnostic\n",
            "        purposes.\n",
            "    \n",
            "    :func:`sklearn.metrics.make_scorer`:\n",
            "        Make a scorer from a performance metric or loss function.\n",
            "\n"
          ],
          "name": "stdout"
        }
      ]
    },
    {
      "cell_type": "code",
      "metadata": {
        "id": "rbu9CXfobycN",
        "colab_type": "code",
        "colab": {
          "base_uri": "https://localhost:8080/",
          "height": 35
        },
        "outputId": "87a8a522-2105-416a-a3ee-5ee63c9989ba"
      },
      "source": [
        "ridge.score(x,y)"
      ],
      "execution_count": 52,
      "outputs": [
        {
          "output_type": "execute_result",
          "data": {
            "text/plain": [
              "0.7389489236577029"
            ]
          },
          "metadata": {
            "tags": []
          },
          "execution_count": 52
        }
      ]
    },
    {
      "cell_type": "code",
      "metadata": {
        "id": "rpXpYVFpbyZ3",
        "colab_type": "code",
        "colab": {
          "base_uri": "https://localhost:8080/",
          "height": 797
        },
        "outputId": "ba6ee67e-9f0a-465f-8937-12c4d52d242f"
      },
      "source": [
        "help(ridge.score)"
      ],
      "execution_count": 53,
      "outputs": [
        {
          "output_type": "stream",
          "text": [
            "Help on method score in module sklearn.base:\n",
            "\n",
            "score(X, y, sample_weight=None) method of sklearn.linear_model._ridge.Ridge instance\n",
            "    Return the coefficient of determination R^2 of the prediction.\n",
            "    \n",
            "    The coefficient R^2 is defined as (1 - u/v), where u is the residual\n",
            "    sum of squares ((y_true - y_pred) ** 2).sum() and v is the total\n",
            "    sum of squares ((y_true - y_true.mean()) ** 2).sum().\n",
            "    The best possible score is 1.0 and it can be negative (because the\n",
            "    model can be arbitrarily worse). A constant model that always\n",
            "    predicts the expected value of y, disregarding the input features,\n",
            "    would get a R^2 score of 0.0.\n",
            "    \n",
            "    Parameters\n",
            "    ----------\n",
            "    X : array-like of shape (n_samples, n_features)\n",
            "        Test samples. For some estimators this may be a\n",
            "        precomputed kernel matrix or a list of generic objects instead,\n",
            "        shape = (n_samples, n_samples_fitted),\n",
            "        where n_samples_fitted is the number of\n",
            "        samples used in the fitting for the estimator.\n",
            "    \n",
            "    y : array-like of shape (n_samples,) or (n_samples, n_outputs)\n",
            "        True values for X.\n",
            "    \n",
            "    sample_weight : array-like of shape (n_samples,), default=None\n",
            "        Sample weights.\n",
            "    \n",
            "    Returns\n",
            "    -------\n",
            "    score : float\n",
            "        R^2 of self.predict(X) wrt. y.\n",
            "    \n",
            "    Notes\n",
            "    -----\n",
            "    The R2 score used when calling ``score`` on a regressor will use\n",
            "    ``multioutput='uniform_average'`` from version 0.23 to keep consistent\n",
            "    with :func:`~sklearn.metrics.r2_score`. This will influence the\n",
            "    ``score`` method of all the multioutput regressors (except for\n",
            "    :class:`~sklearn.multioutput.MultiOutputRegressor`). To specify the\n",
            "    default value manually and avoid the warning, please either call\n",
            "    :func:`~sklearn.metrics.r2_score` directly or make a custom scorer with\n",
            "    :func:`~sklearn.metrics.make_scorer` (the built-in scorer ``'r2'`` uses\n",
            "    ``multioutput='uniform_average'``).\n",
            "\n"
          ],
          "name": "stdout"
        }
      ]
    },
    {
      "cell_type": "markdown",
      "metadata": {
        "id": "VXAQ7sYNcm9x",
        "colab_type": "text"
      },
      "source": [
        "**Cross validation with KNN**"
      ]
    },
    {
      "cell_type": "code",
      "metadata": {
        "id": "c04ME471byPJ",
        "colab_type": "code",
        "colab": {}
      },
      "source": [
        "from sklearn.neighbors import KNeighborsRegressor\n",
        "KNR = KNeighborsRegressor()\n",
        "knn_preds = cross_val_score(KNR,x,y,cv=4)"
      ],
      "execution_count": 0,
      "outputs": []
    },
    {
      "cell_type": "code",
      "metadata": {
        "id": "hWtJZiKTcmJ7",
        "colab_type": "code",
        "colab": {
          "base_uri": "https://localhost:8080/",
          "height": 35
        },
        "outputId": "c11a91a0-00f6-4b63-88b1-1f1b39ead560"
      },
      "source": [
        "knn_preds"
      ],
      "execution_count": 55,
      "outputs": [
        {
          "output_type": "execute_result",
          "data": {
            "text/plain": [
              "array([-1.45769762, -0.07993327, -0.28977779, -1.6472333 ])"
            ]
          },
          "metadata": {
            "tags": []
          },
          "execution_count": 55
        }
      ]
    },
    {
      "cell_type": "markdown",
      "metadata": {
        "id": "Fnq3GjSedIfz",
        "colab_type": "text"
      },
      "source": [
        "**RFE**"
      ]
    },
    {
      "cell_type": "code",
      "metadata": {
        "id": "V6oG_XhndLpm",
        "colab_type": "code",
        "colab": {
          "base_uri": "https://localhost:8080/",
          "height": 87
        },
        "outputId": "4bfe9ad2-1f15-424f-8122-766edb50eaf8"
      },
      "source": [
        "from sklearn.feature_selection import RFE\n",
        "est = Ridge()\n",
        "rf = RFE(est,n_features_to_select=4)\n",
        "rf.fit(train_x,train_y)"
      ],
      "execution_count": 56,
      "outputs": [
        {
          "output_type": "execute_result",
          "data": {
            "text/plain": [
              "RFE(estimator=Ridge(alpha=1.0, copy_X=True, fit_intercept=True, max_iter=None,\n",
              "                    normalize=False, random_state=None, solver='auto',\n",
              "                    tol=0.001),\n",
              "    n_features_to_select=4, step=1, verbose=0)"
            ]
          },
          "metadata": {
            "tags": []
          },
          "execution_count": 56
        }
      ]
    },
    {
      "cell_type": "code",
      "metadata": {
        "id": "ue4VngnodMAe",
        "colab_type": "code",
        "colab": {
          "base_uri": "https://localhost:8080/",
          "height": 139
        },
        "outputId": "7eb13eee-1672-4ea1-ea7c-2f1dc21ad8b6"
      },
      "source": [
        "rf.transform(train_x)"
      ],
      "execution_count": 57,
      "outputs": [
        {
          "output_type": "execute_result",
          "data": {
            "text/plain": [
              "array([[ 0.   ,  0.431,  6.226, 19.1  ],\n",
              "       [ 0.   ,  0.411,  6.579, 18.3  ],\n",
              "       [ 0.   ,  0.52 ,  5.851, 20.9  ],\n",
              "       ...,\n",
              "       [ 0.   ,  0.532,  5.762, 20.2  ],\n",
              "       [ 0.   ,  0.472,  6.849, 18.4  ],\n",
              "       [ 0.   ,  0.504,  7.412, 17.4  ]])"
            ]
          },
          "metadata": {
            "tags": []
          },
          "execution_count": 57
        }
      ]
    },
    {
      "cell_type": "code",
      "metadata": {
        "id": "3I6bJlaUdMKg",
        "colab_type": "code",
        "colab": {
          "base_uri": "https://localhost:8080/",
          "height": 415
        },
        "outputId": "9f20f165-d0df-43e2-c321-e85bf0f231bf"
      },
      "source": [
        "train_x"
      ],
      "execution_count": 58,
      "outputs": [
        {
          "output_type": "execute_result",
          "data": {
            "text/html": [
              "<div>\n",
              "<style scoped>\n",
              "    .dataframe tbody tr th:only-of-type {\n",
              "        vertical-align: middle;\n",
              "    }\n",
              "\n",
              "    .dataframe tbody tr th {\n",
              "        vertical-align: top;\n",
              "    }\n",
              "\n",
              "    .dataframe thead th {\n",
              "        text-align: right;\n",
              "    }\n",
              "</style>\n",
              "<table border=\"1\" class=\"dataframe\">\n",
              "  <thead>\n",
              "    <tr style=\"text-align: right;\">\n",
              "      <th></th>\n",
              "      <th>crim</th>\n",
              "      <th>zn</th>\n",
              "      <th>indus</th>\n",
              "      <th>chas</th>\n",
              "      <th>nox</th>\n",
              "      <th>rm</th>\n",
              "      <th>age</th>\n",
              "      <th>dis</th>\n",
              "      <th>rad</th>\n",
              "      <th>tax</th>\n",
              "      <th>ptratio</th>\n",
              "      <th>b</th>\n",
              "      <th>lstat</th>\n",
              "    </tr>\n",
              "  </thead>\n",
              "  <tbody>\n",
              "    <tr>\n",
              "      <th>247</th>\n",
              "      <td>0.19657</td>\n",
              "      <td>22.0</td>\n",
              "      <td>5.86</td>\n",
              "      <td>0</td>\n",
              "      <td>0.4310</td>\n",
              "      <td>6.226</td>\n",
              "      <td>79.2</td>\n",
              "      <td>8.0555</td>\n",
              "      <td>7</td>\n",
              "      <td>330</td>\n",
              "      <td>19.1</td>\n",
              "      <td>376.14</td>\n",
              "      <td>10.15</td>\n",
              "    </tr>\n",
              "    <tr>\n",
              "      <th>351</th>\n",
              "      <td>0.07950</td>\n",
              "      <td>60.0</td>\n",
              "      <td>1.69</td>\n",
              "      <td>0</td>\n",
              "      <td>0.4110</td>\n",
              "      <td>6.579</td>\n",
              "      <td>35.9</td>\n",
              "      <td>10.7103</td>\n",
              "      <td>4</td>\n",
              "      <td>411</td>\n",
              "      <td>18.3</td>\n",
              "      <td>370.78</td>\n",
              "      <td>5.49</td>\n",
              "    </tr>\n",
              "    <tr>\n",
              "      <th>105</th>\n",
              "      <td>0.13262</td>\n",
              "      <td>0.0</td>\n",
              "      <td>8.56</td>\n",
              "      <td>0</td>\n",
              "      <td>0.5200</td>\n",
              "      <td>5.851</td>\n",
              "      <td>96.7</td>\n",
              "      <td>2.1069</td>\n",
              "      <td>5</td>\n",
              "      <td>384</td>\n",
              "      <td>20.9</td>\n",
              "      <td>394.05</td>\n",
              "      <td>16.47</td>\n",
              "    </tr>\n",
              "    <tr>\n",
              "      <th>491</th>\n",
              "      <td>0.10574</td>\n",
              "      <td>0.0</td>\n",
              "      <td>27.74</td>\n",
              "      <td>0</td>\n",
              "      <td>0.6090</td>\n",
              "      <td>5.983</td>\n",
              "      <td>98.8</td>\n",
              "      <td>1.8681</td>\n",
              "      <td>4</td>\n",
              "      <td>711</td>\n",
              "      <td>20.1</td>\n",
              "      <td>390.11</td>\n",
              "      <td>18.07</td>\n",
              "    </tr>\n",
              "    <tr>\n",
              "      <th>144</th>\n",
              "      <td>2.77974</td>\n",
              "      <td>0.0</td>\n",
              "      <td>19.58</td>\n",
              "      <td>0</td>\n",
              "      <td>0.8710</td>\n",
              "      <td>4.903</td>\n",
              "      <td>97.8</td>\n",
              "      <td>1.3459</td>\n",
              "      <td>5</td>\n",
              "      <td>403</td>\n",
              "      <td>14.7</td>\n",
              "      <td>396.90</td>\n",
              "      <td>29.29</td>\n",
              "    </tr>\n",
              "    <tr>\n",
              "      <th>...</th>\n",
              "      <td>...</td>\n",
              "      <td>...</td>\n",
              "      <td>...</td>\n",
              "      <td>...</td>\n",
              "      <td>...</td>\n",
              "      <td>...</td>\n",
              "      <td>...</td>\n",
              "      <td>...</td>\n",
              "      <td>...</td>\n",
              "      <td>...</td>\n",
              "      <td>...</td>\n",
              "      <td>...</td>\n",
              "      <td>...</td>\n",
              "    </tr>\n",
              "    <tr>\n",
              "      <th>64</th>\n",
              "      <td>0.01951</td>\n",
              "      <td>17.5</td>\n",
              "      <td>1.38</td>\n",
              "      <td>0</td>\n",
              "      <td>0.4161</td>\n",
              "      <td>7.104</td>\n",
              "      <td>59.5</td>\n",
              "      <td>9.2229</td>\n",
              "      <td>3</td>\n",
              "      <td>216</td>\n",
              "      <td>18.6</td>\n",
              "      <td>393.24</td>\n",
              "      <td>8.05</td>\n",
              "    </tr>\n",
              "    <tr>\n",
              "      <th>187</th>\n",
              "      <td>0.07875</td>\n",
              "      <td>45.0</td>\n",
              "      <td>3.44</td>\n",
              "      <td>0</td>\n",
              "      <td>0.4370</td>\n",
              "      <td>6.782</td>\n",
              "      <td>41.1</td>\n",
              "      <td>3.7886</td>\n",
              "      <td>5</td>\n",
              "      <td>398</td>\n",
              "      <td>15.2</td>\n",
              "      <td>393.87</td>\n",
              "      <td>6.68</td>\n",
              "    </tr>\n",
              "    <tr>\n",
              "      <th>483</th>\n",
              "      <td>2.81838</td>\n",
              "      <td>0.0</td>\n",
              "      <td>18.10</td>\n",
              "      <td>0</td>\n",
              "      <td>0.5320</td>\n",
              "      <td>5.762</td>\n",
              "      <td>40.3</td>\n",
              "      <td>4.0983</td>\n",
              "      <td>24</td>\n",
              "      <td>666</td>\n",
              "      <td>20.2</td>\n",
              "      <td>392.92</td>\n",
              "      <td>10.42</td>\n",
              "    </tr>\n",
              "    <tr>\n",
              "      <th>307</th>\n",
              "      <td>0.04932</td>\n",
              "      <td>33.0</td>\n",
              "      <td>2.18</td>\n",
              "      <td>0</td>\n",
              "      <td>0.4720</td>\n",
              "      <td>6.849</td>\n",
              "      <td>70.3</td>\n",
              "      <td>3.1827</td>\n",
              "      <td>7</td>\n",
              "      <td>222</td>\n",
              "      <td>18.4</td>\n",
              "      <td>396.90</td>\n",
              "      <td>7.53</td>\n",
              "    </tr>\n",
              "    <tr>\n",
              "      <th>231</th>\n",
              "      <td>0.46296</td>\n",
              "      <td>0.0</td>\n",
              "      <td>6.20</td>\n",
              "      <td>0</td>\n",
              "      <td>0.5040</td>\n",
              "      <td>7.412</td>\n",
              "      <td>76.9</td>\n",
              "      <td>3.6715</td>\n",
              "      <td>8</td>\n",
              "      <td>307</td>\n",
              "      <td>17.4</td>\n",
              "      <td>376.14</td>\n",
              "      <td>5.25</td>\n",
              "    </tr>\n",
              "  </tbody>\n",
              "</table>\n",
              "<p>404 rows × 13 columns</p>\n",
              "</div>"
            ],
            "text/plain": [
              "        crim    zn  indus  chas     nox  ...  rad  tax  ptratio       b  lstat\n",
              "247  0.19657  22.0   5.86     0  0.4310  ...    7  330     19.1  376.14  10.15\n",
              "351  0.07950  60.0   1.69     0  0.4110  ...    4  411     18.3  370.78   5.49\n",
              "105  0.13262   0.0   8.56     0  0.5200  ...    5  384     20.9  394.05  16.47\n",
              "491  0.10574   0.0  27.74     0  0.6090  ...    4  711     20.1  390.11  18.07\n",
              "144  2.77974   0.0  19.58     0  0.8710  ...    5  403     14.7  396.90  29.29\n",
              "..       ...   ...    ...   ...     ...  ...  ...  ...      ...     ...    ...\n",
              "64   0.01951  17.5   1.38     0  0.4161  ...    3  216     18.6  393.24   8.05\n",
              "187  0.07875  45.0   3.44     0  0.4370  ...    5  398     15.2  393.87   6.68\n",
              "483  2.81838   0.0  18.10     0  0.5320  ...   24  666     20.2  392.92  10.42\n",
              "307  0.04932  33.0   2.18     0  0.4720  ...    7  222     18.4  396.90   7.53\n",
              "231  0.46296   0.0   6.20     0  0.5040  ...    8  307     17.4  376.14   5.25\n",
              "\n",
              "[404 rows x 13 columns]"
            ]
          },
          "metadata": {
            "tags": []
          },
          "execution_count": 58
        }
      ]
    },
    {
      "cell_type": "code",
      "metadata": {
        "id": "Iis4zzn1dMIA",
        "colab_type": "code",
        "colab": {}
      },
      "source": [
        ""
      ],
      "execution_count": 0,
      "outputs": []
    },
    {
      "cell_type": "code",
      "metadata": {
        "id": "TftH8qxvdL94",
        "colab_type": "code",
        "colab": {}
      },
      "source": [
        ""
      ],
      "execution_count": 0,
      "outputs": []
    },
    {
      "cell_type": "code",
      "metadata": {
        "id": "Tl_9qNwLcmQZ",
        "colab_type": "code",
        "colab": {}
      },
      "source": [
        ""
      ],
      "execution_count": 0,
      "outputs": []
    },
    {
      "cell_type": "code",
      "metadata": {
        "id": "ylO9BxURcmG0",
        "colab_type": "code",
        "colab": {}
      },
      "source": [
        ""
      ],
      "execution_count": 0,
      "outputs": []
    }
  ]
}