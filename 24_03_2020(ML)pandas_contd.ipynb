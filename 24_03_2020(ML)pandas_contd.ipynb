{
  "nbformat": 4,
  "nbformat_minor": 0,
  "metadata": {
    "colab": {
      "name": "24-03-2020(ML)pandas contd.ipynb",
      "provenance": [],
      "collapsed_sections": [],
      "mount_file_id": "1j_eL7ZFW3c-tmM0LPXcWc9O0jHz1YQ-n",
      "authorship_tag": "ABX9TyN7ShmWQEnLsinMFtZEQ0DR",
      "include_colab_link": true
    },
    "kernelspec": {
      "name": "python3",
      "display_name": "Python 3"
    }
  },
  "cells": [
    {
      "cell_type": "markdown",
      "metadata": {
        "id": "view-in-github",
        "colab_type": "text"
      },
      "source": [
        "<a href=\"https://colab.research.google.com/github/PRihana/Machine-learning/blob/master/24_03_2020(ML)pandas_contd.ipynb\" target=\"_parent\"><img src=\"https://colab.research.google.com/assets/colab-badge.svg\" alt=\"Open In Colab\"/></a>"
      ]
    },
    {
      "cell_type": "code",
      "metadata": {
        "id": "Hgb2_keixULX",
        "colab_type": "code",
        "colab": {}
      },
      "source": [
        "import numpy as np\n",
        "import pandas as pd"
      ],
      "execution_count": 0,
      "outputs": []
    },
    {
      "cell_type": "code",
      "metadata": {
        "id": "naTHhGVxyPEk",
        "colab_type": "code",
        "outputId": "3b3cad38-7454-4528-ebbf-7916304cf37a",
        "colab": {
          "base_uri": "https://localhost:8080/",
          "height": 52
        }
      },
      "source": [
        "# numpy version check\n",
        "print(np.__version__)\n",
        "# Pandas version\n",
        "print(pd.__version__)"
      ],
      "execution_count": 0,
      "outputs": [
        {
          "output_type": "stream",
          "text": [
            "1.18.2\n",
            "0.25.3\n"
          ],
          "name": "stdout"
        }
      ]
    },
    {
      "cell_type": "code",
      "metadata": {
        "id": "E9mu-0vqyVQ0",
        "colab_type": "code",
        "colab": {}
      },
      "source": [
        "# Read the data\n",
        "data = pd.read_csv(\"/FL_insurance_sample.csv.txt\")"
      ],
      "execution_count": 0,
      "outputs": []
    },
    {
      "cell_type": "code",
      "metadata": {
        "id": "g5RSC5CuyZM3",
        "colab_type": "code",
        "outputId": "76261936-e0b8-4255-8e8a-50c99484745c",
        "colab": {
          "base_uri": "https://localhost:8080/",
          "height": 35
        }
      },
      "source": [
        "# Checking output type\n",
        "print(type(data))"
      ],
      "execution_count": 0,
      "outputs": [
        {
          "output_type": "stream",
          "text": [
            "<class 'pandas.core.frame.DataFrame'>\n"
          ],
          "name": "stdout"
        }
      ]
    },
    {
      "cell_type": "code",
      "metadata": {
        "id": "4wXT_buByVT2",
        "colab_type": "code",
        "outputId": "a3aa4b28-9e2f-43fa-ab84-2a250fb06a05",
        "colab": {
          "base_uri": "https://localhost:8080/",
          "height": 69
        }
      },
      "source": [
        "# To check the shape \n",
        "print(data.shape)\n",
        "# to get the number of rows or instances or records or examples\n",
        "print(data.shape[0])\n",
        "# to get the number of columns or features or attributes\n",
        "print(data.shape[1])"
      ],
      "execution_count": 0,
      "outputs": [
        {
          "output_type": "stream",
          "text": [
            "(9462, 18)\n",
            "9462\n",
            "18\n"
          ],
          "name": "stdout"
        }
      ]
    },
    {
      "cell_type": "code",
      "metadata": {
        "id": "8-9OoqqDyVYL",
        "colab_type": "code",
        "outputId": "9a9ae70f-3794-4daf-8631-ffcd14149c4b",
        "colab": {
          "base_uri": "https://localhost:8080/",
          "height": 139
        }
      },
      "source": [
        "# To get the column names\n",
        "print(data.columns)\n",
        "# To get the row names\n",
        "print(data.index)"
      ],
      "execution_count": 0,
      "outputs": [
        {
          "output_type": "stream",
          "text": [
            "Index(['policyID', 'statecode', 'county', 'eq_site_limit', 'hu_site_limit',\n",
            "       'fl_site_limit', 'fr_site_limit', 'tiv_2011', 'tiv_2012',\n",
            "       'eq_site_deductible', 'hu_site_deductible', 'fl_site_deductible',\n",
            "       'fr_site_deductible', 'point_latitude', 'point_longitude', 'line',\n",
            "       'construction', 'point_granularity'],\n",
            "      dtype='object')\n",
            "RangeIndex(start=0, stop=9462, step=1)\n"
          ],
          "name": "stdout"
        }
      ]
    },
    {
      "cell_type": "code",
      "metadata": {
        "id": "i4EcyN-YyVd9",
        "colab_type": "code",
        "outputId": "60e5f076-bca3-4d0a-f5f3-dff3462f7ffd",
        "colab": {
          "base_uri": "https://localhost:8080/",
          "height": 451
        }
      },
      "source": [
        "# Datatype of each column\n",
        "print(data.dtypes)\n",
        "print(\"-----\"*15)\n",
        "# what is output type for data.dtypes\n",
        "print(type(data.dtypes))\n",
        "print(\"-----\"*15)\n",
        "# Access the first column dtype\n",
        "print(data.dtypes[0])\n",
        "print(\"-----\"*15)\n",
        "# Access the last column dtype\n",
        "print(data.dtypes[-1])"
      ],
      "execution_count": 0,
      "outputs": [
        {
          "output_type": "stream",
          "text": [
            "policyID                int64\n",
            "statecode              object\n",
            "county                 object\n",
            "eq_site_limit         float64\n",
            "hu_site_limit         float64\n",
            "fl_site_limit         float64\n",
            "fr_site_limit         float64\n",
            "tiv_2011              float64\n",
            "tiv_2012              float64\n",
            "eq_site_deductible    float64\n",
            "hu_site_deductible    float64\n",
            "fl_site_deductible    float64\n",
            "fr_site_deductible    float64\n",
            "point_latitude        float64\n",
            "point_longitude       float64\n",
            "line                   object\n",
            "construction           object\n",
            "point_granularity     float64\n",
            "dtype: object\n",
            "---------------------------------------------------------------------------\n",
            "<class 'pandas.core.series.Series'>\n",
            "---------------------------------------------------------------------------\n",
            "int64\n",
            "---------------------------------------------------------------------------\n",
            "float64\n"
          ],
          "name": "stdout"
        }
      ]
    },
    {
      "cell_type": "code",
      "metadata": {
        "id": "U_7dWVhxyVhO",
        "colab_type": "code",
        "outputId": "c9b6d23d-ddcc-48ef-8e62-f6dcbba0fe02",
        "colab": {
          "base_uri": "https://localhost:8080/",
          "height": 87
        }
      },
      "source": [
        "# Column count for each datatype\n",
        "# How many columns are there with int64\n",
        "# How many columns are there with float64\n",
        "# How many columns are there with object\n",
        "data.dtypes.value_counts()\n",
        "# Note We are using series method value_counts"
      ],
      "execution_count": 0,
      "outputs": [
        {
          "output_type": "execute_result",
          "data": {
            "text/plain": [
              "float64    13\n",
              "object      4\n",
              "int64       1\n",
              "dtype: int64"
            ]
          },
          "metadata": {
            "tags": []
          },
          "execution_count": 15
        }
      ]
    },
    {
      "cell_type": "markdown",
      "metadata": {
        "id": "z2HbSXuG38eV",
        "colab_type": "text"
      },
      "source": [
        "**observe the data**"
      ]
    },
    {
      "cell_type": "code",
      "metadata": {
        "id": "ymJi1ZjV37If",
        "colab_type": "code",
        "outputId": "f614f81b-0585-4f1b-94d9-ae4d809cb83f",
        "colab": {
          "base_uri": "https://localhost:8080/",
          "height": 309
        }
      },
      "source": [
        "# display top 5 rows\n",
        "data.head()"
      ],
      "execution_count": 0,
      "outputs": [
        {
          "output_type": "execute_result",
          "data": {
            "text/html": [
              "<div>\n",
              "<style scoped>\n",
              "    .dataframe tbody tr th:only-of-type {\n",
              "        vertical-align: middle;\n",
              "    }\n",
              "\n",
              "    .dataframe tbody tr th {\n",
              "        vertical-align: top;\n",
              "    }\n",
              "\n",
              "    .dataframe thead th {\n",
              "        text-align: right;\n",
              "    }\n",
              "</style>\n",
              "<table border=\"1\" class=\"dataframe\">\n",
              "  <thead>\n",
              "    <tr style=\"text-align: right;\">\n",
              "      <th></th>\n",
              "      <th>policyID</th>\n",
              "      <th>statecode</th>\n",
              "      <th>county</th>\n",
              "      <th>eq_site_limit</th>\n",
              "      <th>hu_site_limit</th>\n",
              "      <th>fl_site_limit</th>\n",
              "      <th>fr_site_limit</th>\n",
              "      <th>tiv_2011</th>\n",
              "      <th>tiv_2012</th>\n",
              "      <th>eq_site_deductible</th>\n",
              "      <th>hu_site_deductible</th>\n",
              "      <th>fl_site_deductible</th>\n",
              "      <th>fr_site_deductible</th>\n",
              "      <th>point_latitude</th>\n",
              "      <th>point_longitude</th>\n",
              "      <th>line</th>\n",
              "      <th>construction</th>\n",
              "      <th>point_granularity</th>\n",
              "    </tr>\n",
              "  </thead>\n",
              "  <tbody>\n",
              "    <tr>\n",
              "      <th>0</th>\n",
              "      <td>119736</td>\n",
              "      <td>FL</td>\n",
              "      <td>CLAY COUNTY</td>\n",
              "      <td>498960.0</td>\n",
              "      <td>498960.00</td>\n",
              "      <td>498960.0</td>\n",
              "      <td>498960.0</td>\n",
              "      <td>498960.00</td>\n",
              "      <td>792148.90</td>\n",
              "      <td>0.0</td>\n",
              "      <td>9979.2</td>\n",
              "      <td>0.0</td>\n",
              "      <td>0.0</td>\n",
              "      <td>30.102261</td>\n",
              "      <td>-81.711777</td>\n",
              "      <td>Residential</td>\n",
              "      <td>Masonry</td>\n",
              "      <td>1.0</td>\n",
              "    </tr>\n",
              "    <tr>\n",
              "      <th>1</th>\n",
              "      <td>448094</td>\n",
              "      <td>FL</td>\n",
              "      <td>CLAY COUNTY</td>\n",
              "      <td>1322376.3</td>\n",
              "      <td>1322376.30</td>\n",
              "      <td>1322376.3</td>\n",
              "      <td>1322376.3</td>\n",
              "      <td>1322376.30</td>\n",
              "      <td>1438163.57</td>\n",
              "      <td>0.0</td>\n",
              "      <td>0.0</td>\n",
              "      <td>0.0</td>\n",
              "      <td>0.0</td>\n",
              "      <td>30.063936</td>\n",
              "      <td>-81.707664</td>\n",
              "      <td>Residential</td>\n",
              "      <td>Masonry</td>\n",
              "      <td>3.0</td>\n",
              "    </tr>\n",
              "    <tr>\n",
              "      <th>2</th>\n",
              "      <td>206893</td>\n",
              "      <td>FL</td>\n",
              "      <td>CLAY COUNTY</td>\n",
              "      <td>190724.4</td>\n",
              "      <td>190724.40</td>\n",
              "      <td>190724.4</td>\n",
              "      <td>190724.4</td>\n",
              "      <td>190724.40</td>\n",
              "      <td>192476.78</td>\n",
              "      <td>0.0</td>\n",
              "      <td>0.0</td>\n",
              "      <td>0.0</td>\n",
              "      <td>0.0</td>\n",
              "      <td>30.089579</td>\n",
              "      <td>-81.700455</td>\n",
              "      <td>Residential</td>\n",
              "      <td>Wood</td>\n",
              "      <td>1.0</td>\n",
              "    </tr>\n",
              "    <tr>\n",
              "      <th>3</th>\n",
              "      <td>333743</td>\n",
              "      <td>FL</td>\n",
              "      <td>CLAY COUNTY</td>\n",
              "      <td>0.0</td>\n",
              "      <td>79520.76</td>\n",
              "      <td>0.0</td>\n",
              "      <td>0.0</td>\n",
              "      <td>79520.76</td>\n",
              "      <td>86854.48</td>\n",
              "      <td>0.0</td>\n",
              "      <td>0.0</td>\n",
              "      <td>0.0</td>\n",
              "      <td>0.0</td>\n",
              "      <td>30.063236</td>\n",
              "      <td>-81.707703</td>\n",
              "      <td>Residential</td>\n",
              "      <td>Wood</td>\n",
              "      <td>3.0</td>\n",
              "    </tr>\n",
              "    <tr>\n",
              "      <th>4</th>\n",
              "      <td>172534</td>\n",
              "      <td>FL</td>\n",
              "      <td>CLAY COUNTY</td>\n",
              "      <td>0.0</td>\n",
              "      <td>254281.50</td>\n",
              "      <td>0.0</td>\n",
              "      <td>254281.5</td>\n",
              "      <td>254281.50</td>\n",
              "      <td>246144.49</td>\n",
              "      <td>0.0</td>\n",
              "      <td>0.0</td>\n",
              "      <td>0.0</td>\n",
              "      <td>0.0</td>\n",
              "      <td>30.060614</td>\n",
              "      <td>-81.702675</td>\n",
              "      <td>Residential</td>\n",
              "      <td>Wood</td>\n",
              "      <td>1.0</td>\n",
              "    </tr>\n",
              "  </tbody>\n",
              "</table>\n",
              "</div>"
            ],
            "text/plain": [
              "   policyID statecode       county  ...         line  construction  point_granularity\n",
              "0    119736        FL  CLAY COUNTY  ...  Residential       Masonry                1.0\n",
              "1    448094        FL  CLAY COUNTY  ...  Residential       Masonry                3.0\n",
              "2    206893        FL  CLAY COUNTY  ...  Residential          Wood                1.0\n",
              "3    333743        FL  CLAY COUNTY  ...  Residential          Wood                3.0\n",
              "4    172534        FL  CLAY COUNTY  ...  Residential          Wood                1.0\n",
              "\n",
              "[5 rows x 18 columns]"
            ]
          },
          "metadata": {
            "tags": []
          },
          "execution_count": 16
        }
      ]
    },
    {
      "cell_type": "code",
      "metadata": {
        "id": "aAQFdbqy4FzY",
        "colab_type": "code",
        "outputId": "f8859f05-e826-47c5-f857-b17a20ceda51",
        "colab": {
          "base_uri": "https://localhost:8080/",
          "height": 549
        }
      },
      "source": [
        "# display top 10 rows\n",
        "data.head(10)"
      ],
      "execution_count": 0,
      "outputs": [
        {
          "output_type": "execute_result",
          "data": {
            "text/html": [
              "<div>\n",
              "<style scoped>\n",
              "    .dataframe tbody tr th:only-of-type {\n",
              "        vertical-align: middle;\n",
              "    }\n",
              "\n",
              "    .dataframe tbody tr th {\n",
              "        vertical-align: top;\n",
              "    }\n",
              "\n",
              "    .dataframe thead th {\n",
              "        text-align: right;\n",
              "    }\n",
              "</style>\n",
              "<table border=\"1\" class=\"dataframe\">\n",
              "  <thead>\n",
              "    <tr style=\"text-align: right;\">\n",
              "      <th></th>\n",
              "      <th>policyID</th>\n",
              "      <th>statecode</th>\n",
              "      <th>county</th>\n",
              "      <th>eq_site_limit</th>\n",
              "      <th>hu_site_limit</th>\n",
              "      <th>fl_site_limit</th>\n",
              "      <th>fr_site_limit</th>\n",
              "      <th>tiv_2011</th>\n",
              "      <th>tiv_2012</th>\n",
              "      <th>eq_site_deductible</th>\n",
              "      <th>hu_site_deductible</th>\n",
              "      <th>fl_site_deductible</th>\n",
              "      <th>fr_site_deductible</th>\n",
              "      <th>point_latitude</th>\n",
              "      <th>point_longitude</th>\n",
              "      <th>line</th>\n",
              "      <th>construction</th>\n",
              "      <th>point_granularity</th>\n",
              "    </tr>\n",
              "  </thead>\n",
              "  <tbody>\n",
              "    <tr>\n",
              "      <th>0</th>\n",
              "      <td>119736</td>\n",
              "      <td>FL</td>\n",
              "      <td>CLAY COUNTY</td>\n",
              "      <td>498960.0</td>\n",
              "      <td>498960.00</td>\n",
              "      <td>498960.0</td>\n",
              "      <td>498960.0</td>\n",
              "      <td>498960.00</td>\n",
              "      <td>792148.90</td>\n",
              "      <td>0.0</td>\n",
              "      <td>9979.2</td>\n",
              "      <td>0.0</td>\n",
              "      <td>0.0</td>\n",
              "      <td>30.102261</td>\n",
              "      <td>-81.711777</td>\n",
              "      <td>Residential</td>\n",
              "      <td>Masonry</td>\n",
              "      <td>1.0</td>\n",
              "    </tr>\n",
              "    <tr>\n",
              "      <th>1</th>\n",
              "      <td>448094</td>\n",
              "      <td>FL</td>\n",
              "      <td>CLAY COUNTY</td>\n",
              "      <td>1322376.3</td>\n",
              "      <td>1322376.30</td>\n",
              "      <td>1322376.3</td>\n",
              "      <td>1322376.3</td>\n",
              "      <td>1322376.30</td>\n",
              "      <td>1438163.57</td>\n",
              "      <td>0.0</td>\n",
              "      <td>0.0</td>\n",
              "      <td>0.0</td>\n",
              "      <td>0.0</td>\n",
              "      <td>30.063936</td>\n",
              "      <td>-81.707664</td>\n",
              "      <td>Residential</td>\n",
              "      <td>Masonry</td>\n",
              "      <td>3.0</td>\n",
              "    </tr>\n",
              "    <tr>\n",
              "      <th>2</th>\n",
              "      <td>206893</td>\n",
              "      <td>FL</td>\n",
              "      <td>CLAY COUNTY</td>\n",
              "      <td>190724.4</td>\n",
              "      <td>190724.40</td>\n",
              "      <td>190724.4</td>\n",
              "      <td>190724.4</td>\n",
              "      <td>190724.40</td>\n",
              "      <td>192476.78</td>\n",
              "      <td>0.0</td>\n",
              "      <td>0.0</td>\n",
              "      <td>0.0</td>\n",
              "      <td>0.0</td>\n",
              "      <td>30.089579</td>\n",
              "      <td>-81.700455</td>\n",
              "      <td>Residential</td>\n",
              "      <td>Wood</td>\n",
              "      <td>1.0</td>\n",
              "    </tr>\n",
              "    <tr>\n",
              "      <th>3</th>\n",
              "      <td>333743</td>\n",
              "      <td>FL</td>\n",
              "      <td>CLAY COUNTY</td>\n",
              "      <td>0.0</td>\n",
              "      <td>79520.76</td>\n",
              "      <td>0.0</td>\n",
              "      <td>0.0</td>\n",
              "      <td>79520.76</td>\n",
              "      <td>86854.48</td>\n",
              "      <td>0.0</td>\n",
              "      <td>0.0</td>\n",
              "      <td>0.0</td>\n",
              "      <td>0.0</td>\n",
              "      <td>30.063236</td>\n",
              "      <td>-81.707703</td>\n",
              "      <td>Residential</td>\n",
              "      <td>Wood</td>\n",
              "      <td>3.0</td>\n",
              "    </tr>\n",
              "    <tr>\n",
              "      <th>4</th>\n",
              "      <td>172534</td>\n",
              "      <td>FL</td>\n",
              "      <td>CLAY COUNTY</td>\n",
              "      <td>0.0</td>\n",
              "      <td>254281.50</td>\n",
              "      <td>0.0</td>\n",
              "      <td>254281.5</td>\n",
              "      <td>254281.50</td>\n",
              "      <td>246144.49</td>\n",
              "      <td>0.0</td>\n",
              "      <td>0.0</td>\n",
              "      <td>0.0</td>\n",
              "      <td>0.0</td>\n",
              "      <td>30.060614</td>\n",
              "      <td>-81.702675</td>\n",
              "      <td>Residential</td>\n",
              "      <td>Wood</td>\n",
              "      <td>1.0</td>\n",
              "    </tr>\n",
              "    <tr>\n",
              "      <th>5</th>\n",
              "      <td>785275</td>\n",
              "      <td>FL</td>\n",
              "      <td>CLAY COUNTY</td>\n",
              "      <td>0.0</td>\n",
              "      <td>515035.62</td>\n",
              "      <td>0.0</td>\n",
              "      <td>0.0</td>\n",
              "      <td>515035.62</td>\n",
              "      <td>884419.17</td>\n",
              "      <td>0.0</td>\n",
              "      <td>0.0</td>\n",
              "      <td>0.0</td>\n",
              "      <td>0.0</td>\n",
              "      <td>30.063236</td>\n",
              "      <td>-81.707703</td>\n",
              "      <td>Residential</td>\n",
              "      <td>Masonry</td>\n",
              "      <td>3.0</td>\n",
              "    </tr>\n",
              "    <tr>\n",
              "      <th>6</th>\n",
              "      <td>995932</td>\n",
              "      <td>FL</td>\n",
              "      <td>CLAY COUNTY</td>\n",
              "      <td>0.0</td>\n",
              "      <td>19260000.00</td>\n",
              "      <td>0.0</td>\n",
              "      <td>0.0</td>\n",
              "      <td>19260000.00</td>\n",
              "      <td>20610000.00</td>\n",
              "      <td>0.0</td>\n",
              "      <td>0.0</td>\n",
              "      <td>0.0</td>\n",
              "      <td>0.0</td>\n",
              "      <td>30.102226</td>\n",
              "      <td>-81.713882</td>\n",
              "      <td>Commercial</td>\n",
              "      <td>Reinforced Concrete</td>\n",
              "      <td>1.0</td>\n",
              "    </tr>\n",
              "    <tr>\n",
              "      <th>7</th>\n",
              "      <td>223488</td>\n",
              "      <td>FL</td>\n",
              "      <td>CLAY COUNTY</td>\n",
              "      <td>328500.0</td>\n",
              "      <td>328500.00</td>\n",
              "      <td>328500.0</td>\n",
              "      <td>328500.0</td>\n",
              "      <td>328500.00</td>\n",
              "      <td>348374.25</td>\n",
              "      <td>0.0</td>\n",
              "      <td>16425.0</td>\n",
              "      <td>0.0</td>\n",
              "      <td>0.0</td>\n",
              "      <td>30.102217</td>\n",
              "      <td>-81.707146</td>\n",
              "      <td>Residential</td>\n",
              "      <td>Wood</td>\n",
              "      <td>1.0</td>\n",
              "    </tr>\n",
              "    <tr>\n",
              "      <th>8</th>\n",
              "      <td>433512</td>\n",
              "      <td>FL</td>\n",
              "      <td>CLAY COUNTY</td>\n",
              "      <td>315000.0</td>\n",
              "      <td>315000.00</td>\n",
              "      <td>315000.0</td>\n",
              "      <td>315000.0</td>\n",
              "      <td>315000.00</td>\n",
              "      <td>265821.57</td>\n",
              "      <td>0.0</td>\n",
              "      <td>15750.0</td>\n",
              "      <td>0.0</td>\n",
              "      <td>0.0</td>\n",
              "      <td>30.118774</td>\n",
              "      <td>-81.704613</td>\n",
              "      <td>Residential</td>\n",
              "      <td>Wood</td>\n",
              "      <td>1.0</td>\n",
              "    </tr>\n",
              "    <tr>\n",
              "      <th>9</th>\n",
              "      <td>142071</td>\n",
              "      <td>FL</td>\n",
              "      <td>CLAY COUNTY</td>\n",
              "      <td>705600.0</td>\n",
              "      <td>705600.00</td>\n",
              "      <td>705600.0</td>\n",
              "      <td>705600.0</td>\n",
              "      <td>705600.00</td>\n",
              "      <td>1010842.56</td>\n",
              "      <td>14112.0</td>\n",
              "      <td>35280.0</td>\n",
              "      <td>0.0</td>\n",
              "      <td>0.0</td>\n",
              "      <td>30.100628</td>\n",
              "      <td>-81.703751</td>\n",
              "      <td>Residential</td>\n",
              "      <td>Masonry</td>\n",
              "      <td>1.0</td>\n",
              "    </tr>\n",
              "  </tbody>\n",
              "</table>\n",
              "</div>"
            ],
            "text/plain": [
              "   policyID statecode  ...         construction  point_granularity\n",
              "0    119736        FL  ...              Masonry                1.0\n",
              "1    448094        FL  ...              Masonry                3.0\n",
              "2    206893        FL  ...                 Wood                1.0\n",
              "3    333743        FL  ...                 Wood                3.0\n",
              "4    172534        FL  ...                 Wood                1.0\n",
              "5    785275        FL  ...              Masonry                3.0\n",
              "6    995932        FL  ...  Reinforced Concrete                1.0\n",
              "7    223488        FL  ...                 Wood                1.0\n",
              "8    433512        FL  ...                 Wood                1.0\n",
              "9    142071        FL  ...              Masonry                1.0\n",
              "\n",
              "[10 rows x 18 columns]"
            ]
          },
          "metadata": {
            "tags": []
          },
          "execution_count": 17
        }
      ]
    },
    {
      "cell_type": "code",
      "metadata": {
        "id": "GLAJZ9bN4Fw7",
        "colab_type": "code",
        "outputId": "725ddde6-fa8e-4ac5-cc7f-bbabc7f7fc21",
        "colab": {
          "base_uri": "https://localhost:8080/",
          "height": 291
        }
      },
      "source": [
        "# display last 5 rows\n",
        "data.tail()"
      ],
      "execution_count": 0,
      "outputs": [
        {
          "output_type": "execute_result",
          "data": {
            "text/html": [
              "<div>\n",
              "<style scoped>\n",
              "    .dataframe tbody tr th:only-of-type {\n",
              "        vertical-align: middle;\n",
              "    }\n",
              "\n",
              "    .dataframe tbody tr th {\n",
              "        vertical-align: top;\n",
              "    }\n",
              "\n",
              "    .dataframe thead th {\n",
              "        text-align: right;\n",
              "    }\n",
              "</style>\n",
              "<table border=\"1\" class=\"dataframe\">\n",
              "  <thead>\n",
              "    <tr style=\"text-align: right;\">\n",
              "      <th></th>\n",
              "      <th>policyID</th>\n",
              "      <th>statecode</th>\n",
              "      <th>county</th>\n",
              "      <th>eq_site_limit</th>\n",
              "      <th>hu_site_limit</th>\n",
              "      <th>fl_site_limit</th>\n",
              "      <th>fr_site_limit</th>\n",
              "      <th>tiv_2011</th>\n",
              "      <th>tiv_2012</th>\n",
              "      <th>eq_site_deductible</th>\n",
              "      <th>hu_site_deductible</th>\n",
              "      <th>fl_site_deductible</th>\n",
              "      <th>fr_site_deductible</th>\n",
              "      <th>point_latitude</th>\n",
              "      <th>point_longitude</th>\n",
              "      <th>line</th>\n",
              "      <th>construction</th>\n",
              "      <th>point_granularity</th>\n",
              "    </tr>\n",
              "  </thead>\n",
              "  <tbody>\n",
              "    <tr>\n",
              "      <th>27883</th>\n",
              "      <td>329719</td>\n",
              "      <td>FL</td>\n",
              "      <td>PINELLAS COUNTY</td>\n",
              "      <td>1708756.2</td>\n",
              "      <td>1708756.20</td>\n",
              "      <td>1708756.2</td>\n",
              "      <td>1708756.2</td>\n",
              "      <td>1708756.20</td>\n",
              "      <td>1563853.67</td>\n",
              "      <td>0.0</td>\n",
              "      <td>0.0</td>\n",
              "      <td>0.0</td>\n",
              "      <td>0.0</td>\n",
              "      <td>27.847666</td>\n",
              "      <td>-82.646973</td>\n",
              "      <td>Residential</td>\n",
              "      <td>Masonry</td>\n",
              "      <td>3.0</td>\n",
              "    </tr>\n",
              "    <tr>\n",
              "      <th>27884</th>\n",
              "      <td>419086</td>\n",
              "      <td>FL</td>\n",
              "      <td>PINELLAS COUNTY</td>\n",
              "      <td>663886.8</td>\n",
              "      <td>663886.80</td>\n",
              "      <td>0.0</td>\n",
              "      <td>0.0</td>\n",
              "      <td>663886.80</td>\n",
              "      <td>1000729.68</td>\n",
              "      <td>0.0</td>\n",
              "      <td>0.0</td>\n",
              "      <td>0.0</td>\n",
              "      <td>0.0</td>\n",
              "      <td>27.867300</td>\n",
              "      <td>-82.623810</td>\n",
              "      <td>Residential</td>\n",
              "      <td>Masonry</td>\n",
              "      <td>1.0</td>\n",
              "    </tr>\n",
              "    <tr>\n",
              "      <th>27885</th>\n",
              "      <td>390281</td>\n",
              "      <td>FL</td>\n",
              "      <td>PINELLAS COUNTY</td>\n",
              "      <td>110333.7</td>\n",
              "      <td>110333.70</td>\n",
              "      <td>0.0</td>\n",
              "      <td>0.0</td>\n",
              "      <td>110333.70</td>\n",
              "      <td>145728.75</td>\n",
              "      <td>0.0</td>\n",
              "      <td>0.0</td>\n",
              "      <td>0.0</td>\n",
              "      <td>0.0</td>\n",
              "      <td>27.829735</td>\n",
              "      <td>-82.614090</td>\n",
              "      <td>Residential</td>\n",
              "      <td>Wood</td>\n",
              "      <td>1.0</td>\n",
              "    </tr>\n",
              "    <tr>\n",
              "      <th>27886</th>\n",
              "      <td>795895</td>\n",
              "      <td>FL</td>\n",
              "      <td>PINELLAS COUNTY</td>\n",
              "      <td>0.0</td>\n",
              "      <td>281411.53</td>\n",
              "      <td>0.0</td>\n",
              "      <td>0.0</td>\n",
              "      <td>281411.53</td>\n",
              "      <td>209872.21</td>\n",
              "      <td>0.0</td>\n",
              "      <td>0.0</td>\n",
              "      <td>0.0</td>\n",
              "      <td>0.0</td>\n",
              "      <td>27.838180</td>\n",
              "      <td>-82.659990</td>\n",
              "      <td>Residential</td>\n",
              "      <td>Wood</td>\n",
              "      <td>1.0</td>\n",
              "    </tr>\n",
              "    <tr>\n",
              "      <th>27887</th>\n",
              "      <td>891450</td>\n",
              "      <td>FL</td>\n",
              "      <td>PIN</td>\n",
              "      <td>NaN</td>\n",
              "      <td>NaN</td>\n",
              "      <td>NaN</td>\n",
              "      <td>NaN</td>\n",
              "      <td>NaN</td>\n",
              "      <td>NaN</td>\n",
              "      <td>NaN</td>\n",
              "      <td>NaN</td>\n",
              "      <td>NaN</td>\n",
              "      <td>NaN</td>\n",
              "      <td>NaN</td>\n",
              "      <td>NaN</td>\n",
              "      <td>NaN</td>\n",
              "      <td>NaN</td>\n",
              "      <td>NaN</td>\n",
              "    </tr>\n",
              "  </tbody>\n",
              "</table>\n",
              "</div>"
            ],
            "text/plain": [
              "       policyID statecode  ... construction  point_granularity\n",
              "27883    329719        FL  ...      Masonry                3.0\n",
              "27884    419086        FL  ...      Masonry                1.0\n",
              "27885    390281        FL  ...         Wood                1.0\n",
              "27886    795895        FL  ...         Wood                1.0\n",
              "27887    891450        FL  ...          NaN                NaN\n",
              "\n",
              "[5 rows x 18 columns]"
            ]
          },
          "metadata": {
            "tags": []
          },
          "execution_count": 18
        }
      ]
    },
    {
      "cell_type": "code",
      "metadata": {
        "id": "E_wWt9_95M7K",
        "colab_type": "code",
        "outputId": "2fcbbf6b-cf4c-486e-89db-aa37e59683c3",
        "colab": {
          "base_uri": "https://localhost:8080/",
          "height": 195
        }
      },
      "source": [
        "# display last 3 rows\n",
        "data.tail(3)"
      ],
      "execution_count": 0,
      "outputs": [
        {
          "output_type": "execute_result",
          "data": {
            "text/html": [
              "<div>\n",
              "<style scoped>\n",
              "    .dataframe tbody tr th:only-of-type {\n",
              "        vertical-align: middle;\n",
              "    }\n",
              "\n",
              "    .dataframe tbody tr th {\n",
              "        vertical-align: top;\n",
              "    }\n",
              "\n",
              "    .dataframe thead th {\n",
              "        text-align: right;\n",
              "    }\n",
              "</style>\n",
              "<table border=\"1\" class=\"dataframe\">\n",
              "  <thead>\n",
              "    <tr style=\"text-align: right;\">\n",
              "      <th></th>\n",
              "      <th>policyID</th>\n",
              "      <th>statecode</th>\n",
              "      <th>county</th>\n",
              "      <th>eq_site_limit</th>\n",
              "      <th>hu_site_limit</th>\n",
              "      <th>fl_site_limit</th>\n",
              "      <th>fr_site_limit</th>\n",
              "      <th>tiv_2011</th>\n",
              "      <th>tiv_2012</th>\n",
              "      <th>eq_site_deductible</th>\n",
              "      <th>hu_site_deductible</th>\n",
              "      <th>fl_site_deductible</th>\n",
              "      <th>fr_site_deductible</th>\n",
              "      <th>point_latitude</th>\n",
              "      <th>point_longitude</th>\n",
              "      <th>line</th>\n",
              "      <th>construction</th>\n",
              "      <th>point_granularity</th>\n",
              "    </tr>\n",
              "  </thead>\n",
              "  <tbody>\n",
              "    <tr>\n",
              "      <th>27885</th>\n",
              "      <td>390281</td>\n",
              "      <td>FL</td>\n",
              "      <td>PINELLAS COUNTY</td>\n",
              "      <td>110333.7</td>\n",
              "      <td>110333.70</td>\n",
              "      <td>0.0</td>\n",
              "      <td>0.0</td>\n",
              "      <td>110333.70</td>\n",
              "      <td>145728.75</td>\n",
              "      <td>0.0</td>\n",
              "      <td>0.0</td>\n",
              "      <td>0.0</td>\n",
              "      <td>0.0</td>\n",
              "      <td>27.829735</td>\n",
              "      <td>-82.61409</td>\n",
              "      <td>Residential</td>\n",
              "      <td>Wood</td>\n",
              "      <td>1.0</td>\n",
              "    </tr>\n",
              "    <tr>\n",
              "      <th>27886</th>\n",
              "      <td>795895</td>\n",
              "      <td>FL</td>\n",
              "      <td>PINELLAS COUNTY</td>\n",
              "      <td>0.0</td>\n",
              "      <td>281411.53</td>\n",
              "      <td>0.0</td>\n",
              "      <td>0.0</td>\n",
              "      <td>281411.53</td>\n",
              "      <td>209872.21</td>\n",
              "      <td>0.0</td>\n",
              "      <td>0.0</td>\n",
              "      <td>0.0</td>\n",
              "      <td>0.0</td>\n",
              "      <td>27.838180</td>\n",
              "      <td>-82.65999</td>\n",
              "      <td>Residential</td>\n",
              "      <td>Wood</td>\n",
              "      <td>1.0</td>\n",
              "    </tr>\n",
              "    <tr>\n",
              "      <th>27887</th>\n",
              "      <td>891450</td>\n",
              "      <td>FL</td>\n",
              "      <td>PIN</td>\n",
              "      <td>NaN</td>\n",
              "      <td>NaN</td>\n",
              "      <td>NaN</td>\n",
              "      <td>NaN</td>\n",
              "      <td>NaN</td>\n",
              "      <td>NaN</td>\n",
              "      <td>NaN</td>\n",
              "      <td>NaN</td>\n",
              "      <td>NaN</td>\n",
              "      <td>NaN</td>\n",
              "      <td>NaN</td>\n",
              "      <td>NaN</td>\n",
              "      <td>NaN</td>\n",
              "      <td>NaN</td>\n",
              "      <td>NaN</td>\n",
              "    </tr>\n",
              "  </tbody>\n",
              "</table>\n",
              "</div>"
            ],
            "text/plain": [
              "       policyID statecode  ... construction  point_granularity\n",
              "27885    390281        FL  ...         Wood                1.0\n",
              "27886    795895        FL  ...         Wood                1.0\n",
              "27887    891450        FL  ...          NaN                NaN\n",
              "\n",
              "[3 rows x 18 columns]"
            ]
          },
          "metadata": {
            "tags": []
          },
          "execution_count": 19
        }
      ]
    },
    {
      "cell_type": "code",
      "metadata": {
        "id": "8n0iP5HN5YbD",
        "colab_type": "code",
        "outputId": "0a4ecbbc-b10b-4e08-b6e9-295e8d8e230c",
        "colab": {
          "base_uri": "https://localhost:8080/",
          "height": 117
        }
      },
      "source": [
        "# select a random row\n",
        "data.sample()"
      ],
      "execution_count": 0,
      "outputs": [
        {
          "output_type": "execute_result",
          "data": {
            "text/html": [
              "<div>\n",
              "<style scoped>\n",
              "    .dataframe tbody tr th:only-of-type {\n",
              "        vertical-align: middle;\n",
              "    }\n",
              "\n",
              "    .dataframe tbody tr th {\n",
              "        vertical-align: top;\n",
              "    }\n",
              "\n",
              "    .dataframe thead th {\n",
              "        text-align: right;\n",
              "    }\n",
              "</style>\n",
              "<table border=\"1\" class=\"dataframe\">\n",
              "  <thead>\n",
              "    <tr style=\"text-align: right;\">\n",
              "      <th></th>\n",
              "      <th>policyID</th>\n",
              "      <th>statecode</th>\n",
              "      <th>county</th>\n",
              "      <th>eq_site_limit</th>\n",
              "      <th>hu_site_limit</th>\n",
              "      <th>fl_site_limit</th>\n",
              "      <th>fr_site_limit</th>\n",
              "      <th>tiv_2011</th>\n",
              "      <th>tiv_2012</th>\n",
              "      <th>eq_site_deductible</th>\n",
              "      <th>hu_site_deductible</th>\n",
              "      <th>fl_site_deductible</th>\n",
              "      <th>fr_site_deductible</th>\n",
              "      <th>point_latitude</th>\n",
              "      <th>point_longitude</th>\n",
              "      <th>line</th>\n",
              "      <th>construction</th>\n",
              "      <th>point_granularity</th>\n",
              "    </tr>\n",
              "  </thead>\n",
              "  <tbody>\n",
              "    <tr>\n",
              "      <th>10110</th>\n",
              "      <td>584214</td>\n",
              "      <td>FL</td>\n",
              "      <td>ALACHUA COUNTY</td>\n",
              "      <td>1800.0</td>\n",
              "      <td>1800.0</td>\n",
              "      <td>1800.0</td>\n",
              "      <td>1800.0</td>\n",
              "      <td>1800.0</td>\n",
              "      <td>2814.59</td>\n",
              "      <td>0.0</td>\n",
              "      <td>36.0</td>\n",
              "      <td>0.0</td>\n",
              "      <td>0.0</td>\n",
              "      <td>29.623005</td>\n",
              "      <td>-81.975615</td>\n",
              "      <td>Residential</td>\n",
              "      <td>Wood</td>\n",
              "      <td>3.0</td>\n",
              "    </tr>\n",
              "  </tbody>\n",
              "</table>\n",
              "</div>"
            ],
            "text/plain": [
              "       policyID statecode  ... construction  point_granularity\n",
              "10110    584214        FL  ...         Wood                3.0\n",
              "\n",
              "[1 rows x 18 columns]"
            ]
          },
          "metadata": {
            "tags": []
          },
          "execution_count": 20
        }
      ]
    },
    {
      "cell_type": "code",
      "metadata": {
        "id": "2GiW2XDs5Ypc",
        "colab_type": "code",
        "outputId": "75ee5401-901d-4618-dd50-d5a14ae3a495",
        "colab": {
          "base_uri": "https://localhost:8080/",
          "height": 361
        }
      },
      "source": [
        "# select 5 rows randomly\n",
        "data.sample(5)"
      ],
      "execution_count": 0,
      "outputs": [
        {
          "output_type": "execute_result",
          "data": {
            "text/html": [
              "<div>\n",
              "<style scoped>\n",
              "    .dataframe tbody tr th:only-of-type {\n",
              "        vertical-align: middle;\n",
              "    }\n",
              "\n",
              "    .dataframe tbody tr th {\n",
              "        vertical-align: top;\n",
              "    }\n",
              "\n",
              "    .dataframe thead th {\n",
              "        text-align: right;\n",
              "    }\n",
              "</style>\n",
              "<table border=\"1\" class=\"dataframe\">\n",
              "  <thead>\n",
              "    <tr style=\"text-align: right;\">\n",
              "      <th></th>\n",
              "      <th>policyID</th>\n",
              "      <th>statecode</th>\n",
              "      <th>county</th>\n",
              "      <th>eq_site_limit</th>\n",
              "      <th>hu_site_limit</th>\n",
              "      <th>fl_site_limit</th>\n",
              "      <th>fr_site_limit</th>\n",
              "      <th>tiv_2011</th>\n",
              "      <th>tiv_2012</th>\n",
              "      <th>eq_site_deductible</th>\n",
              "      <th>hu_site_deductible</th>\n",
              "      <th>fl_site_deductible</th>\n",
              "      <th>fr_site_deductible</th>\n",
              "      <th>point_latitude</th>\n",
              "      <th>point_longitude</th>\n",
              "      <th>line</th>\n",
              "      <th>construction</th>\n",
              "      <th>point_granularity</th>\n",
              "    </tr>\n",
              "  </thead>\n",
              "  <tbody>\n",
              "    <tr>\n",
              "      <th>20140</th>\n",
              "      <td>147097</td>\n",
              "      <td>FL</td>\n",
              "      <td>MIAMI DADE COUNTY</td>\n",
              "      <td>85500.0</td>\n",
              "      <td>85500.00</td>\n",
              "      <td>0.0</td>\n",
              "      <td>85500.0</td>\n",
              "      <td>85500.00</td>\n",
              "      <td>99014.64</td>\n",
              "      <td>0.0</td>\n",
              "      <td>0.0</td>\n",
              "      <td>0.0</td>\n",
              "      <td>0.0</td>\n",
              "      <td>25.877901</td>\n",
              "      <td>-80.242958</td>\n",
              "      <td>Residential</td>\n",
              "      <td>Wood</td>\n",
              "      <td>1.0</td>\n",
              "    </tr>\n",
              "    <tr>\n",
              "      <th>19358</th>\n",
              "      <td>693658</td>\n",
              "      <td>FL</td>\n",
              "      <td>MIAMI DADE COUNTY</td>\n",
              "      <td>0.0</td>\n",
              "      <td>34484.12</td>\n",
              "      <td>0.0</td>\n",
              "      <td>0.0</td>\n",
              "      <td>34484.12</td>\n",
              "      <td>46230.79</td>\n",
              "      <td>0.0</td>\n",
              "      <td>0.0</td>\n",
              "      <td>0.0</td>\n",
              "      <td>0.0</td>\n",
              "      <td>25.754580</td>\n",
              "      <td>-80.296220</td>\n",
              "      <td>Residential</td>\n",
              "      <td>Wood</td>\n",
              "      <td>3.0</td>\n",
              "    </tr>\n",
              "    <tr>\n",
              "      <th>23697</th>\n",
              "      <td>576131</td>\n",
              "      <td>FL</td>\n",
              "      <td>PALM BEACH COUNTY</td>\n",
              "      <td>97605.9</td>\n",
              "      <td>97605.90</td>\n",
              "      <td>0.0</td>\n",
              "      <td>0.0</td>\n",
              "      <td>97605.90</td>\n",
              "      <td>115440.45</td>\n",
              "      <td>0.0</td>\n",
              "      <td>0.0</td>\n",
              "      <td>0.0</td>\n",
              "      <td>0.0</td>\n",
              "      <td>26.685133</td>\n",
              "      <td>-80.202019</td>\n",
              "      <td>Residential</td>\n",
              "      <td>Wood</td>\n",
              "      <td>1.0</td>\n",
              "    </tr>\n",
              "    <tr>\n",
              "      <th>22610</th>\n",
              "      <td>362410</td>\n",
              "      <td>FL</td>\n",
              "      <td>BROWARD COUNTY</td>\n",
              "      <td>0.0</td>\n",
              "      <td>119846.56</td>\n",
              "      <td>0.0</td>\n",
              "      <td>0.0</td>\n",
              "      <td>119846.56</td>\n",
              "      <td>169884.90</td>\n",
              "      <td>0.0</td>\n",
              "      <td>0.0</td>\n",
              "      <td>0.0</td>\n",
              "      <td>0.0</td>\n",
              "      <td>26.090997</td>\n",
              "      <td>-80.371675</td>\n",
              "      <td>Residential</td>\n",
              "      <td>Wood</td>\n",
              "      <td>1.0</td>\n",
              "    </tr>\n",
              "    <tr>\n",
              "      <th>13773</th>\n",
              "      <td>685236</td>\n",
              "      <td>FL</td>\n",
              "      <td>ORANGE COUNTY</td>\n",
              "      <td>0.0</td>\n",
              "      <td>92600.24</td>\n",
              "      <td>0.0</td>\n",
              "      <td>0.0</td>\n",
              "      <td>92600.24</td>\n",
              "      <td>73156.04</td>\n",
              "      <td>0.0</td>\n",
              "      <td>0.0</td>\n",
              "      <td>0.0</td>\n",
              "      <td>0.0</td>\n",
              "      <td>28.502090</td>\n",
              "      <td>-81.312607</td>\n",
              "      <td>Residential</td>\n",
              "      <td>Wood</td>\n",
              "      <td>1.0</td>\n",
              "    </tr>\n",
              "  </tbody>\n",
              "</table>\n",
              "</div>"
            ],
            "text/plain": [
              "       policyID statecode  ... construction  point_granularity\n",
              "20140    147097        FL  ...         Wood                1.0\n",
              "19358    693658        FL  ...         Wood                3.0\n",
              "23697    576131        FL  ...         Wood                1.0\n",
              "22610    362410        FL  ...         Wood                1.0\n",
              "13773    685236        FL  ...         Wood                1.0\n",
              "\n",
              "[5 rows x 18 columns]"
            ]
          },
          "metadata": {
            "tags": []
          },
          "execution_count": 21
        }
      ]
    },
    {
      "cell_type": "markdown",
      "metadata": {
        "id": "nPJhKzjq57GE",
        "colab_type": "text"
      },
      "source": [
        "- data.head()\n",
        "\n",
        "- data.tail()\n",
        "\n",
        "- data.sample()\n",
        "\n",
        "the output type of all the above methods are dataframe"
      ]
    },
    {
      "cell_type": "code",
      "metadata": {
        "id": "E08EDdGa5Yss",
        "colab_type": "code",
        "outputId": "5f3d56b8-bcde-494e-cba4-6c772290743d",
        "colab": {
          "base_uri": "https://localhost:8080/",
          "height": 117
        }
      },
      "source": [
        "data.head(1)"
      ],
      "execution_count": 0,
      "outputs": [
        {
          "output_type": "execute_result",
          "data": {
            "text/html": [
              "<div>\n",
              "<style scoped>\n",
              "    .dataframe tbody tr th:only-of-type {\n",
              "        vertical-align: middle;\n",
              "    }\n",
              "\n",
              "    .dataframe tbody tr th {\n",
              "        vertical-align: top;\n",
              "    }\n",
              "\n",
              "    .dataframe thead th {\n",
              "        text-align: right;\n",
              "    }\n",
              "</style>\n",
              "<table border=\"1\" class=\"dataframe\">\n",
              "  <thead>\n",
              "    <tr style=\"text-align: right;\">\n",
              "      <th></th>\n",
              "      <th>policyID</th>\n",
              "      <th>statecode</th>\n",
              "      <th>county</th>\n",
              "      <th>eq_site_limit</th>\n",
              "      <th>hu_site_limit</th>\n",
              "      <th>fl_site_limit</th>\n",
              "      <th>fr_site_limit</th>\n",
              "      <th>tiv_2011</th>\n",
              "      <th>tiv_2012</th>\n",
              "      <th>eq_site_deductible</th>\n",
              "      <th>hu_site_deductible</th>\n",
              "      <th>fl_site_deductible</th>\n",
              "      <th>fr_site_deductible</th>\n",
              "      <th>point_latitude</th>\n",
              "      <th>point_longitude</th>\n",
              "      <th>line</th>\n",
              "      <th>construction</th>\n",
              "      <th>point_granularity</th>\n",
              "    </tr>\n",
              "  </thead>\n",
              "  <tbody>\n",
              "    <tr>\n",
              "      <th>0</th>\n",
              "      <td>119736</td>\n",
              "      <td>FL</td>\n",
              "      <td>CLAY COUNTY</td>\n",
              "      <td>498960.0</td>\n",
              "      <td>498960.0</td>\n",
              "      <td>498960.0</td>\n",
              "      <td>498960.0</td>\n",
              "      <td>498960.0</td>\n",
              "      <td>792148.9</td>\n",
              "      <td>0.0</td>\n",
              "      <td>9979.2</td>\n",
              "      <td>0.0</td>\n",
              "      <td>0.0</td>\n",
              "      <td>30.102261</td>\n",
              "      <td>-81.711777</td>\n",
              "      <td>Residential</td>\n",
              "      <td>Masonry</td>\n",
              "      <td>1.0</td>\n",
              "    </tr>\n",
              "  </tbody>\n",
              "</table>\n",
              "</div>"
            ],
            "text/plain": [
              "   policyID statecode       county  ...         line  construction  point_granularity\n",
              "0    119736        FL  CLAY COUNTY  ...  Residential       Masonry                1.0\n",
              "\n",
              "[1 rows x 18 columns]"
            ]
          },
          "metadata": {
            "tags": []
          },
          "execution_count": 22
        }
      ]
    },
    {
      "cell_type": "code",
      "metadata": {
        "id": "YnyF6ddF6Pg8",
        "colab_type": "code",
        "outputId": "6f496d17-cf6b-4e43-b4a3-5dddab245f25",
        "colab": {
          "base_uri": "https://localhost:8080/",
          "height": 99
        }
      },
      "source": [
        "data.tail(1)"
      ],
      "execution_count": 0,
      "outputs": [
        {
          "output_type": "execute_result",
          "data": {
            "text/html": [
              "<div>\n",
              "<style scoped>\n",
              "    .dataframe tbody tr th:only-of-type {\n",
              "        vertical-align: middle;\n",
              "    }\n",
              "\n",
              "    .dataframe tbody tr th {\n",
              "        vertical-align: top;\n",
              "    }\n",
              "\n",
              "    .dataframe thead th {\n",
              "        text-align: right;\n",
              "    }\n",
              "</style>\n",
              "<table border=\"1\" class=\"dataframe\">\n",
              "  <thead>\n",
              "    <tr style=\"text-align: right;\">\n",
              "      <th></th>\n",
              "      <th>policyID</th>\n",
              "      <th>statecode</th>\n",
              "      <th>county</th>\n",
              "      <th>eq_site_limit</th>\n",
              "      <th>hu_site_limit</th>\n",
              "      <th>fl_site_limit</th>\n",
              "      <th>fr_site_limit</th>\n",
              "      <th>tiv_2011</th>\n",
              "      <th>tiv_2012</th>\n",
              "      <th>eq_site_deductible</th>\n",
              "      <th>hu_site_deductible</th>\n",
              "      <th>fl_site_deductible</th>\n",
              "      <th>fr_site_deductible</th>\n",
              "      <th>point_latitude</th>\n",
              "      <th>point_longitude</th>\n",
              "      <th>line</th>\n",
              "      <th>construction</th>\n",
              "      <th>point_granularity</th>\n",
              "    </tr>\n",
              "  </thead>\n",
              "  <tbody>\n",
              "    <tr>\n",
              "      <th>27887</th>\n",
              "      <td>891450</td>\n",
              "      <td>FL</td>\n",
              "      <td>PIN</td>\n",
              "      <td>NaN</td>\n",
              "      <td>NaN</td>\n",
              "      <td>NaN</td>\n",
              "      <td>NaN</td>\n",
              "      <td>NaN</td>\n",
              "      <td>NaN</td>\n",
              "      <td>NaN</td>\n",
              "      <td>NaN</td>\n",
              "      <td>NaN</td>\n",
              "      <td>NaN</td>\n",
              "      <td>NaN</td>\n",
              "      <td>NaN</td>\n",
              "      <td>NaN</td>\n",
              "      <td>NaN</td>\n",
              "      <td>NaN</td>\n",
              "    </tr>\n",
              "  </tbody>\n",
              "</table>\n",
              "</div>"
            ],
            "text/plain": [
              "       policyID statecode county  ...  line  construction  point_granularity\n",
              "27887    891450        FL    PIN  ...   NaN           NaN                NaN\n",
              "\n",
              "[1 rows x 18 columns]"
            ]
          },
          "metadata": {
            "tags": []
          },
          "execution_count": 23
        }
      ]
    },
    {
      "cell_type": "markdown",
      "metadata": {
        "id": "EQ4yifLr6fRt",
        "colab_type": "text"
      },
      "source": [
        "- data.head(1)\n",
        "- data.samle(1)\n",
        "  - the output type of all the above methods are also dataframe which consists a single row"
      ]
    },
    {
      "cell_type": "markdown",
      "metadata": {
        "id": "BjC-Wv3V6x7b",
        "colab_type": "text"
      },
      "source": [
        "Info about the dataframe"
      ]
    },
    {
      "cell_type": "code",
      "metadata": {
        "id": "LoPOey376P6N",
        "colab_type": "code",
        "outputId": "b9a5fed6-3b0a-4dc1-d6a2-67057d07525e",
        "colab": {
          "base_uri": "https://localhost:8080/",
          "height": 416
        }
      },
      "source": [
        "data.info()"
      ],
      "execution_count": 0,
      "outputs": [
        {
          "output_type": "stream",
          "text": [
            "<class 'pandas.core.frame.DataFrame'>\n",
            "RangeIndex: 27888 entries, 0 to 27887\n",
            "Data columns (total 18 columns):\n",
            "policyID              27888 non-null int64\n",
            "statecode             27888 non-null object\n",
            "county                27888 non-null object\n",
            "eq_site_limit         27887 non-null float64\n",
            "hu_site_limit         27887 non-null float64\n",
            "fl_site_limit         27887 non-null float64\n",
            "fr_site_limit         27887 non-null float64\n",
            "tiv_2011              27887 non-null float64\n",
            "tiv_2012              27887 non-null float64\n",
            "eq_site_deductible    27887 non-null float64\n",
            "hu_site_deductible    27887 non-null float64\n",
            "fl_site_deductible    27887 non-null float64\n",
            "fr_site_deductible    27887 non-null float64\n",
            "point_latitude        27887 non-null float64\n",
            "point_longitude       27887 non-null float64\n",
            "line                  27887 non-null object\n",
            "construction          27887 non-null object\n",
            "point_granularity     27887 non-null float64\n",
            "dtypes: float64(13), int64(1), object(4)\n",
            "memory usage: 3.8+ MB\n"
          ],
          "name": "stdout"
        }
      ]
    },
    {
      "cell_type": "code",
      "metadata": {
        "id": "SgndO-Eb68Bo",
        "colab_type": "code",
        "outputId": "efa510c5-169c-4ddf-cdfe-de694da0c8c0",
        "colab": {
          "base_uri": "https://localhost:8080/",
          "height": 433
        }
      },
      "source": [
        "type(data.info())"
      ],
      "execution_count": 0,
      "outputs": [
        {
          "output_type": "stream",
          "text": [
            "<class 'pandas.core.frame.DataFrame'>\n",
            "RangeIndex: 27888 entries, 0 to 27887\n",
            "Data columns (total 18 columns):\n",
            "policyID              27888 non-null int64\n",
            "statecode             27888 non-null object\n",
            "county                27888 non-null object\n",
            "eq_site_limit         27887 non-null float64\n",
            "hu_site_limit         27887 non-null float64\n",
            "fl_site_limit         27887 non-null float64\n",
            "fr_site_limit         27887 non-null float64\n",
            "tiv_2011              27887 non-null float64\n",
            "tiv_2012              27887 non-null float64\n",
            "eq_site_deductible    27887 non-null float64\n",
            "hu_site_deductible    27887 non-null float64\n",
            "fl_site_deductible    27887 non-null float64\n",
            "fr_site_deductible    27887 non-null float64\n",
            "point_latitude        27887 non-null float64\n",
            "point_longitude       27887 non-null float64\n",
            "line                  27887 non-null object\n",
            "construction          27887 non-null object\n",
            "point_granularity     27887 non-null float64\n",
            "dtypes: float64(13), int64(1), object(4)\n",
            "memory usage: 3.8+ MB\n"
          ],
          "name": "stdout"
        },
        {
          "output_type": "execute_result",
          "data": {
            "text/plain": [
              "NoneType"
            ]
          },
          "metadata": {
            "tags": []
          },
          "execution_count": 25
        }
      ]
    },
    {
      "cell_type": "markdown",
      "metadata": {
        "id": "o0LkF2ZG7NMh",
        "colab_type": "text"
      },
      "source": [
        "Accesing a single column"
      ]
    },
    {
      "cell_type": "code",
      "metadata": {
        "id": "F70fK18d7Fnf",
        "colab_type": "code",
        "outputId": "a5f9b6e8-27b8-4d37-9b82-439fc050db4e",
        "colab": {
          "base_uri": "https://localhost:8080/",
          "height": 225
        }
      },
      "source": [
        "# To access the column policyID\n",
        "data.policyID"
      ],
      "execution_count": 0,
      "outputs": [
        {
          "output_type": "execute_result",
          "data": {
            "text/plain": [
              "0        119736\n",
              "1        448094\n",
              "2        206893\n",
              "3        333743\n",
              "4        172534\n",
              "          ...  \n",
              "27883    329719\n",
              "27884    419086\n",
              "27885    390281\n",
              "27886    795895\n",
              "27887    891450\n",
              "Name: policyID, Length: 27888, dtype: int64"
            ]
          },
          "metadata": {
            "tags": []
          },
          "execution_count": 26
        }
      ]
    },
    {
      "cell_type": "code",
      "metadata": {
        "id": "hm0_J09_7Fxm",
        "colab_type": "code",
        "outputId": "4e77fc89-5c65-47da-9abd-d9d11f6eda05",
        "colab": {
          "base_uri": "https://localhost:8080/",
          "height": 35
        }
      },
      "source": [
        "# What is the ouput type\n",
        "print(type(data.policyID))"
      ],
      "execution_count": 0,
      "outputs": [
        {
          "output_type": "stream",
          "text": [
            "<class 'pandas.core.series.Series'>\n"
          ],
          "name": "stdout"
        }
      ]
    },
    {
      "cell_type": "code",
      "metadata": {
        "id": "R-s5XDKU7F_d",
        "colab_type": "code",
        "outputId": "8bbb07b6-a1b1-4778-a22f-7304eb4e216b",
        "colab": {
          "base_uri": "https://localhost:8080/",
          "height": 225
        }
      },
      "source": [
        "# To access the column policyID\n",
        "data['policyID']"
      ],
      "execution_count": 0,
      "outputs": [
        {
          "output_type": "execute_result",
          "data": {
            "text/plain": [
              "0        119736\n",
              "1        448094\n",
              "2        206893\n",
              "3        333743\n",
              "4        172534\n",
              "          ...  \n",
              "27883    329719\n",
              "27884    419086\n",
              "27885    390281\n",
              "27886    795895\n",
              "27887    891450\n",
              "Name: policyID, Length: 27888, dtype: int64"
            ]
          },
          "metadata": {
            "tags": []
          },
          "execution_count": 28
        }
      ]
    },
    {
      "cell_type": "code",
      "metadata": {
        "id": "4mjjuAgO7hMq",
        "colab_type": "code",
        "outputId": "70273e90-487b-42dc-9510-98a18f9a313f",
        "colab": {
          "base_uri": "https://localhost:8080/",
          "height": 35
        }
      },
      "source": [
        "# What is the ouput type\n",
        "print(type(data['policyID']))"
      ],
      "execution_count": 0,
      "outputs": [
        {
          "output_type": "stream",
          "text": [
            "<class 'pandas.core.series.Series'>\n"
          ],
          "name": "stdout"
        }
      ]
    },
    {
      "cell_type": "markdown",
      "metadata": {
        "id": "vsMdBz667u12",
        "colab_type": "text"
      },
      "source": [
        "**specific column Datatype**"
      ]
    },
    {
      "cell_type": "code",
      "metadata": {
        "id": "vD8J9vrm7hjD",
        "colab_type": "code",
        "outputId": "722f0c5e-3ffd-4c83-f14e-133cec5dc9f6",
        "colab": {
          "base_uri": "https://localhost:8080/",
          "height": 225
        }
      },
      "source": [
        "data.statecode"
      ],
      "execution_count": 0,
      "outputs": [
        {
          "output_type": "execute_result",
          "data": {
            "text/plain": [
              "0        FL\n",
              "1        FL\n",
              "2        FL\n",
              "3        FL\n",
              "4        FL\n",
              "         ..\n",
              "27883    FL\n",
              "27884    FL\n",
              "27885    FL\n",
              "27886    FL\n",
              "27887    FL\n",
              "Name: statecode, Length: 27888, dtype: object"
            ]
          },
          "metadata": {
            "tags": []
          },
          "execution_count": 30
        }
      ]
    },
    {
      "cell_type": "code",
      "metadata": {
        "id": "xIgjuM6K7hKS",
        "colab_type": "code",
        "outputId": "0f020cb5-ea7f-4f6f-ba53-1cdd37c96008",
        "colab": {
          "base_uri": "https://localhost:8080/",
          "height": 35
        }
      },
      "source": [
        "# Specific column datatype\n",
        "data.statecode.dtype"
      ],
      "execution_count": 0,
      "outputs": [
        {
          "output_type": "execute_result",
          "data": {
            "text/plain": [
              "dtype('O')"
            ]
          },
          "metadata": {
            "tags": []
          },
          "execution_count": 31
        }
      ]
    },
    {
      "cell_type": "code",
      "metadata": {
        "id": "Vt0w11Fl7hG3",
        "colab_type": "code",
        "outputId": "7d4f60b0-de92-451b-e957-8cbc37fa820a",
        "colab": {
          "base_uri": "https://localhost:8080/",
          "height": 35
        }
      },
      "source": [
        "data.statecode.dtypes"
      ],
      "execution_count": 0,
      "outputs": [
        {
          "output_type": "execute_result",
          "data": {
            "text/plain": [
              "dtype('O')"
            ]
          },
          "metadata": {
            "tags": []
          },
          "execution_count": 32
        }
      ]
    },
    {
      "cell_type": "code",
      "metadata": {
        "id": "MTyoO5wt7Ftv",
        "colab_type": "code",
        "outputId": "c9cdfb0c-0e5e-4e62-e6c6-c51c728a92f8",
        "colab": {
          "base_uri": "https://localhost:8080/",
          "height": 287
        }
      },
      "source": [
        "data.dtype"
      ],
      "execution_count": 0,
      "outputs": [
        {
          "output_type": "error",
          "ename": "AttributeError",
          "evalue": "ignored",
          "traceback": [
            "\u001b[0;31m---------------------------------------------------------------------------\u001b[0m",
            "\u001b[0;31mAttributeError\u001b[0m                            Traceback (most recent call last)",
            "\u001b[0;32m<ipython-input-33-ab0a5b0d7958>\u001b[0m in \u001b[0;36m<module>\u001b[0;34m()\u001b[0m\n\u001b[0;32m----> 1\u001b[0;31m \u001b[0mdata\u001b[0m\u001b[0;34m.\u001b[0m\u001b[0mdtype\u001b[0m\u001b[0;34m\u001b[0m\u001b[0;34m\u001b[0m\u001b[0m\n\u001b[0m",
            "\u001b[0;32m/usr/local/lib/python3.6/dist-packages/pandas/core/generic.py\u001b[0m in \u001b[0;36m__getattr__\u001b[0;34m(self, name)\u001b[0m\n\u001b[1;32m   5177\u001b[0m             \u001b[0;32mif\u001b[0m \u001b[0mself\u001b[0m\u001b[0;34m.\u001b[0m\u001b[0m_info_axis\u001b[0m\u001b[0;34m.\u001b[0m\u001b[0m_can_hold_identifiers_and_holds_name\u001b[0m\u001b[0;34m(\u001b[0m\u001b[0mname\u001b[0m\u001b[0;34m)\u001b[0m\u001b[0;34m:\u001b[0m\u001b[0;34m\u001b[0m\u001b[0;34m\u001b[0m\u001b[0m\n\u001b[1;32m   5178\u001b[0m                 \u001b[0;32mreturn\u001b[0m \u001b[0mself\u001b[0m\u001b[0;34m[\u001b[0m\u001b[0mname\u001b[0m\u001b[0;34m]\u001b[0m\u001b[0;34m\u001b[0m\u001b[0;34m\u001b[0m\u001b[0m\n\u001b[0;32m-> 5179\u001b[0;31m             \u001b[0;32mreturn\u001b[0m \u001b[0mobject\u001b[0m\u001b[0;34m.\u001b[0m\u001b[0m__getattribute__\u001b[0m\u001b[0;34m(\u001b[0m\u001b[0mself\u001b[0m\u001b[0;34m,\u001b[0m \u001b[0mname\u001b[0m\u001b[0;34m)\u001b[0m\u001b[0;34m\u001b[0m\u001b[0;34m\u001b[0m\u001b[0m\n\u001b[0m\u001b[1;32m   5180\u001b[0m \u001b[0;34m\u001b[0m\u001b[0m\n\u001b[1;32m   5181\u001b[0m     \u001b[0;32mdef\u001b[0m \u001b[0m__setattr__\u001b[0m\u001b[0;34m(\u001b[0m\u001b[0mself\u001b[0m\u001b[0;34m,\u001b[0m \u001b[0mname\u001b[0m\u001b[0;34m,\u001b[0m \u001b[0mvalue\u001b[0m\u001b[0;34m)\u001b[0m\u001b[0;34m:\u001b[0m\u001b[0;34m\u001b[0m\u001b[0;34m\u001b[0m\u001b[0m\n",
            "\u001b[0;31mAttributeError\u001b[0m: 'DataFrame' object has no attribute 'dtype'"
          ]
        }
      ]
    },
    {
      "cell_type": "markdown",
      "metadata": {
        "id": "JpkeyREc8QhG",
        "colab_type": "text"
      },
      "source": [
        "- difference b/n dtype and dtypes\n",
        "\n",
        "- datatafrme object doesn't have dtype\n",
        "- Numerical columns - int or float data\n",
        "  - mean,median,mode,sum.quartiles,min,max\n",
        "- Categorical columns - Object type(string data)\n",
        "- Bollean data - True or False\n"
      ]
    },
    {
      "cell_type": "code",
      "metadata": {
        "id": "zU3-cyNX7FlH",
        "colab_type": "code",
        "outputId": "18bfc41c-819c-4640-dbfe-4b259f906acd",
        "colab": {
          "base_uri": "https://localhost:8080/",
          "height": 225
        }
      },
      "source": [
        "data.point_granularity"
      ],
      "execution_count": 0,
      "outputs": [
        {
          "output_type": "execute_result",
          "data": {
            "text/plain": [
              "0        1.0\n",
              "1        3.0\n",
              "2        1.0\n",
              "3        3.0\n",
              "4        1.0\n",
              "        ... \n",
              "27883    3.0\n",
              "27884    1.0\n",
              "27885    1.0\n",
              "27886    1.0\n",
              "27887    NaN\n",
              "Name: point_granularity, Length: 27888, dtype: float64"
            ]
          },
          "metadata": {
            "tags": []
          },
          "execution_count": 35
        }
      ]
    },
    {
      "cell_type": "code",
      "metadata": {
        "id": "DLZx23zJ8kro",
        "colab_type": "code",
        "outputId": "a367fae7-96f8-4901-a4a9-5fd2415ac20c",
        "colab": {
          "base_uri": "https://localhost:8080/",
          "height": 35
        }
      },
      "source": [
        "data.point_granularity.dtype"
      ],
      "execution_count": 0,
      "outputs": [
        {
          "output_type": "execute_result",
          "data": {
            "text/plain": [
              "dtype('float64')"
            ]
          },
          "metadata": {
            "tags": []
          },
          "execution_count": 36
        }
      ]
    },
    {
      "cell_type": "code",
      "metadata": {
        "id": "ih0LNHsd8lBR",
        "colab_type": "code",
        "outputId": "7bac828c-942e-4490-f681-16f2a2c02f6a",
        "colab": {
          "base_uri": "https://localhost:8080/",
          "height": 35
        }
      },
      "source": [
        "# mean value of a column\n",
        "data.point_granularity.mean()"
      ],
      "execution_count": 0,
      "outputs": [
        {
          "output_type": "execute_result",
          "data": {
            "text/plain": [
              "1.637106895686162"
            ]
          },
          "metadata": {
            "tags": []
          },
          "execution_count": 37
        }
      ]
    },
    {
      "cell_type": "code",
      "metadata": {
        "id": "gbfGTHnu8lVp",
        "colab_type": "code",
        "outputId": "642b6f1b-f533-4a56-d8d4-c80efad753b3",
        "colab": {
          "base_uri": "https://localhost:8080/",
          "height": 35
        }
      },
      "source": [
        "# mean value of a column\n",
        "data.point_granularity.sum()/data.point_granularity.shape[0]"
      ],
      "execution_count": 0,
      "outputs": [
        {
          "output_type": "execute_result",
          "data": {
            "text/plain": [
              "1.6370481927710843"
            ]
          },
          "metadata": {
            "tags": []
          },
          "execution_count": 39
        }
      ]
    },
    {
      "cell_type": "code",
      "metadata": {
        "id": "lQKBWWGi8lio",
        "colab_type": "code",
        "outputId": "8616a869-e8b3-4058-fd7f-a38a5aefe89b",
        "colab": {
          "base_uri": "https://localhost:8080/",
          "height": 52
        }
      },
      "source": [
        "# minimum value of a column\n",
        "print(data.point_granularity.min())\n",
        "# maximum value of a column\n",
        "print(data.point_granularity.max())"
      ],
      "execution_count": 0,
      "outputs": [
        {
          "output_type": "stream",
          "text": [
            "1.0\n",
            "4.0\n"
          ],
          "name": "stdout"
        }
      ]
    },
    {
      "cell_type": "code",
      "metadata": {
        "id": "M_qPYadU8lgl",
        "colab_type": "code",
        "outputId": "ecb5cb77-fd5e-41a6-f273-82456b275458",
        "colab": {
          "base_uri": "https://localhost:8080/",
          "height": 87
        }
      },
      "source": [
        "data.point_granularity.value_counts()"
      ],
      "execution_count": 0,
      "outputs": [
        {
          "output_type": "execute_result",
          "data": {
            "text/plain": [
              "1.0    20354\n",
              "3.0     4832\n",
              "4.0     2701\n",
              "Name: point_granularity, dtype: int64"
            ]
          },
          "metadata": {
            "tags": []
          },
          "execution_count": 41
        }
      ]
    },
    {
      "cell_type": "code",
      "metadata": {
        "id": "XpacFsOq8leE",
        "colab_type": "code",
        "outputId": "410af8d9-d974-4bc6-8dd7-85131e738e6b",
        "colab": {
          "base_uri": "https://localhost:8080/",
          "height": 52
        }
      },
      "source": [
        "data.point_granularity.mode()\n",
        "# output type is a series"
      ],
      "execution_count": 0,
      "outputs": [
        {
          "output_type": "execute_result",
          "data": {
            "text/plain": [
              "0    1.0\n",
              "dtype: float64"
            ]
          },
          "metadata": {
            "tags": []
          },
          "execution_count": 42
        }
      ]
    },
    {
      "cell_type": "code",
      "metadata": {
        "id": "3t1ddd868lTS",
        "colab_type": "code",
        "outputId": "8f245c48-a2ac-4084-c97d-70b2fd74d357",
        "colab": {
          "base_uri": "https://localhost:8080/",
          "height": 35
        }
      },
      "source": [
        "data.point_granularity.mode()[0]"
      ],
      "execution_count": 0,
      "outputs": [
        {
          "output_type": "execute_result",
          "data": {
            "text/plain": [
              "1.0"
            ]
          },
          "metadata": {
            "tags": []
          },
          "execution_count": 43
        }
      ]
    },
    {
      "cell_type": "code",
      "metadata": {
        "id": "jDxkrJ7x8kn6",
        "colab_type": "code",
        "outputId": "9e2e6abc-660c-4932-951a-56133ae4a053",
        "colab": {
          "base_uri": "https://localhost:8080/",
          "height": 35
        }
      },
      "source": [
        "data.point_granularity.median()"
      ],
      "execution_count": 0,
      "outputs": [
        {
          "output_type": "execute_result",
          "data": {
            "text/plain": [
              "1.0"
            ]
          },
          "metadata": {
            "tags": []
          },
          "execution_count": 44
        }
      ]
    },
    {
      "cell_type": "code",
      "metadata": {
        "id": "bg5UsPa468MS",
        "colab_type": "code",
        "outputId": "d183a7ee-88ad-4f5d-a653-25bd04266e2a",
        "colab": {
          "base_uri": "https://localhost:8080/",
          "height": 35
        }
      },
      "source": [
        "# Range of values in a column\n",
        "(data.point_granularity.min(),data.point_granularity.max())"
      ],
      "execution_count": 0,
      "outputs": [
        {
          "output_type": "execute_result",
          "data": {
            "text/plain": [
              "(1.0, 4.0)"
            ]
          },
          "metadata": {
            "tags": []
          },
          "execution_count": 45
        }
      ]
    },
    {
      "cell_type": "code",
      "metadata": {
        "id": "NQ61bKsJ68Ug",
        "colab_type": "code",
        "outputId": "cd6e10da-4fb1-4ade-9d7d-83c7605d1f90",
        "colab": {
          "base_uri": "https://localhost:8080/",
          "height": 35
        }
      },
      "source": [
        "data.point_granularity.count()"
      ],
      "execution_count": 0,
      "outputs": [
        {
          "output_type": "execute_result",
          "data": {
            "text/plain": [
              "27887"
            ]
          },
          "metadata": {
            "tags": []
          },
          "execution_count": 46
        }
      ]
    },
    {
      "cell_type": "code",
      "metadata": {
        "id": "8kO1W51a68SU",
        "colab_type": "code",
        "outputId": "5d72a170-360a-4d1c-e051-4e349650c972",
        "colab": {
          "base_uri": "https://localhost:8080/",
          "height": 35
        }
      },
      "source": [
        "data.county.dtype"
      ],
      "execution_count": 0,
      "outputs": [
        {
          "output_type": "execute_result",
          "data": {
            "text/plain": [
              "dtype('O')"
            ]
          },
          "metadata": {
            "tags": []
          },
          "execution_count": 47
        }
      ]
    },
    {
      "cell_type": "code",
      "metadata": {
        "id": "6-xUqCNP68Hz",
        "colab_type": "code",
        "outputId": "ff376d8a-3715-4026-9dc0-40963e5139c1",
        "colab": {
          "base_uri": "https://localhost:8080/",
          "height": 35
        }
      },
      "source": [
        "# How many non null values are there\n",
        "data.county.count()\n",
        "# Output type is an integer"
      ],
      "execution_count": 0,
      "outputs": [
        {
          "output_type": "execute_result",
          "data": {
            "text/plain": [
              "27888"
            ]
          },
          "metadata": {
            "tags": []
          },
          "execution_count": 48
        }
      ]
    },
    {
      "cell_type": "code",
      "metadata": {
        "id": "Gfum4vBf67_G",
        "colab_type": "code",
        "outputId": "af48f909-2167-473a-9979-c113cb1df9a6",
        "colab": {
          "base_uri": "https://localhost:8080/",
          "height": 988
        }
      },
      "source": [
        "# For each uniwue value what is the count\n",
        "data.county.value_counts()\n",
        "# output type is a series\n",
        "# In that series the labels are unique values\n",
        "# the value for that label is how many times it occured in that column\n",
        "# the final dtype refers to the value type of the series. count is integer"
      ],
      "execution_count": 0,
      "outputs": [
        {
          "output_type": "execute_result",
          "data": {
            "text/plain": [
              "MIAMI DADE COUNTY      4315\n",
              "BROWARD COUNTY         3193\n",
              "PALM BEACH COUNTY      2791\n",
              "DUVAL COUNTY           1894\n",
              "ORANGE COUNTY          1811\n",
              "VOLUSIA COUNTY         1367\n",
              "HILLSBOROUGH COUNTY    1165\n",
              "OKALOOSA COUNTY        1115\n",
              "SEMINOLE COUNTY        1100\n",
              "ALACHUA COUNTY          973\n",
              "BREVARD COUNTY          872\n",
              "SANTA ROSA COUNTY       856\n",
              "ST  JOHNS COUNTY        657\n",
              "ESCAMBIA COUNTY         494\n",
              "BAY COUNTY              403\n",
              "INDIAN RIVER COUNTY     380\n",
              "PASCO COUNTY            365\n",
              "CLAY COUNTY             363\n",
              "WALTON COUNTY           288\n",
              "PUTNAM COUNTY           268\n",
              "LEON COUNTY             246\n",
              "JACKSON COUNTY          208\n",
              "LAKE COUNTY             206\n",
              "FLAGLER COUNTY          204\n",
              "GADSDEN COUNTY          196\n",
              "SUWANNEE COUNTY         154\n",
              "SUMTER COUNTY           153\n",
              "MONROE COUNTY           152\n",
              "NASSAU COUNTY           135\n",
              "COLUMBIA COUNTY         125\n",
              "WASHINGTON COUNTY       116\n",
              "LEVY COUNTY             114\n",
              "TAYLOR COUNTY           113\n",
              "MARTIN COUNTY           109\n",
              "PINELLAS COUNTY          87\n",
              "WAKULLA COUNTY           85\n",
              "MADISON COUNTY           81\n",
              "MARION COUNTY            72\n",
              "GULF COUNTY              72\n",
              "BAKER COUNTY             70\n",
              "CALHOUN COUNTY           68\n",
              "LAFAYETTE COUNTY         68\n",
              "JEFFERSON COUNTY         57\n",
              "DIXIE COUNTY             40\n",
              "HOLMES COUNTY            40\n",
              "GILCHRIST COUNTY         39\n",
              "FRANKLIN COUNTY          37\n",
              "LIBERTY COUNTY           36\n",
              "HAMILTON COUNTY          35\n",
              "BRADFORD COUNTY          31\n",
              "HENDRY COUNTY            31\n",
              "GLADES COUNTY            20\n",
              "UNION COUNTY             15\n",
              "HERNANDO COUNTY           2\n",
              "PIN                       1\n",
              "Name: county, dtype: int64"
            ]
          },
          "metadata": {
            "tags": []
          },
          "execution_count": 49
        }
      ]
    },
    {
      "cell_type": "code",
      "metadata": {
        "id": "URr6PpAt6w19",
        "colab_type": "code",
        "outputId": "dbc1e1cb-906e-4e8e-cc53-6d1778d902fc",
        "colab": {
          "base_uri": "https://localhost:8080/",
          "height": 52
        }
      },
      "source": [
        "# How many unique values are there\n",
        "print(data.county.nunique())\n",
        "print(data.county.value_counts().shape[0])"
      ],
      "execution_count": 0,
      "outputs": [
        {
          "output_type": "stream",
          "text": [
            "55\n",
            "55\n"
          ],
          "name": "stdout"
        }
      ]
    },
    {
      "cell_type": "code",
      "metadata": {
        "id": "TtoLaFip6w8g",
        "colab_type": "code",
        "outputId": "b5f2f901-2ead-4884-8b6b-e99057b192bc",
        "colab": {
          "base_uri": "https://localhost:8080/",
          "height": 555
        }
      },
      "source": [
        "# What are the uinique values\n",
        "print(data.county.unique())\n",
        "print(data.county.value_counts().index)"
      ],
      "execution_count": 0,
      "outputs": [
        {
          "output_type": "stream",
          "text": [
            "['CLAY COUNTY' 'SUWANNEE COUNTY' 'NASSAU COUNTY' 'COLUMBIA COUNTY'\n",
            " 'ST  JOHNS COUNTY' 'BAKER COUNTY' 'BRADFORD COUNTY' 'HAMILTON COUNTY'\n",
            " 'UNION COUNTY' 'MADISON COUNTY' 'LAFAYETTE COUNTY' 'FLAGLER COUNTY'\n",
            " 'DUVAL COUNTY' 'LAKE COUNTY' 'VOLUSIA COUNTY' 'PUTNAM COUNTY'\n",
            " 'MARION COUNTY' 'SUMTER COUNTY' 'LEON COUNTY' 'FRANKLIN COUNTY'\n",
            " 'LIBERTY COUNTY' 'GADSDEN COUNTY' 'WAKULLA COUNTY' 'JEFFERSON COUNTY'\n",
            " 'TAYLOR COUNTY' 'BAY COUNTY' 'WALTON COUNTY' 'JACKSON COUNTY'\n",
            " 'CALHOUN COUNTY' 'HOLMES COUNTY' 'WASHINGTON COUNTY' 'GULF COUNTY'\n",
            " 'ESCAMBIA COUNTY' 'SANTA ROSA COUNTY' 'OKALOOSA COUNTY' 'ALACHUA COUNTY'\n",
            " 'GILCHRIST COUNTY' 'LEVY COUNTY' 'DIXIE COUNTY' 'SEMINOLE COUNTY'\n",
            " 'ORANGE COUNTY' 'BREVARD COUNTY' 'INDIAN RIVER COUNTY'\n",
            " 'MIAMI DADE COUNTY' 'BROWARD COUNTY' 'MONROE COUNTY' 'PALM BEACH COUNTY'\n",
            " 'MARTIN COUNTY' 'HENDRY COUNTY' 'PASCO COUNTY' 'GLADES COUNTY'\n",
            " 'HILLSBOROUGH COUNTY' 'HERNANDO COUNTY' 'PINELLAS COUNTY' 'PIN']\n",
            "Index(['MIAMI DADE COUNTY', 'BROWARD COUNTY', 'PALM BEACH COUNTY',\n",
            "       'DUVAL COUNTY', 'ORANGE COUNTY', 'VOLUSIA COUNTY',\n",
            "       'HILLSBOROUGH COUNTY', 'OKALOOSA COUNTY', 'SEMINOLE COUNTY',\n",
            "       'ALACHUA COUNTY', 'BREVARD COUNTY', 'SANTA ROSA COUNTY',\n",
            "       'ST  JOHNS COUNTY', 'ESCAMBIA COUNTY', 'BAY COUNTY',\n",
            "       'INDIAN RIVER COUNTY', 'PASCO COUNTY', 'CLAY COUNTY', 'WALTON COUNTY',\n",
            "       'PUTNAM COUNTY', 'LEON COUNTY', 'JACKSON COUNTY', 'LAKE COUNTY',\n",
            "       'FLAGLER COUNTY', 'GADSDEN COUNTY', 'SUWANNEE COUNTY', 'SUMTER COUNTY',\n",
            "       'MONROE COUNTY', 'NASSAU COUNTY', 'COLUMBIA COUNTY',\n",
            "       'WASHINGTON COUNTY', 'LEVY COUNTY', 'TAYLOR COUNTY', 'MARTIN COUNTY',\n",
            "       'PINELLAS COUNTY', 'WAKULLA COUNTY', 'MADISON COUNTY', 'MARION COUNTY',\n",
            "       'GULF COUNTY', 'BAKER COUNTY', 'CALHOUN COUNTY', 'LAFAYETTE COUNTY',\n",
            "       'JEFFERSON COUNTY', 'DIXIE COUNTY', 'HOLMES COUNTY', 'GILCHRIST COUNTY',\n",
            "       'FRANKLIN COUNTY', 'LIBERTY COUNTY', 'HAMILTON COUNTY',\n",
            "       'BRADFORD COUNTY', 'HENDRY COUNTY', 'GLADES COUNTY', 'UNION COUNTY',\n",
            "       'HERNANDO COUNTY', 'PIN'],\n",
            "      dtype='object')\n"
          ],
          "name": "stdout"
        }
      ]
    },
    {
      "cell_type": "code",
      "metadata": {
        "id": "a9bV8IVS6xPt",
        "colab_type": "code",
        "outputId": "7ff6164b-a803-4561-8782-9961f30aa373",
        "colab": {
          "base_uri": "https://localhost:8080/",
          "height": 314
        }
      },
      "source": [
        "# To get the description for the numerical columns\n",
        "data.describe()"
      ],
      "execution_count": 0,
      "outputs": [
        {
          "output_type": "execute_result",
          "data": {
            "text/html": [
              "<div>\n",
              "<style scoped>\n",
              "    .dataframe tbody tr th:only-of-type {\n",
              "        vertical-align: middle;\n",
              "    }\n",
              "\n",
              "    .dataframe tbody tr th {\n",
              "        vertical-align: top;\n",
              "    }\n",
              "\n",
              "    .dataframe thead th {\n",
              "        text-align: right;\n",
              "    }\n",
              "</style>\n",
              "<table border=\"1\" class=\"dataframe\">\n",
              "  <thead>\n",
              "    <tr style=\"text-align: right;\">\n",
              "      <th></th>\n",
              "      <th>policyID</th>\n",
              "      <th>eq_site_limit</th>\n",
              "      <th>hu_site_limit</th>\n",
              "      <th>fl_site_limit</th>\n",
              "      <th>fr_site_limit</th>\n",
              "      <th>tiv_2011</th>\n",
              "      <th>tiv_2012</th>\n",
              "      <th>eq_site_deductible</th>\n",
              "      <th>hu_site_deductible</th>\n",
              "      <th>fl_site_deductible</th>\n",
              "      <th>fr_site_deductible</th>\n",
              "      <th>point_latitude</th>\n",
              "      <th>point_longitude</th>\n",
              "      <th>point_granularity</th>\n",
              "    </tr>\n",
              "  </thead>\n",
              "  <tbody>\n",
              "    <tr>\n",
              "      <th>count</th>\n",
              "      <td>27888.000000</td>\n",
              "      <td>2.788700e+04</td>\n",
              "      <td>2.788700e+04</td>\n",
              "      <td>2.788700e+04</td>\n",
              "      <td>2.788700e+04</td>\n",
              "      <td>2.788700e+04</td>\n",
              "      <td>2.788700e+04</td>\n",
              "      <td>2.788700e+04</td>\n",
              "      <td>2.788700e+04</td>\n",
              "      <td>27887.000000</td>\n",
              "      <td>27887.000000</td>\n",
              "      <td>27887.000000</td>\n",
              "      <td>27887.000000</td>\n",
              "      <td>27887.000000</td>\n",
              "    </tr>\n",
              "    <tr>\n",
              "      <th>mean</th>\n",
              "      <td>549669.732824</td>\n",
              "      <td>8.270834e+05</td>\n",
              "      <td>2.270114e+06</td>\n",
              "      <td>7.605165e+05</td>\n",
              "      <td>1.124606e+06</td>\n",
              "      <td>2.393017e+06</td>\n",
              "      <td>2.819969e+06</td>\n",
              "      <td>9.971135e+02</td>\n",
              "      <td>7.740118e+03</td>\n",
              "      <td>171.778169</td>\n",
              "      <td>33.886757</td>\n",
              "      <td>28.197296</td>\n",
              "      <td>-81.817304</td>\n",
              "      <td>1.637107</td>\n",
              "    </tr>\n",
              "    <tr>\n",
              "      <th>std</th>\n",
              "      <td>260235.493394</td>\n",
              "      <td>1.990538e+07</td>\n",
              "      <td>2.220591e+07</td>\n",
              "      <td>1.984295e+07</td>\n",
              "      <td>2.005815e+07</td>\n",
              "      <td>2.279338e+07</td>\n",
              "      <td>2.288550e+07</td>\n",
              "      <td>5.485019e+04</td>\n",
              "      <td>1.065321e+05</td>\n",
              "      <td>7588.558382</td>\n",
              "      <td>5389.687848</td>\n",
              "      <td>1.814145</td>\n",
              "      <td>2.052113</td>\n",
              "      <td>1.076529</td>\n",
              "    </tr>\n",
              "    <tr>\n",
              "      <th>min</th>\n",
              "      <td>100074.000000</td>\n",
              "      <td>0.000000e+00</td>\n",
              "      <td>0.000000e+00</td>\n",
              "      <td>0.000000e+00</td>\n",
              "      <td>0.000000e+00</td>\n",
              "      <td>9.000000e+01</td>\n",
              "      <td>7.601000e+01</td>\n",
              "      <td>0.000000e+00</td>\n",
              "      <td>0.000000e+00</td>\n",
              "      <td>0.000000</td>\n",
              "      <td>0.000000</td>\n",
              "      <td>24.547514</td>\n",
              "      <td>-87.447290</td>\n",
              "      <td>1.000000</td>\n",
              "    </tr>\n",
              "    <tr>\n",
              "      <th>25%</th>\n",
              "      <td>324875.500000</td>\n",
              "      <td>0.000000e+00</td>\n",
              "      <td>3.816614e+04</td>\n",
              "      <td>0.000000e+00</td>\n",
              "      <td>0.000000e+00</td>\n",
              "      <td>4.347000e+04</td>\n",
              "      <td>5.004035e+04</td>\n",
              "      <td>0.000000e+00</td>\n",
              "      <td>0.000000e+00</td>\n",
              "      <td>0.000000</td>\n",
              "      <td>0.000000</td>\n",
              "      <td>26.240425</td>\n",
              "      <td>-82.308300</td>\n",
              "      <td>1.000000</td>\n",
              "    </tr>\n",
              "    <tr>\n",
              "      <th>50%</th>\n",
              "      <td>549945.000000</td>\n",
              "      <td>0.000000e+00</td>\n",
              "      <td>1.805753e+05</td>\n",
              "      <td>0.000000e+00</td>\n",
              "      <td>0.000000e+00</td>\n",
              "      <td>1.958400e+05</td>\n",
              "      <td>2.322456e+05</td>\n",
              "      <td>0.000000e+00</td>\n",
              "      <td>0.000000e+00</td>\n",
              "      <td>0.000000</td>\n",
              "      <td>0.000000</td>\n",
              "      <td>28.494486</td>\n",
              "      <td>-81.289370</td>\n",
              "      <td>1.000000</td>\n",
              "    </tr>\n",
              "    <tr>\n",
              "      <th>75%</th>\n",
              "      <td>775011.500000</td>\n",
              "      <td>0.000000e+00</td>\n",
              "      <td>9.215907e+05</td>\n",
              "      <td>0.000000e+00</td>\n",
              "      <td>5.569695e+04</td>\n",
              "      <td>9.612555e+05</td>\n",
              "      <td>1.142991e+06</td>\n",
              "      <td>0.000000e+00</td>\n",
              "      <td>0.000000e+00</td>\n",
              "      <td>0.000000</td>\n",
              "      <td>0.000000</td>\n",
              "      <td>30.110300</td>\n",
              "      <td>-80.280120</td>\n",
              "      <td>3.000000</td>\n",
              "    </tr>\n",
              "    <tr>\n",
              "      <th>max</th>\n",
              "      <td>999971.000000</td>\n",
              "      <td>2.160000e+09</td>\n",
              "      <td>2.160000e+09</td>\n",
              "      <td>2.160000e+09</td>\n",
              "      <td>2.160000e+09</td>\n",
              "      <td>2.160000e+09</td>\n",
              "      <td>1.701000e+09</td>\n",
              "      <td>6.273765e+06</td>\n",
              "      <td>7.380000e+06</td>\n",
              "      <td>450000.000000</td>\n",
              "      <td>900000.000000</td>\n",
              "      <td>30.989820</td>\n",
              "      <td>-80.033257</td>\n",
              "      <td>4.000000</td>\n",
              "    </tr>\n",
              "  </tbody>\n",
              "</table>\n",
              "</div>"
            ],
            "text/plain": [
              "            policyID  eq_site_limit  ...  point_longitude  point_granularity\n",
              "count   27888.000000   2.788700e+04  ...     27887.000000       27887.000000\n",
              "mean   549669.732824   8.270834e+05  ...       -81.817304           1.637107\n",
              "std    260235.493394   1.990538e+07  ...         2.052113           1.076529\n",
              "min    100074.000000   0.000000e+00  ...       -87.447290           1.000000\n",
              "25%    324875.500000   0.000000e+00  ...       -82.308300           1.000000\n",
              "50%    549945.000000   0.000000e+00  ...       -81.289370           1.000000\n",
              "75%    775011.500000   0.000000e+00  ...       -80.280120           3.000000\n",
              "max    999971.000000   2.160000e+09  ...       -80.033257           4.000000\n",
              "\n",
              "[8 rows x 14 columns]"
            ]
          },
          "metadata": {
            "tags": []
          },
          "execution_count": 52
        }
      ]
    },
    {
      "cell_type": "code",
      "metadata": {
        "id": "2STSXMNt6w5l",
        "colab_type": "code",
        "outputId": "d47b3864-3f33-46a4-81c1-a1f5f9014051",
        "colab": {
          "base_uri": "https://localhost:8080/",
          "height": 104
        }
      },
      "source": [
        "# To get the list of numerical columns\n",
        "data.describe().columns"
      ],
      "execution_count": 0,
      "outputs": [
        {
          "output_type": "execute_result",
          "data": {
            "text/plain": [
              "Index(['policyID', 'eq_site_limit', 'hu_site_limit', 'fl_site_limit',\n",
              "       'fr_site_limit', 'tiv_2011', 'tiv_2012', 'eq_site_deductible',\n",
              "       'hu_site_deductible', 'fl_site_deductible', 'fr_site_deductible',\n",
              "       'point_latitude', 'point_longitude', 'point_granularity'],\n",
              "      dtype='object')"
            ]
          },
          "metadata": {
            "tags": []
          },
          "execution_count": 53
        }
      ]
    },
    {
      "cell_type": "code",
      "metadata": {
        "id": "3yV9PDw__llJ",
        "colab_type": "code",
        "outputId": "8afc824b-b79b-4370-97af-58b2295e6988",
        "colab": {
          "base_uri": "https://localhost:8080/",
          "height": 171
        }
      },
      "source": [
        "# To get the description for the categorical columns\n",
        "data.describe(include=object)"
      ],
      "execution_count": 0,
      "outputs": [
        {
          "output_type": "execute_result",
          "data": {
            "text/html": [
              "<div>\n",
              "<style scoped>\n",
              "    .dataframe tbody tr th:only-of-type {\n",
              "        vertical-align: middle;\n",
              "    }\n",
              "\n",
              "    .dataframe tbody tr th {\n",
              "        vertical-align: top;\n",
              "    }\n",
              "\n",
              "    .dataframe thead th {\n",
              "        text-align: right;\n",
              "    }\n",
              "</style>\n",
              "<table border=\"1\" class=\"dataframe\">\n",
              "  <thead>\n",
              "    <tr style=\"text-align: right;\">\n",
              "      <th></th>\n",
              "      <th>statecode</th>\n",
              "      <th>county</th>\n",
              "      <th>line</th>\n",
              "      <th>construction</th>\n",
              "    </tr>\n",
              "  </thead>\n",
              "  <tbody>\n",
              "    <tr>\n",
              "      <th>count</th>\n",
              "      <td>27888</td>\n",
              "      <td>27888</td>\n",
              "      <td>27887</td>\n",
              "      <td>27887</td>\n",
              "    </tr>\n",
              "    <tr>\n",
              "      <th>unique</th>\n",
              "      <td>1</td>\n",
              "      <td>55</td>\n",
              "      <td>2</td>\n",
              "      <td>5</td>\n",
              "    </tr>\n",
              "    <tr>\n",
              "      <th>top</th>\n",
              "      <td>FL</td>\n",
              "      <td>MIAMI DADE COUNTY</td>\n",
              "      <td>Residential</td>\n",
              "      <td>Wood</td>\n",
              "    </tr>\n",
              "    <tr>\n",
              "      <th>freq</th>\n",
              "      <td>27888</td>\n",
              "      <td>4315</td>\n",
              "      <td>23388</td>\n",
              "      <td>16524</td>\n",
              "    </tr>\n",
              "  </tbody>\n",
              "</table>\n",
              "</div>"
            ],
            "text/plain": [
              "       statecode             county         line construction\n",
              "count      27888              27888        27887        27887\n",
              "unique         1                 55            2            5\n",
              "top           FL  MIAMI DADE COUNTY  Residential         Wood\n",
              "freq       27888               4315        23388        16524"
            ]
          },
          "metadata": {
            "tags": []
          },
          "execution_count": 54
        }
      ]
    },
    {
      "cell_type": "code",
      "metadata": {
        "id": "jxr-06xT_rR3",
        "colab_type": "code",
        "outputId": "28cafe22-6b79-4f41-c09e-f9d61394e847",
        "colab": {
          "base_uri": "https://localhost:8080/",
          "height": 294
        }
      },
      "source": [
        "data.describe(include=np.int64)"
      ],
      "execution_count": 0,
      "outputs": [
        {
          "output_type": "execute_result",
          "data": {
            "text/html": [
              "<div>\n",
              "<style scoped>\n",
              "    .dataframe tbody tr th:only-of-type {\n",
              "        vertical-align: middle;\n",
              "    }\n",
              "\n",
              "    .dataframe tbody tr th {\n",
              "        vertical-align: top;\n",
              "    }\n",
              "\n",
              "    .dataframe thead th {\n",
              "        text-align: right;\n",
              "    }\n",
              "</style>\n",
              "<table border=\"1\" class=\"dataframe\">\n",
              "  <thead>\n",
              "    <tr style=\"text-align: right;\">\n",
              "      <th></th>\n",
              "      <th>policyID</th>\n",
              "    </tr>\n",
              "  </thead>\n",
              "  <tbody>\n",
              "    <tr>\n",
              "      <th>count</th>\n",
              "      <td>27888.000000</td>\n",
              "    </tr>\n",
              "    <tr>\n",
              "      <th>mean</th>\n",
              "      <td>549669.732824</td>\n",
              "    </tr>\n",
              "    <tr>\n",
              "      <th>std</th>\n",
              "      <td>260235.493394</td>\n",
              "    </tr>\n",
              "    <tr>\n",
              "      <th>min</th>\n",
              "      <td>100074.000000</td>\n",
              "    </tr>\n",
              "    <tr>\n",
              "      <th>25%</th>\n",
              "      <td>324875.500000</td>\n",
              "    </tr>\n",
              "    <tr>\n",
              "      <th>50%</th>\n",
              "      <td>549945.000000</td>\n",
              "    </tr>\n",
              "    <tr>\n",
              "      <th>75%</th>\n",
              "      <td>775011.500000</td>\n",
              "    </tr>\n",
              "    <tr>\n",
              "      <th>max</th>\n",
              "      <td>999971.000000</td>\n",
              "    </tr>\n",
              "  </tbody>\n",
              "</table>\n",
              "</div>"
            ],
            "text/plain": [
              "            policyID\n",
              "count   27888.000000\n",
              "mean   549669.732824\n",
              "std    260235.493394\n",
              "min    100074.000000\n",
              "25%    324875.500000\n",
              "50%    549945.000000\n",
              "75%    775011.500000\n",
              "max    999971.000000"
            ]
          },
          "metadata": {
            "tags": []
          },
          "execution_count": 55
        }
      ]
    },
    {
      "cell_type": "code",
      "metadata": {
        "id": "oz8SvQzo_rXr",
        "colab_type": "code",
        "outputId": "cbb205fb-5698-4367-b52e-5766675cdd69",
        "colab": {
          "base_uri": "https://localhost:8080/",
          "height": 314
        }
      },
      "source": [
        "data.describe(include=np.float64)"
      ],
      "execution_count": 0,
      "outputs": [
        {
          "output_type": "execute_result",
          "data": {
            "text/html": [
              "<div>\n",
              "<style scoped>\n",
              "    .dataframe tbody tr th:only-of-type {\n",
              "        vertical-align: middle;\n",
              "    }\n",
              "\n",
              "    .dataframe tbody tr th {\n",
              "        vertical-align: top;\n",
              "    }\n",
              "\n",
              "    .dataframe thead th {\n",
              "        text-align: right;\n",
              "    }\n",
              "</style>\n",
              "<table border=\"1\" class=\"dataframe\">\n",
              "  <thead>\n",
              "    <tr style=\"text-align: right;\">\n",
              "      <th></th>\n",
              "      <th>eq_site_limit</th>\n",
              "      <th>hu_site_limit</th>\n",
              "      <th>fl_site_limit</th>\n",
              "      <th>fr_site_limit</th>\n",
              "      <th>tiv_2011</th>\n",
              "      <th>tiv_2012</th>\n",
              "      <th>eq_site_deductible</th>\n",
              "      <th>hu_site_deductible</th>\n",
              "      <th>fl_site_deductible</th>\n",
              "      <th>fr_site_deductible</th>\n",
              "      <th>point_latitude</th>\n",
              "      <th>point_longitude</th>\n",
              "      <th>point_granularity</th>\n",
              "    </tr>\n",
              "  </thead>\n",
              "  <tbody>\n",
              "    <tr>\n",
              "      <th>count</th>\n",
              "      <td>2.788700e+04</td>\n",
              "      <td>2.788700e+04</td>\n",
              "      <td>2.788700e+04</td>\n",
              "      <td>2.788700e+04</td>\n",
              "      <td>2.788700e+04</td>\n",
              "      <td>2.788700e+04</td>\n",
              "      <td>2.788700e+04</td>\n",
              "      <td>2.788700e+04</td>\n",
              "      <td>27887.000000</td>\n",
              "      <td>27887.000000</td>\n",
              "      <td>27887.000000</td>\n",
              "      <td>27887.000000</td>\n",
              "      <td>27887.000000</td>\n",
              "    </tr>\n",
              "    <tr>\n",
              "      <th>mean</th>\n",
              "      <td>8.270834e+05</td>\n",
              "      <td>2.270114e+06</td>\n",
              "      <td>7.605165e+05</td>\n",
              "      <td>1.124606e+06</td>\n",
              "      <td>2.393017e+06</td>\n",
              "      <td>2.819969e+06</td>\n",
              "      <td>9.971135e+02</td>\n",
              "      <td>7.740118e+03</td>\n",
              "      <td>171.778169</td>\n",
              "      <td>33.886757</td>\n",
              "      <td>28.197296</td>\n",
              "      <td>-81.817304</td>\n",
              "      <td>1.637107</td>\n",
              "    </tr>\n",
              "    <tr>\n",
              "      <th>std</th>\n",
              "      <td>1.990538e+07</td>\n",
              "      <td>2.220591e+07</td>\n",
              "      <td>1.984295e+07</td>\n",
              "      <td>2.005815e+07</td>\n",
              "      <td>2.279338e+07</td>\n",
              "      <td>2.288550e+07</td>\n",
              "      <td>5.485019e+04</td>\n",
              "      <td>1.065321e+05</td>\n",
              "      <td>7588.558382</td>\n",
              "      <td>5389.687848</td>\n",
              "      <td>1.814145</td>\n",
              "      <td>2.052113</td>\n",
              "      <td>1.076529</td>\n",
              "    </tr>\n",
              "    <tr>\n",
              "      <th>min</th>\n",
              "      <td>0.000000e+00</td>\n",
              "      <td>0.000000e+00</td>\n",
              "      <td>0.000000e+00</td>\n",
              "      <td>0.000000e+00</td>\n",
              "      <td>9.000000e+01</td>\n",
              "      <td>7.601000e+01</td>\n",
              "      <td>0.000000e+00</td>\n",
              "      <td>0.000000e+00</td>\n",
              "      <td>0.000000</td>\n",
              "      <td>0.000000</td>\n",
              "      <td>24.547514</td>\n",
              "      <td>-87.447290</td>\n",
              "      <td>1.000000</td>\n",
              "    </tr>\n",
              "    <tr>\n",
              "      <th>25%</th>\n",
              "      <td>0.000000e+00</td>\n",
              "      <td>3.816614e+04</td>\n",
              "      <td>0.000000e+00</td>\n",
              "      <td>0.000000e+00</td>\n",
              "      <td>4.347000e+04</td>\n",
              "      <td>5.004035e+04</td>\n",
              "      <td>0.000000e+00</td>\n",
              "      <td>0.000000e+00</td>\n",
              "      <td>0.000000</td>\n",
              "      <td>0.000000</td>\n",
              "      <td>26.240425</td>\n",
              "      <td>-82.308300</td>\n",
              "      <td>1.000000</td>\n",
              "    </tr>\n",
              "    <tr>\n",
              "      <th>50%</th>\n",
              "      <td>0.000000e+00</td>\n",
              "      <td>1.805753e+05</td>\n",
              "      <td>0.000000e+00</td>\n",
              "      <td>0.000000e+00</td>\n",
              "      <td>1.958400e+05</td>\n",
              "      <td>2.322456e+05</td>\n",
              "      <td>0.000000e+00</td>\n",
              "      <td>0.000000e+00</td>\n",
              "      <td>0.000000</td>\n",
              "      <td>0.000000</td>\n",
              "      <td>28.494486</td>\n",
              "      <td>-81.289370</td>\n",
              "      <td>1.000000</td>\n",
              "    </tr>\n",
              "    <tr>\n",
              "      <th>75%</th>\n",
              "      <td>0.000000e+00</td>\n",
              "      <td>9.215907e+05</td>\n",
              "      <td>0.000000e+00</td>\n",
              "      <td>5.569695e+04</td>\n",
              "      <td>9.612555e+05</td>\n",
              "      <td>1.142991e+06</td>\n",
              "      <td>0.000000e+00</td>\n",
              "      <td>0.000000e+00</td>\n",
              "      <td>0.000000</td>\n",
              "      <td>0.000000</td>\n",
              "      <td>30.110300</td>\n",
              "      <td>-80.280120</td>\n",
              "      <td>3.000000</td>\n",
              "    </tr>\n",
              "    <tr>\n",
              "      <th>max</th>\n",
              "      <td>2.160000e+09</td>\n",
              "      <td>2.160000e+09</td>\n",
              "      <td>2.160000e+09</td>\n",
              "      <td>2.160000e+09</td>\n",
              "      <td>2.160000e+09</td>\n",
              "      <td>1.701000e+09</td>\n",
              "      <td>6.273765e+06</td>\n",
              "      <td>7.380000e+06</td>\n",
              "      <td>450000.000000</td>\n",
              "      <td>900000.000000</td>\n",
              "      <td>30.989820</td>\n",
              "      <td>-80.033257</td>\n",
              "      <td>4.000000</td>\n",
              "    </tr>\n",
              "  </tbody>\n",
              "</table>\n",
              "</div>"
            ],
            "text/plain": [
              "       eq_site_limit  hu_site_limit  ...  point_longitude  point_granularity\n",
              "count   2.788700e+04   2.788700e+04  ...     27887.000000       27887.000000\n",
              "mean    8.270834e+05   2.270114e+06  ...       -81.817304           1.637107\n",
              "std     1.990538e+07   2.220591e+07  ...         2.052113           1.076529\n",
              "min     0.000000e+00   0.000000e+00  ...       -87.447290           1.000000\n",
              "25%     0.000000e+00   3.816614e+04  ...       -82.308300           1.000000\n",
              "50%     0.000000e+00   1.805753e+05  ...       -81.289370           1.000000\n",
              "75%     0.000000e+00   9.215907e+05  ...       -80.280120           3.000000\n",
              "max     2.160000e+09   2.160000e+09  ...       -80.033257           4.000000\n",
              "\n",
              "[8 rows x 13 columns]"
            ]
          },
          "metadata": {
            "tags": []
          },
          "execution_count": 56
        }
      ]
    },
    {
      "cell_type": "code",
      "metadata": {
        "id": "FbaiK2J7_rqy",
        "colab_type": "code",
        "outputId": "9a6e61e4-c12f-4c7d-9368-32aa668037f0",
        "colab": {
          "base_uri": "https://localhost:8080/",
          "height": 441
        }
      },
      "source": [
        "data.describe(include='all')"
      ],
      "execution_count": 0,
      "outputs": [
        {
          "output_type": "execute_result",
          "data": {
            "text/html": [
              "<div>\n",
              "<style scoped>\n",
              "    .dataframe tbody tr th:only-of-type {\n",
              "        vertical-align: middle;\n",
              "    }\n",
              "\n",
              "    .dataframe tbody tr th {\n",
              "        vertical-align: top;\n",
              "    }\n",
              "\n",
              "    .dataframe thead th {\n",
              "        text-align: right;\n",
              "    }\n",
              "</style>\n",
              "<table border=\"1\" class=\"dataframe\">\n",
              "  <thead>\n",
              "    <tr style=\"text-align: right;\">\n",
              "      <th></th>\n",
              "      <th>policyID</th>\n",
              "      <th>statecode</th>\n",
              "      <th>county</th>\n",
              "      <th>eq_site_limit</th>\n",
              "      <th>hu_site_limit</th>\n",
              "      <th>fl_site_limit</th>\n",
              "      <th>fr_site_limit</th>\n",
              "      <th>tiv_2011</th>\n",
              "      <th>tiv_2012</th>\n",
              "      <th>eq_site_deductible</th>\n",
              "      <th>hu_site_deductible</th>\n",
              "      <th>fl_site_deductible</th>\n",
              "      <th>fr_site_deductible</th>\n",
              "      <th>point_latitude</th>\n",
              "      <th>point_longitude</th>\n",
              "      <th>line</th>\n",
              "      <th>construction</th>\n",
              "      <th>point_granularity</th>\n",
              "    </tr>\n",
              "  </thead>\n",
              "  <tbody>\n",
              "    <tr>\n",
              "      <th>count</th>\n",
              "      <td>27888.000000</td>\n",
              "      <td>27888</td>\n",
              "      <td>27888</td>\n",
              "      <td>2.788700e+04</td>\n",
              "      <td>2.788700e+04</td>\n",
              "      <td>2.788700e+04</td>\n",
              "      <td>2.788700e+04</td>\n",
              "      <td>2.788700e+04</td>\n",
              "      <td>2.788700e+04</td>\n",
              "      <td>2.788700e+04</td>\n",
              "      <td>2.788700e+04</td>\n",
              "      <td>27887.000000</td>\n",
              "      <td>27887.000000</td>\n",
              "      <td>27887.000000</td>\n",
              "      <td>27887.000000</td>\n",
              "      <td>27887</td>\n",
              "      <td>27887</td>\n",
              "      <td>27887.000000</td>\n",
              "    </tr>\n",
              "    <tr>\n",
              "      <th>unique</th>\n",
              "      <td>NaN</td>\n",
              "      <td>1</td>\n",
              "      <td>55</td>\n",
              "      <td>NaN</td>\n",
              "      <td>NaN</td>\n",
              "      <td>NaN</td>\n",
              "      <td>NaN</td>\n",
              "      <td>NaN</td>\n",
              "      <td>NaN</td>\n",
              "      <td>NaN</td>\n",
              "      <td>NaN</td>\n",
              "      <td>NaN</td>\n",
              "      <td>NaN</td>\n",
              "      <td>NaN</td>\n",
              "      <td>NaN</td>\n",
              "      <td>2</td>\n",
              "      <td>5</td>\n",
              "      <td>NaN</td>\n",
              "    </tr>\n",
              "    <tr>\n",
              "      <th>top</th>\n",
              "      <td>NaN</td>\n",
              "      <td>FL</td>\n",
              "      <td>MIAMI DADE COUNTY</td>\n",
              "      <td>NaN</td>\n",
              "      <td>NaN</td>\n",
              "      <td>NaN</td>\n",
              "      <td>NaN</td>\n",
              "      <td>NaN</td>\n",
              "      <td>NaN</td>\n",
              "      <td>NaN</td>\n",
              "      <td>NaN</td>\n",
              "      <td>NaN</td>\n",
              "      <td>NaN</td>\n",
              "      <td>NaN</td>\n",
              "      <td>NaN</td>\n",
              "      <td>Residential</td>\n",
              "      <td>Wood</td>\n",
              "      <td>NaN</td>\n",
              "    </tr>\n",
              "    <tr>\n",
              "      <th>freq</th>\n",
              "      <td>NaN</td>\n",
              "      <td>27888</td>\n",
              "      <td>4315</td>\n",
              "      <td>NaN</td>\n",
              "      <td>NaN</td>\n",
              "      <td>NaN</td>\n",
              "      <td>NaN</td>\n",
              "      <td>NaN</td>\n",
              "      <td>NaN</td>\n",
              "      <td>NaN</td>\n",
              "      <td>NaN</td>\n",
              "      <td>NaN</td>\n",
              "      <td>NaN</td>\n",
              "      <td>NaN</td>\n",
              "      <td>NaN</td>\n",
              "      <td>23388</td>\n",
              "      <td>16524</td>\n",
              "      <td>NaN</td>\n",
              "    </tr>\n",
              "    <tr>\n",
              "      <th>mean</th>\n",
              "      <td>549669.732824</td>\n",
              "      <td>NaN</td>\n",
              "      <td>NaN</td>\n",
              "      <td>8.270834e+05</td>\n",
              "      <td>2.270114e+06</td>\n",
              "      <td>7.605165e+05</td>\n",
              "      <td>1.124606e+06</td>\n",
              "      <td>2.393017e+06</td>\n",
              "      <td>2.819969e+06</td>\n",
              "      <td>9.971135e+02</td>\n",
              "      <td>7.740118e+03</td>\n",
              "      <td>171.778169</td>\n",
              "      <td>33.886757</td>\n",
              "      <td>28.197296</td>\n",
              "      <td>-81.817304</td>\n",
              "      <td>NaN</td>\n",
              "      <td>NaN</td>\n",
              "      <td>1.637107</td>\n",
              "    </tr>\n",
              "    <tr>\n",
              "      <th>std</th>\n",
              "      <td>260235.493394</td>\n",
              "      <td>NaN</td>\n",
              "      <td>NaN</td>\n",
              "      <td>1.990538e+07</td>\n",
              "      <td>2.220591e+07</td>\n",
              "      <td>1.984295e+07</td>\n",
              "      <td>2.005815e+07</td>\n",
              "      <td>2.279338e+07</td>\n",
              "      <td>2.288550e+07</td>\n",
              "      <td>5.485019e+04</td>\n",
              "      <td>1.065321e+05</td>\n",
              "      <td>7588.558382</td>\n",
              "      <td>5389.687848</td>\n",
              "      <td>1.814145</td>\n",
              "      <td>2.052113</td>\n",
              "      <td>NaN</td>\n",
              "      <td>NaN</td>\n",
              "      <td>1.076529</td>\n",
              "    </tr>\n",
              "    <tr>\n",
              "      <th>min</th>\n",
              "      <td>100074.000000</td>\n",
              "      <td>NaN</td>\n",
              "      <td>NaN</td>\n",
              "      <td>0.000000e+00</td>\n",
              "      <td>0.000000e+00</td>\n",
              "      <td>0.000000e+00</td>\n",
              "      <td>0.000000e+00</td>\n",
              "      <td>9.000000e+01</td>\n",
              "      <td>7.601000e+01</td>\n",
              "      <td>0.000000e+00</td>\n",
              "      <td>0.000000e+00</td>\n",
              "      <td>0.000000</td>\n",
              "      <td>0.000000</td>\n",
              "      <td>24.547514</td>\n",
              "      <td>-87.447290</td>\n",
              "      <td>NaN</td>\n",
              "      <td>NaN</td>\n",
              "      <td>1.000000</td>\n",
              "    </tr>\n",
              "    <tr>\n",
              "      <th>25%</th>\n",
              "      <td>324875.500000</td>\n",
              "      <td>NaN</td>\n",
              "      <td>NaN</td>\n",
              "      <td>0.000000e+00</td>\n",
              "      <td>3.816614e+04</td>\n",
              "      <td>0.000000e+00</td>\n",
              "      <td>0.000000e+00</td>\n",
              "      <td>4.347000e+04</td>\n",
              "      <td>5.004035e+04</td>\n",
              "      <td>0.000000e+00</td>\n",
              "      <td>0.000000e+00</td>\n",
              "      <td>0.000000</td>\n",
              "      <td>0.000000</td>\n",
              "      <td>26.240425</td>\n",
              "      <td>-82.308300</td>\n",
              "      <td>NaN</td>\n",
              "      <td>NaN</td>\n",
              "      <td>1.000000</td>\n",
              "    </tr>\n",
              "    <tr>\n",
              "      <th>50%</th>\n",
              "      <td>549945.000000</td>\n",
              "      <td>NaN</td>\n",
              "      <td>NaN</td>\n",
              "      <td>0.000000e+00</td>\n",
              "      <td>1.805753e+05</td>\n",
              "      <td>0.000000e+00</td>\n",
              "      <td>0.000000e+00</td>\n",
              "      <td>1.958400e+05</td>\n",
              "      <td>2.322456e+05</td>\n",
              "      <td>0.000000e+00</td>\n",
              "      <td>0.000000e+00</td>\n",
              "      <td>0.000000</td>\n",
              "      <td>0.000000</td>\n",
              "      <td>28.494486</td>\n",
              "      <td>-81.289370</td>\n",
              "      <td>NaN</td>\n",
              "      <td>NaN</td>\n",
              "      <td>1.000000</td>\n",
              "    </tr>\n",
              "    <tr>\n",
              "      <th>75%</th>\n",
              "      <td>775011.500000</td>\n",
              "      <td>NaN</td>\n",
              "      <td>NaN</td>\n",
              "      <td>0.000000e+00</td>\n",
              "      <td>9.215907e+05</td>\n",
              "      <td>0.000000e+00</td>\n",
              "      <td>5.569695e+04</td>\n",
              "      <td>9.612555e+05</td>\n",
              "      <td>1.142991e+06</td>\n",
              "      <td>0.000000e+00</td>\n",
              "      <td>0.000000e+00</td>\n",
              "      <td>0.000000</td>\n",
              "      <td>0.000000</td>\n",
              "      <td>30.110300</td>\n",
              "      <td>-80.280120</td>\n",
              "      <td>NaN</td>\n",
              "      <td>NaN</td>\n",
              "      <td>3.000000</td>\n",
              "    </tr>\n",
              "    <tr>\n",
              "      <th>max</th>\n",
              "      <td>999971.000000</td>\n",
              "      <td>NaN</td>\n",
              "      <td>NaN</td>\n",
              "      <td>2.160000e+09</td>\n",
              "      <td>2.160000e+09</td>\n",
              "      <td>2.160000e+09</td>\n",
              "      <td>2.160000e+09</td>\n",
              "      <td>2.160000e+09</td>\n",
              "      <td>1.701000e+09</td>\n",
              "      <td>6.273765e+06</td>\n",
              "      <td>7.380000e+06</td>\n",
              "      <td>450000.000000</td>\n",
              "      <td>900000.000000</td>\n",
              "      <td>30.989820</td>\n",
              "      <td>-80.033257</td>\n",
              "      <td>NaN</td>\n",
              "      <td>NaN</td>\n",
              "      <td>4.000000</td>\n",
              "    </tr>\n",
              "  </tbody>\n",
              "</table>\n",
              "</div>"
            ],
            "text/plain": [
              "             policyID statecode  ... construction  point_granularity\n",
              "count    27888.000000     27888  ...        27887       27887.000000\n",
              "unique            NaN         1  ...            5                NaN\n",
              "top               NaN        FL  ...         Wood                NaN\n",
              "freq              NaN     27888  ...        16524                NaN\n",
              "mean    549669.732824       NaN  ...          NaN           1.637107\n",
              "std     260235.493394       NaN  ...          NaN           1.076529\n",
              "min     100074.000000       NaN  ...          NaN           1.000000\n",
              "25%     324875.500000       NaN  ...          NaN           1.000000\n",
              "50%     549945.000000       NaN  ...          NaN           1.000000\n",
              "75%     775011.500000       NaN  ...          NaN           3.000000\n",
              "max     999971.000000       NaN  ...          NaN           4.000000\n",
              "\n",
              "[11 rows x 18 columns]"
            ]
          },
          "metadata": {
            "tags": []
          },
          "execution_count": 57
        }
      ]
    },
    {
      "cell_type": "code",
      "metadata": {
        "id": "eZZebyNb_sBU",
        "colab_type": "code",
        "outputId": "5e20cf1d-eb6c-4fbb-85f7-becd2329a491",
        "colab": {
          "base_uri": "https://localhost:8080/",
          "height": 121
        }
      },
      "source": [
        "data.columns"
      ],
      "execution_count": 0,
      "outputs": [
        {
          "output_type": "execute_result",
          "data": {
            "text/plain": [
              "Index(['policyID', 'statecode', 'county', 'eq_site_limit', 'hu_site_limit',\n",
              "       'fl_site_limit', 'fr_site_limit', 'tiv_2011', 'tiv_2012',\n",
              "       'eq_site_deductible', 'hu_site_deductible', 'fl_site_deductible',\n",
              "       'fr_site_deductible', 'point_latitude', 'point_longitude', 'line',\n",
              "       'construction', 'point_granularity'],\n",
              "      dtype='object')"
            ]
          },
          "metadata": {
            "tags": []
          },
          "execution_count": 58
        }
      ]
    },
    {
      "cell_type": "markdown",
      "metadata": {
        "id": "vigy0UNEAIXm",
        "colab_type": "text"
      },
      "source": [
        "- Slicing, subsetting, Boolean Indexing\n",
        "\n",
        "- postion based (iloc)\n",
        "   - rows --> 0 to 36633\n",
        "   - columns --> 0 to 17\n",
        "- label based indexing(loc)\n",
        "- rows --> 0 to 36633\n",
        "- columns --> ['policyID', 'statecode', 'county', 'eq_site_limit', 'hu_site_limit', 'fl_site_limit', 'fr_site_limit', 'tiv_2011', 'tiv_2012', 'eq_site_deductible', 'hu_site_deductible', 'fl_site_deductible', 'fr_site_deductible', 'point_latitude', 'point_longitude', 'line', 'construction', 'point_granularity']"
      ]
    },
    {
      "cell_type": "code",
      "metadata": {
        "id": "4b2XC52Z_r-i",
        "colab_type": "code",
        "outputId": "991dc32b-a0ab-4ed7-9319-aeeea93df457",
        "colab": {
          "base_uri": "https://localhost:8080/",
          "height": 347
        }
      },
      "source": [
        "data.iloc[1,:] # row with index 1 and all the columns"
      ],
      "execution_count": 0,
      "outputs": [
        {
          "output_type": "execute_result",
          "data": {
            "text/plain": [
              "policyID                   448094\n",
              "statecode                      FL\n",
              "county                CLAY COUNTY\n",
              "eq_site_limit         1.32238e+06\n",
              "hu_site_limit         1.32238e+06\n",
              "fl_site_limit         1.32238e+06\n",
              "fr_site_limit         1.32238e+06\n",
              "tiv_2011              1.32238e+06\n",
              "tiv_2012              1.43816e+06\n",
              "eq_site_deductible              0\n",
              "hu_site_deductible              0\n",
              "fl_site_deductible              0\n",
              "fr_site_deductible              0\n",
              "point_latitude            30.0639\n",
              "point_longitude          -81.7077\n",
              "line                  Residential\n",
              "construction              Masonry\n",
              "point_granularity               3\n",
              "Name: 1, dtype: object"
            ]
          },
          "metadata": {
            "tags": []
          },
          "execution_count": 59
        }
      ]
    },
    {
      "cell_type": "code",
      "metadata": {
        "id": "nOG-6oU3_rkl",
        "colab_type": "code",
        "outputId": "24f82a22-627f-4383-9a4e-5b8b1b8b3dca",
        "colab": {
          "base_uri": "https://localhost:8080/",
          "height": 347
        }
      },
      "source": [
        "data.loc[1,:]"
      ],
      "execution_count": 0,
      "outputs": [
        {
          "output_type": "execute_result",
          "data": {
            "text/plain": [
              "policyID                   448094\n",
              "statecode                      FL\n",
              "county                CLAY COUNTY\n",
              "eq_site_limit         1.32238e+06\n",
              "hu_site_limit         1.32238e+06\n",
              "fl_site_limit         1.32238e+06\n",
              "fr_site_limit         1.32238e+06\n",
              "tiv_2011              1.32238e+06\n",
              "tiv_2012              1.43816e+06\n",
              "eq_site_deductible              0\n",
              "hu_site_deductible              0\n",
              "fl_site_deductible              0\n",
              "fr_site_deductible              0\n",
              "point_latitude            30.0639\n",
              "point_longitude          -81.7077\n",
              "line                  Residential\n",
              "construction              Masonry\n",
              "point_granularity               3\n",
              "Name: 1, dtype: object"
            ]
          },
          "metadata": {
            "tags": []
          },
          "execution_count": 60
        }
      ]
    },
    {
      "cell_type": "code",
      "metadata": {
        "id": "q1FmLlR0_mBB",
        "colab_type": "code",
        "outputId": "a9bf445d-2105-44d0-dd2a-1bba331e9675",
        "colab": {
          "base_uri": "https://localhost:8080/",
          "height": 35
        }
      },
      "source": [
        "data.iloc[1,1] # row with index 1and column with index 1"
      ],
      "execution_count": 0,
      "outputs": [
        {
          "output_type": "execute_result",
          "data": {
            "text/plain": [
              "'FL'"
            ]
          },
          "metadata": {
            "tags": []
          },
          "execution_count": 61
        }
      ]
    },
    {
      "cell_type": "code",
      "metadata": {
        "id": "mg6whyPa_mUb",
        "colab_type": "code",
        "outputId": "e1c30ab7-897f-4468-8ce2-e70a65f90418",
        "colab": {
          "base_uri": "https://localhost:8080/",
          "height": 35
        }
      },
      "source": [
        "data.loc[1,\"statecode\"]"
      ],
      "execution_count": 0,
      "outputs": [
        {
          "output_type": "execute_result",
          "data": {
            "text/plain": [
              "'FL'"
            ]
          },
          "metadata": {
            "tags": []
          },
          "execution_count": 62
        }
      ]
    },
    {
      "cell_type": "code",
      "metadata": {
        "id": "hAk_CNnp_l-W",
        "colab_type": "code",
        "outputId": "e4166077-efde-4f5b-ad4a-90aec2ee84a9",
        "colab": {
          "base_uri": "https://localhost:8080/",
          "height": 69
        }
      },
      "source": [
        "data.iloc[1,1:3] # row with index 1 and columns with index 1,2\n",
        "# iloc stop index is exclusive"
      ],
      "execution_count": 0,
      "outputs": [
        {
          "output_type": "execute_result",
          "data": {
            "text/plain": [
              "statecode             FL\n",
              "county       CLAY COUNTY\n",
              "Name: 1, dtype: object"
            ]
          },
          "metadata": {
            "tags": []
          },
          "execution_count": 63
        }
      ]
    },
    {
      "cell_type": "code",
      "metadata": {
        "id": "Fi8W8xZ7_lda",
        "colab_type": "code",
        "outputId": "c17a5639-d486-4d88-d1f0-f1379ce10672",
        "colab": {
          "base_uri": "https://localhost:8080/",
          "height": 69
        }
      },
      "source": [
        "data.loc[1,\"statecode\":\"county\"] \n",
        "# loc - the stop label also inclusive"
      ],
      "execution_count": 0,
      "outputs": [
        {
          "output_type": "execute_result",
          "data": {
            "text/plain": [
              "statecode             FL\n",
              "county       CLAY COUNTY\n",
              "Name: 1, dtype: object"
            ]
          },
          "metadata": {
            "tags": []
          },
          "execution_count": 64
        }
      ]
    },
    {
      "cell_type": "code",
      "metadata": {
        "id": "_xIHz6ce6QDT",
        "colab_type": "code",
        "outputId": "0e842ca0-787a-4fca-9a0a-39964aca93f6",
        "colab": {
          "base_uri": "https://localhost:8080/",
          "height": 141
        }
      },
      "source": [
        "data.iloc[1:4,1:3] \n",
        "# rows with indices 1,2,3\n",
        "# columns with indices 1,2"
      ],
      "execution_count": 0,
      "outputs": [
        {
          "output_type": "execute_result",
          "data": {
            "text/html": [
              "<div>\n",
              "<style scoped>\n",
              "    .dataframe tbody tr th:only-of-type {\n",
              "        vertical-align: middle;\n",
              "    }\n",
              "\n",
              "    .dataframe tbody tr th {\n",
              "        vertical-align: top;\n",
              "    }\n",
              "\n",
              "    .dataframe thead th {\n",
              "        text-align: right;\n",
              "    }\n",
              "</style>\n",
              "<table border=\"1\" class=\"dataframe\">\n",
              "  <thead>\n",
              "    <tr style=\"text-align: right;\">\n",
              "      <th></th>\n",
              "      <th>statecode</th>\n",
              "      <th>county</th>\n",
              "    </tr>\n",
              "  </thead>\n",
              "  <tbody>\n",
              "    <tr>\n",
              "      <th>1</th>\n",
              "      <td>FL</td>\n",
              "      <td>CLAY COUNTY</td>\n",
              "    </tr>\n",
              "    <tr>\n",
              "      <th>2</th>\n",
              "      <td>FL</td>\n",
              "      <td>CLAY COUNTY</td>\n",
              "    </tr>\n",
              "    <tr>\n",
              "      <th>3</th>\n",
              "      <td>FL</td>\n",
              "      <td>CLAY COUNTY</td>\n",
              "    </tr>\n",
              "  </tbody>\n",
              "</table>\n",
              "</div>"
            ],
            "text/plain": [
              "  statecode       county\n",
              "1        FL  CLAY COUNTY\n",
              "2        FL  CLAY COUNTY\n",
              "3        FL  CLAY COUNTY"
            ]
          },
          "metadata": {
            "tags": []
          },
          "execution_count": 65
        }
      ]
    },
    {
      "cell_type": "code",
      "metadata": {
        "id": "x6HRZEc-6QSA",
        "colab_type": "code",
        "outputId": "2d3817e4-ab4f-4c1a-c910-4c6a3b041f21",
        "colab": {
          "base_uri": "https://localhost:8080/",
          "height": 141
        }
      },
      "source": [
        "data.loc[1:3,\"statecode\":\"county\"]"
      ],
      "execution_count": 0,
      "outputs": [
        {
          "output_type": "execute_result",
          "data": {
            "text/html": [
              "<div>\n",
              "<style scoped>\n",
              "    .dataframe tbody tr th:only-of-type {\n",
              "        vertical-align: middle;\n",
              "    }\n",
              "\n",
              "    .dataframe tbody tr th {\n",
              "        vertical-align: top;\n",
              "    }\n",
              "\n",
              "    .dataframe thead th {\n",
              "        text-align: right;\n",
              "    }\n",
              "</style>\n",
              "<table border=\"1\" class=\"dataframe\">\n",
              "  <thead>\n",
              "    <tr style=\"text-align: right;\">\n",
              "      <th></th>\n",
              "      <th>statecode</th>\n",
              "      <th>county</th>\n",
              "    </tr>\n",
              "  </thead>\n",
              "  <tbody>\n",
              "    <tr>\n",
              "      <th>1</th>\n",
              "      <td>FL</td>\n",
              "      <td>CLAY COUNTY</td>\n",
              "    </tr>\n",
              "    <tr>\n",
              "      <th>2</th>\n",
              "      <td>FL</td>\n",
              "      <td>CLAY COUNTY</td>\n",
              "    </tr>\n",
              "    <tr>\n",
              "      <th>3</th>\n",
              "      <td>FL</td>\n",
              "      <td>CLAY COUNTY</td>\n",
              "    </tr>\n",
              "  </tbody>\n",
              "</table>\n",
              "</div>"
            ],
            "text/plain": [
              "  statecode       county\n",
              "1        FL  CLAY COUNTY\n",
              "2        FL  CLAY COUNTY\n",
              "3        FL  CLAY COUNTY"
            ]
          },
          "metadata": {
            "tags": []
          },
          "execution_count": 66
        }
      ]
    },
    {
      "cell_type": "code",
      "metadata": {
        "id": "x0ub21Mc6Qh3",
        "colab_type": "code",
        "outputId": "2ba675b7-7028-4386-ea3e-5683236b24ad",
        "colab": {
          "base_uri": "https://localhost:8080/",
          "height": 35
        }
      },
      "source": [
        "data.policyID.nunique()"
      ],
      "execution_count": 0,
      "outputs": [
        {
          "output_type": "execute_result",
          "data": {
            "text/plain": [
              "27888"
            ]
          },
          "metadata": {
            "tags": []
          },
          "execution_count": 67
        }
      ]
    },
    {
      "cell_type": "code",
      "metadata": {
        "id": "YFphWKe46Q0f",
        "colab_type": "code",
        "outputId": "c21781b4-6366-4131-fe38-5351b92926c1",
        "colab": {
          "base_uri": "https://localhost:8080/",
          "height": 622
        }
      },
      "source": [
        "data.set_index(\"policyID\")"
      ],
      "execution_count": 0,
      "outputs": [
        {
          "output_type": "execute_result",
          "data": {
            "text/html": [
              "<div>\n",
              "<style scoped>\n",
              "    .dataframe tbody tr th:only-of-type {\n",
              "        vertical-align: middle;\n",
              "    }\n",
              "\n",
              "    .dataframe tbody tr th {\n",
              "        vertical-align: top;\n",
              "    }\n",
              "\n",
              "    .dataframe thead th {\n",
              "        text-align: right;\n",
              "    }\n",
              "</style>\n",
              "<table border=\"1\" class=\"dataframe\">\n",
              "  <thead>\n",
              "    <tr style=\"text-align: right;\">\n",
              "      <th></th>\n",
              "      <th>statecode</th>\n",
              "      <th>county</th>\n",
              "      <th>eq_site_limit</th>\n",
              "      <th>hu_site_limit</th>\n",
              "      <th>fl_site_limit</th>\n",
              "      <th>fr_site_limit</th>\n",
              "      <th>tiv_2011</th>\n",
              "      <th>tiv_2012</th>\n",
              "      <th>eq_site_deductible</th>\n",
              "      <th>hu_site_deductible</th>\n",
              "      <th>fl_site_deductible</th>\n",
              "      <th>fr_site_deductible</th>\n",
              "      <th>point_latitude</th>\n",
              "      <th>point_longitude</th>\n",
              "      <th>line</th>\n",
              "      <th>construction</th>\n",
              "      <th>point_granularity</th>\n",
              "    </tr>\n",
              "    <tr>\n",
              "      <th>policyID</th>\n",
              "      <th></th>\n",
              "      <th></th>\n",
              "      <th></th>\n",
              "      <th></th>\n",
              "      <th></th>\n",
              "      <th></th>\n",
              "      <th></th>\n",
              "      <th></th>\n",
              "      <th></th>\n",
              "      <th></th>\n",
              "      <th></th>\n",
              "      <th></th>\n",
              "      <th></th>\n",
              "      <th></th>\n",
              "      <th></th>\n",
              "      <th></th>\n",
              "      <th></th>\n",
              "    </tr>\n",
              "  </thead>\n",
              "  <tbody>\n",
              "    <tr>\n",
              "      <th>119736</th>\n",
              "      <td>FL</td>\n",
              "      <td>CLAY COUNTY</td>\n",
              "      <td>498960.0</td>\n",
              "      <td>498960.00</td>\n",
              "      <td>498960.0</td>\n",
              "      <td>498960.0</td>\n",
              "      <td>498960.00</td>\n",
              "      <td>792148.90</td>\n",
              "      <td>0.0</td>\n",
              "      <td>9979.2</td>\n",
              "      <td>0.0</td>\n",
              "      <td>0.0</td>\n",
              "      <td>30.102261</td>\n",
              "      <td>-81.711777</td>\n",
              "      <td>Residential</td>\n",
              "      <td>Masonry</td>\n",
              "      <td>1.0</td>\n",
              "    </tr>\n",
              "    <tr>\n",
              "      <th>448094</th>\n",
              "      <td>FL</td>\n",
              "      <td>CLAY COUNTY</td>\n",
              "      <td>1322376.3</td>\n",
              "      <td>1322376.30</td>\n",
              "      <td>1322376.3</td>\n",
              "      <td>1322376.3</td>\n",
              "      <td>1322376.30</td>\n",
              "      <td>1438163.57</td>\n",
              "      <td>0.0</td>\n",
              "      <td>0.0</td>\n",
              "      <td>0.0</td>\n",
              "      <td>0.0</td>\n",
              "      <td>30.063936</td>\n",
              "      <td>-81.707664</td>\n",
              "      <td>Residential</td>\n",
              "      <td>Masonry</td>\n",
              "      <td>3.0</td>\n",
              "    </tr>\n",
              "    <tr>\n",
              "      <th>206893</th>\n",
              "      <td>FL</td>\n",
              "      <td>CLAY COUNTY</td>\n",
              "      <td>190724.4</td>\n",
              "      <td>190724.40</td>\n",
              "      <td>190724.4</td>\n",
              "      <td>190724.4</td>\n",
              "      <td>190724.40</td>\n",
              "      <td>192476.78</td>\n",
              "      <td>0.0</td>\n",
              "      <td>0.0</td>\n",
              "      <td>0.0</td>\n",
              "      <td>0.0</td>\n",
              "      <td>30.089579</td>\n",
              "      <td>-81.700455</td>\n",
              "      <td>Residential</td>\n",
              "      <td>Wood</td>\n",
              "      <td>1.0</td>\n",
              "    </tr>\n",
              "    <tr>\n",
              "      <th>333743</th>\n",
              "      <td>FL</td>\n",
              "      <td>CLAY COUNTY</td>\n",
              "      <td>0.0</td>\n",
              "      <td>79520.76</td>\n",
              "      <td>0.0</td>\n",
              "      <td>0.0</td>\n",
              "      <td>79520.76</td>\n",
              "      <td>86854.48</td>\n",
              "      <td>0.0</td>\n",
              "      <td>0.0</td>\n",
              "      <td>0.0</td>\n",
              "      <td>0.0</td>\n",
              "      <td>30.063236</td>\n",
              "      <td>-81.707703</td>\n",
              "      <td>Residential</td>\n",
              "      <td>Wood</td>\n",
              "      <td>3.0</td>\n",
              "    </tr>\n",
              "    <tr>\n",
              "      <th>172534</th>\n",
              "      <td>FL</td>\n",
              "      <td>CLAY COUNTY</td>\n",
              "      <td>0.0</td>\n",
              "      <td>254281.50</td>\n",
              "      <td>0.0</td>\n",
              "      <td>254281.5</td>\n",
              "      <td>254281.50</td>\n",
              "      <td>246144.49</td>\n",
              "      <td>0.0</td>\n",
              "      <td>0.0</td>\n",
              "      <td>0.0</td>\n",
              "      <td>0.0</td>\n",
              "      <td>30.060614</td>\n",
              "      <td>-81.702675</td>\n",
              "      <td>Residential</td>\n",
              "      <td>Wood</td>\n",
              "      <td>1.0</td>\n",
              "    </tr>\n",
              "    <tr>\n",
              "      <th>...</th>\n",
              "      <td>...</td>\n",
              "      <td>...</td>\n",
              "      <td>...</td>\n",
              "      <td>...</td>\n",
              "      <td>...</td>\n",
              "      <td>...</td>\n",
              "      <td>...</td>\n",
              "      <td>...</td>\n",
              "      <td>...</td>\n",
              "      <td>...</td>\n",
              "      <td>...</td>\n",
              "      <td>...</td>\n",
              "      <td>...</td>\n",
              "      <td>...</td>\n",
              "      <td>...</td>\n",
              "      <td>...</td>\n",
              "      <td>...</td>\n",
              "    </tr>\n",
              "    <tr>\n",
              "      <th>329719</th>\n",
              "      <td>FL</td>\n",
              "      <td>PINELLAS COUNTY</td>\n",
              "      <td>1708756.2</td>\n",
              "      <td>1708756.20</td>\n",
              "      <td>1708756.2</td>\n",
              "      <td>1708756.2</td>\n",
              "      <td>1708756.20</td>\n",
              "      <td>1563853.67</td>\n",
              "      <td>0.0</td>\n",
              "      <td>0.0</td>\n",
              "      <td>0.0</td>\n",
              "      <td>0.0</td>\n",
              "      <td>27.847666</td>\n",
              "      <td>-82.646973</td>\n",
              "      <td>Residential</td>\n",
              "      <td>Masonry</td>\n",
              "      <td>3.0</td>\n",
              "    </tr>\n",
              "    <tr>\n",
              "      <th>419086</th>\n",
              "      <td>FL</td>\n",
              "      <td>PINELLAS COUNTY</td>\n",
              "      <td>663886.8</td>\n",
              "      <td>663886.80</td>\n",
              "      <td>0.0</td>\n",
              "      <td>0.0</td>\n",
              "      <td>663886.80</td>\n",
              "      <td>1000729.68</td>\n",
              "      <td>0.0</td>\n",
              "      <td>0.0</td>\n",
              "      <td>0.0</td>\n",
              "      <td>0.0</td>\n",
              "      <td>27.867300</td>\n",
              "      <td>-82.623810</td>\n",
              "      <td>Residential</td>\n",
              "      <td>Masonry</td>\n",
              "      <td>1.0</td>\n",
              "    </tr>\n",
              "    <tr>\n",
              "      <th>390281</th>\n",
              "      <td>FL</td>\n",
              "      <td>PINELLAS COUNTY</td>\n",
              "      <td>110333.7</td>\n",
              "      <td>110333.70</td>\n",
              "      <td>0.0</td>\n",
              "      <td>0.0</td>\n",
              "      <td>110333.70</td>\n",
              "      <td>145728.75</td>\n",
              "      <td>0.0</td>\n",
              "      <td>0.0</td>\n",
              "      <td>0.0</td>\n",
              "      <td>0.0</td>\n",
              "      <td>27.829735</td>\n",
              "      <td>-82.614090</td>\n",
              "      <td>Residential</td>\n",
              "      <td>Wood</td>\n",
              "      <td>1.0</td>\n",
              "    </tr>\n",
              "    <tr>\n",
              "      <th>795895</th>\n",
              "      <td>FL</td>\n",
              "      <td>PINELLAS COUNTY</td>\n",
              "      <td>0.0</td>\n",
              "      <td>281411.53</td>\n",
              "      <td>0.0</td>\n",
              "      <td>0.0</td>\n",
              "      <td>281411.53</td>\n",
              "      <td>209872.21</td>\n",
              "      <td>0.0</td>\n",
              "      <td>0.0</td>\n",
              "      <td>0.0</td>\n",
              "      <td>0.0</td>\n",
              "      <td>27.838180</td>\n",
              "      <td>-82.659990</td>\n",
              "      <td>Residential</td>\n",
              "      <td>Wood</td>\n",
              "      <td>1.0</td>\n",
              "    </tr>\n",
              "    <tr>\n",
              "      <th>891450</th>\n",
              "      <td>FL</td>\n",
              "      <td>PIN</td>\n",
              "      <td>NaN</td>\n",
              "      <td>NaN</td>\n",
              "      <td>NaN</td>\n",
              "      <td>NaN</td>\n",
              "      <td>NaN</td>\n",
              "      <td>NaN</td>\n",
              "      <td>NaN</td>\n",
              "      <td>NaN</td>\n",
              "      <td>NaN</td>\n",
              "      <td>NaN</td>\n",
              "      <td>NaN</td>\n",
              "      <td>NaN</td>\n",
              "      <td>NaN</td>\n",
              "      <td>NaN</td>\n",
              "      <td>NaN</td>\n",
              "    </tr>\n",
              "  </tbody>\n",
              "</table>\n",
              "<p>27888 rows × 17 columns</p>\n",
              "</div>"
            ],
            "text/plain": [
              "         statecode           county  ...  construction  point_granularity\n",
              "policyID                             ...                                 \n",
              "119736          FL      CLAY COUNTY  ...       Masonry                1.0\n",
              "448094          FL      CLAY COUNTY  ...       Masonry                3.0\n",
              "206893          FL      CLAY COUNTY  ...          Wood                1.0\n",
              "333743          FL      CLAY COUNTY  ...          Wood                3.0\n",
              "172534          FL      CLAY COUNTY  ...          Wood                1.0\n",
              "...            ...              ...  ...           ...                ...\n",
              "329719          FL  PINELLAS COUNTY  ...       Masonry                3.0\n",
              "419086          FL  PINELLAS COUNTY  ...       Masonry                1.0\n",
              "390281          FL  PINELLAS COUNTY  ...          Wood                1.0\n",
              "795895          FL  PINELLAS COUNTY  ...          Wood                1.0\n",
              "891450          FL              PIN  ...           NaN                NaN\n",
              "\n",
              "[27888 rows x 17 columns]"
            ]
          },
          "metadata": {
            "tags": []
          },
          "execution_count": 68
        }
      ]
    },
    {
      "cell_type": "code",
      "metadata": {
        "id": "qG-YRc1-6Peh",
        "colab_type": "code",
        "outputId": "27c5da25-20f9-4707-e009-504412011434",
        "colab": {
          "base_uri": "https://localhost:8080/",
          "height": 591
        }
      },
      "source": [
        "data"
      ],
      "execution_count": 0,
      "outputs": [
        {
          "output_type": "execute_result",
          "data": {
            "text/html": [
              "<div>\n",
              "<style scoped>\n",
              "    .dataframe tbody tr th:only-of-type {\n",
              "        vertical-align: middle;\n",
              "    }\n",
              "\n",
              "    .dataframe tbody tr th {\n",
              "        vertical-align: top;\n",
              "    }\n",
              "\n",
              "    .dataframe thead th {\n",
              "        text-align: right;\n",
              "    }\n",
              "</style>\n",
              "<table border=\"1\" class=\"dataframe\">\n",
              "  <thead>\n",
              "    <tr style=\"text-align: right;\">\n",
              "      <th></th>\n",
              "      <th>policyID</th>\n",
              "      <th>statecode</th>\n",
              "      <th>county</th>\n",
              "      <th>eq_site_limit</th>\n",
              "      <th>hu_site_limit</th>\n",
              "      <th>fl_site_limit</th>\n",
              "      <th>fr_site_limit</th>\n",
              "      <th>tiv_2011</th>\n",
              "      <th>tiv_2012</th>\n",
              "      <th>eq_site_deductible</th>\n",
              "      <th>hu_site_deductible</th>\n",
              "      <th>fl_site_deductible</th>\n",
              "      <th>fr_site_deductible</th>\n",
              "      <th>point_latitude</th>\n",
              "      <th>point_longitude</th>\n",
              "      <th>line</th>\n",
              "      <th>construction</th>\n",
              "      <th>point_granularity</th>\n",
              "    </tr>\n",
              "  </thead>\n",
              "  <tbody>\n",
              "    <tr>\n",
              "      <th>0</th>\n",
              "      <td>119736</td>\n",
              "      <td>FL</td>\n",
              "      <td>CLAY COUNTY</td>\n",
              "      <td>498960.0</td>\n",
              "      <td>498960.00</td>\n",
              "      <td>498960.0</td>\n",
              "      <td>498960.0</td>\n",
              "      <td>498960.00</td>\n",
              "      <td>792148.90</td>\n",
              "      <td>0.0</td>\n",
              "      <td>9979.2</td>\n",
              "      <td>0.0</td>\n",
              "      <td>0.0</td>\n",
              "      <td>30.102261</td>\n",
              "      <td>-81.711777</td>\n",
              "      <td>Residential</td>\n",
              "      <td>Masonry</td>\n",
              "      <td>1.0</td>\n",
              "    </tr>\n",
              "    <tr>\n",
              "      <th>1</th>\n",
              "      <td>448094</td>\n",
              "      <td>FL</td>\n",
              "      <td>CLAY COUNTY</td>\n",
              "      <td>1322376.3</td>\n",
              "      <td>1322376.30</td>\n",
              "      <td>1322376.3</td>\n",
              "      <td>1322376.3</td>\n",
              "      <td>1322376.30</td>\n",
              "      <td>1438163.57</td>\n",
              "      <td>0.0</td>\n",
              "      <td>0.0</td>\n",
              "      <td>0.0</td>\n",
              "      <td>0.0</td>\n",
              "      <td>30.063936</td>\n",
              "      <td>-81.707664</td>\n",
              "      <td>Residential</td>\n",
              "      <td>Masonry</td>\n",
              "      <td>3.0</td>\n",
              "    </tr>\n",
              "    <tr>\n",
              "      <th>2</th>\n",
              "      <td>206893</td>\n",
              "      <td>FL</td>\n",
              "      <td>CLAY COUNTY</td>\n",
              "      <td>190724.4</td>\n",
              "      <td>190724.40</td>\n",
              "      <td>190724.4</td>\n",
              "      <td>190724.4</td>\n",
              "      <td>190724.40</td>\n",
              "      <td>192476.78</td>\n",
              "      <td>0.0</td>\n",
              "      <td>0.0</td>\n",
              "      <td>0.0</td>\n",
              "      <td>0.0</td>\n",
              "      <td>30.089579</td>\n",
              "      <td>-81.700455</td>\n",
              "      <td>Residential</td>\n",
              "      <td>Wood</td>\n",
              "      <td>1.0</td>\n",
              "    </tr>\n",
              "    <tr>\n",
              "      <th>3</th>\n",
              "      <td>333743</td>\n",
              "      <td>FL</td>\n",
              "      <td>CLAY COUNTY</td>\n",
              "      <td>0.0</td>\n",
              "      <td>79520.76</td>\n",
              "      <td>0.0</td>\n",
              "      <td>0.0</td>\n",
              "      <td>79520.76</td>\n",
              "      <td>86854.48</td>\n",
              "      <td>0.0</td>\n",
              "      <td>0.0</td>\n",
              "      <td>0.0</td>\n",
              "      <td>0.0</td>\n",
              "      <td>30.063236</td>\n",
              "      <td>-81.707703</td>\n",
              "      <td>Residential</td>\n",
              "      <td>Wood</td>\n",
              "      <td>3.0</td>\n",
              "    </tr>\n",
              "    <tr>\n",
              "      <th>4</th>\n",
              "      <td>172534</td>\n",
              "      <td>FL</td>\n",
              "      <td>CLAY COUNTY</td>\n",
              "      <td>0.0</td>\n",
              "      <td>254281.50</td>\n",
              "      <td>0.0</td>\n",
              "      <td>254281.5</td>\n",
              "      <td>254281.50</td>\n",
              "      <td>246144.49</td>\n",
              "      <td>0.0</td>\n",
              "      <td>0.0</td>\n",
              "      <td>0.0</td>\n",
              "      <td>0.0</td>\n",
              "      <td>30.060614</td>\n",
              "      <td>-81.702675</td>\n",
              "      <td>Residential</td>\n",
              "      <td>Wood</td>\n",
              "      <td>1.0</td>\n",
              "    </tr>\n",
              "    <tr>\n",
              "      <th>...</th>\n",
              "      <td>...</td>\n",
              "      <td>...</td>\n",
              "      <td>...</td>\n",
              "      <td>...</td>\n",
              "      <td>...</td>\n",
              "      <td>...</td>\n",
              "      <td>...</td>\n",
              "      <td>...</td>\n",
              "      <td>...</td>\n",
              "      <td>...</td>\n",
              "      <td>...</td>\n",
              "      <td>...</td>\n",
              "      <td>...</td>\n",
              "      <td>...</td>\n",
              "      <td>...</td>\n",
              "      <td>...</td>\n",
              "      <td>...</td>\n",
              "      <td>...</td>\n",
              "    </tr>\n",
              "    <tr>\n",
              "      <th>27883</th>\n",
              "      <td>329719</td>\n",
              "      <td>FL</td>\n",
              "      <td>PINELLAS COUNTY</td>\n",
              "      <td>1708756.2</td>\n",
              "      <td>1708756.20</td>\n",
              "      <td>1708756.2</td>\n",
              "      <td>1708756.2</td>\n",
              "      <td>1708756.20</td>\n",
              "      <td>1563853.67</td>\n",
              "      <td>0.0</td>\n",
              "      <td>0.0</td>\n",
              "      <td>0.0</td>\n",
              "      <td>0.0</td>\n",
              "      <td>27.847666</td>\n",
              "      <td>-82.646973</td>\n",
              "      <td>Residential</td>\n",
              "      <td>Masonry</td>\n",
              "      <td>3.0</td>\n",
              "    </tr>\n",
              "    <tr>\n",
              "      <th>27884</th>\n",
              "      <td>419086</td>\n",
              "      <td>FL</td>\n",
              "      <td>PINELLAS COUNTY</td>\n",
              "      <td>663886.8</td>\n",
              "      <td>663886.80</td>\n",
              "      <td>0.0</td>\n",
              "      <td>0.0</td>\n",
              "      <td>663886.80</td>\n",
              "      <td>1000729.68</td>\n",
              "      <td>0.0</td>\n",
              "      <td>0.0</td>\n",
              "      <td>0.0</td>\n",
              "      <td>0.0</td>\n",
              "      <td>27.867300</td>\n",
              "      <td>-82.623810</td>\n",
              "      <td>Residential</td>\n",
              "      <td>Masonry</td>\n",
              "      <td>1.0</td>\n",
              "    </tr>\n",
              "    <tr>\n",
              "      <th>27885</th>\n",
              "      <td>390281</td>\n",
              "      <td>FL</td>\n",
              "      <td>PINELLAS COUNTY</td>\n",
              "      <td>110333.7</td>\n",
              "      <td>110333.70</td>\n",
              "      <td>0.0</td>\n",
              "      <td>0.0</td>\n",
              "      <td>110333.70</td>\n",
              "      <td>145728.75</td>\n",
              "      <td>0.0</td>\n",
              "      <td>0.0</td>\n",
              "      <td>0.0</td>\n",
              "      <td>0.0</td>\n",
              "      <td>27.829735</td>\n",
              "      <td>-82.614090</td>\n",
              "      <td>Residential</td>\n",
              "      <td>Wood</td>\n",
              "      <td>1.0</td>\n",
              "    </tr>\n",
              "    <tr>\n",
              "      <th>27886</th>\n",
              "      <td>795895</td>\n",
              "      <td>FL</td>\n",
              "      <td>PINELLAS COUNTY</td>\n",
              "      <td>0.0</td>\n",
              "      <td>281411.53</td>\n",
              "      <td>0.0</td>\n",
              "      <td>0.0</td>\n",
              "      <td>281411.53</td>\n",
              "      <td>209872.21</td>\n",
              "      <td>0.0</td>\n",
              "      <td>0.0</td>\n",
              "      <td>0.0</td>\n",
              "      <td>0.0</td>\n",
              "      <td>27.838180</td>\n",
              "      <td>-82.659990</td>\n",
              "      <td>Residential</td>\n",
              "      <td>Wood</td>\n",
              "      <td>1.0</td>\n",
              "    </tr>\n",
              "    <tr>\n",
              "      <th>27887</th>\n",
              "      <td>891450</td>\n",
              "      <td>FL</td>\n",
              "      <td>PIN</td>\n",
              "      <td>NaN</td>\n",
              "      <td>NaN</td>\n",
              "      <td>NaN</td>\n",
              "      <td>NaN</td>\n",
              "      <td>NaN</td>\n",
              "      <td>NaN</td>\n",
              "      <td>NaN</td>\n",
              "      <td>NaN</td>\n",
              "      <td>NaN</td>\n",
              "      <td>NaN</td>\n",
              "      <td>NaN</td>\n",
              "      <td>NaN</td>\n",
              "      <td>NaN</td>\n",
              "      <td>NaN</td>\n",
              "      <td>NaN</td>\n",
              "    </tr>\n",
              "  </tbody>\n",
              "</table>\n",
              "<p>27888 rows × 18 columns</p>\n",
              "</div>"
            ],
            "text/plain": [
              "       policyID statecode  ... construction  point_granularity\n",
              "0        119736        FL  ...      Masonry                1.0\n",
              "1        448094        FL  ...      Masonry                3.0\n",
              "2        206893        FL  ...         Wood                1.0\n",
              "3        333743        FL  ...         Wood                3.0\n",
              "4        172534        FL  ...         Wood                1.0\n",
              "...         ...       ...  ...          ...                ...\n",
              "27883    329719        FL  ...      Masonry                3.0\n",
              "27884    419086        FL  ...      Masonry                1.0\n",
              "27885    390281        FL  ...         Wood                1.0\n",
              "27886    795895        FL  ...         Wood                1.0\n",
              "27887    891450        FL  ...          NaN                NaN\n",
              "\n",
              "[27888 rows x 18 columns]"
            ]
          },
          "metadata": {
            "tags": []
          },
          "execution_count": 69
        }
      ]
    },
    {
      "cell_type": "code",
      "metadata": {
        "id": "4H2uwAu56PcJ",
        "colab_type": "code",
        "outputId": "45531eac-1d71-4f91-d0d0-3e704fb715b7",
        "colab": {
          "base_uri": "https://localhost:8080/",
          "height": 339
        }
      },
      "source": [
        "df = data.set_index(\"policyID\")\n",
        "df.head()"
      ],
      "execution_count": 0,
      "outputs": [
        {
          "output_type": "execute_result",
          "data": {
            "text/html": [
              "<div>\n",
              "<style scoped>\n",
              "    .dataframe tbody tr th:only-of-type {\n",
              "        vertical-align: middle;\n",
              "    }\n",
              "\n",
              "    .dataframe tbody tr th {\n",
              "        vertical-align: top;\n",
              "    }\n",
              "\n",
              "    .dataframe thead th {\n",
              "        text-align: right;\n",
              "    }\n",
              "</style>\n",
              "<table border=\"1\" class=\"dataframe\">\n",
              "  <thead>\n",
              "    <tr style=\"text-align: right;\">\n",
              "      <th></th>\n",
              "      <th>statecode</th>\n",
              "      <th>county</th>\n",
              "      <th>eq_site_limit</th>\n",
              "      <th>hu_site_limit</th>\n",
              "      <th>fl_site_limit</th>\n",
              "      <th>fr_site_limit</th>\n",
              "      <th>tiv_2011</th>\n",
              "      <th>tiv_2012</th>\n",
              "      <th>eq_site_deductible</th>\n",
              "      <th>hu_site_deductible</th>\n",
              "      <th>fl_site_deductible</th>\n",
              "      <th>fr_site_deductible</th>\n",
              "      <th>point_latitude</th>\n",
              "      <th>point_longitude</th>\n",
              "      <th>line</th>\n",
              "      <th>construction</th>\n",
              "      <th>point_granularity</th>\n",
              "    </tr>\n",
              "    <tr>\n",
              "      <th>policyID</th>\n",
              "      <th></th>\n",
              "      <th></th>\n",
              "      <th></th>\n",
              "      <th></th>\n",
              "      <th></th>\n",
              "      <th></th>\n",
              "      <th></th>\n",
              "      <th></th>\n",
              "      <th></th>\n",
              "      <th></th>\n",
              "      <th></th>\n",
              "      <th></th>\n",
              "      <th></th>\n",
              "      <th></th>\n",
              "      <th></th>\n",
              "      <th></th>\n",
              "      <th></th>\n",
              "    </tr>\n",
              "  </thead>\n",
              "  <tbody>\n",
              "    <tr>\n",
              "      <th>119736</th>\n",
              "      <td>FL</td>\n",
              "      <td>CLAY COUNTY</td>\n",
              "      <td>498960.0</td>\n",
              "      <td>498960.00</td>\n",
              "      <td>498960.0</td>\n",
              "      <td>498960.0</td>\n",
              "      <td>498960.00</td>\n",
              "      <td>792148.90</td>\n",
              "      <td>0.0</td>\n",
              "      <td>9979.2</td>\n",
              "      <td>0.0</td>\n",
              "      <td>0.0</td>\n",
              "      <td>30.102261</td>\n",
              "      <td>-81.711777</td>\n",
              "      <td>Residential</td>\n",
              "      <td>Masonry</td>\n",
              "      <td>1.0</td>\n",
              "    </tr>\n",
              "    <tr>\n",
              "      <th>448094</th>\n",
              "      <td>FL</td>\n",
              "      <td>CLAY COUNTY</td>\n",
              "      <td>1322376.3</td>\n",
              "      <td>1322376.30</td>\n",
              "      <td>1322376.3</td>\n",
              "      <td>1322376.3</td>\n",
              "      <td>1322376.30</td>\n",
              "      <td>1438163.57</td>\n",
              "      <td>0.0</td>\n",
              "      <td>0.0</td>\n",
              "      <td>0.0</td>\n",
              "      <td>0.0</td>\n",
              "      <td>30.063936</td>\n",
              "      <td>-81.707664</td>\n",
              "      <td>Residential</td>\n",
              "      <td>Masonry</td>\n",
              "      <td>3.0</td>\n",
              "    </tr>\n",
              "    <tr>\n",
              "      <th>206893</th>\n",
              "      <td>FL</td>\n",
              "      <td>CLAY COUNTY</td>\n",
              "      <td>190724.4</td>\n",
              "      <td>190724.40</td>\n",
              "      <td>190724.4</td>\n",
              "      <td>190724.4</td>\n",
              "      <td>190724.40</td>\n",
              "      <td>192476.78</td>\n",
              "      <td>0.0</td>\n",
              "      <td>0.0</td>\n",
              "      <td>0.0</td>\n",
              "      <td>0.0</td>\n",
              "      <td>30.089579</td>\n",
              "      <td>-81.700455</td>\n",
              "      <td>Residential</td>\n",
              "      <td>Wood</td>\n",
              "      <td>1.0</td>\n",
              "    </tr>\n",
              "    <tr>\n",
              "      <th>333743</th>\n",
              "      <td>FL</td>\n",
              "      <td>CLAY COUNTY</td>\n",
              "      <td>0.0</td>\n",
              "      <td>79520.76</td>\n",
              "      <td>0.0</td>\n",
              "      <td>0.0</td>\n",
              "      <td>79520.76</td>\n",
              "      <td>86854.48</td>\n",
              "      <td>0.0</td>\n",
              "      <td>0.0</td>\n",
              "      <td>0.0</td>\n",
              "      <td>0.0</td>\n",
              "      <td>30.063236</td>\n",
              "      <td>-81.707703</td>\n",
              "      <td>Residential</td>\n",
              "      <td>Wood</td>\n",
              "      <td>3.0</td>\n",
              "    </tr>\n",
              "    <tr>\n",
              "      <th>172534</th>\n",
              "      <td>FL</td>\n",
              "      <td>CLAY COUNTY</td>\n",
              "      <td>0.0</td>\n",
              "      <td>254281.50</td>\n",
              "      <td>0.0</td>\n",
              "      <td>254281.5</td>\n",
              "      <td>254281.50</td>\n",
              "      <td>246144.49</td>\n",
              "      <td>0.0</td>\n",
              "      <td>0.0</td>\n",
              "      <td>0.0</td>\n",
              "      <td>0.0</td>\n",
              "      <td>30.060614</td>\n",
              "      <td>-81.702675</td>\n",
              "      <td>Residential</td>\n",
              "      <td>Wood</td>\n",
              "      <td>1.0</td>\n",
              "    </tr>\n",
              "  </tbody>\n",
              "</table>\n",
              "</div>"
            ],
            "text/plain": [
              "         statecode       county  ...  construction  point_granularity\n",
              "policyID                         ...                                 \n",
              "119736          FL  CLAY COUNTY  ...       Masonry                1.0\n",
              "448094          FL  CLAY COUNTY  ...       Masonry                3.0\n",
              "206893          FL  CLAY COUNTY  ...          Wood                1.0\n",
              "333743          FL  CLAY COUNTY  ...          Wood                3.0\n",
              "172534          FL  CLAY COUNTY  ...          Wood                1.0\n",
              "\n",
              "[5 rows x 17 columns]"
            ]
          },
          "metadata": {
            "tags": []
          },
          "execution_count": 70
        }
      ]
    },
    {
      "cell_type": "code",
      "metadata": {
        "id": "uGHaRBKkBqmb",
        "colab_type": "code",
        "outputId": "792ad1ae-3c55-4876-ab7e-b84baa39c9b4",
        "colab": {
          "base_uri": "https://localhost:8080/",
          "height": 121
        }
      },
      "source": [
        "df.index"
      ],
      "execution_count": 0,
      "outputs": [
        {
          "output_type": "execute_result",
          "data": {
            "text/plain": [
              "Int64Index([119736, 448094, 206893, 333743, 172534, 785275, 995932, 223488,\n",
              "            433512, 142071,\n",
              "            ...\n",
              "            902096, 291536, 213120, 363687, 366207, 329719, 419086, 390281,\n",
              "            795895, 891450],\n",
              "           dtype='int64', name='policyID', length=27888)"
            ]
          },
          "metadata": {
            "tags": []
          },
          "execution_count": 71
        }
      ]
    },
    {
      "cell_type": "markdown",
      "metadata": {
        "id": "ZAKO33D2BzG8",
        "colab_type": "text"
      },
      "source": [
        "- Slicing, subsetting, Boolean Indexing with df\n",
        "\n",
        "- postion based (iloc)\n",
        "  - rows --> 0 to 36633\n",
        "  - columns --> 0 to 17\n",
        "- label based indexing(loc)\n",
        "- rows --> [119736, 448094, 206893, 333743, 172534, 785275, 995932, 223488,\n",
        "  433512, 142071,...]\n",
        "- columns --> ['policyID', 'statecode', 'county', 'eq_site_limit', 'hu_site_limit', 'fl_site_limit', 'fr_site_limit', 'tiv_2011', 'tiv_2012', 'eq_site_deductible', 'hu_site_deductible', 'fl_site_deductible', 'fr_site_deductible', 'point_latitude', 'point_longitude', 'line', 'construction', 'point_granularity']"
      ]
    },
    {
      "cell_type": "code",
      "metadata": {
        "id": "OwVKC0DPBrYG",
        "colab_type": "code",
        "colab": {}
      },
      "source": [
        "# row with index 1 and all the columns"
      ],
      "execution_count": 0,
      "outputs": []
    },
    {
      "cell_type": "code",
      "metadata": {
        "id": "ExRB1o70Brwr",
        "colab_type": "code",
        "outputId": "76e2ba43-dd89-4e9d-a384-4a92b8d47794",
        "colab": {
          "base_uri": "https://localhost:8080/",
          "height": 329
        }
      },
      "source": [
        "df.iloc[1,:]"
      ],
      "execution_count": 0,
      "outputs": [
        {
          "output_type": "execute_result",
          "data": {
            "text/plain": [
              "statecode                      FL\n",
              "county                CLAY COUNTY\n",
              "eq_site_limit         1.32238e+06\n",
              "hu_site_limit         1.32238e+06\n",
              "fl_site_limit         1.32238e+06\n",
              "fr_site_limit         1.32238e+06\n",
              "tiv_2011              1.32238e+06\n",
              "tiv_2012              1.43816e+06\n",
              "eq_site_deductible              0\n",
              "hu_site_deductible              0\n",
              "fl_site_deductible              0\n",
              "fr_site_deductible              0\n",
              "point_latitude            30.0639\n",
              "point_longitude          -81.7077\n",
              "line                  Residential\n",
              "construction              Masonry\n",
              "point_granularity               3\n",
              "Name: 448094, dtype: object"
            ]
          },
          "metadata": {
            "tags": []
          },
          "execution_count": 73
        }
      ]
    },
    {
      "cell_type": "code",
      "metadata": {
        "id": "DfTNrakJBsA8",
        "colab_type": "code",
        "outputId": "f9c8fc38-7b78-477e-da39-86d86e16a970",
        "colab": {
          "base_uri": "https://localhost:8080/",
          "height": 329
        }
      },
      "source": [
        "df.loc[448094,:]"
      ],
      "execution_count": 0,
      "outputs": [
        {
          "output_type": "execute_result",
          "data": {
            "text/plain": [
              "statecode                      FL\n",
              "county                CLAY COUNTY\n",
              "eq_site_limit         1.32238e+06\n",
              "hu_site_limit         1.32238e+06\n",
              "fl_site_limit         1.32238e+06\n",
              "fr_site_limit         1.32238e+06\n",
              "tiv_2011              1.32238e+06\n",
              "tiv_2012              1.43816e+06\n",
              "eq_site_deductible              0\n",
              "hu_site_deductible              0\n",
              "fl_site_deductible              0\n",
              "fr_site_deductible              0\n",
              "point_latitude            30.0639\n",
              "point_longitude          -81.7077\n",
              "line                  Residential\n",
              "construction              Masonry\n",
              "point_granularity               3\n",
              "Name: 448094, dtype: object"
            ]
          },
          "metadata": {
            "tags": []
          },
          "execution_count": 74
        }
      ]
    },
    {
      "cell_type": "code",
      "metadata": {
        "id": "ObHq6tUFBr-U",
        "colab_type": "code",
        "colab": {}
      },
      "source": [
        "# row with index 1and column with index 1"
      ],
      "execution_count": 0,
      "outputs": []
    },
    {
      "cell_type": "code",
      "metadata": {
        "id": "TjhxWy7qBruI",
        "colab_type": "code",
        "outputId": "6363dcb6-e62f-48d3-a622-cd468e573d95",
        "colab": {
          "base_uri": "https://localhost:8080/",
          "height": 35
        }
      },
      "source": [
        "df.iloc[1,1]"
      ],
      "execution_count": 0,
      "outputs": [
        {
          "output_type": "execute_result",
          "data": {
            "text/plain": [
              "'CLAY COUNTY'"
            ]
          },
          "metadata": {
            "tags": []
          },
          "execution_count": 75
        }
      ]
    },
    {
      "cell_type": "code",
      "metadata": {
        "id": "tjxjsk9tBrVF",
        "colab_type": "code",
        "outputId": "9623ffb5-277e-45cb-ddc4-a9a8d02bb7dc",
        "colab": {
          "base_uri": "https://localhost:8080/",
          "height": 35
        }
      },
      "source": [
        "df.loc[448094,\"county\"]"
      ],
      "execution_count": 0,
      "outputs": [
        {
          "output_type": "execute_result",
          "data": {
            "text/plain": [
              "'CLAY COUNTY'"
            ]
          },
          "metadata": {
            "tags": []
          },
          "execution_count": 76
        }
      ]
    },
    {
      "cell_type": "code",
      "metadata": {
        "id": "nrJ8FTMVBrQY",
        "colab_type": "code",
        "colab": {}
      },
      "source": [
        "# row with index 1 and columns with index 1,2"
      ],
      "execution_count": 0,
      "outputs": []
    },
    {
      "cell_type": "code",
      "metadata": {
        "id": "YOJ7G8IcC6tn",
        "colab_type": "code",
        "outputId": "946f7ca7-f34e-414f-a510-777a0d6841f1",
        "colab": {
          "base_uri": "https://localhost:8080/",
          "height": 69
        }
      },
      "source": [
        "df.iloc[1,1:3]"
      ],
      "execution_count": 0,
      "outputs": [
        {
          "output_type": "execute_result",
          "data": {
            "text/plain": [
              "county           CLAY COUNTY\n",
              "eq_site_limit    1.32238e+06\n",
              "Name: 448094, dtype: object"
            ]
          },
          "metadata": {
            "tags": []
          },
          "execution_count": 77
        }
      ]
    },
    {
      "cell_type": "code",
      "metadata": {
        "id": "-VPGpMj1C7Mr",
        "colab_type": "code",
        "outputId": "fb4d4fbb-3e02-4e7d-804f-9b10d5885f36",
        "colab": {
          "base_uri": "https://localhost:8080/",
          "height": 69
        }
      },
      "source": [
        "df.loc[ 448094,\"county\":\"eq_site_limit\"]"
      ],
      "execution_count": 0,
      "outputs": [
        {
          "output_type": "execute_result",
          "data": {
            "text/plain": [
              "county           CLAY COUNTY\n",
              "eq_site_limit    1.32238e+06\n",
              "Name: 448094, dtype: object"
            ]
          },
          "metadata": {
            "tags": []
          },
          "execution_count": 78
        }
      ]
    },
    {
      "cell_type": "code",
      "metadata": {
        "id": "X7UyjgAyC7J9",
        "colab_type": "code",
        "colab": {}
      },
      "source": [
        "# rows with indices 1,2,3\n",
        "# columns with indices 1,2"
      ],
      "execution_count": 0,
      "outputs": []
    },
    {
      "cell_type": "code",
      "metadata": {
        "id": "4HcLshtnC7HR",
        "colab_type": "code",
        "outputId": "f73c1d5e-742e-4e5d-b2c9-cfd260e37574",
        "colab": {
          "base_uri": "https://localhost:8080/",
          "height": 243
        }
      },
      "source": [
        "df.iloc[1:4,:]"
      ],
      "execution_count": 0,
      "outputs": [
        {
          "output_type": "execute_result",
          "data": {
            "text/html": [
              "<div>\n",
              "<style scoped>\n",
              "    .dataframe tbody tr th:only-of-type {\n",
              "        vertical-align: middle;\n",
              "    }\n",
              "\n",
              "    .dataframe tbody tr th {\n",
              "        vertical-align: top;\n",
              "    }\n",
              "\n",
              "    .dataframe thead th {\n",
              "        text-align: right;\n",
              "    }\n",
              "</style>\n",
              "<table border=\"1\" class=\"dataframe\">\n",
              "  <thead>\n",
              "    <tr style=\"text-align: right;\">\n",
              "      <th></th>\n",
              "      <th>statecode</th>\n",
              "      <th>county</th>\n",
              "      <th>eq_site_limit</th>\n",
              "      <th>hu_site_limit</th>\n",
              "      <th>fl_site_limit</th>\n",
              "      <th>fr_site_limit</th>\n",
              "      <th>tiv_2011</th>\n",
              "      <th>tiv_2012</th>\n",
              "      <th>eq_site_deductible</th>\n",
              "      <th>hu_site_deductible</th>\n",
              "      <th>fl_site_deductible</th>\n",
              "      <th>fr_site_deductible</th>\n",
              "      <th>point_latitude</th>\n",
              "      <th>point_longitude</th>\n",
              "      <th>line</th>\n",
              "      <th>construction</th>\n",
              "      <th>point_granularity</th>\n",
              "    </tr>\n",
              "    <tr>\n",
              "      <th>policyID</th>\n",
              "      <th></th>\n",
              "      <th></th>\n",
              "      <th></th>\n",
              "      <th></th>\n",
              "      <th></th>\n",
              "      <th></th>\n",
              "      <th></th>\n",
              "      <th></th>\n",
              "      <th></th>\n",
              "      <th></th>\n",
              "      <th></th>\n",
              "      <th></th>\n",
              "      <th></th>\n",
              "      <th></th>\n",
              "      <th></th>\n",
              "      <th></th>\n",
              "      <th></th>\n",
              "    </tr>\n",
              "  </thead>\n",
              "  <tbody>\n",
              "    <tr>\n",
              "      <th>448094</th>\n",
              "      <td>FL</td>\n",
              "      <td>CLAY COUNTY</td>\n",
              "      <td>1322376.3</td>\n",
              "      <td>1322376.30</td>\n",
              "      <td>1322376.3</td>\n",
              "      <td>1322376.3</td>\n",
              "      <td>1322376.30</td>\n",
              "      <td>1438163.57</td>\n",
              "      <td>0.0</td>\n",
              "      <td>0.0</td>\n",
              "      <td>0.0</td>\n",
              "      <td>0.0</td>\n",
              "      <td>30.063936</td>\n",
              "      <td>-81.707664</td>\n",
              "      <td>Residential</td>\n",
              "      <td>Masonry</td>\n",
              "      <td>3.0</td>\n",
              "    </tr>\n",
              "    <tr>\n",
              "      <th>206893</th>\n",
              "      <td>FL</td>\n",
              "      <td>CLAY COUNTY</td>\n",
              "      <td>190724.4</td>\n",
              "      <td>190724.40</td>\n",
              "      <td>190724.4</td>\n",
              "      <td>190724.4</td>\n",
              "      <td>190724.40</td>\n",
              "      <td>192476.78</td>\n",
              "      <td>0.0</td>\n",
              "      <td>0.0</td>\n",
              "      <td>0.0</td>\n",
              "      <td>0.0</td>\n",
              "      <td>30.089579</td>\n",
              "      <td>-81.700455</td>\n",
              "      <td>Residential</td>\n",
              "      <td>Wood</td>\n",
              "      <td>1.0</td>\n",
              "    </tr>\n",
              "    <tr>\n",
              "      <th>333743</th>\n",
              "      <td>FL</td>\n",
              "      <td>CLAY COUNTY</td>\n",
              "      <td>0.0</td>\n",
              "      <td>79520.76</td>\n",
              "      <td>0.0</td>\n",
              "      <td>0.0</td>\n",
              "      <td>79520.76</td>\n",
              "      <td>86854.48</td>\n",
              "      <td>0.0</td>\n",
              "      <td>0.0</td>\n",
              "      <td>0.0</td>\n",
              "      <td>0.0</td>\n",
              "      <td>30.063236</td>\n",
              "      <td>-81.707703</td>\n",
              "      <td>Residential</td>\n",
              "      <td>Wood</td>\n",
              "      <td>3.0</td>\n",
              "    </tr>\n",
              "  </tbody>\n",
              "</table>\n",
              "</div>"
            ],
            "text/plain": [
              "         statecode       county  ...  construction  point_granularity\n",
              "policyID                         ...                                 \n",
              "448094          FL  CLAY COUNTY  ...       Masonry                3.0\n",
              "206893          FL  CLAY COUNTY  ...          Wood                1.0\n",
              "333743          FL  CLAY COUNTY  ...          Wood                3.0\n",
              "\n",
              "[3 rows x 17 columns]"
            ]
          },
          "metadata": {
            "tags": []
          },
          "execution_count": 79
        }
      ]
    },
    {
      "cell_type": "code",
      "metadata": {
        "id": "05moDOaeC7Ej",
        "colab_type": "code",
        "outputId": "372e9f6d-7e00-4e2c-f696-d6c1933c2c8a",
        "colab": {
          "base_uri": "https://localhost:8080/",
          "height": 243
        }
      },
      "source": [
        "df.loc[448094:333743,:]"
      ],
      "execution_count": 0,
      "outputs": [
        {
          "output_type": "execute_result",
          "data": {
            "text/html": [
              "<div>\n",
              "<style scoped>\n",
              "    .dataframe tbody tr th:only-of-type {\n",
              "        vertical-align: middle;\n",
              "    }\n",
              "\n",
              "    .dataframe tbody tr th {\n",
              "        vertical-align: top;\n",
              "    }\n",
              "\n",
              "    .dataframe thead th {\n",
              "        text-align: right;\n",
              "    }\n",
              "</style>\n",
              "<table border=\"1\" class=\"dataframe\">\n",
              "  <thead>\n",
              "    <tr style=\"text-align: right;\">\n",
              "      <th></th>\n",
              "      <th>statecode</th>\n",
              "      <th>county</th>\n",
              "      <th>eq_site_limit</th>\n",
              "      <th>hu_site_limit</th>\n",
              "      <th>fl_site_limit</th>\n",
              "      <th>fr_site_limit</th>\n",
              "      <th>tiv_2011</th>\n",
              "      <th>tiv_2012</th>\n",
              "      <th>eq_site_deductible</th>\n",
              "      <th>hu_site_deductible</th>\n",
              "      <th>fl_site_deductible</th>\n",
              "      <th>fr_site_deductible</th>\n",
              "      <th>point_latitude</th>\n",
              "      <th>point_longitude</th>\n",
              "      <th>line</th>\n",
              "      <th>construction</th>\n",
              "      <th>point_granularity</th>\n",
              "    </tr>\n",
              "    <tr>\n",
              "      <th>policyID</th>\n",
              "      <th></th>\n",
              "      <th></th>\n",
              "      <th></th>\n",
              "      <th></th>\n",
              "      <th></th>\n",
              "      <th></th>\n",
              "      <th></th>\n",
              "      <th></th>\n",
              "      <th></th>\n",
              "      <th></th>\n",
              "      <th></th>\n",
              "      <th></th>\n",
              "      <th></th>\n",
              "      <th></th>\n",
              "      <th></th>\n",
              "      <th></th>\n",
              "      <th></th>\n",
              "    </tr>\n",
              "  </thead>\n",
              "  <tbody>\n",
              "    <tr>\n",
              "      <th>448094</th>\n",
              "      <td>FL</td>\n",
              "      <td>CLAY COUNTY</td>\n",
              "      <td>1322376.3</td>\n",
              "      <td>1322376.30</td>\n",
              "      <td>1322376.3</td>\n",
              "      <td>1322376.3</td>\n",
              "      <td>1322376.30</td>\n",
              "      <td>1438163.57</td>\n",
              "      <td>0.0</td>\n",
              "      <td>0.0</td>\n",
              "      <td>0.0</td>\n",
              "      <td>0.0</td>\n",
              "      <td>30.063936</td>\n",
              "      <td>-81.707664</td>\n",
              "      <td>Residential</td>\n",
              "      <td>Masonry</td>\n",
              "      <td>3.0</td>\n",
              "    </tr>\n",
              "    <tr>\n",
              "      <th>206893</th>\n",
              "      <td>FL</td>\n",
              "      <td>CLAY COUNTY</td>\n",
              "      <td>190724.4</td>\n",
              "      <td>190724.40</td>\n",
              "      <td>190724.4</td>\n",
              "      <td>190724.4</td>\n",
              "      <td>190724.40</td>\n",
              "      <td>192476.78</td>\n",
              "      <td>0.0</td>\n",
              "      <td>0.0</td>\n",
              "      <td>0.0</td>\n",
              "      <td>0.0</td>\n",
              "      <td>30.089579</td>\n",
              "      <td>-81.700455</td>\n",
              "      <td>Residential</td>\n",
              "      <td>Wood</td>\n",
              "      <td>1.0</td>\n",
              "    </tr>\n",
              "    <tr>\n",
              "      <th>333743</th>\n",
              "      <td>FL</td>\n",
              "      <td>CLAY COUNTY</td>\n",
              "      <td>0.0</td>\n",
              "      <td>79520.76</td>\n",
              "      <td>0.0</td>\n",
              "      <td>0.0</td>\n",
              "      <td>79520.76</td>\n",
              "      <td>86854.48</td>\n",
              "      <td>0.0</td>\n",
              "      <td>0.0</td>\n",
              "      <td>0.0</td>\n",
              "      <td>0.0</td>\n",
              "      <td>30.063236</td>\n",
              "      <td>-81.707703</td>\n",
              "      <td>Residential</td>\n",
              "      <td>Wood</td>\n",
              "      <td>3.0</td>\n",
              "    </tr>\n",
              "  </tbody>\n",
              "</table>\n",
              "</div>"
            ],
            "text/plain": [
              "         statecode       county  ...  construction  point_granularity\n",
              "policyID                         ...                                 \n",
              "448094          FL  CLAY COUNTY  ...       Masonry                3.0\n",
              "206893          FL  CLAY COUNTY  ...          Wood                1.0\n",
              "333743          FL  CLAY COUNTY  ...          Wood                3.0\n",
              "\n",
              "[3 rows x 17 columns]"
            ]
          },
          "metadata": {
            "tags": []
          },
          "execution_count": 80
        }
      ]
    },
    {
      "cell_type": "markdown",
      "metadata": {
        "id": "SK3Kg3q9DhTg",
        "colab_type": "text"
      },
      "source": [
        "**Boolean Indexing**"
      ]
    },
    {
      "cell_type": "code",
      "metadata": {
        "id": "ZDF39Ra5C7Bp",
        "colab_type": "code",
        "outputId": "95f99894-f64d-42de-95db-b82d89a40bb2",
        "colab": {
          "base_uri": "https://localhost:8080/",
          "height": 329
        }
      },
      "source": [
        "df.dtypes"
      ],
      "execution_count": 0,
      "outputs": [
        {
          "output_type": "execute_result",
          "data": {
            "text/plain": [
              "statecode              object\n",
              "county                 object\n",
              "eq_site_limit         float64\n",
              "hu_site_limit         float64\n",
              "fl_site_limit         float64\n",
              "fr_site_limit         float64\n",
              "tiv_2011              float64\n",
              "tiv_2012              float64\n",
              "eq_site_deductible    float64\n",
              "hu_site_deductible    float64\n",
              "fl_site_deductible    float64\n",
              "fr_site_deductible    float64\n",
              "point_latitude        float64\n",
              "point_longitude       float64\n",
              "line                   object\n",
              "construction           object\n",
              "point_granularity     float64\n",
              "dtype: object"
            ]
          },
          "metadata": {
            "tags": []
          },
          "execution_count": 81
        }
      ]
    },
    {
      "cell_type": "code",
      "metadata": {
        "id": "ysneYM60C6-V",
        "colab_type": "code",
        "outputId": "101bb9c1-f1d2-4ae9-d881-dcf9e91ce61f",
        "colab": {
          "base_uri": "https://localhost:8080/",
          "height": 329
        }
      },
      "source": [
        "df.dtypes == object"
      ],
      "execution_count": 0,
      "outputs": [
        {
          "output_type": "execute_result",
          "data": {
            "text/plain": [
              "statecode              True\n",
              "county                 True\n",
              "eq_site_limit         False\n",
              "hu_site_limit         False\n",
              "fl_site_limit         False\n",
              "fr_site_limit         False\n",
              "tiv_2011              False\n",
              "tiv_2012              False\n",
              "eq_site_deductible    False\n",
              "hu_site_deductible    False\n",
              "fl_site_deductible    False\n",
              "fr_site_deductible    False\n",
              "point_latitude        False\n",
              "point_longitude       False\n",
              "line                   True\n",
              "construction           True\n",
              "point_granularity     False\n",
              "dtype: bool"
            ]
          },
          "metadata": {
            "tags": []
          },
          "execution_count": 82
        }
      ]
    },
    {
      "cell_type": "code",
      "metadata": {
        "id": "nsrS70SqC67W",
        "colab_type": "code",
        "outputId": "a9ef82eb-5f88-4f49-8c42-5dda81d3356d",
        "colab": {
          "base_uri": "https://localhost:8080/",
          "height": 446
        }
      },
      "source": [
        "df.loc[:,df.dtypes == object]"
      ],
      "execution_count": 0,
      "outputs": [
        {
          "output_type": "execute_result",
          "data": {
            "text/html": [
              "<div>\n",
              "<style scoped>\n",
              "    .dataframe tbody tr th:only-of-type {\n",
              "        vertical-align: middle;\n",
              "    }\n",
              "\n",
              "    .dataframe tbody tr th {\n",
              "        vertical-align: top;\n",
              "    }\n",
              "\n",
              "    .dataframe thead th {\n",
              "        text-align: right;\n",
              "    }\n",
              "</style>\n",
              "<table border=\"1\" class=\"dataframe\">\n",
              "  <thead>\n",
              "    <tr style=\"text-align: right;\">\n",
              "      <th></th>\n",
              "      <th>statecode</th>\n",
              "      <th>county</th>\n",
              "      <th>line</th>\n",
              "      <th>construction</th>\n",
              "    </tr>\n",
              "    <tr>\n",
              "      <th>policyID</th>\n",
              "      <th></th>\n",
              "      <th></th>\n",
              "      <th></th>\n",
              "      <th></th>\n",
              "    </tr>\n",
              "  </thead>\n",
              "  <tbody>\n",
              "    <tr>\n",
              "      <th>119736</th>\n",
              "      <td>FL</td>\n",
              "      <td>CLAY COUNTY</td>\n",
              "      <td>Residential</td>\n",
              "      <td>Masonry</td>\n",
              "    </tr>\n",
              "    <tr>\n",
              "      <th>448094</th>\n",
              "      <td>FL</td>\n",
              "      <td>CLAY COUNTY</td>\n",
              "      <td>Residential</td>\n",
              "      <td>Masonry</td>\n",
              "    </tr>\n",
              "    <tr>\n",
              "      <th>206893</th>\n",
              "      <td>FL</td>\n",
              "      <td>CLAY COUNTY</td>\n",
              "      <td>Residential</td>\n",
              "      <td>Wood</td>\n",
              "    </tr>\n",
              "    <tr>\n",
              "      <th>333743</th>\n",
              "      <td>FL</td>\n",
              "      <td>CLAY COUNTY</td>\n",
              "      <td>Residential</td>\n",
              "      <td>Wood</td>\n",
              "    </tr>\n",
              "    <tr>\n",
              "      <th>172534</th>\n",
              "      <td>FL</td>\n",
              "      <td>CLAY COUNTY</td>\n",
              "      <td>Residential</td>\n",
              "      <td>Wood</td>\n",
              "    </tr>\n",
              "    <tr>\n",
              "      <th>...</th>\n",
              "      <td>...</td>\n",
              "      <td>...</td>\n",
              "      <td>...</td>\n",
              "      <td>...</td>\n",
              "    </tr>\n",
              "    <tr>\n",
              "      <th>329719</th>\n",
              "      <td>FL</td>\n",
              "      <td>PINELLAS COUNTY</td>\n",
              "      <td>Residential</td>\n",
              "      <td>Masonry</td>\n",
              "    </tr>\n",
              "    <tr>\n",
              "      <th>419086</th>\n",
              "      <td>FL</td>\n",
              "      <td>PINELLAS COUNTY</td>\n",
              "      <td>Residential</td>\n",
              "      <td>Masonry</td>\n",
              "    </tr>\n",
              "    <tr>\n",
              "      <th>390281</th>\n",
              "      <td>FL</td>\n",
              "      <td>PINELLAS COUNTY</td>\n",
              "      <td>Residential</td>\n",
              "      <td>Wood</td>\n",
              "    </tr>\n",
              "    <tr>\n",
              "      <th>795895</th>\n",
              "      <td>FL</td>\n",
              "      <td>PINELLAS COUNTY</td>\n",
              "      <td>Residential</td>\n",
              "      <td>Wood</td>\n",
              "    </tr>\n",
              "    <tr>\n",
              "      <th>891450</th>\n",
              "      <td>FL</td>\n",
              "      <td>PIN</td>\n",
              "      <td>NaN</td>\n",
              "      <td>NaN</td>\n",
              "    </tr>\n",
              "  </tbody>\n",
              "</table>\n",
              "<p>27888 rows × 4 columns</p>\n",
              "</div>"
            ],
            "text/plain": [
              "         statecode           county         line construction\n",
              "policyID                                                     \n",
              "119736          FL      CLAY COUNTY  Residential      Masonry\n",
              "448094          FL      CLAY COUNTY  Residential      Masonry\n",
              "206893          FL      CLAY COUNTY  Residential         Wood\n",
              "333743          FL      CLAY COUNTY  Residential         Wood\n",
              "172534          FL      CLAY COUNTY  Residential         Wood\n",
              "...            ...              ...          ...          ...\n",
              "329719          FL  PINELLAS COUNTY  Residential      Masonry\n",
              "419086          FL  PINELLAS COUNTY  Residential      Masonry\n",
              "390281          FL  PINELLAS COUNTY  Residential         Wood\n",
              "795895          FL  PINELLAS COUNTY  Residential         Wood\n",
              "891450          FL              PIN          NaN          NaN\n",
              "\n",
              "[27888 rows x 4 columns]"
            ]
          },
          "metadata": {
            "tags": []
          },
          "execution_count": 83
        }
      ]
    },
    {
      "cell_type": "code",
      "metadata": {
        "id": "UbeDUXyOC64c",
        "colab_type": "code",
        "outputId": "eae3952a-71af-48af-cc9e-a5fa49caf650",
        "colab": {
          "base_uri": "https://localhost:8080/",
          "height": 329
        }
      },
      "source": [
        "df.dtypes ==np.int64"
      ],
      "execution_count": 0,
      "outputs": [
        {
          "output_type": "execute_result",
          "data": {
            "text/plain": [
              "statecode             False\n",
              "county                False\n",
              "eq_site_limit         False\n",
              "hu_site_limit         False\n",
              "fl_site_limit         False\n",
              "fr_site_limit         False\n",
              "tiv_2011              False\n",
              "tiv_2012              False\n",
              "eq_site_deductible    False\n",
              "hu_site_deductible    False\n",
              "fl_site_deductible    False\n",
              "fr_site_deductible    False\n",
              "point_latitude        False\n",
              "point_longitude       False\n",
              "line                  False\n",
              "construction          False\n",
              "point_granularity     False\n",
              "dtype: bool"
            ]
          },
          "metadata": {
            "tags": []
          },
          "execution_count": 84
        }
      ]
    },
    {
      "cell_type": "code",
      "metadata": {
        "id": "jT36HzLnC6or",
        "colab_type": "code",
        "outputId": "970db4fa-9eb5-45e1-84b8-4173b24215df",
        "colab": {
          "base_uri": "https://localhost:8080/",
          "height": 429
        }
      },
      "source": [
        "df.loc[:,df.dtypes == np.int64]"
      ],
      "execution_count": 0,
      "outputs": [
        {
          "output_type": "execute_result",
          "data": {
            "text/html": [
              "<div>\n",
              "<style scoped>\n",
              "    .dataframe tbody tr th:only-of-type {\n",
              "        vertical-align: middle;\n",
              "    }\n",
              "\n",
              "    .dataframe tbody tr th {\n",
              "        vertical-align: top;\n",
              "    }\n",
              "\n",
              "    .dataframe thead th {\n",
              "        text-align: right;\n",
              "    }\n",
              "</style>\n",
              "<table border=\"1\" class=\"dataframe\">\n",
              "  <thead>\n",
              "    <tr style=\"text-align: right;\">\n",
              "      <th></th>\n",
              "    </tr>\n",
              "    <tr>\n",
              "      <th>policyID</th>\n",
              "    </tr>\n",
              "  </thead>\n",
              "  <tbody>\n",
              "    <tr>\n",
              "      <th>119736</th>\n",
              "    </tr>\n",
              "    <tr>\n",
              "      <th>448094</th>\n",
              "    </tr>\n",
              "    <tr>\n",
              "      <th>206893</th>\n",
              "    </tr>\n",
              "    <tr>\n",
              "      <th>333743</th>\n",
              "    </tr>\n",
              "    <tr>\n",
              "      <th>172534</th>\n",
              "    </tr>\n",
              "    <tr>\n",
              "      <th>...</th>\n",
              "    </tr>\n",
              "    <tr>\n",
              "      <th>329719</th>\n",
              "    </tr>\n",
              "    <tr>\n",
              "      <th>419086</th>\n",
              "    </tr>\n",
              "    <tr>\n",
              "      <th>390281</th>\n",
              "    </tr>\n",
              "    <tr>\n",
              "      <th>795895</th>\n",
              "    </tr>\n",
              "    <tr>\n",
              "      <th>891450</th>\n",
              "    </tr>\n",
              "  </tbody>\n",
              "</table>\n",
              "<p>27888 rows × 0 columns</p>\n",
              "</div>"
            ],
            "text/plain": [
              "Empty DataFrame\n",
              "Columns: []\n",
              "Index: [119736, 448094, 206893, 333743, 172534, 785275, 995932, 223488, 433512, 142071, 253816, 894922, 422834, 582721, 842700, 874333, 580146, 456149, 767862, 353022, 367814, 671392, 772887, 983122, 934215, 385951, 716332, 751262, 633663, 105851, 710400, 703001, 352792, 717603, 937659, 294022, 410500, 524433, 779298, 491831, 814637, 737515, 222653, 788543, 691681, 368807, 174002, 198760, 831395, 305698, 515722, 415582, 783533, 640802, 403866, 828788, 751490, 972562, 367541, 481360, 920232, 727659, 471817, 983043, 578286, 347276, 477786, 265907, 107560, 908183, 356024, 575299, 790478, 801776, 291781, 537286, 289305, 697409, 633944, 963511, 729649, 862584, 371891, 785595, 567696, 219025, 447216, 305141, 625575, 262109, 228457, 622799, 233271, 932950, 641952, 796260, 301822, 559927, 224400, 123936, ...]\n",
              "\n",
              "[27888 rows x 0 columns]"
            ]
          },
          "metadata": {
            "tags": []
          },
          "execution_count": 85
        }
      ]
    },
    {
      "cell_type": "code",
      "metadata": {
        "id": "R36XRWGIE1qv",
        "colab_type": "code",
        "outputId": "61343542-6457-4be2-a139-e72ab5806ded",
        "colab": {
          "base_uri": "https://localhost:8080/",
          "height": 243
        }
      },
      "source": [
        "df.county"
      ],
      "execution_count": 0,
      "outputs": [
        {
          "output_type": "execute_result",
          "data": {
            "text/plain": [
              "policyID\n",
              "119736        CLAY COUNTY\n",
              "448094        CLAY COUNTY\n",
              "206893        CLAY COUNTY\n",
              "333743        CLAY COUNTY\n",
              "172534        CLAY COUNTY\n",
              "               ...       \n",
              "329719    PINELLAS COUNTY\n",
              "419086    PINELLAS COUNTY\n",
              "390281    PINELLAS COUNTY\n",
              "795895    PINELLAS COUNTY\n",
              "891450                PIN\n",
              "Name: county, Length: 27888, dtype: object"
            ]
          },
          "metadata": {
            "tags": []
          },
          "execution_count": 86
        }
      ]
    },
    {
      "cell_type": "code",
      "metadata": {
        "id": "p8qTYTCtE2Lr",
        "colab_type": "code",
        "outputId": "f48e3e76-f3cb-4711-e66a-05ad5858b56b",
        "colab": {
          "base_uri": "https://localhost:8080/",
          "height": 35
        }
      },
      "source": [
        "df.county.nunique()"
      ],
      "execution_count": 0,
      "outputs": [
        {
          "output_type": "execute_result",
          "data": {
            "text/plain": [
              "55"
            ]
          },
          "metadata": {
            "tags": []
          },
          "execution_count": 87
        }
      ]
    },
    {
      "cell_type": "code",
      "metadata": {
        "id": "3hhCmWnTE2Gc",
        "colab_type": "code",
        "outputId": "c7964b9b-39da-4978-c3ff-9253e6214d08",
        "colab": {
          "base_uri": "https://localhost:8080/",
          "height": 329
        }
      },
      "source": [
        "df.county.unique()"
      ],
      "execution_count": 0,
      "outputs": [
        {
          "output_type": "execute_result",
          "data": {
            "text/plain": [
              "array(['CLAY COUNTY', 'SUWANNEE COUNTY', 'NASSAU COUNTY',\n",
              "       'COLUMBIA COUNTY', 'ST  JOHNS COUNTY', 'BAKER COUNTY',\n",
              "       'BRADFORD COUNTY', 'HAMILTON COUNTY', 'UNION COUNTY',\n",
              "       'MADISON COUNTY', 'LAFAYETTE COUNTY', 'FLAGLER COUNTY',\n",
              "       'DUVAL COUNTY', 'LAKE COUNTY', 'VOLUSIA COUNTY', 'PUTNAM COUNTY',\n",
              "       'MARION COUNTY', 'SUMTER COUNTY', 'LEON COUNTY', 'FRANKLIN COUNTY',\n",
              "       'LIBERTY COUNTY', 'GADSDEN COUNTY', 'WAKULLA COUNTY',\n",
              "       'JEFFERSON COUNTY', 'TAYLOR COUNTY', 'BAY COUNTY', 'WALTON COUNTY',\n",
              "       'JACKSON COUNTY', 'CALHOUN COUNTY', 'HOLMES COUNTY',\n",
              "       'WASHINGTON COUNTY', 'GULF COUNTY', 'ESCAMBIA COUNTY',\n",
              "       'SANTA ROSA COUNTY', 'OKALOOSA COUNTY', 'ALACHUA COUNTY',\n",
              "       'GILCHRIST COUNTY', 'LEVY COUNTY', 'DIXIE COUNTY',\n",
              "       'SEMINOLE COUNTY', 'ORANGE COUNTY', 'BREVARD COUNTY',\n",
              "       'INDIAN RIVER COUNTY', 'MIAMI DADE COUNTY', 'BROWARD COUNTY',\n",
              "       'MONROE COUNTY', 'PALM BEACH COUNTY', 'MARTIN COUNTY',\n",
              "       'HENDRY COUNTY', 'PASCO COUNTY', 'GLADES COUNTY',\n",
              "       'HILLSBOROUGH COUNTY', 'HERNANDO COUNTY', 'PINELLAS COUNTY', 'PIN'],\n",
              "      dtype=object)"
            ]
          },
          "metadata": {
            "tags": []
          },
          "execution_count": 88
        }
      ]
    },
    {
      "cell_type": "code",
      "metadata": {
        "id": "Ic7AlS_sE18L",
        "colab_type": "code",
        "outputId": "3d2c36b3-afb8-4f24-8ce8-fec94782a573",
        "colab": {
          "base_uri": "https://localhost:8080/",
          "height": 243
        }
      },
      "source": [
        "df.county== 'CLAY COUNTY'"
      ],
      "execution_count": 0,
      "outputs": [
        {
          "output_type": "execute_result",
          "data": {
            "text/plain": [
              "policyID\n",
              "119736     True\n",
              "448094     True\n",
              "206893     True\n",
              "333743     True\n",
              "172534     True\n",
              "          ...  \n",
              "329719    False\n",
              "419086    False\n",
              "390281    False\n",
              "795895    False\n",
              "891450    False\n",
              "Name: county, Length: 27888, dtype: bool"
            ]
          },
          "metadata": {
            "tags": []
          },
          "execution_count": 89
        }
      ]
    },
    {
      "cell_type": "code",
      "metadata": {
        "id": "czlBofXvE14r",
        "colab_type": "code",
        "outputId": "2704fc03-e77c-4fb2-a11f-636fb49788dc",
        "colab": {
          "base_uri": "https://localhost:8080/",
          "height": 639
        }
      },
      "source": [
        "df.loc[df.county== 'CLAY COUNTY',:]"
      ],
      "execution_count": 0,
      "outputs": [
        {
          "output_type": "execute_result",
          "data": {
            "text/html": [
              "<div>\n",
              "<style scoped>\n",
              "    .dataframe tbody tr th:only-of-type {\n",
              "        vertical-align: middle;\n",
              "    }\n",
              "\n",
              "    .dataframe tbody tr th {\n",
              "        vertical-align: top;\n",
              "    }\n",
              "\n",
              "    .dataframe thead th {\n",
              "        text-align: right;\n",
              "    }\n",
              "</style>\n",
              "<table border=\"1\" class=\"dataframe\">\n",
              "  <thead>\n",
              "    <tr style=\"text-align: right;\">\n",
              "      <th></th>\n",
              "      <th>statecode</th>\n",
              "      <th>county</th>\n",
              "      <th>eq_site_limit</th>\n",
              "      <th>hu_site_limit</th>\n",
              "      <th>fl_site_limit</th>\n",
              "      <th>fr_site_limit</th>\n",
              "      <th>tiv_2011</th>\n",
              "      <th>tiv_2012</th>\n",
              "      <th>eq_site_deductible</th>\n",
              "      <th>hu_site_deductible</th>\n",
              "      <th>fl_site_deductible</th>\n",
              "      <th>fr_site_deductible</th>\n",
              "      <th>point_latitude</th>\n",
              "      <th>point_longitude</th>\n",
              "      <th>line</th>\n",
              "      <th>construction</th>\n",
              "      <th>point_granularity</th>\n",
              "    </tr>\n",
              "    <tr>\n",
              "      <th>policyID</th>\n",
              "      <th></th>\n",
              "      <th></th>\n",
              "      <th></th>\n",
              "      <th></th>\n",
              "      <th></th>\n",
              "      <th></th>\n",
              "      <th></th>\n",
              "      <th></th>\n",
              "      <th></th>\n",
              "      <th></th>\n",
              "      <th></th>\n",
              "      <th></th>\n",
              "      <th></th>\n",
              "      <th></th>\n",
              "      <th></th>\n",
              "      <th></th>\n",
              "      <th></th>\n",
              "    </tr>\n",
              "  </thead>\n",
              "  <tbody>\n",
              "    <tr>\n",
              "      <th>119736</th>\n",
              "      <td>FL</td>\n",
              "      <td>CLAY COUNTY</td>\n",
              "      <td>498960.0</td>\n",
              "      <td>498960.00</td>\n",
              "      <td>498960.0</td>\n",
              "      <td>498960.0</td>\n",
              "      <td>498960.00</td>\n",
              "      <td>792148.90</td>\n",
              "      <td>0.0</td>\n",
              "      <td>9979.2</td>\n",
              "      <td>0.0</td>\n",
              "      <td>0.0</td>\n",
              "      <td>30.102261</td>\n",
              "      <td>-81.711777</td>\n",
              "      <td>Residential</td>\n",
              "      <td>Masonry</td>\n",
              "      <td>1.0</td>\n",
              "    </tr>\n",
              "    <tr>\n",
              "      <th>448094</th>\n",
              "      <td>FL</td>\n",
              "      <td>CLAY COUNTY</td>\n",
              "      <td>1322376.3</td>\n",
              "      <td>1322376.30</td>\n",
              "      <td>1322376.3</td>\n",
              "      <td>1322376.3</td>\n",
              "      <td>1322376.30</td>\n",
              "      <td>1438163.57</td>\n",
              "      <td>0.0</td>\n",
              "      <td>0.0</td>\n",
              "      <td>0.0</td>\n",
              "      <td>0.0</td>\n",
              "      <td>30.063936</td>\n",
              "      <td>-81.707664</td>\n",
              "      <td>Residential</td>\n",
              "      <td>Masonry</td>\n",
              "      <td>3.0</td>\n",
              "    </tr>\n",
              "    <tr>\n",
              "      <th>206893</th>\n",
              "      <td>FL</td>\n",
              "      <td>CLAY COUNTY</td>\n",
              "      <td>190724.4</td>\n",
              "      <td>190724.40</td>\n",
              "      <td>190724.4</td>\n",
              "      <td>190724.4</td>\n",
              "      <td>190724.40</td>\n",
              "      <td>192476.78</td>\n",
              "      <td>0.0</td>\n",
              "      <td>0.0</td>\n",
              "      <td>0.0</td>\n",
              "      <td>0.0</td>\n",
              "      <td>30.089579</td>\n",
              "      <td>-81.700455</td>\n",
              "      <td>Residential</td>\n",
              "      <td>Wood</td>\n",
              "      <td>1.0</td>\n",
              "    </tr>\n",
              "    <tr>\n",
              "      <th>333743</th>\n",
              "      <td>FL</td>\n",
              "      <td>CLAY COUNTY</td>\n",
              "      <td>0.0</td>\n",
              "      <td>79520.76</td>\n",
              "      <td>0.0</td>\n",
              "      <td>0.0</td>\n",
              "      <td>79520.76</td>\n",
              "      <td>86854.48</td>\n",
              "      <td>0.0</td>\n",
              "      <td>0.0</td>\n",
              "      <td>0.0</td>\n",
              "      <td>0.0</td>\n",
              "      <td>30.063236</td>\n",
              "      <td>-81.707703</td>\n",
              "      <td>Residential</td>\n",
              "      <td>Wood</td>\n",
              "      <td>3.0</td>\n",
              "    </tr>\n",
              "    <tr>\n",
              "      <th>172534</th>\n",
              "      <td>FL</td>\n",
              "      <td>CLAY COUNTY</td>\n",
              "      <td>0.0</td>\n",
              "      <td>254281.50</td>\n",
              "      <td>0.0</td>\n",
              "      <td>254281.5</td>\n",
              "      <td>254281.50</td>\n",
              "      <td>246144.49</td>\n",
              "      <td>0.0</td>\n",
              "      <td>0.0</td>\n",
              "      <td>0.0</td>\n",
              "      <td>0.0</td>\n",
              "      <td>30.060614</td>\n",
              "      <td>-81.702675</td>\n",
              "      <td>Residential</td>\n",
              "      <td>Wood</td>\n",
              "      <td>1.0</td>\n",
              "    </tr>\n",
              "    <tr>\n",
              "      <th>...</th>\n",
              "      <td>...</td>\n",
              "      <td>...</td>\n",
              "      <td>...</td>\n",
              "      <td>...</td>\n",
              "      <td>...</td>\n",
              "      <td>...</td>\n",
              "      <td>...</td>\n",
              "      <td>...</td>\n",
              "      <td>...</td>\n",
              "      <td>...</td>\n",
              "      <td>...</td>\n",
              "      <td>...</td>\n",
              "      <td>...</td>\n",
              "      <td>...</td>\n",
              "      <td>...</td>\n",
              "      <td>...</td>\n",
              "      <td>...</td>\n",
              "    </tr>\n",
              "    <tr>\n",
              "      <th>767514</th>\n",
              "      <td>FL</td>\n",
              "      <td>CLAY COUNTY</td>\n",
              "      <td>0.0</td>\n",
              "      <td>63259.77</td>\n",
              "      <td>0.0</td>\n",
              "      <td>0.0</td>\n",
              "      <td>63259.77</td>\n",
              "      <td>50163.99</td>\n",
              "      <td>0.0</td>\n",
              "      <td>0.0</td>\n",
              "      <td>0.0</td>\n",
              "      <td>0.0</td>\n",
              "      <td>29.811170</td>\n",
              "      <td>-81.994500</td>\n",
              "      <td>Residential</td>\n",
              "      <td>Wood</td>\n",
              "      <td>1.0</td>\n",
              "    </tr>\n",
              "    <tr>\n",
              "      <th>632481</th>\n",
              "      <td>FL</td>\n",
              "      <td>CLAY COUNTY</td>\n",
              "      <td>0.0</td>\n",
              "      <td>25467.53</td>\n",
              "      <td>0.0</td>\n",
              "      <td>0.0</td>\n",
              "      <td>25467.53</td>\n",
              "      <td>32139.90</td>\n",
              "      <td>0.0</td>\n",
              "      <td>0.0</td>\n",
              "      <td>0.0</td>\n",
              "      <td>0.0</td>\n",
              "      <td>29.811170</td>\n",
              "      <td>-81.994500</td>\n",
              "      <td>Residential</td>\n",
              "      <td>Wood</td>\n",
              "      <td>1.0</td>\n",
              "    </tr>\n",
              "    <tr>\n",
              "      <th>703886</th>\n",
              "      <td>FL</td>\n",
              "      <td>CLAY COUNTY</td>\n",
              "      <td>0.0</td>\n",
              "      <td>78558.47</td>\n",
              "      <td>0.0</td>\n",
              "      <td>0.0</td>\n",
              "      <td>78558.47</td>\n",
              "      <td>77405.24</td>\n",
              "      <td>0.0</td>\n",
              "      <td>0.0</td>\n",
              "      <td>0.0</td>\n",
              "      <td>0.0</td>\n",
              "      <td>29.811170</td>\n",
              "      <td>-81.994500</td>\n",
              "      <td>Residential</td>\n",
              "      <td>Wood</td>\n",
              "      <td>1.0</td>\n",
              "    </tr>\n",
              "    <tr>\n",
              "      <th>992295</th>\n",
              "      <td>FL</td>\n",
              "      <td>CLAY COUNTY</td>\n",
              "      <td>0.0</td>\n",
              "      <td>35912.45</td>\n",
              "      <td>0.0</td>\n",
              "      <td>0.0</td>\n",
              "      <td>35912.45</td>\n",
              "      <td>47885.65</td>\n",
              "      <td>0.0</td>\n",
              "      <td>0.0</td>\n",
              "      <td>0.0</td>\n",
              "      <td>0.0</td>\n",
              "      <td>29.763060</td>\n",
              "      <td>-81.991790</td>\n",
              "      <td>Residential</td>\n",
              "      <td>Wood</td>\n",
              "      <td>1.0</td>\n",
              "    </tr>\n",
              "    <tr>\n",
              "      <th>662150</th>\n",
              "      <td>FL</td>\n",
              "      <td>CLAY COUNTY</td>\n",
              "      <td>0.0</td>\n",
              "      <td>70478.17</td>\n",
              "      <td>0.0</td>\n",
              "      <td>0.0</td>\n",
              "      <td>70478.17</td>\n",
              "      <td>69296.82</td>\n",
              "      <td>0.0</td>\n",
              "      <td>0.0</td>\n",
              "      <td>0.0</td>\n",
              "      <td>0.0</td>\n",
              "      <td>29.814301</td>\n",
              "      <td>-81.922302</td>\n",
              "      <td>Residential</td>\n",
              "      <td>Wood</td>\n",
              "      <td>1.0</td>\n",
              "    </tr>\n",
              "  </tbody>\n",
              "</table>\n",
              "<p>363 rows × 17 columns</p>\n",
              "</div>"
            ],
            "text/plain": [
              "         statecode       county  ...  construction  point_granularity\n",
              "policyID                         ...                                 \n",
              "119736          FL  CLAY COUNTY  ...       Masonry                1.0\n",
              "448094          FL  CLAY COUNTY  ...       Masonry                3.0\n",
              "206893          FL  CLAY COUNTY  ...          Wood                1.0\n",
              "333743          FL  CLAY COUNTY  ...          Wood                3.0\n",
              "172534          FL  CLAY COUNTY  ...          Wood                1.0\n",
              "...            ...          ...  ...           ...                ...\n",
              "767514          FL  CLAY COUNTY  ...          Wood                1.0\n",
              "632481          FL  CLAY COUNTY  ...          Wood                1.0\n",
              "703886          FL  CLAY COUNTY  ...          Wood                1.0\n",
              "992295          FL  CLAY COUNTY  ...          Wood                1.0\n",
              "662150          FL  CLAY COUNTY  ...          Wood                1.0\n",
              "\n",
              "[363 rows x 17 columns]"
            ]
          },
          "metadata": {
            "tags": []
          },
          "execution_count": 90
        }
      ]
    },
    {
      "cell_type": "markdown",
      "metadata": {
        "id": "GD6PZEtXFlr7",
        "colab_type": "text"
      },
      "source": [
        "**Access Multiple columns**"
      ]
    },
    {
      "cell_type": "code",
      "metadata": {
        "id": "zq8MxWvKFoFQ",
        "colab_type": "code",
        "outputId": "22eeb363-e0a9-4c04-bea1-402f3d3f92a2",
        "colab": {
          "base_uri": "https://localhost:8080/",
          "height": 446
        }
      },
      "source": [
        "df[['county','statecode','point_granularity']]"
      ],
      "execution_count": 0,
      "outputs": [
        {
          "output_type": "execute_result",
          "data": {
            "text/html": [
              "<div>\n",
              "<style scoped>\n",
              "    .dataframe tbody tr th:only-of-type {\n",
              "        vertical-align: middle;\n",
              "    }\n",
              "\n",
              "    .dataframe tbody tr th {\n",
              "        vertical-align: top;\n",
              "    }\n",
              "\n",
              "    .dataframe thead th {\n",
              "        text-align: right;\n",
              "    }\n",
              "</style>\n",
              "<table border=\"1\" class=\"dataframe\">\n",
              "  <thead>\n",
              "    <tr style=\"text-align: right;\">\n",
              "      <th></th>\n",
              "      <th>county</th>\n",
              "      <th>statecode</th>\n",
              "      <th>point_granularity</th>\n",
              "    </tr>\n",
              "    <tr>\n",
              "      <th>policyID</th>\n",
              "      <th></th>\n",
              "      <th></th>\n",
              "      <th></th>\n",
              "    </tr>\n",
              "  </thead>\n",
              "  <tbody>\n",
              "    <tr>\n",
              "      <th>119736</th>\n",
              "      <td>CLAY COUNTY</td>\n",
              "      <td>FL</td>\n",
              "      <td>1.0</td>\n",
              "    </tr>\n",
              "    <tr>\n",
              "      <th>448094</th>\n",
              "      <td>CLAY COUNTY</td>\n",
              "      <td>FL</td>\n",
              "      <td>3.0</td>\n",
              "    </tr>\n",
              "    <tr>\n",
              "      <th>206893</th>\n",
              "      <td>CLAY COUNTY</td>\n",
              "      <td>FL</td>\n",
              "      <td>1.0</td>\n",
              "    </tr>\n",
              "    <tr>\n",
              "      <th>333743</th>\n",
              "      <td>CLAY COUNTY</td>\n",
              "      <td>FL</td>\n",
              "      <td>3.0</td>\n",
              "    </tr>\n",
              "    <tr>\n",
              "      <th>172534</th>\n",
              "      <td>CLAY COUNTY</td>\n",
              "      <td>FL</td>\n",
              "      <td>1.0</td>\n",
              "    </tr>\n",
              "    <tr>\n",
              "      <th>...</th>\n",
              "      <td>...</td>\n",
              "      <td>...</td>\n",
              "      <td>...</td>\n",
              "    </tr>\n",
              "    <tr>\n",
              "      <th>329719</th>\n",
              "      <td>PINELLAS COUNTY</td>\n",
              "      <td>FL</td>\n",
              "      <td>3.0</td>\n",
              "    </tr>\n",
              "    <tr>\n",
              "      <th>419086</th>\n",
              "      <td>PINELLAS COUNTY</td>\n",
              "      <td>FL</td>\n",
              "      <td>1.0</td>\n",
              "    </tr>\n",
              "    <tr>\n",
              "      <th>390281</th>\n",
              "      <td>PINELLAS COUNTY</td>\n",
              "      <td>FL</td>\n",
              "      <td>1.0</td>\n",
              "    </tr>\n",
              "    <tr>\n",
              "      <th>795895</th>\n",
              "      <td>PINELLAS COUNTY</td>\n",
              "      <td>FL</td>\n",
              "      <td>1.0</td>\n",
              "    </tr>\n",
              "    <tr>\n",
              "      <th>891450</th>\n",
              "      <td>PIN</td>\n",
              "      <td>FL</td>\n",
              "      <td>NaN</td>\n",
              "    </tr>\n",
              "  </tbody>\n",
              "</table>\n",
              "<p>27888 rows × 3 columns</p>\n",
              "</div>"
            ],
            "text/plain": [
              "                   county statecode  point_granularity\n",
              "policyID                                              \n",
              "119736        CLAY COUNTY        FL                1.0\n",
              "448094        CLAY COUNTY        FL                3.0\n",
              "206893        CLAY COUNTY        FL                1.0\n",
              "333743        CLAY COUNTY        FL                3.0\n",
              "172534        CLAY COUNTY        FL                1.0\n",
              "...                   ...       ...                ...\n",
              "329719    PINELLAS COUNTY        FL                3.0\n",
              "419086    PINELLAS COUNTY        FL                1.0\n",
              "390281    PINELLAS COUNTY        FL                1.0\n",
              "795895    PINELLAS COUNTY        FL                1.0\n",
              "891450                PIN        FL                NaN\n",
              "\n",
              "[27888 rows x 3 columns]"
            ]
          },
          "metadata": {
            "tags": []
          },
          "execution_count": 91
        }
      ]
    },
    {
      "cell_type": "code",
      "metadata": {
        "id": "jr3dCllDFvn9",
        "colab_type": "code",
        "outputId": "b77e8d3f-44f7-479e-ae6a-fb61c29ea536",
        "colab": {
          "base_uri": "https://localhost:8080/",
          "height": 446
        }
      },
      "source": [
        "df[['county']]"
      ],
      "execution_count": 0,
      "outputs": [
        {
          "output_type": "execute_result",
          "data": {
            "text/html": [
              "<div>\n",
              "<style scoped>\n",
              "    .dataframe tbody tr th:only-of-type {\n",
              "        vertical-align: middle;\n",
              "    }\n",
              "\n",
              "    .dataframe tbody tr th {\n",
              "        vertical-align: top;\n",
              "    }\n",
              "\n",
              "    .dataframe thead th {\n",
              "        text-align: right;\n",
              "    }\n",
              "</style>\n",
              "<table border=\"1\" class=\"dataframe\">\n",
              "  <thead>\n",
              "    <tr style=\"text-align: right;\">\n",
              "      <th></th>\n",
              "      <th>county</th>\n",
              "    </tr>\n",
              "    <tr>\n",
              "      <th>policyID</th>\n",
              "      <th></th>\n",
              "    </tr>\n",
              "  </thead>\n",
              "  <tbody>\n",
              "    <tr>\n",
              "      <th>119736</th>\n",
              "      <td>CLAY COUNTY</td>\n",
              "    </tr>\n",
              "    <tr>\n",
              "      <th>448094</th>\n",
              "      <td>CLAY COUNTY</td>\n",
              "    </tr>\n",
              "    <tr>\n",
              "      <th>206893</th>\n",
              "      <td>CLAY COUNTY</td>\n",
              "    </tr>\n",
              "    <tr>\n",
              "      <th>333743</th>\n",
              "      <td>CLAY COUNTY</td>\n",
              "    </tr>\n",
              "    <tr>\n",
              "      <th>172534</th>\n",
              "      <td>CLAY COUNTY</td>\n",
              "    </tr>\n",
              "    <tr>\n",
              "      <th>...</th>\n",
              "      <td>...</td>\n",
              "    </tr>\n",
              "    <tr>\n",
              "      <th>329719</th>\n",
              "      <td>PINELLAS COUNTY</td>\n",
              "    </tr>\n",
              "    <tr>\n",
              "      <th>419086</th>\n",
              "      <td>PINELLAS COUNTY</td>\n",
              "    </tr>\n",
              "    <tr>\n",
              "      <th>390281</th>\n",
              "      <td>PINELLAS COUNTY</td>\n",
              "    </tr>\n",
              "    <tr>\n",
              "      <th>795895</th>\n",
              "      <td>PINELLAS COUNTY</td>\n",
              "    </tr>\n",
              "    <tr>\n",
              "      <th>891450</th>\n",
              "      <td>PIN</td>\n",
              "    </tr>\n",
              "  </tbody>\n",
              "</table>\n",
              "<p>27888 rows × 1 columns</p>\n",
              "</div>"
            ],
            "text/plain": [
              "                   county\n",
              "policyID                 \n",
              "119736        CLAY COUNTY\n",
              "448094        CLAY COUNTY\n",
              "206893        CLAY COUNTY\n",
              "333743        CLAY COUNTY\n",
              "172534        CLAY COUNTY\n",
              "...                   ...\n",
              "329719    PINELLAS COUNTY\n",
              "419086    PINELLAS COUNTY\n",
              "390281    PINELLAS COUNTY\n",
              "795895    PINELLAS COUNTY\n",
              "891450                PIN\n",
              "\n",
              "[27888 rows x 1 columns]"
            ]
          },
          "metadata": {
            "tags": []
          },
          "execution_count": 92
        }
      ]
    },
    {
      "cell_type": "code",
      "metadata": {
        "id": "CoNiEjqNFv7z",
        "colab_type": "code",
        "colab": {}
      },
      "source": [
        "df['county'] - It is a series\n",
        "df[['county']] - DataFrame\n",
        "\n",
        "Access row with index 133 as a series"
      ],
      "execution_count": 0,
      "outputs": []
    },
    {
      "cell_type": "code",
      "metadata": {
        "id": "8HCOJUBaGDS0",
        "colab_type": "code",
        "outputId": "9518983e-a8e9-45d7-81d4-478601ff184d",
        "colab": {
          "base_uri": "https://localhost:8080/",
          "height": 329
        }
      },
      "source": [
        "df.iloc[133]"
      ],
      "execution_count": 0,
      "outputs": [
        {
          "output_type": "execute_result",
          "data": {
            "text/plain": [
              "statecode                           FL\n",
              "county                ST  JOHNS COUNTY\n",
              "eq_site_limit                        0\n",
              "hu_site_limit                   159042\n",
              "fl_site_limit                        0\n",
              "fr_site_limit                        0\n",
              "tiv_2011                        159042\n",
              "tiv_2012                        249985\n",
              "eq_site_deductible                   0\n",
              "hu_site_deductible                   0\n",
              "fl_site_deductible                   0\n",
              "fr_site_deductible                   0\n",
              "point_latitude                 29.7766\n",
              "point_longitude               -81.4717\n",
              "line                       Residential\n",
              "construction                      Wood\n",
              "point_granularity                    1\n",
              "Name: 482457, dtype: object"
            ]
          },
          "metadata": {
            "tags": []
          },
          "execution_count": 94
        }
      ]
    },
    {
      "cell_type": "code",
      "metadata": {
        "id": "Ex1HnOYyGDnC",
        "colab_type": "code",
        "outputId": "ee366023-bc74-4647-cacb-0c431657c883",
        "colab": {
          "base_uri": "https://localhost:8080/",
          "height": 165
        }
      },
      "source": [
        "df.iloc[[133]]"
      ],
      "execution_count": 0,
      "outputs": [
        {
          "output_type": "execute_result",
          "data": {
            "text/html": [
              "<div>\n",
              "<style scoped>\n",
              "    .dataframe tbody tr th:only-of-type {\n",
              "        vertical-align: middle;\n",
              "    }\n",
              "\n",
              "    .dataframe tbody tr th {\n",
              "        vertical-align: top;\n",
              "    }\n",
              "\n",
              "    .dataframe thead th {\n",
              "        text-align: right;\n",
              "    }\n",
              "</style>\n",
              "<table border=\"1\" class=\"dataframe\">\n",
              "  <thead>\n",
              "    <tr style=\"text-align: right;\">\n",
              "      <th></th>\n",
              "      <th>statecode</th>\n",
              "      <th>county</th>\n",
              "      <th>eq_site_limit</th>\n",
              "      <th>hu_site_limit</th>\n",
              "      <th>fl_site_limit</th>\n",
              "      <th>fr_site_limit</th>\n",
              "      <th>tiv_2011</th>\n",
              "      <th>tiv_2012</th>\n",
              "      <th>eq_site_deductible</th>\n",
              "      <th>hu_site_deductible</th>\n",
              "      <th>fl_site_deductible</th>\n",
              "      <th>fr_site_deductible</th>\n",
              "      <th>point_latitude</th>\n",
              "      <th>point_longitude</th>\n",
              "      <th>line</th>\n",
              "      <th>construction</th>\n",
              "      <th>point_granularity</th>\n",
              "    </tr>\n",
              "    <tr>\n",
              "      <th>policyID</th>\n",
              "      <th></th>\n",
              "      <th></th>\n",
              "      <th></th>\n",
              "      <th></th>\n",
              "      <th></th>\n",
              "      <th></th>\n",
              "      <th></th>\n",
              "      <th></th>\n",
              "      <th></th>\n",
              "      <th></th>\n",
              "      <th></th>\n",
              "      <th></th>\n",
              "      <th></th>\n",
              "      <th></th>\n",
              "      <th></th>\n",
              "      <th></th>\n",
              "      <th></th>\n",
              "    </tr>\n",
              "  </thead>\n",
              "  <tbody>\n",
              "    <tr>\n",
              "      <th>482457</th>\n",
              "      <td>FL</td>\n",
              "      <td>ST  JOHNS COUNTY</td>\n",
              "      <td>0.0</td>\n",
              "      <td>159041.52</td>\n",
              "      <td>0.0</td>\n",
              "      <td>0.0</td>\n",
              "      <td>159041.52</td>\n",
              "      <td>249984.64</td>\n",
              "      <td>0.0</td>\n",
              "      <td>0.0</td>\n",
              "      <td>0.0</td>\n",
              "      <td>0.0</td>\n",
              "      <td>29.776566</td>\n",
              "      <td>-81.47171</td>\n",
              "      <td>Residential</td>\n",
              "      <td>Wood</td>\n",
              "      <td>1.0</td>\n",
              "    </tr>\n",
              "  </tbody>\n",
              "</table>\n",
              "</div>"
            ],
            "text/plain": [
              "         statecode            county  ...  construction  point_granularity\n",
              "policyID                              ...                                 \n",
              "482457          FL  ST  JOHNS COUNTY  ...          Wood                1.0\n",
              "\n",
              "[1 rows x 17 columns]"
            ]
          },
          "metadata": {
            "tags": []
          },
          "execution_count": 95
        }
      ]
    },
    {
      "cell_type": "code",
      "metadata": {
        "id": "7ARg11GFGDvQ",
        "colab_type": "code",
        "outputId": "0946a6ec-7e53-40ea-c9d0-752946ae4cfc",
        "colab": {
          "base_uri": "https://localhost:8080/",
          "height": 165
        }
      },
      "source": [
        "df.iloc[133:134]"
      ],
      "execution_count": 0,
      "outputs": [
        {
          "output_type": "execute_result",
          "data": {
            "text/html": [
              "<div>\n",
              "<style scoped>\n",
              "    .dataframe tbody tr th:only-of-type {\n",
              "        vertical-align: middle;\n",
              "    }\n",
              "\n",
              "    .dataframe tbody tr th {\n",
              "        vertical-align: top;\n",
              "    }\n",
              "\n",
              "    .dataframe thead th {\n",
              "        text-align: right;\n",
              "    }\n",
              "</style>\n",
              "<table border=\"1\" class=\"dataframe\">\n",
              "  <thead>\n",
              "    <tr style=\"text-align: right;\">\n",
              "      <th></th>\n",
              "      <th>statecode</th>\n",
              "      <th>county</th>\n",
              "      <th>eq_site_limit</th>\n",
              "      <th>hu_site_limit</th>\n",
              "      <th>fl_site_limit</th>\n",
              "      <th>fr_site_limit</th>\n",
              "      <th>tiv_2011</th>\n",
              "      <th>tiv_2012</th>\n",
              "      <th>eq_site_deductible</th>\n",
              "      <th>hu_site_deductible</th>\n",
              "      <th>fl_site_deductible</th>\n",
              "      <th>fr_site_deductible</th>\n",
              "      <th>point_latitude</th>\n",
              "      <th>point_longitude</th>\n",
              "      <th>line</th>\n",
              "      <th>construction</th>\n",
              "      <th>point_granularity</th>\n",
              "    </tr>\n",
              "    <tr>\n",
              "      <th>policyID</th>\n",
              "      <th></th>\n",
              "      <th></th>\n",
              "      <th></th>\n",
              "      <th></th>\n",
              "      <th></th>\n",
              "      <th></th>\n",
              "      <th></th>\n",
              "      <th></th>\n",
              "      <th></th>\n",
              "      <th></th>\n",
              "      <th></th>\n",
              "      <th></th>\n",
              "      <th></th>\n",
              "      <th></th>\n",
              "      <th></th>\n",
              "      <th></th>\n",
              "      <th></th>\n",
              "    </tr>\n",
              "  </thead>\n",
              "  <tbody>\n",
              "    <tr>\n",
              "      <th>482457</th>\n",
              "      <td>FL</td>\n",
              "      <td>ST  JOHNS COUNTY</td>\n",
              "      <td>0.0</td>\n",
              "      <td>159041.52</td>\n",
              "      <td>0.0</td>\n",
              "      <td>0.0</td>\n",
              "      <td>159041.52</td>\n",
              "      <td>249984.64</td>\n",
              "      <td>0.0</td>\n",
              "      <td>0.0</td>\n",
              "      <td>0.0</td>\n",
              "      <td>0.0</td>\n",
              "      <td>29.776566</td>\n",
              "      <td>-81.47171</td>\n",
              "      <td>Residential</td>\n",
              "      <td>Wood</td>\n",
              "      <td>1.0</td>\n",
              "    </tr>\n",
              "  </tbody>\n",
              "</table>\n",
              "</div>"
            ],
            "text/plain": [
              "         statecode            county  ...  construction  point_granularity\n",
              "policyID                              ...                                 \n",
              "482457          FL  ST  JOHNS COUNTY  ...          Wood                1.0\n",
              "\n",
              "[1 rows x 17 columns]"
            ]
          },
          "metadata": {
            "tags": []
          },
          "execution_count": 96
        }
      ]
    },
    {
      "cell_type": "code",
      "metadata": {
        "id": "uKF8W8D3GDj-",
        "colab_type": "code",
        "outputId": "34aca03a-159c-4558-d208-46248846f21a",
        "colab": {
          "base_uri": "https://localhost:8080/",
          "height": 243
        }
      },
      "source": [
        "df.county.isnull()"
      ],
      "execution_count": 0,
      "outputs": [
        {
          "output_type": "execute_result",
          "data": {
            "text/plain": [
              "policyID\n",
              "119736    False\n",
              "448094    False\n",
              "206893    False\n",
              "333743    False\n",
              "172534    False\n",
              "          ...  \n",
              "329719    False\n",
              "419086    False\n",
              "390281    False\n",
              "795895    False\n",
              "891450    False\n",
              "Name: county, Length: 27888, dtype: bool"
            ]
          },
          "metadata": {
            "tags": []
          },
          "execution_count": 97
        }
      ]
    },
    {
      "cell_type": "code",
      "metadata": {
        "id": "W2tBswMmFwIG",
        "colab_type": "code",
        "outputId": "89524fcd-2113-4e0d-f2ab-2389c529e1c6",
        "colab": {
          "base_uri": "https://localhost:8080/",
          "height": 243
        }
      },
      "source": [
        "df.county.isna()"
      ],
      "execution_count": 0,
      "outputs": [
        {
          "output_type": "execute_result",
          "data": {
            "text/plain": [
              "policyID\n",
              "119736    False\n",
              "448094    False\n",
              "206893    False\n",
              "333743    False\n",
              "172534    False\n",
              "          ...  \n",
              "329719    False\n",
              "419086    False\n",
              "390281    False\n",
              "795895    False\n",
              "891450    False\n",
              "Name: county, Length: 27888, dtype: bool"
            ]
          },
          "metadata": {
            "tags": []
          },
          "execution_count": 98
        }
      ]
    },
    {
      "cell_type": "code",
      "metadata": {
        "id": "hBLbfmwBFv4y",
        "colab_type": "code",
        "outputId": "a489e844-e11a-456a-a336-084f449cfc39",
        "colab": {
          "base_uri": "https://localhost:8080/",
          "height": 171
        }
      },
      "source": [
        "sample = pd.read_csv(\"/sample.csv\")\n",
        "sample"
      ],
      "execution_count": 0,
      "outputs": [
        {
          "output_type": "execute_result",
          "data": {
            "text/html": [
              "<div>\n",
              "<style scoped>\n",
              "    .dataframe tbody tr th:only-of-type {\n",
              "        vertical-align: middle;\n",
              "    }\n",
              "\n",
              "    .dataframe tbody tr th {\n",
              "        vertical-align: top;\n",
              "    }\n",
              "\n",
              "    .dataframe thead th {\n",
              "        text-align: right;\n",
              "    }\n",
              "</style>\n",
              "<table border=\"1\" class=\"dataframe\">\n",
              "  <thead>\n",
              "    <tr style=\"text-align: right;\">\n",
              "      <th></th>\n",
              "      <th>name</th>\n",
              "      <th>salary</th>\n",
              "      <th>year</th>\n",
              "    </tr>\n",
              "  </thead>\n",
              "  <tbody>\n",
              "    <tr>\n",
              "      <th>0</th>\n",
              "      <td>Raj Acharya</td>\n",
              "      <td>45000</td>\n",
              "      <td>2015</td>\n",
              "    </tr>\n",
              "    <tr>\n",
              "      <th>1</th>\n",
              "      <td>SaiTeja Ram</td>\n",
              "      <td>78000</td>\n",
              "      <td>2012</td>\n",
              "    </tr>\n",
              "    <tr>\n",
              "      <th>2</th>\n",
              "      <td>Hemendra Arya</td>\n",
              "      <td>32000</td>\n",
              "      <td>2018</td>\n",
              "    </tr>\n",
              "    <tr>\n",
              "      <th>3</th>\n",
              "      <td>Revanth Sundarm</td>\n",
              "      <td>15000</td>\n",
              "      <td>2019</td>\n",
              "    </tr>\n",
              "  </tbody>\n",
              "</table>\n",
              "</div>"
            ],
            "text/plain": [
              "              name  salary  year\n",
              "0      Raj Acharya   45000  2015\n",
              "1      SaiTeja Ram   78000  2012\n",
              "2    Hemendra Arya   32000  2018\n",
              "3  Revanth Sundarm   15000  2019"
            ]
          },
          "metadata": {
            "tags": []
          },
          "execution_count": 11
        }
      ]
    },
    {
      "cell_type": "code",
      "metadata": {
        "id": "MuiWwQlkFviY",
        "colab_type": "code",
        "outputId": "64f6cd5f-4790-403f-dff5-4406ceeeaa37",
        "colab": {
          "base_uri": "https://localhost:8080/",
          "height": 104
        }
      },
      "source": [
        "sample.salary.isna()"
      ],
      "execution_count": 0,
      "outputs": [
        {
          "output_type": "execute_result",
          "data": {
            "text/plain": [
              "0    False\n",
              "1    False\n",
              "2    False\n",
              "3    False\n",
              "Name: salary, dtype: bool"
            ]
          },
          "metadata": {
            "tags": []
          },
          "execution_count": 101
        }
      ]
    },
    {
      "cell_type": "code",
      "metadata": {
        "id": "hwsNZMBAFoid",
        "colab_type": "code",
        "outputId": "785d69bc-5802-4cc5-98f0-7a2ec7efb78c",
        "colab": {
          "base_uri": "https://localhost:8080/",
          "height": 104
        }
      },
      "source": [
        "sample.salary.isnull()"
      ],
      "execution_count": 0,
      "outputs": [
        {
          "output_type": "execute_result",
          "data": {
            "text/plain": [
              "0    False\n",
              "1    False\n",
              "2    False\n",
              "3    False\n",
              "Name: salary, dtype: bool"
            ]
          },
          "metadata": {
            "tags": []
          },
          "execution_count": 102
        }
      ]
    },
    {
      "cell_type": "code",
      "metadata": {
        "id": "vwghBm-cFott",
        "colab_type": "code",
        "outputId": "beaa413a-df0f-45eb-9a58-67eb3e3e296a",
        "colab": {
          "base_uri": "https://localhost:8080/",
          "height": 171
        }
      },
      "source": [
        "sample.isnull()"
      ],
      "execution_count": 0,
      "outputs": [
        {
          "output_type": "execute_result",
          "data": {
            "text/html": [
              "<div>\n",
              "<style scoped>\n",
              "    .dataframe tbody tr th:only-of-type {\n",
              "        vertical-align: middle;\n",
              "    }\n",
              "\n",
              "    .dataframe tbody tr th {\n",
              "        vertical-align: top;\n",
              "    }\n",
              "\n",
              "    .dataframe thead th {\n",
              "        text-align: right;\n",
              "    }\n",
              "</style>\n",
              "<table border=\"1\" class=\"dataframe\">\n",
              "  <thead>\n",
              "    <tr style=\"text-align: right;\">\n",
              "      <th></th>\n",
              "      <th>name</th>\n",
              "      <th>salary</th>\n",
              "      <th>year</th>\n",
              "    </tr>\n",
              "  </thead>\n",
              "  <tbody>\n",
              "    <tr>\n",
              "      <th>0</th>\n",
              "      <td>False</td>\n",
              "      <td>False</td>\n",
              "      <td>False</td>\n",
              "    </tr>\n",
              "    <tr>\n",
              "      <th>1</th>\n",
              "      <td>False</td>\n",
              "      <td>False</td>\n",
              "      <td>False</td>\n",
              "    </tr>\n",
              "    <tr>\n",
              "      <th>2</th>\n",
              "      <td>False</td>\n",
              "      <td>False</td>\n",
              "      <td>False</td>\n",
              "    </tr>\n",
              "    <tr>\n",
              "      <th>3</th>\n",
              "      <td>False</td>\n",
              "      <td>False</td>\n",
              "      <td>False</td>\n",
              "    </tr>\n",
              "  </tbody>\n",
              "</table>\n",
              "</div>"
            ],
            "text/plain": [
              "    name  salary   year\n",
              "0  False   False  False\n",
              "1  False   False  False\n",
              "2  False   False  False\n",
              "3  False   False  False"
            ]
          },
          "metadata": {
            "tags": []
          },
          "execution_count": 103
        }
      ]
    },
    {
      "cell_type": "code",
      "metadata": {
        "id": "DBYIVSzGFoqg",
        "colab_type": "code",
        "outputId": "254d0362-e5eb-4af8-f7ff-2254c0ffc1d1",
        "colab": {
          "base_uri": "https://localhost:8080/",
          "height": 171
        }
      },
      "source": [
        "sample.isna()"
      ],
      "execution_count": 0,
      "outputs": [
        {
          "output_type": "execute_result",
          "data": {
            "text/html": [
              "<div>\n",
              "<style scoped>\n",
              "    .dataframe tbody tr th:only-of-type {\n",
              "        vertical-align: middle;\n",
              "    }\n",
              "\n",
              "    .dataframe tbody tr th {\n",
              "        vertical-align: top;\n",
              "    }\n",
              "\n",
              "    .dataframe thead th {\n",
              "        text-align: right;\n",
              "    }\n",
              "</style>\n",
              "<table border=\"1\" class=\"dataframe\">\n",
              "  <thead>\n",
              "    <tr style=\"text-align: right;\">\n",
              "      <th></th>\n",
              "      <th>name</th>\n",
              "      <th>salary</th>\n",
              "      <th>year</th>\n",
              "    </tr>\n",
              "  </thead>\n",
              "  <tbody>\n",
              "    <tr>\n",
              "      <th>0</th>\n",
              "      <td>False</td>\n",
              "      <td>False</td>\n",
              "      <td>False</td>\n",
              "    </tr>\n",
              "    <tr>\n",
              "      <th>1</th>\n",
              "      <td>False</td>\n",
              "      <td>False</td>\n",
              "      <td>False</td>\n",
              "    </tr>\n",
              "    <tr>\n",
              "      <th>2</th>\n",
              "      <td>False</td>\n",
              "      <td>False</td>\n",
              "      <td>False</td>\n",
              "    </tr>\n",
              "    <tr>\n",
              "      <th>3</th>\n",
              "      <td>False</td>\n",
              "      <td>False</td>\n",
              "      <td>False</td>\n",
              "    </tr>\n",
              "  </tbody>\n",
              "</table>\n",
              "</div>"
            ],
            "text/plain": [
              "    name  salary   year\n",
              "0  False   False  False\n",
              "1  False   False  False\n",
              "2  False   False  False\n",
              "3  False   False  False"
            ]
          },
          "metadata": {
            "tags": []
          },
          "execution_count": 104
        }
      ]
    },
    {
      "cell_type": "code",
      "metadata": {
        "id": "-Nj4vskTE11k",
        "colab_type": "code",
        "outputId": "be1e336e-9e3d-47b0-9b7e-a269c5eb85ec",
        "colab": {
          "base_uri": "https://localhost:8080/",
          "height": 35
        }
      },
      "source": [
        "True+False+True # Number of true"
      ],
      "execution_count": 0,
      "outputs": [
        {
          "output_type": "execute_result",
          "data": {
            "text/plain": [
              "2"
            ]
          },
          "metadata": {
            "tags": []
          },
          "execution_count": 105
        }
      ]
    },
    {
      "cell_type": "code",
      "metadata": {
        "id": "R4vDDwv1H0pP",
        "colab_type": "code",
        "outputId": "2619810b-0e92-46c6-da8e-dfb848cf7a91",
        "colab": {
          "base_uri": "https://localhost:8080/",
          "height": 87
        }
      },
      "source": [
        "sample.isna().sum() # default axis=0"
      ],
      "execution_count": 0,
      "outputs": [
        {
          "output_type": "execute_result",
          "data": {
            "text/plain": [
              "name      0\n",
              "salary    0\n",
              "year      0\n",
              "dtype: int64"
            ]
          },
          "metadata": {
            "tags": []
          },
          "execution_count": 106
        }
      ]
    },
    {
      "cell_type": "code",
      "metadata": {
        "id": "fiL9SyzDH1FR",
        "colab_type": "code",
        "outputId": "8f55f742-aac0-4f2e-9f2e-a9afd986f288",
        "colab": {
          "base_uri": "https://localhost:8080/",
          "height": 104
        }
      },
      "source": [
        "sample.isna().sum(axis=1)"
      ],
      "execution_count": 0,
      "outputs": [
        {
          "output_type": "execute_result",
          "data": {
            "text/plain": [
              "0    0\n",
              "1    0\n",
              "2    0\n",
              "3    0\n",
              "dtype: int64"
            ]
          },
          "metadata": {
            "tags": []
          },
          "execution_count": 107
        }
      ]
    },
    {
      "cell_type": "code",
      "metadata": {
        "id": "RQYqrUp9H1aM",
        "colab_type": "code",
        "outputId": "d0916336-e9b8-4024-aca7-074778f3f0ba",
        "colab": {
          "base_uri": "https://localhost:8080/",
          "height": 49
        }
      },
      "source": [
        "sample[sample.salary.isna()]"
      ],
      "execution_count": 0,
      "outputs": [
        {
          "output_type": "execute_result",
          "data": {
            "text/html": [
              "<div>\n",
              "<style scoped>\n",
              "    .dataframe tbody tr th:only-of-type {\n",
              "        vertical-align: middle;\n",
              "    }\n",
              "\n",
              "    .dataframe tbody tr th {\n",
              "        vertical-align: top;\n",
              "    }\n",
              "\n",
              "    .dataframe thead th {\n",
              "        text-align: right;\n",
              "    }\n",
              "</style>\n",
              "<table border=\"1\" class=\"dataframe\">\n",
              "  <thead>\n",
              "    <tr style=\"text-align: right;\">\n",
              "      <th></th>\n",
              "      <th>name</th>\n",
              "      <th>salary</th>\n",
              "      <th>year</th>\n",
              "    </tr>\n",
              "  </thead>\n",
              "  <tbody>\n",
              "  </tbody>\n",
              "</table>\n",
              "</div>"
            ],
            "text/plain": [
              "Empty DataFrame\n",
              "Columns: [name, salary, year]\n",
              "Index: []"
            ]
          },
          "metadata": {
            "tags": []
          },
          "execution_count": 109
        }
      ]
    },
    {
      "cell_type": "code",
      "metadata": {
        "id": "AVaPnDcdH1Wy",
        "colab_type": "code",
        "outputId": "10c5c9fd-0462-47fc-a2ec-5f5c72744504",
        "colab": {
          "base_uri": "https://localhost:8080/",
          "height": 49
        }
      },
      "source": [
        "sample.loc[sample.salary.isna()]"
      ],
      "execution_count": 0,
      "outputs": [
        {
          "output_type": "execute_result",
          "data": {
            "text/html": [
              "<div>\n",
              "<style scoped>\n",
              "    .dataframe tbody tr th:only-of-type {\n",
              "        vertical-align: middle;\n",
              "    }\n",
              "\n",
              "    .dataframe tbody tr th {\n",
              "        vertical-align: top;\n",
              "    }\n",
              "\n",
              "    .dataframe thead th {\n",
              "        text-align: right;\n",
              "    }\n",
              "</style>\n",
              "<table border=\"1\" class=\"dataframe\">\n",
              "  <thead>\n",
              "    <tr style=\"text-align: right;\">\n",
              "      <th></th>\n",
              "      <th>name</th>\n",
              "      <th>salary</th>\n",
              "      <th>year</th>\n",
              "    </tr>\n",
              "  </thead>\n",
              "  <tbody>\n",
              "  </tbody>\n",
              "</table>\n",
              "</div>"
            ],
            "text/plain": [
              "Empty DataFrame\n",
              "Columns: [name, salary, year]\n",
              "Index: []"
            ]
          },
          "metadata": {
            "tags": []
          },
          "execution_count": 12
        }
      ]
    },
    {
      "cell_type": "markdown",
      "metadata": {
        "id": "yTnhX-V1IPco",
        "colab_type": "text"
      },
      "source": [
        "To remove columns"
      ]
    },
    {
      "cell_type": "code",
      "metadata": {
        "id": "5iWEj1SAG1IM",
        "colab_type": "code",
        "outputId": "ce4ff0bc-3c57-4485-9607-43fc3ab90970",
        "colab": {
          "base_uri": "https://localhost:8080/",
          "height": 171
        }
      },
      "source": [
        "# To remove a column with label salary\n",
        "sample.drop(\"salary\",axis=1)\n",
        "# inplace =TRue will overwrite the original column\n",
        "# sample = sample.drop(\"salary\",axis=1)"
      ],
      "execution_count": 0,
      "outputs": [
        {
          "output_type": "execute_result",
          "data": {
            "text/html": [
              "<div>\n",
              "<style scoped>\n",
              "    .dataframe tbody tr th:only-of-type {\n",
              "        vertical-align: middle;\n",
              "    }\n",
              "\n",
              "    .dataframe tbody tr th {\n",
              "        vertical-align: top;\n",
              "    }\n",
              "\n",
              "    .dataframe thead th {\n",
              "        text-align: right;\n",
              "    }\n",
              "</style>\n",
              "<table border=\"1\" class=\"dataframe\">\n",
              "  <thead>\n",
              "    <tr style=\"text-align: right;\">\n",
              "      <th></th>\n",
              "      <th>name</th>\n",
              "      <th>year</th>\n",
              "    </tr>\n",
              "  </thead>\n",
              "  <tbody>\n",
              "    <tr>\n",
              "      <th>0</th>\n",
              "      <td>Raj Acharya</td>\n",
              "      <td>2015</td>\n",
              "    </tr>\n",
              "    <tr>\n",
              "      <th>1</th>\n",
              "      <td>SaiTeja Ram</td>\n",
              "      <td>2012</td>\n",
              "    </tr>\n",
              "    <tr>\n",
              "      <th>2</th>\n",
              "      <td>Hemendra Arya</td>\n",
              "      <td>2018</td>\n",
              "    </tr>\n",
              "    <tr>\n",
              "      <th>3</th>\n",
              "      <td>Revanth Sundarm</td>\n",
              "      <td>2019</td>\n",
              "    </tr>\n",
              "  </tbody>\n",
              "</table>\n",
              "</div>"
            ],
            "text/plain": [
              "              name  year\n",
              "0      Raj Acharya  2015\n",
              "1      SaiTeja Ram  2012\n",
              "2    Hemendra Arya  2018\n",
              "3  Revanth Sundarm  2019"
            ]
          },
          "metadata": {
            "tags": []
          },
          "execution_count": 13
        }
      ]
    },
    {
      "cell_type": "code",
      "metadata": {
        "id": "gu8qV4HKH1B3",
        "colab_type": "code",
        "colab": {}
      },
      "source": [
        "# sample.drop(\"salary\")\n",
        "# sample.drop(\"hike\",axis=1)"
      ],
      "execution_count": 0,
      "outputs": []
    },
    {
      "cell_type": "code",
      "metadata": {
        "id": "EmjPqSISITOq",
        "colab_type": "code",
        "outputId": "9e72882c-c8ba-4caa-eb46-23e34d8456e2",
        "colab": {
          "base_uri": "https://localhost:8080/",
          "height": 171
        }
      },
      "source": [
        "# To remove columns with labels salary and year\n",
        "sample.drop([\"salary\",'year'],axis=1)"
      ],
      "execution_count": 0,
      "outputs": [
        {
          "output_type": "execute_result",
          "data": {
            "text/html": [
              "<div>\n",
              "<style scoped>\n",
              "    .dataframe tbody tr th:only-of-type {\n",
              "        vertical-align: middle;\n",
              "    }\n",
              "\n",
              "    .dataframe tbody tr th {\n",
              "        vertical-align: top;\n",
              "    }\n",
              "\n",
              "    .dataframe thead th {\n",
              "        text-align: right;\n",
              "    }\n",
              "</style>\n",
              "<table border=\"1\" class=\"dataframe\">\n",
              "  <thead>\n",
              "    <tr style=\"text-align: right;\">\n",
              "      <th></th>\n",
              "      <th>name</th>\n",
              "    </tr>\n",
              "  </thead>\n",
              "  <tbody>\n",
              "    <tr>\n",
              "      <th>0</th>\n",
              "      <td>Raj Acharya</td>\n",
              "    </tr>\n",
              "    <tr>\n",
              "      <th>1</th>\n",
              "      <td>SaiTeja Ram</td>\n",
              "    </tr>\n",
              "    <tr>\n",
              "      <th>2</th>\n",
              "      <td>Hemendra Arya</td>\n",
              "    </tr>\n",
              "    <tr>\n",
              "      <th>3</th>\n",
              "      <td>Revanth Sundarm</td>\n",
              "    </tr>\n",
              "  </tbody>\n",
              "</table>\n",
              "</div>"
            ],
            "text/plain": [
              "              name\n",
              "0      Raj Acharya\n",
              "1      SaiTeja Ram\n",
              "2    Hemendra Arya\n",
              "3  Revanth Sundarm"
            ]
          },
          "metadata": {
            "tags": []
          },
          "execution_count": 16
        }
      ]
    },
    {
      "cell_type": "code",
      "metadata": {
        "id": "p3Nc9BrcITIi",
        "colab_type": "code",
        "outputId": "6d6a6631-6927-46ce-f4d1-9a3f2f2b9e18",
        "colab": {
          "base_uri": "https://localhost:8080/",
          "height": 110
        }
      },
      "source": [
        "# To remove columns with indices 1 and 2\n",
        "sample.drop(index = [1,2],axis=1)"
      ],
      "execution_count": 0,
      "outputs": [
        {
          "output_type": "execute_result",
          "data": {
            "text/html": [
              "<div>\n",
              "<style scoped>\n",
              "    .dataframe tbody tr th:only-of-type {\n",
              "        vertical-align: middle;\n",
              "    }\n",
              "\n",
              "    .dataframe tbody tr th {\n",
              "        vertical-align: top;\n",
              "    }\n",
              "\n",
              "    .dataframe thead th {\n",
              "        text-align: right;\n",
              "    }\n",
              "</style>\n",
              "<table border=\"1\" class=\"dataframe\">\n",
              "  <thead>\n",
              "    <tr style=\"text-align: right;\">\n",
              "      <th></th>\n",
              "      <th>name</th>\n",
              "      <th>salary</th>\n",
              "      <th>year</th>\n",
              "    </tr>\n",
              "  </thead>\n",
              "  <tbody>\n",
              "    <tr>\n",
              "      <th>0</th>\n",
              "      <td>Raj Acharya</td>\n",
              "      <td>45000</td>\n",
              "      <td>2015</td>\n",
              "    </tr>\n",
              "    <tr>\n",
              "      <th>3</th>\n",
              "      <td>Revanth Sundarm</td>\n",
              "      <td>15000</td>\n",
              "      <td>2019</td>\n",
              "    </tr>\n",
              "  </tbody>\n",
              "</table>\n",
              "</div>"
            ],
            "text/plain": [
              "              name  salary  year\n",
              "0      Raj Acharya   45000  2015\n",
              "3  Revanth Sundarm   15000  2019"
            ]
          },
          "metadata": {
            "tags": []
          },
          "execution_count": 17
        }
      ]
    },
    {
      "cell_type": "code",
      "metadata": {
        "id": "rAkmUP6BITCj",
        "colab_type": "code",
        "outputId": "d576ca93-b6c8-4122-c889-4d5d85b29ffb",
        "colab": {
          "base_uri": "https://localhost:8080/",
          "height": 171
        }
      },
      "source": [
        "sample"
      ],
      "execution_count": 0,
      "outputs": [
        {
          "output_type": "execute_result",
          "data": {
            "text/html": [
              "<div>\n",
              "<style scoped>\n",
              "    .dataframe tbody tr th:only-of-type {\n",
              "        vertical-align: middle;\n",
              "    }\n",
              "\n",
              "    .dataframe tbody tr th {\n",
              "        vertical-align: top;\n",
              "    }\n",
              "\n",
              "    .dataframe thead th {\n",
              "        text-align: right;\n",
              "    }\n",
              "</style>\n",
              "<table border=\"1\" class=\"dataframe\">\n",
              "  <thead>\n",
              "    <tr style=\"text-align: right;\">\n",
              "      <th></th>\n",
              "      <th>name</th>\n",
              "      <th>salary</th>\n",
              "      <th>year</th>\n",
              "    </tr>\n",
              "  </thead>\n",
              "  <tbody>\n",
              "    <tr>\n",
              "      <th>0</th>\n",
              "      <td>Raj Acharya</td>\n",
              "      <td>45000</td>\n",
              "      <td>2015</td>\n",
              "    </tr>\n",
              "    <tr>\n",
              "      <th>1</th>\n",
              "      <td>SaiTeja Ram</td>\n",
              "      <td>78000</td>\n",
              "      <td>2012</td>\n",
              "    </tr>\n",
              "    <tr>\n",
              "      <th>2</th>\n",
              "      <td>Hemendra Arya</td>\n",
              "      <td>32000</td>\n",
              "      <td>2018</td>\n",
              "    </tr>\n",
              "    <tr>\n",
              "      <th>3</th>\n",
              "      <td>Revanth Sundarm</td>\n",
              "      <td>15000</td>\n",
              "      <td>2019</td>\n",
              "    </tr>\n",
              "  </tbody>\n",
              "</table>\n",
              "</div>"
            ],
            "text/plain": [
              "              name  salary  year\n",
              "0      Raj Acharya   45000  2015\n",
              "1      SaiTeja Ram   78000  2012\n",
              "2    Hemendra Arya   32000  2018\n",
              "3  Revanth Sundarm   15000  2019"
            ]
          },
          "metadata": {
            "tags": []
          },
          "execution_count": 18
        }
      ]
    },
    {
      "cell_type": "code",
      "metadata": {
        "id": "c4kpv-t0IS-4",
        "colab_type": "code",
        "outputId": "6273db09-e7f7-42b0-a356-a7abcf11d1e2",
        "colab": {
          "base_uri": "https://localhost:8080/",
          "height": 1000
        }
      },
      "source": [
        "help(sample.drop)"
      ],
      "execution_count": 0,
      "outputs": [
        {
          "output_type": "stream",
          "text": [
            "Help on method drop in module pandas.core.frame:\n",
            "\n",
            "drop(labels=None, axis=0, index=None, columns=None, level=None, inplace=False, errors='raise') method of pandas.core.frame.DataFrame instance\n",
            "    Drop specified labels from rows or columns.\n",
            "    \n",
            "    Remove rows or columns by specifying label names and corresponding\n",
            "    axis, or by specifying directly index or column names. When using a\n",
            "    multi-index, labels on different levels can be removed by specifying\n",
            "    the level.\n",
            "    \n",
            "    Parameters\n",
            "    ----------\n",
            "    labels : single label or list-like\n",
            "        Index or column labels to drop.\n",
            "    axis : {0 or 'index', 1 or 'columns'}, default 0\n",
            "        Whether to drop labels from the index (0 or 'index') or\n",
            "        columns (1 or 'columns').\n",
            "    index : single label or list-like\n",
            "        Alternative to specifying axis (``labels, axis=0``\n",
            "        is equivalent to ``index=labels``).\n",
            "    \n",
            "        .. versionadded:: 0.21.0\n",
            "    columns : single label or list-like\n",
            "        Alternative to specifying axis (``labels, axis=1``\n",
            "        is equivalent to ``columns=labels``).\n",
            "    \n",
            "        .. versionadded:: 0.21.0\n",
            "    level : int or level name, optional\n",
            "        For MultiIndex, level from which the labels will be removed.\n",
            "    inplace : bool, default False\n",
            "        If True, do operation inplace and return None.\n",
            "    errors : {'ignore', 'raise'}, default 'raise'\n",
            "        If 'ignore', suppress error and only existing labels are\n",
            "        dropped.\n",
            "    \n",
            "    Returns\n",
            "    -------\n",
            "    DataFrame\n",
            "        DataFrame without the removed index or column labels.\n",
            "    \n",
            "    Raises\n",
            "    ------\n",
            "    KeyError\n",
            "        If any of the labels is not found in the selected axis.\n",
            "    \n",
            "    See Also\n",
            "    --------\n",
            "    DataFrame.loc : Label-location based indexer for selection by label.\n",
            "    DataFrame.dropna : Return DataFrame with labels on given axis omitted\n",
            "        where (all or any) data are missing.\n",
            "    DataFrame.drop_duplicates : Return DataFrame with duplicate rows\n",
            "        removed, optionally only considering certain columns.\n",
            "    Series.drop : Return Series with specified index labels removed.\n",
            "    \n",
            "    Examples\n",
            "    --------\n",
            "    >>> df = pd.DataFrame(np.arange(12).reshape(3, 4),\n",
            "    ...                   columns=['A', 'B', 'C', 'D'])\n",
            "    >>> df\n",
            "       A  B   C   D\n",
            "    0  0  1   2   3\n",
            "    1  4  5   6   7\n",
            "    2  8  9  10  11\n",
            "    \n",
            "    Drop columns\n",
            "    \n",
            "    >>> df.drop(['B', 'C'], axis=1)\n",
            "       A   D\n",
            "    0  0   3\n",
            "    1  4   7\n",
            "    2  8  11\n",
            "    \n",
            "    >>> df.drop(columns=['B', 'C'])\n",
            "       A   D\n",
            "    0  0   3\n",
            "    1  4   7\n",
            "    2  8  11\n",
            "    \n",
            "    Drop a row by index\n",
            "    \n",
            "    >>> df.drop([0, 1])\n",
            "       A  B   C   D\n",
            "    2  8  9  10  11\n",
            "    \n",
            "    Drop columns and/or rows of MultiIndex DataFrame\n",
            "    \n",
            "    >>> midx = pd.MultiIndex(levels=[['lama', 'cow', 'falcon'],\n",
            "    ...                              ['speed', 'weight', 'length']],\n",
            "    ...                      codes=[[0, 0, 0, 1, 1, 1, 2, 2, 2],\n",
            "    ...                             [0, 1, 2, 0, 1, 2, 0, 1, 2]])\n",
            "    >>> df = pd.DataFrame(index=midx, columns=['big', 'small'],\n",
            "    ...                   data=[[45, 30], [200, 100], [1.5, 1], [30, 20],\n",
            "    ...                         [250, 150], [1.5, 0.8], [320, 250],\n",
            "    ...                         [1, 0.8], [0.3, 0.2]])\n",
            "    >>> df\n",
            "                    big     small\n",
            "    lama    speed   45.0    30.0\n",
            "            weight  200.0   100.0\n",
            "            length  1.5     1.0\n",
            "    cow     speed   30.0    20.0\n",
            "            weight  250.0   150.0\n",
            "            length  1.5     0.8\n",
            "    falcon  speed   320.0   250.0\n",
            "            weight  1.0     0.8\n",
            "            length  0.3     0.2\n",
            "    \n",
            "    >>> df.drop(index='cow', columns='small')\n",
            "                    big\n",
            "    lama    speed   45.0\n",
            "            weight  200.0\n",
            "            length  1.5\n",
            "    falcon  speed   320.0\n",
            "            weight  1.0\n",
            "            length  0.3\n",
            "    \n",
            "    >>> df.drop(index='length', level=1)\n",
            "                    big     small\n",
            "    lama    speed   45.0    30.0\n",
            "            weight  200.0   100.0\n",
            "    cow     speed   30.0    20.0\n",
            "            weight  250.0   150.0\n",
            "    falcon  speed   320.0   250.0\n",
            "            weight  1.0     0.8\n",
            "\n"
          ],
          "name": "stdout"
        }
      ]
    },
    {
      "cell_type": "markdown",
      "metadata": {
        "id": "quVoq_PKOI0B",
        "colab_type": "text"
      },
      "source": [
        "**To remove rows**"
      ]
    },
    {
      "cell_type": "code",
      "metadata": {
        "id": "rnte63wROLjI",
        "colab_type": "code",
        "outputId": "e5ee5872-aaed-44b6-f305-04628e1a7c68",
        "colab": {
          "base_uri": "https://localhost:8080/",
          "height": 110
        }
      },
      "source": [
        "# To remove rows with lables 0 and 1\n",
        "sample.drop([0,1],axis=0)"
      ],
      "execution_count": 0,
      "outputs": [
        {
          "output_type": "execute_result",
          "data": {
            "text/html": [
              "<div>\n",
              "<style scoped>\n",
              "    .dataframe tbody tr th:only-of-type {\n",
              "        vertical-align: middle;\n",
              "    }\n",
              "\n",
              "    .dataframe tbody tr th {\n",
              "        vertical-align: top;\n",
              "    }\n",
              "\n",
              "    .dataframe thead th {\n",
              "        text-align: right;\n",
              "    }\n",
              "</style>\n",
              "<table border=\"1\" class=\"dataframe\">\n",
              "  <thead>\n",
              "    <tr style=\"text-align: right;\">\n",
              "      <th></th>\n",
              "      <th>name</th>\n",
              "      <th>salary</th>\n",
              "      <th>year</th>\n",
              "    </tr>\n",
              "  </thead>\n",
              "  <tbody>\n",
              "    <tr>\n",
              "      <th>2</th>\n",
              "      <td>Hemendra Arya</td>\n",
              "      <td>32000</td>\n",
              "      <td>2018</td>\n",
              "    </tr>\n",
              "    <tr>\n",
              "      <th>3</th>\n",
              "      <td>Revanth Sundarm</td>\n",
              "      <td>15000</td>\n",
              "      <td>2019</td>\n",
              "    </tr>\n",
              "  </tbody>\n",
              "</table>\n",
              "</div>"
            ],
            "text/plain": [
              "              name  salary  year\n",
              "2    Hemendra Arya   32000  2018\n",
              "3  Revanth Sundarm   15000  2019"
            ]
          },
          "metadata": {
            "tags": []
          },
          "execution_count": 20
        }
      ]
    },
    {
      "cell_type": "code",
      "metadata": {
        "id": "0HesnnunOM8O",
        "colab_type": "code",
        "outputId": "560651ea-4ce1-4a15-83a8-d31a3147a57a",
        "colab": {
          "base_uri": "https://localhost:8080/",
          "height": 110
        }
      },
      "source": [
        "# To remove rows with indices 0 and 1\n",
        "sample.drop(index = [0,1],axis=0)"
      ],
      "execution_count": 0,
      "outputs": [
        {
          "output_type": "execute_result",
          "data": {
            "text/html": [
              "<div>\n",
              "<style scoped>\n",
              "    .dataframe tbody tr th:only-of-type {\n",
              "        vertical-align: middle;\n",
              "    }\n",
              "\n",
              "    .dataframe tbody tr th {\n",
              "        vertical-align: top;\n",
              "    }\n",
              "\n",
              "    .dataframe thead th {\n",
              "        text-align: right;\n",
              "    }\n",
              "</style>\n",
              "<table border=\"1\" class=\"dataframe\">\n",
              "  <thead>\n",
              "    <tr style=\"text-align: right;\">\n",
              "      <th></th>\n",
              "      <th>name</th>\n",
              "      <th>salary</th>\n",
              "      <th>year</th>\n",
              "    </tr>\n",
              "  </thead>\n",
              "  <tbody>\n",
              "    <tr>\n",
              "      <th>2</th>\n",
              "      <td>Hemendra Arya</td>\n",
              "      <td>32000</td>\n",
              "      <td>2018</td>\n",
              "    </tr>\n",
              "    <tr>\n",
              "      <th>3</th>\n",
              "      <td>Revanth Sundarm</td>\n",
              "      <td>15000</td>\n",
              "      <td>2019</td>\n",
              "    </tr>\n",
              "  </tbody>\n",
              "</table>\n",
              "</div>"
            ],
            "text/plain": [
              "              name  salary  year\n",
              "2    Hemendra Arya   32000  2018\n",
              "3  Revanth Sundarm   15000  2019"
            ]
          },
          "metadata": {
            "tags": []
          },
          "execution_count": 21
        }
      ]
    },
    {
      "cell_type": "code",
      "metadata": {
        "id": "nizAMpf8OM4t",
        "colab_type": "code",
        "outputId": "1b46e136-6e7c-422b-cd67-72a6e78cad65",
        "colab": {
          "base_uri": "https://localhost:8080/",
          "height": 141
        }
      },
      "source": [
        "# To remove a single row with index 3\n",
        "sample.drop(3,axis=0)"
      ],
      "execution_count": 0,
      "outputs": [
        {
          "output_type": "execute_result",
          "data": {
            "text/html": [
              "<div>\n",
              "<style scoped>\n",
              "    .dataframe tbody tr th:only-of-type {\n",
              "        vertical-align: middle;\n",
              "    }\n",
              "\n",
              "    .dataframe tbody tr th {\n",
              "        vertical-align: top;\n",
              "    }\n",
              "\n",
              "    .dataframe thead th {\n",
              "        text-align: right;\n",
              "    }\n",
              "</style>\n",
              "<table border=\"1\" class=\"dataframe\">\n",
              "  <thead>\n",
              "    <tr style=\"text-align: right;\">\n",
              "      <th></th>\n",
              "      <th>name</th>\n",
              "      <th>salary</th>\n",
              "      <th>year</th>\n",
              "    </tr>\n",
              "  </thead>\n",
              "  <tbody>\n",
              "    <tr>\n",
              "      <th>0</th>\n",
              "      <td>Raj Acharya</td>\n",
              "      <td>45000</td>\n",
              "      <td>2015</td>\n",
              "    </tr>\n",
              "    <tr>\n",
              "      <th>1</th>\n",
              "      <td>SaiTeja Ram</td>\n",
              "      <td>78000</td>\n",
              "      <td>2012</td>\n",
              "    </tr>\n",
              "    <tr>\n",
              "      <th>2</th>\n",
              "      <td>Hemendra Arya</td>\n",
              "      <td>32000</td>\n",
              "      <td>2018</td>\n",
              "    </tr>\n",
              "  </tbody>\n",
              "</table>\n",
              "</div>"
            ],
            "text/plain": [
              "            name  salary  year\n",
              "0    Raj Acharya   45000  2015\n",
              "1    SaiTeja Ram   78000  2012\n",
              "2  Hemendra Arya   32000  2018"
            ]
          },
          "metadata": {
            "tags": []
          },
          "execution_count": 22
        }
      ]
    },
    {
      "cell_type": "code",
      "metadata": {
        "id": "m5ZlmKSKOM1W",
        "colab_type": "code",
        "colab": {}
      },
      "source": [
        "#sample.drop(index=5,axis=0)"
      ],
      "execution_count": 0,
      "outputs": []
    },
    {
      "cell_type": "code",
      "metadata": {
        "id": "6cAP7wyqOMwh",
        "colab_type": "code",
        "outputId": "84a82f56-510e-4b85-c638-1c808c4b234b",
        "colab": {
          "base_uri": "https://localhost:8080/",
          "height": 171
        }
      },
      "source": [
        "sample.dropna() # Removes the rows where we have missing values"
      ],
      "execution_count": 0,
      "outputs": [
        {
          "output_type": "execute_result",
          "data": {
            "text/html": [
              "<div>\n",
              "<style scoped>\n",
              "    .dataframe tbody tr th:only-of-type {\n",
              "        vertical-align: middle;\n",
              "    }\n",
              "\n",
              "    .dataframe tbody tr th {\n",
              "        vertical-align: top;\n",
              "    }\n",
              "\n",
              "    .dataframe thead th {\n",
              "        text-align: right;\n",
              "    }\n",
              "</style>\n",
              "<table border=\"1\" class=\"dataframe\">\n",
              "  <thead>\n",
              "    <tr style=\"text-align: right;\">\n",
              "      <th></th>\n",
              "      <th>name</th>\n",
              "      <th>salary</th>\n",
              "      <th>year</th>\n",
              "    </tr>\n",
              "  </thead>\n",
              "  <tbody>\n",
              "    <tr>\n",
              "      <th>0</th>\n",
              "      <td>Raj Acharya</td>\n",
              "      <td>45000</td>\n",
              "      <td>2015</td>\n",
              "    </tr>\n",
              "    <tr>\n",
              "      <th>1</th>\n",
              "      <td>SaiTeja Ram</td>\n",
              "      <td>78000</td>\n",
              "      <td>2012</td>\n",
              "    </tr>\n",
              "    <tr>\n",
              "      <th>2</th>\n",
              "      <td>Hemendra Arya</td>\n",
              "      <td>32000</td>\n",
              "      <td>2018</td>\n",
              "    </tr>\n",
              "    <tr>\n",
              "      <th>3</th>\n",
              "      <td>Revanth Sundarm</td>\n",
              "      <td>15000</td>\n",
              "      <td>2019</td>\n",
              "    </tr>\n",
              "  </tbody>\n",
              "</table>\n",
              "</div>"
            ],
            "text/plain": [
              "              name  salary  year\n",
              "0      Raj Acharya   45000  2015\n",
              "1      SaiTeja Ram   78000  2012\n",
              "2    Hemendra Arya   32000  2018\n",
              "3  Revanth Sundarm   15000  2019"
            ]
          },
          "metadata": {
            "tags": []
          },
          "execution_count": 24
        }
      ]
    },
    {
      "cell_type": "code",
      "metadata": {
        "id": "rNOhEBbJO_vE",
        "colab_type": "code",
        "outputId": "1c727e1d-801f-4e61-faa8-2de6814a23f1",
        "colab": {
          "base_uri": "https://localhost:8080/",
          "height": 171
        }
      },
      "source": [
        "sample.dropna(axis=1) # Removes the columns where we have missing values"
      ],
      "execution_count": 0,
      "outputs": [
        {
          "output_type": "execute_result",
          "data": {
            "text/html": [
              "<div>\n",
              "<style scoped>\n",
              "    .dataframe tbody tr th:only-of-type {\n",
              "        vertical-align: middle;\n",
              "    }\n",
              "\n",
              "    .dataframe tbody tr th {\n",
              "        vertical-align: top;\n",
              "    }\n",
              "\n",
              "    .dataframe thead th {\n",
              "        text-align: right;\n",
              "    }\n",
              "</style>\n",
              "<table border=\"1\" class=\"dataframe\">\n",
              "  <thead>\n",
              "    <tr style=\"text-align: right;\">\n",
              "      <th></th>\n",
              "      <th>name</th>\n",
              "      <th>salary</th>\n",
              "      <th>year</th>\n",
              "    </tr>\n",
              "  </thead>\n",
              "  <tbody>\n",
              "    <tr>\n",
              "      <th>0</th>\n",
              "      <td>Raj Acharya</td>\n",
              "      <td>45000</td>\n",
              "      <td>2015</td>\n",
              "    </tr>\n",
              "    <tr>\n",
              "      <th>1</th>\n",
              "      <td>SaiTeja Ram</td>\n",
              "      <td>78000</td>\n",
              "      <td>2012</td>\n",
              "    </tr>\n",
              "    <tr>\n",
              "      <th>2</th>\n",
              "      <td>Hemendra Arya</td>\n",
              "      <td>32000</td>\n",
              "      <td>2018</td>\n",
              "    </tr>\n",
              "    <tr>\n",
              "      <th>3</th>\n",
              "      <td>Revanth Sundarm</td>\n",
              "      <td>15000</td>\n",
              "      <td>2019</td>\n",
              "    </tr>\n",
              "  </tbody>\n",
              "</table>\n",
              "</div>"
            ],
            "text/plain": [
              "              name  salary  year\n",
              "0      Raj Acharya   45000  2015\n",
              "1      SaiTeja Ram   78000  2012\n",
              "2    Hemendra Arya   32000  2018\n",
              "3  Revanth Sundarm   15000  2019"
            ]
          },
          "metadata": {
            "tags": []
          },
          "execution_count": 25
        }
      ]
    },
    {
      "cell_type": "code",
      "metadata": {
        "id": "qqAEO3DLPBA1",
        "colab_type": "code",
        "outputId": "bd1be1f0-0c58-4e6b-cf04-13f6f914bc99",
        "colab": {
          "base_uri": "https://localhost:8080/",
          "height": 104
        }
      },
      "source": [
        "sample.salary.dropna()"
      ],
      "execution_count": 0,
      "outputs": [
        {
          "output_type": "execute_result",
          "data": {
            "text/plain": [
              "0    45000\n",
              "1    78000\n",
              "2    32000\n",
              "3    15000\n",
              "Name: salary, dtype: int64"
            ]
          },
          "metadata": {
            "tags": []
          },
          "execution_count": 26
        }
      ]
    },
    {
      "cell_type": "markdown",
      "metadata": {
        "id": "x2__BjwdPYZg",
        "colab_type": "text"
      },
      "source": [
        "**To fill the missing value with 0**"
      ]
    },
    {
      "cell_type": "code",
      "metadata": {
        "id": "a1DG3_taPA4R",
        "colab_type": "code",
        "outputId": "c2add87b-8839-465d-c382-1bcc5381e010",
        "colab": {
          "base_uri": "https://localhost:8080/",
          "height": 171
        }
      },
      "source": [
        "sample.fillna(0)"
      ],
      "execution_count": 0,
      "outputs": [
        {
          "output_type": "execute_result",
          "data": {
            "text/html": [
              "<div>\n",
              "<style scoped>\n",
              "    .dataframe tbody tr th:only-of-type {\n",
              "        vertical-align: middle;\n",
              "    }\n",
              "\n",
              "    .dataframe tbody tr th {\n",
              "        vertical-align: top;\n",
              "    }\n",
              "\n",
              "    .dataframe thead th {\n",
              "        text-align: right;\n",
              "    }\n",
              "</style>\n",
              "<table border=\"1\" class=\"dataframe\">\n",
              "  <thead>\n",
              "    <tr style=\"text-align: right;\">\n",
              "      <th></th>\n",
              "      <th>name</th>\n",
              "      <th>salary</th>\n",
              "      <th>year</th>\n",
              "    </tr>\n",
              "  </thead>\n",
              "  <tbody>\n",
              "    <tr>\n",
              "      <th>0</th>\n",
              "      <td>Raj Acharya</td>\n",
              "      <td>45000</td>\n",
              "      <td>2015</td>\n",
              "    </tr>\n",
              "    <tr>\n",
              "      <th>1</th>\n",
              "      <td>SaiTeja Ram</td>\n",
              "      <td>78000</td>\n",
              "      <td>2012</td>\n",
              "    </tr>\n",
              "    <tr>\n",
              "      <th>2</th>\n",
              "      <td>Hemendra Arya</td>\n",
              "      <td>32000</td>\n",
              "      <td>2018</td>\n",
              "    </tr>\n",
              "    <tr>\n",
              "      <th>3</th>\n",
              "      <td>Revanth Sundarm</td>\n",
              "      <td>15000</td>\n",
              "      <td>2019</td>\n",
              "    </tr>\n",
              "  </tbody>\n",
              "</table>\n",
              "</div>"
            ],
            "text/plain": [
              "              name  salary  year\n",
              "0      Raj Acharya   45000  2015\n",
              "1      SaiTeja Ram   78000  2012\n",
              "2    Hemendra Arya   32000  2018\n",
              "3  Revanth Sundarm   15000  2019"
            ]
          },
          "metadata": {
            "tags": []
          },
          "execution_count": 31
        }
      ]
    },
    {
      "cell_type": "code",
      "metadata": {
        "id": "EAaXdcSIPAvM",
        "colab_type": "code",
        "outputId": "a7e7e10f-de61-4d60-9c0d-fae7bc3d7b46",
        "colab": {
          "base_uri": "https://localhost:8080/",
          "height": 104
        }
      },
      "source": [
        "sample.salary.fillna(0)\n",
        "# sample.salary = sample.salary.fillna(0)"
      ],
      "execution_count": 0,
      "outputs": [
        {
          "output_type": "execute_result",
          "data": {
            "text/plain": [
              "0    45000\n",
              "1    78000\n",
              "2    32000\n",
              "3    15000\n",
              "Name: salary, dtype: int64"
            ]
          },
          "metadata": {
            "tags": []
          },
          "execution_count": 29
        }
      ]
    },
    {
      "cell_type": "markdown",
      "metadata": {
        "id": "1vKaXs-VQNkx",
        "colab_type": "text"
      },
      "source": [
        "**Fill the missing value with mean**"
      ]
    },
    {
      "cell_type": "code",
      "metadata": {
        "id": "reYsLfJ4PAoF",
        "colab_type": "code",
        "outputId": "d527f673-cdfe-45ee-ec8b-5d5cb8051e66",
        "colab": {
          "base_uri": "https://localhost:8080/",
          "height": 121
        }
      },
      "source": [
        "m =  sample.salary.mean()\n",
        "print(m)\n",
        "sample.salary.fillna(m)"
      ],
      "execution_count": 0,
      "outputs": [
        {
          "output_type": "stream",
          "text": [
            "42500.0\n"
          ],
          "name": "stdout"
        },
        {
          "output_type": "execute_result",
          "data": {
            "text/plain": [
              "0    45000\n",
              "1    78000\n",
              "2    32000\n",
              "3    15000\n",
              "Name: salary, dtype: int64"
            ]
          },
          "metadata": {
            "tags": []
          },
          "execution_count": 32
        }
      ]
    },
    {
      "cell_type": "code",
      "metadata": {
        "id": "r5JKT4KgPAjX",
        "colab_type": "code",
        "outputId": "5a9012bc-c40d-4008-e6f9-109af891eb44",
        "colab": {
          "base_uri": "https://localhost:8080/",
          "height": 35
        }
      },
      "source": [
        "# Total Missing value count in the data\n",
        "sample.isnull().sum().sum()"
      ],
      "execution_count": 0,
      "outputs": [
        {
          "output_type": "execute_result",
          "data": {
            "text/plain": [
              "0"
            ]
          },
          "metadata": {
            "tags": []
          },
          "execution_count": 33
        }
      ]
    },
    {
      "cell_type": "code",
      "metadata": {
        "id": "W2JBK61-PAdY",
        "colab_type": "code",
        "outputId": "6136d3c7-3604-47bf-c545-8c6eb2509f09",
        "colab": {
          "base_uri": "https://localhost:8080/",
          "height": 35
        }
      },
      "source": [
        "# To get misisng value count in a column\n",
        "sample.salary.isnull().sum()"
      ],
      "execution_count": 0,
      "outputs": [
        {
          "output_type": "execute_result",
          "data": {
            "text/plain": [
              "0"
            ]
          },
          "metadata": {
            "tags": []
          },
          "execution_count": 34
        }
      ]
    },
    {
      "cell_type": "code",
      "metadata": {
        "id": "4p4BJ9j4PAYD",
        "colab_type": "code",
        "outputId": "c82a1fb3-8e06-4fd6-a444-632c05869bbf",
        "colab": {
          "base_uri": "https://localhost:8080/",
          "height": 171
        }
      },
      "source": [
        "sample"
      ],
      "execution_count": 0,
      "outputs": [
        {
          "output_type": "execute_result",
          "data": {
            "text/html": [
              "<div>\n",
              "<style scoped>\n",
              "    .dataframe tbody tr th:only-of-type {\n",
              "        vertical-align: middle;\n",
              "    }\n",
              "\n",
              "    .dataframe tbody tr th {\n",
              "        vertical-align: top;\n",
              "    }\n",
              "\n",
              "    .dataframe thead th {\n",
              "        text-align: right;\n",
              "    }\n",
              "</style>\n",
              "<table border=\"1\" class=\"dataframe\">\n",
              "  <thead>\n",
              "    <tr style=\"text-align: right;\">\n",
              "      <th></th>\n",
              "      <th>name</th>\n",
              "      <th>salary</th>\n",
              "      <th>year</th>\n",
              "    </tr>\n",
              "  </thead>\n",
              "  <tbody>\n",
              "    <tr>\n",
              "      <th>0</th>\n",
              "      <td>Raj Acharya</td>\n",
              "      <td>45000</td>\n",
              "      <td>2015</td>\n",
              "    </tr>\n",
              "    <tr>\n",
              "      <th>1</th>\n",
              "      <td>SaiTeja Ram</td>\n",
              "      <td>78000</td>\n",
              "      <td>2012</td>\n",
              "    </tr>\n",
              "    <tr>\n",
              "      <th>2</th>\n",
              "      <td>Hemendra Arya</td>\n",
              "      <td>32000</td>\n",
              "      <td>2018</td>\n",
              "    </tr>\n",
              "    <tr>\n",
              "      <th>3</th>\n",
              "      <td>Revanth Sundarm</td>\n",
              "      <td>15000</td>\n",
              "      <td>2019</td>\n",
              "    </tr>\n",
              "  </tbody>\n",
              "</table>\n",
              "</div>"
            ],
            "text/plain": [
              "              name  salary  year\n",
              "0      Raj Acharya   45000  2015\n",
              "1      SaiTeja Ram   78000  2012\n",
              "2    Hemendra Arya   32000  2018\n",
              "3  Revanth Sundarm   15000  2019"
            ]
          },
          "metadata": {
            "tags": []
          },
          "execution_count": 35
        }
      ]
    },
    {
      "cell_type": "code",
      "metadata": {
        "id": "KZz_WWuzPAR8",
        "colab_type": "code",
        "outputId": "2ed6d1a0-02dd-4573-92fb-60eb494d47da",
        "colab": {
          "base_uri": "https://localhost:8080/",
          "height": 171
        }
      },
      "source": [
        "sample_out = sample.copy()\n",
        "sample_out['salary'] = sample_out.salary.fillna(sample_out.salary.mean())\n",
        "sample_out"
      ],
      "execution_count": 0,
      "outputs": [
        {
          "output_type": "execute_result",
          "data": {
            "text/html": [
              "<div>\n",
              "<style scoped>\n",
              "    .dataframe tbody tr th:only-of-type {\n",
              "        vertical-align: middle;\n",
              "    }\n",
              "\n",
              "    .dataframe tbody tr th {\n",
              "        vertical-align: top;\n",
              "    }\n",
              "\n",
              "    .dataframe thead th {\n",
              "        text-align: right;\n",
              "    }\n",
              "</style>\n",
              "<table border=\"1\" class=\"dataframe\">\n",
              "  <thead>\n",
              "    <tr style=\"text-align: right;\">\n",
              "      <th></th>\n",
              "      <th>name</th>\n",
              "      <th>salary</th>\n",
              "      <th>year</th>\n",
              "    </tr>\n",
              "  </thead>\n",
              "  <tbody>\n",
              "    <tr>\n",
              "      <th>0</th>\n",
              "      <td>Raj Acharya</td>\n",
              "      <td>45000</td>\n",
              "      <td>2015</td>\n",
              "    </tr>\n",
              "    <tr>\n",
              "      <th>1</th>\n",
              "      <td>SaiTeja Ram</td>\n",
              "      <td>78000</td>\n",
              "      <td>2012</td>\n",
              "    </tr>\n",
              "    <tr>\n",
              "      <th>2</th>\n",
              "      <td>Hemendra Arya</td>\n",
              "      <td>32000</td>\n",
              "      <td>2018</td>\n",
              "    </tr>\n",
              "    <tr>\n",
              "      <th>3</th>\n",
              "      <td>Revanth Sundarm</td>\n",
              "      <td>15000</td>\n",
              "      <td>2019</td>\n",
              "    </tr>\n",
              "  </tbody>\n",
              "</table>\n",
              "</div>"
            ],
            "text/plain": [
              "              name  salary  year\n",
              "0      Raj Acharya   45000  2015\n",
              "1      SaiTeja Ram   78000  2012\n",
              "2    Hemendra Arya   32000  2018\n",
              "3  Revanth Sundarm   15000  2019"
            ]
          },
          "metadata": {
            "tags": []
          },
          "execution_count": 36
        }
      ]
    },
    {
      "cell_type": "code",
      "metadata": {
        "id": "7jweslLkO_pP",
        "colab_type": "code",
        "outputId": "296720ff-c172-49ab-ce8d-94d2dc4c2942",
        "colab": {
          "base_uri": "https://localhost:8080/",
          "height": 171
        }
      },
      "source": [
        "sample_out_rows = sample.dropna()\n",
        "sample_out_rows"
      ],
      "execution_count": 0,
      "outputs": [
        {
          "output_type": "execute_result",
          "data": {
            "text/html": [
              "<div>\n",
              "<style scoped>\n",
              "    .dataframe tbody tr th:only-of-type {\n",
              "        vertical-align: middle;\n",
              "    }\n",
              "\n",
              "    .dataframe tbody tr th {\n",
              "        vertical-align: top;\n",
              "    }\n",
              "\n",
              "    .dataframe thead th {\n",
              "        text-align: right;\n",
              "    }\n",
              "</style>\n",
              "<table border=\"1\" class=\"dataframe\">\n",
              "  <thead>\n",
              "    <tr style=\"text-align: right;\">\n",
              "      <th></th>\n",
              "      <th>name</th>\n",
              "      <th>salary</th>\n",
              "      <th>year</th>\n",
              "    </tr>\n",
              "  </thead>\n",
              "  <tbody>\n",
              "    <tr>\n",
              "      <th>0</th>\n",
              "      <td>Raj Acharya</td>\n",
              "      <td>45000</td>\n",
              "      <td>2015</td>\n",
              "    </tr>\n",
              "    <tr>\n",
              "      <th>1</th>\n",
              "      <td>SaiTeja Ram</td>\n",
              "      <td>78000</td>\n",
              "      <td>2012</td>\n",
              "    </tr>\n",
              "    <tr>\n",
              "      <th>2</th>\n",
              "      <td>Hemendra Arya</td>\n",
              "      <td>32000</td>\n",
              "      <td>2018</td>\n",
              "    </tr>\n",
              "    <tr>\n",
              "      <th>3</th>\n",
              "      <td>Revanth Sundarm</td>\n",
              "      <td>15000</td>\n",
              "      <td>2019</td>\n",
              "    </tr>\n",
              "  </tbody>\n",
              "</table>\n",
              "</div>"
            ],
            "text/plain": [
              "              name  salary  year\n",
              "0      Raj Acharya   45000  2015\n",
              "1      SaiTeja Ram   78000  2012\n",
              "2    Hemendra Arya   32000  2018\n",
              "3  Revanth Sundarm   15000  2019"
            ]
          },
          "metadata": {
            "tags": []
          },
          "execution_count": 37
        }
      ]
    },
    {
      "cell_type": "code",
      "metadata": {
        "id": "VFjg6iC7O_jP",
        "colab_type": "code",
        "outputId": "1a03a64f-4e91-4770-c52e-4c501b8fc89c",
        "colab": {
          "base_uri": "https://localhost:8080/",
          "height": 171
        }
      },
      "source": [
        "sample_out_cols = sample.dropna(axis=1)\n",
        "sample_out_cols"
      ],
      "execution_count": 0,
      "outputs": [
        {
          "output_type": "execute_result",
          "data": {
            "text/html": [
              "<div>\n",
              "<style scoped>\n",
              "    .dataframe tbody tr th:only-of-type {\n",
              "        vertical-align: middle;\n",
              "    }\n",
              "\n",
              "    .dataframe tbody tr th {\n",
              "        vertical-align: top;\n",
              "    }\n",
              "\n",
              "    .dataframe thead th {\n",
              "        text-align: right;\n",
              "    }\n",
              "</style>\n",
              "<table border=\"1\" class=\"dataframe\">\n",
              "  <thead>\n",
              "    <tr style=\"text-align: right;\">\n",
              "      <th></th>\n",
              "      <th>name</th>\n",
              "      <th>salary</th>\n",
              "      <th>year</th>\n",
              "    </tr>\n",
              "  </thead>\n",
              "  <tbody>\n",
              "    <tr>\n",
              "      <th>0</th>\n",
              "      <td>Raj Acharya</td>\n",
              "      <td>45000</td>\n",
              "      <td>2015</td>\n",
              "    </tr>\n",
              "    <tr>\n",
              "      <th>1</th>\n",
              "      <td>SaiTeja Ram</td>\n",
              "      <td>78000</td>\n",
              "      <td>2012</td>\n",
              "    </tr>\n",
              "    <tr>\n",
              "      <th>2</th>\n",
              "      <td>Hemendra Arya</td>\n",
              "      <td>32000</td>\n",
              "      <td>2018</td>\n",
              "    </tr>\n",
              "    <tr>\n",
              "      <th>3</th>\n",
              "      <td>Revanth Sundarm</td>\n",
              "      <td>15000</td>\n",
              "      <td>2019</td>\n",
              "    </tr>\n",
              "  </tbody>\n",
              "</table>\n",
              "</div>"
            ],
            "text/plain": [
              "              name  salary  year\n",
              "0      Raj Acharya   45000  2015\n",
              "1      SaiTeja Ram   78000  2012\n",
              "2    Hemendra Arya   32000  2018\n",
              "3  Revanth Sundarm   15000  2019"
            ]
          },
          "metadata": {
            "tags": []
          },
          "execution_count": 38
        }
      ]
    },
    {
      "cell_type": "code",
      "metadata": {
        "id": "Z6VRIVfGOMsa",
        "colab_type": "code",
        "outputId": "4abcd0d4-838d-404e-caae-da2cbd6eb5a6",
        "colab": {
          "base_uri": "https://localhost:8080/",
          "height": 171
        }
      },
      "source": [
        "dummy = sample.copy()\n",
        "dummy"
      ],
      "execution_count": 0,
      "outputs": [
        {
          "output_type": "execute_result",
          "data": {
            "text/html": [
              "<div>\n",
              "<style scoped>\n",
              "    .dataframe tbody tr th:only-of-type {\n",
              "        vertical-align: middle;\n",
              "    }\n",
              "\n",
              "    .dataframe tbody tr th {\n",
              "        vertical-align: top;\n",
              "    }\n",
              "\n",
              "    .dataframe thead th {\n",
              "        text-align: right;\n",
              "    }\n",
              "</style>\n",
              "<table border=\"1\" class=\"dataframe\">\n",
              "  <thead>\n",
              "    <tr style=\"text-align: right;\">\n",
              "      <th></th>\n",
              "      <th>name</th>\n",
              "      <th>salary</th>\n",
              "      <th>year</th>\n",
              "    </tr>\n",
              "  </thead>\n",
              "  <tbody>\n",
              "    <tr>\n",
              "      <th>0</th>\n",
              "      <td>Raj Acharya</td>\n",
              "      <td>45000</td>\n",
              "      <td>2015</td>\n",
              "    </tr>\n",
              "    <tr>\n",
              "      <th>1</th>\n",
              "      <td>SaiTeja Ram</td>\n",
              "      <td>78000</td>\n",
              "      <td>2012</td>\n",
              "    </tr>\n",
              "    <tr>\n",
              "      <th>2</th>\n",
              "      <td>Hemendra Arya</td>\n",
              "      <td>32000</td>\n",
              "      <td>2018</td>\n",
              "    </tr>\n",
              "    <tr>\n",
              "      <th>3</th>\n",
              "      <td>Revanth Sundarm</td>\n",
              "      <td>15000</td>\n",
              "      <td>2019</td>\n",
              "    </tr>\n",
              "  </tbody>\n",
              "</table>\n",
              "</div>"
            ],
            "text/plain": [
              "              name  salary  year\n",
              "0      Raj Acharya   45000  2015\n",
              "1      SaiTeja Ram   78000  2012\n",
              "2    Hemendra Arya   32000  2018\n",
              "3  Revanth Sundarm   15000  2019"
            ]
          },
          "metadata": {
            "tags": []
          },
          "execution_count": 39
        }
      ]
    },
    {
      "cell_type": "code",
      "metadata": {
        "id": "qZ4rTnR8OMo5",
        "colab_type": "code",
        "outputId": "429c8e52-6507-478d-907a-417ed373a634",
        "colab": {
          "base_uri": "https://localhost:8080/",
          "height": 171
        }
      },
      "source": [
        "dummy.salary = dummy.salary.mean()\n",
        "dummy"
      ],
      "execution_count": 0,
      "outputs": [
        {
          "output_type": "execute_result",
          "data": {
            "text/html": [
              "<div>\n",
              "<style scoped>\n",
              "    .dataframe tbody tr th:only-of-type {\n",
              "        vertical-align: middle;\n",
              "    }\n",
              "\n",
              "    .dataframe tbody tr th {\n",
              "        vertical-align: top;\n",
              "    }\n",
              "\n",
              "    .dataframe thead th {\n",
              "        text-align: right;\n",
              "    }\n",
              "</style>\n",
              "<table border=\"1\" class=\"dataframe\">\n",
              "  <thead>\n",
              "    <tr style=\"text-align: right;\">\n",
              "      <th></th>\n",
              "      <th>name</th>\n",
              "      <th>salary</th>\n",
              "      <th>year</th>\n",
              "    </tr>\n",
              "  </thead>\n",
              "  <tbody>\n",
              "    <tr>\n",
              "      <th>0</th>\n",
              "      <td>Raj Acharya</td>\n",
              "      <td>42500.0</td>\n",
              "      <td>2015</td>\n",
              "    </tr>\n",
              "    <tr>\n",
              "      <th>1</th>\n",
              "      <td>SaiTeja Ram</td>\n",
              "      <td>42500.0</td>\n",
              "      <td>2012</td>\n",
              "    </tr>\n",
              "    <tr>\n",
              "      <th>2</th>\n",
              "      <td>Hemendra Arya</td>\n",
              "      <td>42500.0</td>\n",
              "      <td>2018</td>\n",
              "    </tr>\n",
              "    <tr>\n",
              "      <th>3</th>\n",
              "      <td>Revanth Sundarm</td>\n",
              "      <td>42500.0</td>\n",
              "      <td>2019</td>\n",
              "    </tr>\n",
              "  </tbody>\n",
              "</table>\n",
              "</div>"
            ],
            "text/plain": [
              "              name   salary  year\n",
              "0      Raj Acharya  42500.0  2015\n",
              "1      SaiTeja Ram  42500.0  2012\n",
              "2    Hemendra Arya  42500.0  2018\n",
              "3  Revanth Sundarm  42500.0  2019"
            ]
          },
          "metadata": {
            "tags": []
          },
          "execution_count": 40
        }
      ]
    },
    {
      "cell_type": "code",
      "metadata": {
        "id": "kAsPDvRkOMlh",
        "colab_type": "code",
        "outputId": "65e44e53-c138-46b9-c98a-e5cb5319550f",
        "colab": {
          "base_uri": "https://localhost:8080/",
          "height": 171
        }
      },
      "source": [
        "dummy = sample.copy()\n",
        "dummy"
      ],
      "execution_count": 0,
      "outputs": [
        {
          "output_type": "execute_result",
          "data": {
            "text/html": [
              "<div>\n",
              "<style scoped>\n",
              "    .dataframe tbody tr th:only-of-type {\n",
              "        vertical-align: middle;\n",
              "    }\n",
              "\n",
              "    .dataframe tbody tr th {\n",
              "        vertical-align: top;\n",
              "    }\n",
              "\n",
              "    .dataframe thead th {\n",
              "        text-align: right;\n",
              "    }\n",
              "</style>\n",
              "<table border=\"1\" class=\"dataframe\">\n",
              "  <thead>\n",
              "    <tr style=\"text-align: right;\">\n",
              "      <th></th>\n",
              "      <th>name</th>\n",
              "      <th>salary</th>\n",
              "      <th>year</th>\n",
              "    </tr>\n",
              "  </thead>\n",
              "  <tbody>\n",
              "    <tr>\n",
              "      <th>0</th>\n",
              "      <td>Raj Acharya</td>\n",
              "      <td>45000</td>\n",
              "      <td>2015</td>\n",
              "    </tr>\n",
              "    <tr>\n",
              "      <th>1</th>\n",
              "      <td>SaiTeja Ram</td>\n",
              "      <td>78000</td>\n",
              "      <td>2012</td>\n",
              "    </tr>\n",
              "    <tr>\n",
              "      <th>2</th>\n",
              "      <td>Hemendra Arya</td>\n",
              "      <td>32000</td>\n",
              "      <td>2018</td>\n",
              "    </tr>\n",
              "    <tr>\n",
              "      <th>3</th>\n",
              "      <td>Revanth Sundarm</td>\n",
              "      <td>15000</td>\n",
              "      <td>2019</td>\n",
              "    </tr>\n",
              "  </tbody>\n",
              "</table>\n",
              "</div>"
            ],
            "text/plain": [
              "              name  salary  year\n",
              "0      Raj Acharya   45000  2015\n",
              "1      SaiTeja Ram   78000  2012\n",
              "2    Hemendra Arya   32000  2018\n",
              "3  Revanth Sundarm   15000  2019"
            ]
          },
          "metadata": {
            "tags": []
          },
          "execution_count": 41
        }
      ]
    },
    {
      "cell_type": "code",
      "metadata": {
        "id": "73jQXaZAOMiW",
        "colab_type": "code",
        "outputId": "e507e876-a14b-4acc-d903-38cc3a7c9b59",
        "colab": {
          "base_uri": "https://localhost:8080/",
          "height": 171
        }
      },
      "source": [
        "dummy.salary = dummy.salary.mean\n",
        "dummy"
      ],
      "execution_count": 0,
      "outputs": [
        {
          "output_type": "execute_result",
          "data": {
            "text/html": [
              "<div>\n",
              "<style scoped>\n",
              "    .dataframe tbody tr th:only-of-type {\n",
              "        vertical-align: middle;\n",
              "    }\n",
              "\n",
              "    .dataframe tbody tr th {\n",
              "        vertical-align: top;\n",
              "    }\n",
              "\n",
              "    .dataframe thead th {\n",
              "        text-align: right;\n",
              "    }\n",
              "</style>\n",
              "<table border=\"1\" class=\"dataframe\">\n",
              "  <thead>\n",
              "    <tr style=\"text-align: right;\">\n",
              "      <th></th>\n",
              "      <th>name</th>\n",
              "      <th>salary</th>\n",
              "      <th>year</th>\n",
              "    </tr>\n",
              "  </thead>\n",
              "  <tbody>\n",
              "    <tr>\n",
              "      <th>0</th>\n",
              "      <td>Raj Acharya</td>\n",
              "      <td>&lt;bound method Series.mean of 0    45000\\n1    ...</td>\n",
              "      <td>2015</td>\n",
              "    </tr>\n",
              "    <tr>\n",
              "      <th>1</th>\n",
              "      <td>SaiTeja Ram</td>\n",
              "      <td>&lt;bound method Series.mean of 0    45000\\n1    ...</td>\n",
              "      <td>2012</td>\n",
              "    </tr>\n",
              "    <tr>\n",
              "      <th>2</th>\n",
              "      <td>Hemendra Arya</td>\n",
              "      <td>&lt;bound method Series.mean of 0    45000\\n1    ...</td>\n",
              "      <td>2018</td>\n",
              "    </tr>\n",
              "    <tr>\n",
              "      <th>3</th>\n",
              "      <td>Revanth Sundarm</td>\n",
              "      <td>&lt;bound method Series.mean of 0    45000\\n1    ...</td>\n",
              "      <td>2019</td>\n",
              "    </tr>\n",
              "  </tbody>\n",
              "</table>\n",
              "</div>"
            ],
            "text/plain": [
              "              name                                             salary  year\n",
              "0      Raj Acharya  <bound method Series.mean of 0    45000\\n1    ...  2015\n",
              "1      SaiTeja Ram  <bound method Series.mean of 0    45000\\n1    ...  2012\n",
              "2    Hemendra Arya  <bound method Series.mean of 0    45000\\n1    ...  2018\n",
              "3  Revanth Sundarm  <bound method Series.mean of 0    45000\\n1    ...  2019"
            ]
          },
          "metadata": {
            "tags": []
          },
          "execution_count": 42
        }
      ]
    },
    {
      "cell_type": "markdown",
      "metadata": {
        "id": "E78ro3tmRYhr",
        "colab_type": "text"
      },
      "source": [
        "- pd.get_dummies\n",
        "\n",
        "- It will create dummy columns with unique  \n",
        "   -  values as column names\n",
        "   -  One hot encoded data"
      ]
    },
    {
      "cell_type": "code",
      "metadata": {
        "id": "WwPJcQDbOMcx",
        "colab_type": "code",
        "outputId": "6ad2164d-754c-457e-a7c4-26e4ff9aacb7",
        "colab": {
          "base_uri": "https://localhost:8080/",
          "height": 202
        }
      },
      "source": [
        "s = pd.Series([\"avg\",\"good\",\"bad\",\"avg\",\"good\"])\n",
        "pd.get_dummies(s)"
      ],
      "execution_count": 0,
      "outputs": [
        {
          "output_type": "execute_result",
          "data": {
            "text/html": [
              "<div>\n",
              "<style scoped>\n",
              "    .dataframe tbody tr th:only-of-type {\n",
              "        vertical-align: middle;\n",
              "    }\n",
              "\n",
              "    .dataframe tbody tr th {\n",
              "        vertical-align: top;\n",
              "    }\n",
              "\n",
              "    .dataframe thead th {\n",
              "        text-align: right;\n",
              "    }\n",
              "</style>\n",
              "<table border=\"1\" class=\"dataframe\">\n",
              "  <thead>\n",
              "    <tr style=\"text-align: right;\">\n",
              "      <th></th>\n",
              "      <th>avg</th>\n",
              "      <th>bad</th>\n",
              "      <th>good</th>\n",
              "    </tr>\n",
              "  </thead>\n",
              "  <tbody>\n",
              "    <tr>\n",
              "      <th>0</th>\n",
              "      <td>1</td>\n",
              "      <td>0</td>\n",
              "      <td>0</td>\n",
              "    </tr>\n",
              "    <tr>\n",
              "      <th>1</th>\n",
              "      <td>0</td>\n",
              "      <td>0</td>\n",
              "      <td>1</td>\n",
              "    </tr>\n",
              "    <tr>\n",
              "      <th>2</th>\n",
              "      <td>0</td>\n",
              "      <td>1</td>\n",
              "      <td>0</td>\n",
              "    </tr>\n",
              "    <tr>\n",
              "      <th>3</th>\n",
              "      <td>1</td>\n",
              "      <td>0</td>\n",
              "      <td>0</td>\n",
              "    </tr>\n",
              "    <tr>\n",
              "      <th>4</th>\n",
              "      <td>0</td>\n",
              "      <td>0</td>\n",
              "      <td>1</td>\n",
              "    </tr>\n",
              "  </tbody>\n",
              "</table>\n",
              "</div>"
            ],
            "text/plain": [
              "   avg  bad  good\n",
              "0    1    0     0\n",
              "1    0    0     1\n",
              "2    0    1     0\n",
              "3    1    0     0\n",
              "4    0    0     1"
            ]
          },
          "metadata": {
            "tags": []
          },
          "execution_count": 43
        }
      ]
    },
    {
      "cell_type": "code",
      "metadata": {
        "id": "VO25iejbOMXr",
        "colab_type": "code",
        "outputId": "f2c54ba0-1c9f-432a-c34f-044dc9eab12f",
        "colab": {
          "base_uri": "https://localhost:8080/",
          "height": 35
        }
      },
      "source": [
        "s.nunique()"
      ],
      "execution_count": 0,
      "outputs": [
        {
          "output_type": "execute_result",
          "data": {
            "text/plain": [
              "3"
            ]
          },
          "metadata": {
            "tags": []
          },
          "execution_count": 44
        }
      ]
    },
    {
      "cell_type": "code",
      "metadata": {
        "id": "uYTWuPsmOMP3",
        "colab_type": "code",
        "outputId": "b792325a-147e-4ffd-8c25-fa578b44d1c6",
        "colab": {
          "base_uri": "https://localhost:8080/",
          "height": 35
        }
      },
      "source": [
        "s.unique()"
      ],
      "execution_count": 0,
      "outputs": [
        {
          "output_type": "execute_result",
          "data": {
            "text/plain": [
              "array(['avg', 'good', 'bad'], dtype=object)"
            ]
          },
          "metadata": {
            "tags": []
          },
          "execution_count": 45
        }
      ]
    },
    {
      "cell_type": "code",
      "metadata": {
        "id": "WzU4W-_gOMD2",
        "colab_type": "code",
        "outputId": "b71007d3-fdd0-4fb2-84c5-43a300903fa2",
        "colab": {
          "base_uri": "https://localhost:8080/",
          "height": 171
        }
      },
      "source": [
        "sample"
      ],
      "execution_count": 0,
      "outputs": [
        {
          "output_type": "execute_result",
          "data": {
            "text/html": [
              "<div>\n",
              "<style scoped>\n",
              "    .dataframe tbody tr th:only-of-type {\n",
              "        vertical-align: middle;\n",
              "    }\n",
              "\n",
              "    .dataframe tbody tr th {\n",
              "        vertical-align: top;\n",
              "    }\n",
              "\n",
              "    .dataframe thead th {\n",
              "        text-align: right;\n",
              "    }\n",
              "</style>\n",
              "<table border=\"1\" class=\"dataframe\">\n",
              "  <thead>\n",
              "    <tr style=\"text-align: right;\">\n",
              "      <th></th>\n",
              "      <th>name</th>\n",
              "      <th>salary</th>\n",
              "      <th>year</th>\n",
              "    </tr>\n",
              "  </thead>\n",
              "  <tbody>\n",
              "    <tr>\n",
              "      <th>0</th>\n",
              "      <td>Raj Acharya</td>\n",
              "      <td>45000</td>\n",
              "      <td>2015</td>\n",
              "    </tr>\n",
              "    <tr>\n",
              "      <th>1</th>\n",
              "      <td>SaiTeja Ram</td>\n",
              "      <td>78000</td>\n",
              "      <td>2012</td>\n",
              "    </tr>\n",
              "    <tr>\n",
              "      <th>2</th>\n",
              "      <td>Hemendra Arya</td>\n",
              "      <td>32000</td>\n",
              "      <td>2018</td>\n",
              "    </tr>\n",
              "    <tr>\n",
              "      <th>3</th>\n",
              "      <td>Revanth Sundarm</td>\n",
              "      <td>15000</td>\n",
              "      <td>2019</td>\n",
              "    </tr>\n",
              "  </tbody>\n",
              "</table>\n",
              "</div>"
            ],
            "text/plain": [
              "              name  salary  year\n",
              "0      Raj Acharya   45000  2015\n",
              "1      SaiTeja Ram   78000  2012\n",
              "2    Hemendra Arya   32000  2018\n",
              "3  Revanth Sundarm   15000  2019"
            ]
          },
          "metadata": {
            "tags": []
          },
          "execution_count": 46
        }
      ]
    },
    {
      "cell_type": "code",
      "metadata": {
        "id": "Eqszj8onOL7R",
        "colab_type": "code",
        "outputId": "0896b2f6-0df2-40af-d2aa-b53a28b18558",
        "colab": {
          "base_uri": "https://localhost:8080/",
          "height": 171
        }
      },
      "source": [
        "pd.get_dummies(sample)"
      ],
      "execution_count": 0,
      "outputs": [
        {
          "output_type": "execute_result",
          "data": {
            "text/html": [
              "<div>\n",
              "<style scoped>\n",
              "    .dataframe tbody tr th:only-of-type {\n",
              "        vertical-align: middle;\n",
              "    }\n",
              "\n",
              "    .dataframe tbody tr th {\n",
              "        vertical-align: top;\n",
              "    }\n",
              "\n",
              "    .dataframe thead th {\n",
              "        text-align: right;\n",
              "    }\n",
              "</style>\n",
              "<table border=\"1\" class=\"dataframe\">\n",
              "  <thead>\n",
              "    <tr style=\"text-align: right;\">\n",
              "      <th></th>\n",
              "      <th>salary</th>\n",
              "      <th>year</th>\n",
              "      <th>name_Hemendra Arya</th>\n",
              "      <th>name_Raj Acharya</th>\n",
              "      <th>name_Revanth Sundarm</th>\n",
              "      <th>name_SaiTeja Ram</th>\n",
              "    </tr>\n",
              "  </thead>\n",
              "  <tbody>\n",
              "    <tr>\n",
              "      <th>0</th>\n",
              "      <td>45000</td>\n",
              "      <td>2015</td>\n",
              "      <td>0</td>\n",
              "      <td>1</td>\n",
              "      <td>0</td>\n",
              "      <td>0</td>\n",
              "    </tr>\n",
              "    <tr>\n",
              "      <th>1</th>\n",
              "      <td>78000</td>\n",
              "      <td>2012</td>\n",
              "      <td>0</td>\n",
              "      <td>0</td>\n",
              "      <td>0</td>\n",
              "      <td>1</td>\n",
              "    </tr>\n",
              "    <tr>\n",
              "      <th>2</th>\n",
              "      <td>32000</td>\n",
              "      <td>2018</td>\n",
              "      <td>1</td>\n",
              "      <td>0</td>\n",
              "      <td>0</td>\n",
              "      <td>0</td>\n",
              "    </tr>\n",
              "    <tr>\n",
              "      <th>3</th>\n",
              "      <td>15000</td>\n",
              "      <td>2019</td>\n",
              "      <td>0</td>\n",
              "      <td>0</td>\n",
              "      <td>1</td>\n",
              "      <td>0</td>\n",
              "    </tr>\n",
              "  </tbody>\n",
              "</table>\n",
              "</div>"
            ],
            "text/plain": [
              "   salary  year  ...  name_Revanth Sundarm  name_SaiTeja Ram\n",
              "0   45000  2015  ...                     0                 0\n",
              "1   78000  2012  ...                     0                 1\n",
              "2   32000  2018  ...                     0                 0\n",
              "3   15000  2019  ...                     1                 0\n",
              "\n",
              "[4 rows x 6 columns]"
            ]
          },
          "metadata": {
            "tags": []
          },
          "execution_count": 47
        }
      ]
    },
    {
      "cell_type": "code",
      "metadata": {
        "id": "ptaI14D1IS6g",
        "colab_type": "code",
        "outputId": "a5f4ac64-211e-4e3f-ddb9-b64a39657f42",
        "colab": {
          "base_uri": "https://localhost:8080/",
          "height": 347
        }
      },
      "source": [
        "data.dtypes==object"
      ],
      "execution_count": 0,
      "outputs": [
        {
          "output_type": "execute_result",
          "data": {
            "text/plain": [
              "policyID              False\n",
              "statecode              True\n",
              "county                 True\n",
              "eq_site_limit         False\n",
              "hu_site_limit         False\n",
              "fl_site_limit         False\n",
              "fr_site_limit         False\n",
              "tiv_2011              False\n",
              "tiv_2012              False\n",
              "eq_site_deductible    False\n",
              "hu_site_deductible    False\n",
              "fl_site_deductible    False\n",
              "fr_site_deductible    False\n",
              "point_latitude        False\n",
              "point_longitude       False\n",
              "line                   True\n",
              "construction           True\n",
              "point_granularity     False\n",
              "dtype: bool"
            ]
          },
          "metadata": {
            "tags": []
          },
          "execution_count": 48
        }
      ]
    },
    {
      "cell_type": "code",
      "metadata": {
        "id": "jMZnfa_5IS3H",
        "colab_type": "code",
        "outputId": "f5399d42-165f-4215-e8d6-cfb9c225568c",
        "colab": {
          "base_uri": "https://localhost:8080/",
          "height": 104
        }
      },
      "source": [
        "data.loc[:,data.dtypes==object].nunique()"
      ],
      "execution_count": 0,
      "outputs": [
        {
          "output_type": "execute_result",
          "data": {
            "text/plain": [
              "statecode        1\n",
              "county          36\n",
              "line             2\n",
              "construction     5\n",
              "dtype: int64"
            ]
          },
          "metadata": {
            "tags": []
          },
          "execution_count": 49
        }
      ]
    },
    {
      "cell_type": "code",
      "metadata": {
        "id": "XCY2malTISz0",
        "colab_type": "code",
        "outputId": "ff08d25a-417a-47bd-bc8b-fe778d35c28d",
        "colab": {
          "base_uri": "https://localhost:8080/",
          "height": 35
        }
      },
      "source": [
        "data.loc[:,data.dtypes==object].nunique().sum()"
      ],
      "execution_count": 0,
      "outputs": [
        {
          "output_type": "execute_result",
          "data": {
            "text/plain": [
              "44"
            ]
          },
          "metadata": {
            "tags": []
          },
          "execution_count": 50
        }
      ]
    },
    {
      "cell_type": "code",
      "metadata": {
        "id": "K2Xrao1HISv3",
        "colab_type": "code",
        "outputId": "2c770a14-efd2-4c54-97e3-dfe7b28d9b45",
        "colab": {
          "base_uri": "https://localhost:8080/",
          "height": 35
        }
      },
      "source": [
        "catageroical_columns_count = (data.dtypes==object).sum()\n",
        "catageroical_columns_count"
      ],
      "execution_count": 0,
      "outputs": [
        {
          "output_type": "execute_result",
          "data": {
            "text/plain": [
              "4"
            ]
          },
          "metadata": {
            "tags": []
          },
          "execution_count": 51
        }
      ]
    },
    {
      "cell_type": "code",
      "metadata": {
        "id": "LV2C5s7iSqAn",
        "colab_type": "code",
        "outputId": "8274f6a1-3948-4ef1-f9b9-819f492464e3",
        "colab": {
          "base_uri": "https://localhost:8080/",
          "height": 35
        }
      },
      "source": [
        "# no of columns in the output\n",
        "75 - 4 + 18"
      ],
      "execution_count": 0,
      "outputs": [
        {
          "output_type": "execute_result",
          "data": {
            "text/plain": [
              "89"
            ]
          },
          "metadata": {
            "tags": []
          },
          "execution_count": 52
        }
      ]
    },
    {
      "cell_type": "code",
      "metadata": {
        "id": "olm-BKVlSqux",
        "colab_type": "code",
        "outputId": "3cb04a1c-1b86-4f21-9e70-ee214f3d241c",
        "colab": {
          "base_uri": "https://localhost:8080/",
          "height": 470
        }
      },
      "source": [
        "pd.get_dummies(data)"
      ],
      "execution_count": 0,
      "outputs": [
        {
          "output_type": "execute_result",
          "data": {
            "text/html": [
              "<div>\n",
              "<style scoped>\n",
              "    .dataframe tbody tr th:only-of-type {\n",
              "        vertical-align: middle;\n",
              "    }\n",
              "\n",
              "    .dataframe tbody tr th {\n",
              "        vertical-align: top;\n",
              "    }\n",
              "\n",
              "    .dataframe thead th {\n",
              "        text-align: right;\n",
              "    }\n",
              "</style>\n",
              "<table border=\"1\" class=\"dataframe\">\n",
              "  <thead>\n",
              "    <tr style=\"text-align: right;\">\n",
              "      <th></th>\n",
              "      <th>policyID</th>\n",
              "      <th>eq_site_limit</th>\n",
              "      <th>hu_site_limit</th>\n",
              "      <th>fl_site_limit</th>\n",
              "      <th>fr_site_limit</th>\n",
              "      <th>tiv_2011</th>\n",
              "      <th>tiv_2012</th>\n",
              "      <th>eq_site_deductible</th>\n",
              "      <th>hu_site_deductible</th>\n",
              "      <th>fl_site_deductible</th>\n",
              "      <th>fr_site_deductible</th>\n",
              "      <th>point_latitude</th>\n",
              "      <th>point_longitude</th>\n",
              "      <th>point_granularity</th>\n",
              "      <th>statecode_FL</th>\n",
              "      <th>county_ALACHUA COUNTY</th>\n",
              "      <th>county_BAKER COUNTY</th>\n",
              "      <th>county_BAY COUNTY</th>\n",
              "      <th>county_BRADFORD COUNTY</th>\n",
              "      <th>county_CALHOUN COUNTY</th>\n",
              "      <th>county_CLAY COUNTY</th>\n",
              "      <th>county_COLUMBIA COUNTY</th>\n",
              "      <th>county_DUVAL COUNTY</th>\n",
              "      <th>county_ESCAMBIA COUNTY</th>\n",
              "      <th>county_FLAGLER COUNTY</th>\n",
              "      <th>county_FRANKLIN COUNTY</th>\n",
              "      <th>county_GADSDEN COUNTY</th>\n",
              "      <th>county_GULF COUNTY</th>\n",
              "      <th>county_HAMILTON COUNTY</th>\n",
              "      <th>county_HOLMES COUNTY</th>\n",
              "      <th>county_JACKSON COUNTY</th>\n",
              "      <th>county_JEFFERSON COUNTY</th>\n",
              "      <th>county_LAFAYETTE COUNTY</th>\n",
              "      <th>county_LAKE COUNTY</th>\n",
              "      <th>county_LEON COUNTY</th>\n",
              "      <th>county_LIBERTY COUNTY</th>\n",
              "      <th>county_MADISON COUNTY</th>\n",
              "      <th>county_MARION COUNTY</th>\n",
              "      <th>county_NASSAU COUNTY</th>\n",
              "      <th>county_OKALOOSA COUNTY</th>\n",
              "      <th>county_PUTNAM COUNTY</th>\n",
              "      <th>county_SANTA ROSA COUNTY</th>\n",
              "      <th>county_ST  JOHNS COUNTY</th>\n",
              "      <th>county_SUMTER COUNTY</th>\n",
              "      <th>county_SUWANNEE COUNTY</th>\n",
              "      <th>county_TAYLOR COUNTY</th>\n",
              "      <th>county_UNION COUNTY</th>\n",
              "      <th>county_VOLUSIA COUNTY</th>\n",
              "      <th>county_WAKULLA COUNTY</th>\n",
              "      <th>county_WALTON COUNTY</th>\n",
              "      <th>county_WASHINGTON COUNTY</th>\n",
              "      <th>line_Commercial</th>\n",
              "      <th>line_Residential</th>\n",
              "      <th>construction_Masonry</th>\n",
              "      <th>construction_Reinforced Concrete</th>\n",
              "      <th>construction_Reinforced Masonry</th>\n",
              "      <th>construction_Steel Frame</th>\n",
              "      <th>construction_Wood</th>\n",
              "    </tr>\n",
              "  </thead>\n",
              "  <tbody>\n",
              "    <tr>\n",
              "      <th>0</th>\n",
              "      <td>119736</td>\n",
              "      <td>498960.0</td>\n",
              "      <td>498960.00</td>\n",
              "      <td>498960.0</td>\n",
              "      <td>498960.0</td>\n",
              "      <td>498960.00</td>\n",
              "      <td>792148.90</td>\n",
              "      <td>0.0</td>\n",
              "      <td>9979.2</td>\n",
              "      <td>0.0</td>\n",
              "      <td>0.0</td>\n",
              "      <td>30.102261</td>\n",
              "      <td>-81.711777</td>\n",
              "      <td>1.0</td>\n",
              "      <td>1</td>\n",
              "      <td>0</td>\n",
              "      <td>0</td>\n",
              "      <td>0</td>\n",
              "      <td>0</td>\n",
              "      <td>0</td>\n",
              "      <td>1</td>\n",
              "      <td>0</td>\n",
              "      <td>0</td>\n",
              "      <td>0</td>\n",
              "      <td>0</td>\n",
              "      <td>0</td>\n",
              "      <td>0</td>\n",
              "      <td>0</td>\n",
              "      <td>0</td>\n",
              "      <td>0</td>\n",
              "      <td>0</td>\n",
              "      <td>0</td>\n",
              "      <td>0</td>\n",
              "      <td>0</td>\n",
              "      <td>0</td>\n",
              "      <td>0</td>\n",
              "      <td>0</td>\n",
              "      <td>0</td>\n",
              "      <td>0</td>\n",
              "      <td>0</td>\n",
              "      <td>0</td>\n",
              "      <td>0</td>\n",
              "      <td>0</td>\n",
              "      <td>0</td>\n",
              "      <td>0</td>\n",
              "      <td>0</td>\n",
              "      <td>0</td>\n",
              "      <td>0</td>\n",
              "      <td>0</td>\n",
              "      <td>0</td>\n",
              "      <td>0</td>\n",
              "      <td>0</td>\n",
              "      <td>1</td>\n",
              "      <td>1</td>\n",
              "      <td>0</td>\n",
              "      <td>0</td>\n",
              "      <td>0</td>\n",
              "      <td>0</td>\n",
              "    </tr>\n",
              "    <tr>\n",
              "      <th>1</th>\n",
              "      <td>448094</td>\n",
              "      <td>1322376.3</td>\n",
              "      <td>1322376.30</td>\n",
              "      <td>1322376.3</td>\n",
              "      <td>1322376.3</td>\n",
              "      <td>1322376.30</td>\n",
              "      <td>1438163.57</td>\n",
              "      <td>0.0</td>\n",
              "      <td>0.0</td>\n",
              "      <td>0.0</td>\n",
              "      <td>0.0</td>\n",
              "      <td>30.063936</td>\n",
              "      <td>-81.707664</td>\n",
              "      <td>3.0</td>\n",
              "      <td>1</td>\n",
              "      <td>0</td>\n",
              "      <td>0</td>\n",
              "      <td>0</td>\n",
              "      <td>0</td>\n",
              "      <td>0</td>\n",
              "      <td>1</td>\n",
              "      <td>0</td>\n",
              "      <td>0</td>\n",
              "      <td>0</td>\n",
              "      <td>0</td>\n",
              "      <td>0</td>\n",
              "      <td>0</td>\n",
              "      <td>0</td>\n",
              "      <td>0</td>\n",
              "      <td>0</td>\n",
              "      <td>0</td>\n",
              "      <td>0</td>\n",
              "      <td>0</td>\n",
              "      <td>0</td>\n",
              "      <td>0</td>\n",
              "      <td>0</td>\n",
              "      <td>0</td>\n",
              "      <td>0</td>\n",
              "      <td>0</td>\n",
              "      <td>0</td>\n",
              "      <td>0</td>\n",
              "      <td>0</td>\n",
              "      <td>0</td>\n",
              "      <td>0</td>\n",
              "      <td>0</td>\n",
              "      <td>0</td>\n",
              "      <td>0</td>\n",
              "      <td>0</td>\n",
              "      <td>0</td>\n",
              "      <td>0</td>\n",
              "      <td>0</td>\n",
              "      <td>0</td>\n",
              "      <td>1</td>\n",
              "      <td>1</td>\n",
              "      <td>0</td>\n",
              "      <td>0</td>\n",
              "      <td>0</td>\n",
              "      <td>0</td>\n",
              "    </tr>\n",
              "    <tr>\n",
              "      <th>2</th>\n",
              "      <td>206893</td>\n",
              "      <td>190724.4</td>\n",
              "      <td>190724.40</td>\n",
              "      <td>190724.4</td>\n",
              "      <td>190724.4</td>\n",
              "      <td>190724.40</td>\n",
              "      <td>192476.78</td>\n",
              "      <td>0.0</td>\n",
              "      <td>0.0</td>\n",
              "      <td>0.0</td>\n",
              "      <td>0.0</td>\n",
              "      <td>30.089579</td>\n",
              "      <td>-81.700455</td>\n",
              "      <td>1.0</td>\n",
              "      <td>1</td>\n",
              "      <td>0</td>\n",
              "      <td>0</td>\n",
              "      <td>0</td>\n",
              "      <td>0</td>\n",
              "      <td>0</td>\n",
              "      <td>1</td>\n",
              "      <td>0</td>\n",
              "      <td>0</td>\n",
              "      <td>0</td>\n",
              "      <td>0</td>\n",
              "      <td>0</td>\n",
              "      <td>0</td>\n",
              "      <td>0</td>\n",
              "      <td>0</td>\n",
              "      <td>0</td>\n",
              "      <td>0</td>\n",
              "      <td>0</td>\n",
              "      <td>0</td>\n",
              "      <td>0</td>\n",
              "      <td>0</td>\n",
              "      <td>0</td>\n",
              "      <td>0</td>\n",
              "      <td>0</td>\n",
              "      <td>0</td>\n",
              "      <td>0</td>\n",
              "      <td>0</td>\n",
              "      <td>0</td>\n",
              "      <td>0</td>\n",
              "      <td>0</td>\n",
              "      <td>0</td>\n",
              "      <td>0</td>\n",
              "      <td>0</td>\n",
              "      <td>0</td>\n",
              "      <td>0</td>\n",
              "      <td>0</td>\n",
              "      <td>0</td>\n",
              "      <td>0</td>\n",
              "      <td>1</td>\n",
              "      <td>0</td>\n",
              "      <td>0</td>\n",
              "      <td>0</td>\n",
              "      <td>0</td>\n",
              "      <td>1</td>\n",
              "    </tr>\n",
              "    <tr>\n",
              "      <th>3</th>\n",
              "      <td>333743</td>\n",
              "      <td>0.0</td>\n",
              "      <td>79520.76</td>\n",
              "      <td>0.0</td>\n",
              "      <td>0.0</td>\n",
              "      <td>79520.76</td>\n",
              "      <td>86854.48</td>\n",
              "      <td>0.0</td>\n",
              "      <td>0.0</td>\n",
              "      <td>0.0</td>\n",
              "      <td>0.0</td>\n",
              "      <td>30.063236</td>\n",
              "      <td>-81.707703</td>\n",
              "      <td>3.0</td>\n",
              "      <td>1</td>\n",
              "      <td>0</td>\n",
              "      <td>0</td>\n",
              "      <td>0</td>\n",
              "      <td>0</td>\n",
              "      <td>0</td>\n",
              "      <td>1</td>\n",
              "      <td>0</td>\n",
              "      <td>0</td>\n",
              "      <td>0</td>\n",
              "      <td>0</td>\n",
              "      <td>0</td>\n",
              "      <td>0</td>\n",
              "      <td>0</td>\n",
              "      <td>0</td>\n",
              "      <td>0</td>\n",
              "      <td>0</td>\n",
              "      <td>0</td>\n",
              "      <td>0</td>\n",
              "      <td>0</td>\n",
              "      <td>0</td>\n",
              "      <td>0</td>\n",
              "      <td>0</td>\n",
              "      <td>0</td>\n",
              "      <td>0</td>\n",
              "      <td>0</td>\n",
              "      <td>0</td>\n",
              "      <td>0</td>\n",
              "      <td>0</td>\n",
              "      <td>0</td>\n",
              "      <td>0</td>\n",
              "      <td>0</td>\n",
              "      <td>0</td>\n",
              "      <td>0</td>\n",
              "      <td>0</td>\n",
              "      <td>0</td>\n",
              "      <td>0</td>\n",
              "      <td>0</td>\n",
              "      <td>1</td>\n",
              "      <td>0</td>\n",
              "      <td>0</td>\n",
              "      <td>0</td>\n",
              "      <td>0</td>\n",
              "      <td>1</td>\n",
              "    </tr>\n",
              "    <tr>\n",
              "      <th>4</th>\n",
              "      <td>172534</td>\n",
              "      <td>0.0</td>\n",
              "      <td>254281.50</td>\n",
              "      <td>0.0</td>\n",
              "      <td>254281.5</td>\n",
              "      <td>254281.50</td>\n",
              "      <td>246144.49</td>\n",
              "      <td>0.0</td>\n",
              "      <td>0.0</td>\n",
              "      <td>0.0</td>\n",
              "      <td>0.0</td>\n",
              "      <td>30.060614</td>\n",
              "      <td>-81.702675</td>\n",
              "      <td>1.0</td>\n",
              "      <td>1</td>\n",
              "      <td>0</td>\n",
              "      <td>0</td>\n",
              "      <td>0</td>\n",
              "      <td>0</td>\n",
              "      <td>0</td>\n",
              "      <td>1</td>\n",
              "      <td>0</td>\n",
              "      <td>0</td>\n",
              "      <td>0</td>\n",
              "      <td>0</td>\n",
              "      <td>0</td>\n",
              "      <td>0</td>\n",
              "      <td>0</td>\n",
              "      <td>0</td>\n",
              "      <td>0</td>\n",
              "      <td>0</td>\n",
              "      <td>0</td>\n",
              "      <td>0</td>\n",
              "      <td>0</td>\n",
              "      <td>0</td>\n",
              "      <td>0</td>\n",
              "      <td>0</td>\n",
              "      <td>0</td>\n",
              "      <td>0</td>\n",
              "      <td>0</td>\n",
              "      <td>0</td>\n",
              "      <td>0</td>\n",
              "      <td>0</td>\n",
              "      <td>0</td>\n",
              "      <td>0</td>\n",
              "      <td>0</td>\n",
              "      <td>0</td>\n",
              "      <td>0</td>\n",
              "      <td>0</td>\n",
              "      <td>0</td>\n",
              "      <td>0</td>\n",
              "      <td>0</td>\n",
              "      <td>1</td>\n",
              "      <td>0</td>\n",
              "      <td>0</td>\n",
              "      <td>0</td>\n",
              "      <td>0</td>\n",
              "      <td>1</td>\n",
              "    </tr>\n",
              "    <tr>\n",
              "      <th>...</th>\n",
              "      <td>...</td>\n",
              "      <td>...</td>\n",
              "      <td>...</td>\n",
              "      <td>...</td>\n",
              "      <td>...</td>\n",
              "      <td>...</td>\n",
              "      <td>...</td>\n",
              "      <td>...</td>\n",
              "      <td>...</td>\n",
              "      <td>...</td>\n",
              "      <td>...</td>\n",
              "      <td>...</td>\n",
              "      <td>...</td>\n",
              "      <td>...</td>\n",
              "      <td>...</td>\n",
              "      <td>...</td>\n",
              "      <td>...</td>\n",
              "      <td>...</td>\n",
              "      <td>...</td>\n",
              "      <td>...</td>\n",
              "      <td>...</td>\n",
              "      <td>...</td>\n",
              "      <td>...</td>\n",
              "      <td>...</td>\n",
              "      <td>...</td>\n",
              "      <td>...</td>\n",
              "      <td>...</td>\n",
              "      <td>...</td>\n",
              "      <td>...</td>\n",
              "      <td>...</td>\n",
              "      <td>...</td>\n",
              "      <td>...</td>\n",
              "      <td>...</td>\n",
              "      <td>...</td>\n",
              "      <td>...</td>\n",
              "      <td>...</td>\n",
              "      <td>...</td>\n",
              "      <td>...</td>\n",
              "      <td>...</td>\n",
              "      <td>...</td>\n",
              "      <td>...</td>\n",
              "      <td>...</td>\n",
              "      <td>...</td>\n",
              "      <td>...</td>\n",
              "      <td>...</td>\n",
              "      <td>...</td>\n",
              "      <td>...</td>\n",
              "      <td>...</td>\n",
              "      <td>...</td>\n",
              "      <td>...</td>\n",
              "      <td>...</td>\n",
              "      <td>...</td>\n",
              "      <td>...</td>\n",
              "      <td>...</td>\n",
              "      <td>...</td>\n",
              "      <td>...</td>\n",
              "      <td>...</td>\n",
              "      <td>...</td>\n",
              "    </tr>\n",
              "    <tr>\n",
              "      <th>9457</th>\n",
              "      <td>441177</td>\n",
              "      <td>0.0</td>\n",
              "      <td>75413.89</td>\n",
              "      <td>0.0</td>\n",
              "      <td>0.0</td>\n",
              "      <td>75413.89</td>\n",
              "      <td>78297.72</td>\n",
              "      <td>0.0</td>\n",
              "      <td>0.0</td>\n",
              "      <td>0.0</td>\n",
              "      <td>0.0</td>\n",
              "      <td>29.651700</td>\n",
              "      <td>-82.325300</td>\n",
              "      <td>4.0</td>\n",
              "      <td>1</td>\n",
              "      <td>1</td>\n",
              "      <td>0</td>\n",
              "      <td>0</td>\n",
              "      <td>0</td>\n",
              "      <td>0</td>\n",
              "      <td>0</td>\n",
              "      <td>0</td>\n",
              "      <td>0</td>\n",
              "      <td>0</td>\n",
              "      <td>0</td>\n",
              "      <td>0</td>\n",
              "      <td>0</td>\n",
              "      <td>0</td>\n",
              "      <td>0</td>\n",
              "      <td>0</td>\n",
              "      <td>0</td>\n",
              "      <td>0</td>\n",
              "      <td>0</td>\n",
              "      <td>0</td>\n",
              "      <td>0</td>\n",
              "      <td>0</td>\n",
              "      <td>0</td>\n",
              "      <td>0</td>\n",
              "      <td>0</td>\n",
              "      <td>0</td>\n",
              "      <td>0</td>\n",
              "      <td>0</td>\n",
              "      <td>0</td>\n",
              "      <td>0</td>\n",
              "      <td>0</td>\n",
              "      <td>0</td>\n",
              "      <td>0</td>\n",
              "      <td>0</td>\n",
              "      <td>0</td>\n",
              "      <td>0</td>\n",
              "      <td>0</td>\n",
              "      <td>0</td>\n",
              "      <td>1</td>\n",
              "      <td>0</td>\n",
              "      <td>0</td>\n",
              "      <td>0</td>\n",
              "      <td>0</td>\n",
              "      <td>1</td>\n",
              "    </tr>\n",
              "    <tr>\n",
              "      <th>9458</th>\n",
              "      <td>264124</td>\n",
              "      <td>0.0</td>\n",
              "      <td>102611.96</td>\n",
              "      <td>0.0</td>\n",
              "      <td>0.0</td>\n",
              "      <td>102611.96</td>\n",
              "      <td>126645.73</td>\n",
              "      <td>0.0</td>\n",
              "      <td>0.0</td>\n",
              "      <td>0.0</td>\n",
              "      <td>0.0</td>\n",
              "      <td>29.651700</td>\n",
              "      <td>-82.325300</td>\n",
              "      <td>4.0</td>\n",
              "      <td>1</td>\n",
              "      <td>1</td>\n",
              "      <td>0</td>\n",
              "      <td>0</td>\n",
              "      <td>0</td>\n",
              "      <td>0</td>\n",
              "      <td>0</td>\n",
              "      <td>0</td>\n",
              "      <td>0</td>\n",
              "      <td>0</td>\n",
              "      <td>0</td>\n",
              "      <td>0</td>\n",
              "      <td>0</td>\n",
              "      <td>0</td>\n",
              "      <td>0</td>\n",
              "      <td>0</td>\n",
              "      <td>0</td>\n",
              "      <td>0</td>\n",
              "      <td>0</td>\n",
              "      <td>0</td>\n",
              "      <td>0</td>\n",
              "      <td>0</td>\n",
              "      <td>0</td>\n",
              "      <td>0</td>\n",
              "      <td>0</td>\n",
              "      <td>0</td>\n",
              "      <td>0</td>\n",
              "      <td>0</td>\n",
              "      <td>0</td>\n",
              "      <td>0</td>\n",
              "      <td>0</td>\n",
              "      <td>0</td>\n",
              "      <td>0</td>\n",
              "      <td>0</td>\n",
              "      <td>0</td>\n",
              "      <td>0</td>\n",
              "      <td>0</td>\n",
              "      <td>0</td>\n",
              "      <td>1</td>\n",
              "      <td>0</td>\n",
              "      <td>0</td>\n",
              "      <td>0</td>\n",
              "      <td>0</td>\n",
              "      <td>1</td>\n",
              "    </tr>\n",
              "    <tr>\n",
              "      <th>9459</th>\n",
              "      <td>494493</td>\n",
              "      <td>0.0</td>\n",
              "      <td>90249.10</td>\n",
              "      <td>0.0</td>\n",
              "      <td>0.0</td>\n",
              "      <td>90249.10</td>\n",
              "      <td>89924.20</td>\n",
              "      <td>0.0</td>\n",
              "      <td>0.0</td>\n",
              "      <td>0.0</td>\n",
              "      <td>0.0</td>\n",
              "      <td>29.651700</td>\n",
              "      <td>-82.325300</td>\n",
              "      <td>4.0</td>\n",
              "      <td>1</td>\n",
              "      <td>1</td>\n",
              "      <td>0</td>\n",
              "      <td>0</td>\n",
              "      <td>0</td>\n",
              "      <td>0</td>\n",
              "      <td>0</td>\n",
              "      <td>0</td>\n",
              "      <td>0</td>\n",
              "      <td>0</td>\n",
              "      <td>0</td>\n",
              "      <td>0</td>\n",
              "      <td>0</td>\n",
              "      <td>0</td>\n",
              "      <td>0</td>\n",
              "      <td>0</td>\n",
              "      <td>0</td>\n",
              "      <td>0</td>\n",
              "      <td>0</td>\n",
              "      <td>0</td>\n",
              "      <td>0</td>\n",
              "      <td>0</td>\n",
              "      <td>0</td>\n",
              "      <td>0</td>\n",
              "      <td>0</td>\n",
              "      <td>0</td>\n",
              "      <td>0</td>\n",
              "      <td>0</td>\n",
              "      <td>0</td>\n",
              "      <td>0</td>\n",
              "      <td>0</td>\n",
              "      <td>0</td>\n",
              "      <td>0</td>\n",
              "      <td>0</td>\n",
              "      <td>0</td>\n",
              "      <td>0</td>\n",
              "      <td>0</td>\n",
              "      <td>0</td>\n",
              "      <td>1</td>\n",
              "      <td>0</td>\n",
              "      <td>0</td>\n",
              "      <td>0</td>\n",
              "      <td>0</td>\n",
              "      <td>1</td>\n",
              "    </tr>\n",
              "    <tr>\n",
              "      <th>9460</th>\n",
              "      <td>972124</td>\n",
              "      <td>0.0</td>\n",
              "      <td>102611.96</td>\n",
              "      <td>0.0</td>\n",
              "      <td>0.0</td>\n",
              "      <td>102611.96</td>\n",
              "      <td>107383.41</td>\n",
              "      <td>0.0</td>\n",
              "      <td>0.0</td>\n",
              "      <td>0.0</td>\n",
              "      <td>0.0</td>\n",
              "      <td>29.651700</td>\n",
              "      <td>-82.325300</td>\n",
              "      <td>4.0</td>\n",
              "      <td>1</td>\n",
              "      <td>1</td>\n",
              "      <td>0</td>\n",
              "      <td>0</td>\n",
              "      <td>0</td>\n",
              "      <td>0</td>\n",
              "      <td>0</td>\n",
              "      <td>0</td>\n",
              "      <td>0</td>\n",
              "      <td>0</td>\n",
              "      <td>0</td>\n",
              "      <td>0</td>\n",
              "      <td>0</td>\n",
              "      <td>0</td>\n",
              "      <td>0</td>\n",
              "      <td>0</td>\n",
              "      <td>0</td>\n",
              "      <td>0</td>\n",
              "      <td>0</td>\n",
              "      <td>0</td>\n",
              "      <td>0</td>\n",
              "      <td>0</td>\n",
              "      <td>0</td>\n",
              "      <td>0</td>\n",
              "      <td>0</td>\n",
              "      <td>0</td>\n",
              "      <td>0</td>\n",
              "      <td>0</td>\n",
              "      <td>0</td>\n",
              "      <td>0</td>\n",
              "      <td>0</td>\n",
              "      <td>0</td>\n",
              "      <td>0</td>\n",
              "      <td>0</td>\n",
              "      <td>0</td>\n",
              "      <td>0</td>\n",
              "      <td>0</td>\n",
              "      <td>0</td>\n",
              "      <td>1</td>\n",
              "      <td>0</td>\n",
              "      <td>0</td>\n",
              "      <td>0</td>\n",
              "      <td>0</td>\n",
              "      <td>1</td>\n",
              "    </tr>\n",
              "    <tr>\n",
              "      <th>9461</th>\n",
              "      <td>566824</td>\n",
              "      <td>0.0</td>\n",
              "      <td>75413.89</td>\n",
              "      <td>0.0</td>\n",
              "      <td>0.0</td>\n",
              "      <td>75413.89</td>\n",
              "      <td>65675.32</td>\n",
              "      <td>NaN</td>\n",
              "      <td>NaN</td>\n",
              "      <td>NaN</td>\n",
              "      <td>NaN</td>\n",
              "      <td>NaN</td>\n",
              "      <td>NaN</td>\n",
              "      <td>NaN</td>\n",
              "      <td>1</td>\n",
              "      <td>1</td>\n",
              "      <td>0</td>\n",
              "      <td>0</td>\n",
              "      <td>0</td>\n",
              "      <td>0</td>\n",
              "      <td>0</td>\n",
              "      <td>0</td>\n",
              "      <td>0</td>\n",
              "      <td>0</td>\n",
              "      <td>0</td>\n",
              "      <td>0</td>\n",
              "      <td>0</td>\n",
              "      <td>0</td>\n",
              "      <td>0</td>\n",
              "      <td>0</td>\n",
              "      <td>0</td>\n",
              "      <td>0</td>\n",
              "      <td>0</td>\n",
              "      <td>0</td>\n",
              "      <td>0</td>\n",
              "      <td>0</td>\n",
              "      <td>0</td>\n",
              "      <td>0</td>\n",
              "      <td>0</td>\n",
              "      <td>0</td>\n",
              "      <td>0</td>\n",
              "      <td>0</td>\n",
              "      <td>0</td>\n",
              "      <td>0</td>\n",
              "      <td>0</td>\n",
              "      <td>0</td>\n",
              "      <td>0</td>\n",
              "      <td>0</td>\n",
              "      <td>0</td>\n",
              "      <td>0</td>\n",
              "      <td>0</td>\n",
              "      <td>0</td>\n",
              "      <td>0</td>\n",
              "      <td>0</td>\n",
              "      <td>0</td>\n",
              "      <td>0</td>\n",
              "      <td>0</td>\n",
              "      <td>0</td>\n",
              "    </tr>\n",
              "  </tbody>\n",
              "</table>\n",
              "<p>9462 rows × 58 columns</p>\n",
              "</div>"
            ],
            "text/plain": [
              "      policyID  eq_site_limit  ...  construction_Steel Frame  construction_Wood\n",
              "0       119736       498960.0  ...                         0                  0\n",
              "1       448094      1322376.3  ...                         0                  0\n",
              "2       206893       190724.4  ...                         0                  1\n",
              "3       333743            0.0  ...                         0                  1\n",
              "4       172534            0.0  ...                         0                  1\n",
              "...        ...            ...  ...                       ...                ...\n",
              "9457    441177            0.0  ...                         0                  1\n",
              "9458    264124            0.0  ...                         0                  1\n",
              "9459    494493            0.0  ...                         0                  1\n",
              "9460    972124            0.0  ...                         0                  1\n",
              "9461    566824            0.0  ...                         0                  0\n",
              "\n",
              "[9462 rows x 58 columns]"
            ]
          },
          "metadata": {
            "tags": []
          },
          "execution_count": 53
        }
      ]
    },
    {
      "cell_type": "code",
      "metadata": {
        "id": "I58EDWJUSqqL",
        "colab_type": "code",
        "outputId": "a49d237d-79d3-4650-b162-0527d74fbbc1",
        "colab": {
          "base_uri": "https://localhost:8080/",
          "height": 35
        }
      },
      "source": [
        "pd.get_dummies(data).shape[1]"
      ],
      "execution_count": 0,
      "outputs": [
        {
          "output_type": "execute_result",
          "data": {
            "text/plain": [
              "58"
            ]
          },
          "metadata": {
            "tags": []
          },
          "execution_count": 54
        }
      ]
    }
  ]
}