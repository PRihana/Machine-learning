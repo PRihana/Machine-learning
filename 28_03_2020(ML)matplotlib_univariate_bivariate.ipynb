{
  "nbformat": 4,
  "nbformat_minor": 0,
  "metadata": {
    "colab": {
      "name": "28-03-2020(ML)matplotlib-univariate-bivariate.ipynb",
      "provenance": [],
      "collapsed_sections": [],
      "authorship_tag": "ABX9TyNnMlQfF19J9OY3i6iNSxUF",
      "include_colab_link": true
    },
    "kernelspec": {
      "name": "python3",
      "display_name": "Python 3"
    }
  },
  "cells": [
    {
      "cell_type": "markdown",
      "metadata": {
        "id": "view-in-github",
        "colab_type": "text"
      },
      "source": [
        "<a href=\"https://colab.research.google.com/github/PRihana/Machine-learning/blob/master/28_03_2020(ML)matplotlib_univariate_bivariate.ipynb\" target=\"_parent\"><img src=\"https://colab.research.google.com/assets/colab-badge.svg\" alt=\"Open In Colab\"/></a>"
      ]
    },
    {
      "cell_type": "code",
      "metadata": {
        "id": "WroECPXktqKb",
        "colab_type": "code",
        "colab": {}
      },
      "source": [
        "import numpy as np\n",
        "import pandas as pd\n",
        "import matplotlib.pyplot as plt\n",
        "%matplotlib inline"
      ],
      "execution_count": 0,
      "outputs": []
    },
    {
      "cell_type": "markdown",
      "metadata": {
        "id": "QCR6cDnRuAtk",
        "colab_type": "text"
      },
      "source": [
        "**Visualation**\n",
        "\n",
        "- univariate\n",
        "  - bar -categorical data\n",
        "  - pie\n",
        "  - hist - Numerical column\n",
        "  - box\n",
        "- Bivariate\n",
        "  - scatter\n",
        "\n",
        "**Functions**\n",
        "\n",
        "- plot\n",
        "- scatter\n",
        "- bar\n",
        "- box\n",
        "- histogram\n",
        "- pie\n",
        "- fill_between\n",
        "- step\n"
      ]
    },
    {
      "cell_type": "code",
      "metadata": {
        "id": "uhcWtYSiwXMT",
        "colab_type": "code",
        "outputId": "93bfc166-d4a8-4043-e318-2632a0ee63ab",
        "colab": {
          "base_uri": "https://localhost:8080/",
          "height": 283
        }
      },
      "source": [
        "x = np.random.randint(50,200,100)\n",
        "y = np.random.randint(50,200,100)\n",
        "plt.scatter(x,y)"
      ],
      "execution_count": 0,
      "outputs": [
        {
          "output_type": "execute_result",
          "data": {
            "text/plain": [
              "<matplotlib.collections.PathCollection at 0x7f3d343c5630>"
            ]
          },
          "metadata": {
            "tags": []
          },
          "execution_count": 33
        },
        {
          "output_type": "display_data",
          "data": {
            "image/png": "[encoded data removed]",
            "text/plain": [
              "<Figure size 432x288 with 1 Axes>"
            ]
          },
          "metadata": {
            "tags": []
          }
        }
      ]
    },
    {
      "cell_type": "code",
      "metadata": {
        "id": "fx6IedKhwh17",
        "colab_type": "code",
        "outputId": "1347c8a1-b3b2-4f33-8f44-27f53da22128",
        "colab": {
          "base_uri": "https://localhost:8080/",
          "height": 283
        }
      },
      "source": [
        "x = np.random.randint(50,200,100)\n",
        "y = x*2\n",
        "plt.scatter(x,y)"
      ],
      "execution_count": 0,
      "outputs": [
        {
          "output_type": "execute_result",
          "data": {
            "text/plain": [
              "<matplotlib.collections.PathCollection at 0x7f3d345d4278>"
            ]
          },
          "metadata": {
            "tags": []
          },
          "execution_count": 34
        },
        {
          "output_type": "display_data",
          "data": {
            "image/png": "[encoded data removed]",
            "text/plain": [
              "<Figure size 432x288 with 1 Axes>"
            ]
          },
          "metadata": {
            "tags": []
          }
        }
      ]
    },
    {
      "cell_type": "code",
      "metadata": {
        "id": "Uv9Z8p7xyqL6",
        "colab_type": "code",
        "outputId": "f64c9045-8fb6-4bc7-c5b9-18f2db0ebb8c",
        "colab": {
          "base_uri": "https://localhost:8080/",
          "height": 283
        }
      },
      "source": [
        "x = np.random.randint(50,200,100)\n",
        "y = x*2 + x*x + 6\n",
        "plt.scatter(x,y)"
      ],
      "execution_count": 0,
      "outputs": [
        {
          "output_type": "execute_result",
          "data": {
            "text/plain": [
              "<matplotlib.collections.PathCollection at 0x7f3d34357ac8>"
            ]
          },
          "metadata": {
            "tags": []
          },
          "execution_count": 35
        },
        {
          "output_type": "display_data",
          "data": {
            "image/png": "[encoded data removed]",
            "text/plain": [
              "<Figure size 432x288 with 1 Axes>"
            ]
          },
          "metadata": {
            "tags": []
          }
        }
      ]
    },
    {
      "cell_type": "code",
      "metadata": {
        "id": "UeaWjPNgyw9i",
        "colab_type": "code",
        "outputId": "3e67b9a6-a8b6-4ef2-93bf-6a6fc96fa3aa",
        "colab": {
          "base_uri": "https://localhost:8080/",
          "height": 283
        }
      },
      "source": [
        "x = np.random.randint(50,200,100)\n",
        "y = np.random.randint(10,50,100)\n",
        "plt.scatter(x,y)"
      ],
      "execution_count": 0,
      "outputs": [
        {
          "output_type": "execute_result",
          "data": {
            "text/plain": [
              "<matplotlib.collections.PathCollection at 0x7f3d342c0978>"
            ]
          },
          "metadata": {
            "tags": []
          },
          "execution_count": 36
        },
        {
          "output_type": "display_data",
          "data": {
            "image/png": "[encoded data removed]",
            "text/plain": [
              "<Figure size 432x288 with 1 Axes>"
            ]
          },
          "metadata": {
            "tags": []
          }
        }
      ]
    },
    {
      "cell_type": "code",
      "metadata": {
        "id": "p5_JDxLayqId",
        "colab_type": "code",
        "outputId": "6293cc7f-d145-4166-8922-63f269120c82",
        "colab": {
          "base_uri": "https://localhost:8080/",
          "height": 283
        }
      },
      "source": [
        "x = np.array([10,20,30,35,40,50])\n",
        "y = np.array([12,22,32,37,42,1])\n",
        "plt.scatter(x,y)"
      ],
      "execution_count": 0,
      "outputs": [
        {
          "output_type": "execute_result",
          "data": {
            "text/plain": [
              "<matplotlib.collections.PathCollection at 0x7f3d34460860>"
            ]
          },
          "metadata": {
            "tags": []
          },
          "execution_count": 37
        },
        {
          "output_type": "display_data",
          "data": {
            "image/png": "[encoded data removed]",
            "text/plain": [
              "<Figure size 432x288 with 1 Axes>"
            ]
          },
          "metadata": {
            "tags": []
          }
        }
      ]
    },
    {
      "cell_type": "code",
      "metadata": {
        "id": "gdnUEeYctqgW",
        "colab_type": "code",
        "outputId": "4d38bc8b-bbc1-4f78-ad0e-b6540f33418d",
        "colab": {
          "base_uri": "https://localhost:8080/",
          "height": 1000
        }
      },
      "source": [
        "help(plt.scatter)"
      ],
      "execution_count": 0,
      "outputs": [
        {
          "output_type": "stream",
          "text": [
            "Help on function scatter in module matplotlib.pyplot:\n",
            "\n",
            "scatter(x, y, s=None, c=None, marker=None, cmap=None, norm=None, vmin=None, vmax=None, alpha=None, linewidths=None, verts=<deprecated parameter>, edgecolors=None, *, plotnonfinite=False, data=None, **kwargs)\n",
            "    A scatter plot of *y* vs. *x* with varying marker size and/or color.\n",
            "    \n",
            "    Parameters\n",
            "    ----------\n",
            "    x, y : scalar or array-like, shape (n, )\n",
            "        The data positions.\n",
            "    \n",
            "    s : scalar or array-like, shape (n, ), optional\n",
            "        The marker size in points**2.\n",
            "        Default is ``rcParams['lines.markersize'] ** 2``.\n",
            "    \n",
            "    c : color, sequence, or sequence of colors, optional\n",
            "        The marker color. Possible values:\n",
            "    \n",
            "        - A single color format string.\n",
            "        - A sequence of colors of length n.\n",
            "        - A scalar or sequence of n numbers to be mapped to colors using\n",
            "          *cmap* and *norm*.\n",
            "        - A 2-D array in which the rows are RGB or RGBA.\n",
            "    \n",
            "        Note that *c* should not be a single numeric RGB or RGBA sequence\n",
            "        because that is indistinguishable from an array of values to be\n",
            "        colormapped. If you want to specify the same RGB or RGBA value for\n",
            "        all points, use a 2-D array with a single row.  Otherwise, value-\n",
            "        matching will have precedence in case of a size matching with *x*\n",
            "        and *y*.\n",
            "    \n",
            "        Defaults to ``None``. In that case the marker color is determined\n",
            "        by the value of ``color``, ``facecolor`` or ``facecolors``. In case\n",
            "        those are not specified or ``None``, the marker color is determined\n",
            "        by the next color of the ``Axes``' current \"shape and fill\" color\n",
            "        cycle. This cycle defaults to :rc:`axes.prop_cycle`.\n",
            "    \n",
            "    marker : `~matplotlib.markers.MarkerStyle`, optional\n",
            "        The marker style. *marker* can be either an instance of the class\n",
            "        or the text shorthand for a particular marker.\n",
            "        Defaults to ``None``, in which case it takes the value of\n",
            "        :rc:`scatter.marker` = 'o'.\n",
            "        See `~matplotlib.markers` for more information about marker styles.\n",
            "    \n",
            "    cmap : `~matplotlib.colors.Colormap`, optional, default: None\n",
            "        A `.Colormap` instance or registered colormap name. *cmap* is only\n",
            "        used if *c* is an array of floats. If ``None``, defaults to rc\n",
            "        ``image.cmap``.\n",
            "    \n",
            "    norm : `~matplotlib.colors.Normalize`, optional, default: None\n",
            "        A `.Normalize` instance is used to scale luminance data to 0, 1.\n",
            "        *norm* is only used if *c* is an array of floats. If *None*, use\n",
            "        the default `.colors.Normalize`.\n",
            "    \n",
            "    vmin, vmax : scalar, optional, default: None\n",
            "        *vmin* and *vmax* are used in conjunction with *norm* to normalize\n",
            "        luminance data. If None, the respective min and max of the color\n",
            "        array is used. *vmin* and *vmax* are ignored if you pass a *norm*\n",
            "        instance.\n",
            "    \n",
            "    alpha : scalar, optional, default: None\n",
            "        The alpha blending value, between 0 (transparent) and 1 (opaque).\n",
            "    \n",
            "    linewidths : scalar or array-like, optional, default: None\n",
            "        The linewidth of the marker edges. Note: The default *edgecolors*\n",
            "        is 'face'. You may want to change this as well.\n",
            "        If *None*, defaults to :rc:`lines.linewidth`.\n",
            "    \n",
            "    edgecolors : {'face', 'none', *None*} or color or sequence of color, optional.\n",
            "        The edge color of the marker. Possible values:\n",
            "    \n",
            "        - 'face': The edge color will always be the same as the face color.\n",
            "        - 'none': No patch boundary will be drawn.\n",
            "        - A Matplotlib color or sequence of color.\n",
            "    \n",
            "        Defaults to ``None``, in which case it takes the value of\n",
            "        :rc:`scatter.edgecolors` = 'face'.\n",
            "    \n",
            "        For non-filled markers, the *edgecolors* kwarg is ignored and\n",
            "        forced to 'face' internally.\n",
            "    \n",
            "    plotnonfinite : boolean, optional, default: False\n",
            "        Set to plot points with nonfinite *c*, in conjunction with\n",
            "        `~matplotlib.colors.Colormap.set_bad`.\n",
            "    \n",
            "    Returns\n",
            "    -------\n",
            "    paths : `~matplotlib.collections.PathCollection`\n",
            "    \n",
            "    Other Parameters\n",
            "    ----------------\n",
            "    **kwargs : `~matplotlib.collections.Collection` properties\n",
            "    \n",
            "    See Also\n",
            "    --------\n",
            "    plot : To plot scatter plots when markers are identical in size and\n",
            "        color.\n",
            "    \n",
            "    Notes\n",
            "    -----\n",
            "    * The `.plot` function will be faster for scatterplots where markers\n",
            "      don't vary in size or color.\n",
            "    \n",
            "    * Any or all of *x*, *y*, *s*, and *c* may be masked arrays, in which\n",
            "      case all masks will be combined and only unmasked points will be\n",
            "      plotted.\n",
            "    \n",
            "    * Fundamentally, scatter works with 1-D arrays; *x*, *y*, *s*, and *c*\n",
            "      may be input as N-D arrays, but within scatter they will be\n",
            "      flattened. The exception is *c*, which will be flattened only if its\n",
            "      size matches the size of *x* and *y*.\n",
            "    \n",
            "    .. note::\n",
            "        In addition to the above described arguments, this function can take a\n",
            "        **data** keyword argument. If such a **data** argument is given, the\n",
            "        following arguments are replaced by **data[<arg>]**:\n",
            "    \n",
            "        * All arguments with the following names: 'c', 'color', 'edgecolors', 'facecolor', 'facecolors', 'linewidths', 's', 'x', 'y'.\n",
            "    \n",
            "        Objects passed as **data** must support item access (``data[<arg>]``) and\n",
            "        membership test (``<arg> in data``).\n",
            "\n"
          ],
          "name": "stdout"
        }
      ]
    },
    {
      "cell_type": "code",
      "metadata": {
        "id": "mKYHgDQ9tqwD",
        "colab_type": "code",
        "outputId": "d37f6074-f9c8-439d-96a8-1f80f1a1b9e0",
        "colab": {
          "base_uri": "https://localhost:8080/",
          "height": 283
        }
      },
      "source": [
        "plt.scatter(x,y,marker='*')"
      ],
      "execution_count": 0,
      "outputs": [
        {
          "output_type": "execute_result",
          "data": {
            "text/plain": [
              "<matplotlib.collections.PathCollection at 0x7f3d3420e898>"
            ]
          },
          "metadata": {
            "tags": []
          },
          "execution_count": 39
        },
        {
          "output_type": "display_data",
          "data": {
            "image/png": "[encoded data removed]",
            "text/plain": [
              "<Figure size 432x288 with 1 Axes>"
            ]
          },
          "metadata": {
            "tags": []
          }
        }
      ]
    },
    {
      "cell_type": "code",
      "metadata": {
        "id": "lJDbtf1ztrET",
        "colab_type": "code",
        "outputId": "75560bf7-dab5-473c-afe1-c9cd7aa8250a",
        "colab": {
          "base_uri": "https://localhost:8080/",
          "height": 283
        }
      },
      "source": [
        "plt.scatter(x,y,marker='*',c='r')\n",
        "plt.scatter(x,x*x,c='b')"
      ],
      "execution_count": 0,
      "outputs": [
        {
          "output_type": "execute_result",
          "data": {
            "text/plain": [
              "<matplotlib.collections.PathCollection at 0x7f3d341b25c0>"
            ]
          },
          "metadata": {
            "tags": []
          },
          "execution_count": 40
        },
        {
          "output_type": "display_data",
          "data": {
            "image/png": "[encoded data removed]",
            "text/plain": [
              "<Figure size 432x288 with 1 Axes>"
            ]
          },
          "metadata": {
            "tags": []
          }
        }
      ]
    },
    {
      "cell_type": "code",
      "metadata": {
        "id": "-NXzvZBZtrR9",
        "colab_type": "code",
        "outputId": "144c9449-2e79-450f-811b-7b696bc3e79c",
        "colab": {
          "base_uri": "https://localhost:8080/",
          "height": 173
        }
      },
      "source": [
        "branches = pd.Series([\"ECE\",\"CSE\",\"ECE\",\"ECE\",\"CSE\",\"ECE\",\"IT\",\"ECE\"])\n",
        "branches"
      ],
      "execution_count": 0,
      "outputs": [
        {
          "output_type": "execute_result",
          "data": {
            "text/plain": [
              "0    ECE\n",
              "1    CSE\n",
              "2    ECE\n",
              "3    ECE\n",
              "4    CSE\n",
              "5    ECE\n",
              "6     IT\n",
              "7    ECE\n",
              "dtype: object"
            ]
          },
          "metadata": {
            "tags": []
          },
          "execution_count": 58
        }
      ]
    },
    {
      "cell_type": "code",
      "metadata": {
        "id": "dwUVU_rvtrQV",
        "colab_type": "code",
        "outputId": "a1294638-4957-44f3-cd80-cc0dd147134f",
        "colab": {
          "base_uri": "https://localhost:8080/",
          "height": 35
        }
      },
      "source": [
        "branches.nunique()"
      ],
      "execution_count": 0,
      "outputs": [
        {
          "output_type": "execute_result",
          "data": {
            "text/plain": [
              "3"
            ]
          },
          "metadata": {
            "tags": []
          },
          "execution_count": 59
        }
      ]
    },
    {
      "cell_type": "code",
      "metadata": {
        "id": "2DXgRtF5tq9i",
        "colab_type": "code",
        "outputId": "79cd8da0-c233-466d-9fa7-c06cbe852583",
        "colab": {
          "base_uri": "https://localhost:8080/",
          "height": 35
        }
      },
      "source": [
        "branches.unique()"
      ],
      "execution_count": 0,
      "outputs": [
        {
          "output_type": "execute_result",
          "data": {
            "text/plain": [
              "array(['ECE', 'CSE', 'IT'], dtype=object)"
            ]
          },
          "metadata": {
            "tags": []
          },
          "execution_count": 60
        }
      ]
    },
    {
      "cell_type": "code",
      "metadata": {
        "id": "T0fHSmojtq2k",
        "colab_type": "code",
        "colab": {}
      },
      "source": [
        "branch_wise = branches.value_counts() # output is a pandas series"
      ],
      "execution_count": 0,
      "outputs": []
    },
    {
      "cell_type": "code",
      "metadata": {
        "id": "LiFXa09lSI8L",
        "colab_type": "code",
        "outputId": "d3fc22d1-87b5-42dc-b505-2a1973f02755",
        "colab": {
          "base_uri": "https://localhost:8080/",
          "height": 35
        }
      },
      "source": [
        "unique_branches = branch_wise.index\n",
        "unique_branches"
      ],
      "execution_count": 0,
      "outputs": [
        {
          "output_type": "execute_result",
          "data": {
            "text/plain": [
              "Index(['ECE', 'CSE', 'IT'], dtype='object')"
            ]
          },
          "metadata": {
            "tags": []
          },
          "execution_count": 62
        }
      ]
    },
    {
      "cell_type": "code",
      "metadata": {
        "id": "t7d4EJMDSPFE",
        "colab_type": "code",
        "outputId": "f55b7bb4-4673-4221-b02f-3c21a21dcaaf",
        "colab": {
          "base_uri": "https://localhost:8080/",
          "height": 283
        }
      },
      "source": [
        "plt.bar(unique_branches,branch_wise)"
      ],
      "execution_count": 0,
      "outputs": [
        {
          "output_type": "execute_result",
          "data": {
            "text/plain": [
              "<BarContainer object of 3 artists>"
            ]
          },
          "metadata": {
            "tags": []
          },
          "execution_count": 63
        },
        {
          "output_type": "display_data",
          "data": {
            "image/png": "[encoded data removed]",
            "text/plain": [
              "<Figure size 432x288 with 1 Axes>"
            ]
          },
          "metadata": {
            "tags": []
          }
        }
      ]
    },
    {
      "cell_type": "code",
      "metadata": {
        "id": "iQ9Klq4dSPNR",
        "colab_type": "code",
        "outputId": "5625b606-7483-429f-80a8-1357122a98e0",
        "colab": {
          "base_uri": "https://localhost:8080/",
          "height": 283
        }
      },
      "source": [
        "plt.bar([\"hotels\",\"hospitals\"],[10,15])"
      ],
      "execution_count": 0,
      "outputs": [
        {
          "output_type": "execute_result",
          "data": {
            "text/plain": [
              "<BarContainer object of 2 artists>"
            ]
          },
          "metadata": {
            "tags": []
          },
          "execution_count": 64
        },
        {
          "output_type": "display_data",
          "data": {
            "image/png": "[encoded data removed]",
            "text/plain": [
              "<Figure size 432x288 with 1 Axes>"
            ]
          },
          "metadata": {
            "tags": []
          }
        }
      ]
    },
    {
      "cell_type": "code",
      "metadata": {
        "id": "MEycQMnETxgM",
        "colab_type": "code",
        "outputId": "aa71351a-3118-4a65-dc15-53dd956dc8c1",
        "colab": {
          "base_uri": "https://localhost:8080/",
          "height": 337
        }
      },
      "source": [
        "plt.bar([\"hotels\",\"hospitals\"],[10,15],color=\"rg\")"
      ],
      "execution_count": 0,
      "outputs": [
        {
          "output_type": "stream",
          "text": [
            "/usr/local/lib/python3.6/dist-packages/ipykernel_launcher.py:1: MatplotlibDeprecationWarning: Using a string of single character colors as a color sequence is deprecated. Use an explicit list instead.\n",
            "  \"\"\"Entry point for launching an IPython kernel.\n"
          ],
          "name": "stderr"
        },
        {
          "output_type": "execute_result",
          "data": {
            "text/plain": [
              "<BarContainer object of 2 artists>"
            ]
          },
          "metadata": {
            "tags": []
          },
          "execution_count": 65
        },
        {
          "output_type": "display_data",
          "data": {
            "image/png": "[encoded data removed]",
            "text/plain": [
              "<Figure size 432x288 with 1 Axes>"
            ]
          },
          "metadata": {
            "tags": []
          }
        }
      ]
    },
    {
      "cell_type": "code",
      "metadata": {
        "id": "t8QacwgxT2oY",
        "colab_type": "code",
        "outputId": "44d56f3a-c9b9-4b11-a049-85d7595beb65",
        "colab": {
          "base_uri": "https://localhost:8080/",
          "height": 1000
        }
      },
      "source": [
        "help(plt.bar)"
      ],
      "execution_count": 0,
      "outputs": [
        {
          "output_type": "stream",
          "text": [
            "Help on function bar in module matplotlib.pyplot:\n",
            "\n",
            "bar(x, height, width=0.8, bottom=None, *, align='center', data=None, **kwargs)\n",
            "    Make a bar plot.\n",
            "    \n",
            "    The bars are positioned at *x* with the given *align*\\ment. Their\n",
            "    dimensions are given by *width* and *height*. The vertical baseline\n",
            "    is *bottom* (default 0).\n",
            "    \n",
            "    Each of *x*, *height*, *width*, and *bottom* may either be a scalar\n",
            "    applying to all bars, or it may be a sequence of length N providing a\n",
            "    separate value for each bar.\n",
            "    \n",
            "    Parameters\n",
            "    ----------\n",
            "    x : sequence of scalars\n",
            "        The x coordinates of the bars. See also *align* for the\n",
            "        alignment of the bars to the coordinates.\n",
            "    \n",
            "    height : scalar or sequence of scalars\n",
            "        The height(s) of the bars.\n",
            "    \n",
            "    width : scalar or array-like, optional\n",
            "        The width(s) of the bars (default: 0.8).\n",
            "    \n",
            "    bottom : scalar or array-like, optional\n",
            "        The y coordinate(s) of the bars bases (default: 0).\n",
            "    \n",
            "    align : {'center', 'edge'}, optional, default: 'center'\n",
            "        Alignment of the bars to the *x* coordinates:\n",
            "    \n",
            "        - 'center': Center the base on the *x* positions.\n",
            "        - 'edge': Align the left edges of the bars with the *x* positions.\n",
            "    \n",
            "        To align the bars on the right edge pass a negative *width* and\n",
            "        ``align='edge'``.\n",
            "    \n",
            "    Returns\n",
            "    -------\n",
            "    container : `.BarContainer`\n",
            "        Container with all the bars and optionally errorbars.\n",
            "    \n",
            "    Other Parameters\n",
            "    ----------------\n",
            "    color : scalar or array-like, optional\n",
            "        The colors of the bar faces.\n",
            "    \n",
            "    edgecolor : scalar or array-like, optional\n",
            "        The colors of the bar edges.\n",
            "    \n",
            "    linewidth : scalar or array-like, optional\n",
            "        Width of the bar edge(s). If 0, don't draw edges.\n",
            "    \n",
            "    tick_label : str or array-like, optional\n",
            "        The tick labels of the bars.\n",
            "        Default: None (Use default numeric labels.)\n",
            "    \n",
            "    xerr, yerr : scalar or array-like of shape(N,) or shape(2, N), optional\n",
            "        If not *None*, add horizontal / vertical errorbars to the bar tips.\n",
            "        The values are +/- sizes relative to the data:\n",
            "    \n",
            "        - scalar: symmetric +/- values for all bars\n",
            "        - shape(N,): symmetric +/- values for each bar\n",
            "        - shape(2, N): Separate - and + values for each bar. First row\n",
            "          contains the lower errors, the second row contains the upper\n",
            "          errors.\n",
            "        - *None*: No errorbar. (Default)\n",
            "    \n",
            "        See :doc:`/gallery/statistics/errorbar_features`\n",
            "        for an example on the usage of ``xerr`` and ``yerr``.\n",
            "    \n",
            "    ecolor : scalar or array-like, optional, default: 'black'\n",
            "        The line color of the errorbars.\n",
            "    \n",
            "    capsize : scalar, optional\n",
            "       The length of the error bar caps in points.\n",
            "       Default: None, which will take the value from\n",
            "       :rc:`errorbar.capsize`.\n",
            "    \n",
            "    error_kw : dict, optional\n",
            "        Dictionary of kwargs to be passed to the `~.Axes.errorbar`\n",
            "        method. Values of *ecolor* or *capsize* defined here take\n",
            "        precedence over the independent kwargs.\n",
            "    \n",
            "    log : bool, optional, default: False\n",
            "        If *True*, set the y-axis to be log scale.\n",
            "    \n",
            "    orientation : {'vertical',  'horizontal'}, optional\n",
            "        *This is for internal use only.* Please use `barh` for\n",
            "        horizontal bar plots. Default: 'vertical'.\n",
            "    \n",
            "    See also\n",
            "    --------\n",
            "    barh: Plot a horizontal bar plot.\n",
            "    \n",
            "    Notes\n",
            "    -----\n",
            "    The optional arguments *color*, *edgecolor*, *linewidth*,\n",
            "    *xerr*, and *yerr* can be either scalars or sequences of\n",
            "    length equal to the number of bars.  This enables you to use\n",
            "    bar as the basis for stacked bar charts, or candlestick plots.\n",
            "    Detail: *xerr* and *yerr* are passed directly to\n",
            "    :meth:`errorbar`, so they can also have shape 2xN for\n",
            "    independent specification of lower and upper errors.\n",
            "    \n",
            "    Other optional kwargs:\n",
            "    \n",
            "    Properties:\n",
            "        agg_filter: a filter function, which takes a (m, n, 3) float array and a dpi value, and returns a (m, n, 3) array\n",
            "        alpha: float or None\n",
            "        animated: bool\n",
            "        antialiased or aa: unknown\n",
            "        capstyle: {'butt', 'round', 'projecting'}\n",
            "        clip_box: `.Bbox`\n",
            "        clip_on: bool\n",
            "        clip_path: Patch or (Path, Transform) or None\n",
            "        color: color\n",
            "        contains: callable\n",
            "        edgecolor or ec: color or None or 'auto'\n",
            "        facecolor or fc: color or None\n",
            "        figure: `.Figure`\n",
            "        fill: bool\n",
            "        gid: str\n",
            "        hatch: {'/', '\\\\', '|', '-', '+', 'x', 'o', 'O', '.', '*'}\n",
            "        in_layout: bool\n",
            "        joinstyle: {'miter', 'round', 'bevel'}\n",
            "        label: object\n",
            "        linestyle or ls: {'-', '--', '-.', ':', '', (offset, on-off-seq), ...}\n",
            "        linewidth or lw: float or None\n",
            "        path_effects: `.AbstractPathEffect`\n",
            "        picker: None or bool or float or callable\n",
            "        rasterized: bool or None\n",
            "        sketch_params: (scale: float, length: float, randomness: float)\n",
            "        snap: bool or None\n",
            "        transform: `.Transform`\n",
            "        url: str\n",
            "        visible: bool\n",
            "        zorder: float\n",
            "    \n",
            "    .. note::\n",
            "        In addition to the above described arguments, this function can take a\n",
            "        **data** keyword argument. If such a **data** argument is given, the\n",
            "        following arguments are replaced by **data[<arg>]**:\n",
            "    \n",
            "        * All positional and all keyword arguments.\n",
            "    \n",
            "        Objects passed as **data** must support item access (``data[<arg>]``) and\n",
            "        membership test (``<arg> in data``).\n",
            "\n"
          ],
          "name": "stdout"
        }
      ]
    },
    {
      "cell_type": "code",
      "metadata": {
        "id": "gKxNjvIqUBZ4",
        "colab_type": "code",
        "outputId": "c730e3bc-803c-4f9f-ecca-ba1d53c02ebc",
        "colab": {
          "base_uri": "https://localhost:8080/",
          "height": 87
        }
      },
      "source": [
        "branches.value_counts(normalize=True)"
      ],
      "execution_count": 0,
      "outputs": [
        {
          "output_type": "execute_result",
          "data": {
            "text/plain": [
              "ECE    0.625\n",
              "CSE    0.250\n",
              "IT     0.125\n",
              "dtype: float64"
            ]
          },
          "metadata": {
            "tags": []
          },
          "execution_count": 67
        }
      ]
    },
    {
      "cell_type": "code",
      "metadata": {
        "id": "uG43fSfXUGh3",
        "colab_type": "code",
        "outputId": "00f6d4f7-7bb6-4b8e-cd45-20607c0a2308",
        "colab": {
          "base_uri": "https://localhost:8080/",
          "height": 87
        }
      },
      "source": [
        "branches.value_counts()"
      ],
      "execution_count": 0,
      "outputs": [
        {
          "output_type": "execute_result",
          "data": {
            "text/plain": [
              "ECE    5\n",
              "CSE    2\n",
              "IT     1\n",
              "dtype: int64"
            ]
          },
          "metadata": {
            "tags": []
          },
          "execution_count": 69
        }
      ]
    },
    {
      "cell_type": "code",
      "metadata": {
        "id": "eP2qWIYzU2HS",
        "colab_type": "code",
        "outputId": "42034be0-788c-46bd-b860-a02aaca572f8",
        "colab": {
          "base_uri": "https://localhost:8080/",
          "height": 87
        }
      },
      "source": [
        "branches.value_counts() / branches.shape[0]"
      ],
      "execution_count": 0,
      "outputs": [
        {
          "output_type": "execute_result",
          "data": {
            "text/plain": [
              "ECE    0.625\n",
              "CSE    0.250\n",
              "IT     0.125\n",
              "dtype: float64"
            ]
          },
          "metadata": {
            "tags": []
          },
          "execution_count": 70
        }
      ]
    },
    {
      "cell_type": "code",
      "metadata": {
        "id": "hVy8c4VLVAC7",
        "colab_type": "code",
        "outputId": "c4009efd-c973-4168-d54b-b748dc92fda8",
        "colab": {
          "base_uri": "https://localhost:8080/",
          "height": 1000
        }
      },
      "source": [
        "help(plt.pie)"
      ],
      "execution_count": 0,
      "outputs": [
        {
          "output_type": "stream",
          "text": [
            "Help on function pie in module matplotlib.pyplot:\n",
            "\n",
            "pie(x, explode=None, labels=None, colors=None, autopct=None, pctdistance=0.6, shadow=False, labeldistance=1.1, startangle=None, radius=None, counterclock=True, wedgeprops=None, textprops=None, center=(0, 0), frame=False, rotatelabels=False, *, data=None)\n",
            "    Plot a pie chart.\n",
            "    \n",
            "    Make a pie chart of array *x*.  The fractional area of each wedge is\n",
            "    given by ``x/sum(x)``.  If ``sum(x) < 1``, then the values of *x* give\n",
            "    the fractional area directly and the array will not be normalized. The\n",
            "    resulting pie will have an empty wedge of size ``1 - sum(x)``.\n",
            "    \n",
            "    The wedges are plotted counterclockwise, by default starting from the\n",
            "    x-axis.\n",
            "    \n",
            "    Parameters\n",
            "    ----------\n",
            "    x : array-like\n",
            "        The wedge sizes.\n",
            "    \n",
            "    explode : array-like, optional, default: None\n",
            "        If not *None*, is a ``len(x)`` array which specifies the fraction\n",
            "        of the radius with which to offset each wedge.\n",
            "    \n",
            "    labels : list, optional, default: None\n",
            "        A sequence of strings providing the labels for each wedge\n",
            "    \n",
            "    colors : array-like, optional, default: None\n",
            "        A sequence of matplotlib color args through which the pie chart\n",
            "        will cycle.  If *None*, will use the colors in the currently\n",
            "        active cycle.\n",
            "    \n",
            "    autopct : None (default), str, or function, optional\n",
            "        If not *None*, is a string or function used to label the wedges\n",
            "        with their numeric value.  The label will be placed inside the\n",
            "        wedge.  If it is a format string, the label will be ``fmt%pct``.\n",
            "        If it is a function, it will be called.\n",
            "    \n",
            "    pctdistance : float, optional, default: 0.6\n",
            "        The ratio between the center of each pie slice and the start of\n",
            "        the text generated by *autopct*.  Ignored if *autopct* is *None*.\n",
            "    \n",
            "    shadow : bool, optional, default: False\n",
            "        Draw a shadow beneath the pie.\n",
            "    \n",
            "    labeldistance : float or None, optional, default: 1.1\n",
            "        The radial distance at which the pie labels are drawn.\n",
            "        If set to ``None``, label are not drawn, but are stored for use in\n",
            "        ``legend()``\n",
            "    \n",
            "    startangle : float, optional, default: None\n",
            "        If not *None*, rotates the start of the pie chart by *angle*\n",
            "        degrees counterclockwise from the x-axis.\n",
            "    \n",
            "    radius : float, optional, default: None\n",
            "        The radius of the pie, if *radius* is *None* it will be set to 1.\n",
            "    \n",
            "    counterclock : bool, optional, default: True\n",
            "        Specify fractions direction, clockwise or counterclockwise.\n",
            "    \n",
            "    wedgeprops : dict, optional, default: None\n",
            "        Dict of arguments passed to the wedge objects making the pie.\n",
            "        For example, you can pass in ``wedgeprops = {'linewidth': 3}``\n",
            "        to set the width of the wedge border lines equal to 3.\n",
            "        For more details, look at the doc/arguments of the wedge object.\n",
            "        By default ``clip_on=False``.\n",
            "    \n",
            "    textprops : dict, optional, default: None\n",
            "        Dict of arguments to pass to the text objects.\n",
            "    \n",
            "    center :  list of float, optional, default: (0, 0)\n",
            "        Center position of the chart. Takes value (0, 0) or is a sequence\n",
            "        of 2 scalars.\n",
            "    \n",
            "    frame : bool, optional, default: False\n",
            "        Plot axes frame with the chart if true.\n",
            "    \n",
            "    rotatelabels : bool, optional, default: False\n",
            "        Rotate each label to the angle of the corresponding slice if true.\n",
            "    \n",
            "    Returns\n",
            "    -------\n",
            "    patches : list\n",
            "        A sequence of :class:`matplotlib.patches.Wedge` instances\n",
            "    \n",
            "    texts : list\n",
            "        A list of the label :class:`matplotlib.text.Text` instances.\n",
            "    \n",
            "    autotexts : list\n",
            "        A list of :class:`~matplotlib.text.Text` instances for the numeric\n",
            "        labels. This will only be returned if the parameter *autopct* is\n",
            "        not *None*.\n",
            "    \n",
            "    Notes\n",
            "    -----\n",
            "    The pie chart will probably look best if the figure and axes are\n",
            "    square, or the Axes aspect is equal.\n",
            "    This method sets the aspect ratio of the axis to \"equal\".\n",
            "    The axes aspect ratio can be controlled with `Axes.set_aspect`.\n",
            "    \n",
            "    .. note::\n",
            "        In addition to the above described arguments, this function can take a\n",
            "        **data** keyword argument. If such a **data** argument is given, the\n",
            "        following arguments are replaced by **data[<arg>]**:\n",
            "    \n",
            "        * All arguments with the following names: 'colors', 'explode', 'labels', 'x'.\n",
            "    \n",
            "        Objects passed as **data** must support item access (``data[<arg>]``) and\n",
            "        membership test (``<arg> in data``).\n",
            "\n"
          ],
          "name": "stdout"
        }
      ]
    },
    {
      "cell_type": "code",
      "metadata": {
        "id": "T2wyP9TsVghJ",
        "colab_type": "code",
        "outputId": "703897fa-9e3a-4a9c-8816-e9a7c37c8a4c",
        "colab": {
          "base_uri": "https://localhost:8080/",
          "height": 352
        }
      },
      "source": [
        "plt.pie(branches.value_counts(normalize=True))"
      ],
      "execution_count": 0,
      "outputs": [
        {
          "output_type": "execute_result",
          "data": {
            "text/plain": [
              "([<matplotlib.patches.Wedge at 0x7f3d32d6b3c8>,\n",
              "  <matplotlib.patches.Wedge at 0x7f3d32d6b940>,\n",
              "  <matplotlib.patches.Wedge at 0x7f3d32d6be48>],\n",
              " [Text(-0.42095177560159874, 1.0162674857624154, ''),\n",
              "  Text(-2.0206672185931328e-16, -1.1, ''),\n",
              "  Text(1.0162674857624152, -0.42095177560159946, '')])"
            ]
          },
          "metadata": {
            "tags": []
          },
          "execution_count": 72
        },
        {
          "output_type": "display_data",
          "data": {
            "image/png": "[encoded data removed]",
            "text/plain": [
              "<Figure size 432x288 with 1 Axes>"
            ]
          },
          "metadata": {
            "tags": []
          }
        }
      ]
    },
    {
      "cell_type": "code",
      "metadata": {
        "id": "fqNZZwvKUiGZ",
        "colab_type": "code",
        "outputId": "aeb448ba-57fc-4bb1-d0c9-5ad3c746442c",
        "colab": {
          "base_uri": "https://localhost:8080/",
          "height": 352
        }
      },
      "source": [
        "plt.pie(branches.value_counts(normalize=True),labels=branch_wise.index)"
      ],
      "execution_count": 0,
      "outputs": [
        {
          "output_type": "execute_result",
          "data": {
            "text/plain": [
              "([<matplotlib.patches.Wedge at 0x7f3d32d34160>,\n",
              "  <matplotlib.patches.Wedge at 0x7f3d32d346d8>,\n",
              "  <matplotlib.patches.Wedge at 0x7f3d32d34be0>],\n",
              " [Text(-0.42095177560159874, 1.0162674857624154, 'ECE'),\n",
              "  Text(-2.0206672185931328e-16, -1.1, 'CSE'),\n",
              "  Text(1.0162674857624152, -0.42095177560159946, 'IT')])"
            ]
          },
          "metadata": {
            "tags": []
          },
          "execution_count": 73
        },
        {
          "output_type": "display_data",
          "data": {
            "image/png": "[encoded data removed]",
            "text/plain": [
              "<Figure size 432x288 with 1 Axes>"
            ]
          },
          "metadata": {
            "tags": []
          }
        }
      ]
    },
    {
      "cell_type": "code",
      "metadata": {
        "id": "-dvgC85dUh_Z",
        "colab_type": "code",
        "outputId": "658bf5b5-c562-4f43-d77e-5f6ab7f1fd02",
        "colab": {
          "base_uri": "https://localhost:8080/",
          "height": 352
        }
      },
      "source": [
        "plt.pie(branches.value_counts(normalize=True),labels=branch_wise.index,colors=\"rmy\")"
      ],
      "execution_count": 0,
      "outputs": [
        {
          "output_type": "execute_result",
          "data": {
            "text/plain": [
              "([<matplotlib.patches.Wedge at 0x7f3d32cfb0b8>,\n",
              "  <matplotlib.patches.Wedge at 0x7f3d32cfb5f8>,\n",
              "  <matplotlib.patches.Wedge at 0x7f3d32cfbb00>],\n",
              " [Text(-0.42095177560159874, 1.0162674857624154, 'ECE'),\n",
              "  Text(-2.0206672185931328e-16, -1.1, 'CSE'),\n",
              "  Text(1.0162674857624152, -0.42095177560159946, 'IT')])"
            ]
          },
          "metadata": {
            "tags": []
          },
          "execution_count": 74
        },
        {
          "output_type": "display_data",
          "data": {
            "image/png": "[encoded data removed]",
            "text/plain": [
              "<Figure size 432x288 with 1 Axes>"
            ]
          },
          "metadata": {
            "tags": []
          }
        }
      ]
    },
    {
      "cell_type": "code",
      "metadata": {
        "id": "fNEslB-FUhj-",
        "colab_type": "code",
        "outputId": "8b886c5c-4a03-4744-fa54-22b03f9b4bf6",
        "colab": {
          "base_uri": "https://localhost:8080/",
          "height": 352
        }
      },
      "source": [
        "plt.pie(branches.value_counts(normalize=True),labels=branch_wise.index,colors=[\"r\",\"m\",\"y\"])"
      ],
      "execution_count": 0,
      "outputs": [
        {
          "output_type": "execute_result",
          "data": {
            "text/plain": [
              "([<matplotlib.patches.Wedge at 0x7f3d32cb6f28>,\n",
              "  <matplotlib.patches.Wedge at 0x7f3d32cc24a8>,\n",
              "  <matplotlib.patches.Wedge at 0x7f3d32cc29b0>],\n",
              " [Text(-0.42095177560159874, 1.0162674857624154, 'ECE'),\n",
              "  Text(-2.0206672185931328e-16, -1.1, 'CSE'),\n",
              "  Text(1.0162674857624152, -0.42095177560159946, 'IT')])"
            ]
          },
          "metadata": {
            "tags": []
          },
          "execution_count": 75
        },
        {
          "output_type": "display_data",
          "data": {
            "image/png": "[encoded data removed]",
            "text/plain": [
              "<Figure size 432x288 with 1 Axes>"
            ]
          },
          "metadata": {
            "tags": []
          }
        }
      ]
    },
    {
      "cell_type": "code",
      "metadata": {
        "id": "AUQFVyrFXCV6",
        "colab_type": "code",
        "outputId": "df43112c-49a3-41c0-c943-8754027ca70a",
        "colab": {
          "base_uri": "https://localhost:8080/",
          "height": 352
        }
      },
      "source": [
        "plt.pie(branches.value_counts(normalize=True),[0,0.1,0])"
      ],
      "execution_count": 0,
      "outputs": [
        {
          "output_type": "execute_result",
          "data": {
            "text/plain": [
              "([<matplotlib.patches.Wedge at 0x7f3d32c81c18>,\n",
              "  <matplotlib.patches.Wedge at 0x7f3d32c8d1d0>,\n",
              "  <matplotlib.patches.Wedge at 0x7f3d32c8d6d8>],\n",
              " [Text(-0.42095177560159874, 1.0162674857624154, ''),\n",
              "  Text(-2.2043642384652358e-16, -1.2000000000000002, ''),\n",
              "  Text(1.0162674857624152, -0.42095177560159946, '')])"
            ]
          },
          "metadata": {
            "tags": []
          },
          "execution_count": 76
        },
        {
          "output_type": "display_data",
          "data": {
            "image/png": "[encoded data removed]",
            "text/plain": [
              "<Figure size 432x288 with 1 Axes>"
            ]
          },
          "metadata": {
            "tags": []
          }
        }
      ]
    },
    {
      "cell_type": "code",
      "metadata": {
        "id": "DnqfEgkZW9Ab",
        "colab_type": "code",
        "outputId": "0aed935b-287c-4601-87bd-b16f05e7f2b1",
        "colab": {
          "base_uri": "https://localhost:8080/",
          "height": 352
        }
      },
      "source": [
        "plt.pie(branches.value_counts(normalize=True),[0,0.1,0.1])"
      ],
      "execution_count": 0,
      "outputs": [
        {
          "output_type": "execute_result",
          "data": {
            "text/plain": [
              "([<matplotlib.patches.Wedge at 0x7f3d32c4b908>,\n",
              "  <matplotlib.patches.Wedge at 0x7f3d32c4be80>,\n",
              "  <matplotlib.patches.Wedge at 0x7f3d32c593c8>],\n",
              " [Text(-0.42095177560159874, 1.0162674857624154, ''),\n",
              "  Text(-2.2043642384652358e-16, -1.2000000000000002, ''),\n",
              "  Text(1.108655439013544, -0.45922011883810854, '')])"
            ]
          },
          "metadata": {
            "tags": []
          },
          "execution_count": 77
        },
        {
          "output_type": "display_data",
          "data": {
            "image/png": "[encoded data removed]",
            "text/plain": [
              "<Figure size 432x288 with 1 Axes>"
            ]
          },
          "metadata": {
            "tags": []
          }
        }
      ]
    },
    {
      "cell_type": "code",
      "metadata": {
        "id": "5q8kfw1sUhgK",
        "colab_type": "code",
        "outputId": "8eb64c6a-aa55-455b-838f-8dce0b9374b2",
        "colab": {
          "base_uri": "https://localhost:8080/",
          "height": 121
        }
      },
      "source": [
        "x = np.random.randint(1,25,100)\n",
        "x"
      ],
      "execution_count": 0,
      "outputs": [
        {
          "output_type": "execute_result",
          "data": {
            "text/plain": [
              "array([20,  4,  9, 10, 24,  6, 15,  6,  5, 12,  9,  8, 20, 15,  6, 13,  8,\n",
              "        9, 21,  5, 14, 23, 16, 14, 23, 16, 15, 20, 18, 10, 12,  4, 16, 12,\n",
              "       10,  9, 12, 19, 11,  6,  1, 24, 22, 15, 23, 17, 16, 16, 15, 15, 10,\n",
              "       17, 18,  6, 14, 23, 18, 15, 22, 20, 14, 10,  1,  1,  2, 21,  2, 21,\n",
              "       13, 15,  9, 21,  4, 18, 13, 14, 10,  8,  6,  7, 15, 17, 13,  7, 16,\n",
              "       24, 22,  1,  4, 20,  9, 19, 10,  3, 11,  7, 18, 16, 24, 18])"
            ]
          },
          "metadata": {
            "tags": []
          },
          "execution_count": 78
        }
      ]
    },
    {
      "cell_type": "code",
      "metadata": {
        "id": "z_qUPfXbUhdI",
        "colab_type": "code",
        "outputId": "08e14219-aa99-40dd-eb5f-8380cfda2fe8",
        "colab": {
          "base_uri": "https://localhost:8080/",
          "height": 317
        }
      },
      "source": [
        "plt.hist(x)"
      ],
      "execution_count": 0,
      "outputs": [
        {
          "output_type": "execute_result",
          "data": {
            "text/plain": [
              "(array([ 7.,  6.,  9., 16.,  6.,  9., 19.,  8.,  9., 11.]),\n",
              " array([ 1. ,  3.3,  5.6,  7.9, 10.2, 12.5, 14.8, 17.1, 19.4, 21.7, 24. ]),\n",
              " <a list of 10 Patch objects>)"
            ]
          },
          "metadata": {
            "tags": []
          },
          "execution_count": 89
        },
        {
          "output_type": "display_data",
          "data": {
            "image/png": "[encoded data removed]",
            "text/plain": [
              "<Figure size 432x288 with 1 Axes>"
            ]
          },
          "metadata": {
            "tags": []
          }
        }
      ]
    },
    {
      "cell_type": "code",
      "metadata": {
        "id": "nW3tC9SHUhaS",
        "colab_type": "code",
        "outputId": "dc91c5e6-5516-4a13-c745-550012c4bd1b",
        "colab": {
          "base_uri": "https://localhost:8080/",
          "height": 35
        }
      },
      "source": [
        "np.linspace(np.min(x),np.max(x),11)"
      ],
      "execution_count": 0,
      "outputs": [
        {
          "output_type": "execute_result",
          "data": {
            "text/plain": [
              "array([ 1. ,  3.3,  5.6,  7.9, 10.2, 12.5, 14.8, 17.1, 19.4, 21.7, 24. ])"
            ]
          },
          "metadata": {
            "tags": []
          },
          "execution_count": 90
        }
      ]
    },
    {
      "cell_type": "code",
      "metadata": {
        "id": "WzHUey8oUhXd",
        "colab_type": "code",
        "outputId": "4e49e4a4-83d9-438c-d088-b71f5bb0c09c",
        "colab": {
          "base_uri": "https://localhost:8080/",
          "height": 35
        }
      },
      "source": [
        "((x >=1) & (x<3.3)).sum()"
      ],
      "execution_count": 0,
      "outputs": [
        {
          "output_type": "execute_result",
          "data": {
            "text/plain": [
              "7"
            ]
          },
          "metadata": {
            "tags": []
          },
          "execution_count": 91
        }
      ]
    },
    {
      "cell_type": "code",
      "metadata": {
        "id": "NpHOKKilUhUF",
        "colab_type": "code",
        "outputId": "b117584d-7ee6-4c5e-9f00-1ac2d0d1b20b",
        "colab": {
          "base_uri": "https://localhost:8080/",
          "height": 317
        }
      },
      "source": [
        "plt.hist(x,bins=5)"
      ],
      "execution_count": 0,
      "outputs": [
        {
          "output_type": "execute_result",
          "data": {
            "text/plain": [
              "(array([13., 25., 15., 27., 20.]),\n",
              " array([ 1. ,  5.6, 10.2, 14.8, 19.4, 24. ]),\n",
              " <a list of 5 Patch objects>)"
            ]
          },
          "metadata": {
            "tags": []
          },
          "execution_count": 83
        },
        {
          "output_type": "display_data",
          "data": {
            "image/png": "[encoded data removed]",
            "text/plain": [
              "<Figure size 432x288 with 1 Axes>"
            ]
          },
          "metadata": {
            "tags": []
          }
        }
      ]
    },
    {
      "cell_type": "code",
      "metadata": {
        "id": "hAojaVk4UhPn",
        "colab_type": "code",
        "outputId": "5de8d0c3-01f6-4e2b-d67b-d6bac6bad787",
        "colab": {
          "base_uri": "https://localhost:8080/",
          "height": 317
        }
      },
      "source": [
        "x  = np.array([1,2,1,1,1,2,3,1,1,10,20,30,])\n",
        "plt.hist(x,bins=5)"
      ],
      "execution_count": 0,
      "outputs": [
        {
          "output_type": "execute_result",
          "data": {
            "text/plain": [
              "(array([9., 1., 0., 1., 1.]),\n",
              " array([ 1. ,  6.8, 12.6, 18.4, 24.2, 30. ]),\n",
              " <a list of 5 Patch objects>)"
            ]
          },
          "metadata": {
            "tags": []
          },
          "execution_count": 92
        },
        {
          "output_type": "display_data",
          "data": {
            "image/png": "[encoded data removed]",
            "text/plain": [
              "<Figure size 432x288 with 1 Axes>"
            ]
          },
          "metadata": {
            "tags": []
          }
        }
      ]
    },
    {
      "cell_type": "code",
      "metadata": {
        "id": "aNeucY9yUYtl",
        "colab_type": "code",
        "outputId": "2071cc29-9d32-4e8e-ce44-3414b3e82c3c",
        "colab": {
          "base_uri": "https://localhost:8080/",
          "height": 317
        }
      },
      "source": [
        "x  = np.array([1,10,20,30,30,30,30,30])\n",
        "plt.hist(x,bins=5)"
      ],
      "execution_count": 0,
      "outputs": [
        {
          "output_type": "execute_result",
          "data": {
            "text/plain": [
              "(array([1., 1., 0., 1., 5.]),\n",
              " array([ 1. ,  6.8, 12.6, 18.4, 24.2, 30. ]),\n",
              " <a list of 5 Patch objects>)"
            ]
          },
          "metadata": {
            "tags": []
          },
          "execution_count": 93
        },
        {
          "output_type": "display_data",
          "data": {
            "image/png": "[encoded data removed]",
            "text/plain": [
              "<Figure size 432x288 with 1 Axes>"
            ]
          },
          "metadata": {
            "tags": []
          }
        }
      ]
    },
    {
      "cell_type": "code",
      "metadata": {
        "id": "-xQFIycgUZCs",
        "colab_type": "code",
        "outputId": "851158bf-06db-49b9-c539-0eb76d3d4aef",
        "colab": {
          "base_uri": "https://localhost:8080/",
          "height": 283
        }
      },
      "source": [
        "x = np.array([1,1,1,5,5,5,10,10,10])\n",
        "plt.hist(x,bins=3)"
      ],
      "execution_count": 0,
      "outputs": [
        {
          "output_type": "execute_result",
          "data": {
            "text/plain": [
              "(array([3., 3., 3.]), array([ 1.,  4.,  7., 10.]), <a list of 3 Patch objects>)"
            ]
          },
          "metadata": {
            "tags": []
          },
          "execution_count": 94
        },
        {
          "output_type": "display_data",
          "data": {
            "image/png": "[encoded data removed]",
            "text/plain": [
              "<Figure size 432x288 with 1 Axes>"
            ]
          },
          "metadata": {
            "tags": []
          }
        }
      ]
    },
    {
      "cell_type": "code",
      "metadata": {
        "id": "Ur3vmElXUY_r",
        "colab_type": "code",
        "outputId": "931e2483-a002-4ca8-cc75-027f8f650470",
        "colab": {
          "base_uri": "https://localhost:8080/",
          "height": 317
        }
      },
      "source": [
        "x = np.random.randint(1,25,100)\n",
        "plt.hist(x)"
      ],
      "execution_count": 0,
      "outputs": [
        {
          "output_type": "execute_result",
          "data": {
            "text/plain": [
              "(array([10.,  8.,  7., 11.,  9.,  9., 12., 12., 11., 11.]),\n",
              " array([ 1. ,  3.3,  5.6,  7.9, 10.2, 12.5, 14.8, 17.1, 19.4, 21.7, 24. ]),\n",
              " <a list of 10 Patch objects>)"
            ]
          },
          "metadata": {
            "tags": []
          },
          "execution_count": 95
        },
        {
          "output_type": "display_data",
          "data": {
            "image/png": "[encoded data removed]",
            "text/plain": [
              "<Figure size 432x288 with 1 Axes>"
            ]
          },
          "metadata": {
            "tags": []
          }
        }
      ]
    },
    {
      "cell_type": "code",
      "metadata": {
        "id": "BMsV7jzbUY8O",
        "colab_type": "code",
        "outputId": "8090cd76-b4d2-488a-f3f7-6b03d96b95da",
        "colab": {
          "base_uri": "https://localhost:8080/",
          "height": 317
        }
      },
      "source": [
        "plt.hist(x,cumulative=True)"
      ],
      "execution_count": 0,
      "outputs": [
        {
          "output_type": "execute_result",
          "data": {
            "text/plain": [
              "(array([ 10.,  18.,  25.,  36.,  45.,  54.,  66.,  78.,  89., 100.]),\n",
              " array([ 1. ,  3.3,  5.6,  7.9, 10.2, 12.5, 14.8, 17.1, 19.4, 21.7, 24. ]),\n",
              " <a list of 10 Patch objects>)"
            ]
          },
          "metadata": {
            "tags": []
          },
          "execution_count": 96
        },
        {
          "output_type": "display_data",
          "data": {
            "image/png": "[encoded data removed]",
            "text/plain": [
              "<Figure size 432x288 with 1 Axes>"
            ]
          },
          "metadata": {
            "tags": []
          }
        }
      ]
    },
    {
      "cell_type": "code",
      "metadata": {
        "id": "Rg2XNlgEaBR_",
        "colab_type": "code",
        "colab": {}
      },
      "source": [
        "x = np.array([40,30,20,10,50])\n",
        "q1 = np.quantile(x,0.25)\n",
        "q2 = np.quantile(x,0.5)\n",
        "q3 = np.quantile(x,0.75)"
      ],
      "execution_count": 0,
      "outputs": []
    },
    {
      "cell_type": "code",
      "metadata": {
        "id": "HEF3Zm1SaFgD",
        "colab_type": "code",
        "outputId": "f31c64cf-2187-4649-a8e0-6333c2fcda1c",
        "colab": {
          "base_uri": "https://localhost:8080/",
          "height": 35
        }
      },
      "source": [
        "q1,q2,q3"
      ],
      "execution_count": 0,
      "outputs": [
        {
          "output_type": "execute_result",
          "data": {
            "text/plain": [
              "(20.0, 30.0, 40.0)"
            ]
          },
          "metadata": {
            "tags": []
          },
          "execution_count": 98
        }
      ]
    },
    {
      "cell_type": "markdown",
      "metadata": {
        "id": "CLYZYKp1aQVM",
        "colab_type": "text"
      },
      "source": [
        "- IQR- Inter quanrtile range\n",
        "- IQR = q3-q1\n",
        "- IQR * 1.5\n",
        "- OUTLIERS:\n",
        " - value < q1-IQR*1.5\n",
        " - q3+IQR*1.5 >value"
      ]
    },
    {
      "cell_type": "code",
      "metadata": {
        "id": "2lg-iMeQa4TA",
        "colab_type": "code",
        "outputId": "9d07da08-298e-407c-e936-38585ba1fb6e",
        "colab": {
          "base_uri": "https://localhost:8080/",
          "height": 35
        }
      },
      "source": [
        "IQR = q3-q1\n",
        "( q1-IQR*1.5 ,q3+IQR*1.5)"
      ],
      "execution_count": 0,
      "outputs": [
        {
          "output_type": "execute_result",
          "data": {
            "text/plain": [
              "(-10.0, 70.0)"
            ]
          },
          "metadata": {
            "tags": []
          },
          "execution_count": 99
        }
      ]
    },
    {
      "cell_type": "code",
      "metadata": {
        "id": "S6kwiZn0a_TZ",
        "colab_type": "code",
        "outputId": "9e912a67-bf36-4845-c1bc-f2aacbb1bdf4",
        "colab": {
          "base_uri": "https://localhost:8080/",
          "height": 404
        }
      },
      "source": [
        "plt.boxplot(x)"
      ],
      "execution_count": 0,
      "outputs": [
        {
          "output_type": "execute_result",
          "data": {
            "text/plain": [
              "{'boxes': [<matplotlib.lines.Line2D at 0x7f3d3283ac50>],\n",
              " 'caps': [<matplotlib.lines.Line2D at 0x7f3d3284a6a0>,\n",
              "  <matplotlib.lines.Line2D at 0x7f3d3284aa20>],\n",
              " 'fliers': [<matplotlib.lines.Line2D at 0x7f3d32856160>],\n",
              " 'means': [],\n",
              " 'medians': [<matplotlib.lines.Line2D at 0x7f3d3284ada0>],\n",
              " 'whiskers': [<matplotlib.lines.Line2D at 0x7f3d3283af60>,\n",
              "  <matplotlib.lines.Line2D at 0x7f3d3284a320>]}"
            ]
          },
          "metadata": {
            "tags": []
          },
          "execution_count": 100
        },
        {
          "output_type": "display_data",
          "data": {
            "image/png": "[encoded data removed]",
            "text/plain": [
              "<Figure size 432x288 with 1 Axes>"
            ]
          },
          "metadata": {
            "tags": []
          }
        }
      ]
    },
    {
      "cell_type": "code",
      "metadata": {
        "id": "x_mbRZEzaFy1",
        "colab_type": "code",
        "outputId": "f730a726-e521-444d-a240-e1cff0221320",
        "colab": {
          "base_uri": "https://localhost:8080/",
          "height": 404
        }
      },
      "source": [
        "x = np.array([40,30,20,10,150])\n",
        "plt.boxplot(x)"
      ],
      "execution_count": 0,
      "outputs": [
        {
          "output_type": "execute_result",
          "data": {
            "text/plain": [
              "{'boxes': [<matplotlib.lines.Line2D at 0x7f3d327b0588>],\n",
              " 'caps': [<matplotlib.lines.Line2D at 0x7f3d327b0f98>,\n",
              "  <matplotlib.lines.Line2D at 0x7f3d327be358>],\n",
              " 'fliers': [<matplotlib.lines.Line2D at 0x7f3d327bea58>],\n",
              " 'means': [],\n",
              " 'medians': [<matplotlib.lines.Line2D at 0x7f3d327be6d8>],\n",
              " 'whiskers': [<matplotlib.lines.Line2D at 0x7f3d327b0898>,\n",
              "  <matplotlib.lines.Line2D at 0x7f3d327b0c18>]}"
            ]
          },
          "metadata": {
            "tags": []
          },
          "execution_count": 101
        },
        {
          "output_type": "display_data",
          "data": {
            "image/png": "[encoded data removed]",
            "text/plain": [
              "<Figure size 432x288 with 1 Axes>"
            ]
          },
          "metadata": {
            "tags": []
          }
        }
      ]
    },
    {
      "cell_type": "code",
      "metadata": {
        "id": "clV7hWqHbSRH",
        "colab_type": "code",
        "outputId": "310d048b-5bf8-4c65-8378-67cbde215a33",
        "colab": {
          "base_uri": "https://localhost:8080/",
          "height": 404
        }
      },
      "source": [
        "x = np.array([40,30,20,-20,150])\n",
        "plt.boxplot(x)"
      ],
      "execution_count": 0,
      "outputs": [
        {
          "output_type": "execute_result",
          "data": {
            "text/plain": [
              "{'boxes': [<matplotlib.lines.Line2D at 0x7f3d3279b0f0>],\n",
              " 'caps': [<matplotlib.lines.Line2D at 0x7f3d3279bb00>,\n",
              "  <matplotlib.lines.Line2D at 0x7f3d3279be80>],\n",
              " 'fliers': [<matplotlib.lines.Line2D at 0x7f3d327245c0>],\n",
              " 'means': [],\n",
              " 'medians': [<matplotlib.lines.Line2D at 0x7f3d32724240>],\n",
              " 'whiskers': [<matplotlib.lines.Line2D at 0x7f3d3279b400>,\n",
              "  <matplotlib.lines.Line2D at 0x7f3d3279b780>]}"
            ]
          },
          "metadata": {
            "tags": []
          },
          "execution_count": 102
        },
        {
          "output_type": "display_data",
          "data": {
            "image/png": "[encoded data removed]",
            "text/plain": [
              "<Figure size 432x288 with 1 Axes>"
            ]
          },
          "metadata": {
            "tags": []
          }
        }
      ]
    },
    {
      "cell_type": "code",
      "metadata": {
        "id": "rN_AXTyebbPS",
        "colab_type": "code",
        "outputId": "37e6da45-828d-42f7-bbb9-e87f1c80680d",
        "colab": {
          "base_uri": "https://localhost:8080/",
          "height": 283
        }
      },
      "source": [
        "x = np.array([1,2,4,6,7])\n",
        "y = np.array([3,4,6,8,9])\n",
        "plt.fill_between(x,y)"
      ],
      "execution_count": 0,
      "outputs": [
        {
          "output_type": "execute_result",
          "data": {
            "text/plain": [
              "<matplotlib.collections.PolyCollection at 0x7f3d32701358>"
            ]
          },
          "metadata": {
            "tags": []
          },
          "execution_count": 103
        },
        {
          "output_type": "display_data",
          "data": {
            "image/png": "[encoded data removed]",
            "text/plain": [
              "<Figure size 432x288 with 1 Axes>"
            ]
          },
          "metadata": {
            "tags": []
          }
        }
      ]
    },
    {
      "cell_type": "code",
      "metadata": {
        "id": "f4Z8yfpjaF8m",
        "colab_type": "code",
        "outputId": "10c98119-3128-450d-ffcd-78ae78cd0f9e",
        "colab": {
          "base_uri": "https://localhost:8080/",
          "height": 283
        }
      },
      "source": [
        "plt.plot(x,y)"
      ],
      "execution_count": 0,
      "outputs": [
        {
          "output_type": "execute_result",
          "data": {
            "text/plain": [
              "[<matplotlib.lines.Line2D at 0x7f3d326e1278>]"
            ]
          },
          "metadata": {
            "tags": []
          },
          "execution_count": 104
        },
        {
          "output_type": "display_data",
          "data": {
            "image/png": "[encoded data removed]",
            "text/plain": [
              "<Figure size 432x288 with 1 Axes>"
            ]
          },
          "metadata": {
            "tags": []
          }
        }
      ]
    },
    {
      "cell_type": "code",
      "metadata": {
        "id": "8RCkKRNUaBOn",
        "colab_type": "code",
        "outputId": "e7903e08-2ad8-48cf-af09-504efe9de3af",
        "colab": {
          "base_uri": "https://localhost:8080/",
          "height": 283
        }
      },
      "source": [
        "plt.fill_between(np.arange(5),x,y)"
      ],
      "execution_count": 0,
      "outputs": [
        {
          "output_type": "execute_result",
          "data": {
            "text/plain": [
              "<matplotlib.collections.PolyCollection at 0x7f3d32646358>"
            ]
          },
          "metadata": {
            "tags": []
          },
          "execution_count": 105
        },
        {
          "output_type": "display_data",
          "data": {
            "image/png": "[encoded data removed]",
            "text/plain": [
              "<Figure size 432x288 with 1 Axes>"
            ]
          },
          "metadata": {
            "tags": []
          }
        }
      ]
    },
    {
      "cell_type": "code",
      "metadata": {
        "id": "Ac8pY3HPaBJe",
        "colab_type": "code",
        "outputId": "e03c0b08-aa30-4dbb-c68a-4093e6333057",
        "colab": {
          "base_uri": "https://localhost:8080/",
          "height": 300
        }
      },
      "source": [
        "plt.plot(np.arange(5),x,y)"
      ],
      "execution_count": 0,
      "outputs": [
        {
          "output_type": "execute_result",
          "data": {
            "text/plain": [
              "[<matplotlib.lines.Line2D at 0x7f3d325adb00>,\n",
              " <matplotlib.lines.Line2D at 0x7f3d325adc18>]"
            ]
          },
          "metadata": {
            "tags": []
          },
          "execution_count": 106
        },
        {
          "output_type": "display_data",
          "data": {
            "image/png": "[encoded data removed]",
            "text/plain": [
              "<Figure size 432x288 with 1 Axes>"
            ]
          },
          "metadata": {
            "tags": []
          }
        }
      ]
    },
    {
      "cell_type": "code",
      "metadata": {
        "id": "i0RN-_xVaBEu",
        "colab_type": "code",
        "outputId": "eb9d973a-017a-49a9-8814-ab550995bec6",
        "colab": {
          "base_uri": "https://localhost:8080/",
          "height": 283
        }
      },
      "source": [
        "plt.step([1,2,3],[3,4,5])"
      ],
      "execution_count": 0,
      "outputs": [
        {
          "output_type": "execute_result",
          "data": {
            "text/plain": [
              "[<matplotlib.lines.Line2D at 0x7f3d325a19e8>]"
            ]
          },
          "metadata": {
            "tags": []
          },
          "execution_count": 107
        },
        {
          "output_type": "display_data",
          "data": {
            "image/png": "[encoded data removed]",
            "text/plain": [
              "<Figure size 432x288 with 1 Axes>"
            ]
          },
          "metadata": {
            "tags": []
          }
        }
      ]
    },
    {
      "cell_type": "code",
      "metadata": {
        "id": "IyWkobK5UY27",
        "colab_type": "code",
        "outputId": "994dc5f9-fe10-4cc0-f23e-fca9ffb07ab1",
        "colab": {
          "base_uri": "https://localhost:8080/",
          "height": 337
        }
      },
      "source": [
        "plt.subplot(1,2,1)\n",
        "plt.pie(branches.value_counts(normalize=True),colors=\"ybm\")\n",
        "plt.subplot(1,2,2)\n",
        "plt.bar(branches.value_counts().index,branches.value_counts(),color=\"ybm\")"
      ],
      "execution_count": 0,
      "outputs": [
        {
          "output_type": "stream",
          "text": [
            "/usr/local/lib/python3.6/dist-packages/ipykernel_launcher.py:4: MatplotlibDeprecationWarning: Using a string of single character colors as a color sequence is deprecated. Use an explicit list instead.\n",
            "  after removing the cwd from sys.path.\n"
          ],
          "name": "stderr"
        },
        {
          "output_type": "execute_result",
          "data": {
            "text/plain": [
              "<BarContainer object of 3 artists>"
            ]
          },
          "metadata": {
            "tags": []
          },
          "execution_count": 108
        },
        {
          "output_type": "display_data",
          "data": {
            "image/png": "[encoded data removed]",
            "text/plain": [
              "<Figure size 432x288 with 2 Axes>"
            ]
          },
          "metadata": {
            "tags": []
          }
        }
      ]
    },
    {
      "cell_type": "markdown",
      "metadata": {
        "id": "JN4zlFrrcRGJ",
        "colab_type": "text"
      },
      "source": [
        "- positively skewed data\n",
        "\n",
        "- negatively skewed data\n",
        "\n",
        "- How identify whether it is positively skewed or negatively skewed from histogram"
      ]
    },
    {
      "cell_type": "markdown",
      "metadata": {
        "id": "PFhr6wJier0U",
        "colab_type": "text"
      },
      "source": [
        "Positive Skewness means when the tail on the right side of the distribution is longer or fatter. The mean and median will be greater than the mode. Negative Skewness is when the tail of the left side of the distribution is longer or fatter than the tail on the right side. The mean and median will be less than the mode"
      ]
    },
    {
      "cell_type": "markdown",
      "metadata": {
        "id": "qhpDNjEtfQTm",
        "colab_type": "text"
      },
      "source": [
        "- How identify whether it is positively skewed or negatively skewed from histogram\n",
        "\n",
        "1.If most of the data are on the left side of the histogram but a few larger values are on the right, the data are said to be skewed to the right.\n",
        "\n",
        "2.If most of the data are on the right, with a few smaller values showing up on the left side of the histogram, the data are skewed to the left."
      ]
    }
  ]
}