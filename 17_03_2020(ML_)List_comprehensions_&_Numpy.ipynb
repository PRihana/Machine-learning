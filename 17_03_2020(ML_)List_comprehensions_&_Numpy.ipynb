{
  "nbformat": 4,
  "nbformat_minor": 0,
  "metadata": {
    "colab": {
      "name": "17-03-2020(ML )List comprehensions & Numpy.ipynb",
      "provenance": [],
      "authorship_tag": "ABX9TyNLpkBCFrHP78/M+22k4Ii2",
      "include_colab_link": true
    },
    "kernelspec": {
      "name": "python3",
      "display_name": "Python 3"
    }
  },
  "cells": [
    {
      "cell_type": "markdown",
      "metadata": {
        "id": "view-in-github",
        "colab_type": "text"
      },
      "source": [
        "<a href=\"https://colab.research.google.com/github/PRihana/Machine-learning/blob/master/17_03_2020(ML_)List_comprehensions_%26_Numpy.ipynb\" target=\"_parent\"><img src=\"https://colab.research.google.com/assets/colab-badge.svg\" alt=\"Open In Colab\"/></a>"
      ]
    },
    {
      "cell_type": "code",
      "metadata": {
        "id": "Hk8pZVQgrFrR",
        "colab_type": "code",
        "outputId": "998d9bd1-7c48-4b35-f333-d78842c16c7e",
        "colab": {
          "base_uri": "https://localhost:8080/",
          "height": 35
        }
      },
      "source": [
        "l1=[4,67,8,9]\n",
        "l2=[1,2,3,4]\n",
        "#o/p:[5,69,11,13]\n",
        "out=[]\n",
        "for i in range(len(l1)):\n",
        "  out.append(l1[i]+l2[i])\n",
        "out  "
      ],
      "execution_count": 0,
      "outputs": [
        {
          "output_type": "execute_result",
          "data": {
            "text/plain": [
              "[5, 69, 11, 13]"
            ]
          },
          "metadata": {
            "tags": []
          },
          "execution_count": 21
        }
      ]
    },
    {
      "cell_type": "code",
      "metadata": {
        "id": "cwUEpyL9sLYi",
        "colab_type": "code",
        "outputId": "86d2f123-788a-4f3b-bf36-8263154e2b1d",
        "colab": {
          "base_uri": "https://localhost:8080/",
          "height": 35
        }
      },
      "source": [
        "out=[l1[i]+l2[i]  for i in range(len(l1))]\n",
        "out"
      ],
      "execution_count": 0,
      "outputs": [
        {
          "output_type": "execute_result",
          "data": {
            "text/plain": [
              "[5, 69, 11, 13]"
            ]
          },
          "metadata": {
            "tags": []
          },
          "execution_count": 22
        }
      ]
    },
    {
      "cell_type": "code",
      "metadata": {
        "id": "q9FTW27Uss2x",
        "colab_type": "code",
        "outputId": "0679f837-032d-4ef8-80eb-1bcdf1e27708",
        "colab": {
          "base_uri": "https://localhost:8080/",
          "height": 35
        }
      },
      "source": [
        "#get the numbers which are not multiple of 3 as a list using\n",
        "#list comprehension\n",
        "mul3=[i for i in out if i%3!=0]\n",
        "mul3"
      ],
      "execution_count": 0,
      "outputs": [
        {
          "output_type": "execute_result",
          "data": {
            "text/plain": [
              "[5, 11, 13]"
            ]
          },
          "metadata": {
            "tags": []
          },
          "execution_count": 23
        }
      ]
    },
    {
      "cell_type": "code",
      "metadata": {
        "id": "Mt15u1LOss6e",
        "colab_type": "code",
        "outputId": "5fcd9952-0716-486b-a2d3-c44ea6df8592",
        "colab": {
          "base_uri": "https://localhost:8080/",
          "height": 35
        }
      },
      "source": [
        "#replace the multiples of 3 with -1\n",
        "out1=[i if i%3!=0 else -1 for i in out]\n",
        "out1"
      ],
      "execution_count": 0,
      "outputs": [
        {
          "output_type": "execute_result",
          "data": {
            "text/plain": [
              "[5, -1, 11, 13]"
            ]
          },
          "metadata": {
            "tags": []
          },
          "execution_count": 24
        }
      ]
    },
    {
      "cell_type": "code",
      "metadata": {
        "id": "A85U7qHssszM",
        "colab_type": "code",
        "colab": {}
      },
      "source": [
        "out.extend([2,8,9,6])"
      ],
      "execution_count": 0,
      "outputs": []
    },
    {
      "cell_type": "code",
      "metadata": {
        "id": "GOvpXmrUuKaa",
        "colab_type": "code",
        "outputId": "51e5a16f-7307-45af-8d2c-8e85e4fcf8bb",
        "colab": {
          "base_uri": "https://localhost:8080/",
          "height": 35
        }
      },
      "source": [
        "out"
      ],
      "execution_count": 0,
      "outputs": [
        {
          "output_type": "execute_result",
          "data": {
            "text/plain": [
              "[5, 69, 11, 13, 2, 8, 9, 6]"
            ]
          },
          "metadata": {
            "tags": []
          },
          "execution_count": 27
        }
      ]
    },
    {
      "cell_type": "code",
      "metadata": {
        "id": "V9tQ8V1BuKlc",
        "colab_type": "code",
        "outputId": "c6bac658-0f84-4565-ae6d-4f1859291c3f",
        "colab": {
          "base_uri": "https://localhost:8080/",
          "height": 69
        }
      },
      "source": [
        "#replace multiples of 2 with -2\n",
        "#replace multiples of 3 with -1\n",
        "#if it is a multiple of both replace it with -2\n",
        "out1=[]\n",
        "for i in out:\n",
        "  if i%2==0:\n",
        "    out1.append(-2)\n",
        "  elif i%3==0:\n",
        "    out1.append(-1)  \n",
        "  else:\n",
        "    out1.append(i)\n",
        "print(out1)\n",
        "print(out)\n",
        "out2=[-2 if i%2==0 else -1 if i%3==0 else i for i in out]\n",
        "print(out2)      "
      ],
      "execution_count": 0,
      "outputs": [
        {
          "output_type": "stream",
          "text": [
            "[5, -1, 11, 13, -2, -2, -1, -2]\n",
            "[5, 69, 11, 13, 2, 8, 9, 6]\n",
            "[5, -1, 11, 13, -2, -2, -1, -2]\n"
          ],
          "name": "stdout"
        }
      ]
    },
    {
      "cell_type": "markdown",
      "metadata": {
        "id": "PStSdQ31wwVx",
        "colab_type": "text"
      },
      "source": [
        "#List comprehension with nested for:"
      ]
    },
    {
      "cell_type": "code",
      "metadata": {
        "id": "lVqVLUx5uKpJ",
        "colab_type": "code",
        "outputId": "e7888c63-d454-42d6-c17d-f9fd52bdfa41",
        "colab": {
          "base_uri": "https://localhost:8080/",
          "height": 35
        }
      },
      "source": [
        "l1,l2"
      ],
      "execution_count": 0,
      "outputs": [
        {
          "output_type": "execute_result",
          "data": {
            "text/plain": [
              "([4, 67, 8, 9], [1, 2, 3, 4])"
            ]
          },
          "metadata": {
            "tags": []
          },
          "execution_count": 29
        }
      ]
    },
    {
      "cell_type": "code",
      "metadata": {
        "id": "kGFqZae1w_mY",
        "colab_type": "code",
        "outputId": "c9bcff11-b16b-4407-f0e4-b7db501b25bb",
        "colab": {
          "base_uri": "https://localhost:8080/",
          "height": 295
        }
      },
      "source": [
        "out=[]\n",
        "for i in l1:#4\n",
        "    for j in l2:#1,2,3,4\n",
        "         out.append((i,j))\n",
        "out         \n"
      ],
      "execution_count": 0,
      "outputs": [
        {
          "output_type": "execute_result",
          "data": {
            "text/plain": [
              "[(4, 1),\n",
              " (4, 2),\n",
              " (4, 3),\n",
              " (4, 4),\n",
              " (67, 1),\n",
              " (67, 2),\n",
              " (67, 3),\n",
              " (67, 4),\n",
              " (8, 1),\n",
              " (8, 2),\n",
              " (8, 3),\n",
              " (8, 4),\n",
              " (9, 1),\n",
              " (9, 2),\n",
              " (9, 3),\n",
              " (9, 4)]"
            ]
          },
          "metadata": {
            "tags": []
          },
          "execution_count": 30
        }
      ]
    },
    {
      "cell_type": "code",
      "metadata": {
        "id": "6A4g3aoVw_iw",
        "colab_type": "code",
        "outputId": "c70c4946-351b-4131-c3cd-883a09483676",
        "colab": {
          "base_uri": "https://localhost:8080/",
          "height": 295
        }
      },
      "source": [
        "numbers=[(i,j) for i in l1 for j in l2]\n",
        "numbers"
      ],
      "execution_count": 0,
      "outputs": [
        {
          "output_type": "execute_result",
          "data": {
            "text/plain": [
              "[(4, 1),\n",
              " (4, 2),\n",
              " (4, 3),\n",
              " (4, 4),\n",
              " (67, 1),\n",
              " (67, 2),\n",
              " (67, 3),\n",
              " (67, 4),\n",
              " (8, 1),\n",
              " (8, 2),\n",
              " (8, 3),\n",
              " (8, 4),\n",
              " (9, 1),\n",
              " (9, 2),\n",
              " (9, 3),\n",
              " (9, 4)]"
            ]
          },
          "metadata": {
            "tags": []
          },
          "execution_count": 31
        }
      ]
    },
    {
      "cell_type": "code",
      "metadata": {
        "id": "VV6mDbI5w_aB",
        "colab_type": "code",
        "outputId": "8c818a68-2989-414f-f76b-473c61e9ab00",
        "colab": {
          "base_uri": "https://localhost:8080/",
          "height": 35
        }
      },
      "source": [
        "l2=[[23,45],[78,96],[56,12]]\n",
        "#o/p:[23,45,78,96,56,12]\n",
        "out2=[i for j in l2 for i in j]\n",
        "out2"
      ],
      "execution_count": 0,
      "outputs": [
        {
          "output_type": "execute_result",
          "data": {
            "text/plain": [
              "[23, 45, 78, 96, 56, 12]"
            ]
          },
          "metadata": {
            "tags": []
          },
          "execution_count": 32
        }
      ]
    },
    {
      "cell_type": "code",
      "metadata": {
        "id": "sLiJBQR4yhab",
        "colab_type": "code",
        "outputId": "ffcda2dd-93d3-4bca-d4ff-39fb48a8060a",
        "colab": {
          "base_uri": "https://localhost:8080/",
          "height": 35
        }
      },
      "source": [
        "#common elements in two lists using list comprehension\n",
        "l3=list(range(5,20,2))\n",
        "l4=list(range(1,20,2))\n",
        "print(l3,l4)"
      ],
      "execution_count": 0,
      "outputs": [
        {
          "output_type": "stream",
          "text": [
            "[5, 7, 9, 11, 13, 15, 17, 19] [1, 3, 5, 7, 9, 11, 13, 15, 17, 19]\n"
          ],
          "name": "stdout"
        }
      ]
    },
    {
      "cell_type": "code",
      "metadata": {
        "id": "ya7yiRsmyhGK",
        "colab_type": "code",
        "outputId": "1fd04c38-7c6a-42b0-926b-8bbb71ce28f6",
        "colab": {
          "base_uri": "https://localhost:8080/",
          "height": 52
        }
      },
      "source": [
        "l3=list(range(5,20,2))\n",
        "l4=list(range(1,20,2))\n",
        "print(l3,l4)\n",
        "[i for i in l3 for j in l4 if i==j]"
      ],
      "execution_count": 0,
      "outputs": [
        {
          "output_type": "stream",
          "text": [
            "[5, 7, 9, 11, 13, 15, 17, 19] [1, 3, 5, 7, 9, 11, 13, 15, 17, 19]\n"
          ],
          "name": "stdout"
        },
        {
          "output_type": "execute_result",
          "data": {
            "text/plain": [
              "[5, 7, 9, 11, 13, 15, 17, 19]"
            ]
          },
          "metadata": {
            "tags": []
          },
          "execution_count": 37
        }
      ]
    },
    {
      "cell_type": "markdown",
      "metadata": {
        "id": "bKGu7AXl1irL",
        "colab_type": "text"
      },
      "source": [
        "#Numpy\n",
        "\n",
        "\n",
        "\n",
        "*   numerical python\n",
        "*   vectorized programming\n",
        "*   handling multidimentoal data\n",
        "*   manipulating arrays\n",
        "*   We can define the datatype\n",
        "\n",
        "*   Commonly used with numerical data. But you may use mixed data as well\n",
        "\n",
        "*   Faster execution\n",
        "\n",
        "*   Less Memory\n",
        "\n",
        "*  Most of the mathematical functions are availbl\n",
        "\n",
        "      -   linear Algebra\n",
        "      -   statistics\n",
        "      -   probability\n",
        "      -   Fourier transform\n",
        "      -   Trigonometric\n",
        "      -   Logarithemic\n",
        "      -   Exponential \n"
      ]
    },
    {
      "cell_type": "markdown",
      "metadata": {
        "id": "ltguhEQr2T4_",
        "colab_type": "text"
      },
      "source": [
        ""
      ]
    },
    {
      "cell_type": "code",
      "metadata": {
        "id": "or65OF-t1Y03",
        "colab_type": "code",
        "outputId": "b3ef669b-0f35-444a-d50d-db8cccbf25de",
        "colab": {
          "base_uri": "https://localhost:8080/",
          "height": 35
        }
      },
      "source": [
        "#version\n",
        "import numpy\n",
        "numpy.__version__ #attribute \"__\" - dunder"
      ],
      "execution_count": 0,
      "outputs": [
        {
          "output_type": "execute_result",
          "data": {
            "text/plain": [
              "'1.18.1'"
            ]
          },
          "metadata": {
            "tags": []
          },
          "execution_count": 38
        }
      ]
    },
    {
      "cell_type": "code",
      "metadata": {
        "id": "ifQXiQiW1Ywj",
        "colab_type": "code",
        "colab": {}
      },
      "source": [
        "#importing a package with ailas name\n",
        "import numpy as np"
      ],
      "execution_count": 0,
      "outputs": []
    },
    {
      "cell_type": "markdown",
      "metadata": {
        "id": "Aqu6Wj3N3K1R",
        "colab_type": "text"
      },
      "source": [
        "#Converting existing data into numpy array"
      ]
    },
    {
      "cell_type": "code",
      "metadata": {
        "id": "d6v7MtaF1YuW",
        "colab_type": "code",
        "outputId": "8df661c7-4bed-46bf-c66b-89ef5e13f8ae",
        "colab": {
          "base_uri": "https://localhost:8080/",
          "height": 52
        }
      },
      "source": [
        "l=[7,9,0,3,4]\n",
        "array_1d=np.array(l)\n",
        "print(type(array_1d))\n",
        "print(array_1d)"
      ],
      "execution_count": 0,
      "outputs": [
        {
          "output_type": "stream",
          "text": [
            "<class 'numpy.ndarray'>\n",
            "[7 9 0 3 4]\n"
          ],
          "name": "stdout"
        }
      ]
    },
    {
      "cell_type": "code",
      "metadata": {
        "id": "oShMOVdf1Yrq",
        "colab_type": "code",
        "outputId": "6b3ba740-6704-4341-a612-93f827fc8af2",
        "colab": {
          "base_uri": "https://localhost:8080/",
          "height": 1000
        }
      },
      "source": [
        "dir(np.ndarray)"
      ],
      "execution_count": 0,
      "outputs": [
        {
          "output_type": "execute_result",
          "data": {
            "text/plain": [
              "['T',\n",
              " '__abs__',\n",
              " '__add__',\n",
              " '__and__',\n",
              " '__array__',\n",
              " '__array_finalize__',\n",
              " '__array_function__',\n",
              " '__array_interface__',\n",
              " '__array_prepare__',\n",
              " '__array_priority__',\n",
              " '__array_struct__',\n",
              " '__array_ufunc__',\n",
              " '__array_wrap__',\n",
              " '__bool__',\n",
              " '__class__',\n",
              " '__complex__',\n",
              " '__contains__',\n",
              " '__copy__',\n",
              " '__deepcopy__',\n",
              " '__delattr__',\n",
              " '__delitem__',\n",
              " '__dir__',\n",
              " '__divmod__',\n",
              " '__doc__',\n",
              " '__eq__',\n",
              " '__float__',\n",
              " '__floordiv__',\n",
              " '__format__',\n",
              " '__ge__',\n",
              " '__getattribute__',\n",
              " '__getitem__',\n",
              " '__gt__',\n",
              " '__hash__',\n",
              " '__iadd__',\n",
              " '__iand__',\n",
              " '__ifloordiv__',\n",
              " '__ilshift__',\n",
              " '__imatmul__',\n",
              " '__imod__',\n",
              " '__imul__',\n",
              " '__index__',\n",
              " '__init__',\n",
              " '__init_subclass__',\n",
              " '__int__',\n",
              " '__invert__',\n",
              " '__ior__',\n",
              " '__ipow__',\n",
              " '__irshift__',\n",
              " '__isub__',\n",
              " '__iter__',\n",
              " '__itruediv__',\n",
              " '__ixor__',\n",
              " '__le__',\n",
              " '__len__',\n",
              " '__lshift__',\n",
              " '__lt__',\n",
              " '__matmul__',\n",
              " '__mod__',\n",
              " '__mul__',\n",
              " '__ne__',\n",
              " '__neg__',\n",
              " '__new__',\n",
              " '__or__',\n",
              " '__pos__',\n",
              " '__pow__',\n",
              " '__radd__',\n",
              " '__rand__',\n",
              " '__rdivmod__',\n",
              " '__reduce__',\n",
              " '__reduce_ex__',\n",
              " '__repr__',\n",
              " '__rfloordiv__',\n",
              " '__rlshift__',\n",
              " '__rmatmul__',\n",
              " '__rmod__',\n",
              " '__rmul__',\n",
              " '__ror__',\n",
              " '__rpow__',\n",
              " '__rrshift__',\n",
              " '__rshift__',\n",
              " '__rsub__',\n",
              " '__rtruediv__',\n",
              " '__rxor__',\n",
              " '__setattr__',\n",
              " '__setitem__',\n",
              " '__setstate__',\n",
              " '__sizeof__',\n",
              " '__str__',\n",
              " '__sub__',\n",
              " '__subclasshook__',\n",
              " '__truediv__',\n",
              " '__xor__',\n",
              " 'all',\n",
              " 'any',\n",
              " 'argmax',\n",
              " 'argmin',\n",
              " 'argpartition',\n",
              " 'argsort',\n",
              " 'astype',\n",
              " 'base',\n",
              " 'byteswap',\n",
              " 'choose',\n",
              " 'clip',\n",
              " 'compress',\n",
              " 'conj',\n",
              " 'conjugate',\n",
              " 'copy',\n",
              " 'ctypes',\n",
              " 'cumprod',\n",
              " 'cumsum',\n",
              " 'data',\n",
              " 'diagonal',\n",
              " 'dot',\n",
              " 'dtype',\n",
              " 'dump',\n",
              " 'dumps',\n",
              " 'fill',\n",
              " 'flags',\n",
              " 'flat',\n",
              " 'flatten',\n",
              " 'getfield',\n",
              " 'imag',\n",
              " 'item',\n",
              " 'itemset',\n",
              " 'itemsize',\n",
              " 'max',\n",
              " 'mean',\n",
              " 'min',\n",
              " 'nbytes',\n",
              " 'ndim',\n",
              " 'newbyteorder',\n",
              " 'nonzero',\n",
              " 'partition',\n",
              " 'prod',\n",
              " 'ptp',\n",
              " 'put',\n",
              " 'ravel',\n",
              " 'real',\n",
              " 'repeat',\n",
              " 'reshape',\n",
              " 'resize',\n",
              " 'round',\n",
              " 'searchsorted',\n",
              " 'setfield',\n",
              " 'setflags',\n",
              " 'shape',\n",
              " 'size',\n",
              " 'sort',\n",
              " 'squeeze',\n",
              " 'std',\n",
              " 'strides',\n",
              " 'sum',\n",
              " 'swapaxes',\n",
              " 'take',\n",
              " 'tobytes',\n",
              " 'tofile',\n",
              " 'tolist',\n",
              " 'tostring',\n",
              " 'trace',\n",
              " 'transpose',\n",
              " 'var',\n",
              " 'view']"
            ]
          },
          "metadata": {
            "tags": []
          },
          "execution_count": 43
        }
      ]
    },
    {
      "cell_type": "code",
      "metadata": {
        "id": "S_XysPAv1Ymd",
        "colab_type": "code",
        "outputId": "0b09840e-0580-4777-f095-fff794152015",
        "colab": {
          "base_uri": "https://localhost:8080/",
          "height": 52
        }
      },
      "source": [
        "t=(7,9,0,3,4)\n",
        "array_ld=np.array(t)\n",
        "print(type(array_1d))\n",
        "print(array_ld)"
      ],
      "execution_count": 0,
      "outputs": [
        {
          "output_type": "stream",
          "text": [
            "<class 'numpy.ndarray'>\n",
            "[7 9 0 3 4]\n"
          ],
          "name": "stdout"
        }
      ]
    },
    {
      "cell_type": "code",
      "metadata": {
        "id": "NInRg1yf1Yiu",
        "colab_type": "code",
        "outputId": "49db2db6-82af-4413-a6ad-f9d65f98a922",
        "colab": {
          "base_uri": "https://localhost:8080/",
          "height": 35
        }
      },
      "source": [
        "d={1:1,2:4,3:9}\n",
        "array_ld=np.array(list(d.values()))\n",
        "array_ld"
      ],
      "execution_count": 0,
      "outputs": [
        {
          "output_type": "execute_result",
          "data": {
            "text/plain": [
              "array([1, 4, 9])"
            ]
          },
          "metadata": {
            "tags": []
          },
          "execution_count": 47
        }
      ]
    },
    {
      "cell_type": "markdown",
      "metadata": {
        "id": "wZ1wEhwq5v1x",
        "colab_type": "text"
      },
      "source": [
        "#Initializing Arrays"
      ]
    },
    {
      "cell_type": "code",
      "metadata": {
        "id": "62YODHoj5M6Y",
        "colab_type": "code",
        "outputId": "4eb1512d-31cc-4b35-e8f4-8579df560b5f",
        "colab": {
          "base_uri": "https://localhost:8080/",
          "height": 35
        }
      },
      "source": [
        "np.zeros(3)"
      ],
      "execution_count": 0,
      "outputs": [
        {
          "output_type": "execute_result",
          "data": {
            "text/plain": [
              "array([0., 0., 0.])"
            ]
          },
          "metadata": {
            "tags": []
          },
          "execution_count": 100
        }
      ]
    },
    {
      "cell_type": "code",
      "metadata": {
        "id": "Xj9FMx255_Px",
        "colab_type": "code",
        "outputId": "39788b2a-2540-41e9-8b40-036a548284ae",
        "colab": {
          "base_uri": "https://localhost:8080/",
          "height": 69
        }
      },
      "source": [
        "np.zeros((3,3))"
      ],
      "execution_count": 0,
      "outputs": [
        {
          "output_type": "execute_result",
          "data": {
            "text/plain": [
              "array([[0., 0., 0.],\n",
              "       [0., 0., 0.],\n",
              "       [0., 0., 0.]])"
            ]
          },
          "metadata": {
            "tags": []
          },
          "execution_count": 101
        }
      ]
    },
    {
      "cell_type": "code",
      "metadata": {
        "id": "nG6NPWFo5_J0",
        "colab_type": "code",
        "outputId": "2bf14e02-e654-4453-d43a-52dd51390734",
        "colab": {
          "base_uri": "https://localhost:8080/",
          "height": 52
        }
      },
      "source": [
        "array_zeros=np.zeros((3,3))\n",
        "print(array_zeros.dtype)\n",
        "print(type(array_zeros))"
      ],
      "execution_count": 0,
      "outputs": [
        {
          "output_type": "stream",
          "text": [
            "float64\n",
            "<class 'numpy.ndarray'>\n"
          ],
          "name": "stdout"
        }
      ]
    },
    {
      "cell_type": "code",
      "metadata": {
        "id": "4lBGaEkt5_Cg",
        "colab_type": "code",
        "outputId": "2c2e981e-ede5-44c6-d478-b6a1881a7278",
        "colab": {
          "base_uri": "https://localhost:8080/",
          "height": 919
        }
      },
      "source": [
        "help(np.zeros)"
      ],
      "execution_count": 0,
      "outputs": [
        {
          "output_type": "stream",
          "text": [
            "Help on built-in function zeros in module numpy:\n",
            "\n",
            "zeros(...)\n",
            "    zeros(shape, dtype=float, order='C')\n",
            "    \n",
            "    Return a new array of given shape and type, filled with zeros.\n",
            "    \n",
            "    Parameters\n",
            "    ----------\n",
            "    shape : int or tuple of ints\n",
            "        Shape of the new array, e.g., ``(2, 3)`` or ``2``.\n",
            "    dtype : data-type, optional\n",
            "        The desired data-type for the array, e.g., `numpy.int8`.  Default is\n",
            "        `numpy.float64`.\n",
            "    order : {'C', 'F'}, optional, default: 'C'\n",
            "        Whether to store multi-dimensional data in row-major\n",
            "        (C-style) or column-major (Fortran-style) order in\n",
            "        memory.\n",
            "    \n",
            "    Returns\n",
            "    -------\n",
            "    out : ndarray\n",
            "        Array of zeros with the given shape, dtype, and order.\n",
            "    \n",
            "    See Also\n",
            "    --------\n",
            "    zeros_like : Return an array of zeros with shape and type of input.\n",
            "    empty : Return a new uninitialized array.\n",
            "    ones : Return a new array setting values to one.\n",
            "    full : Return a new array of given shape filled with value.\n",
            "    \n",
            "    Examples\n",
            "    --------\n",
            "    >>> np.zeros(5)\n",
            "    array([ 0.,  0.,  0.,  0.,  0.])\n",
            "    \n",
            "    >>> np.zeros((5,), dtype=int)\n",
            "    array([0, 0, 0, 0, 0])\n",
            "    \n",
            "    >>> np.zeros((2, 1))\n",
            "    array([[ 0.],\n",
            "           [ 0.]])\n",
            "    \n",
            "    >>> s = (2,2)\n",
            "    >>> np.zeros(s)\n",
            "    array([[ 0.,  0.],\n",
            "           [ 0.,  0.]])\n",
            "    \n",
            "    >>> np.zeros((2,), dtype=[('x', 'i4'), ('y', 'i4')]) # custom dtype\n",
            "    array([(0, 0), (0, 0)],\n",
            "          dtype=[('x', '<i4'), ('y', '<i4')])\n",
            "\n"
          ],
          "name": "stdout"
        }
      ]
    },
    {
      "cell_type": "code",
      "metadata": {
        "id": "debTbLuj5M38",
        "colab_type": "code",
        "outputId": "012e2c4a-7214-4e56-fd5b-20f17ce7ebca",
        "colab": {
          "base_uri": "https://localhost:8080/",
          "height": 104
        }
      },
      "source": [
        "array_zeros=np.zeros((3,3),dtype=int)\n",
        "print(array_zeros.dtype)\n",
        "print(type(array_zeros))\n",
        "print(array_zeros)"
      ],
      "execution_count": 0,
      "outputs": [
        {
          "output_type": "stream",
          "text": [
            "int64\n",
            "<class 'numpy.ndarray'>\n",
            "[[0 0 0]\n",
            " [0 0 0]\n",
            " [0 0 0]]\n"
          ],
          "name": "stdout"
        }
      ]
    },
    {
      "cell_type": "code",
      "metadata": {
        "id": "FeOfgQTS5Mqd",
        "colab_type": "code",
        "outputId": "1479165f-7470-40d8-b5a3-5a779463ca4d",
        "colab": {
          "base_uri": "https://localhost:8080/",
          "height": 104
        }
      },
      "source": [
        "array_ones=np.ones((3,3),dtype=int)\n",
        "print(array_ones.dtype)\n",
        "print(type(array_ones))\n",
        "print(array_ones)"
      ],
      "execution_count": 0,
      "outputs": [
        {
          "output_type": "stream",
          "text": [
            "int64\n",
            "<class 'numpy.ndarray'>\n",
            "[[1 1 1]\n",
            " [1 1 1]\n",
            " [1 1 1]]\n"
          ],
          "name": "stdout"
        }
      ]
    },
    {
      "cell_type": "code",
      "metadata": {
        "id": "tgCfyn0L8J06",
        "colab_type": "code",
        "outputId": "bbd6353a-5b82-4762-db33-83994702465c",
        "colab": {
          "base_uri": "https://localhost:8080/",
          "height": 104
        }
      },
      "source": [
        "array_ones=np.ones((3,3),dtype=bool)\n",
        "print(array_ones.dtype)\n",
        "print(type(array_ones))\n",
        "print(array_ones)"
      ],
      "execution_count": 0,
      "outputs": [
        {
          "output_type": "stream",
          "text": [
            "bool\n",
            "<class 'numpy.ndarray'>\n",
            "[[ True  True  True]\n",
            " [ True  True  True]\n",
            " [ True  True  True]]\n"
          ],
          "name": "stdout"
        }
      ]
    },
    {
      "cell_type": "code",
      "metadata": {
        "id": "VnxLRscH8Jyq",
        "colab_type": "code",
        "outputId": "9392b72b-cd8f-4df6-d42c-26cd78723c6b",
        "colab": {
          "base_uri": "https://localhost:8080/",
          "height": 52
        }
      },
      "source": [
        "np.eye(2)"
      ],
      "execution_count": 0,
      "outputs": [
        {
          "output_type": "execute_result",
          "data": {
            "text/plain": [
              "array([[1., 0.],\n",
              "       [0., 1.]])"
            ]
          },
          "metadata": {
            "tags": []
          },
          "execution_count": 107
        }
      ]
    },
    {
      "cell_type": "code",
      "metadata": {
        "id": "IOStIEpc8JvO",
        "colab_type": "code",
        "outputId": "9f1946c0-d751-457e-a5b9-6f6980018697",
        "colab": {
          "base_uri": "https://localhost:8080/",
          "height": 69
        }
      },
      "source": [
        "np.diag([1,2,3])"
      ],
      "execution_count": 0,
      "outputs": [
        {
          "output_type": "execute_result",
          "data": {
            "text/plain": [
              "array([[1, 0, 0],\n",
              "       [0, 2, 0],\n",
              "       [0, 0, 3]])"
            ]
          },
          "metadata": {
            "tags": []
          },
          "execution_count": 108
        }
      ]
    },
    {
      "cell_type": "markdown",
      "metadata": {
        "id": "1g_G9sKt8y1g",
        "colab_type": "text"
      },
      "source": [
        "Creating arrays with in a specific range"
      ]
    },
    {
      "cell_type": "code",
      "metadata": {
        "id": "6gGjuY2r8t5X",
        "colab_type": "code",
        "outputId": "12e51010-07fc-401b-c39e-c64c3abf25d9",
        "colab": {
          "base_uri": "https://localhost:8080/",
          "height": 87
        }
      },
      "source": [
        "print(np.arange(6))\n",
        "print(np.arange(1,6))\n",
        "print(np.arange(1,6,2))\n",
        "print(np.arange(1,6,0.5))\n",
        "#print(list(range(1,6,0.5)))"
      ],
      "execution_count": 0,
      "outputs": [
        {
          "output_type": "stream",
          "text": [
            "[0 1 2 3 4 5]\n",
            "[1 2 3 4 5]\n",
            "[1 3 5]\n",
            "[1.  1.5 2.  2.5 3.  3.5 4.  4.5 5.  5.5]\n"
          ],
          "name": "stdout"
        }
      ]
    },
    {
      "cell_type": "code",
      "metadata": {
        "id": "PsRqhw51-qVa",
        "colab_type": "code",
        "outputId": "fd05b2c1-c77b-40ad-d541-32ea910f06a9",
        "colab": {
          "base_uri": "https://localhost:8080/",
          "height": 52
        }
      },
      "source": [
        "print(np.linspace(1,5,10))"
      ],
      "execution_count": 0,
      "outputs": [
        {
          "output_type": "stream",
          "text": [
            "[1.         1.44444444 1.88888889 2.33333333 2.77777778 3.22222222\n",
            " 3.66666667 4.11111111 4.55555556 5.        ]\n"
          ],
          "name": "stdout"
        }
      ]
    },
    {
      "cell_type": "code",
      "metadata": {
        "id": "mfsTZJ1s-xFN",
        "colab_type": "code",
        "outputId": "59fa4c7d-22db-4a0d-937e-fbccbfde0774",
        "colab": {
          "base_uri": "https://localhost:8080/",
          "height": 87
        }
      },
      "source": [
        "print(np.linspace(1,5,10))\n",
        "print(np.linspace(1,5,3))\n",
        "print(np.linspace(1,5,2))\n"
      ],
      "execution_count": 0,
      "outputs": [
        {
          "output_type": "stream",
          "text": [
            "[1.         1.44444444 1.88888889 2.33333333 2.77777778 3.22222222\n",
            " 3.66666667 4.11111111 4.55555556 5.        ]\n",
            "[1. 3. 5.]\n",
            "[1. 5.]\n"
          ],
          "name": "stdout"
        }
      ]
    },
    {
      "cell_type": "code",
      "metadata": {
        "id": "juWfCp2g_HwJ",
        "colab_type": "code",
        "outputId": "ec3ca2e5-2725-4315-d406-3b3d077f216e",
        "colab": {
          "base_uri": "https://localhost:8080/",
          "height": 35
        }
      },
      "source": [
        "np.random.randint(10) #output range 0 to 9"
      ],
      "execution_count": 0,
      "outputs": [
        {
          "output_type": "execute_result",
          "data": {
            "text/plain": [
              "1"
            ]
          },
          "metadata": {
            "tags": []
          },
          "execution_count": 112
        }
      ]
    },
    {
      "cell_type": "code",
      "metadata": {
        "id": "xfHhAycg8tx5",
        "colab_type": "code",
        "outputId": "8c700fd9-8324-4221-c1b5-0e52bc10b728",
        "colab": {
          "base_uri": "https://localhost:8080/",
          "height": 52
        }
      },
      "source": [
        "np.random.randint(10,size=(2,3))"
      ],
      "execution_count": 0,
      "outputs": [
        {
          "output_type": "execute_result",
          "data": {
            "text/plain": [
              "array([[3, 6, 2],\n",
              "       [5, 5, 8]])"
            ]
          },
          "metadata": {
            "tags": []
          },
          "execution_count": 113
        }
      ]
    },
    {
      "cell_type": "code",
      "metadata": {
        "id": "rJr3uAL4poZj",
        "colab_type": "code",
        "outputId": "2e2780b9-0c42-4339-f178-cad9e0fa195b",
        "colab": {
          "base_uri": "https://localhost:8080/",
          "height": 35
        }
      },
      "source": [
        "np.random.randint(10,size=(2))"
      ],
      "execution_count": 0,
      "outputs": [
        {
          "output_type": "execute_result",
          "data": {
            "text/plain": [
              "array([9, 2])"
            ]
          },
          "metadata": {
            "tags": []
          },
          "execution_count": 114
        }
      ]
    },
    {
      "cell_type": "code",
      "metadata": {
        "id": "2IFx-bi7poVH",
        "colab_type": "code",
        "outputId": "f5ad4e0d-c1b3-417e-b3b1-ffdfdcea2374",
        "colab": {
          "base_uri": "https://localhost:8080/",
          "height": 35
        }
      },
      "source": [
        "np.random.randint(10,34,size=(2))"
      ],
      "execution_count": 0,
      "outputs": [
        {
          "output_type": "execute_result",
          "data": {
            "text/plain": [
              "array([14, 31])"
            ]
          },
          "metadata": {
            "tags": []
          },
          "execution_count": 115
        }
      ]
    },
    {
      "cell_type": "code",
      "metadata": {
        "id": "yOVbxKhkpoSQ",
        "colab_type": "code",
        "outputId": "b610655d-c356-4bf0-a349-338c7f30f793",
        "colab": {
          "base_uri": "https://localhost:8080/",
          "height": 191
        }
      },
      "source": [
        "multi_array = np.random.randint(1,1000,size=(10,10))\n",
        "multi_array"
      ],
      "execution_count": 0,
      "outputs": [
        {
          "output_type": "execute_result",
          "data": {
            "text/plain": [
              "array([[238, 492, 603, 664, 967, 886, 716, 893, 590, 981],\n",
              "       [707, 980, 672, 430, 408, 241, 814, 229, 918, 372],\n",
              "       [151, 776, 633, 700, 842, 499, 540, 903, 697, 423],\n",
              "       [662, 479, 847, 872, 624, 116, 257, 820, 857, 750],\n",
              "       [400, 779, 794,  18, 870, 374, 595, 737, 266, 671],\n",
              "       [649, 325, 547, 602, 718, 885, 140, 102,  76, 868],\n",
              "       [100, 439, 537, 747, 732, 722, 270, 160, 402, 780],\n",
              "       [349, 164, 176, 702, 111, 992, 235, 972, 322, 412],\n",
              "       [528, 279, 822, 172, 362, 487, 727,  26, 485, 462],\n",
              "       [253, 597, 399, 454, 493, 483, 541, 657, 914, 860]])"
            ]
          },
          "metadata": {
            "tags": []
          },
          "execution_count": 116
        }
      ]
    },
    {
      "cell_type": "code",
      "metadata": {
        "id": "IL5_PYeqpoO1",
        "colab_type": "code",
        "outputId": "62769bb4-7482-4366-9f24-8afc9680457f",
        "colab": {
          "base_uri": "https://localhost:8080/",
          "height": 104
        }
      },
      "source": [
        "array_1d,array_ones,array_zeros"
      ],
      "execution_count": 0,
      "outputs": [
        {
          "output_type": "execute_result",
          "data": {
            "text/plain": [
              "(array([7, 9, 0, 3, 4]), array([[ True,  True,  True],\n",
              "        [ True,  True,  True],\n",
              "        [ True,  True,  True]]), array([[0, 0, 0],\n",
              "        [0, 0, 0],\n",
              "        [0, 0, 0]]))"
            ]
          },
          "metadata": {
            "tags": []
          },
          "execution_count": 117
        }
      ]
    },
    {
      "cell_type": "code",
      "metadata": {
        "id": "C7khnChIpoLc",
        "colab_type": "code",
        "outputId": "7ba568a7-298a-4e4d-8617-62ed2e0d3528",
        "colab": {
          "base_uri": "https://localhost:8080/",
          "height": 121
        }
      },
      "source": [
        "print(array_1d.dtype) # data type of the array\n",
        "print(array_1d.shape) # shape as a tuple\n",
        "print(array_1d.ndim) # no of dimensions\n",
        "print(array_1d.size) # no of items in the array\n",
        "print(array_1d.itemsize) # size in bytes\n",
        "print(array_1d.nbytes) # itemsize * no of items"
      ],
      "execution_count": 0,
      "outputs": [
        {
          "output_type": "stream",
          "text": [
            "int64\n",
            "(5,)\n",
            "1\n",
            "5\n",
            "8\n",
            "40\n"
          ],
          "name": "stdout"
        }
      ]
    },
    {
      "cell_type": "code",
      "metadata": {
        "id": "TvIJbYae_yb-",
        "colab_type": "code",
        "outputId": "c076bb2c-1d8d-4e3e-b162-e5bd51bd7439",
        "colab": {
          "base_uri": "https://localhost:8080/",
          "height": 35
        }
      },
      "source": [
        "t= (5,)\n",
        "print(t,type(t))"
      ],
      "execution_count": 0,
      "outputs": [
        {
          "output_type": "stream",
          "text": [
            "(5,) <class 'tuple'>\n"
          ],
          "name": "stdout"
        }
      ]
    },
    {
      "cell_type": "code",
      "metadata": {
        "id": "s0EcchEY_yZ0",
        "colab_type": "code",
        "outputId": "0d4dd4b1-3cb5-4aa4-fab8-d2a7c41d31f6",
        "colab": {
          "base_uri": "https://localhost:8080/",
          "height": 35
        }
      },
      "source": [
        "array_1d"
      ],
      "execution_count": 0,
      "outputs": [
        {
          "output_type": "execute_result",
          "data": {
            "text/plain": [
              "array([7, 9, 0, 3, 4])"
            ]
          },
          "metadata": {
            "tags": []
          },
          "execution_count": 120
        }
      ]
    },
    {
      "cell_type": "code",
      "metadata": {
        "id": "EzjwYrNT_yUa",
        "colab_type": "code",
        "outputId": "b06fede7-3391-4880-eb4c-e453b84cd72a",
        "colab": {
          "base_uri": "https://localhost:8080/",
          "height": 35
        }
      },
      "source": [
        "array_1d[1] = 3\n",
        "array_1d"
      ],
      "execution_count": 0,
      "outputs": [
        {
          "output_type": "execute_result",
          "data": {
            "text/plain": [
              "array([7, 3, 0, 3, 4])"
            ]
          },
          "metadata": {
            "tags": []
          },
          "execution_count": 121
        }
      ]
    },
    {
      "cell_type": "code",
      "metadata": {
        "id": "cYuyA5-w_yLV",
        "colab_type": "code",
        "outputId": "5af71d78-5ada-4c9d-c616-1209274c5b80",
        "colab": {
          "base_uri": "https://localhost:8080/",
          "height": 69
        }
      },
      "source": [
        "array_zeros[0] =5\n",
        "array_zeros"
      ],
      "execution_count": 0,
      "outputs": [
        {
          "output_type": "execute_result",
          "data": {
            "text/plain": [
              "array([[5, 5, 5],\n",
              "       [0, 0, 0],\n",
              "       [0, 0, 0]])"
            ]
          },
          "metadata": {
            "tags": []
          },
          "execution_count": 122
        }
      ]
    },
    {
      "cell_type": "code",
      "metadata": {
        "id": "0fh4G6BVsAq2",
        "colab_type": "code",
        "outputId": "05fc6395-155e-438e-c491-0ceafee5f232",
        "colab": {
          "base_uri": "https://localhost:8080/",
          "height": 69
        }
      },
      "source": [
        "# how to update the 2nd row 3rd element\n",
        "array_zeros[1][2] = 6\n",
        "array_zeros"
      ],
      "execution_count": 0,
      "outputs": [
        {
          "output_type": "execute_result",
          "data": {
            "text/plain": [
              "array([[5, 5, 5],\n",
              "       [0, 0, 6],\n",
              "       [0, 0, 0]])"
            ]
          },
          "metadata": {
            "tags": []
          },
          "execution_count": 123
        }
      ]
    },
    {
      "cell_type": "code",
      "metadata": {
        "id": "KvaV60qMsAlC",
        "colab_type": "code",
        "outputId": "4d56cc37-54e4-48f8-f58a-5529126231a1",
        "colab": {
          "base_uri": "https://localhost:8080/",
          "height": 35
        }
      },
      "source": [
        "# check for loop with 1d and 2d arrays\n",
        "for i in array_1d:\n",
        "    print(i)\n",
        "    break"
      ],
      "execution_count": 0,
      "outputs": [
        {
          "output_type": "stream",
          "text": [
            "7\n"
          ],
          "name": "stdout"
        }
      ]
    },
    {
      "cell_type": "code",
      "metadata": {
        "id": "ZWhqHfussX09",
        "colab_type": "code",
        "colab": {
          "base_uri": "https://localhost:8080/",
          "height": 35
        },
        "outputId": "3796fe09-6f86-4f80-c103-a219af53a958"
      },
      "source": [
        "for i in array_zeros:\n",
        "    print(i)\n",
        "    break"
      ],
      "execution_count": 125,
      "outputs": [
        {
          "output_type": "stream",
          "text": [
            "[5 5 5]\n"
          ],
          "name": "stdout"
        }
      ]
    },
    {
      "cell_type": "markdown",
      "metadata": {
        "id": "m2WSwCPdCnFu",
        "colab_type": "text"
      },
      "source": [
        "Mathematical operators"
      ]
    },
    {
      "cell_type": "code",
      "metadata": {
        "id": "_OzF_TecBaUB",
        "colab_type": "code",
        "outputId": "47071883-0e4a-4e11-f194-b5ab4d8060a2",
        "colab": {
          "base_uri": "https://localhost:8080/",
          "height": 191
        }
      },
      "source": [
        "a=np.arange(1,11)\n",
        "b=np.arange(10,20)\n",
        "print(a+b)\n",
        "print(a*b)\n",
        "print(b/a)\n",
        "print(b//a)\n",
        "print(b%a)\n",
        "print(a**b)"
      ],
      "execution_count": 0,
      "outputs": [
        {
          "output_type": "stream",
          "text": [
            "[11 13 15 17 19 21 23 25 27 29]\n",
            "[ 10  22  36  52  70  90 112 136 162 190]\n",
            "[10.          5.5         4.          3.25        2.8         2.5\n",
            "  2.28571429  2.125       2.          1.9       ]\n",
            "[10  5  4  3  2  2  2  2  2  1]\n",
            "[0 1 0 1 4 3 2 1 0 9]\n",
            "[                   1                 2048               531441\n",
            "             67108864           6103515625         470184984576\n",
            "       33232930569601     2251799813685248   150094635296999121\n",
            " -8446744073709551616]\n"
          ],
          "name": "stdout"
        }
      ]
    },
    {
      "cell_type": "code",
      "metadata": {
        "id": "EUqkiENhBaMf",
        "colab_type": "code",
        "outputId": "8dec3e7d-a648-426f-b771-cfbdbd1b093b",
        "colab": {
          "base_uri": "https://localhost:8080/",
          "height": 69
        }
      },
      "source": [
        "print(a>5)\n",
        "print(a==5)\n",
        "print(a<5)"
      ],
      "execution_count": 0,
      "outputs": [
        {
          "output_type": "stream",
          "text": [
            "[False False False False False  True  True  True  True  True]\n",
            "[False False False False  True False False False False False]\n",
            "[ True  True  True  True False False False False False False]\n"
          ],
          "name": "stdout"
        }
      ]
    }
  ]
}