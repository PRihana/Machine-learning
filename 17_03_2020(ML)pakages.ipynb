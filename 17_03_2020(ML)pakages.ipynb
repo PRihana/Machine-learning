{
  "nbformat": 4,
  "nbformat_minor": 0,
  "metadata": {
    "colab": {
      "name": "17-03-2020(ML)pakages.ipynb",
      "provenance": [],
      "collapsed_sections": [],
      "mount_file_id": "12bb0WTY9O9f8q8dnSqG-hpAP-r_IQYU3",
      "authorship_tag": "ABX9TyPthsRCFSE0Mo7Ce5xelHqM",
      "include_colab_link": true
    },
    "kernelspec": {
      "name": "python3",
      "display_name": "Python 3"
    }
  },
  "cells": [
    {
      "cell_type": "markdown",
      "metadata": {
        "id": "view-in-github",
        "colab_type": "text"
      },
      "source": [
        "<a href=\"https://colab.research.google.com/github/PRihana/Machine-learning/blob/master/17_03_2020(ML)pakages.ipynb\" target=\"_parent\"><img src=\"https://colab.research.google.com/assets/colab-badge.svg\" alt=\"Open In Colab\"/></a>"
      ]
    },
    {
      "cell_type": "code",
      "metadata": {
        "id": "exL48L4Guzg6",
        "colab_type": "code",
        "colab": {}
      },
      "source": [
        "-what are csv,tsv files?\n",
        "-what are packages available to handle csv data?\n",
        "-what is json format?\n",
        "-How to handle json data?\n",
        "-what are packages avilable for image data?\n",
        "-what are the packages availble for audio data?\n",
        "-with all the packages above check how to read the data?\n",
        "-How to dispaly the same data\n",
        "-Replace comma in the file sample.csv with tab and store it in a file as tsv format.\n",
        "i/p : A csv file\n",
        "o/p: Is atsv file with same data\n",
        "step1: Read the data using open\n",
        "step2: Replace comma with tab\n",
        "step3: Write the data into file with extension tsv\n",
        "-Packages to handle csv data\n",
        "\n",
        " -pandas\n",
        " -csv\n",
        " -numpy"
      ],
      "execution_count": 0,
      "outputs": []
    },
    {
      "cell_type": "code",
      "metadata": {
        "id": "4fUzqiSWAFuh",
        "colab_type": "code",
        "outputId": "c6de50ff-695d-42ad-f070-1241b6cb0f72",
        "colab": {
          "base_uri": "https://localhost:8080/",
          "height": 35
        }
      },
      "source": [
        "# import package name\n",
        "import pandas \n",
        "path =\"/sample.csv\"\n",
        "data = pandas.read_csv(path)\n",
        "type(data)"
      ],
      "execution_count": 0,
      "outputs": [
        {
          "output_type": "execute_result",
          "data": {
            "text/plain": [
              "pandas.core.frame.DataFrame"
            ]
          },
          "metadata": {
            "tags": []
          },
          "execution_count": 17
        }
      ]
    },
    {
      "cell_type": "code",
      "metadata": {
        "id": "jPl_c3QqEmH-",
        "colab_type": "code",
        "outputId": "a2fefa8f-037a-42e7-c45a-42e4dee4b9d1",
        "colab": {
          "base_uri": "https://localhost:8080/",
          "height": 171
        }
      },
      "source": [
        "data"
      ],
      "execution_count": 0,
      "outputs": [
        {
          "output_type": "execute_result",
          "data": {
            "text/html": [
              "<div>\n",
              "<style scoped>\n",
              "    .dataframe tbody tr th:only-of-type {\n",
              "        vertical-align: middle;\n",
              "    }\n",
              "\n",
              "    .dataframe tbody tr th {\n",
              "        vertical-align: top;\n",
              "    }\n",
              "\n",
              "    .dataframe thead th {\n",
              "        text-align: right;\n",
              "    }\n",
              "</style>\n",
              "<table border=\"1\" class=\"dataframe\">\n",
              "  <thead>\n",
              "    <tr style=\"text-align: right;\">\n",
              "      <th></th>\n",
              "      <th>name</th>\n",
              "      <th>salary</th>\n",
              "      <th>year</th>\n",
              "    </tr>\n",
              "  </thead>\n",
              "  <tbody>\n",
              "    <tr>\n",
              "      <th>0</th>\n",
              "      <td>Raj Acharya</td>\n",
              "      <td>45000</td>\n",
              "      <td>2015</td>\n",
              "    </tr>\n",
              "    <tr>\n",
              "      <th>1</th>\n",
              "      <td>SaiTeja Ram</td>\n",
              "      <td>78000</td>\n",
              "      <td>2012</td>\n",
              "    </tr>\n",
              "    <tr>\n",
              "      <th>2</th>\n",
              "      <td>Hemendra Arya</td>\n",
              "      <td>32000</td>\n",
              "      <td>2018</td>\n",
              "    </tr>\n",
              "    <tr>\n",
              "      <th>3</th>\n",
              "      <td>Revanth Sundarm</td>\n",
              "      <td>15000</td>\n",
              "      <td>2019</td>\n",
              "    </tr>\n",
              "  </tbody>\n",
              "</table>\n",
              "</div>"
            ],
            "text/plain": [
              "              name  salary  year\n",
              "0      Raj Acharya   45000  2015\n",
              "1      SaiTeja Ram   78000  2012\n",
              "2    Hemendra Arya   32000  2018\n",
              "3  Revanth Sundarm   15000  2019"
            ]
          },
          "metadata": {
            "tags": []
          },
          "execution_count": 18
        }
      ]
    },
    {
      "cell_type": "code",
      "metadata": {
        "id": "i8QQn7-LKy9T",
        "colab_type": "code",
        "outputId": "aef06e85-2c09-448d-daf5-df8691d03753",
        "colab": {
          "base_uri": "https://localhost:8080/",
          "height": 110
        }
      },
      "source": [
        "data.head(2)"
      ],
      "execution_count": 0,
      "outputs": [
        {
          "output_type": "execute_result",
          "data": {
            "text/html": [
              "<div>\n",
              "<style scoped>\n",
              "    .dataframe tbody tr th:only-of-type {\n",
              "        vertical-align: middle;\n",
              "    }\n",
              "\n",
              "    .dataframe tbody tr th {\n",
              "        vertical-align: top;\n",
              "    }\n",
              "\n",
              "    .dataframe thead th {\n",
              "        text-align: right;\n",
              "    }\n",
              "</style>\n",
              "<table border=\"1\" class=\"dataframe\">\n",
              "  <thead>\n",
              "    <tr style=\"text-align: right;\">\n",
              "      <th></th>\n",
              "      <th>name</th>\n",
              "      <th>salary</th>\n",
              "      <th>year</th>\n",
              "    </tr>\n",
              "  </thead>\n",
              "  <tbody>\n",
              "    <tr>\n",
              "      <th>0</th>\n",
              "      <td>Raj Acharya</td>\n",
              "      <td>45000</td>\n",
              "      <td>2015</td>\n",
              "    </tr>\n",
              "    <tr>\n",
              "      <th>1</th>\n",
              "      <td>SaiTeja Ram</td>\n",
              "      <td>78000</td>\n",
              "      <td>2012</td>\n",
              "    </tr>\n",
              "  </tbody>\n",
              "</table>\n",
              "</div>"
            ],
            "text/plain": [
              "          name  salary  year\n",
              "0  Raj Acharya   45000  2015\n",
              "1  SaiTeja Ram   78000  2012"
            ]
          },
          "metadata": {
            "tags": []
          },
          "execution_count": 19
        }
      ]
    },
    {
      "cell_type": "code",
      "metadata": {
        "id": "ft0KTydgK5BG",
        "colab_type": "code",
        "colab": {}
      },
      "source": [
        "import csv"
      ],
      "execution_count": 0,
      "outputs": []
    },
    {
      "cell_type": "code",
      "metadata": {
        "id": "rGTbrKJUKzMx",
        "colab_type": "code",
        "outputId": "d2f7dc15-5c30-48b0-f40e-ec9d5c715d26",
        "colab": {
          "base_uri": "https://localhost:8080/",
          "height": 312
        }
      },
      "source": [
        "help(csv.reader)"
      ],
      "execution_count": 0,
      "outputs": [
        {
          "output_type": "stream",
          "text": [
            "Help on built-in function reader in module _csv:\n",
            "\n",
            "reader(...)\n",
            "    csv_reader = reader(iterable [, dialect='excel']\n",
            "                            [optional keyword args])\n",
            "        for row in csv_reader:\n",
            "            process(row)\n",
            "    \n",
            "    The \"iterable\" argument can be any object that returns a line\n",
            "    of input for each iteration, such as a file object or a list.  The\n",
            "    optional \"dialect\" parameter is discussed below.  The function\n",
            "    also accepts optional keyword arguments which override settings\n",
            "    provided by the dialect.\n",
            "    \n",
            "    The returned object is an iterator.  Each iteration returns a row\n",
            "    of the CSV file (which can span multiple input lines).\n",
            "\n"
          ],
          "name": "stdout"
        }
      ]
    },
    {
      "cell_type": "code",
      "metadata": {
        "id": "HPuyHjw3LwkI",
        "colab_type": "code",
        "outputId": "7dc94d48-cfad-4841-e506-7234f1dc82c1",
        "colab": {
          "base_uri": "https://localhost:8080/",
          "height": 52
        }
      },
      "source": [
        "check = csv.reader([\"i am,renu \",\"Machine Learning Learner\"])\n",
        "for row in check:\n",
        "    print(row)"
      ],
      "execution_count": 0,
      "outputs": [
        {
          "output_type": "stream",
          "text": [
            "['i am', 'renu ']\n",
            "['Machine Learning Learner']\n"
          ],
          "name": "stdout"
        }
      ]
    },
    {
      "cell_type": "code",
      "metadata": {
        "id": "wdnuqLi0MAIu",
        "colab_type": "code",
        "outputId": "cf870223-12db-47e8-9db4-bfe2af0052dd",
        "colab": {
          "base_uri": "https://localhost:8080/",
          "height": 87
        }
      },
      "source": [
        "f = open(path)\n",
        "#type(f)\n",
        "lines = csv.reader(f)\n",
        "next(lines)\n",
        "for row in lines:\n",
        "    print(row[2])\n",
        "#list(lines)"
      ],
      "execution_count": 0,
      "outputs": [
        {
          "output_type": "stream",
          "text": [
            "2015\n",
            "2012\n",
            "2018\n",
            "2019\n"
          ],
          "name": "stdout"
        }
      ]
    },
    {
      "cell_type": "code",
      "metadata": {
        "id": "HM_y9UEFMDno",
        "colab_type": "code",
        "outputId": "a60c152c-fd8c-4a6f-a307-7f5edd12be62",
        "colab": {
          "base_uri": "https://localhost:8080/",
          "height": 35
        }
      },
      "source": [
        "data2 = []\n",
        "for row in lines:\n",
        "    print(\"check\")\n",
        "    print(row)\n",
        "    print(type(row))\n",
        "    data2.append(row)\n",
        "data2\n"
      ],
      "execution_count": 0,
      "outputs": [
        {
          "output_type": "execute_result",
          "data": {
            "text/plain": [
              "[]"
            ]
          },
          "metadata": {
            "tags": []
          },
          "execution_count": 24
        }
      ]
    },
    {
      "cell_type": "code",
      "metadata": {
        "id": "VdhqEmORMDrJ",
        "colab_type": "code",
        "outputId": "8a4471ae-5cf3-4f19-8854-21b9429e5c69",
        "colab": {
          "base_uri": "https://localhost:8080/",
          "height": 104
        }
      },
      "source": [
        "with open(path) as f:\n",
        "    data = csv.DictReader(f)\n",
        "    print(type(data))\n",
        "    for row in data:\n",
        "        row =list(row.items())\n",
        "        print(row[1][1])"
      ],
      "execution_count": 0,
      "outputs": [
        {
          "output_type": "stream",
          "text": [
            "<class 'csv.DictReader'>\n",
            "45000\n",
            "78000\n",
            "32000\n",
            "15000\n"
          ],
          "name": "stdout"
        }
      ]
    },
    {
      "cell_type": "code",
      "metadata": {
        "id": "zPiULHeTMPmz",
        "colab_type": "code",
        "outputId": "ca3b68fb-bebb-4140-a832-d5704ac7b9d9",
        "colab": {
          "base_uri": "https://localhost:8080/",
          "height": 436
        }
      },
      "source": [
        "help(csv.DictReader)"
      ],
      "execution_count": 0,
      "outputs": [
        {
          "output_type": "stream",
          "text": [
            "Help on class DictReader in module csv:\n",
            "\n",
            "class DictReader(builtins.object)\n",
            " |  Methods defined here:\n",
            " |  \n",
            " |  __init__(self, f, fieldnames=None, restkey=None, restval=None, dialect='excel', *args, **kwds)\n",
            " |      Initialize self.  See help(type(self)) for accurate signature.\n",
            " |  \n",
            " |  __iter__(self)\n",
            " |  \n",
            " |  __next__(self)\n",
            " |  \n",
            " |  ----------------------------------------------------------------------\n",
            " |  Data descriptors defined here:\n",
            " |  \n",
            " |  __dict__\n",
            " |      dictionary for instance variables (if defined)\n",
            " |  \n",
            " |  __weakref__\n",
            " |      list of weak references to the object (if defined)\n",
            " |  \n",
            " |  fieldnames\n",
            "\n"
          ],
          "name": "stdout"
        }
      ]
    }
  ]
}