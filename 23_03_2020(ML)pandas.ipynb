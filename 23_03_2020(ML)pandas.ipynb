{
  "nbformat": 4,
  "nbformat_minor": 0,
  "metadata": {
    "colab": {
      "name": "23-03-2020(ML)pandas.ipynb",
      "provenance": [],
      "mount_file_id": "19_40k_ieezmLQrk8ujUwCFd48ESRGp_u",
      "authorship_tag": "ABX9TyMYQYBGrRbm6qCQCtpvmryR",
      "include_colab_link": true
    },
    "kernelspec": {
      "name": "python3",
      "display_name": "Python 3"
    }
  },
  "cells": [
    {
      "cell_type": "markdown",
      "metadata": {
        "id": "view-in-github",
        "colab_type": "text"
      },
      "source": [
        "<a href=\"https://colab.research.google.com/github/PRihana/Machine-learning/blob/master/23_03_2020(ML)pandas.ipynb\" target=\"_parent\"><img src=\"https://colab.research.google.com/assets/colab-badge.svg\" alt=\"Open In Colab\"/></a>"
      ]
    },
    {
      "cell_type": "code",
      "metadata": {
        "id": "YdmD2iRk5lrY",
        "colab_type": "code",
        "colab": {}
      },
      "source": [
        "import numpy as np\n",
        "import pandas as pd"
      ],
      "execution_count": 0,
      "outputs": []
    },
    {
      "cell_type": "code",
      "metadata": {
        "id": "C0XQGqh750aa",
        "colab_type": "code",
        "colab": {
          "base_uri": "https://localhost:8080/",
          "height": 52
        },
        "outputId": "80468e6b-4509-41fb-972a-9943280198d5"
      },
      "source": [
        "# numpy version check\n",
        "print(np.__version__)\n",
        "# Pandas version\n",
        "print(pd.__version__)\n"
      ],
      "execution_count": 3,
      "outputs": [
        {
          "output_type": "stream",
          "text": [
            "1.18.2\n",
            "0.25.3\n"
          ],
          "name": "stdout"
        }
      ]
    },
    {
      "cell_type": "code",
      "metadata": {
        "id": "CsNxwHU-9zZc",
        "colab_type": "code",
        "colab": {}
      },
      "source": [
        "# Read the data\n",
        "data = pd.read_csv(\"/FL_insurance_sample.csv.txt\")"
      ],
      "execution_count": 0,
      "outputs": []
    },
    {
      "cell_type": "code",
      "metadata": {
        "id": "XZcPrfu99zjB",
        "colab_type": "code",
        "colab": {
          "base_uri": "https://localhost:8080/",
          "height": 35
        },
        "outputId": "c191445a-a16d-4f99-de53-c4cfb2593b11"
      },
      "source": [
        "# Checking output type\n",
        "print(type(data))"
      ],
      "execution_count": 7,
      "outputs": [
        {
          "output_type": "stream",
          "text": [
            "<class 'pandas.core.frame.DataFrame'>\n"
          ],
          "name": "stdout"
        }
      ]
    },
    {
      "cell_type": "code",
      "metadata": {
        "id": "XWYEsifh9zhC",
        "colab_type": "code",
        "colab": {
          "base_uri": "https://localhost:8080/",
          "height": 69
        },
        "outputId": "6e2893bf-bd1f-469d-99fa-e4662e04a1eb"
      },
      "source": [
        "# To check the shape \n",
        "print(data.shape)\n",
        "# to get the number of rows or instances or records or examples\n",
        "print(data.shape[0])\n",
        "# to get the number of columns or features or attributes\n",
        "print(data.shape[1])"
      ],
      "execution_count": 8,
      "outputs": [
        {
          "output_type": "stream",
          "text": [
            "(36634, 18)\n",
            "36634\n",
            "18\n"
          ],
          "name": "stdout"
        }
      ]
    },
    {
      "cell_type": "code",
      "metadata": {
        "id": "YDeVMGIxC17V",
        "colab_type": "code",
        "colab": {
          "base_uri": "https://localhost:8080/",
          "height": 139
        },
        "outputId": "81dea980-9e8a-43b1-e37a-18c8b89d5de3"
      },
      "source": [
        "# To get the column names\n",
        "print(data.columns)\n",
        "# To get the row names\n",
        "print(data.index)"
      ],
      "execution_count": 9,
      "outputs": [
        {
          "output_type": "stream",
          "text": [
            "Index(['policyID', 'statecode', 'county', 'eq_site_limit', 'hu_site_limit',\n",
            "       'fl_site_limit', 'fr_site_limit', 'tiv_2011', 'tiv_2012',\n",
            "       'eq_site_deductible', 'hu_site_deductible', 'fl_site_deductible',\n",
            "       'fr_site_deductible', 'point_latitude', 'point_longitude', 'line',\n",
            "       'construction', 'point_granularity'],\n",
            "      dtype='object')\n",
            "RangeIndex(start=0, stop=36634, step=1)\n"
          ],
          "name": "stdout"
        }
      ]
    },
    {
      "cell_type": "code",
      "metadata": {
        "id": "04SvkLLNC15Q",
        "colab_type": "code",
        "colab": {
          "base_uri": "https://localhost:8080/",
          "height": 451
        },
        "outputId": "af60964f-b18b-4b55-ad81-19d9afea815a"
      },
      "source": [
        "# Datatype of each column\n",
        "print(data.dtypes)\n",
        "print(\"-----\"*15)\n",
        "# what is output type for data.dtypes\n",
        "print(type(data.dtypes))\n",
        "print(\"-----\"*15)\n",
        "# Access the first column dtype\n",
        "print(data.dtypes[0])\n",
        "print(\"-----\"*15)\n",
        "# Access the last column dtype\n",
        "print(data.dtypes[-1])"
      ],
      "execution_count": 10,
      "outputs": [
        {
          "output_type": "stream",
          "text": [
            "policyID                int64\n",
            "statecode              object\n",
            "county                 object\n",
            "eq_site_limit         float64\n",
            "hu_site_limit         float64\n",
            "fl_site_limit         float64\n",
            "fr_site_limit         float64\n",
            "tiv_2011              float64\n",
            "tiv_2012              float64\n",
            "eq_site_deductible    float64\n",
            "hu_site_deductible    float64\n",
            "fl_site_deductible    float64\n",
            "fr_site_deductible      int64\n",
            "point_latitude        float64\n",
            "point_longitude       float64\n",
            "line                   object\n",
            "construction           object\n",
            "point_granularity       int64\n",
            "dtype: object\n",
            "---------------------------------------------------------------------------\n",
            "<class 'pandas.core.series.Series'>\n",
            "---------------------------------------------------------------------------\n",
            "int64\n",
            "---------------------------------------------------------------------------\n",
            "int64\n"
          ],
          "name": "stdout"
        }
      ]
    },
    {
      "cell_type": "code",
      "metadata": {
        "id": "0wYKKbNdC13Y",
        "colab_type": "code",
        "colab": {
          "base_uri": "https://localhost:8080/",
          "height": 87
        },
        "outputId": "6d4f48e4-6c8a-494a-96e5-8fe155ce56d9"
      },
      "source": [
        "# Column count for each datatype\n",
        "# How many columns are there with int64\n",
        "# How many columns are there with float64\n",
        "# How many columns are there with object\n",
        "data.dtypes.value_counts()\n",
        "# Note We are using series method value_counts"
      ],
      "execution_count": 12,
      "outputs": [
        {
          "output_type": "execute_result",
          "data": {
            "text/plain": [
              "float64    11\n",
              "object      4\n",
              "int64       3\n",
              "dtype: int64"
            ]
          },
          "metadata": {
            "tags": []
          },
          "execution_count": 12
        }
      ]
    },
    {
      "cell_type": "markdown",
      "metadata": {
        "id": "SM6lQTUkDaOt",
        "colab_type": "text"
      },
      "source": [
        "**observe the data**"
      ]
    },
    {
      "cell_type": "code",
      "metadata": {
        "id": "Ax2ABlQLC1zw",
        "colab_type": "code",
        "colab": {
          "base_uri": "https://localhost:8080/",
          "height": 309
        },
        "outputId": "834d9a58-e961-411a-c84e-5790ee12c8fb"
      },
      "source": [
        "# display top 5 rows\n",
        "data.head()"
      ],
      "execution_count": 13,
      "outputs": [
        {
          "output_type": "execute_result",
          "data": {
            "text/html": [
              "<div>\n",
              "<style scoped>\n",
              "    .dataframe tbody tr th:only-of-type {\n",
              "        vertical-align: middle;\n",
              "    }\n",
              "\n",
              "    .dataframe tbody tr th {\n",
              "        vertical-align: top;\n",
              "    }\n",
              "\n",
              "    .dataframe thead th {\n",
              "        text-align: right;\n",
              "    }\n",
              "</style>\n",
              "<table border=\"1\" class=\"dataframe\">\n",
              "  <thead>\n",
              "    <tr style=\"text-align: right;\">\n",
              "      <th></th>\n",
              "      <th>policyID</th>\n",
              "      <th>statecode</th>\n",
              "      <th>county</th>\n",
              "      <th>eq_site_limit</th>\n",
              "      <th>hu_site_limit</th>\n",
              "      <th>fl_site_limit</th>\n",
              "      <th>fr_site_limit</th>\n",
              "      <th>tiv_2011</th>\n",
              "      <th>tiv_2012</th>\n",
              "      <th>eq_site_deductible</th>\n",
              "      <th>hu_site_deductible</th>\n",
              "      <th>fl_site_deductible</th>\n",
              "      <th>fr_site_deductible</th>\n",
              "      <th>point_latitude</th>\n",
              "      <th>point_longitude</th>\n",
              "      <th>line</th>\n",
              "      <th>construction</th>\n",
              "      <th>point_granularity</th>\n",
              "    </tr>\n",
              "  </thead>\n",
              "  <tbody>\n",
              "    <tr>\n",
              "      <th>0</th>\n",
              "      <td>119736</td>\n",
              "      <td>FL</td>\n",
              "      <td>CLAY COUNTY</td>\n",
              "      <td>498960.0</td>\n",
              "      <td>498960.00</td>\n",
              "      <td>498960.0</td>\n",
              "      <td>498960.0</td>\n",
              "      <td>498960.00</td>\n",
              "      <td>792148.90</td>\n",
              "      <td>0.0</td>\n",
              "      <td>9979.2</td>\n",
              "      <td>0.0</td>\n",
              "      <td>0</td>\n",
              "      <td>30.102261</td>\n",
              "      <td>-81.711777</td>\n",
              "      <td>Residential</td>\n",
              "      <td>Masonry</td>\n",
              "      <td>1</td>\n",
              "    </tr>\n",
              "    <tr>\n",
              "      <th>1</th>\n",
              "      <td>448094</td>\n",
              "      <td>FL</td>\n",
              "      <td>CLAY COUNTY</td>\n",
              "      <td>1322376.3</td>\n",
              "      <td>1322376.30</td>\n",
              "      <td>1322376.3</td>\n",
              "      <td>1322376.3</td>\n",
              "      <td>1322376.30</td>\n",
              "      <td>1438163.57</td>\n",
              "      <td>0.0</td>\n",
              "      <td>0.0</td>\n",
              "      <td>0.0</td>\n",
              "      <td>0</td>\n",
              "      <td>30.063936</td>\n",
              "      <td>-81.707664</td>\n",
              "      <td>Residential</td>\n",
              "      <td>Masonry</td>\n",
              "      <td>3</td>\n",
              "    </tr>\n",
              "    <tr>\n",
              "      <th>2</th>\n",
              "      <td>206893</td>\n",
              "      <td>FL</td>\n",
              "      <td>CLAY COUNTY</td>\n",
              "      <td>190724.4</td>\n",
              "      <td>190724.40</td>\n",
              "      <td>190724.4</td>\n",
              "      <td>190724.4</td>\n",
              "      <td>190724.40</td>\n",
              "      <td>192476.78</td>\n",
              "      <td>0.0</td>\n",
              "      <td>0.0</td>\n",
              "      <td>0.0</td>\n",
              "      <td>0</td>\n",
              "      <td>30.089579</td>\n",
              "      <td>-81.700455</td>\n",
              "      <td>Residential</td>\n",
              "      <td>Wood</td>\n",
              "      <td>1</td>\n",
              "    </tr>\n",
              "    <tr>\n",
              "      <th>3</th>\n",
              "      <td>333743</td>\n",
              "      <td>FL</td>\n",
              "      <td>CLAY COUNTY</td>\n",
              "      <td>0.0</td>\n",
              "      <td>79520.76</td>\n",
              "      <td>0.0</td>\n",
              "      <td>0.0</td>\n",
              "      <td>79520.76</td>\n",
              "      <td>86854.48</td>\n",
              "      <td>0.0</td>\n",
              "      <td>0.0</td>\n",
              "      <td>0.0</td>\n",
              "      <td>0</td>\n",
              "      <td>30.063236</td>\n",
              "      <td>-81.707703</td>\n",
              "      <td>Residential</td>\n",
              "      <td>Wood</td>\n",
              "      <td>3</td>\n",
              "    </tr>\n",
              "    <tr>\n",
              "      <th>4</th>\n",
              "      <td>172534</td>\n",
              "      <td>FL</td>\n",
              "      <td>CLAY COUNTY</td>\n",
              "      <td>0.0</td>\n",
              "      <td>254281.50</td>\n",
              "      <td>0.0</td>\n",
              "      <td>254281.5</td>\n",
              "      <td>254281.50</td>\n",
              "      <td>246144.49</td>\n",
              "      <td>0.0</td>\n",
              "      <td>0.0</td>\n",
              "      <td>0.0</td>\n",
              "      <td>0</td>\n",
              "      <td>30.060614</td>\n",
              "      <td>-81.702675</td>\n",
              "      <td>Residential</td>\n",
              "      <td>Wood</td>\n",
              "      <td>1</td>\n",
              "    </tr>\n",
              "  </tbody>\n",
              "</table>\n",
              "</div>"
            ],
            "text/plain": [
              "   policyID statecode       county  ...         line  construction  point_granularity\n",
              "0    119736        FL  CLAY COUNTY  ...  Residential       Masonry                  1\n",
              "1    448094        FL  CLAY COUNTY  ...  Residential       Masonry                  3\n",
              "2    206893        FL  CLAY COUNTY  ...  Residential          Wood                  1\n",
              "3    333743        FL  CLAY COUNTY  ...  Residential          Wood                  3\n",
              "4    172534        FL  CLAY COUNTY  ...  Residential          Wood                  1\n",
              "\n",
              "[5 rows x 18 columns]"
            ]
          },
          "metadata": {
            "tags": []
          },
          "execution_count": 13
        }
      ]
    },
    {
      "cell_type": "code",
      "metadata": {
        "id": "3bhSHjrVDux_",
        "colab_type": "code",
        "colab": {
          "base_uri": "https://localhost:8080/",
          "height": 549
        },
        "outputId": "b663a9bd-48bd-4dbd-a5b6-a9c84382cc36"
      },
      "source": [
        "# display top 10 rows\n",
        "data.head(10)"
      ],
      "execution_count": 14,
      "outputs": [
        {
          "output_type": "execute_result",
          "data": {
            "text/html": [
              "<div>\n",
              "<style scoped>\n",
              "    .dataframe tbody tr th:only-of-type {\n",
              "        vertical-align: middle;\n",
              "    }\n",
              "\n",
              "    .dataframe tbody tr th {\n",
              "        vertical-align: top;\n",
              "    }\n",
              "\n",
              "    .dataframe thead th {\n",
              "        text-align: right;\n",
              "    }\n",
              "</style>\n",
              "<table border=\"1\" class=\"dataframe\">\n",
              "  <thead>\n",
              "    <tr style=\"text-align: right;\">\n",
              "      <th></th>\n",
              "      <th>policyID</th>\n",
              "      <th>statecode</th>\n",
              "      <th>county</th>\n",
              "      <th>eq_site_limit</th>\n",
              "      <th>hu_site_limit</th>\n",
              "      <th>fl_site_limit</th>\n",
              "      <th>fr_site_limit</th>\n",
              "      <th>tiv_2011</th>\n",
              "      <th>tiv_2012</th>\n",
              "      <th>eq_site_deductible</th>\n",
              "      <th>hu_site_deductible</th>\n",
              "      <th>fl_site_deductible</th>\n",
              "      <th>fr_site_deductible</th>\n",
              "      <th>point_latitude</th>\n",
              "      <th>point_longitude</th>\n",
              "      <th>line</th>\n",
              "      <th>construction</th>\n",
              "      <th>point_granularity</th>\n",
              "    </tr>\n",
              "  </thead>\n",
              "  <tbody>\n",
              "    <tr>\n",
              "      <th>0</th>\n",
              "      <td>119736</td>\n",
              "      <td>FL</td>\n",
              "      <td>CLAY COUNTY</td>\n",
              "      <td>498960.0</td>\n",
              "      <td>498960.00</td>\n",
              "      <td>498960.0</td>\n",
              "      <td>498960.0</td>\n",
              "      <td>498960.00</td>\n",
              "      <td>792148.90</td>\n",
              "      <td>0.0</td>\n",
              "      <td>9979.2</td>\n",
              "      <td>0.0</td>\n",
              "      <td>0</td>\n",
              "      <td>30.102261</td>\n",
              "      <td>-81.711777</td>\n",
              "      <td>Residential</td>\n",
              "      <td>Masonry</td>\n",
              "      <td>1</td>\n",
              "    </tr>\n",
              "    <tr>\n",
              "      <th>1</th>\n",
              "      <td>448094</td>\n",
              "      <td>FL</td>\n",
              "      <td>CLAY COUNTY</td>\n",
              "      <td>1322376.3</td>\n",
              "      <td>1322376.30</td>\n",
              "      <td>1322376.3</td>\n",
              "      <td>1322376.3</td>\n",
              "      <td>1322376.30</td>\n",
              "      <td>1438163.57</td>\n",
              "      <td>0.0</td>\n",
              "      <td>0.0</td>\n",
              "      <td>0.0</td>\n",
              "      <td>0</td>\n",
              "      <td>30.063936</td>\n",
              "      <td>-81.707664</td>\n",
              "      <td>Residential</td>\n",
              "      <td>Masonry</td>\n",
              "      <td>3</td>\n",
              "    </tr>\n",
              "    <tr>\n",
              "      <th>2</th>\n",
              "      <td>206893</td>\n",
              "      <td>FL</td>\n",
              "      <td>CLAY COUNTY</td>\n",
              "      <td>190724.4</td>\n",
              "      <td>190724.40</td>\n",
              "      <td>190724.4</td>\n",
              "      <td>190724.4</td>\n",
              "      <td>190724.40</td>\n",
              "      <td>192476.78</td>\n",
              "      <td>0.0</td>\n",
              "      <td>0.0</td>\n",
              "      <td>0.0</td>\n",
              "      <td>0</td>\n",
              "      <td>30.089579</td>\n",
              "      <td>-81.700455</td>\n",
              "      <td>Residential</td>\n",
              "      <td>Wood</td>\n",
              "      <td>1</td>\n",
              "    </tr>\n",
              "    <tr>\n",
              "      <th>3</th>\n",
              "      <td>333743</td>\n",
              "      <td>FL</td>\n",
              "      <td>CLAY COUNTY</td>\n",
              "      <td>0.0</td>\n",
              "      <td>79520.76</td>\n",
              "      <td>0.0</td>\n",
              "      <td>0.0</td>\n",
              "      <td>79520.76</td>\n",
              "      <td>86854.48</td>\n",
              "      <td>0.0</td>\n",
              "      <td>0.0</td>\n",
              "      <td>0.0</td>\n",
              "      <td>0</td>\n",
              "      <td>30.063236</td>\n",
              "      <td>-81.707703</td>\n",
              "      <td>Residential</td>\n",
              "      <td>Wood</td>\n",
              "      <td>3</td>\n",
              "    </tr>\n",
              "    <tr>\n",
              "      <th>4</th>\n",
              "      <td>172534</td>\n",
              "      <td>FL</td>\n",
              "      <td>CLAY COUNTY</td>\n",
              "      <td>0.0</td>\n",
              "      <td>254281.50</td>\n",
              "      <td>0.0</td>\n",
              "      <td>254281.5</td>\n",
              "      <td>254281.50</td>\n",
              "      <td>246144.49</td>\n",
              "      <td>0.0</td>\n",
              "      <td>0.0</td>\n",
              "      <td>0.0</td>\n",
              "      <td>0</td>\n",
              "      <td>30.060614</td>\n",
              "      <td>-81.702675</td>\n",
              "      <td>Residential</td>\n",
              "      <td>Wood</td>\n",
              "      <td>1</td>\n",
              "    </tr>\n",
              "    <tr>\n",
              "      <th>5</th>\n",
              "      <td>785275</td>\n",
              "      <td>FL</td>\n",
              "      <td>CLAY COUNTY</td>\n",
              "      <td>0.0</td>\n",
              "      <td>515035.62</td>\n",
              "      <td>0.0</td>\n",
              "      <td>0.0</td>\n",
              "      <td>515035.62</td>\n",
              "      <td>884419.17</td>\n",
              "      <td>0.0</td>\n",
              "      <td>0.0</td>\n",
              "      <td>0.0</td>\n",
              "      <td>0</td>\n",
              "      <td>30.063236</td>\n",
              "      <td>-81.707703</td>\n",
              "      <td>Residential</td>\n",
              "      <td>Masonry</td>\n",
              "      <td>3</td>\n",
              "    </tr>\n",
              "    <tr>\n",
              "      <th>6</th>\n",
              "      <td>995932</td>\n",
              "      <td>FL</td>\n",
              "      <td>CLAY COUNTY</td>\n",
              "      <td>0.0</td>\n",
              "      <td>19260000.00</td>\n",
              "      <td>0.0</td>\n",
              "      <td>0.0</td>\n",
              "      <td>19260000.00</td>\n",
              "      <td>20610000.00</td>\n",
              "      <td>0.0</td>\n",
              "      <td>0.0</td>\n",
              "      <td>0.0</td>\n",
              "      <td>0</td>\n",
              "      <td>30.102226</td>\n",
              "      <td>-81.713882</td>\n",
              "      <td>Commercial</td>\n",
              "      <td>Reinforced Concrete</td>\n",
              "      <td>1</td>\n",
              "    </tr>\n",
              "    <tr>\n",
              "      <th>7</th>\n",
              "      <td>223488</td>\n",
              "      <td>FL</td>\n",
              "      <td>CLAY COUNTY</td>\n",
              "      <td>328500.0</td>\n",
              "      <td>328500.00</td>\n",
              "      <td>328500.0</td>\n",
              "      <td>328500.0</td>\n",
              "      <td>328500.00</td>\n",
              "      <td>348374.25</td>\n",
              "      <td>0.0</td>\n",
              "      <td>16425.0</td>\n",
              "      <td>0.0</td>\n",
              "      <td>0</td>\n",
              "      <td>30.102217</td>\n",
              "      <td>-81.707146</td>\n",
              "      <td>Residential</td>\n",
              "      <td>Wood</td>\n",
              "      <td>1</td>\n",
              "    </tr>\n",
              "    <tr>\n",
              "      <th>8</th>\n",
              "      <td>433512</td>\n",
              "      <td>FL</td>\n",
              "      <td>CLAY COUNTY</td>\n",
              "      <td>315000.0</td>\n",
              "      <td>315000.00</td>\n",
              "      <td>315000.0</td>\n",
              "      <td>315000.0</td>\n",
              "      <td>315000.00</td>\n",
              "      <td>265821.57</td>\n",
              "      <td>0.0</td>\n",
              "      <td>15750.0</td>\n",
              "      <td>0.0</td>\n",
              "      <td>0</td>\n",
              "      <td>30.118774</td>\n",
              "      <td>-81.704613</td>\n",
              "      <td>Residential</td>\n",
              "      <td>Wood</td>\n",
              "      <td>1</td>\n",
              "    </tr>\n",
              "    <tr>\n",
              "      <th>9</th>\n",
              "      <td>142071</td>\n",
              "      <td>FL</td>\n",
              "      <td>CLAY COUNTY</td>\n",
              "      <td>705600.0</td>\n",
              "      <td>705600.00</td>\n",
              "      <td>705600.0</td>\n",
              "      <td>705600.0</td>\n",
              "      <td>705600.00</td>\n",
              "      <td>1010842.56</td>\n",
              "      <td>14112.0</td>\n",
              "      <td>35280.0</td>\n",
              "      <td>0.0</td>\n",
              "      <td>0</td>\n",
              "      <td>30.100628</td>\n",
              "      <td>-81.703751</td>\n",
              "      <td>Residential</td>\n",
              "      <td>Masonry</td>\n",
              "      <td>1</td>\n",
              "    </tr>\n",
              "  </tbody>\n",
              "</table>\n",
              "</div>"
            ],
            "text/plain": [
              "   policyID statecode  ...         construction  point_granularity\n",
              "0    119736        FL  ...              Masonry                  1\n",
              "1    448094        FL  ...              Masonry                  3\n",
              "2    206893        FL  ...                 Wood                  1\n",
              "3    333743        FL  ...                 Wood                  3\n",
              "4    172534        FL  ...                 Wood                  1\n",
              "5    785275        FL  ...              Masonry                  3\n",
              "6    995932        FL  ...  Reinforced Concrete                  1\n",
              "7    223488        FL  ...                 Wood                  1\n",
              "8    433512        FL  ...                 Wood                  1\n",
              "9    142071        FL  ...              Masonry                  1\n",
              "\n",
              "[10 rows x 18 columns]"
            ]
          },
          "metadata": {
            "tags": []
          },
          "execution_count": 14
        }
      ]
    },
    {
      "cell_type": "code",
      "metadata": {
        "id": "w3KnwsM4Du8C",
        "colab_type": "code",
        "colab": {
          "base_uri": "https://localhost:8080/",
          "height": 309
        },
        "outputId": "98fcd2c3-6032-4449-8031-92afbd45a717"
      },
      "source": [
        "# display last 5 rows\n",
        "data.tail()"
      ],
      "execution_count": 15,
      "outputs": [
        {
          "output_type": "execute_result",
          "data": {
            "text/html": [
              "<div>\n",
              "<style scoped>\n",
              "    .dataframe tbody tr th:only-of-type {\n",
              "        vertical-align: middle;\n",
              "    }\n",
              "\n",
              "    .dataframe tbody tr th {\n",
              "        vertical-align: top;\n",
              "    }\n",
              "\n",
              "    .dataframe thead th {\n",
              "        text-align: right;\n",
              "    }\n",
              "</style>\n",
              "<table border=\"1\" class=\"dataframe\">\n",
              "  <thead>\n",
              "    <tr style=\"text-align: right;\">\n",
              "      <th></th>\n",
              "      <th>policyID</th>\n",
              "      <th>statecode</th>\n",
              "      <th>county</th>\n",
              "      <th>eq_site_limit</th>\n",
              "      <th>hu_site_limit</th>\n",
              "      <th>fl_site_limit</th>\n",
              "      <th>fr_site_limit</th>\n",
              "      <th>tiv_2011</th>\n",
              "      <th>tiv_2012</th>\n",
              "      <th>eq_site_deductible</th>\n",
              "      <th>hu_site_deductible</th>\n",
              "      <th>fl_site_deductible</th>\n",
              "      <th>fr_site_deductible</th>\n",
              "      <th>point_latitude</th>\n",
              "      <th>point_longitude</th>\n",
              "      <th>line</th>\n",
              "      <th>construction</th>\n",
              "      <th>point_granularity</th>\n",
              "    </tr>\n",
              "  </thead>\n",
              "  <tbody>\n",
              "    <tr>\n",
              "      <th>36629</th>\n",
              "      <td>404309</td>\n",
              "      <td>FL</td>\n",
              "      <td>PINELLAS COUNTY</td>\n",
              "      <td>0.0</td>\n",
              "      <td>88722.0</td>\n",
              "      <td>0.0</td>\n",
              "      <td>88722.0</td>\n",
              "      <td>88722.0</td>\n",
              "      <td>155065.65</td>\n",
              "      <td>0.0</td>\n",
              "      <td>0.0</td>\n",
              "      <td>0.0</td>\n",
              "      <td>0</td>\n",
              "      <td>28.122885</td>\n",
              "      <td>-82.770218</td>\n",
              "      <td>Residential</td>\n",
              "      <td>Wood</td>\n",
              "      <td>3</td>\n",
              "    </tr>\n",
              "    <tr>\n",
              "      <th>36630</th>\n",
              "      <td>465875</td>\n",
              "      <td>FL</td>\n",
              "      <td>PINELLAS COUNTY</td>\n",
              "      <td>1297057.5</td>\n",
              "      <td>1297057.5</td>\n",
              "      <td>1297057.5</td>\n",
              "      <td>1297057.5</td>\n",
              "      <td>1297057.5</td>\n",
              "      <td>1577500.79</td>\n",
              "      <td>0.0</td>\n",
              "      <td>0.0</td>\n",
              "      <td>0.0</td>\n",
              "      <td>0</td>\n",
              "      <td>28.080900</td>\n",
              "      <td>-82.758800</td>\n",
              "      <td>Residential</td>\n",
              "      <td>Masonry</td>\n",
              "      <td>1</td>\n",
              "    </tr>\n",
              "    <tr>\n",
              "      <th>36631</th>\n",
              "      <td>791209</td>\n",
              "      <td>FL</td>\n",
              "      <td>PINELLAS COUNTY</td>\n",
              "      <td>173286.9</td>\n",
              "      <td>173286.9</td>\n",
              "      <td>0.0</td>\n",
              "      <td>0.0</td>\n",
              "      <td>173286.9</td>\n",
              "      <td>205527.97</td>\n",
              "      <td>0.0</td>\n",
              "      <td>0.0</td>\n",
              "      <td>0.0</td>\n",
              "      <td>0</td>\n",
              "      <td>28.110550</td>\n",
              "      <td>-82.766360</td>\n",
              "      <td>Residential</td>\n",
              "      <td>Wood</td>\n",
              "      <td>4</td>\n",
              "    </tr>\n",
              "    <tr>\n",
              "      <th>36632</th>\n",
              "      <td>322627</td>\n",
              "      <td>FL</td>\n",
              "      <td>PINELLAS COUNTY</td>\n",
              "      <td>1499781.6</td>\n",
              "      <td>1499781.6</td>\n",
              "      <td>0.0</td>\n",
              "      <td>0.0</td>\n",
              "      <td>1499781.6</td>\n",
              "      <td>1768782.43</td>\n",
              "      <td>0.0</td>\n",
              "      <td>0.0</td>\n",
              "      <td>0.0</td>\n",
              "      <td>0</td>\n",
              "      <td>28.089415</td>\n",
              "      <td>-82.697411</td>\n",
              "      <td>Residential</td>\n",
              "      <td>Masonry</td>\n",
              "      <td>3</td>\n",
              "    </tr>\n",
              "    <tr>\n",
              "      <th>36633</th>\n",
              "      <td>398149</td>\n",
              "      <td>FL</td>\n",
              "      <td>PINELLAS COUNTY</td>\n",
              "      <td>373488.3</td>\n",
              "      <td>373488.3</td>\n",
              "      <td>0.0</td>\n",
              "      <td>0.0</td>\n",
              "      <td>373488.3</td>\n",
              "      <td>596003.67</td>\n",
              "      <td>0.0</td>\n",
              "      <td>0.0</td>\n",
              "      <td>0.0</td>\n",
              "      <td>0</td>\n",
              "      <td>28.064440</td>\n",
              "      <td>-82.774590</td>\n",
              "      <td>Residential</td>\n",
              "      <td>Masonry</td>\n",
              "      <td>1</td>\n",
              "    </tr>\n",
              "  </tbody>\n",
              "</table>\n",
              "</div>"
            ],
            "text/plain": [
              "       policyID statecode  ... construction  point_granularity\n",
              "36629    404309        FL  ...         Wood                  3\n",
              "36630    465875        FL  ...      Masonry                  1\n",
              "36631    791209        FL  ...         Wood                  4\n",
              "36632    322627        FL  ...      Masonry                  3\n",
              "36633    398149        FL  ...      Masonry                  1\n",
              "\n",
              "[5 rows x 18 columns]"
            ]
          },
          "metadata": {
            "tags": []
          },
          "execution_count": 15
        }
      ]
    },
    {
      "cell_type": "code",
      "metadata": {
        "id": "2ztGy5ULDu5u",
        "colab_type": "code",
        "colab": {
          "base_uri": "https://localhost:8080/",
          "height": 213
        },
        "outputId": "4adfa580-73f4-45fc-f19b-98d7d6c3e680"
      },
      "source": [
        "# display last 3 rows\n",
        "data.tail(3)"
      ],
      "execution_count": 16,
      "outputs": [
        {
          "output_type": "execute_result",
          "data": {
            "text/html": [
              "<div>\n",
              "<style scoped>\n",
              "    .dataframe tbody tr th:only-of-type {\n",
              "        vertical-align: middle;\n",
              "    }\n",
              "\n",
              "    .dataframe tbody tr th {\n",
              "        vertical-align: top;\n",
              "    }\n",
              "\n",
              "    .dataframe thead th {\n",
              "        text-align: right;\n",
              "    }\n",
              "</style>\n",
              "<table border=\"1\" class=\"dataframe\">\n",
              "  <thead>\n",
              "    <tr style=\"text-align: right;\">\n",
              "      <th></th>\n",
              "      <th>policyID</th>\n",
              "      <th>statecode</th>\n",
              "      <th>county</th>\n",
              "      <th>eq_site_limit</th>\n",
              "      <th>hu_site_limit</th>\n",
              "      <th>fl_site_limit</th>\n",
              "      <th>fr_site_limit</th>\n",
              "      <th>tiv_2011</th>\n",
              "      <th>tiv_2012</th>\n",
              "      <th>eq_site_deductible</th>\n",
              "      <th>hu_site_deductible</th>\n",
              "      <th>fl_site_deductible</th>\n",
              "      <th>fr_site_deductible</th>\n",
              "      <th>point_latitude</th>\n",
              "      <th>point_longitude</th>\n",
              "      <th>line</th>\n",
              "      <th>construction</th>\n",
              "      <th>point_granularity</th>\n",
              "    </tr>\n",
              "  </thead>\n",
              "  <tbody>\n",
              "    <tr>\n",
              "      <th>36631</th>\n",
              "      <td>791209</td>\n",
              "      <td>FL</td>\n",
              "      <td>PINELLAS COUNTY</td>\n",
              "      <td>173286.9</td>\n",
              "      <td>173286.9</td>\n",
              "      <td>0.0</td>\n",
              "      <td>0.0</td>\n",
              "      <td>173286.9</td>\n",
              "      <td>205527.97</td>\n",
              "      <td>0.0</td>\n",
              "      <td>0.0</td>\n",
              "      <td>0.0</td>\n",
              "      <td>0</td>\n",
              "      <td>28.110550</td>\n",
              "      <td>-82.766360</td>\n",
              "      <td>Residential</td>\n",
              "      <td>Wood</td>\n",
              "      <td>4</td>\n",
              "    </tr>\n",
              "    <tr>\n",
              "      <th>36632</th>\n",
              "      <td>322627</td>\n",
              "      <td>FL</td>\n",
              "      <td>PINELLAS COUNTY</td>\n",
              "      <td>1499781.6</td>\n",
              "      <td>1499781.6</td>\n",
              "      <td>0.0</td>\n",
              "      <td>0.0</td>\n",
              "      <td>1499781.6</td>\n",
              "      <td>1768782.43</td>\n",
              "      <td>0.0</td>\n",
              "      <td>0.0</td>\n",
              "      <td>0.0</td>\n",
              "      <td>0</td>\n",
              "      <td>28.089415</td>\n",
              "      <td>-82.697411</td>\n",
              "      <td>Residential</td>\n",
              "      <td>Masonry</td>\n",
              "      <td>3</td>\n",
              "    </tr>\n",
              "    <tr>\n",
              "      <th>36633</th>\n",
              "      <td>398149</td>\n",
              "      <td>FL</td>\n",
              "      <td>PINELLAS COUNTY</td>\n",
              "      <td>373488.3</td>\n",
              "      <td>373488.3</td>\n",
              "      <td>0.0</td>\n",
              "      <td>0.0</td>\n",
              "      <td>373488.3</td>\n",
              "      <td>596003.67</td>\n",
              "      <td>0.0</td>\n",
              "      <td>0.0</td>\n",
              "      <td>0.0</td>\n",
              "      <td>0</td>\n",
              "      <td>28.064440</td>\n",
              "      <td>-82.774590</td>\n",
              "      <td>Residential</td>\n",
              "      <td>Masonry</td>\n",
              "      <td>1</td>\n",
              "    </tr>\n",
              "  </tbody>\n",
              "</table>\n",
              "</div>"
            ],
            "text/plain": [
              "       policyID statecode  ... construction  point_granularity\n",
              "36631    791209        FL  ...         Wood                  4\n",
              "36632    322627        FL  ...      Masonry                  3\n",
              "36633    398149        FL  ...      Masonry                  1\n",
              "\n",
              "[3 rows x 18 columns]"
            ]
          },
          "metadata": {
            "tags": []
          },
          "execution_count": 16
        }
      ]
    },
    {
      "cell_type": "code",
      "metadata": {
        "id": "Qgfyd7AODu2_",
        "colab_type": "code",
        "colab": {
          "base_uri": "https://localhost:8080/",
          "height": 117
        },
        "outputId": "7aac8ebd-f69f-4217-ded5-eeaec956b21f"
      },
      "source": [
        "# select a random row\n",
        "data.sample()"
      ],
      "execution_count": 17,
      "outputs": [
        {
          "output_type": "execute_result",
          "data": {
            "text/html": [
              "<div>\n",
              "<style scoped>\n",
              "    .dataframe tbody tr th:only-of-type {\n",
              "        vertical-align: middle;\n",
              "    }\n",
              "\n",
              "    .dataframe tbody tr th {\n",
              "        vertical-align: top;\n",
              "    }\n",
              "\n",
              "    .dataframe thead th {\n",
              "        text-align: right;\n",
              "    }\n",
              "</style>\n",
              "<table border=\"1\" class=\"dataframe\">\n",
              "  <thead>\n",
              "    <tr style=\"text-align: right;\">\n",
              "      <th></th>\n",
              "      <th>policyID</th>\n",
              "      <th>statecode</th>\n",
              "      <th>county</th>\n",
              "      <th>eq_site_limit</th>\n",
              "      <th>hu_site_limit</th>\n",
              "      <th>fl_site_limit</th>\n",
              "      <th>fr_site_limit</th>\n",
              "      <th>tiv_2011</th>\n",
              "      <th>tiv_2012</th>\n",
              "      <th>eq_site_deductible</th>\n",
              "      <th>hu_site_deductible</th>\n",
              "      <th>fl_site_deductible</th>\n",
              "      <th>fr_site_deductible</th>\n",
              "      <th>point_latitude</th>\n",
              "      <th>point_longitude</th>\n",
              "      <th>line</th>\n",
              "      <th>construction</th>\n",
              "      <th>point_granularity</th>\n",
              "    </tr>\n",
              "  </thead>\n",
              "  <tbody>\n",
              "    <tr>\n",
              "      <th>36390</th>\n",
              "      <td>839109</td>\n",
              "      <td>FL</td>\n",
              "      <td>PASCO COUNTY</td>\n",
              "      <td>0.0</td>\n",
              "      <td>164070.0</td>\n",
              "      <td>0.0</td>\n",
              "      <td>164070.0</td>\n",
              "      <td>164070.0</td>\n",
              "      <td>193632.95</td>\n",
              "      <td>0.0</td>\n",
              "      <td>8203.5</td>\n",
              "      <td>0.0</td>\n",
              "      <td>0</td>\n",
              "      <td>28.206171</td>\n",
              "      <td>-82.681831</td>\n",
              "      <td>Residential</td>\n",
              "      <td>Wood</td>\n",
              "      <td>1</td>\n",
              "    </tr>\n",
              "  </tbody>\n",
              "</table>\n",
              "</div>"
            ],
            "text/plain": [
              "       policyID statecode  ... construction  point_granularity\n",
              "36390    839109        FL  ...         Wood                  1\n",
              "\n",
              "[1 rows x 18 columns]"
            ]
          },
          "metadata": {
            "tags": []
          },
          "execution_count": 17
        }
      ]
    },
    {
      "cell_type": "code",
      "metadata": {
        "id": "JX9KvBKGEdDA",
        "colab_type": "code",
        "colab": {
          "base_uri": "https://localhost:8080/",
          "height": 309
        },
        "outputId": "656b5292-11f4-44dd-e5de-ff60735f6ca0"
      },
      "source": [
        "# select 5 rows randomly\n",
        "data.sample(5)"
      ],
      "execution_count": 18,
      "outputs": [
        {
          "output_type": "execute_result",
          "data": {
            "text/html": [
              "<div>\n",
              "<style scoped>\n",
              "    .dataframe tbody tr th:only-of-type {\n",
              "        vertical-align: middle;\n",
              "    }\n",
              "\n",
              "    .dataframe tbody tr th {\n",
              "        vertical-align: top;\n",
              "    }\n",
              "\n",
              "    .dataframe thead th {\n",
              "        text-align: right;\n",
              "    }\n",
              "</style>\n",
              "<table border=\"1\" class=\"dataframe\">\n",
              "  <thead>\n",
              "    <tr style=\"text-align: right;\">\n",
              "      <th></th>\n",
              "      <th>policyID</th>\n",
              "      <th>statecode</th>\n",
              "      <th>county</th>\n",
              "      <th>eq_site_limit</th>\n",
              "      <th>hu_site_limit</th>\n",
              "      <th>fl_site_limit</th>\n",
              "      <th>fr_site_limit</th>\n",
              "      <th>tiv_2011</th>\n",
              "      <th>tiv_2012</th>\n",
              "      <th>eq_site_deductible</th>\n",
              "      <th>hu_site_deductible</th>\n",
              "      <th>fl_site_deductible</th>\n",
              "      <th>fr_site_deductible</th>\n",
              "      <th>point_latitude</th>\n",
              "      <th>point_longitude</th>\n",
              "      <th>line</th>\n",
              "      <th>construction</th>\n",
              "      <th>point_granularity</th>\n",
              "    </tr>\n",
              "  </thead>\n",
              "  <tbody>\n",
              "    <tr>\n",
              "      <th>30284</th>\n",
              "      <td>439552</td>\n",
              "      <td>FL</td>\n",
              "      <td>POLK COUNTY</td>\n",
              "      <td>0.0</td>\n",
              "      <td>69585.04</td>\n",
              "      <td>0.0</td>\n",
              "      <td>0.0</td>\n",
              "      <td>69585.04</td>\n",
              "      <td>50623.12</td>\n",
              "      <td>0.0</td>\n",
              "      <td>0.0</td>\n",
              "      <td>0.0</td>\n",
              "      <td>0</td>\n",
              "      <td>27.951225</td>\n",
              "      <td>-81.772230</td>\n",
              "      <td>Residential</td>\n",
              "      <td>Wood</td>\n",
              "      <td>3</td>\n",
              "    </tr>\n",
              "    <tr>\n",
              "      <th>18705</th>\n",
              "      <td>352979</td>\n",
              "      <td>FL</td>\n",
              "      <td>MIAMI DADE COUNTY</td>\n",
              "      <td>0.0</td>\n",
              "      <td>707364.90</td>\n",
              "      <td>0.0</td>\n",
              "      <td>707364.9</td>\n",
              "      <td>707364.90</td>\n",
              "      <td>607258.62</td>\n",
              "      <td>0.0</td>\n",
              "      <td>0.0</td>\n",
              "      <td>0.0</td>\n",
              "      <td>0</td>\n",
              "      <td>25.871706</td>\n",
              "      <td>-80.189339</td>\n",
              "      <td>Residential</td>\n",
              "      <td>Masonry</td>\n",
              "      <td>1</td>\n",
              "    </tr>\n",
              "    <tr>\n",
              "      <th>11385</th>\n",
              "      <td>178194</td>\n",
              "      <td>FL</td>\n",
              "      <td>VOLUSIA COUNTY</td>\n",
              "      <td>925200.0</td>\n",
              "      <td>925200.00</td>\n",
              "      <td>925200.0</td>\n",
              "      <td>925200.0</td>\n",
              "      <td>925200.00</td>\n",
              "      <td>758710.26</td>\n",
              "      <td>0.0</td>\n",
              "      <td>0.0</td>\n",
              "      <td>0.0</td>\n",
              "      <td>0</td>\n",
              "      <td>28.868160</td>\n",
              "      <td>-81.266846</td>\n",
              "      <td>Residential</td>\n",
              "      <td>Masonry</td>\n",
              "      <td>1</td>\n",
              "    </tr>\n",
              "    <tr>\n",
              "      <th>13292</th>\n",
              "      <td>160039</td>\n",
              "      <td>FL</td>\n",
              "      <td>ORANGE COUNTY</td>\n",
              "      <td>0.0</td>\n",
              "      <td>360000.00</td>\n",
              "      <td>0.0</td>\n",
              "      <td>360000.0</td>\n",
              "      <td>360000.00</td>\n",
              "      <td>418649.04</td>\n",
              "      <td>0.0</td>\n",
              "      <td>7200.0</td>\n",
              "      <td>0.0</td>\n",
              "      <td>0</td>\n",
              "      <td>28.472070</td>\n",
              "      <td>-81.391840</td>\n",
              "      <td>Residential</td>\n",
              "      <td>Masonry</td>\n",
              "      <td>1</td>\n",
              "    </tr>\n",
              "    <tr>\n",
              "      <th>32153</th>\n",
              "      <td>205605</td>\n",
              "      <td>FL</td>\n",
              "      <td>CHARLOTTE COUNTY</td>\n",
              "      <td>0.0</td>\n",
              "      <td>1792.14</td>\n",
              "      <td>0.0</td>\n",
              "      <td>0.0</td>\n",
              "      <td>1792.14</td>\n",
              "      <td>2018.53</td>\n",
              "      <td>0.0</td>\n",
              "      <td>0.0</td>\n",
              "      <td>0.0</td>\n",
              "      <td>0</td>\n",
              "      <td>26.985600</td>\n",
              "      <td>-82.148500</td>\n",
              "      <td>Residential</td>\n",
              "      <td>Wood</td>\n",
              "      <td>4</td>\n",
              "    </tr>\n",
              "  </tbody>\n",
              "</table>\n",
              "</div>"
            ],
            "text/plain": [
              "       policyID statecode  ... construction  point_granularity\n",
              "30284    439552        FL  ...         Wood                  3\n",
              "18705    352979        FL  ...      Masonry                  1\n",
              "11385    178194        FL  ...      Masonry                  1\n",
              "13292    160039        FL  ...      Masonry                  1\n",
              "32153    205605        FL  ...         Wood                  4\n",
              "\n",
              "[5 rows x 18 columns]"
            ]
          },
          "metadata": {
            "tags": []
          },
          "execution_count": 18
        }
      ]
    },
    {
      "cell_type": "markdown",
      "metadata": {
        "id": "jqZ-Ny0eEsac",
        "colab_type": "text"
      },
      "source": [
        "- data.head()\n",
        "- data.tail()\n",
        "-data.samle()\n",
        "\n",
        "the output type of all the above methods are dataframe"
      ]
    },
    {
      "cell_type": "code",
      "metadata": {
        "id": "flrKXbGlEdIX",
        "colab_type": "code",
        "colab": {
          "base_uri": "https://localhost:8080/",
          "height": 117
        },
        "outputId": "75309171-8127-480b-e290-de0e93b509c3"
      },
      "source": [
        "data.head(1)"
      ],
      "execution_count": 19,
      "outputs": [
        {
          "output_type": "execute_result",
          "data": {
            "text/html": [
              "<div>\n",
              "<style scoped>\n",
              "    .dataframe tbody tr th:only-of-type {\n",
              "        vertical-align: middle;\n",
              "    }\n",
              "\n",
              "    .dataframe tbody tr th {\n",
              "        vertical-align: top;\n",
              "    }\n",
              "\n",
              "    .dataframe thead th {\n",
              "        text-align: right;\n",
              "    }\n",
              "</style>\n",
              "<table border=\"1\" class=\"dataframe\">\n",
              "  <thead>\n",
              "    <tr style=\"text-align: right;\">\n",
              "      <th></th>\n",
              "      <th>policyID</th>\n",
              "      <th>statecode</th>\n",
              "      <th>county</th>\n",
              "      <th>eq_site_limit</th>\n",
              "      <th>hu_site_limit</th>\n",
              "      <th>fl_site_limit</th>\n",
              "      <th>fr_site_limit</th>\n",
              "      <th>tiv_2011</th>\n",
              "      <th>tiv_2012</th>\n",
              "      <th>eq_site_deductible</th>\n",
              "      <th>hu_site_deductible</th>\n",
              "      <th>fl_site_deductible</th>\n",
              "      <th>fr_site_deductible</th>\n",
              "      <th>point_latitude</th>\n",
              "      <th>point_longitude</th>\n",
              "      <th>line</th>\n",
              "      <th>construction</th>\n",
              "      <th>point_granularity</th>\n",
              "    </tr>\n",
              "  </thead>\n",
              "  <tbody>\n",
              "    <tr>\n",
              "      <th>0</th>\n",
              "      <td>119736</td>\n",
              "      <td>FL</td>\n",
              "      <td>CLAY COUNTY</td>\n",
              "      <td>498960.0</td>\n",
              "      <td>498960.0</td>\n",
              "      <td>498960.0</td>\n",
              "      <td>498960.0</td>\n",
              "      <td>498960.0</td>\n",
              "      <td>792148.9</td>\n",
              "      <td>0.0</td>\n",
              "      <td>9979.2</td>\n",
              "      <td>0.0</td>\n",
              "      <td>0</td>\n",
              "      <td>30.102261</td>\n",
              "      <td>-81.711777</td>\n",
              "      <td>Residential</td>\n",
              "      <td>Masonry</td>\n",
              "      <td>1</td>\n",
              "    </tr>\n",
              "  </tbody>\n",
              "</table>\n",
              "</div>"
            ],
            "text/plain": [
              "   policyID statecode       county  ...         line  construction  point_granularity\n",
              "0    119736        FL  CLAY COUNTY  ...  Residential       Masonry                  1\n",
              "\n",
              "[1 rows x 18 columns]"
            ]
          },
          "metadata": {
            "tags": []
          },
          "execution_count": 19
        }
      ]
    },
    {
      "cell_type": "code",
      "metadata": {
        "id": "fZKLgdx-EdAO",
        "colab_type": "code",
        "colab": {
          "base_uri": "https://localhost:8080/",
          "height": 117
        },
        "outputId": "5ae3279c-3ba3-4d3b-9570-9ac90abf1021"
      },
      "source": [
        "data.tail(1)"
      ],
      "execution_count": 22,
      "outputs": [
        {
          "output_type": "execute_result",
          "data": {
            "text/html": [
              "<div>\n",
              "<style scoped>\n",
              "    .dataframe tbody tr th:only-of-type {\n",
              "        vertical-align: middle;\n",
              "    }\n",
              "\n",
              "    .dataframe tbody tr th {\n",
              "        vertical-align: top;\n",
              "    }\n",
              "\n",
              "    .dataframe thead th {\n",
              "        text-align: right;\n",
              "    }\n",
              "</style>\n",
              "<table border=\"1\" class=\"dataframe\">\n",
              "  <thead>\n",
              "    <tr style=\"text-align: right;\">\n",
              "      <th></th>\n",
              "      <th>policyID</th>\n",
              "      <th>statecode</th>\n",
              "      <th>county</th>\n",
              "      <th>eq_site_limit</th>\n",
              "      <th>hu_site_limit</th>\n",
              "      <th>fl_site_limit</th>\n",
              "      <th>fr_site_limit</th>\n",
              "      <th>tiv_2011</th>\n",
              "      <th>tiv_2012</th>\n",
              "      <th>eq_site_deductible</th>\n",
              "      <th>hu_site_deductible</th>\n",
              "      <th>fl_site_deductible</th>\n",
              "      <th>fr_site_deductible</th>\n",
              "      <th>point_latitude</th>\n",
              "      <th>point_longitude</th>\n",
              "      <th>line</th>\n",
              "      <th>construction</th>\n",
              "      <th>point_granularity</th>\n",
              "    </tr>\n",
              "  </thead>\n",
              "  <tbody>\n",
              "    <tr>\n",
              "      <th>36633</th>\n",
              "      <td>398149</td>\n",
              "      <td>FL</td>\n",
              "      <td>PINELLAS COUNTY</td>\n",
              "      <td>373488.3</td>\n",
              "      <td>373488.3</td>\n",
              "      <td>0.0</td>\n",
              "      <td>0.0</td>\n",
              "      <td>373488.3</td>\n",
              "      <td>596003.67</td>\n",
              "      <td>0.0</td>\n",
              "      <td>0.0</td>\n",
              "      <td>0.0</td>\n",
              "      <td>0</td>\n",
              "      <td>28.06444</td>\n",
              "      <td>-82.77459</td>\n",
              "      <td>Residential</td>\n",
              "      <td>Masonry</td>\n",
              "      <td>1</td>\n",
              "    </tr>\n",
              "  </tbody>\n",
              "</table>\n",
              "</div>"
            ],
            "text/plain": [
              "       policyID statecode  ... construction  point_granularity\n",
              "36633    398149        FL  ...      Masonry                  1\n",
              "\n",
              "[1 rows x 18 columns]"
            ]
          },
          "metadata": {
            "tags": []
          },
          "execution_count": 22
        }
      ]
    },
    {
      "cell_type": "markdown",
      "metadata": {
        "id": "Xe8jrNl-FUzp",
        "colab_type": "text"
      },
      "source": [
        "- data.head(1)\n",
        "- data.samle(1)\n",
        "\n",
        "the output type of all the above methods are also dataframe which consists a single row"
      ]
    },
    {
      "cell_type": "markdown",
      "metadata": {
        "id": "VsG_7KKxFihn",
        "colab_type": "text"
      },
      "source": [
        "**Info about the dataframe**"
      ]
    },
    {
      "cell_type": "code",
      "metadata": {
        "id": "p11oac8XFNVs",
        "colab_type": "code",
        "colab": {
          "base_uri": "https://localhost:8080/",
          "height": 416
        },
        "outputId": "9cd1b422-9e18-4a4b-f45a-e1fe44fd0d33"
      },
      "source": [
        "data.info()"
      ],
      "execution_count": 23,
      "outputs": [
        {
          "output_type": "stream",
          "text": [
            "<class 'pandas.core.frame.DataFrame'>\n",
            "RangeIndex: 36634 entries, 0 to 36633\n",
            "Data columns (total 18 columns):\n",
            "policyID              36634 non-null int64\n",
            "statecode             36634 non-null object\n",
            "county                36634 non-null object\n",
            "eq_site_limit         36634 non-null float64\n",
            "hu_site_limit         36634 non-null float64\n",
            "fl_site_limit         36634 non-null float64\n",
            "fr_site_limit         36634 non-null float64\n",
            "tiv_2011              36634 non-null float64\n",
            "tiv_2012              36634 non-null float64\n",
            "eq_site_deductible    36634 non-null float64\n",
            "hu_site_deductible    36634 non-null float64\n",
            "fl_site_deductible    36634 non-null float64\n",
            "fr_site_deductible    36634 non-null int64\n",
            "point_latitude        36634 non-null float64\n",
            "point_longitude       36634 non-null float64\n",
            "line                  36634 non-null object\n",
            "construction          36634 non-null object\n",
            "point_granularity     36634 non-null int64\n",
            "dtypes: float64(11), int64(3), object(4)\n",
            "memory usage: 5.0+ MB\n"
          ],
          "name": "stdout"
        }
      ]
    },
    {
      "cell_type": "code",
      "metadata": {
        "id": "oPw_liV-Fc20",
        "colab_type": "code",
        "colab": {
          "base_uri": "https://localhost:8080/",
          "height": 433
        },
        "outputId": "36c919ba-ac25-45bb-aeec-65019c60c6ce"
      },
      "source": [
        "type(data.info())"
      ],
      "execution_count": 24,
      "outputs": [
        {
          "output_type": "stream",
          "text": [
            "<class 'pandas.core.frame.DataFrame'>\n",
            "RangeIndex: 36634 entries, 0 to 36633\n",
            "Data columns (total 18 columns):\n",
            "policyID              36634 non-null int64\n",
            "statecode             36634 non-null object\n",
            "county                36634 non-null object\n",
            "eq_site_limit         36634 non-null float64\n",
            "hu_site_limit         36634 non-null float64\n",
            "fl_site_limit         36634 non-null float64\n",
            "fr_site_limit         36634 non-null float64\n",
            "tiv_2011              36634 non-null float64\n",
            "tiv_2012              36634 non-null float64\n",
            "eq_site_deductible    36634 non-null float64\n",
            "hu_site_deductible    36634 non-null float64\n",
            "fl_site_deductible    36634 non-null float64\n",
            "fr_site_deductible    36634 non-null int64\n",
            "point_latitude        36634 non-null float64\n",
            "point_longitude       36634 non-null float64\n",
            "line                  36634 non-null object\n",
            "construction          36634 non-null object\n",
            "point_granularity     36634 non-null int64\n",
            "dtypes: float64(11), int64(3), object(4)\n",
            "memory usage: 5.0+ MB\n"
          ],
          "name": "stdout"
        },
        {
          "output_type": "execute_result",
          "data": {
            "text/plain": [
              "NoneType"
            ]
          },
          "metadata": {
            "tags": []
          },
          "execution_count": 24
        }
      ]
    },
    {
      "cell_type": "markdown",
      "metadata": {
        "id": "STDiDMzLF6XJ",
        "colab_type": "text"
      },
      "source": [
        "**Accesing a single column**"
      ]
    },
    {
      "cell_type": "code",
      "metadata": {
        "id": "tjxNML1ZFwKi",
        "colab_type": "code",
        "colab": {
          "base_uri": "https://localhost:8080/",
          "height": 225
        },
        "outputId": "37c55f9d-7134-436e-e469-4d76f8022cab"
      },
      "source": [
        "# To access the column policyID\n",
        "data.policyID"
      ],
      "execution_count": 25,
      "outputs": [
        {
          "output_type": "execute_result",
          "data": {
            "text/plain": [
              "0        119736\n",
              "1        448094\n",
              "2        206893\n",
              "3        333743\n",
              "4        172534\n",
              "          ...  \n",
              "36629    404309\n",
              "36630    465875\n",
              "36631    791209\n",
              "36632    322627\n",
              "36633    398149\n",
              "Name: policyID, Length: 36634, dtype: int64"
            ]
          },
          "metadata": {
            "tags": []
          },
          "execution_count": 25
        }
      ]
    },
    {
      "cell_type": "code",
      "metadata": {
        "id": "S2gYgtnbFxZZ",
        "colab_type": "code",
        "colab": {
          "base_uri": "https://localhost:8080/",
          "height": 35
        },
        "outputId": "fa0f5fe6-b098-4b40-bde2-03e7ad41bc15"
      },
      "source": [
        "# What is the ouput type\n",
        "print(type(data.policyID))"
      ],
      "execution_count": 26,
      "outputs": [
        {
          "output_type": "stream",
          "text": [
            "<class 'pandas.core.series.Series'>\n"
          ],
          "name": "stdout"
        }
      ]
    },
    {
      "cell_type": "code",
      "metadata": {
        "id": "7-2DJjwcFxtd",
        "colab_type": "code",
        "colab": {
          "base_uri": "https://localhost:8080/",
          "height": 225
        },
        "outputId": "e8556b34-60f6-44dc-ccc1-788b7495e940"
      },
      "source": [
        "# To access the column policyID\n",
        "data['policyID']"
      ],
      "execution_count": 27,
      "outputs": [
        {
          "output_type": "execute_result",
          "data": {
            "text/plain": [
              "0        119736\n",
              "1        448094\n",
              "2        206893\n",
              "3        333743\n",
              "4        172534\n",
              "          ...  \n",
              "36629    404309\n",
              "36630    465875\n",
              "36631    791209\n",
              "36632    322627\n",
              "36633    398149\n",
              "Name: policyID, Length: 36634, dtype: int64"
            ]
          },
          "metadata": {
            "tags": []
          },
          "execution_count": 27
        }
      ]
    },
    {
      "cell_type": "code",
      "metadata": {
        "id": "P3CtJJgbFyGZ",
        "colab_type": "code",
        "colab": {
          "base_uri": "https://localhost:8080/",
          "height": 35
        },
        "outputId": "6316f0b4-b599-4a4a-e23f-afe2dc21a672"
      },
      "source": [
        "# What is the ouput type\n",
        "print(type(data['policyID']))"
      ],
      "execution_count": 28,
      "outputs": [
        {
          "output_type": "stream",
          "text": [
            "<class 'pandas.core.series.Series'>\n"
          ],
          "name": "stdout"
        }
      ]
    },
    {
      "cell_type": "markdown",
      "metadata": {
        "id": "LZvxinsGGXnh",
        "colab_type": "text"
      },
      "source": [
        "**specific column Datatype**"
      ]
    },
    {
      "cell_type": "code",
      "metadata": {
        "id": "lMmQxU1WFyhD",
        "colab_type": "code",
        "colab": {
          "base_uri": "https://localhost:8080/",
          "height": 225
        },
        "outputId": "d5ff35ab-8b2a-4ea8-8b2f-709b927e142e"
      },
      "source": [
        "data.statecode"
      ],
      "execution_count": 29,
      "outputs": [
        {
          "output_type": "execute_result",
          "data": {
            "text/plain": [
              "0        FL\n",
              "1        FL\n",
              "2        FL\n",
              "3        FL\n",
              "4        FL\n",
              "         ..\n",
              "36629    FL\n",
              "36630    FL\n",
              "36631    FL\n",
              "36632    FL\n",
              "36633    FL\n",
              "Name: statecode, Length: 36634, dtype: object"
            ]
          },
          "metadata": {
            "tags": []
          },
          "execution_count": 29
        }
      ]
    },
    {
      "cell_type": "code",
      "metadata": {
        "id": "EIU0wIIPFyen",
        "colab_type": "code",
        "colab": {
          "base_uri": "https://localhost:8080/",
          "height": 35
        },
        "outputId": "ae6eb4d7-2160-46d3-b2ca-653b07ead647"
      },
      "source": [
        "# Specific column datatype\n",
        "data.statecode.dtype"
      ],
      "execution_count": 30,
      "outputs": [
        {
          "output_type": "execute_result",
          "data": {
            "text/plain": [
              "dtype('O')"
            ]
          },
          "metadata": {
            "tags": []
          },
          "execution_count": 30
        }
      ]
    },
    {
      "cell_type": "code",
      "metadata": {
        "id": "00F-H-P4FyDq",
        "colab_type": "code",
        "colab": {
          "base_uri": "https://localhost:8080/",
          "height": 35
        },
        "outputId": "66553142-858c-4678-b2f9-075072a093f3"
      },
      "source": [
        "data.statecode.dtypes"
      ],
      "execution_count": 31,
      "outputs": [
        {
          "output_type": "execute_result",
          "data": {
            "text/plain": [
              "dtype('O')"
            ]
          },
          "metadata": {
            "tags": []
          },
          "execution_count": 31
        }
      ]
    },
    {
      "cell_type": "code",
      "metadata": {
        "id": "Wj4w7jBTFxro",
        "colab_type": "code",
        "colab": {
          "base_uri": "https://localhost:8080/",
          "height": 287
        },
        "outputId": "965bbb45-fb58-4056-f984-2d73f02ab31a"
      },
      "source": [
        "data.dtype"
      ],
      "execution_count": 32,
      "outputs": [
        {
          "output_type": "error",
          "ename": "AttributeError",
          "evalue": "ignored",
          "traceback": [
            "\u001b[0;31m---------------------------------------------------------------------------\u001b[0m",
            "\u001b[0;31mAttributeError\u001b[0m                            Traceback (most recent call last)",
            "\u001b[0;32m<ipython-input-32-ab0a5b0d7958>\u001b[0m in \u001b[0;36m<module>\u001b[0;34m()\u001b[0m\n\u001b[0;32m----> 1\u001b[0;31m \u001b[0mdata\u001b[0m\u001b[0;34m.\u001b[0m\u001b[0mdtype\u001b[0m\u001b[0;34m\u001b[0m\u001b[0;34m\u001b[0m\u001b[0m\n\u001b[0m",
            "\u001b[0;32m/usr/local/lib/python3.6/dist-packages/pandas/core/generic.py\u001b[0m in \u001b[0;36m__getattr__\u001b[0;34m(self, name)\u001b[0m\n\u001b[1;32m   5177\u001b[0m             \u001b[0;32mif\u001b[0m \u001b[0mself\u001b[0m\u001b[0;34m.\u001b[0m\u001b[0m_info_axis\u001b[0m\u001b[0;34m.\u001b[0m\u001b[0m_can_hold_identifiers_and_holds_name\u001b[0m\u001b[0;34m(\u001b[0m\u001b[0mname\u001b[0m\u001b[0;34m)\u001b[0m\u001b[0;34m:\u001b[0m\u001b[0;34m\u001b[0m\u001b[0;34m\u001b[0m\u001b[0m\n\u001b[1;32m   5178\u001b[0m                 \u001b[0;32mreturn\u001b[0m \u001b[0mself\u001b[0m\u001b[0;34m[\u001b[0m\u001b[0mname\u001b[0m\u001b[0;34m]\u001b[0m\u001b[0;34m\u001b[0m\u001b[0;34m\u001b[0m\u001b[0m\n\u001b[0;32m-> 5179\u001b[0;31m             \u001b[0;32mreturn\u001b[0m \u001b[0mobject\u001b[0m\u001b[0;34m.\u001b[0m\u001b[0m__getattribute__\u001b[0m\u001b[0;34m(\u001b[0m\u001b[0mself\u001b[0m\u001b[0;34m,\u001b[0m \u001b[0mname\u001b[0m\u001b[0;34m)\u001b[0m\u001b[0;34m\u001b[0m\u001b[0;34m\u001b[0m\u001b[0m\n\u001b[0m\u001b[1;32m   5180\u001b[0m \u001b[0;34m\u001b[0m\u001b[0m\n\u001b[1;32m   5181\u001b[0m     \u001b[0;32mdef\u001b[0m \u001b[0m__setattr__\u001b[0m\u001b[0;34m(\u001b[0m\u001b[0mself\u001b[0m\u001b[0;34m,\u001b[0m \u001b[0mname\u001b[0m\u001b[0;34m,\u001b[0m \u001b[0mvalue\u001b[0m\u001b[0;34m)\u001b[0m\u001b[0;34m:\u001b[0m\u001b[0;34m\u001b[0m\u001b[0;34m\u001b[0m\u001b[0m\n",
            "\u001b[0;31mAttributeError\u001b[0m: 'DataFrame' object has no attribute 'dtype'"
          ]
        }
      ]
    },
    {
      "cell_type": "markdown",
      "metadata": {
        "id": "6xVVbUc5G83k",
        "colab_type": "text"
      },
      "source": [
        "difference between dtype and dtypes\n",
        "\n",
        "- datatafrme object doesn't have dtype\n",
        "\n",
        "- Numerical columns - int or float data\n",
        "\n",
        "  - mean,median,mode,sum,quartiles,min,max\n",
        "\n",
        "- Categorical columns - Object type(string data)\n",
        "\n",
        "- Bollean data - True or False"
      ]
    },
    {
      "cell_type": "code",
      "metadata": {
        "id": "yn8cwWH6Fxpq",
        "colab_type": "code",
        "colab": {
          "base_uri": "https://localhost:8080/",
          "height": 225
        },
        "outputId": "7ba3a202-8a57-48f7-9e6f-3c6322b97743"
      },
      "source": [
        "data.point_granularity"
      ],
      "execution_count": 33,
      "outputs": [
        {
          "output_type": "execute_result",
          "data": {
            "text/plain": [
              "0        1\n",
              "1        3\n",
              "2        1\n",
              "3        3\n",
              "4        1\n",
              "        ..\n",
              "36629    3\n",
              "36630    1\n",
              "36631    4\n",
              "36632    3\n",
              "36633    1\n",
              "Name: point_granularity, Length: 36634, dtype: int64"
            ]
          },
          "metadata": {
            "tags": []
          },
          "execution_count": 33
        }
      ]
    },
    {
      "cell_type": "code",
      "metadata": {
        "id": "LHM50sDwFxn2",
        "colab_type": "code",
        "colab": {
          "base_uri": "https://localhost:8080/",
          "height": 35
        },
        "outputId": "7fd17ed0-dfb4-4512-e3ff-6735badeb2cc"
      },
      "source": [
        "data.point_granularity.dtype"
      ],
      "execution_count": 34,
      "outputs": [
        {
          "output_type": "execute_result",
          "data": {
            "text/plain": [
              "dtype('int64')"
            ]
          },
          "metadata": {
            "tags": []
          },
          "execution_count": 34
        }
      ]
    },
    {
      "cell_type": "code",
      "metadata": {
        "id": "eOmU1ugYFxli",
        "colab_type": "code",
        "colab": {
          "base_uri": "https://localhost:8080/",
          "height": 35
        },
        "outputId": "21a7fab4-bcb5-403f-a78c-955e80683f41"
      },
      "source": [
        "# mean value of a column\n",
        "data.point_granularity.mean()"
      ],
      "execution_count": 35,
      "outputs": [
        {
          "output_type": "execute_result",
          "data": {
            "text/plain": [
              "1.6409073538243162"
            ]
          },
          "metadata": {
            "tags": []
          },
          "execution_count": 35
        }
      ]
    },
    {
      "cell_type": "code",
      "metadata": {
        "id": "D99Vif5cFxiC",
        "colab_type": "code",
        "colab": {
          "base_uri": "https://localhost:8080/",
          "height": 35
        },
        "outputId": "91ab03ad-1178-414b-974c-30506c153ff9"
      },
      "source": [
        "# mean value of a column\n",
        "data.point_granularity.sum()/data.point_granularity.shape[0]"
      ],
      "execution_count": 36,
      "outputs": [
        {
          "output_type": "execute_result",
          "data": {
            "text/plain": [
              "1.6409073538243162"
            ]
          },
          "metadata": {
            "tags": []
          },
          "execution_count": 36
        }
      ]
    },
    {
      "cell_type": "code",
      "metadata": {
        "id": "Cxpt8DwoFxeA",
        "colab_type": "code",
        "colab": {
          "base_uri": "https://localhost:8080/",
          "height": 52
        },
        "outputId": "9614594f-3974-4592-ee58-126fa5878e0c"
      },
      "source": [
        "# minimum value of a column\n",
        "print(data.point_granularity.min())\n",
        "# maximum value of a column\n",
        "print(data.point_granularity.max())"
      ],
      "execution_count": 37,
      "outputs": [
        {
          "output_type": "stream",
          "text": [
            "1\n",
            "7\n"
          ],
          "name": "stdout"
        }
      ]
    },
    {
      "cell_type": "code",
      "metadata": {
        "id": "0TI2c-0vFwHm",
        "colab_type": "code",
        "colab": {
          "base_uri": "https://localhost:8080/",
          "height": 121
        },
        "outputId": "ad2aa1cb-e671-4a8d-eed6-52f7a09d7f23"
      },
      "source": [
        "data.point_granularity.value_counts()"
      ],
      "execution_count": 38,
      "outputs": [
        {
          "output_type": "execute_result",
          "data": {
            "text/plain": [
              "1    26569\n",
              "3     6724\n",
              "4     3337\n",
              "7        2\n",
              "5        2\n",
              "Name: point_granularity, dtype: int64"
            ]
          },
          "metadata": {
            "tags": []
          },
          "execution_count": 38
        }
      ]
    },
    {
      "cell_type": "code",
      "metadata": {
        "id": "rrdauMiEFwE8",
        "colab_type": "code",
        "colab": {
          "base_uri": "https://localhost:8080/",
          "height": 52
        },
        "outputId": "6140abce-8433-4927-ee39-71dd60c47093"
      },
      "source": [
        "data.point_granularity.mode()\n",
        "# output type is a series"
      ],
      "execution_count": 39,
      "outputs": [
        {
          "output_type": "execute_result",
          "data": {
            "text/plain": [
              "0    1\n",
              "dtype: int64"
            ]
          },
          "metadata": {
            "tags": []
          },
          "execution_count": 39
        }
      ]
    },
    {
      "cell_type": "code",
      "metadata": {
        "id": "BJQaW1zsFwBm",
        "colab_type": "code",
        "colab": {
          "base_uri": "https://localhost:8080/",
          "height": 35
        },
        "outputId": "ec4685da-1e5f-417c-f591-aa82aed2c917"
      },
      "source": [
        "data.point_granularity.mode()[0]"
      ],
      "execution_count": 40,
      "outputs": [
        {
          "output_type": "execute_result",
          "data": {
            "text/plain": [
              "1"
            ]
          },
          "metadata": {
            "tags": []
          },
          "execution_count": 40
        }
      ]
    },
    {
      "cell_type": "code",
      "metadata": {
        "id": "ta6gzqykFv-I",
        "colab_type": "code",
        "colab": {
          "base_uri": "https://localhost:8080/",
          "height": 35
        },
        "outputId": "426a45b3-5e4f-4a88-c3b5-77dc1e025311"
      },
      "source": [
        "data.point_granularity.median()"
      ],
      "execution_count": 41,
      "outputs": [
        {
          "output_type": "execute_result",
          "data": {
            "text/plain": [
              "1.0"
            ]
          },
          "metadata": {
            "tags": []
          },
          "execution_count": 41
        }
      ]
    },
    {
      "cell_type": "code",
      "metadata": {
        "id": "7DwdJNP6Fv7m",
        "colab_type": "code",
        "colab": {
          "base_uri": "https://localhost:8080/",
          "height": 35
        },
        "outputId": "c7b2cd0f-834c-44b0-d687-70785581a9fd"
      },
      "source": [
        "# Range of values in a column\n",
        "(data.point_granularity.min(),data.point_granularity.max())"
      ],
      "execution_count": 42,
      "outputs": [
        {
          "output_type": "execute_result",
          "data": {
            "text/plain": [
              "(1, 7)"
            ]
          },
          "metadata": {
            "tags": []
          },
          "execution_count": 42
        }
      ]
    },
    {
      "cell_type": "code",
      "metadata": {
        "id": "Uf7b2ad3Fv3-",
        "colab_type": "code",
        "colab": {
          "base_uri": "https://localhost:8080/",
          "height": 35
        },
        "outputId": "eca99006-0a15-4f85-cd3d-cdc48a04e6ff"
      },
      "source": [
        "data.point_granularity.count()"
      ],
      "execution_count": 43,
      "outputs": [
        {
          "output_type": "execute_result",
          "data": {
            "text/plain": [
              "36634"
            ]
          },
          "metadata": {
            "tags": []
          },
          "execution_count": 43
        }
      ]
    },
    {
      "cell_type": "code",
      "metadata": {
        "id": "aH2Nlk2AFv0_",
        "colab_type": "code",
        "colab": {
          "base_uri": "https://localhost:8080/",
          "height": 35
        },
        "outputId": "c729b6e1-4ace-448e-a8d9-eab997a8a73c"
      },
      "source": [
        "data.county.dtype"
      ],
      "execution_count": 44,
      "outputs": [
        {
          "output_type": "execute_result",
          "data": {
            "text/plain": [
              "dtype('O')"
            ]
          },
          "metadata": {
            "tags": []
          },
          "execution_count": 44
        }
      ]
    },
    {
      "cell_type": "code",
      "metadata": {
        "id": "FI4DYBJEFdB_",
        "colab_type": "code",
        "colab": {
          "base_uri": "https://localhost:8080/",
          "height": 35
        },
        "outputId": "17a5cd78-2307-4f40-be70-3d123710e69b"
      },
      "source": [
        "# How many non null values are there\n",
        "data.county.count()\n",
        "# Output type is an integer"
      ],
      "execution_count": 45,
      "outputs": [
        {
          "output_type": "execute_result",
          "data": {
            "text/plain": [
              "36634"
            ]
          },
          "metadata": {
            "tags": []
          },
          "execution_count": 45
        }
      ]
    },
    {
      "cell_type": "code",
      "metadata": {
        "id": "brMSAsfNFdSv",
        "colab_type": "code",
        "colab": {
          "base_uri": "https://localhost:8080/",
          "height": 225
        },
        "outputId": "0f517d08-df59-41a8-db7a-2b4d5ca78e20"
      },
      "source": [
        "# For each uniwue value what is the count\n",
        "data.county.value_counts()\n",
        "# output type is a series\n",
        "# In that series the labels are unique values\n",
        "# the value for that label is how many times it occured in that column"
      ],
      "execution_count": 46,
      "outputs": [
        {
          "output_type": "execute_result",
          "data": {
            "text/plain": [
              "MIAMI DADE COUNTY    4315\n",
              "BROWARD COUNTY       3193\n",
              "PALM BEACH COUNTY    2791\n",
              "DUVAL COUNTY         1894\n",
              "ORANGE COUNTY        1811\n",
              "                     ... \n",
              "GLADES COUNTY          22\n",
              "UNION COUNTY           15\n",
              "OSCEOLA COUNTY          1\n",
              "Orlando                 1\n",
              "North Fort Myers        1\n",
              "Name: county, Length: 67, dtype: int64"
            ]
          },
          "metadata": {
            "tags": []
          },
          "execution_count": 46
        }
      ]
    },
    {
      "cell_type": "code",
      "metadata": {
        "id": "NJtJzQTVFdQh",
        "colab_type": "code",
        "colab": {
          "base_uri": "https://localhost:8080/",
          "height": 52
        },
        "outputId": "39feae2f-5255-45f7-92f9-12b4471b31dc"
      },
      "source": [
        "# How many unique values are there\n",
        "print(data.county.nunique())\n",
        "print(data.county.value_counts().shape[0])"
      ],
      "execution_count": 47,
      "outputs": [
        {
          "output_type": "stream",
          "text": [
            "67\n",
            "67\n"
          ],
          "name": "stdout"
        }
      ]
    },
    {
      "cell_type": "code",
      "metadata": {
        "id": "4ncGq7M0FdLs",
        "colab_type": "code",
        "colab": {
          "base_uri": "https://localhost:8080/",
          "height": 659
        },
        "outputId": "c125cc7f-7e39-4917-9d39-22f68619b1c2"
      },
      "source": [
        "# What are the uinique values\n",
        "print(data.county.unique())\n",
        "print(data.county.value_counts().index)"
      ],
      "execution_count": 48,
      "outputs": [
        {
          "output_type": "stream",
          "text": [
            "['CLAY COUNTY' 'SUWANNEE COUNTY' 'NASSAU COUNTY' 'COLUMBIA COUNTY'\n",
            " 'ST  JOHNS COUNTY' 'BAKER COUNTY' 'BRADFORD COUNTY' 'HAMILTON COUNTY'\n",
            " 'UNION COUNTY' 'MADISON COUNTY' 'LAFAYETTE COUNTY' 'FLAGLER COUNTY'\n",
            " 'DUVAL COUNTY' 'LAKE COUNTY' 'VOLUSIA COUNTY' 'PUTNAM COUNTY'\n",
            " 'MARION COUNTY' 'SUMTER COUNTY' 'LEON COUNTY' 'FRANKLIN COUNTY'\n",
            " 'LIBERTY COUNTY' 'GADSDEN COUNTY' 'WAKULLA COUNTY' 'JEFFERSON COUNTY'\n",
            " 'TAYLOR COUNTY' 'BAY COUNTY' 'WALTON COUNTY' 'JACKSON COUNTY'\n",
            " 'CALHOUN COUNTY' 'HOLMES COUNTY' 'WASHINGTON COUNTY' 'GULF COUNTY'\n",
            " 'ESCAMBIA COUNTY' 'SANTA ROSA COUNTY' 'OKALOOSA COUNTY' 'ALACHUA COUNTY'\n",
            " 'GILCHRIST COUNTY' 'LEVY COUNTY' 'DIXIE COUNTY' 'SEMINOLE COUNTY'\n",
            " 'ORANGE COUNTY' 'BREVARD COUNTY' 'INDIAN RIVER COUNTY'\n",
            " 'MIAMI DADE COUNTY' 'BROWARD COUNTY' 'MONROE COUNTY' 'PALM BEACH COUNTY'\n",
            " 'MARTIN COUNTY' 'HENDRY COUNTY' 'PASCO COUNTY' 'GLADES COUNTY'\n",
            " 'HILLSBOROUGH COUNTY' 'HERNANDO COUNTY' 'PINELLAS COUNTY' 'POLK COUNTY'\n",
            " 'North Fort Myers' 'Orlando' 'HIGHLANDS COUNTY' 'HARDEE COUNTY'\n",
            " 'MANATEE COUNTY' 'OSCEOLA COUNTY' 'LEE COUNTY' 'CHARLOTTE COUNTY'\n",
            " 'COLLIER COUNTY' 'SARASOTA COUNTY' 'DESOTO COUNTY' 'CITRUS COUNTY']\n",
            "Index(['MIAMI DADE COUNTY', 'BROWARD COUNTY', 'PALM BEACH COUNTY',\n",
            "       'DUVAL COUNTY', 'ORANGE COUNTY', 'PINELLAS COUNTY', 'POLK COUNTY',\n",
            "       'VOLUSIA COUNTY', 'HILLSBOROUGH COUNTY', 'MARION COUNTY',\n",
            "       'OKALOOSA COUNTY', 'SEMINOLE COUNTY', 'ALACHUA COUNTY',\n",
            "       'BREVARD COUNTY', 'SANTA ROSA COUNTY', 'PASCO COUNTY', 'COLLIER COUNTY',\n",
            "       'LEE COUNTY', 'ST  JOHNS COUNTY', 'MANATEE COUNTY', 'ESCAMBIA COUNTY',\n",
            "       'SARASOTA COUNTY', 'CHARLOTTE COUNTY', 'BAY COUNTY', 'CITRUS COUNTY',\n",
            "       'INDIAN RIVER COUNTY', 'HIGHLANDS COUNTY', 'CLAY COUNTY',\n",
            "       'WALTON COUNTY', 'PUTNAM COUNTY', 'LEON COUNTY', 'JACKSON COUNTY',\n",
            "       'LAKE COUNTY', 'FLAGLER COUNTY', 'GADSDEN COUNTY', 'SUMTER COUNTY',\n",
            "       'SUWANNEE COUNTY', 'MONROE COUNTY', 'NASSAU COUNTY', 'LEVY COUNTY',\n",
            "       'COLUMBIA COUNTY', 'HERNANDO COUNTY', 'WASHINGTON COUNTY',\n",
            "       'TAYLOR COUNTY', 'MARTIN COUNTY', 'DESOTO COUNTY', 'WAKULLA COUNTY',\n",
            "       'HARDEE COUNTY', 'MADISON COUNTY', 'HENDRY COUNTY', 'GULF COUNTY',\n",
            "       'BAKER COUNTY', 'CALHOUN COUNTY', 'LAFAYETTE COUNTY',\n",
            "       'JEFFERSON COUNTY', 'DIXIE COUNTY', 'HOLMES COUNTY', 'GILCHRIST COUNTY',\n",
            "       'FRANKLIN COUNTY', 'LIBERTY COUNTY', 'HAMILTON COUNTY',\n",
            "       'BRADFORD COUNTY', 'GLADES COUNTY', 'UNION COUNTY', 'OSCEOLA COUNTY',\n",
            "       'Orlando', 'North Fort Myers'],\n",
            "      dtype='object')\n"
          ],
          "name": "stdout"
        }
      ]
    },
    {
      "cell_type": "code",
      "metadata": {
        "id": "6oMHu_nEFc_a",
        "colab_type": "code",
        "colab": {
          "base_uri": "https://localhost:8080/",
          "height": 314
        },
        "outputId": "92ce2819-e078-4041-869c-49922cb37ed0"
      },
      "source": [
        "# To get the description for the numerical columns\n",
        "data.describe()"
      ],
      "execution_count": 49,
      "outputs": [
        {
          "output_type": "execute_result",
          "data": {
            "text/html": [
              "<div>\n",
              "<style scoped>\n",
              "    .dataframe tbody tr th:only-of-type {\n",
              "        vertical-align: middle;\n",
              "    }\n",
              "\n",
              "    .dataframe tbody tr th {\n",
              "        vertical-align: top;\n",
              "    }\n",
              "\n",
              "    .dataframe thead th {\n",
              "        text-align: right;\n",
              "    }\n",
              "</style>\n",
              "<table border=\"1\" class=\"dataframe\">\n",
              "  <thead>\n",
              "    <tr style=\"text-align: right;\">\n",
              "      <th></th>\n",
              "      <th>policyID</th>\n",
              "      <th>eq_site_limit</th>\n",
              "      <th>hu_site_limit</th>\n",
              "      <th>fl_site_limit</th>\n",
              "      <th>fr_site_limit</th>\n",
              "      <th>tiv_2011</th>\n",
              "      <th>tiv_2012</th>\n",
              "      <th>eq_site_deductible</th>\n",
              "      <th>hu_site_deductible</th>\n",
              "      <th>fl_site_deductible</th>\n",
              "      <th>fr_site_deductible</th>\n",
              "      <th>point_latitude</th>\n",
              "      <th>point_longitude</th>\n",
              "      <th>point_granularity</th>\n",
              "    </tr>\n",
              "  </thead>\n",
              "  <tbody>\n",
              "    <tr>\n",
              "      <th>count</th>\n",
              "      <td>36634.000000</td>\n",
              "      <td>3.663400e+04</td>\n",
              "      <td>3.663400e+04</td>\n",
              "      <td>3.663400e+04</td>\n",
              "      <td>3.663400e+04</td>\n",
              "      <td>3.663400e+04</td>\n",
              "      <td>3.663400e+04</td>\n",
              "      <td>3.663400e+04</td>\n",
              "      <td>3.663400e+04</td>\n",
              "      <td>36634.000000</td>\n",
              "      <td>36634.000000</td>\n",
              "      <td>36634.000000</td>\n",
              "      <td>36634.000000</td>\n",
              "      <td>36634.000000</td>\n",
              "    </tr>\n",
              "    <tr>\n",
              "      <th>mean</th>\n",
              "      <td>548661.937189</td>\n",
              "      <td>7.314780e+05</td>\n",
              "      <td>2.074348e+06</td>\n",
              "      <td>6.646009e+05</td>\n",
              "      <td>9.911724e+05</td>\n",
              "      <td>2.172875e+06</td>\n",
              "      <td>2.571004e+06</td>\n",
              "      <td>7.787908e+02</td>\n",
              "      <td>7.037985e+03</td>\n",
              "      <td>192.453210</td>\n",
              "      <td>26.483594</td>\n",
              "      <td>28.087477</td>\n",
              "      <td>-81.903565</td>\n",
              "      <td>1.640907</td>\n",
              "    </tr>\n",
              "    <tr>\n",
              "      <th>std</th>\n",
              "      <td>259912.926494</td>\n",
              "      <td>1.752300e+07</td>\n",
              "      <td>1.964150e+07</td>\n",
              "      <td>1.746114e+07</td>\n",
              "      <td>1.767178e+07</td>\n",
              "      <td>2.015015e+07</td>\n",
              "      <td>2.036777e+07</td>\n",
              "      <td>4.787979e+04</td>\n",
              "      <td>9.582593e+04</td>\n",
              "      <td>8037.713716</td>\n",
              "      <td>4702.740932</td>\n",
              "      <td>1.647734</td>\n",
              "      <td>1.809066</td>\n",
              "      <td>1.070561</td>\n",
              "    </tr>\n",
              "    <tr>\n",
              "      <th>min</th>\n",
              "      <td>100074.000000</td>\n",
              "      <td>0.000000e+00</td>\n",
              "      <td>0.000000e+00</td>\n",
              "      <td>0.000000e+00</td>\n",
              "      <td>0.000000e+00</td>\n",
              "      <td>9.000000e+01</td>\n",
              "      <td>7.337000e+01</td>\n",
              "      <td>0.000000e+00</td>\n",
              "      <td>0.000000e+00</td>\n",
              "      <td>0.000000</td>\n",
              "      <td>0.000000</td>\n",
              "      <td>24.547514</td>\n",
              "      <td>-87.447290</td>\n",
              "      <td>1.000000</td>\n",
              "    </tr>\n",
              "    <tr>\n",
              "      <th>25%</th>\n",
              "      <td>323647.750000</td>\n",
              "      <td>0.000000e+00</td>\n",
              "      <td>4.248106e+04</td>\n",
              "      <td>0.000000e+00</td>\n",
              "      <td>0.000000e+00</td>\n",
              "      <td>4.562415e+04</td>\n",
              "      <td>5.401351e+04</td>\n",
              "      <td>0.000000e+00</td>\n",
              "      <td>0.000000e+00</td>\n",
              "      <td>0.000000</td>\n",
              "      <td>0.000000</td>\n",
              "      <td>26.471996</td>\n",
              "      <td>-82.439331</td>\n",
              "      <td>1.000000</td>\n",
              "    </tr>\n",
              "    <tr>\n",
              "      <th>50%</th>\n",
              "      <td>548525.000000</td>\n",
              "      <td>0.000000e+00</td>\n",
              "      <td>1.926911e+05</td>\n",
              "      <td>0.000000e+00</td>\n",
              "      <td>0.000000e+00</td>\n",
              "      <td>2.021051e+05</td>\n",
              "      <td>2.416310e+05</td>\n",
              "      <td>0.000000e+00</td>\n",
              "      <td>0.000000e+00</td>\n",
              "      <td>0.000000</td>\n",
              "      <td>0.000000</td>\n",
              "      <td>28.057077</td>\n",
              "      <td>-81.585700</td>\n",
              "      <td>1.000000</td>\n",
              "    </tr>\n",
              "    <tr>\n",
              "      <th>75%</th>\n",
              "      <td>774252.000000</td>\n",
              "      <td>0.000000e+00</td>\n",
              "      <td>9.163381e+05</td>\n",
              "      <td>0.000000e+00</td>\n",
              "      <td>5.741010e+04</td>\n",
              "      <td>9.465821e+05</td>\n",
              "      <td>1.128871e+06</td>\n",
              "      <td>0.000000e+00</td>\n",
              "      <td>0.000000e+00</td>\n",
              "      <td>0.000000</td>\n",
              "      <td>0.000000</td>\n",
              "      <td>29.623005</td>\n",
              "      <td>-80.372910</td>\n",
              "      <td>3.000000</td>\n",
              "    </tr>\n",
              "    <tr>\n",
              "      <th>max</th>\n",
              "      <td>999971.000000</td>\n",
              "      <td>2.160000e+09</td>\n",
              "      <td>2.160000e+09</td>\n",
              "      <td>2.160000e+09</td>\n",
              "      <td>2.160000e+09</td>\n",
              "      <td>2.160000e+09</td>\n",
              "      <td>1.701000e+09</td>\n",
              "      <td>6.273765e+06</td>\n",
              "      <td>7.380000e+06</td>\n",
              "      <td>450000.000000</td>\n",
              "      <td>900000.000000</td>\n",
              "      <td>30.989820</td>\n",
              "      <td>-80.033257</td>\n",
              "      <td>7.000000</td>\n",
              "    </tr>\n",
              "  </tbody>\n",
              "</table>\n",
              "</div>"
            ],
            "text/plain": [
              "            policyID  eq_site_limit  ...  point_longitude  point_granularity\n",
              "count   36634.000000   3.663400e+04  ...     36634.000000       36634.000000\n",
              "mean   548661.937189   7.314780e+05  ...       -81.903565           1.640907\n",
              "std    259912.926494   1.752300e+07  ...         1.809066           1.070561\n",
              "min    100074.000000   0.000000e+00  ...       -87.447290           1.000000\n",
              "25%    323647.750000   0.000000e+00  ...       -82.439331           1.000000\n",
              "50%    548525.000000   0.000000e+00  ...       -81.585700           1.000000\n",
              "75%    774252.000000   0.000000e+00  ...       -80.372910           3.000000\n",
              "max    999971.000000   2.160000e+09  ...       -80.033257           7.000000\n",
              "\n",
              "[8 rows x 14 columns]"
            ]
          },
          "metadata": {
            "tags": []
          },
          "execution_count": 49
        }
      ]
    },
    {
      "cell_type": "code",
      "metadata": {
        "id": "SD7CnxYnFc73",
        "colab_type": "code",
        "colab": {
          "base_uri": "https://localhost:8080/",
          "height": 104
        },
        "outputId": "10325bd3-a4ea-4fe8-e7ad-b47a479e9f8b"
      },
      "source": [
        "# To get the list of numerical columns\n",
        "data.describe().columns"
      ],
      "execution_count": 50,
      "outputs": [
        {
          "output_type": "execute_result",
          "data": {
            "text/plain": [
              "Index(['policyID', 'eq_site_limit', 'hu_site_limit', 'fl_site_limit',\n",
              "       'fr_site_limit', 'tiv_2011', 'tiv_2012', 'eq_site_deductible',\n",
              "       'hu_site_deductible', 'fl_site_deductible', 'fr_site_deductible',\n",
              "       'point_latitude', 'point_longitude', 'point_granularity'],\n",
              "      dtype='object')"
            ]
          },
          "metadata": {
            "tags": []
          },
          "execution_count": 50
        }
      ]
    },
    {
      "cell_type": "code",
      "metadata": {
        "id": "JLDKXyWtFNgy",
        "colab_type": "code",
        "colab": {
          "base_uri": "https://localhost:8080/",
          "height": 171
        },
        "outputId": "8e3694f8-70de-4130-d11e-71e4957aeb47"
      },
      "source": [
        "# To get the description for the categorical columns\n",
        "data.describe(include=object)"
      ],
      "execution_count": 51,
      "outputs": [
        {
          "output_type": "execute_result",
          "data": {
            "text/html": [
              "<div>\n",
              "<style scoped>\n",
              "    .dataframe tbody tr th:only-of-type {\n",
              "        vertical-align: middle;\n",
              "    }\n",
              "\n",
              "    .dataframe tbody tr th {\n",
              "        vertical-align: top;\n",
              "    }\n",
              "\n",
              "    .dataframe thead th {\n",
              "        text-align: right;\n",
              "    }\n",
              "</style>\n",
              "<table border=\"1\" class=\"dataframe\">\n",
              "  <thead>\n",
              "    <tr style=\"text-align: right;\">\n",
              "      <th></th>\n",
              "      <th>statecode</th>\n",
              "      <th>county</th>\n",
              "      <th>line</th>\n",
              "      <th>construction</th>\n",
              "    </tr>\n",
              "  </thead>\n",
              "  <tbody>\n",
              "    <tr>\n",
              "      <th>count</th>\n",
              "      <td>36634</td>\n",
              "      <td>36634</td>\n",
              "      <td>36634</td>\n",
              "      <td>36634</td>\n",
              "    </tr>\n",
              "    <tr>\n",
              "      <th>unique</th>\n",
              "      <td>1</td>\n",
              "      <td>67</td>\n",
              "      <td>2</td>\n",
              "      <td>5</td>\n",
              "    </tr>\n",
              "    <tr>\n",
              "      <th>top</th>\n",
              "      <td>FL</td>\n",
              "      <td>MIAMI DADE COUNTY</td>\n",
              "      <td>Residential</td>\n",
              "      <td>Wood</td>\n",
              "    </tr>\n",
              "    <tr>\n",
              "      <th>freq</th>\n",
              "      <td>36634</td>\n",
              "      <td>4315</td>\n",
              "      <td>30838</td>\n",
              "      <td>21581</td>\n",
              "    </tr>\n",
              "  </tbody>\n",
              "</table>\n",
              "</div>"
            ],
            "text/plain": [
              "       statecode             county         line construction\n",
              "count      36634              36634        36634        36634\n",
              "unique         1                 67            2            5\n",
              "top           FL  MIAMI DADE COUNTY  Residential         Wood\n",
              "freq       36634               4315        30838        21581"
            ]
          },
          "metadata": {
            "tags": []
          },
          "execution_count": 51
        }
      ]
    },
    {
      "cell_type": "code",
      "metadata": {
        "id": "gMQwMMTlFNem",
        "colab_type": "code",
        "colab": {
          "base_uri": "https://localhost:8080/",
          "height": 294
        },
        "outputId": "a4e24e17-c4e6-4104-a632-40f2ec9a7c59"
      },
      "source": [
        "data.describe(include=np.int64)"
      ],
      "execution_count": 52,
      "outputs": [
        {
          "output_type": "execute_result",
          "data": {
            "text/html": [
              "<div>\n",
              "<style scoped>\n",
              "    .dataframe tbody tr th:only-of-type {\n",
              "        vertical-align: middle;\n",
              "    }\n",
              "\n",
              "    .dataframe tbody tr th {\n",
              "        vertical-align: top;\n",
              "    }\n",
              "\n",
              "    .dataframe thead th {\n",
              "        text-align: right;\n",
              "    }\n",
              "</style>\n",
              "<table border=\"1\" class=\"dataframe\">\n",
              "  <thead>\n",
              "    <tr style=\"text-align: right;\">\n",
              "      <th></th>\n",
              "      <th>policyID</th>\n",
              "      <th>fr_site_deductible</th>\n",
              "      <th>point_granularity</th>\n",
              "    </tr>\n",
              "  </thead>\n",
              "  <tbody>\n",
              "    <tr>\n",
              "      <th>count</th>\n",
              "      <td>36634.000000</td>\n",
              "      <td>36634.000000</td>\n",
              "      <td>36634.000000</td>\n",
              "    </tr>\n",
              "    <tr>\n",
              "      <th>mean</th>\n",
              "      <td>548661.937189</td>\n",
              "      <td>26.483594</td>\n",
              "      <td>1.640907</td>\n",
              "    </tr>\n",
              "    <tr>\n",
              "      <th>std</th>\n",
              "      <td>259912.926494</td>\n",
              "      <td>4702.740932</td>\n",
              "      <td>1.070561</td>\n",
              "    </tr>\n",
              "    <tr>\n",
              "      <th>min</th>\n",
              "      <td>100074.000000</td>\n",
              "      <td>0.000000</td>\n",
              "      <td>1.000000</td>\n",
              "    </tr>\n",
              "    <tr>\n",
              "      <th>25%</th>\n",
              "      <td>323647.750000</td>\n",
              "      <td>0.000000</td>\n",
              "      <td>1.000000</td>\n",
              "    </tr>\n",
              "    <tr>\n",
              "      <th>50%</th>\n",
              "      <td>548525.000000</td>\n",
              "      <td>0.000000</td>\n",
              "      <td>1.000000</td>\n",
              "    </tr>\n",
              "    <tr>\n",
              "      <th>75%</th>\n",
              "      <td>774252.000000</td>\n",
              "      <td>0.000000</td>\n",
              "      <td>3.000000</td>\n",
              "    </tr>\n",
              "    <tr>\n",
              "      <th>max</th>\n",
              "      <td>999971.000000</td>\n",
              "      <td>900000.000000</td>\n",
              "      <td>7.000000</td>\n",
              "    </tr>\n",
              "  </tbody>\n",
              "</table>\n",
              "</div>"
            ],
            "text/plain": [
              "            policyID  fr_site_deductible  point_granularity\n",
              "count   36634.000000        36634.000000       36634.000000\n",
              "mean   548661.937189           26.483594           1.640907\n",
              "std    259912.926494         4702.740932           1.070561\n",
              "min    100074.000000            0.000000           1.000000\n",
              "25%    323647.750000            0.000000           1.000000\n",
              "50%    548525.000000            0.000000           1.000000\n",
              "75%    774252.000000            0.000000           3.000000\n",
              "max    999971.000000       900000.000000           7.000000"
            ]
          },
          "metadata": {
            "tags": []
          },
          "execution_count": 52
        }
      ]
    },
    {
      "cell_type": "code",
      "metadata": {
        "id": "jb900GcmFNZm",
        "colab_type": "code",
        "colab": {
          "base_uri": "https://localhost:8080/",
          "height": 314
        },
        "outputId": "225b52b3-99fb-446c-aedb-69cee4402795"
      },
      "source": [
        "data.describe(include=np.float64)"
      ],
      "execution_count": 53,
      "outputs": [
        {
          "output_type": "execute_result",
          "data": {
            "text/html": [
              "<div>\n",
              "<style scoped>\n",
              "    .dataframe tbody tr th:only-of-type {\n",
              "        vertical-align: middle;\n",
              "    }\n",
              "\n",
              "    .dataframe tbody tr th {\n",
              "        vertical-align: top;\n",
              "    }\n",
              "\n",
              "    .dataframe thead th {\n",
              "        text-align: right;\n",
              "    }\n",
              "</style>\n",
              "<table border=\"1\" class=\"dataframe\">\n",
              "  <thead>\n",
              "    <tr style=\"text-align: right;\">\n",
              "      <th></th>\n",
              "      <th>eq_site_limit</th>\n",
              "      <th>hu_site_limit</th>\n",
              "      <th>fl_site_limit</th>\n",
              "      <th>fr_site_limit</th>\n",
              "      <th>tiv_2011</th>\n",
              "      <th>tiv_2012</th>\n",
              "      <th>eq_site_deductible</th>\n",
              "      <th>hu_site_deductible</th>\n",
              "      <th>fl_site_deductible</th>\n",
              "      <th>point_latitude</th>\n",
              "      <th>point_longitude</th>\n",
              "    </tr>\n",
              "  </thead>\n",
              "  <tbody>\n",
              "    <tr>\n",
              "      <th>count</th>\n",
              "      <td>3.663400e+04</td>\n",
              "      <td>3.663400e+04</td>\n",
              "      <td>3.663400e+04</td>\n",
              "      <td>3.663400e+04</td>\n",
              "      <td>3.663400e+04</td>\n",
              "      <td>3.663400e+04</td>\n",
              "      <td>3.663400e+04</td>\n",
              "      <td>3.663400e+04</td>\n",
              "      <td>36634.000000</td>\n",
              "      <td>36634.000000</td>\n",
              "      <td>36634.000000</td>\n",
              "    </tr>\n",
              "    <tr>\n",
              "      <th>mean</th>\n",
              "      <td>7.314780e+05</td>\n",
              "      <td>2.074348e+06</td>\n",
              "      <td>6.646009e+05</td>\n",
              "      <td>9.911724e+05</td>\n",
              "      <td>2.172875e+06</td>\n",
              "      <td>2.571004e+06</td>\n",
              "      <td>7.787908e+02</td>\n",
              "      <td>7.037985e+03</td>\n",
              "      <td>192.453210</td>\n",
              "      <td>28.087477</td>\n",
              "      <td>-81.903565</td>\n",
              "    </tr>\n",
              "    <tr>\n",
              "      <th>std</th>\n",
              "      <td>1.752300e+07</td>\n",
              "      <td>1.964150e+07</td>\n",
              "      <td>1.746114e+07</td>\n",
              "      <td>1.767178e+07</td>\n",
              "      <td>2.015015e+07</td>\n",
              "      <td>2.036777e+07</td>\n",
              "      <td>4.787979e+04</td>\n",
              "      <td>9.582593e+04</td>\n",
              "      <td>8037.713716</td>\n",
              "      <td>1.647734</td>\n",
              "      <td>1.809066</td>\n",
              "    </tr>\n",
              "    <tr>\n",
              "      <th>min</th>\n",
              "      <td>0.000000e+00</td>\n",
              "      <td>0.000000e+00</td>\n",
              "      <td>0.000000e+00</td>\n",
              "      <td>0.000000e+00</td>\n",
              "      <td>9.000000e+01</td>\n",
              "      <td>7.337000e+01</td>\n",
              "      <td>0.000000e+00</td>\n",
              "      <td>0.000000e+00</td>\n",
              "      <td>0.000000</td>\n",
              "      <td>24.547514</td>\n",
              "      <td>-87.447290</td>\n",
              "    </tr>\n",
              "    <tr>\n",
              "      <th>25%</th>\n",
              "      <td>0.000000e+00</td>\n",
              "      <td>4.248106e+04</td>\n",
              "      <td>0.000000e+00</td>\n",
              "      <td>0.000000e+00</td>\n",
              "      <td>4.562415e+04</td>\n",
              "      <td>5.401351e+04</td>\n",
              "      <td>0.000000e+00</td>\n",
              "      <td>0.000000e+00</td>\n",
              "      <td>0.000000</td>\n",
              "      <td>26.471996</td>\n",
              "      <td>-82.439331</td>\n",
              "    </tr>\n",
              "    <tr>\n",
              "      <th>50%</th>\n",
              "      <td>0.000000e+00</td>\n",
              "      <td>1.926911e+05</td>\n",
              "      <td>0.000000e+00</td>\n",
              "      <td>0.000000e+00</td>\n",
              "      <td>2.021051e+05</td>\n",
              "      <td>2.416310e+05</td>\n",
              "      <td>0.000000e+00</td>\n",
              "      <td>0.000000e+00</td>\n",
              "      <td>0.000000</td>\n",
              "      <td>28.057077</td>\n",
              "      <td>-81.585700</td>\n",
              "    </tr>\n",
              "    <tr>\n",
              "      <th>75%</th>\n",
              "      <td>0.000000e+00</td>\n",
              "      <td>9.163381e+05</td>\n",
              "      <td>0.000000e+00</td>\n",
              "      <td>5.741010e+04</td>\n",
              "      <td>9.465821e+05</td>\n",
              "      <td>1.128871e+06</td>\n",
              "      <td>0.000000e+00</td>\n",
              "      <td>0.000000e+00</td>\n",
              "      <td>0.000000</td>\n",
              "      <td>29.623005</td>\n",
              "      <td>-80.372910</td>\n",
              "    </tr>\n",
              "    <tr>\n",
              "      <th>max</th>\n",
              "      <td>2.160000e+09</td>\n",
              "      <td>2.160000e+09</td>\n",
              "      <td>2.160000e+09</td>\n",
              "      <td>2.160000e+09</td>\n",
              "      <td>2.160000e+09</td>\n",
              "      <td>1.701000e+09</td>\n",
              "      <td>6.273765e+06</td>\n",
              "      <td>7.380000e+06</td>\n",
              "      <td>450000.000000</td>\n",
              "      <td>30.989820</td>\n",
              "      <td>-80.033257</td>\n",
              "    </tr>\n",
              "  </tbody>\n",
              "</table>\n",
              "</div>"
            ],
            "text/plain": [
              "       eq_site_limit  hu_site_limit  ...  point_latitude  point_longitude\n",
              "count   3.663400e+04   3.663400e+04  ...    36634.000000     36634.000000\n",
              "mean    7.314780e+05   2.074348e+06  ...       28.087477       -81.903565\n",
              "std     1.752300e+07   1.964150e+07  ...        1.647734         1.809066\n",
              "min     0.000000e+00   0.000000e+00  ...       24.547514       -87.447290\n",
              "25%     0.000000e+00   4.248106e+04  ...       26.471996       -82.439331\n",
              "50%     0.000000e+00   1.926911e+05  ...       28.057077       -81.585700\n",
              "75%     0.000000e+00   9.163381e+05  ...       29.623005       -80.372910\n",
              "max     2.160000e+09   2.160000e+09  ...       30.989820       -80.033257\n",
              "\n",
              "[8 rows x 11 columns]"
            ]
          },
          "metadata": {
            "tags": []
          },
          "execution_count": 53
        }
      ]
    },
    {
      "cell_type": "code",
      "metadata": {
        "id": "p1zL3ruhJi1o",
        "colab_type": "code",
        "colab": {
          "base_uri": "https://localhost:8080/",
          "height": 441
        },
        "outputId": "8a4c9c7e-4b03-4bf7-f040-a07a5221b4a1"
      },
      "source": [
        "data.describe(include='all')"
      ],
      "execution_count": 54,
      "outputs": [
        {
          "output_type": "execute_result",
          "data": {
            "text/html": [
              "<div>\n",
              "<style scoped>\n",
              "    .dataframe tbody tr th:only-of-type {\n",
              "        vertical-align: middle;\n",
              "    }\n",
              "\n",
              "    .dataframe tbody tr th {\n",
              "        vertical-align: top;\n",
              "    }\n",
              "\n",
              "    .dataframe thead th {\n",
              "        text-align: right;\n",
              "    }\n",
              "</style>\n",
              "<table border=\"1\" class=\"dataframe\">\n",
              "  <thead>\n",
              "    <tr style=\"text-align: right;\">\n",
              "      <th></th>\n",
              "      <th>policyID</th>\n",
              "      <th>statecode</th>\n",
              "      <th>county</th>\n",
              "      <th>eq_site_limit</th>\n",
              "      <th>hu_site_limit</th>\n",
              "      <th>fl_site_limit</th>\n",
              "      <th>fr_site_limit</th>\n",
              "      <th>tiv_2011</th>\n",
              "      <th>tiv_2012</th>\n",
              "      <th>eq_site_deductible</th>\n",
              "      <th>hu_site_deductible</th>\n",
              "      <th>fl_site_deductible</th>\n",
              "      <th>fr_site_deductible</th>\n",
              "      <th>point_latitude</th>\n",
              "      <th>point_longitude</th>\n",
              "      <th>line</th>\n",
              "      <th>construction</th>\n",
              "      <th>point_granularity</th>\n",
              "    </tr>\n",
              "  </thead>\n",
              "  <tbody>\n",
              "    <tr>\n",
              "      <th>count</th>\n",
              "      <td>36634.000000</td>\n",
              "      <td>36634</td>\n",
              "      <td>36634</td>\n",
              "      <td>3.663400e+04</td>\n",
              "      <td>3.663400e+04</td>\n",
              "      <td>3.663400e+04</td>\n",
              "      <td>3.663400e+04</td>\n",
              "      <td>3.663400e+04</td>\n",
              "      <td>3.663400e+04</td>\n",
              "      <td>3.663400e+04</td>\n",
              "      <td>3.663400e+04</td>\n",
              "      <td>36634.000000</td>\n",
              "      <td>36634.000000</td>\n",
              "      <td>36634.000000</td>\n",
              "      <td>36634.000000</td>\n",
              "      <td>36634</td>\n",
              "      <td>36634</td>\n",
              "      <td>36634.000000</td>\n",
              "    </tr>\n",
              "    <tr>\n",
              "      <th>unique</th>\n",
              "      <td>NaN</td>\n",
              "      <td>1</td>\n",
              "      <td>67</td>\n",
              "      <td>NaN</td>\n",
              "      <td>NaN</td>\n",
              "      <td>NaN</td>\n",
              "      <td>NaN</td>\n",
              "      <td>NaN</td>\n",
              "      <td>NaN</td>\n",
              "      <td>NaN</td>\n",
              "      <td>NaN</td>\n",
              "      <td>NaN</td>\n",
              "      <td>NaN</td>\n",
              "      <td>NaN</td>\n",
              "      <td>NaN</td>\n",
              "      <td>2</td>\n",
              "      <td>5</td>\n",
              "      <td>NaN</td>\n",
              "    </tr>\n",
              "    <tr>\n",
              "      <th>top</th>\n",
              "      <td>NaN</td>\n",
              "      <td>FL</td>\n",
              "      <td>MIAMI DADE COUNTY</td>\n",
              "      <td>NaN</td>\n",
              "      <td>NaN</td>\n",
              "      <td>NaN</td>\n",
              "      <td>NaN</td>\n",
              "      <td>NaN</td>\n",
              "      <td>NaN</td>\n",
              "      <td>NaN</td>\n",
              "      <td>NaN</td>\n",
              "      <td>NaN</td>\n",
              "      <td>NaN</td>\n",
              "      <td>NaN</td>\n",
              "      <td>NaN</td>\n",
              "      <td>Residential</td>\n",
              "      <td>Wood</td>\n",
              "      <td>NaN</td>\n",
              "    </tr>\n",
              "    <tr>\n",
              "      <th>freq</th>\n",
              "      <td>NaN</td>\n",
              "      <td>36634</td>\n",
              "      <td>4315</td>\n",
              "      <td>NaN</td>\n",
              "      <td>NaN</td>\n",
              "      <td>NaN</td>\n",
              "      <td>NaN</td>\n",
              "      <td>NaN</td>\n",
              "      <td>NaN</td>\n",
              "      <td>NaN</td>\n",
              "      <td>NaN</td>\n",
              "      <td>NaN</td>\n",
              "      <td>NaN</td>\n",
              "      <td>NaN</td>\n",
              "      <td>NaN</td>\n",
              "      <td>30838</td>\n",
              "      <td>21581</td>\n",
              "      <td>NaN</td>\n",
              "    </tr>\n",
              "    <tr>\n",
              "      <th>mean</th>\n",
              "      <td>548661.937189</td>\n",
              "      <td>NaN</td>\n",
              "      <td>NaN</td>\n",
              "      <td>7.314780e+05</td>\n",
              "      <td>2.074348e+06</td>\n",
              "      <td>6.646009e+05</td>\n",
              "      <td>9.911724e+05</td>\n",
              "      <td>2.172875e+06</td>\n",
              "      <td>2.571004e+06</td>\n",
              "      <td>7.787908e+02</td>\n",
              "      <td>7.037985e+03</td>\n",
              "      <td>192.453210</td>\n",
              "      <td>26.483594</td>\n",
              "      <td>28.087477</td>\n",
              "      <td>-81.903565</td>\n",
              "      <td>NaN</td>\n",
              "      <td>NaN</td>\n",
              "      <td>1.640907</td>\n",
              "    </tr>\n",
              "    <tr>\n",
              "      <th>std</th>\n",
              "      <td>259912.926494</td>\n",
              "      <td>NaN</td>\n",
              "      <td>NaN</td>\n",
              "      <td>1.752300e+07</td>\n",
              "      <td>1.964150e+07</td>\n",
              "      <td>1.746114e+07</td>\n",
              "      <td>1.767178e+07</td>\n",
              "      <td>2.015015e+07</td>\n",
              "      <td>2.036777e+07</td>\n",
              "      <td>4.787979e+04</td>\n",
              "      <td>9.582593e+04</td>\n",
              "      <td>8037.713716</td>\n",
              "      <td>4702.740932</td>\n",
              "      <td>1.647734</td>\n",
              "      <td>1.809066</td>\n",
              "      <td>NaN</td>\n",
              "      <td>NaN</td>\n",
              "      <td>1.070561</td>\n",
              "    </tr>\n",
              "    <tr>\n",
              "      <th>min</th>\n",
              "      <td>100074.000000</td>\n",
              "      <td>NaN</td>\n",
              "      <td>NaN</td>\n",
              "      <td>0.000000e+00</td>\n",
              "      <td>0.000000e+00</td>\n",
              "      <td>0.000000e+00</td>\n",
              "      <td>0.000000e+00</td>\n",
              "      <td>9.000000e+01</td>\n",
              "      <td>7.337000e+01</td>\n",
              "      <td>0.000000e+00</td>\n",
              "      <td>0.000000e+00</td>\n",
              "      <td>0.000000</td>\n",
              "      <td>0.000000</td>\n",
              "      <td>24.547514</td>\n",
              "      <td>-87.447290</td>\n",
              "      <td>NaN</td>\n",
              "      <td>NaN</td>\n",
              "      <td>1.000000</td>\n",
              "    </tr>\n",
              "    <tr>\n",
              "      <th>25%</th>\n",
              "      <td>323647.750000</td>\n",
              "      <td>NaN</td>\n",
              "      <td>NaN</td>\n",
              "      <td>0.000000e+00</td>\n",
              "      <td>4.248106e+04</td>\n",
              "      <td>0.000000e+00</td>\n",
              "      <td>0.000000e+00</td>\n",
              "      <td>4.562415e+04</td>\n",
              "      <td>5.401351e+04</td>\n",
              "      <td>0.000000e+00</td>\n",
              "      <td>0.000000e+00</td>\n",
              "      <td>0.000000</td>\n",
              "      <td>0.000000</td>\n",
              "      <td>26.471996</td>\n",
              "      <td>-82.439331</td>\n",
              "      <td>NaN</td>\n",
              "      <td>NaN</td>\n",
              "      <td>1.000000</td>\n",
              "    </tr>\n",
              "    <tr>\n",
              "      <th>50%</th>\n",
              "      <td>548525.000000</td>\n",
              "      <td>NaN</td>\n",
              "      <td>NaN</td>\n",
              "      <td>0.000000e+00</td>\n",
              "      <td>1.926911e+05</td>\n",
              "      <td>0.000000e+00</td>\n",
              "      <td>0.000000e+00</td>\n",
              "      <td>2.021051e+05</td>\n",
              "      <td>2.416310e+05</td>\n",
              "      <td>0.000000e+00</td>\n",
              "      <td>0.000000e+00</td>\n",
              "      <td>0.000000</td>\n",
              "      <td>0.000000</td>\n",
              "      <td>28.057077</td>\n",
              "      <td>-81.585700</td>\n",
              "      <td>NaN</td>\n",
              "      <td>NaN</td>\n",
              "      <td>1.000000</td>\n",
              "    </tr>\n",
              "    <tr>\n",
              "      <th>75%</th>\n",
              "      <td>774252.000000</td>\n",
              "      <td>NaN</td>\n",
              "      <td>NaN</td>\n",
              "      <td>0.000000e+00</td>\n",
              "      <td>9.163381e+05</td>\n",
              "      <td>0.000000e+00</td>\n",
              "      <td>5.741010e+04</td>\n",
              "      <td>9.465821e+05</td>\n",
              "      <td>1.128871e+06</td>\n",
              "      <td>0.000000e+00</td>\n",
              "      <td>0.000000e+00</td>\n",
              "      <td>0.000000</td>\n",
              "      <td>0.000000</td>\n",
              "      <td>29.623005</td>\n",
              "      <td>-80.372910</td>\n",
              "      <td>NaN</td>\n",
              "      <td>NaN</td>\n",
              "      <td>3.000000</td>\n",
              "    </tr>\n",
              "    <tr>\n",
              "      <th>max</th>\n",
              "      <td>999971.000000</td>\n",
              "      <td>NaN</td>\n",
              "      <td>NaN</td>\n",
              "      <td>2.160000e+09</td>\n",
              "      <td>2.160000e+09</td>\n",
              "      <td>2.160000e+09</td>\n",
              "      <td>2.160000e+09</td>\n",
              "      <td>2.160000e+09</td>\n",
              "      <td>1.701000e+09</td>\n",
              "      <td>6.273765e+06</td>\n",
              "      <td>7.380000e+06</td>\n",
              "      <td>450000.000000</td>\n",
              "      <td>900000.000000</td>\n",
              "      <td>30.989820</td>\n",
              "      <td>-80.033257</td>\n",
              "      <td>NaN</td>\n",
              "      <td>NaN</td>\n",
              "      <td>7.000000</td>\n",
              "    </tr>\n",
              "  </tbody>\n",
              "</table>\n",
              "</div>"
            ],
            "text/plain": [
              "             policyID statecode  ... construction  point_granularity\n",
              "count    36634.000000     36634  ...        36634       36634.000000\n",
              "unique            NaN         1  ...            5                NaN\n",
              "top               NaN        FL  ...         Wood                NaN\n",
              "freq              NaN     36634  ...        21581                NaN\n",
              "mean    548661.937189       NaN  ...          NaN           1.640907\n",
              "std     259912.926494       NaN  ...          NaN           1.070561\n",
              "min     100074.000000       NaN  ...          NaN           1.000000\n",
              "25%     323647.750000       NaN  ...          NaN           1.000000\n",
              "50%     548525.000000       NaN  ...          NaN           1.000000\n",
              "75%     774252.000000       NaN  ...          NaN           3.000000\n",
              "max     999971.000000       NaN  ...          NaN           7.000000\n",
              "\n",
              "[11 rows x 18 columns]"
            ]
          },
          "metadata": {
            "tags": []
          },
          "execution_count": 54
        }
      ]
    },
    {
      "cell_type": "code",
      "metadata": {
        "id": "C64rfNnFJlbk",
        "colab_type": "code",
        "colab": {
          "base_uri": "https://localhost:8080/",
          "height": 121
        },
        "outputId": "0d6cab3a-5a13-442f-a6ce-dae291d1d3e6"
      },
      "source": [
        "data.columns"
      ],
      "execution_count": 55,
      "outputs": [
        {
          "output_type": "execute_result",
          "data": {
            "text/plain": [
              "Index(['policyID', 'statecode', 'county', 'eq_site_limit', 'hu_site_limit',\n",
              "       'fl_site_limit', 'fr_site_limit', 'tiv_2011', 'tiv_2012',\n",
              "       'eq_site_deductible', 'hu_site_deductible', 'fl_site_deductible',\n",
              "       'fr_site_deductible', 'point_latitude', 'point_longitude', 'line',\n",
              "       'construction', 'point_granularity'],\n",
              "      dtype='object')"
            ]
          },
          "metadata": {
            "tags": []
          },
          "execution_count": 55
        }
      ]
    },
    {
      "cell_type": "markdown",
      "metadata": {
        "id": "jSbvw_hsJ3YK",
        "colab_type": "text"
      },
      "source": [
        "Slicing, subsetting, Boolean Indexing\n",
        "\n",
        "- postion based (iloc)\n",
        "  -    rows --> 0 to 36633\n",
        "  -    columns --> 0 to 17\n",
        "- label based indexing(loc)\n",
        "  -    rows --> 0 to 36633\n",
        "  -    columns --> ['policyID', 'statecode', 'county', 'eq_site_limit', 'hu_site_limit', 'fl_site_limit', 'fr_site_limit', 'tiv_2011', 'tiv_2012', 'eq_site_deductible', 'hu_site_deductible', 'fl_site_deductible', 'fr_site_deductible', 'point_latitude', 'point_longitude', 'line', 'construction', 'point_granularity']"
      ]
    },
    {
      "cell_type": "code",
      "metadata": {
        "id": "CPVREUwfJlZL",
        "colab_type": "code",
        "colab": {
          "base_uri": "https://localhost:8080/",
          "height": 347
        },
        "outputId": "1592edbf-fa17-473a-9622-96b4d15415b1"
      },
      "source": [
        "data.iloc[1,:] # row with index 1 and all the columns"
      ],
      "execution_count": 56,
      "outputs": [
        {
          "output_type": "execute_result",
          "data": {
            "text/plain": [
              "policyID                   448094\n",
              "statecode                      FL\n",
              "county                CLAY COUNTY\n",
              "eq_site_limit         1.32238e+06\n",
              "hu_site_limit         1.32238e+06\n",
              "fl_site_limit         1.32238e+06\n",
              "fr_site_limit         1.32238e+06\n",
              "tiv_2011              1.32238e+06\n",
              "tiv_2012              1.43816e+06\n",
              "eq_site_deductible              0\n",
              "hu_site_deductible              0\n",
              "fl_site_deductible              0\n",
              "fr_site_deductible              0\n",
              "point_latitude            30.0639\n",
              "point_longitude          -81.7077\n",
              "line                  Residential\n",
              "construction              Masonry\n",
              "point_granularity               3\n",
              "Name: 1, dtype: object"
            ]
          },
          "metadata": {
            "tags": []
          },
          "execution_count": 56
        }
      ]
    },
    {
      "cell_type": "code",
      "metadata": {
        "id": "IRIw90PkJlWZ",
        "colab_type": "code",
        "colab": {
          "base_uri": "https://localhost:8080/",
          "height": 347
        },
        "outputId": "74a12697-be25-4cfd-efb1-561a6c597ec9"
      },
      "source": [
        "data.loc[1,:]"
      ],
      "execution_count": 57,
      "outputs": [
        {
          "output_type": "execute_result",
          "data": {
            "text/plain": [
              "policyID                   448094\n",
              "statecode                      FL\n",
              "county                CLAY COUNTY\n",
              "eq_site_limit         1.32238e+06\n",
              "hu_site_limit         1.32238e+06\n",
              "fl_site_limit         1.32238e+06\n",
              "fr_site_limit         1.32238e+06\n",
              "tiv_2011              1.32238e+06\n",
              "tiv_2012              1.43816e+06\n",
              "eq_site_deductible              0\n",
              "hu_site_deductible              0\n",
              "fl_site_deductible              0\n",
              "fr_site_deductible              0\n",
              "point_latitude            30.0639\n",
              "point_longitude          -81.7077\n",
              "line                  Residential\n",
              "construction              Masonry\n",
              "point_granularity               3\n",
              "Name: 1, dtype: object"
            ]
          },
          "metadata": {
            "tags": []
          },
          "execution_count": 57
        }
      ]
    },
    {
      "cell_type": "code",
      "metadata": {
        "id": "jNnUWj0WJlTu",
        "colab_type": "code",
        "colab": {
          "base_uri": "https://localhost:8080/",
          "height": 35
        },
        "outputId": "0326c091-2c32-4e65-a944-b65b3c89e36d"
      },
      "source": [
        "data.iloc[1,1] # row with index 1and column with index 1"
      ],
      "execution_count": 58,
      "outputs": [
        {
          "output_type": "execute_result",
          "data": {
            "text/plain": [
              "'FL'"
            ]
          },
          "metadata": {
            "tags": []
          },
          "execution_count": 58
        }
      ]
    },
    {
      "cell_type": "code",
      "metadata": {
        "id": "qmicPnyeJlQs",
        "colab_type": "code",
        "colab": {
          "base_uri": "https://localhost:8080/",
          "height": 35
        },
        "outputId": "dac29c34-55f1-438b-d7ec-cef43a0b9f16"
      },
      "source": [
        "data.loc[1,\"statecode\"]"
      ],
      "execution_count": 59,
      "outputs": [
        {
          "output_type": "execute_result",
          "data": {
            "text/plain": [
              "'FL'"
            ]
          },
          "metadata": {
            "tags": []
          },
          "execution_count": 59
        }
      ]
    },
    {
      "cell_type": "code",
      "metadata": {
        "id": "RYnI03mrLJzA",
        "colab_type": "code",
        "colab": {
          "base_uri": "https://localhost:8080/",
          "height": 69
        },
        "outputId": "9f288b40-8df1-4e90-aef6-21e463855e06"
      },
      "source": [
        "data.iloc[1,1:3] # row with index 1 and columns with index 1,2\n",
        "# iloc stop index is exclusive"
      ],
      "execution_count": 60,
      "outputs": [
        {
          "output_type": "execute_result",
          "data": {
            "text/plain": [
              "statecode             FL\n",
              "county       CLAY COUNTY\n",
              "Name: 1, dtype: object"
            ]
          },
          "metadata": {
            "tags": []
          },
          "execution_count": 60
        }
      ]
    },
    {
      "cell_type": "code",
      "metadata": {
        "id": "AUGitM5OLKLG",
        "colab_type": "code",
        "colab": {
          "base_uri": "https://localhost:8080/",
          "height": 69
        },
        "outputId": "ac40d01b-6c88-4b69-c833-0da06b440198"
      },
      "source": [
        "data.loc[1,\"statecode\":\"county\"] \n",
        "# loc - the stop label also inclusive"
      ],
      "execution_count": 61,
      "outputs": [
        {
          "output_type": "execute_result",
          "data": {
            "text/plain": [
              "statecode             FL\n",
              "county       CLAY COUNTY\n",
              "Name: 1, dtype: object"
            ]
          },
          "metadata": {
            "tags": []
          },
          "execution_count": 61
        }
      ]
    },
    {
      "cell_type": "code",
      "metadata": {
        "id": "foa_kEicLKca",
        "colab_type": "code",
        "colab": {
          "base_uri": "https://localhost:8080/",
          "height": 141
        },
        "outputId": "e8829628-27cd-446d-cf9c-945e0d3f4c37"
      },
      "source": [
        "data.iloc[1:4,1:3] \n",
        "# rows with indices 1,2,3\n",
        "# columns with indices 1,2"
      ],
      "execution_count": 62,
      "outputs": [
        {
          "output_type": "execute_result",
          "data": {
            "text/html": [
              "<div>\n",
              "<style scoped>\n",
              "    .dataframe tbody tr th:only-of-type {\n",
              "        vertical-align: middle;\n",
              "    }\n",
              "\n",
              "    .dataframe tbody tr th {\n",
              "        vertical-align: top;\n",
              "    }\n",
              "\n",
              "    .dataframe thead th {\n",
              "        text-align: right;\n",
              "    }\n",
              "</style>\n",
              "<table border=\"1\" class=\"dataframe\">\n",
              "  <thead>\n",
              "    <tr style=\"text-align: right;\">\n",
              "      <th></th>\n",
              "      <th>statecode</th>\n",
              "      <th>county</th>\n",
              "    </tr>\n",
              "  </thead>\n",
              "  <tbody>\n",
              "    <tr>\n",
              "      <th>1</th>\n",
              "      <td>FL</td>\n",
              "      <td>CLAY COUNTY</td>\n",
              "    </tr>\n",
              "    <tr>\n",
              "      <th>2</th>\n",
              "      <td>FL</td>\n",
              "      <td>CLAY COUNTY</td>\n",
              "    </tr>\n",
              "    <tr>\n",
              "      <th>3</th>\n",
              "      <td>FL</td>\n",
              "      <td>CLAY COUNTY</td>\n",
              "    </tr>\n",
              "  </tbody>\n",
              "</table>\n",
              "</div>"
            ],
            "text/plain": [
              "  statecode       county\n",
              "1        FL  CLAY COUNTY\n",
              "2        FL  CLAY COUNTY\n",
              "3        FL  CLAY COUNTY"
            ]
          },
          "metadata": {
            "tags": []
          },
          "execution_count": 62
        }
      ]
    },
    {
      "cell_type": "code",
      "metadata": {
        "id": "0IOPdPwmLKv0",
        "colab_type": "code",
        "colab": {
          "base_uri": "https://localhost:8080/",
          "height": 141
        },
        "outputId": "eeed4df1-227f-43c2-d742-0d65b9182229"
      },
      "source": [
        "data.loc[1:3,\"statecode\":\"county\"]"
      ],
      "execution_count": 63,
      "outputs": [
        {
          "output_type": "execute_result",
          "data": {
            "text/html": [
              "<div>\n",
              "<style scoped>\n",
              "    .dataframe tbody tr th:only-of-type {\n",
              "        vertical-align: middle;\n",
              "    }\n",
              "\n",
              "    .dataframe tbody tr th {\n",
              "        vertical-align: top;\n",
              "    }\n",
              "\n",
              "    .dataframe thead th {\n",
              "        text-align: right;\n",
              "    }\n",
              "</style>\n",
              "<table border=\"1\" class=\"dataframe\">\n",
              "  <thead>\n",
              "    <tr style=\"text-align: right;\">\n",
              "      <th></th>\n",
              "      <th>statecode</th>\n",
              "      <th>county</th>\n",
              "    </tr>\n",
              "  </thead>\n",
              "  <tbody>\n",
              "    <tr>\n",
              "      <th>1</th>\n",
              "      <td>FL</td>\n",
              "      <td>CLAY COUNTY</td>\n",
              "    </tr>\n",
              "    <tr>\n",
              "      <th>2</th>\n",
              "      <td>FL</td>\n",
              "      <td>CLAY COUNTY</td>\n",
              "    </tr>\n",
              "    <tr>\n",
              "      <th>3</th>\n",
              "      <td>FL</td>\n",
              "      <td>CLAY COUNTY</td>\n",
              "    </tr>\n",
              "  </tbody>\n",
              "</table>\n",
              "</div>"
            ],
            "text/plain": [
              "  statecode       county\n",
              "1        FL  CLAY COUNTY\n",
              "2        FL  CLAY COUNTY\n",
              "3        FL  CLAY COUNTY"
            ]
          },
          "metadata": {
            "tags": []
          },
          "execution_count": 63
        }
      ]
    },
    {
      "cell_type": "code",
      "metadata": {
        "id": "JsaBnXlZLLDc",
        "colab_type": "code",
        "colab": {
          "base_uri": "https://localhost:8080/",
          "height": 35
        },
        "outputId": "ba8dcd09-35c9-4f39-f027-2e7265ab2672"
      },
      "source": [
        "data.policyID.nunique()"
      ],
      "execution_count": 64,
      "outputs": [
        {
          "output_type": "execute_result",
          "data": {
            "text/plain": [
              "36634"
            ]
          },
          "metadata": {
            "tags": []
          },
          "execution_count": 64
        }
      ]
    },
    {
      "cell_type": "code",
      "metadata": {
        "id": "0ltowoxqLqU7",
        "colab_type": "code",
        "colab": {
          "base_uri": "https://localhost:8080/",
          "height": 639
        },
        "outputId": "160cf78e-5d55-4dae-bb27-c3cf9c46dafd"
      },
      "source": [
        "data.set_index(\"policyID\")"
      ],
      "execution_count": 65,
      "outputs": [
        {
          "output_type": "execute_result",
          "data": {
            "text/html": [
              "<div>\n",
              "<style scoped>\n",
              "    .dataframe tbody tr th:only-of-type {\n",
              "        vertical-align: middle;\n",
              "    }\n",
              "\n",
              "    .dataframe tbody tr th {\n",
              "        vertical-align: top;\n",
              "    }\n",
              "\n",
              "    .dataframe thead th {\n",
              "        text-align: right;\n",
              "    }\n",
              "</style>\n",
              "<table border=\"1\" class=\"dataframe\">\n",
              "  <thead>\n",
              "    <tr style=\"text-align: right;\">\n",
              "      <th></th>\n",
              "      <th>statecode</th>\n",
              "      <th>county</th>\n",
              "      <th>eq_site_limit</th>\n",
              "      <th>hu_site_limit</th>\n",
              "      <th>fl_site_limit</th>\n",
              "      <th>fr_site_limit</th>\n",
              "      <th>tiv_2011</th>\n",
              "      <th>tiv_2012</th>\n",
              "      <th>eq_site_deductible</th>\n",
              "      <th>hu_site_deductible</th>\n",
              "      <th>fl_site_deductible</th>\n",
              "      <th>fr_site_deductible</th>\n",
              "      <th>point_latitude</th>\n",
              "      <th>point_longitude</th>\n",
              "      <th>line</th>\n",
              "      <th>construction</th>\n",
              "      <th>point_granularity</th>\n",
              "    </tr>\n",
              "    <tr>\n",
              "      <th>policyID</th>\n",
              "      <th></th>\n",
              "      <th></th>\n",
              "      <th></th>\n",
              "      <th></th>\n",
              "      <th></th>\n",
              "      <th></th>\n",
              "      <th></th>\n",
              "      <th></th>\n",
              "      <th></th>\n",
              "      <th></th>\n",
              "      <th></th>\n",
              "      <th></th>\n",
              "      <th></th>\n",
              "      <th></th>\n",
              "      <th></th>\n",
              "      <th></th>\n",
              "      <th></th>\n",
              "    </tr>\n",
              "  </thead>\n",
              "  <tbody>\n",
              "    <tr>\n",
              "      <th>119736</th>\n",
              "      <td>FL</td>\n",
              "      <td>CLAY COUNTY</td>\n",
              "      <td>498960.0</td>\n",
              "      <td>498960.00</td>\n",
              "      <td>498960.0</td>\n",
              "      <td>498960.0</td>\n",
              "      <td>498960.00</td>\n",
              "      <td>792148.90</td>\n",
              "      <td>0.0</td>\n",
              "      <td>9979.2</td>\n",
              "      <td>0.0</td>\n",
              "      <td>0</td>\n",
              "      <td>30.102261</td>\n",
              "      <td>-81.711777</td>\n",
              "      <td>Residential</td>\n",
              "      <td>Masonry</td>\n",
              "      <td>1</td>\n",
              "    </tr>\n",
              "    <tr>\n",
              "      <th>448094</th>\n",
              "      <td>FL</td>\n",
              "      <td>CLAY COUNTY</td>\n",
              "      <td>1322376.3</td>\n",
              "      <td>1322376.30</td>\n",
              "      <td>1322376.3</td>\n",
              "      <td>1322376.3</td>\n",
              "      <td>1322376.30</td>\n",
              "      <td>1438163.57</td>\n",
              "      <td>0.0</td>\n",
              "      <td>0.0</td>\n",
              "      <td>0.0</td>\n",
              "      <td>0</td>\n",
              "      <td>30.063936</td>\n",
              "      <td>-81.707664</td>\n",
              "      <td>Residential</td>\n",
              "      <td>Masonry</td>\n",
              "      <td>3</td>\n",
              "    </tr>\n",
              "    <tr>\n",
              "      <th>206893</th>\n",
              "      <td>FL</td>\n",
              "      <td>CLAY COUNTY</td>\n",
              "      <td>190724.4</td>\n",
              "      <td>190724.40</td>\n",
              "      <td>190724.4</td>\n",
              "      <td>190724.4</td>\n",
              "      <td>190724.40</td>\n",
              "      <td>192476.78</td>\n",
              "      <td>0.0</td>\n",
              "      <td>0.0</td>\n",
              "      <td>0.0</td>\n",
              "      <td>0</td>\n",
              "      <td>30.089579</td>\n",
              "      <td>-81.700455</td>\n",
              "      <td>Residential</td>\n",
              "      <td>Wood</td>\n",
              "      <td>1</td>\n",
              "    </tr>\n",
              "    <tr>\n",
              "      <th>333743</th>\n",
              "      <td>FL</td>\n",
              "      <td>CLAY COUNTY</td>\n",
              "      <td>0.0</td>\n",
              "      <td>79520.76</td>\n",
              "      <td>0.0</td>\n",
              "      <td>0.0</td>\n",
              "      <td>79520.76</td>\n",
              "      <td>86854.48</td>\n",
              "      <td>0.0</td>\n",
              "      <td>0.0</td>\n",
              "      <td>0.0</td>\n",
              "      <td>0</td>\n",
              "      <td>30.063236</td>\n",
              "      <td>-81.707703</td>\n",
              "      <td>Residential</td>\n",
              "      <td>Wood</td>\n",
              "      <td>3</td>\n",
              "    </tr>\n",
              "    <tr>\n",
              "      <th>172534</th>\n",
              "      <td>FL</td>\n",
              "      <td>CLAY COUNTY</td>\n",
              "      <td>0.0</td>\n",
              "      <td>254281.50</td>\n",
              "      <td>0.0</td>\n",
              "      <td>254281.5</td>\n",
              "      <td>254281.50</td>\n",
              "      <td>246144.49</td>\n",
              "      <td>0.0</td>\n",
              "      <td>0.0</td>\n",
              "      <td>0.0</td>\n",
              "      <td>0</td>\n",
              "      <td>30.060614</td>\n",
              "      <td>-81.702675</td>\n",
              "      <td>Residential</td>\n",
              "      <td>Wood</td>\n",
              "      <td>1</td>\n",
              "    </tr>\n",
              "    <tr>\n",
              "      <th>...</th>\n",
              "      <td>...</td>\n",
              "      <td>...</td>\n",
              "      <td>...</td>\n",
              "      <td>...</td>\n",
              "      <td>...</td>\n",
              "      <td>...</td>\n",
              "      <td>...</td>\n",
              "      <td>...</td>\n",
              "      <td>...</td>\n",
              "      <td>...</td>\n",
              "      <td>...</td>\n",
              "      <td>...</td>\n",
              "      <td>...</td>\n",
              "      <td>...</td>\n",
              "      <td>...</td>\n",
              "      <td>...</td>\n",
              "      <td>...</td>\n",
              "    </tr>\n",
              "    <tr>\n",
              "      <th>404309</th>\n",
              "      <td>FL</td>\n",
              "      <td>PINELLAS COUNTY</td>\n",
              "      <td>0.0</td>\n",
              "      <td>88722.00</td>\n",
              "      <td>0.0</td>\n",
              "      <td>88722.0</td>\n",
              "      <td>88722.00</td>\n",
              "      <td>155065.65</td>\n",
              "      <td>0.0</td>\n",
              "      <td>0.0</td>\n",
              "      <td>0.0</td>\n",
              "      <td>0</td>\n",
              "      <td>28.122885</td>\n",
              "      <td>-82.770218</td>\n",
              "      <td>Residential</td>\n",
              "      <td>Wood</td>\n",
              "      <td>3</td>\n",
              "    </tr>\n",
              "    <tr>\n",
              "      <th>465875</th>\n",
              "      <td>FL</td>\n",
              "      <td>PINELLAS COUNTY</td>\n",
              "      <td>1297057.5</td>\n",
              "      <td>1297057.50</td>\n",
              "      <td>1297057.5</td>\n",
              "      <td>1297057.5</td>\n",
              "      <td>1297057.50</td>\n",
              "      <td>1577500.79</td>\n",
              "      <td>0.0</td>\n",
              "      <td>0.0</td>\n",
              "      <td>0.0</td>\n",
              "      <td>0</td>\n",
              "      <td>28.080900</td>\n",
              "      <td>-82.758800</td>\n",
              "      <td>Residential</td>\n",
              "      <td>Masonry</td>\n",
              "      <td>1</td>\n",
              "    </tr>\n",
              "    <tr>\n",
              "      <th>791209</th>\n",
              "      <td>FL</td>\n",
              "      <td>PINELLAS COUNTY</td>\n",
              "      <td>173286.9</td>\n",
              "      <td>173286.90</td>\n",
              "      <td>0.0</td>\n",
              "      <td>0.0</td>\n",
              "      <td>173286.90</td>\n",
              "      <td>205527.97</td>\n",
              "      <td>0.0</td>\n",
              "      <td>0.0</td>\n",
              "      <td>0.0</td>\n",
              "      <td>0</td>\n",
              "      <td>28.110550</td>\n",
              "      <td>-82.766360</td>\n",
              "      <td>Residential</td>\n",
              "      <td>Wood</td>\n",
              "      <td>4</td>\n",
              "    </tr>\n",
              "    <tr>\n",
              "      <th>322627</th>\n",
              "      <td>FL</td>\n",
              "      <td>PINELLAS COUNTY</td>\n",
              "      <td>1499781.6</td>\n",
              "      <td>1499781.60</td>\n",
              "      <td>0.0</td>\n",
              "      <td>0.0</td>\n",
              "      <td>1499781.60</td>\n",
              "      <td>1768782.43</td>\n",
              "      <td>0.0</td>\n",
              "      <td>0.0</td>\n",
              "      <td>0.0</td>\n",
              "      <td>0</td>\n",
              "      <td>28.089415</td>\n",
              "      <td>-82.697411</td>\n",
              "      <td>Residential</td>\n",
              "      <td>Masonry</td>\n",
              "      <td>3</td>\n",
              "    </tr>\n",
              "    <tr>\n",
              "      <th>398149</th>\n",
              "      <td>FL</td>\n",
              "      <td>PINELLAS COUNTY</td>\n",
              "      <td>373488.3</td>\n",
              "      <td>373488.30</td>\n",
              "      <td>0.0</td>\n",
              "      <td>0.0</td>\n",
              "      <td>373488.30</td>\n",
              "      <td>596003.67</td>\n",
              "      <td>0.0</td>\n",
              "      <td>0.0</td>\n",
              "      <td>0.0</td>\n",
              "      <td>0</td>\n",
              "      <td>28.064440</td>\n",
              "      <td>-82.774590</td>\n",
              "      <td>Residential</td>\n",
              "      <td>Masonry</td>\n",
              "      <td>1</td>\n",
              "    </tr>\n",
              "  </tbody>\n",
              "</table>\n",
              "<p>36634 rows × 17 columns</p>\n",
              "</div>"
            ],
            "text/plain": [
              "         statecode           county  ...  construction  point_granularity\n",
              "policyID                             ...                                 \n",
              "119736          FL      CLAY COUNTY  ...       Masonry                  1\n",
              "448094          FL      CLAY COUNTY  ...       Masonry                  3\n",
              "206893          FL      CLAY COUNTY  ...          Wood                  1\n",
              "333743          FL      CLAY COUNTY  ...          Wood                  3\n",
              "172534          FL      CLAY COUNTY  ...          Wood                  1\n",
              "...            ...              ...  ...           ...                ...\n",
              "404309          FL  PINELLAS COUNTY  ...          Wood                  3\n",
              "465875          FL  PINELLAS COUNTY  ...       Masonry                  1\n",
              "791209          FL  PINELLAS COUNTY  ...          Wood                  4\n",
              "322627          FL  PINELLAS COUNTY  ...       Masonry                  3\n",
              "398149          FL  PINELLAS COUNTY  ...       Masonry                  1\n",
              "\n",
              "[36634 rows x 17 columns]"
            ]
          },
          "metadata": {
            "tags": []
          },
          "execution_count": 65
        }
      ]
    },
    {
      "cell_type": "code",
      "metadata": {
        "id": "0sNXigxKLq4U",
        "colab_type": "code",
        "colab": {
          "base_uri": "https://localhost:8080/",
          "height": 609
        },
        "outputId": "1626d45c-c5f9-4f75-ec08-71213fa846d2"
      },
      "source": [
        "data"
      ],
      "execution_count": 66,
      "outputs": [
        {
          "output_type": "execute_result",
          "data": {
            "text/html": [
              "<div>\n",
              "<style scoped>\n",
              "    .dataframe tbody tr th:only-of-type {\n",
              "        vertical-align: middle;\n",
              "    }\n",
              "\n",
              "    .dataframe tbody tr th {\n",
              "        vertical-align: top;\n",
              "    }\n",
              "\n",
              "    .dataframe thead th {\n",
              "        text-align: right;\n",
              "    }\n",
              "</style>\n",
              "<table border=\"1\" class=\"dataframe\">\n",
              "  <thead>\n",
              "    <tr style=\"text-align: right;\">\n",
              "      <th></th>\n",
              "      <th>policyID</th>\n",
              "      <th>statecode</th>\n",
              "      <th>county</th>\n",
              "      <th>eq_site_limit</th>\n",
              "      <th>hu_site_limit</th>\n",
              "      <th>fl_site_limit</th>\n",
              "      <th>fr_site_limit</th>\n",
              "      <th>tiv_2011</th>\n",
              "      <th>tiv_2012</th>\n",
              "      <th>eq_site_deductible</th>\n",
              "      <th>hu_site_deductible</th>\n",
              "      <th>fl_site_deductible</th>\n",
              "      <th>fr_site_deductible</th>\n",
              "      <th>point_latitude</th>\n",
              "      <th>point_longitude</th>\n",
              "      <th>line</th>\n",
              "      <th>construction</th>\n",
              "      <th>point_granularity</th>\n",
              "    </tr>\n",
              "  </thead>\n",
              "  <tbody>\n",
              "    <tr>\n",
              "      <th>0</th>\n",
              "      <td>119736</td>\n",
              "      <td>FL</td>\n",
              "      <td>CLAY COUNTY</td>\n",
              "      <td>498960.0</td>\n",
              "      <td>498960.00</td>\n",
              "      <td>498960.0</td>\n",
              "      <td>498960.0</td>\n",
              "      <td>498960.00</td>\n",
              "      <td>792148.90</td>\n",
              "      <td>0.0</td>\n",
              "      <td>9979.2</td>\n",
              "      <td>0.0</td>\n",
              "      <td>0</td>\n",
              "      <td>30.102261</td>\n",
              "      <td>-81.711777</td>\n",
              "      <td>Residential</td>\n",
              "      <td>Masonry</td>\n",
              "      <td>1</td>\n",
              "    </tr>\n",
              "    <tr>\n",
              "      <th>1</th>\n",
              "      <td>448094</td>\n",
              "      <td>FL</td>\n",
              "      <td>CLAY COUNTY</td>\n",
              "      <td>1322376.3</td>\n",
              "      <td>1322376.30</td>\n",
              "      <td>1322376.3</td>\n",
              "      <td>1322376.3</td>\n",
              "      <td>1322376.30</td>\n",
              "      <td>1438163.57</td>\n",
              "      <td>0.0</td>\n",
              "      <td>0.0</td>\n",
              "      <td>0.0</td>\n",
              "      <td>0</td>\n",
              "      <td>30.063936</td>\n",
              "      <td>-81.707664</td>\n",
              "      <td>Residential</td>\n",
              "      <td>Masonry</td>\n",
              "      <td>3</td>\n",
              "    </tr>\n",
              "    <tr>\n",
              "      <th>2</th>\n",
              "      <td>206893</td>\n",
              "      <td>FL</td>\n",
              "      <td>CLAY COUNTY</td>\n",
              "      <td>190724.4</td>\n",
              "      <td>190724.40</td>\n",
              "      <td>190724.4</td>\n",
              "      <td>190724.4</td>\n",
              "      <td>190724.40</td>\n",
              "      <td>192476.78</td>\n",
              "      <td>0.0</td>\n",
              "      <td>0.0</td>\n",
              "      <td>0.0</td>\n",
              "      <td>0</td>\n",
              "      <td>30.089579</td>\n",
              "      <td>-81.700455</td>\n",
              "      <td>Residential</td>\n",
              "      <td>Wood</td>\n",
              "      <td>1</td>\n",
              "    </tr>\n",
              "    <tr>\n",
              "      <th>3</th>\n",
              "      <td>333743</td>\n",
              "      <td>FL</td>\n",
              "      <td>CLAY COUNTY</td>\n",
              "      <td>0.0</td>\n",
              "      <td>79520.76</td>\n",
              "      <td>0.0</td>\n",
              "      <td>0.0</td>\n",
              "      <td>79520.76</td>\n",
              "      <td>86854.48</td>\n",
              "      <td>0.0</td>\n",
              "      <td>0.0</td>\n",
              "      <td>0.0</td>\n",
              "      <td>0</td>\n",
              "      <td>30.063236</td>\n",
              "      <td>-81.707703</td>\n",
              "      <td>Residential</td>\n",
              "      <td>Wood</td>\n",
              "      <td>3</td>\n",
              "    </tr>\n",
              "    <tr>\n",
              "      <th>4</th>\n",
              "      <td>172534</td>\n",
              "      <td>FL</td>\n",
              "      <td>CLAY COUNTY</td>\n",
              "      <td>0.0</td>\n",
              "      <td>254281.50</td>\n",
              "      <td>0.0</td>\n",
              "      <td>254281.5</td>\n",
              "      <td>254281.50</td>\n",
              "      <td>246144.49</td>\n",
              "      <td>0.0</td>\n",
              "      <td>0.0</td>\n",
              "      <td>0.0</td>\n",
              "      <td>0</td>\n",
              "      <td>30.060614</td>\n",
              "      <td>-81.702675</td>\n",
              "      <td>Residential</td>\n",
              "      <td>Wood</td>\n",
              "      <td>1</td>\n",
              "    </tr>\n",
              "    <tr>\n",
              "      <th>...</th>\n",
              "      <td>...</td>\n",
              "      <td>...</td>\n",
              "      <td>...</td>\n",
              "      <td>...</td>\n",
              "      <td>...</td>\n",
              "      <td>...</td>\n",
              "      <td>...</td>\n",
              "      <td>...</td>\n",
              "      <td>...</td>\n",
              "      <td>...</td>\n",
              "      <td>...</td>\n",
              "      <td>...</td>\n",
              "      <td>...</td>\n",
              "      <td>...</td>\n",
              "      <td>...</td>\n",
              "      <td>...</td>\n",
              "      <td>...</td>\n",
              "      <td>...</td>\n",
              "    </tr>\n",
              "    <tr>\n",
              "      <th>36629</th>\n",
              "      <td>404309</td>\n",
              "      <td>FL</td>\n",
              "      <td>PINELLAS COUNTY</td>\n",
              "      <td>0.0</td>\n",
              "      <td>88722.00</td>\n",
              "      <td>0.0</td>\n",
              "      <td>88722.0</td>\n",
              "      <td>88722.00</td>\n",
              "      <td>155065.65</td>\n",
              "      <td>0.0</td>\n",
              "      <td>0.0</td>\n",
              "      <td>0.0</td>\n",
              "      <td>0</td>\n",
              "      <td>28.122885</td>\n",
              "      <td>-82.770218</td>\n",
              "      <td>Residential</td>\n",
              "      <td>Wood</td>\n",
              "      <td>3</td>\n",
              "    </tr>\n",
              "    <tr>\n",
              "      <th>36630</th>\n",
              "      <td>465875</td>\n",
              "      <td>FL</td>\n",
              "      <td>PINELLAS COUNTY</td>\n",
              "      <td>1297057.5</td>\n",
              "      <td>1297057.50</td>\n",
              "      <td>1297057.5</td>\n",
              "      <td>1297057.5</td>\n",
              "      <td>1297057.50</td>\n",
              "      <td>1577500.79</td>\n",
              "      <td>0.0</td>\n",
              "      <td>0.0</td>\n",
              "      <td>0.0</td>\n",
              "      <td>0</td>\n",
              "      <td>28.080900</td>\n",
              "      <td>-82.758800</td>\n",
              "      <td>Residential</td>\n",
              "      <td>Masonry</td>\n",
              "      <td>1</td>\n",
              "    </tr>\n",
              "    <tr>\n",
              "      <th>36631</th>\n",
              "      <td>791209</td>\n",
              "      <td>FL</td>\n",
              "      <td>PINELLAS COUNTY</td>\n",
              "      <td>173286.9</td>\n",
              "      <td>173286.90</td>\n",
              "      <td>0.0</td>\n",
              "      <td>0.0</td>\n",
              "      <td>173286.90</td>\n",
              "      <td>205527.97</td>\n",
              "      <td>0.0</td>\n",
              "      <td>0.0</td>\n",
              "      <td>0.0</td>\n",
              "      <td>0</td>\n",
              "      <td>28.110550</td>\n",
              "      <td>-82.766360</td>\n",
              "      <td>Residential</td>\n",
              "      <td>Wood</td>\n",
              "      <td>4</td>\n",
              "    </tr>\n",
              "    <tr>\n",
              "      <th>36632</th>\n",
              "      <td>322627</td>\n",
              "      <td>FL</td>\n",
              "      <td>PINELLAS COUNTY</td>\n",
              "      <td>1499781.6</td>\n",
              "      <td>1499781.60</td>\n",
              "      <td>0.0</td>\n",
              "      <td>0.0</td>\n",
              "      <td>1499781.60</td>\n",
              "      <td>1768782.43</td>\n",
              "      <td>0.0</td>\n",
              "      <td>0.0</td>\n",
              "      <td>0.0</td>\n",
              "      <td>0</td>\n",
              "      <td>28.089415</td>\n",
              "      <td>-82.697411</td>\n",
              "      <td>Residential</td>\n",
              "      <td>Masonry</td>\n",
              "      <td>3</td>\n",
              "    </tr>\n",
              "    <tr>\n",
              "      <th>36633</th>\n",
              "      <td>398149</td>\n",
              "      <td>FL</td>\n",
              "      <td>PINELLAS COUNTY</td>\n",
              "      <td>373488.3</td>\n",
              "      <td>373488.30</td>\n",
              "      <td>0.0</td>\n",
              "      <td>0.0</td>\n",
              "      <td>373488.30</td>\n",
              "      <td>596003.67</td>\n",
              "      <td>0.0</td>\n",
              "      <td>0.0</td>\n",
              "      <td>0.0</td>\n",
              "      <td>0</td>\n",
              "      <td>28.064440</td>\n",
              "      <td>-82.774590</td>\n",
              "      <td>Residential</td>\n",
              "      <td>Masonry</td>\n",
              "      <td>1</td>\n",
              "    </tr>\n",
              "  </tbody>\n",
              "</table>\n",
              "<p>36634 rows × 18 columns</p>\n",
              "</div>"
            ],
            "text/plain": [
              "       policyID statecode  ... construction  point_granularity\n",
              "0        119736        FL  ...      Masonry                  1\n",
              "1        448094        FL  ...      Masonry                  3\n",
              "2        206893        FL  ...         Wood                  1\n",
              "3        333743        FL  ...         Wood                  3\n",
              "4        172534        FL  ...         Wood                  1\n",
              "...         ...       ...  ...          ...                ...\n",
              "36629    404309        FL  ...         Wood                  3\n",
              "36630    465875        FL  ...      Masonry                  1\n",
              "36631    791209        FL  ...         Wood                  4\n",
              "36632    322627        FL  ...      Masonry                  3\n",
              "36633    398149        FL  ...      Masonry                  1\n",
              "\n",
              "[36634 rows x 18 columns]"
            ]
          },
          "metadata": {
            "tags": []
          },
          "execution_count": 66
        }
      ]
    },
    {
      "cell_type": "code",
      "metadata": {
        "id": "Xc8DNXdrLrIl",
        "colab_type": "code",
        "colab": {
          "base_uri": "https://localhost:8080/",
          "height": 339
        },
        "outputId": "9a4db3cc-ebc1-4af3-94d0-9693e0514c3b"
      },
      "source": [
        "df = data.set_index(\"policyID\")\n",
        "df.head()"
      ],
      "execution_count": 67,
      "outputs": [
        {
          "output_type": "execute_result",
          "data": {
            "text/html": [
              "<div>\n",
              "<style scoped>\n",
              "    .dataframe tbody tr th:only-of-type {\n",
              "        vertical-align: middle;\n",
              "    }\n",
              "\n",
              "    .dataframe tbody tr th {\n",
              "        vertical-align: top;\n",
              "    }\n",
              "\n",
              "    .dataframe thead th {\n",
              "        text-align: right;\n",
              "    }\n",
              "</style>\n",
              "<table border=\"1\" class=\"dataframe\">\n",
              "  <thead>\n",
              "    <tr style=\"text-align: right;\">\n",
              "      <th></th>\n",
              "      <th>statecode</th>\n",
              "      <th>county</th>\n",
              "      <th>eq_site_limit</th>\n",
              "      <th>hu_site_limit</th>\n",
              "      <th>fl_site_limit</th>\n",
              "      <th>fr_site_limit</th>\n",
              "      <th>tiv_2011</th>\n",
              "      <th>tiv_2012</th>\n",
              "      <th>eq_site_deductible</th>\n",
              "      <th>hu_site_deductible</th>\n",
              "      <th>fl_site_deductible</th>\n",
              "      <th>fr_site_deductible</th>\n",
              "      <th>point_latitude</th>\n",
              "      <th>point_longitude</th>\n",
              "      <th>line</th>\n",
              "      <th>construction</th>\n",
              "      <th>point_granularity</th>\n",
              "    </tr>\n",
              "    <tr>\n",
              "      <th>policyID</th>\n",
              "      <th></th>\n",
              "      <th></th>\n",
              "      <th></th>\n",
              "      <th></th>\n",
              "      <th></th>\n",
              "      <th></th>\n",
              "      <th></th>\n",
              "      <th></th>\n",
              "      <th></th>\n",
              "      <th></th>\n",
              "      <th></th>\n",
              "      <th></th>\n",
              "      <th></th>\n",
              "      <th></th>\n",
              "      <th></th>\n",
              "      <th></th>\n",
              "      <th></th>\n",
              "    </tr>\n",
              "  </thead>\n",
              "  <tbody>\n",
              "    <tr>\n",
              "      <th>119736</th>\n",
              "      <td>FL</td>\n",
              "      <td>CLAY COUNTY</td>\n",
              "      <td>498960.0</td>\n",
              "      <td>498960.00</td>\n",
              "      <td>498960.0</td>\n",
              "      <td>498960.0</td>\n",
              "      <td>498960.00</td>\n",
              "      <td>792148.90</td>\n",
              "      <td>0.0</td>\n",
              "      <td>9979.2</td>\n",
              "      <td>0.0</td>\n",
              "      <td>0</td>\n",
              "      <td>30.102261</td>\n",
              "      <td>-81.711777</td>\n",
              "      <td>Residential</td>\n",
              "      <td>Masonry</td>\n",
              "      <td>1</td>\n",
              "    </tr>\n",
              "    <tr>\n",
              "      <th>448094</th>\n",
              "      <td>FL</td>\n",
              "      <td>CLAY COUNTY</td>\n",
              "      <td>1322376.3</td>\n",
              "      <td>1322376.30</td>\n",
              "      <td>1322376.3</td>\n",
              "      <td>1322376.3</td>\n",
              "      <td>1322376.30</td>\n",
              "      <td>1438163.57</td>\n",
              "      <td>0.0</td>\n",
              "      <td>0.0</td>\n",
              "      <td>0.0</td>\n",
              "      <td>0</td>\n",
              "      <td>30.063936</td>\n",
              "      <td>-81.707664</td>\n",
              "      <td>Residential</td>\n",
              "      <td>Masonry</td>\n",
              "      <td>3</td>\n",
              "    </tr>\n",
              "    <tr>\n",
              "      <th>206893</th>\n",
              "      <td>FL</td>\n",
              "      <td>CLAY COUNTY</td>\n",
              "      <td>190724.4</td>\n",
              "      <td>190724.40</td>\n",
              "      <td>190724.4</td>\n",
              "      <td>190724.4</td>\n",
              "      <td>190724.40</td>\n",
              "      <td>192476.78</td>\n",
              "      <td>0.0</td>\n",
              "      <td>0.0</td>\n",
              "      <td>0.0</td>\n",
              "      <td>0</td>\n",
              "      <td>30.089579</td>\n",
              "      <td>-81.700455</td>\n",
              "      <td>Residential</td>\n",
              "      <td>Wood</td>\n",
              "      <td>1</td>\n",
              "    </tr>\n",
              "    <tr>\n",
              "      <th>333743</th>\n",
              "      <td>FL</td>\n",
              "      <td>CLAY COUNTY</td>\n",
              "      <td>0.0</td>\n",
              "      <td>79520.76</td>\n",
              "      <td>0.0</td>\n",
              "      <td>0.0</td>\n",
              "      <td>79520.76</td>\n",
              "      <td>86854.48</td>\n",
              "      <td>0.0</td>\n",
              "      <td>0.0</td>\n",
              "      <td>0.0</td>\n",
              "      <td>0</td>\n",
              "      <td>30.063236</td>\n",
              "      <td>-81.707703</td>\n",
              "      <td>Residential</td>\n",
              "      <td>Wood</td>\n",
              "      <td>3</td>\n",
              "    </tr>\n",
              "    <tr>\n",
              "      <th>172534</th>\n",
              "      <td>FL</td>\n",
              "      <td>CLAY COUNTY</td>\n",
              "      <td>0.0</td>\n",
              "      <td>254281.50</td>\n",
              "      <td>0.0</td>\n",
              "      <td>254281.5</td>\n",
              "      <td>254281.50</td>\n",
              "      <td>246144.49</td>\n",
              "      <td>0.0</td>\n",
              "      <td>0.0</td>\n",
              "      <td>0.0</td>\n",
              "      <td>0</td>\n",
              "      <td>30.060614</td>\n",
              "      <td>-81.702675</td>\n",
              "      <td>Residential</td>\n",
              "      <td>Wood</td>\n",
              "      <td>1</td>\n",
              "    </tr>\n",
              "  </tbody>\n",
              "</table>\n",
              "</div>"
            ],
            "text/plain": [
              "         statecode       county  ...  construction  point_granularity\n",
              "policyID                         ...                                 \n",
              "119736          FL  CLAY COUNTY  ...       Masonry                  1\n",
              "448094          FL  CLAY COUNTY  ...       Masonry                  3\n",
              "206893          FL  CLAY COUNTY  ...          Wood                  1\n",
              "333743          FL  CLAY COUNTY  ...          Wood                  3\n",
              "172534          FL  CLAY COUNTY  ...          Wood                  1\n",
              "\n",
              "[5 rows x 17 columns]"
            ]
          },
          "metadata": {
            "tags": []
          },
          "execution_count": 67
        }
      ]
    },
    {
      "cell_type": "code",
      "metadata": {
        "id": "3DDX1hNQLrEu",
        "colab_type": "code",
        "colab": {
          "base_uri": "https://localhost:8080/",
          "height": 121
        },
        "outputId": "a8e76d39-55e4-4082-83b3-d844f8f61fb3"
      },
      "source": [
        "df.index"
      ],
      "execution_count": 68,
      "outputs": [
        {
          "output_type": "execute_result",
          "data": {
            "text/plain": [
              "Int64Index([119736, 448094, 206893, 333743, 172534, 785275, 995932, 223488,\n",
              "            433512, 142071,\n",
              "            ...\n",
              "            827844, 876385, 167630, 241496, 780814, 404309, 465875, 791209,\n",
              "            322627, 398149],\n",
              "           dtype='int64', name='policyID', length=36634)"
            ]
          },
          "metadata": {
            "tags": []
          },
          "execution_count": 68
        }
      ]
    },
    {
      "cell_type": "markdown",
      "metadata": {
        "id": "jVWcyQ_4MPrs",
        "colab_type": "text"
      },
      "source": [
        "- Slicing, subsetting, Boolean Indexing with df\n",
        "\n",
        "- postion based (iloc)\n",
        "  - rows --> 0 to 36633\n",
        "  - columns --> 0 to 17\n",
        "- label based indexing(loc)\n",
        "  - rows --> [119736, 448094, 206893, 333743, 172534, 785275, 995932, 223488,\n",
        "  433512, 142071,...]\n",
        "  - columns --> ['policyID', 'statecode', 'county', 'eq_site_limit', 'hu_site_limit', 'fl_site_limit', 'fr_site_limit', 'tiv_2011', 'tiv_2012', 'eq_site_deductible', 'hu_site_deductible', 'fl_site_deductible', 'fr_site_deductible', 'point_latitude', 'point_longitude', 'line', 'construction', 'point_granularity']"
      ]
    },
    {
      "cell_type": "code",
      "metadata": {
        "id": "3hJb22gaLqPr",
        "colab_type": "code",
        "colab": {
          "base_uri": "https://localhost:8080/",
          "height": 347
        },
        "outputId": "cce40866-1201-4778-f28a-418269f9727c"
      },
      "source": [
        "#row with index 1 and all the columns\n",
        "data.iloc[1 ,: ]"
      ],
      "execution_count": 77,
      "outputs": [
        {
          "output_type": "execute_result",
          "data": {
            "text/plain": [
              "policyID                   448094\n",
              "statecode                      FL\n",
              "county                CLAY COUNTY\n",
              "eq_site_limit         1.32238e+06\n",
              "hu_site_limit         1.32238e+06\n",
              "fl_site_limit         1.32238e+06\n",
              "fr_site_limit         1.32238e+06\n",
              "tiv_2011              1.32238e+06\n",
              "tiv_2012              1.43816e+06\n",
              "eq_site_deductible              0\n",
              "hu_site_deductible              0\n",
              "fl_site_deductible              0\n",
              "fr_site_deductible              0\n",
              "point_latitude            30.0639\n",
              "point_longitude          -81.7077\n",
              "line                  Residential\n",
              "construction              Masonry\n",
              "point_granularity               3\n",
              "Name: 1, dtype: object"
            ]
          },
          "metadata": {
            "tags": []
          },
          "execution_count": 77
        }
      ]
    },
    {
      "cell_type": "code",
      "metadata": {
        "id": "mMi86oJVLLYi",
        "colab_type": "code",
        "colab": {
          "base_uri": "https://localhost:8080/",
          "height": 35
        },
        "outputId": "c5780477-4b6c-47f9-c505-956257b67c99"
      },
      "source": [
        "# row with index 1and column with index 1\n",
        "data.iloc[1 ,1 ]"
      ],
      "execution_count": 78,
      "outputs": [
        {
          "output_type": "execute_result",
          "data": {
            "text/plain": [
              "'FL'"
            ]
          },
          "metadata": {
            "tags": []
          },
          "execution_count": 78
        }
      ]
    },
    {
      "cell_type": "code",
      "metadata": {
        "id": "c10tXRL_LK_1",
        "colab_type": "code",
        "colab": {
          "base_uri": "https://localhost:8080/",
          "height": 69
        },
        "outputId": "a6b3d91f-8516-41dc-c4bb-0aa4a3deac9c"
      },
      "source": [
        "#row with index 1 and columns with index 1,2\n",
        "data.iloc[1,1:3 ]"
      ],
      "execution_count": 84,
      "outputs": [
        {
          "output_type": "execute_result",
          "data": {
            "text/plain": [
              "statecode             FL\n",
              "county       CLAY COUNTY\n",
              "Name: 1, dtype: object"
            ]
          },
          "metadata": {
            "tags": []
          },
          "execution_count": 84
        }
      ]
    },
    {
      "cell_type": "code",
      "metadata": {
        "id": "Rav2azCZLKtR",
        "colab_type": "code",
        "colab": {
          "base_uri": "https://localhost:8080/",
          "height": 141
        },
        "outputId": "717ad4f6-00d3-4ddb-c955-99dac56ee59e"
      },
      "source": [
        "# rows with indices 1,2,3\n",
        "# columns with indices 1,2\n",
        "data.iloc[1:4 ,1:3 ]"
      ],
      "execution_count": 82,
      "outputs": [
        {
          "output_type": "execute_result",
          "data": {
            "text/html": [
              "<div>\n",
              "<style scoped>\n",
              "    .dataframe tbody tr th:only-of-type {\n",
              "        vertical-align: middle;\n",
              "    }\n",
              "\n",
              "    .dataframe tbody tr th {\n",
              "        vertical-align: top;\n",
              "    }\n",
              "\n",
              "    .dataframe thead th {\n",
              "        text-align: right;\n",
              "    }\n",
              "</style>\n",
              "<table border=\"1\" class=\"dataframe\">\n",
              "  <thead>\n",
              "    <tr style=\"text-align: right;\">\n",
              "      <th></th>\n",
              "      <th>statecode</th>\n",
              "      <th>county</th>\n",
              "    </tr>\n",
              "  </thead>\n",
              "  <tbody>\n",
              "    <tr>\n",
              "      <th>1</th>\n",
              "      <td>FL</td>\n",
              "      <td>CLAY COUNTY</td>\n",
              "    </tr>\n",
              "    <tr>\n",
              "      <th>2</th>\n",
              "      <td>FL</td>\n",
              "      <td>CLAY COUNTY</td>\n",
              "    </tr>\n",
              "    <tr>\n",
              "      <th>3</th>\n",
              "      <td>FL</td>\n",
              "      <td>CLAY COUNTY</td>\n",
              "    </tr>\n",
              "  </tbody>\n",
              "</table>\n",
              "</div>"
            ],
            "text/plain": [
              "  statecode       county\n",
              "1        FL  CLAY COUNTY\n",
              "2        FL  CLAY COUNTY\n",
              "3        FL  CLAY COUNTY"
            ]
          },
          "metadata": {
            "tags": []
          },
          "execution_count": 82
        }
      ]
    }
  ]
}