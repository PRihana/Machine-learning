{
  "nbformat": 4,
  "nbformat_minor": 0,
  "metadata": {
    "colab": {
      "name": "06-04-2020(ML)Advanced-Linear-Regression.ipynb",
      "provenance": [],
      "collapsed_sections": [],
      "authorship_tag": "ABX9TyNEzhRU7RUzOiqHILsiw5EX",
      "include_colab_link": true
    },
    "kernelspec": {
      "name": "python3",
      "display_name": "Python 3"
    }
  },
  "cells": [
    {
      "cell_type": "markdown",
      "metadata": {
        "id": "view-in-github",
        "colab_type": "text"
      },
      "source": [
        "<a href=\"https://colab.research.google.com/github/PRihana/Machine-learning/blob/master/06_04_2020(ML)Advanced_Linear_Regression.ipynb\" target=\"_parent\"><img src=\"https://colab.research.google.com/assets/colab-badge.svg\" alt=\"Open In Colab\"/></a>"
      ]
    },
    {
      "cell_type": "code",
      "metadata": {
        "id": "7C2Vl1IwJzV_",
        "colab_type": "code",
        "colab": {}
      },
      "source": [
        "import numpy as np\n",
        "import pandas as pd\n",
        "import matplotlib.pyplot as plt\n",
        "%matplotlib inline"
      ],
      "execution_count": 0,
      "outputs": []
    },
    {
      "cell_type": "code",
      "metadata": {
        "id": "my7ROkgtMGy9",
        "colab_type": "code",
        "colab": {
          "base_uri": "https://localhost:8080/",
          "height": 191
        },
        "outputId": "ff26b85b-d1f8-4475-9e35-48c0cefe49f5"
      },
      "source": [
        "x = np.random.random(50)\n",
        "x"
      ],
      "execution_count": 2,
      "outputs": [
        {
          "output_type": "execute_result",
          "data": {
            "text/plain": [
              "array([0.70179871, 0.17142407, 0.53374714, 0.64304632, 0.83556676,\n",
              "       0.41308153, 0.02763785, 0.65413234, 0.82086769, 0.7982255 ,\n",
              "       0.27930482, 0.83202136, 0.11250454, 0.4644982 , 0.93179172,\n",
              "       0.69691095, 0.6392954 , 0.31328644, 0.15801752, 0.60850127,\n",
              "       0.25313245, 0.12379636, 0.61532249, 0.24231875, 0.77959052,\n",
              "       0.47246015, 0.67769164, 0.32276193, 0.23032163, 0.99433702,\n",
              "       0.09047563, 0.48559837, 0.07466552, 0.37286412, 0.95854397,\n",
              "       0.11781678, 0.88994436, 0.58342596, 0.20973105, 0.53500652,\n",
              "       0.71654877, 0.20762394, 0.78467326, 0.14393525, 0.55915776,\n",
              "       0.99052577, 0.68614219, 0.54314751, 0.3435474 , 0.91110619])"
            ]
          },
          "metadata": {
            "tags": []
          },
          "execution_count": 2
        }
      ]
    },
    {
      "cell_type": "code",
      "metadata": {
        "id": "ez9Evf4MMG4f",
        "colab_type": "code",
        "colab": {}
      },
      "source": [
        "y = np.log(x) +3*x\n",
        "# x2 --> np.log(x)\n",
        "# x1 --> x\n",
        "# y = x2 + 3 x1\n",
        "# y = 1*x2 + 3*x1 + 0"
      ],
      "execution_count": 0,
      "outputs": []
    },
    {
      "cell_type": "code",
      "metadata": {
        "id": "E75OolrsMTaJ",
        "colab_type": "code",
        "colab": {
          "base_uri": "https://localhost:8080/",
          "height": 283
        },
        "outputId": "fe4dc80d-c767-4de1-8554-2974d0da69c1"
      },
      "source": [
        "plt.plot(x,y,'o')"
      ],
      "execution_count": 4,
      "outputs": [
        {
          "output_type": "execute_result",
          "data": {
            "text/plain": [
              "[<matplotlib.lines.Line2D at 0x7f2ab44f2b70>]"
            ]
          },
          "metadata": {
            "tags": []
          },
          "execution_count": 4
        },
        {
          "output_type": "display_data",
          "data": {
            "image/png": "[encoded data removed]",
            "text/plain": [
              "<Figure size 432x288 with 1 Axes>"
            ]
          },
          "metadata": {
            "tags": []
          }
        }
      ]
    },
    {
      "cell_type": "code",
      "metadata": {
        "id": "es1Y8C-_MfTT",
        "colab_type": "code",
        "colab": {
          "base_uri": "https://localhost:8080/",
          "height": 35
        },
        "outputId": "5e517d08-15db-4458-a862-298b12e06bd5"
      },
      "source": [
        "from sklearn.linear_model import LinearRegression\n",
        "LR = LinearRegression() \n",
        "LR.fit(x.reshape(-1,1),y)"
      ],
      "execution_count": 5,
      "outputs": [
        {
          "output_type": "execute_result",
          "data": {
            "text/plain": [
              "LinearRegression(copy_X=True, fit_intercept=True, n_jobs=None, normalize=False)"
            ]
          },
          "metadata": {
            "tags": []
          },
          "execution_count": 5
        }
      ]
    },
    {
      "cell_type": "code",
      "metadata": {
        "id": "kPGaJGs7MYkY",
        "colab_type": "code",
        "colab": {
          "base_uri": "https://localhost:8080/",
          "height": 35
        },
        "outputId": "77602480-7fd6-402f-8f27-e8ba54dfa3b0"
      },
      "source": [
        "LR.intercept_"
      ],
      "execution_count": 6,
      "outputs": [
        {
          "output_type": "execute_result",
          "data": {
            "text/plain": [
              "-2.2539663073355842"
            ]
          },
          "metadata": {
            "tags": []
          },
          "execution_count": 6
        }
      ]
    },
    {
      "cell_type": "code",
      "metadata": {
        "id": "ix9v6DCBMHAz",
        "colab_type": "code",
        "colab": {
          "base_uri": "https://localhost:8080/",
          "height": 35
        },
        "outputId": "6ce07374-339b-4149-9b4e-478117985633"
      },
      "source": [
        "LR.coef_"
      ],
      "execution_count": 7,
      "outputs": [
        {
          "output_type": "execute_result",
          "data": {
            "text/plain": [
              "array([5.63404292])"
            ]
          },
          "metadata": {
            "tags": []
          },
          "execution_count": 7
        }
      ]
    },
    {
      "cell_type": "code",
      "metadata": {
        "id": "tuobJO--MHEh",
        "colab_type": "code",
        "colab": {
          "base_uri": "https://localhost:8080/",
          "height": 283
        },
        "outputId": "a772b499-d8d8-4087-f498-8cc48d176086"
      },
      "source": [
        "plt.plot(x,y,'ro')\n",
        "plt.plot(x,LR.predict(x.reshape(-1,1)),'bo')"
      ],
      "execution_count": 8,
      "outputs": [
        {
          "output_type": "execute_result",
          "data": {
            "text/plain": [
              "[<matplotlib.lines.Line2D at 0x7f2aa7b6e390>]"
            ]
          },
          "metadata": {
            "tags": []
          },
          "execution_count": 8
        },
        {
          "output_type": "display_data",
          "data": {
            "image/png": "[encoded data removed]",
            "text/plain": [
              "<Figure size 432x288 with 1 Axes>"
            ]
          },
          "metadata": {
            "tags": []
          }
        }
      ]
    },
    {
      "cell_type": "code",
      "metadata": {
        "id": "ckCM8LFRMG97",
        "colab_type": "code",
        "colab": {
          "base_uri": "https://localhost:8080/",
          "height": 1000
        },
        "outputId": "51461986-cde8-4a02-c816-9f792fc663bd"
      },
      "source": [
        "df = pd.DataFrame()\n",
        "df['x1'] = x\n",
        "df['x2'] = np.log(x)\n",
        "df"
      ],
      "execution_count": 9,
      "outputs": [
        {
          "output_type": "execute_result",
          "data": {
            "text/html": [
              "<div>\n",
              "<style scoped>\n",
              "    .dataframe tbody tr th:only-of-type {\n",
              "        vertical-align: middle;\n",
              "    }\n",
              "\n",
              "    .dataframe tbody tr th {\n",
              "        vertical-align: top;\n",
              "    }\n",
              "\n",
              "    .dataframe thead th {\n",
              "        text-align: right;\n",
              "    }\n",
              "</style>\n",
              "<table border=\"1\" class=\"dataframe\">\n",
              "  <thead>\n",
              "    <tr style=\"text-align: right;\">\n",
              "      <th></th>\n",
              "      <th>x1</th>\n",
              "      <th>x2</th>\n",
              "    </tr>\n",
              "  </thead>\n",
              "  <tbody>\n",
              "    <tr>\n",
              "      <th>0</th>\n",
              "      <td>0.701799</td>\n",
              "      <td>-0.354109</td>\n",
              "    </tr>\n",
              "    <tr>\n",
              "      <th>1</th>\n",
              "      <td>0.171424</td>\n",
              "      <td>-1.763615</td>\n",
              "    </tr>\n",
              "    <tr>\n",
              "      <th>2</th>\n",
              "      <td>0.533747</td>\n",
              "      <td>-0.627833</td>\n",
              "    </tr>\n",
              "    <tr>\n",
              "      <th>3</th>\n",
              "      <td>0.643046</td>\n",
              "      <td>-0.441539</td>\n",
              "    </tr>\n",
              "    <tr>\n",
              "      <th>4</th>\n",
              "      <td>0.835567</td>\n",
              "      <td>-0.179645</td>\n",
              "    </tr>\n",
              "    <tr>\n",
              "      <th>5</th>\n",
              "      <td>0.413082</td>\n",
              "      <td>-0.884110</td>\n",
              "    </tr>\n",
              "    <tr>\n",
              "      <th>6</th>\n",
              "      <td>0.027638</td>\n",
              "      <td>-3.588569</td>\n",
              "    </tr>\n",
              "    <tr>\n",
              "      <th>7</th>\n",
              "      <td>0.654132</td>\n",
              "      <td>-0.424446</td>\n",
              "    </tr>\n",
              "    <tr>\n",
              "      <th>8</th>\n",
              "      <td>0.820868</td>\n",
              "      <td>-0.197393</td>\n",
              "    </tr>\n",
              "    <tr>\n",
              "      <th>9</th>\n",
              "      <td>0.798226</td>\n",
              "      <td>-0.225364</td>\n",
              "    </tr>\n",
              "    <tr>\n",
              "      <th>10</th>\n",
              "      <td>0.279305</td>\n",
              "      <td>-1.275452</td>\n",
              "    </tr>\n",
              "    <tr>\n",
              "      <th>11</th>\n",
              "      <td>0.832021</td>\n",
              "      <td>-0.183897</td>\n",
              "    </tr>\n",
              "    <tr>\n",
              "      <th>12</th>\n",
              "      <td>0.112505</td>\n",
              "      <td>-2.184762</td>\n",
              "    </tr>\n",
              "    <tr>\n",
              "      <th>13</th>\n",
              "      <td>0.464498</td>\n",
              "      <td>-0.766798</td>\n",
              "    </tr>\n",
              "    <tr>\n",
              "      <th>14</th>\n",
              "      <td>0.931792</td>\n",
              "      <td>-0.070646</td>\n",
              "    </tr>\n",
              "    <tr>\n",
              "      <th>15</th>\n",
              "      <td>0.696911</td>\n",
              "      <td>-0.361098</td>\n",
              "    </tr>\n",
              "    <tr>\n",
              "      <th>16</th>\n",
              "      <td>0.639295</td>\n",
              "      <td>-0.447389</td>\n",
              "    </tr>\n",
              "    <tr>\n",
              "      <th>17</th>\n",
              "      <td>0.313286</td>\n",
              "      <td>-1.160637</td>\n",
              "    </tr>\n",
              "    <tr>\n",
              "      <th>18</th>\n",
              "      <td>0.158018</td>\n",
              "      <td>-1.845049</td>\n",
              "    </tr>\n",
              "    <tr>\n",
              "      <th>19</th>\n",
              "      <td>0.608501</td>\n",
              "      <td>-0.496756</td>\n",
              "    </tr>\n",
              "    <tr>\n",
              "      <th>20</th>\n",
              "      <td>0.253132</td>\n",
              "      <td>-1.373842</td>\n",
              "    </tr>\n",
              "    <tr>\n",
              "      <th>21</th>\n",
              "      <td>0.123796</td>\n",
              "      <td>-2.089117</td>\n",
              "    </tr>\n",
              "    <tr>\n",
              "      <th>22</th>\n",
              "      <td>0.615322</td>\n",
              "      <td>-0.485609</td>\n",
              "    </tr>\n",
              "    <tr>\n",
              "      <th>23</th>\n",
              "      <td>0.242319</td>\n",
              "      <td>-1.417501</td>\n",
              "    </tr>\n",
              "    <tr>\n",
              "      <th>24</th>\n",
              "      <td>0.779591</td>\n",
              "      <td>-0.248986</td>\n",
              "    </tr>\n",
              "    <tr>\n",
              "      <th>25</th>\n",
              "      <td>0.472460</td>\n",
              "      <td>-0.749802</td>\n",
              "    </tr>\n",
              "    <tr>\n",
              "      <th>26</th>\n",
              "      <td>0.677692</td>\n",
              "      <td>-0.389063</td>\n",
              "    </tr>\n",
              "    <tr>\n",
              "      <th>27</th>\n",
              "      <td>0.322762</td>\n",
              "      <td>-1.130840</td>\n",
              "    </tr>\n",
              "    <tr>\n",
              "      <th>28</th>\n",
              "      <td>0.230322</td>\n",
              "      <td>-1.468279</td>\n",
              "    </tr>\n",
              "    <tr>\n",
              "      <th>29</th>\n",
              "      <td>0.994337</td>\n",
              "      <td>-0.005679</td>\n",
              "    </tr>\n",
              "    <tr>\n",
              "      <th>30</th>\n",
              "      <td>0.090476</td>\n",
              "      <td>-2.402675</td>\n",
              "    </tr>\n",
              "    <tr>\n",
              "      <th>31</th>\n",
              "      <td>0.485598</td>\n",
              "      <td>-0.722373</td>\n",
              "    </tr>\n",
              "    <tr>\n",
              "      <th>32</th>\n",
              "      <td>0.074666</td>\n",
              "      <td>-2.594737</td>\n",
              "    </tr>\n",
              "    <tr>\n",
              "      <th>33</th>\n",
              "      <td>0.372864</td>\n",
              "      <td>-0.986541</td>\n",
              "    </tr>\n",
              "    <tr>\n",
              "      <th>34</th>\n",
              "      <td>0.958544</td>\n",
              "      <td>-0.042340</td>\n",
              "    </tr>\n",
              "    <tr>\n",
              "      <th>35</th>\n",
              "      <td>0.117817</td>\n",
              "      <td>-2.138625</td>\n",
              "    </tr>\n",
              "    <tr>\n",
              "      <th>36</th>\n",
              "      <td>0.889944</td>\n",
              "      <td>-0.116596</td>\n",
              "    </tr>\n",
              "    <tr>\n",
              "      <th>37</th>\n",
              "      <td>0.583426</td>\n",
              "      <td>-0.538838</td>\n",
              "    </tr>\n",
              "    <tr>\n",
              "      <th>38</th>\n",
              "      <td>0.209731</td>\n",
              "      <td>-1.561929</td>\n",
              "    </tr>\n",
              "    <tr>\n",
              "      <th>39</th>\n",
              "      <td>0.535007</td>\n",
              "      <td>-0.625476</td>\n",
              "    </tr>\n",
              "    <tr>\n",
              "      <th>40</th>\n",
              "      <td>0.716549</td>\n",
              "      <td>-0.333309</td>\n",
              "    </tr>\n",
              "    <tr>\n",
              "      <th>41</th>\n",
              "      <td>0.207624</td>\n",
              "      <td>-1.572027</td>\n",
              "    </tr>\n",
              "    <tr>\n",
              "      <th>42</th>\n",
              "      <td>0.784673</td>\n",
              "      <td>-0.242488</td>\n",
              "    </tr>\n",
              "    <tr>\n",
              "      <th>43</th>\n",
              "      <td>0.143935</td>\n",
              "      <td>-1.938392</td>\n",
              "    </tr>\n",
              "    <tr>\n",
              "      <th>44</th>\n",
              "      <td>0.559158</td>\n",
              "      <td>-0.581324</td>\n",
              "    </tr>\n",
              "    <tr>\n",
              "      <th>45</th>\n",
              "      <td>0.990526</td>\n",
              "      <td>-0.009519</td>\n",
              "    </tr>\n",
              "    <tr>\n",
              "      <th>46</th>\n",
              "      <td>0.686142</td>\n",
              "      <td>-0.376670</td>\n",
              "    </tr>\n",
              "    <tr>\n",
              "      <th>47</th>\n",
              "      <td>0.543148</td>\n",
              "      <td>-0.610374</td>\n",
              "    </tr>\n",
              "    <tr>\n",
              "      <th>48</th>\n",
              "      <td>0.343547</td>\n",
              "      <td>-1.068430</td>\n",
              "    </tr>\n",
              "    <tr>\n",
              "      <th>49</th>\n",
              "      <td>0.911106</td>\n",
              "      <td>-0.093096</td>\n",
              "    </tr>\n",
              "  </tbody>\n",
              "</table>\n",
              "</div>"
            ],
            "text/plain": [
              "          x1        x2\n",
              "0   0.701799 -0.354109\n",
              "1   0.171424 -1.763615\n",
              "2   0.533747 -0.627833\n",
              "3   0.643046 -0.441539\n",
              "4   0.835567 -0.179645\n",
              "5   0.413082 -0.884110\n",
              "6   0.027638 -3.588569\n",
              "7   0.654132 -0.424446\n",
              "8   0.820868 -0.197393\n",
              "9   0.798226 -0.225364\n",
              "10  0.279305 -1.275452\n",
              "11  0.832021 -0.183897\n",
              "12  0.112505 -2.184762\n",
              "13  0.464498 -0.766798\n",
              "14  0.931792 -0.070646\n",
              "15  0.696911 -0.361098\n",
              "16  0.639295 -0.447389\n",
              "17  0.313286 -1.160637\n",
              "18  0.158018 -1.845049\n",
              "19  0.608501 -0.496756\n",
              "20  0.253132 -1.373842\n",
              "21  0.123796 -2.089117\n",
              "22  0.615322 -0.485609\n",
              "23  0.242319 -1.417501\n",
              "24  0.779591 -0.248986\n",
              "25  0.472460 -0.749802\n",
              "26  0.677692 -0.389063\n",
              "27  0.322762 -1.130840\n",
              "28  0.230322 -1.468279\n",
              "29  0.994337 -0.005679\n",
              "30  0.090476 -2.402675\n",
              "31  0.485598 -0.722373\n",
              "32  0.074666 -2.594737\n",
              "33  0.372864 -0.986541\n",
              "34  0.958544 -0.042340\n",
              "35  0.117817 -2.138625\n",
              "36  0.889944 -0.116596\n",
              "37  0.583426 -0.538838\n",
              "38  0.209731 -1.561929\n",
              "39  0.535007 -0.625476\n",
              "40  0.716549 -0.333309\n",
              "41  0.207624 -1.572027\n",
              "42  0.784673 -0.242488\n",
              "43  0.143935 -1.938392\n",
              "44  0.559158 -0.581324\n",
              "45  0.990526 -0.009519\n",
              "46  0.686142 -0.376670\n",
              "47  0.543148 -0.610374\n",
              "48  0.343547 -1.068430\n",
              "49  0.911106 -0.093096"
            ]
          },
          "metadata": {
            "tags": []
          },
          "execution_count": 9
        }
      ]
    },
    {
      "cell_type": "code",
      "metadata": {
        "id": "GdJlQAbtMG77",
        "colab_type": "code",
        "colab": {
          "base_uri": "https://localhost:8080/",
          "height": 35
        },
        "outputId": "d9910e82-73ae-4447-d528-812f73611838"
      },
      "source": [
        "LR1 = LinearRegression()\n",
        "LR1.fit(df,y)"
      ],
      "execution_count": 10,
      "outputs": [
        {
          "output_type": "execute_result",
          "data": {
            "text/plain": [
              "LinearRegression(copy_X=True, fit_intercept=True, n_jobs=None, normalize=False)"
            ]
          },
          "metadata": {
            "tags": []
          },
          "execution_count": 10
        }
      ]
    },
    {
      "cell_type": "code",
      "metadata": {
        "id": "ODmRlbtTMG2O",
        "colab_type": "code",
        "colab": {
          "base_uri": "https://localhost:8080/",
          "height": 35
        },
        "outputId": "b3c77223-1970-4476-f1e3-5e9499edc505"
      },
      "source": [
        "# y = 1*x2 + 3*x1 + 0\n",
        "print(LR1.intercept_,LR1.coef_)"
      ],
      "execution_count": 11,
      "outputs": [
        {
          "output_type": "stream",
          "text": [
            "-1.3322676295501878e-15 [3. 1.]\n"
          ],
          "name": "stdout"
        }
      ]
    },
    {
      "cell_type": "code",
      "metadata": {
        "id": "IO2KPo_iMGwL",
        "colab_type": "code",
        "colab": {
          "base_uri": "https://localhost:8080/",
          "height": 283
        },
        "outputId": "0e3b8bda-987c-4d50-c493-ff0a4c9e98e1"
      },
      "source": [
        "plt.scatter(np.log(x),y)"
      ],
      "execution_count": 12,
      "outputs": [
        {
          "output_type": "execute_result",
          "data": {
            "text/plain": [
              "<matplotlib.collections.PathCollection at 0x7f2aa7389630>"
            ]
          },
          "metadata": {
            "tags": []
          },
          "execution_count": 12
        },
        {
          "output_type": "display_data",
          "data": {
            "image/png": "[encoded data removed]",
            "text/plain": [
              "<Figure size 432x288 with 1 Axes>"
            ]
          },
          "metadata": {
            "tags": []
          }
        }
      ]
    },
    {
      "cell_type": "code",
      "metadata": {
        "id": "BmFpP8AUNHm-",
        "colab_type": "code",
        "colab": {
          "base_uri": "https://localhost:8080/",
          "height": 283
        },
        "outputId": "138488a3-2b8b-40c2-fe20-aa072114a015"
      },
      "source": [
        "plt.scatter(x**3,y)"
      ],
      "execution_count": 13,
      "outputs": [
        {
          "output_type": "execute_result",
          "data": {
            "text/plain": [
              "<matplotlib.collections.PathCollection at 0x7f2aa4b76ba8>"
            ]
          },
          "metadata": {
            "tags": []
          },
          "execution_count": 13
        },
        {
          "output_type": "display_data",
          "data": {
            "image/png": "[encoded data removed]",
            "text/plain": [
              "<Figure size 432x288 with 1 Axes>"
            ]
          },
          "metadata": {
            "tags": []
          }
        }
      ]
    },
    {
      "cell_type": "code",
      "metadata": {
        "id": "VDz_pRGeNH4i",
        "colab_type": "code",
        "colab": {
          "base_uri": "https://localhost:8080/",
          "height": 884
        },
        "outputId": "adf05a25-f717-45d5-eaea-f76c018d3a9e"
      },
      "source": [
        "# Polynomial\n",
        "from sklearn.preprocessing import PolynomialFeatures\n",
        "PF = PolynomialFeatures(degree=2)\n",
        "PF.fit(df[['x1']])\n",
        "PF.transform(df[['x1']])"
      ],
      "execution_count": 14,
      "outputs": [
        {
          "output_type": "execute_result",
          "data": {
            "text/plain": [
              "array([[1.00000000e+00, 7.01798714e-01, 4.92521435e-01],\n",
              "       [1.00000000e+00, 1.71424074e-01, 2.93862130e-02],\n",
              "       [1.00000000e+00, 5.33747143e-01, 2.84886013e-01],\n",
              "       [1.00000000e+00, 6.43046317e-01, 4.13508566e-01],\n",
              "       [1.00000000e+00, 8.35566756e-01, 6.98171804e-01],\n",
              "       [1.00000000e+00, 4.13081530e-01, 1.70636350e-01],\n",
              "       [1.00000000e+00, 2.76378512e-02, 7.63850819e-04],\n",
              "       [1.00000000e+00, 6.54132335e-01, 4.27889112e-01],\n",
              "       [1.00000000e+00, 8.20867690e-01, 6.73823764e-01],\n",
              "       [1.00000000e+00, 7.98225501e-01, 6.37163950e-01],\n",
              "       [1.00000000e+00, 2.79304821e-01, 7.80111831e-02],\n",
              "       [1.00000000e+00, 8.32021364e-01, 6.92259550e-01],\n",
              "       [1.00000000e+00, 1.12504535e-01, 1.26572705e-02],\n",
              "       [1.00000000e+00, 4.64498196e-01, 2.15758574e-01],\n",
              "       [1.00000000e+00, 9.31791722e-01, 8.68235813e-01],\n",
              "       [1.00000000e+00, 6.96910947e-01, 4.85684868e-01],\n",
              "       [1.00000000e+00, 6.39295399e-01, 4.08698607e-01],\n",
              "       [1.00000000e+00, 3.13286443e-01, 9.81483953e-02],\n",
              "       [1.00000000e+00, 1.58017522e-01, 2.49695374e-02],\n",
              "       [1.00000000e+00, 6.08501267e-01, 3.70273792e-01],\n",
              "       [1.00000000e+00, 2.53132447e-01, 6.40760355e-02],\n",
              "       [1.00000000e+00, 1.23796359e-01, 1.53255384e-02],\n",
              "       [1.00000000e+00, 6.15322494e-01, 3.78621772e-01],\n",
              "       [1.00000000e+00, 2.42318753e-01, 5.87183780e-02],\n",
              "       [1.00000000e+00, 7.79590524e-01, 6.07761386e-01],\n",
              "       [1.00000000e+00, 4.72460149e-01, 2.23218592e-01],\n",
              "       [1.00000000e+00, 6.77691642e-01, 4.59265962e-01],\n",
              "       [1.00000000e+00, 3.22761935e-01, 1.04175267e-01],\n",
              "       [1.00000000e+00, 2.30321633e-01, 5.30480545e-02],\n",
              "       [1.00000000e+00, 9.94337025e-01, 9.88706119e-01],\n",
              "       [1.00000000e+00, 9.04756346e-02, 8.18584046e-03],\n",
              "       [1.00000000e+00, 4.85598365e-01, 2.35805772e-01],\n",
              "       [1.00000000e+00, 7.46655215e-02, 5.57494010e-03],\n",
              "       [1.00000000e+00, 3.72864121e-01, 1.39027653e-01],\n",
              "       [1.00000000e+00, 9.58543974e-01, 9.18806550e-01],\n",
              "       [1.00000000e+00, 1.17816780e-01, 1.38807937e-02],\n",
              "       [1.00000000e+00, 8.89944358e-01, 7.92000960e-01],\n",
              "       [1.00000000e+00, 5.83425955e-01, 3.40385845e-01],\n",
              "       [1.00000000e+00, 2.09731053e-01, 4.39871146e-02],\n",
              "       [1.00000000e+00, 5.35006516e-01, 2.86231972e-01],\n",
              "       [1.00000000e+00, 7.16548773e-01, 5.13442145e-01],\n",
              "       [1.00000000e+00, 2.07623937e-01, 4.31076990e-02],\n",
              "       [1.00000000e+00, 7.84673265e-01, 6.15712132e-01],\n",
              "       [1.00000000e+00, 1.43935248e-01, 2.07173557e-02],\n",
              "       [1.00000000e+00, 5.59157758e-01, 3.12657398e-01],\n",
              "       [1.00000000e+00, 9.90525773e-01, 9.81141307e-01],\n",
              "       [1.00000000e+00, 6.86142188e-01, 4.70791102e-01],\n",
              "       [1.00000000e+00, 5.43147511e-01, 2.95009218e-01],\n",
              "       [1.00000000e+00, 3.43547401e-01, 1.18024817e-01],\n",
              "       [1.00000000e+00, 9.11106195e-01, 8.30114498e-01]])"
            ]
          },
          "metadata": {
            "tags": []
          },
          "execution_count": 14
        }
      ]
    },
    {
      "cell_type": "code",
      "metadata": {
        "id": "G2C1F0ApNIGB",
        "colab_type": "code",
        "colab": {}
      },
      "source": [
        "from sklearn.preprocessing import PolynomialFeatures\n",
        "PF = PolynomialFeatures(degree=3)\n",
        "PF.fit(df[['x1']])\n",
        "poly_df = pd.DataFrame(PF.transform(df[['x1']]),columns=[\"x1\",\"x2\",\"x3\",\"x4\"])"
      ],
      "execution_count": 0,
      "outputs": []
    },
    {
      "cell_type": "code",
      "metadata": {
        "id": "sUGdPUNcNIJE",
        "colab_type": "code",
        "colab": {
          "base_uri": "https://localhost:8080/",
          "height": 1000
        },
        "outputId": "3d9e1d9b-08bc-494b-cddd-42df3f397d0a"
      },
      "source": [
        "poly_df"
      ],
      "execution_count": 16,
      "outputs": [
        {
          "output_type": "execute_result",
          "data": {
            "text/html": [
              "<div>\n",
              "<style scoped>\n",
              "    .dataframe tbody tr th:only-of-type {\n",
              "        vertical-align: middle;\n",
              "    }\n",
              "\n",
              "    .dataframe tbody tr th {\n",
              "        vertical-align: top;\n",
              "    }\n",
              "\n",
              "    .dataframe thead th {\n",
              "        text-align: right;\n",
              "    }\n",
              "</style>\n",
              "<table border=\"1\" class=\"dataframe\">\n",
              "  <thead>\n",
              "    <tr style=\"text-align: right;\">\n",
              "      <th></th>\n",
              "      <th>x1</th>\n",
              "      <th>x2</th>\n",
              "      <th>x3</th>\n",
              "      <th>x4</th>\n",
              "    </tr>\n",
              "  </thead>\n",
              "  <tbody>\n",
              "    <tr>\n",
              "      <th>0</th>\n",
              "      <td>1.0</td>\n",
              "      <td>0.701799</td>\n",
              "      <td>0.492521</td>\n",
              "      <td>0.345651</td>\n",
              "    </tr>\n",
              "    <tr>\n",
              "      <th>1</th>\n",
              "      <td>1.0</td>\n",
              "      <td>0.171424</td>\n",
              "      <td>0.029386</td>\n",
              "      <td>0.005038</td>\n",
              "    </tr>\n",
              "    <tr>\n",
              "      <th>2</th>\n",
              "      <td>1.0</td>\n",
              "      <td>0.533747</td>\n",
              "      <td>0.284886</td>\n",
              "      <td>0.152057</td>\n",
              "    </tr>\n",
              "    <tr>\n",
              "      <th>3</th>\n",
              "      <td>1.0</td>\n",
              "      <td>0.643046</td>\n",
              "      <td>0.413509</td>\n",
              "      <td>0.265905</td>\n",
              "    </tr>\n",
              "    <tr>\n",
              "      <th>4</th>\n",
              "      <td>1.0</td>\n",
              "      <td>0.835567</td>\n",
              "      <td>0.698172</td>\n",
              "      <td>0.583369</td>\n",
              "    </tr>\n",
              "    <tr>\n",
              "      <th>5</th>\n",
              "      <td>1.0</td>\n",
              "      <td>0.413082</td>\n",
              "      <td>0.170636</td>\n",
              "      <td>0.070487</td>\n",
              "    </tr>\n",
              "    <tr>\n",
              "      <th>6</th>\n",
              "      <td>1.0</td>\n",
              "      <td>0.027638</td>\n",
              "      <td>0.000764</td>\n",
              "      <td>0.000021</td>\n",
              "    </tr>\n",
              "    <tr>\n",
              "      <th>7</th>\n",
              "      <td>1.0</td>\n",
              "      <td>0.654132</td>\n",
              "      <td>0.427889</td>\n",
              "      <td>0.279896</td>\n",
              "    </tr>\n",
              "    <tr>\n",
              "      <th>8</th>\n",
              "      <td>1.0</td>\n",
              "      <td>0.820868</td>\n",
              "      <td>0.673824</td>\n",
              "      <td>0.553120</td>\n",
              "    </tr>\n",
              "    <tr>\n",
              "      <th>9</th>\n",
              "      <td>1.0</td>\n",
              "      <td>0.798226</td>\n",
              "      <td>0.637164</td>\n",
              "      <td>0.508601</td>\n",
              "    </tr>\n",
              "    <tr>\n",
              "      <th>10</th>\n",
              "      <td>1.0</td>\n",
              "      <td>0.279305</td>\n",
              "      <td>0.078011</td>\n",
              "      <td>0.021789</td>\n",
              "    </tr>\n",
              "    <tr>\n",
              "      <th>11</th>\n",
              "      <td>1.0</td>\n",
              "      <td>0.832021</td>\n",
              "      <td>0.692260</td>\n",
              "      <td>0.575975</td>\n",
              "    </tr>\n",
              "    <tr>\n",
              "      <th>12</th>\n",
              "      <td>1.0</td>\n",
              "      <td>0.112505</td>\n",
              "      <td>0.012657</td>\n",
              "      <td>0.001424</td>\n",
              "    </tr>\n",
              "    <tr>\n",
              "      <th>13</th>\n",
              "      <td>1.0</td>\n",
              "      <td>0.464498</td>\n",
              "      <td>0.215759</td>\n",
              "      <td>0.100219</td>\n",
              "    </tr>\n",
              "    <tr>\n",
              "      <th>14</th>\n",
              "      <td>1.0</td>\n",
              "      <td>0.931792</td>\n",
              "      <td>0.868236</td>\n",
              "      <td>0.809015</td>\n",
              "    </tr>\n",
              "    <tr>\n",
              "      <th>15</th>\n",
              "      <td>1.0</td>\n",
              "      <td>0.696911</td>\n",
              "      <td>0.485685</td>\n",
              "      <td>0.338479</td>\n",
              "    </tr>\n",
              "    <tr>\n",
              "      <th>16</th>\n",
              "      <td>1.0</td>\n",
              "      <td>0.639295</td>\n",
              "      <td>0.408699</td>\n",
              "      <td>0.261279</td>\n",
              "    </tr>\n",
              "    <tr>\n",
              "      <th>17</th>\n",
              "      <td>1.0</td>\n",
              "      <td>0.313286</td>\n",
              "      <td>0.098148</td>\n",
              "      <td>0.030749</td>\n",
              "    </tr>\n",
              "    <tr>\n",
              "      <th>18</th>\n",
              "      <td>1.0</td>\n",
              "      <td>0.158018</td>\n",
              "      <td>0.024970</td>\n",
              "      <td>0.003946</td>\n",
              "    </tr>\n",
              "    <tr>\n",
              "      <th>19</th>\n",
              "      <td>1.0</td>\n",
              "      <td>0.608501</td>\n",
              "      <td>0.370274</td>\n",
              "      <td>0.225312</td>\n",
              "    </tr>\n",
              "    <tr>\n",
              "      <th>20</th>\n",
              "      <td>1.0</td>\n",
              "      <td>0.253132</td>\n",
              "      <td>0.064076</td>\n",
              "      <td>0.016220</td>\n",
              "    </tr>\n",
              "    <tr>\n",
              "      <th>21</th>\n",
              "      <td>1.0</td>\n",
              "      <td>0.123796</td>\n",
              "      <td>0.015326</td>\n",
              "      <td>0.001897</td>\n",
              "    </tr>\n",
              "    <tr>\n",
              "      <th>22</th>\n",
              "      <td>1.0</td>\n",
              "      <td>0.615322</td>\n",
              "      <td>0.378622</td>\n",
              "      <td>0.232974</td>\n",
              "    </tr>\n",
              "    <tr>\n",
              "      <th>23</th>\n",
              "      <td>1.0</td>\n",
              "      <td>0.242319</td>\n",
              "      <td>0.058718</td>\n",
              "      <td>0.014229</td>\n",
              "    </tr>\n",
              "    <tr>\n",
              "      <th>24</th>\n",
              "      <td>1.0</td>\n",
              "      <td>0.779591</td>\n",
              "      <td>0.607761</td>\n",
              "      <td>0.473805</td>\n",
              "    </tr>\n",
              "    <tr>\n",
              "      <th>25</th>\n",
              "      <td>1.0</td>\n",
              "      <td>0.472460</td>\n",
              "      <td>0.223219</td>\n",
              "      <td>0.105462</td>\n",
              "    </tr>\n",
              "    <tr>\n",
              "      <th>26</th>\n",
              "      <td>1.0</td>\n",
              "      <td>0.677692</td>\n",
              "      <td>0.459266</td>\n",
              "      <td>0.311241</td>\n",
              "    </tr>\n",
              "    <tr>\n",
              "      <th>27</th>\n",
              "      <td>1.0</td>\n",
              "      <td>0.322762</td>\n",
              "      <td>0.104175</td>\n",
              "      <td>0.033624</td>\n",
              "    </tr>\n",
              "    <tr>\n",
              "      <th>28</th>\n",
              "      <td>1.0</td>\n",
              "      <td>0.230322</td>\n",
              "      <td>0.053048</td>\n",
              "      <td>0.012218</td>\n",
              "    </tr>\n",
              "    <tr>\n",
              "      <th>29</th>\n",
              "      <td>1.0</td>\n",
              "      <td>0.994337</td>\n",
              "      <td>0.988706</td>\n",
              "      <td>0.983107</td>\n",
              "    </tr>\n",
              "    <tr>\n",
              "      <th>30</th>\n",
              "      <td>1.0</td>\n",
              "      <td>0.090476</td>\n",
              "      <td>0.008186</td>\n",
              "      <td>0.000741</td>\n",
              "    </tr>\n",
              "    <tr>\n",
              "      <th>31</th>\n",
              "      <td>1.0</td>\n",
              "      <td>0.485598</td>\n",
              "      <td>0.235806</td>\n",
              "      <td>0.114507</td>\n",
              "    </tr>\n",
              "    <tr>\n",
              "      <th>32</th>\n",
              "      <td>1.0</td>\n",
              "      <td>0.074666</td>\n",
              "      <td>0.005575</td>\n",
              "      <td>0.000416</td>\n",
              "    </tr>\n",
              "    <tr>\n",
              "      <th>33</th>\n",
              "      <td>1.0</td>\n",
              "      <td>0.372864</td>\n",
              "      <td>0.139028</td>\n",
              "      <td>0.051838</td>\n",
              "    </tr>\n",
              "    <tr>\n",
              "      <th>34</th>\n",
              "      <td>1.0</td>\n",
              "      <td>0.958544</td>\n",
              "      <td>0.918807</td>\n",
              "      <td>0.880716</td>\n",
              "    </tr>\n",
              "    <tr>\n",
              "      <th>35</th>\n",
              "      <td>1.0</td>\n",
              "      <td>0.117817</td>\n",
              "      <td>0.013881</td>\n",
              "      <td>0.001635</td>\n",
              "    </tr>\n",
              "    <tr>\n",
              "      <th>36</th>\n",
              "      <td>1.0</td>\n",
              "      <td>0.889944</td>\n",
              "      <td>0.792001</td>\n",
              "      <td>0.704837</td>\n",
              "    </tr>\n",
              "    <tr>\n",
              "      <th>37</th>\n",
              "      <td>1.0</td>\n",
              "      <td>0.583426</td>\n",
              "      <td>0.340386</td>\n",
              "      <td>0.198590</td>\n",
              "    </tr>\n",
              "    <tr>\n",
              "      <th>38</th>\n",
              "      <td>1.0</td>\n",
              "      <td>0.209731</td>\n",
              "      <td>0.043987</td>\n",
              "      <td>0.009225</td>\n",
              "    </tr>\n",
              "    <tr>\n",
              "      <th>39</th>\n",
              "      <td>1.0</td>\n",
              "      <td>0.535007</td>\n",
              "      <td>0.286232</td>\n",
              "      <td>0.153136</td>\n",
              "    </tr>\n",
              "    <tr>\n",
              "      <th>40</th>\n",
              "      <td>1.0</td>\n",
              "      <td>0.716549</td>\n",
              "      <td>0.513442</td>\n",
              "      <td>0.367906</td>\n",
              "    </tr>\n",
              "    <tr>\n",
              "      <th>41</th>\n",
              "      <td>1.0</td>\n",
              "      <td>0.207624</td>\n",
              "      <td>0.043108</td>\n",
              "      <td>0.008950</td>\n",
              "    </tr>\n",
              "    <tr>\n",
              "      <th>42</th>\n",
              "      <td>1.0</td>\n",
              "      <td>0.784673</td>\n",
              "      <td>0.615712</td>\n",
              "      <td>0.483133</td>\n",
              "    </tr>\n",
              "    <tr>\n",
              "      <th>43</th>\n",
              "      <td>1.0</td>\n",
              "      <td>0.143935</td>\n",
              "      <td>0.020717</td>\n",
              "      <td>0.002982</td>\n",
              "    </tr>\n",
              "    <tr>\n",
              "      <th>44</th>\n",
              "      <td>1.0</td>\n",
              "      <td>0.559158</td>\n",
              "      <td>0.312657</td>\n",
              "      <td>0.174825</td>\n",
              "    </tr>\n",
              "    <tr>\n",
              "      <th>45</th>\n",
              "      <td>1.0</td>\n",
              "      <td>0.990526</td>\n",
              "      <td>0.981141</td>\n",
              "      <td>0.971846</td>\n",
              "    </tr>\n",
              "    <tr>\n",
              "      <th>46</th>\n",
              "      <td>1.0</td>\n",
              "      <td>0.686142</td>\n",
              "      <td>0.470791</td>\n",
              "      <td>0.323030</td>\n",
              "    </tr>\n",
              "    <tr>\n",
              "      <th>47</th>\n",
              "      <td>1.0</td>\n",
              "      <td>0.543148</td>\n",
              "      <td>0.295009</td>\n",
              "      <td>0.160234</td>\n",
              "    </tr>\n",
              "    <tr>\n",
              "      <th>48</th>\n",
              "      <td>1.0</td>\n",
              "      <td>0.343547</td>\n",
              "      <td>0.118025</td>\n",
              "      <td>0.040547</td>\n",
              "    </tr>\n",
              "    <tr>\n",
              "      <th>49</th>\n",
              "      <td>1.0</td>\n",
              "      <td>0.911106</td>\n",
              "      <td>0.830114</td>\n",
              "      <td>0.756322</td>\n",
              "    </tr>\n",
              "  </tbody>\n",
              "</table>\n",
              "</div>"
            ],
            "text/plain": [
              "     x1        x2        x3        x4\n",
              "0   1.0  0.701799  0.492521  0.345651\n",
              "1   1.0  0.171424  0.029386  0.005038\n",
              "2   1.0  0.533747  0.284886  0.152057\n",
              "3   1.0  0.643046  0.413509  0.265905\n",
              "4   1.0  0.835567  0.698172  0.583369\n",
              "5   1.0  0.413082  0.170636  0.070487\n",
              "6   1.0  0.027638  0.000764  0.000021\n",
              "7   1.0  0.654132  0.427889  0.279896\n",
              "8   1.0  0.820868  0.673824  0.553120\n",
              "9   1.0  0.798226  0.637164  0.508601\n",
              "10  1.0  0.279305  0.078011  0.021789\n",
              "11  1.0  0.832021  0.692260  0.575975\n",
              "12  1.0  0.112505  0.012657  0.001424\n",
              "13  1.0  0.464498  0.215759  0.100219\n",
              "14  1.0  0.931792  0.868236  0.809015\n",
              "15  1.0  0.696911  0.485685  0.338479\n",
              "16  1.0  0.639295  0.408699  0.261279\n",
              "17  1.0  0.313286  0.098148  0.030749\n",
              "18  1.0  0.158018  0.024970  0.003946\n",
              "19  1.0  0.608501  0.370274  0.225312\n",
              "20  1.0  0.253132  0.064076  0.016220\n",
              "21  1.0  0.123796  0.015326  0.001897\n",
              "22  1.0  0.615322  0.378622  0.232974\n",
              "23  1.0  0.242319  0.058718  0.014229\n",
              "24  1.0  0.779591  0.607761  0.473805\n",
              "25  1.0  0.472460  0.223219  0.105462\n",
              "26  1.0  0.677692  0.459266  0.311241\n",
              "27  1.0  0.322762  0.104175  0.033624\n",
              "28  1.0  0.230322  0.053048  0.012218\n",
              "29  1.0  0.994337  0.988706  0.983107\n",
              "30  1.0  0.090476  0.008186  0.000741\n",
              "31  1.0  0.485598  0.235806  0.114507\n",
              "32  1.0  0.074666  0.005575  0.000416\n",
              "33  1.0  0.372864  0.139028  0.051838\n",
              "34  1.0  0.958544  0.918807  0.880716\n",
              "35  1.0  0.117817  0.013881  0.001635\n",
              "36  1.0  0.889944  0.792001  0.704837\n",
              "37  1.0  0.583426  0.340386  0.198590\n",
              "38  1.0  0.209731  0.043987  0.009225\n",
              "39  1.0  0.535007  0.286232  0.153136\n",
              "40  1.0  0.716549  0.513442  0.367906\n",
              "41  1.0  0.207624  0.043108  0.008950\n",
              "42  1.0  0.784673  0.615712  0.483133\n",
              "43  1.0  0.143935  0.020717  0.002982\n",
              "44  1.0  0.559158  0.312657  0.174825\n",
              "45  1.0  0.990526  0.981141  0.971846\n",
              "46  1.0  0.686142  0.470791  0.323030\n",
              "47  1.0  0.543148  0.295009  0.160234\n",
              "48  1.0  0.343547  0.118025  0.040547\n",
              "49  1.0  0.911106  0.830114  0.756322"
            ]
          },
          "metadata": {
            "tags": []
          },
          "execution_count": 16
        }
      ]
    },
    {
      "cell_type": "code",
      "metadata": {
        "id": "MRwgmD8TNIY3",
        "colab_type": "code",
        "colab": {}
      },
      "source": [
        "poly_df['y'] = y"
      ],
      "execution_count": 0,
      "outputs": []
    },
    {
      "cell_type": "code",
      "metadata": {
        "id": "Dhn8uYwtNH1N",
        "colab_type": "code",
        "colab": {
          "base_uri": "https://localhost:8080/",
          "height": 202
        },
        "outputId": "7e360ac5-bfda-4a8e-9531-040e355a92a3"
      },
      "source": [
        "poly_df.corr()"
      ],
      "execution_count": 18,
      "outputs": [
        {
          "output_type": "execute_result",
          "data": {
            "text/html": [
              "<div>\n",
              "<style scoped>\n",
              "    .dataframe tbody tr th:only-of-type {\n",
              "        vertical-align: middle;\n",
              "    }\n",
              "\n",
              "    .dataframe tbody tr th {\n",
              "        vertical-align: top;\n",
              "    }\n",
              "\n",
              "    .dataframe thead th {\n",
              "        text-align: right;\n",
              "    }\n",
              "</style>\n",
              "<table border=\"1\" class=\"dataframe\">\n",
              "  <thead>\n",
              "    <tr style=\"text-align: right;\">\n",
              "      <th></th>\n",
              "      <th>x1</th>\n",
              "      <th>x2</th>\n",
              "      <th>x3</th>\n",
              "      <th>x4</th>\n",
              "      <th>y</th>\n",
              "    </tr>\n",
              "  </thead>\n",
              "  <tbody>\n",
              "    <tr>\n",
              "      <th>x1</th>\n",
              "      <td>NaN</td>\n",
              "      <td>NaN</td>\n",
              "      <td>NaN</td>\n",
              "      <td>NaN</td>\n",
              "      <td>NaN</td>\n",
              "    </tr>\n",
              "    <tr>\n",
              "      <th>x2</th>\n",
              "      <td>NaN</td>\n",
              "      <td>1.000000</td>\n",
              "      <td>0.971099</td>\n",
              "      <td>0.916450</td>\n",
              "      <td>0.983510</td>\n",
              "    </tr>\n",
              "    <tr>\n",
              "      <th>x3</th>\n",
              "      <td>NaN</td>\n",
              "      <td>0.971099</td>\n",
              "      <td>1.000000</td>\n",
              "      <td>0.984299</td>\n",
              "      <td>0.919066</td>\n",
              "    </tr>\n",
              "    <tr>\n",
              "      <th>x4</th>\n",
              "      <td>NaN</td>\n",
              "      <td>0.916450</td>\n",
              "      <td>0.984299</td>\n",
              "      <td>1.000000</td>\n",
              "      <td>0.846692</td>\n",
              "    </tr>\n",
              "    <tr>\n",
              "      <th>y</th>\n",
              "      <td>NaN</td>\n",
              "      <td>0.983510</td>\n",
              "      <td>0.919066</td>\n",
              "      <td>0.846692</td>\n",
              "      <td>1.000000</td>\n",
              "    </tr>\n",
              "  </tbody>\n",
              "</table>\n",
              "</div>"
            ],
            "text/plain": [
              "    x1        x2        x3        x4         y\n",
              "x1 NaN       NaN       NaN       NaN       NaN\n",
              "x2 NaN  1.000000  0.971099  0.916450  0.983510\n",
              "x3 NaN  0.971099  1.000000  0.984299  0.919066\n",
              "x4 NaN  0.916450  0.984299  1.000000  0.846692\n",
              "y  NaN  0.983510  0.919066  0.846692  1.000000"
            ]
          },
          "metadata": {
            "tags": []
          },
          "execution_count": 18
        }
      ]
    },
    {
      "cell_type": "markdown",
      "metadata": {
        "id": "DZYjfJuEN5n2",
        "colab_type": "text"
      },
      "source": [
        "**Regularization**\n",
        "\n",
        "- x1,x2 -->are in same range\n",
        "- b1,b2\n",
        "- b1 =1\n",
        "- b2 =100000"
      ]
    },
    {
      "cell_type": "code",
      "metadata": {
        "id": "WiFzamnzNxn7",
        "colab_type": "code",
        "colab": {}
      },
      "source": [
        ""
      ],
      "execution_count": 0,
      "outputs": []
    }
  ]
}