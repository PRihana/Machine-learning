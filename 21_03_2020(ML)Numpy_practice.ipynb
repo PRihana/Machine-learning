{
  "nbformat": 4,
  "nbformat_minor": 0,
  "metadata": {
    "colab": {
      "name": "21-03-2020(ML)Numpy practice.ipynb",
      "provenance": [],
      "collapsed_sections": [],
      "authorship_tag": "ABX9TyOr6Mba0DTyS/mCy21Qm7vp",
      "include_colab_link": true
    },
    "kernelspec": {
      "name": "python3",
      "display_name": "Python 3"
    }
  },
  "cells": [
    {
      "cell_type": "markdown",
      "metadata": {
        "id": "view-in-github",
        "colab_type": "text"
      },
      "source": [
        "<a href=\"https://colab.research.google.com/github/PRihana/Machine-learning/blob/master/21_03_2020(ML)Numpy_practice.ipynb\" target=\"_parent\"><img src=\"https://colab.research.google.com/assets/colab-badge.svg\" alt=\"Open In Colab\"/></a>"
      ]
    },
    {
      "cell_type": "code",
      "metadata": {
        "id": "RlXMy_yf7oWm",
        "colab_type": "code",
        "outputId": "3ed07f34-2c8d-4403-ad07-4e16775e2a0f",
        "colab": {
          "base_uri": "https://localhost:8080/",
          "height": 35
        }
      },
      "source": [
        "#Import numpy as np and print the version number.\n",
        "import numpy as np\n",
        "print(np.__version__)"
      ],
      "execution_count": 0,
      "outputs": [
        {
          "output_type": "stream",
          "text": [
            "1.18.2\n"
          ],
          "name": "stdout"
        }
      ]
    },
    {
      "cell_type": "code",
      "metadata": {
        "id": "ny1bsOrP-GlM",
        "colab_type": "code",
        "outputId": "30796200-73be-4a46-978b-fd5869c30019",
        "colab": {
          "base_uri": "https://localhost:8080/",
          "height": 35
        }
      },
      "source": [
        "#Create a 1D array of numbers from 0 to 9\n",
        "import numpy as np\n",
        "a = np.arange(10)\n",
        "a"
      ],
      "execution_count": 0,
      "outputs": [
        {
          "output_type": "execute_result",
          "data": {
            "text/plain": [
              "array([0, 1, 2, 3, 4, 5, 6, 7, 8, 9])"
            ]
          },
          "metadata": {
            "tags": []
          },
          "execution_count": 5
        }
      ]
    },
    {
      "cell_type": "code",
      "metadata": {
        "id": "vGgxmn-U-Gge",
        "colab_type": "code",
        "outputId": "541d1853-9d16-4280-d6f2-c8dadf6aaf04",
        "colab": {
          "base_uri": "https://localhost:8080/",
          "height": 69
        }
      },
      "source": [
        "#Create a 3×3 numpy array of all True’s\n",
        "import numpy as np\n",
        "np.ones((3, 3), dtype=bool)"
      ],
      "execution_count": 0,
      "outputs": [
        {
          "output_type": "execute_result",
          "data": {
            "text/plain": [
              "array([[ True,  True,  True],\n",
              "       [ True,  True,  True],\n",
              "       [ True,  True,  True]])"
            ]
          },
          "metadata": {
            "tags": []
          },
          "execution_count": 10
        }
      ]
    },
    {
      "cell_type": "code",
      "metadata": {
        "id": "mWKgft9vsH_K",
        "colab_type": "code",
        "colab": {
          "base_uri": "https://localhost:8080/",
          "height": 52
        },
        "outputId": "dc7803a0-e555-403b-c4a5-0d17bd778de2"
      },
      "source": [
        "#Extract all odd numbers from arr\n",
        "l=np.arange(20)\n",
        "print(l)\n",
        "print(type(l))"
      ],
      "execution_count": 9,
      "outputs": [
        {
          "output_type": "stream",
          "text": [
            "[ 0  1  2  3  4  5  6  7  8  9 10 11 12 13 14 15 16 17 18 19]\n",
            "<class 'numpy.ndarray'>\n"
          ],
          "name": "stdout"
        }
      ]
    },
    {
      "cell_type": "code",
      "metadata": {
        "id": "APvKxd9VsUDY",
        "colab_type": "code",
        "colab": {
          "base_uri": "https://localhost:8080/",
          "height": 191
        },
        "outputId": "33dddf7f-0fb3-4716-f695-18c057c657de"
      },
      "source": [
        "for i in l:\n",
        "    if i%2!=0:\n",
        "        print(i)\n",
        "    else:\n",
        "        pass"
      ],
      "execution_count": 10,
      "outputs": [
        {
          "output_type": "stream",
          "text": [
            "1\n",
            "3\n",
            "5\n",
            "7\n",
            "9\n",
            "11\n",
            "13\n",
            "15\n",
            "17\n",
            "19\n"
          ],
          "name": "stdout"
        }
      ]
    },
    {
      "cell_type": "code",
      "metadata": {
        "id": "4wofG1hushJ_",
        "colab_type": "code",
        "colab": {
          "base_uri": "https://localhost:8080/",
          "height": 35
        },
        "outputId": "02cda2f1-a1aa-4426-e49e-702f30ea8f1d"
      },
      "source": [
        "#Replace all odd numbers in arr with -1\n",
        "for i in l:\n",
        "    if i%2!=0:\n",
        "        l[i]=-1\n",
        "    else:\n",
        "        pass\n",
        "print(l)"
      ],
      "execution_count": 11,
      "outputs": [
        {
          "output_type": "stream",
          "text": [
            "[ 0 -1  2 -1  4 -1  6 -1  8 -1 10 -1 12 -1 14 -1 16 -1 18 -1]\n"
          ],
          "name": "stdout"
        }
      ]
    },
    {
      "cell_type": "code",
      "metadata": {
        "id": "AnWPg_llshC5",
        "colab_type": "code",
        "colab": {
          "base_uri": "https://localhost:8080/",
          "height": 87
        },
        "outputId": "e4c808fd-40a1-4e54-ecfc-d2b1a457d5f7"
      },
      "source": [
        "#Stack arrays a and b vertically\n",
        "a = np.arange(10).reshape(2,-1)\n",
        "b = np.repeat(1, 10).reshape(2,-1)\n",
        "print(a)\n",
        "print(b)"
      ],
      "execution_count": 12,
      "outputs": [
        {
          "output_type": "stream",
          "text": [
            "[[0 1 2 3 4]\n",
            " [5 6 7 8 9]]\n",
            "[[1 1 1 1 1]\n",
            " [1 1 1 1 1]]\n"
          ],
          "name": "stdout"
        }
      ]
    },
    {
      "cell_type": "code",
      "metadata": {
        "id": "t7RJ0STvsfyN",
        "colab_type": "code",
        "colab": {
          "base_uri": "https://localhost:8080/",
          "height": 35
        },
        "outputId": "0b2fb5df-f973-41ee-bf88-2bf9d39d442e"
      },
      "source": [
        "np.hstack(a)"
      ],
      "execution_count": 13,
      "outputs": [
        {
          "output_type": "execute_result",
          "data": {
            "text/plain": [
              "array([0, 1, 2, 3, 4, 5, 6, 7, 8, 9])"
            ]
          },
          "metadata": {
            "tags": []
          },
          "execution_count": 13
        }
      ]
    },
    {
      "cell_type": "code",
      "metadata": {
        "id": "YFkDvXnUtTRU",
        "colab_type": "code",
        "colab": {
          "base_uri": "https://localhost:8080/",
          "height": 35
        },
        "outputId": "eb54c8dc-51df-461e-dc70-ba824155afc1"
      },
      "source": [
        "np.hstack(b)"
      ],
      "execution_count": 14,
      "outputs": [
        {
          "output_type": "execute_result",
          "data": {
            "text/plain": [
              "array([1, 1, 1, 1, 1, 1, 1, 1, 1, 1])"
            ]
          },
          "metadata": {
            "tags": []
          },
          "execution_count": 14
        }
      ]
    },
    {
      "cell_type": "code",
      "metadata": {
        "id": "MBecoGg4CDdg",
        "colab_type": "code",
        "outputId": "765edaab-e081-4744-8fc2-5ce8e3ce4f8d",
        "colab": {
          "base_uri": "https://localhost:8080/",
          "height": 52
        }
      },
      "source": [
        "#Convert a 1D array to a 2D array with 2 rows\n",
        "import numpy as np\n",
        "Array1D = np.array([(5, 0, 380, 3)])\n",
        "print(Array1D)\n",
        "Array2D = Array1D.flatten()\n",
        "print(Array2D)"
      ],
      "execution_count": 0,
      "outputs": [
        {
          "output_type": "stream",
          "text": [
            "[[  5   0 380   3]]\n",
            "[  5   0 380   3]\n"
          ],
          "name": "stdout"
        }
      ]
    },
    {
      "cell_type": "code",
      "metadata": {
        "id": "UkJx2Mb-tiOr",
        "colab_type": "code",
        "colab": {
          "base_uri": "https://localhost:8080/",
          "height": 52
        },
        "outputId": "46254748-943c-4979-cc2c-fdcdb1d59aeb"
      },
      "source": [
        "#Get the positions where elements of a and b match\n",
        "a = np.array([1,2,3,2,3,4,3,4,5,6])\n",
        "b = np.array([7,2,10,2,7,4,9,4,9,8])\n",
        "print(a)\n",
        "print(b)"
      ],
      "execution_count": 15,
      "outputs": [
        {
          "output_type": "stream",
          "text": [
            "[1 2 3 2 3 4 3 4 5 6]\n",
            "[ 7  2 10  2  7  4  9  4  9  8]\n"
          ],
          "name": "stdout"
        }
      ]
    },
    {
      "cell_type": "code",
      "metadata": {
        "id": "-036Q76btiK7",
        "colab_type": "code",
        "colab": {
          "base_uri": "https://localhost:8080/",
          "height": 35
        },
        "outputId": "6741c2c6-1693-4255-ee82-743c8ff870a4"
      },
      "source": [
        "for i in range(len(a)):\n",
        "    if a[i]==b[i]:\n",
        "        print(i,end=\" \")"
      ],
      "execution_count": 16,
      "outputs": [
        {
          "output_type": "stream",
          "text": [
            "1 3 5 7 "
          ],
          "name": "stdout"
        }
      ]
    },
    {
      "cell_type": "code",
      "metadata": {
        "id": "ncOD8uiwtiGr",
        "colab_type": "code",
        "colab": {
          "base_uri": "https://localhost:8080/",
          "height": 69
        },
        "outputId": "b5a9fe5d-fac7-42a0-b400-79cdb3bebaa6"
      },
      "source": [
        "#Get all items between 5 and 10 from a.\n",
        "a = np.array([2, 6, 1, 9, 10, 3, 27])\n",
        "print(a)\n",
        "for i in a:\n",
        "    if i>5 and i<10:\n",
        "        print(i)"
      ],
      "execution_count": 18,
      "outputs": [
        {
          "output_type": "stream",
          "text": [
            "[ 2  6  1  9 10  3 27]\n",
            "6\n",
            "9\n"
          ],
          "name": "stdout"
        }
      ]
    },
    {
      "cell_type": "code",
      "metadata": {
        "id": "QG9oFZONtzMU",
        "colab_type": "code",
        "colab": {
          "base_uri": "https://localhost:8080/",
          "height": 35
        },
        "outputId": "9a1ab8de-d271-449e-b061-f245a1beb6cb"
      },
      "source": [
        "#Write a NumPy program to generate five random numbers from the normal distribution\n",
        "a=np.random.normal(size=5) # from normal distribution \n",
        "print(a)"
      ],
      "execution_count": 19,
      "outputs": [
        {
          "output_type": "stream",
          "text": [
            "[ 1.61059147  1.24837297  2.20334275 -2.31979365 -0.32953643]\n"
          ],
          "name": "stdout"
        }
      ]
    },
    {
      "cell_type": "code",
      "metadata": {
        "id": "_SL12tkztzJu",
        "colab_type": "code",
        "colab": {
          "base_uri": "https://localhost:8080/",
          "height": 35
        },
        "outputId": "d96e5967-9221-434e-d9ac-1a47dcb86b47"
      },
      "source": [
        "#Write a NumPy program to generate six random integers between 10 and 30\n",
        "b=np.random.randint(10,30,size=6)\n",
        "print(b)"
      ],
      "execution_count": 20,
      "outputs": [
        {
          "output_type": "stream",
          "text": [
            "[18 12 12 14 19 20]\n"
          ],
          "name": "stdout"
        }
      ]
    },
    {
      "cell_type": "code",
      "metadata": {
        "id": "S6GdTZLRumzm",
        "colab_type": "code",
        "colab": {
          "base_uri": "https://localhost:8080/",
          "height": 208
        },
        "outputId": "b23fd917-24a0-47b1-9451-3234e3de83d3"
      },
      "source": [
        "#Write a NumPy program to create a 3x3x3 array with random values\n",
        "x=np.random.random((3,3,3))\n",
        "print(x)"
      ],
      "execution_count": 21,
      "outputs": [
        {
          "output_type": "stream",
          "text": [
            "[[[0.37922359 0.53120111 0.38944887]\n",
            "  [0.92110539 0.8077702  0.95540323]\n",
            "  [0.24984184 0.62770507 0.79553364]]\n",
            "\n",
            " [[0.93019242 0.72574369 0.56236537]\n",
            "  [0.90511781 0.09160464 0.64461211]\n",
            "  [0.15924127 0.96740048 0.06171043]]\n",
            "\n",
            " [[0.6045261  0.81166175 0.03506053]\n",
            "  [0.61581934 0.45836691 0.99525457]\n",
            "  [0.8137967  0.2439536  0.44754747]]]\n"
          ],
          "name": "stdout"
        }
      ]
    },
    {
      "cell_type": "code",
      "metadata": {
        "id": "OH3Tv5aYu8CC",
        "colab_type": "code",
        "colab": {
          "base_uri": "https://localhost:8080/",
          "height": 104
        },
        "outputId": "f86f6169-f91b-45db-9551-6f0f502bcac5"
      },
      "source": [
        "#Write a NumPy program to create a 5x5 array with random values and find the minimum and maximum values¶\n",
        "s=np.random.random((5,5))\n",
        "print(s)"
      ],
      "execution_count": 29,
      "outputs": [
        {
          "output_type": "stream",
          "text": [
            "[[0.72154177 0.52974249 0.60405533 0.99987484 0.78629136]\n",
            " [0.715811   0.69205707 0.89037773 0.32306774 0.51460604]\n",
            " [0.01455328 0.6531857  0.18103797 0.57656685 0.94093815]\n",
            " [0.79660491 0.14403012 0.52049169 0.97355985 0.64375165]\n",
            " [0.87131729 0.04006934 0.7487122  0.63783636 0.44871634]]\n"
          ],
          "name": "stdout"
        }
      ]
    },
    {
      "cell_type": "code",
      "metadata": {
        "id": "4k2dn1BpvNMi",
        "colab_type": "code",
        "colab": {
          "base_uri": "https://localhost:8080/",
          "height": 35
        },
        "outputId": "b6b57d17-1cf8-45a9-dd4d-1c59c29bac1d"
      },
      "source": [
        "np.max(s)"
      ],
      "execution_count": 30,
      "outputs": [
        {
          "output_type": "execute_result",
          "data": {
            "text/plain": [
              "0.9998748427368671"
            ]
          },
          "metadata": {
            "tags": []
          },
          "execution_count": 30
        }
      ]
    },
    {
      "cell_type": "code",
      "metadata": {
        "id": "RysJwkq6vhJy",
        "colab_type": "code",
        "colab": {
          "base_uri": "https://localhost:8080/",
          "height": 35
        },
        "outputId": "88783cdd-b3db-497d-ab3b-6e27bf653650"
      },
      "source": [
        "np.min(s)"
      ],
      "execution_count": 31,
      "outputs": [
        {
          "output_type": "execute_result",
          "data": {
            "text/plain": [
              "0.01455327535465789"
            ]
          },
          "metadata": {
            "tags": []
          },
          "execution_count": 31
        }
      ]
    },
    {
      "cell_type": "code",
      "metadata": {
        "id": "5JuxtY9Cu7NA",
        "colab_type": "code",
        "colab": {
          "base_uri": "https://localhost:8080/",
          "height": 191
        },
        "outputId": "d8481831-36c2-4d20-ebaf-279069bc3614"
      },
      "source": [
        "#Write a NumPy program to create a random 10x4 array and extract the first five rows of the array and store them into a variables\n",
        "a=np.random.random((10,4))\n",
        "print(a)"
      ],
      "execution_count": 32,
      "outputs": [
        {
          "output_type": "stream",
          "text": [
            "[[0.7274961  0.30252133 0.27752816 0.07452802]\n",
            " [0.80595407 0.87373847 0.05946466 0.76870094]\n",
            " [0.28069733 0.96694654 0.88730474 0.32603901]\n",
            " [0.50304563 0.81537631 0.49345743 0.12675382]\n",
            " [0.76467253 0.13391741 0.22632064 0.75491064]\n",
            " [0.50398612 0.63011115 0.27919464 0.20490143]\n",
            " [0.08973377 0.03009199 0.60950787 0.80103427]\n",
            " [0.31975575 0.72774013 0.39316414 0.25364438]\n",
            " [0.2998747  0.70585904 0.01537534 0.12439798]\n",
            " [0.43516789 0.10845027 0.49054446 0.88453236]]\n"
          ],
          "name": "stdout"
        }
      ]
    },
    {
      "cell_type": "code",
      "metadata": {
        "id": "vOaOyUK3wMXu",
        "colab_type": "code",
        "colab": {
          "base_uri": "https://localhost:8080/",
          "height": 104
        },
        "outputId": "b3c9e9c1-27c6-40b8-9056-3f9abc1ed47e"
      },
      "source": [
        "h=a[0:5,:]\n",
        "print(h)"
      ],
      "execution_count": 33,
      "outputs": [
        {
          "output_type": "stream",
          "text": [
            "[[0.7274961  0.30252133 0.27752816 0.07452802]\n",
            " [0.80595407 0.87373847 0.05946466 0.76870094]\n",
            " [0.28069733 0.96694654 0.88730474 0.32603901]\n",
            " [0.50304563 0.81537631 0.49345743 0.12675382]\n",
            " [0.76467253 0.13391741 0.22632064 0.75491064]]\n"
          ],
          "name": "stdout"
        }
      ]
    },
    {
      "cell_type": "code",
      "metadata": {
        "id": "IB3IAUt_wMMe",
        "colab_type": "code",
        "colab": {}
      },
      "source": [
        "#Write a NumPy program to shuffle numbers between 0 and 10 (inclusive)"
      ],
      "execution_count": 0,
      "outputs": []
    },
    {
      "cell_type": "code",
      "metadata": {
        "id": "bCVCGB3IwL-5",
        "colab_type": "code",
        "colab": {
          "base_uri": "https://localhost:8080/",
          "height": 52
        },
        "outputId": "70577c23-0d7f-433d-d177-77c6db7394ed"
      },
      "source": [
        "x = np.arange(10)\n",
        "print(x)\n",
        "np.random.shuffle(x)\n",
        "print(x)"
      ],
      "execution_count": 34,
      "outputs": [
        {
          "output_type": "stream",
          "text": [
            "[0 1 2 3 4 5 6 7 8 9]\n",
            "[8 0 4 3 9 1 6 2 7 5]\n"
          ],
          "name": "stdout"
        }
      ]
    },
    {
      "cell_type": "code",
      "metadata": {
        "id": "Mv2Y4np9CDjB",
        "colab_type": "code",
        "outputId": "c1bdae5e-6019-4baf-b5fe-4cd348ab5fc5",
        "colab": {
          "base_uri": "https://localhost:8080/",
          "height": 104
        }
      },
      "source": [
        "#Stack arrays a and b vertically\n",
        "import numpy as np  \n",
        "a = np.arange(10).reshape(2,-1)\n",
        "b = np.repeat(1, 10).reshape(2,-1)  \n",
        "# Stacking the two arrays vertically \n",
        "out_arr = np.vstack((a,b)) \n",
        "print (\"Output vertically stacked array:\\n \", out_arr) "
      ],
      "execution_count": 0,
      "outputs": [
        {
          "output_type": "stream",
          "text": [
            "Output vertically stacked array:\n",
            "  [[0 1 2 3 4]\n",
            " [5 6 7 8 9]\n",
            " [1 1 1 1 1]\n",
            " [1 1 1 1 1]]\n"
          ],
          "name": "stdout"
        }
      ]
    },
    {
      "cell_type": "code",
      "metadata": {
        "id": "W1op8GhyCDoO",
        "colab_type": "code",
        "outputId": "cb3daa33-d6d5-474b-b8f2-9cb47d5dada7",
        "colab": {
          "base_uri": "https://localhost:8080/",
          "height": 52
        }
      },
      "source": [
        "#Get the positions where elements of a and b match\n",
        "a = np.array([1,2,3,2,3,4,3,4,5,6])\n",
        "b = np.array([7,2,10,2,7,4,9,4,9,8])\n",
        "np.hstack((a,b))"
      ],
      "execution_count": 0,
      "outputs": [
        {
          "output_type": "execute_result",
          "data": {
            "text/plain": [
              "array([ 1,  2,  3,  2,  3,  4,  3,  4,  5,  6,  7,  2, 10,  2,  7,  4,  9,\n",
              "        4,  9,  8])"
            ]
          },
          "metadata": {
            "tags": []
          },
          "execution_count": 21
        }
      ]
    },
    {
      "cell_type": "code",
      "metadata": {
        "id": "DEXiLX44LezN",
        "colab_type": "code",
        "outputId": "655a2045-1d75-4352-eee1-4882f79204f5",
        "colab": {
          "base_uri": "https://localhost:8080/",
          "height": 173
        }
      },
      "source": [
        "#swap columns 1 and 2 in the array arr.\n",
        "import numpy as np\n",
        "arr = np.arange(9).reshape(3,3)\n",
        "print(\"Original array:\")\n",
        "print(arr)\n",
        "arr[:,[0, 1]] = arr[:,[1, 0]]\n",
        "print(\"\\nAfter swapping arrays:\")\n",
        "print(arr)"
      ],
      "execution_count": 0,
      "outputs": [
        {
          "output_type": "stream",
          "text": [
            "Original array:\n",
            "[[0 1 2]\n",
            " [3 4 5]\n",
            " [6 7 8]]\n",
            "\n",
            "After swapping arrays:\n",
            "[[1 0 2]\n",
            " [4 3 5]\n",
            " [7 6 8]]\n"
          ],
          "name": "stdout"
        }
      ]
    },
    {
      "cell_type": "code",
      "metadata": {
        "id": "wIHfjpO0bmnr",
        "colab_type": "code",
        "colab": {
          "base_uri": "https://localhost:8080/",
          "height": 139
        },
        "outputId": "b9a952c8-6f13-428c-b18b-3182f39ca4d3"
      },
      "source": [
        "#How to reverse to the rows of a 2D aray\n",
        "import numpy as np\n",
        "arr = np.arange(9).reshape(3,3) \n",
        "print(arr)\n",
        "reversedArr = np.flip(arr, axis=0) \n",
        "print('Reversed Array : ')\n",
        "print(reversedArr)"
      ],
      "execution_count": 6,
      "outputs": [
        {
          "output_type": "stream",
          "text": [
            "[[0 1 2]\n",
            " [3 4 5]\n",
            " [6 7 8]]\n",
            "Reversed Array : \n",
            "[[6 7 8]\n",
            " [3 4 5]\n",
            " [0 1 2]]\n"
          ],
          "name": "stdout"
        }
      ]
    },
    {
      "cell_type": "code",
      "metadata": {
        "id": "-vg80sw3lQrt",
        "colab_type": "code",
        "colab": {
          "base_uri": "https://localhost:8080/",
          "height": 139
        },
        "outputId": "beb547a0-97bf-43d8-c1f8-61a89da93d59"
      },
      "source": [
        "#How to reverse to the columns of a 2D aray\n",
        "import numpy as np\n",
        "arr = np.arange(9).reshape(3,3) \n",
        "print(arr)\n",
        "reversedArr = np.flip(arr, axis=1) \n",
        "print('Reversed Array : ')\n",
        "print(reversedArr)\n"
      ],
      "execution_count": 8,
      "outputs": [
        {
          "output_type": "stream",
          "text": [
            "[[0 1 2]\n",
            " [3 4 5]\n",
            " [6 7 8]]\n",
            "Reversed Array : \n",
            "[[2 1 0]\n",
            " [5 4 3]\n",
            " [8 7 6]]\n"
          ],
          "name": "stdout"
        }
      ]
    }
  ]
}