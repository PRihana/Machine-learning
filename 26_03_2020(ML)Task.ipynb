{
  "nbformat": 4,
  "nbformat_minor": 0,
  "metadata": {
    "colab": {
      "name": "26-03-2020(ML)Task.ipynb",
      "provenance": [],
      "collapsed_sections": [],
      "mount_file_id": "1tVovtIbw1-rD-_oEhJDajX1ofM26_0rE",
      "authorship_tag": "ABX9TyM6XPxd2QE78v9tCu6HmKOU",
      "include_colab_link": true
    },
    "kernelspec": {
      "name": "python3",
      "display_name": "Python 3"
    }
  },
  "cells": [
    {
      "cell_type": "markdown",
      "metadata": {
        "id": "view-in-github",
        "colab_type": "text"
      },
      "source": [
        "<a href=\"https://colab.research.google.com/github/PRihana/Machine-learning/blob/master/26_03_2020(ML)Task.ipynb\" target=\"_parent\"><img src=\"https://colab.research.google.com/assets/colab-badge.svg\" alt=\"Open In Colab\"/></a>"
      ]
    },
    {
      "cell_type": "code",
      "metadata": {
        "id": "qJC-LVg_5x2l",
        "colab_type": "code",
        "colab": {}
      },
      "source": [
        "import pandas as pd\n",
        "import numpy as np"
      ],
      "execution_count": 0,
      "outputs": []
    },
    {
      "cell_type": "markdown",
      "metadata": {
        "id": "bLKZcxvU8xH4",
        "colab_type": "text"
      },
      "source": [
        "**reading a CSV file as a dataframe**"
      ]
    },
    {
      "cell_type": "code",
      "metadata": {
        "id": "_O9qQIWg7QPB",
        "colab_type": "code",
        "outputId": "276d9f8f-f48e-46a9-a40e-0e2546e45ffa",
        "colab": {
          "base_uri": "https://localhost:8080/",
          "height": 435
        }
      },
      "source": [
        "# read global_sales_data\\market_fact.csv into a varaible market_df\n",
        "market_df = pd.read_csv(\"/content/market_fact.csv\")\n",
        "market_df"
      ],
      "execution_count": 0,
      "outputs": [
        {
          "output_type": "execute_result",
          "data": {
            "text/html": [
              "<div>\n",
              "<style scoped>\n",
              "    .dataframe tbody tr th:only-of-type {\n",
              "        vertical-align: middle;\n",
              "    }\n",
              "\n",
              "    .dataframe tbody tr th {\n",
              "        vertical-align: top;\n",
              "    }\n",
              "\n",
              "    .dataframe thead th {\n",
              "        text-align: right;\n",
              "    }\n",
              "</style>\n",
              "<table border=\"1\" class=\"dataframe\">\n",
              "  <thead>\n",
              "    <tr style=\"text-align: right;\">\n",
              "      <th></th>\n",
              "      <th>Ord_id</th>\n",
              "      <th>Prod_id</th>\n",
              "      <th>Ship_id</th>\n",
              "      <th>Cust_id</th>\n",
              "      <th>Sales</th>\n",
              "      <th>Discount</th>\n",
              "      <th>Order_Quantity</th>\n",
              "      <th>Profit</th>\n",
              "      <th>Shipping_Cost</th>\n",
              "      <th>Product_Base_Margin</th>\n",
              "    </tr>\n",
              "  </thead>\n",
              "  <tbody>\n",
              "    <tr>\n",
              "      <th>0</th>\n",
              "      <td>Ord_5446</td>\n",
              "      <td>Prod_16</td>\n",
              "      <td>SHP_7609</td>\n",
              "      <td>Cust_1818</td>\n",
              "      <td>136.8100</td>\n",
              "      <td>0.01</td>\n",
              "      <td>23</td>\n",
              "      <td>-30.51</td>\n",
              "      <td>3.60</td>\n",
              "      <td>0.56</td>\n",
              "    </tr>\n",
              "    <tr>\n",
              "      <th>1</th>\n",
              "      <td>Ord_5406</td>\n",
              "      <td>Prod_13</td>\n",
              "      <td>SHP_7549</td>\n",
              "      <td>Cust_1818</td>\n",
              "      <td>42.2700</td>\n",
              "      <td>0.01</td>\n",
              "      <td>13</td>\n",
              "      <td>4.56</td>\n",
              "      <td>0.93</td>\n",
              "      <td>0.54</td>\n",
              "    </tr>\n",
              "    <tr>\n",
              "      <th>2</th>\n",
              "      <td>Ord_5446</td>\n",
              "      <td>Prod_4</td>\n",
              "      <td>SHP_7610</td>\n",
              "      <td>Cust_1818</td>\n",
              "      <td>4701.6900</td>\n",
              "      <td>0.00</td>\n",
              "      <td>26</td>\n",
              "      <td>1148.90</td>\n",
              "      <td>2.50</td>\n",
              "      <td>0.59</td>\n",
              "    </tr>\n",
              "    <tr>\n",
              "      <th>3</th>\n",
              "      <td>Ord_5456</td>\n",
              "      <td>Prod_6</td>\n",
              "      <td>SHP_7625</td>\n",
              "      <td>Cust_1818</td>\n",
              "      <td>2337.8900</td>\n",
              "      <td>0.09</td>\n",
              "      <td>43</td>\n",
              "      <td>729.34</td>\n",
              "      <td>14.30</td>\n",
              "      <td>0.37</td>\n",
              "    </tr>\n",
              "    <tr>\n",
              "      <th>4</th>\n",
              "      <td>Ord_5485</td>\n",
              "      <td>Prod_17</td>\n",
              "      <td>SHP_7664</td>\n",
              "      <td>Cust_1818</td>\n",
              "      <td>4233.1500</td>\n",
              "      <td>0.08</td>\n",
              "      <td>35</td>\n",
              "      <td>1219.87</td>\n",
              "      <td>26.30</td>\n",
              "      <td>0.38</td>\n",
              "    </tr>\n",
              "    <tr>\n",
              "      <th>...</th>\n",
              "      <td>...</td>\n",
              "      <td>...</td>\n",
              "      <td>...</td>\n",
              "      <td>...</td>\n",
              "      <td>...</td>\n",
              "      <td>...</td>\n",
              "      <td>...</td>\n",
              "      <td>...</td>\n",
              "      <td>...</td>\n",
              "      <td>...</td>\n",
              "    </tr>\n",
              "    <tr>\n",
              "      <th>8394</th>\n",
              "      <td>Ord_5353</td>\n",
              "      <td>Prod_4</td>\n",
              "      <td>SHP_7479</td>\n",
              "      <td>Cust_1798</td>\n",
              "      <td>2841.4395</td>\n",
              "      <td>0.08</td>\n",
              "      <td>28</td>\n",
              "      <td>374.63</td>\n",
              "      <td>7.69</td>\n",
              "      <td>0.59</td>\n",
              "    </tr>\n",
              "    <tr>\n",
              "      <th>8395</th>\n",
              "      <td>Ord_5411</td>\n",
              "      <td>Prod_6</td>\n",
              "      <td>SHP_7555</td>\n",
              "      <td>Cust_1798</td>\n",
              "      <td>127.1600</td>\n",
              "      <td>0.10</td>\n",
              "      <td>20</td>\n",
              "      <td>-74.03</td>\n",
              "      <td>6.92</td>\n",
              "      <td>0.37</td>\n",
              "    </tr>\n",
              "    <tr>\n",
              "      <th>8396</th>\n",
              "      <td>Ord_5388</td>\n",
              "      <td>Prod_6</td>\n",
              "      <td>SHP_7524</td>\n",
              "      <td>Cust_1798</td>\n",
              "      <td>243.0500</td>\n",
              "      <td>0.02</td>\n",
              "      <td>39</td>\n",
              "      <td>-70.85</td>\n",
              "      <td>5.35</td>\n",
              "      <td>0.40</td>\n",
              "    </tr>\n",
              "    <tr>\n",
              "      <th>8397</th>\n",
              "      <td>Ord_5348</td>\n",
              "      <td>Prod_15</td>\n",
              "      <td>SHP_7469</td>\n",
              "      <td>Cust_1798</td>\n",
              "      <td>3872.8700</td>\n",
              "      <td>0.03</td>\n",
              "      <td>23</td>\n",
              "      <td>565.34</td>\n",
              "      <td>30.00</td>\n",
              "      <td>0.62</td>\n",
              "    </tr>\n",
              "    <tr>\n",
              "      <th>8398</th>\n",
              "      <td>Ord_5459</td>\n",
              "      <td>Prod_6</td>\n",
              "      <td>SHP_7628</td>\n",
              "      <td>Cust_1798</td>\n",
              "      <td>603.6900</td>\n",
              "      <td>0.00</td>\n",
              "      <td>47</td>\n",
              "      <td>131.39</td>\n",
              "      <td>4.86</td>\n",
              "      <td>0.38</td>\n",
              "    </tr>\n",
              "  </tbody>\n",
              "</table>\n",
              "<p>8399 rows × 10 columns</p>\n",
              "</div>"
            ],
            "text/plain": [
              "        Ord_id  Prod_id   Ship_id  ...   Profit  Shipping_Cost  Product_Base_Margin\n",
              "0     Ord_5446  Prod_16  SHP_7609  ...   -30.51           3.60                 0.56\n",
              "1     Ord_5406  Prod_13  SHP_7549  ...     4.56           0.93                 0.54\n",
              "2     Ord_5446   Prod_4  SHP_7610  ...  1148.90           2.50                 0.59\n",
              "3     Ord_5456   Prod_6  SHP_7625  ...   729.34          14.30                 0.37\n",
              "4     Ord_5485  Prod_17  SHP_7664  ...  1219.87          26.30                 0.38\n",
              "...        ...      ...       ...  ...      ...            ...                  ...\n",
              "8394  Ord_5353   Prod_4  SHP_7479  ...   374.63           7.69                 0.59\n",
              "8395  Ord_5411   Prod_6  SHP_7555  ...   -74.03           6.92                 0.37\n",
              "8396  Ord_5388   Prod_6  SHP_7524  ...   -70.85           5.35                 0.40\n",
              "8397  Ord_5348  Prod_15  SHP_7469  ...   565.34          30.00                 0.62\n",
              "8398  Ord_5459   Prod_6  SHP_7628  ...   131.39           4.86                 0.38\n",
              "\n",
              "[8399 rows x 10 columns]"
            ]
          },
          "metadata": {
            "tags": []
          },
          "execution_count": 17
        }
      ]
    },
    {
      "cell_type": "code",
      "metadata": {
        "id": "LibXBVVL7QM1",
        "colab_type": "code",
        "outputId": "ba6607f3-8049-4349-cdff-acfb9f549f63",
        "colab": {
          "base_uri": "https://localhost:8080/",
          "height": 35
        }
      },
      "source": [
        "# Looking at the datatypes of each column using info\n",
        "market_df.describe(include=object).columns"
      ],
      "execution_count": 0,
      "outputs": [
        {
          "output_type": "execute_result",
          "data": {
            "text/plain": [
              "Index(['Ord_id', 'Prod_id', 'Ship_id', 'Cust_id'], dtype='object')"
            ]
          },
          "metadata": {
            "tags": []
          },
          "execution_count": 18
        }
      ]
    },
    {
      "cell_type": "code",
      "metadata": {
        "id": "gx0d7tRHOEpd",
        "colab_type": "code",
        "outputId": "ab323380-8ce8-4397-c553-6c7a3fdf6de5",
        "colab": {
          "base_uri": "https://localhost:8080/",
          "height": 208
        }
      },
      "source": [
        "market_df.dtypes"
      ],
      "execution_count": 0,
      "outputs": [
        {
          "output_type": "execute_result",
          "data": {
            "text/plain": [
              "Ord_id                  object\n",
              "Prod_id                 object\n",
              "Ship_id                 object\n",
              "Cust_id                 object\n",
              "Sales                  float64\n",
              "Discount               float64\n",
              "Order_Quantity           int64\n",
              "Profit                 float64\n",
              "Shipping_Cost          float64\n",
              "Product_Base_Margin    float64\n",
              "dtype: object"
            ]
          },
          "metadata": {
            "tags": []
          },
          "execution_count": 19
        }
      ]
    },
    {
      "cell_type": "code",
      "metadata": {
        "id": "GtZFo9FG7QIz",
        "colab_type": "code",
        "outputId": "dce759e4-3b5d-446d-d6ab-9049ee9bea32",
        "colab": {
          "base_uri": "https://localhost:8080/",
          "height": 69
        }
      },
      "source": [
        "# Get the Column names\n",
        "market_df.columns"
      ],
      "execution_count": 0,
      "outputs": [
        {
          "output_type": "execute_result",
          "data": {
            "text/plain": [
              "Index(['Ord_id', 'Prod_id', 'Ship_id', 'Cust_id', 'Sales', 'Discount',\n",
              "       'Order_Quantity', 'Profit', 'Shipping_Cost', 'Product_Base_Margin'],\n",
              "      dtype='object')"
            ]
          },
          "metadata": {
            "tags": []
          },
          "execution_count": 20
        }
      ]
    },
    {
      "cell_type": "code",
      "metadata": {
        "id": "rRaVQCTGexsf",
        "colab_type": "code",
        "outputId": "cf2d440b-5cb4-4f9d-99df-053985cf57ea",
        "colab": {
          "base_uri": "https://localhost:8080/",
          "height": 415
        }
      },
      "source": [
        "#Get the summary of all the numeric columns in the dataset\n",
        "market_df._get_numeric_data()"
      ],
      "execution_count": 0,
      "outputs": [
        {
          "output_type": "execute_result",
          "data": {
            "text/html": [
              "<div>\n",
              "<style scoped>\n",
              "    .dataframe tbody tr th:only-of-type {\n",
              "        vertical-align: middle;\n",
              "    }\n",
              "\n",
              "    .dataframe tbody tr th {\n",
              "        vertical-align: top;\n",
              "    }\n",
              "\n",
              "    .dataframe thead th {\n",
              "        text-align: right;\n",
              "    }\n",
              "</style>\n",
              "<table border=\"1\" class=\"dataframe\">\n",
              "  <thead>\n",
              "    <tr style=\"text-align: right;\">\n",
              "      <th></th>\n",
              "      <th>Sales</th>\n",
              "      <th>Discount</th>\n",
              "      <th>Order_Quantity</th>\n",
              "      <th>Profit</th>\n",
              "      <th>Shipping_Cost</th>\n",
              "      <th>Product_Base_Margin</th>\n",
              "    </tr>\n",
              "  </thead>\n",
              "  <tbody>\n",
              "    <tr>\n",
              "      <th>0</th>\n",
              "      <td>136.8100</td>\n",
              "      <td>0.01</td>\n",
              "      <td>23</td>\n",
              "      <td>-30.51</td>\n",
              "      <td>3.60</td>\n",
              "      <td>0.56</td>\n",
              "    </tr>\n",
              "    <tr>\n",
              "      <th>1</th>\n",
              "      <td>42.2700</td>\n",
              "      <td>0.01</td>\n",
              "      <td>13</td>\n",
              "      <td>4.56</td>\n",
              "      <td>0.93</td>\n",
              "      <td>0.54</td>\n",
              "    </tr>\n",
              "    <tr>\n",
              "      <th>2</th>\n",
              "      <td>4701.6900</td>\n",
              "      <td>0.00</td>\n",
              "      <td>26</td>\n",
              "      <td>1148.90</td>\n",
              "      <td>2.50</td>\n",
              "      <td>0.59</td>\n",
              "    </tr>\n",
              "    <tr>\n",
              "      <th>3</th>\n",
              "      <td>2337.8900</td>\n",
              "      <td>0.09</td>\n",
              "      <td>43</td>\n",
              "      <td>729.34</td>\n",
              "      <td>14.30</td>\n",
              "      <td>0.37</td>\n",
              "    </tr>\n",
              "    <tr>\n",
              "      <th>4</th>\n",
              "      <td>4233.1500</td>\n",
              "      <td>0.08</td>\n",
              "      <td>35</td>\n",
              "      <td>1219.87</td>\n",
              "      <td>26.30</td>\n",
              "      <td>0.38</td>\n",
              "    </tr>\n",
              "    <tr>\n",
              "      <th>...</th>\n",
              "      <td>...</td>\n",
              "      <td>...</td>\n",
              "      <td>...</td>\n",
              "      <td>...</td>\n",
              "      <td>...</td>\n",
              "      <td>...</td>\n",
              "    </tr>\n",
              "    <tr>\n",
              "      <th>8394</th>\n",
              "      <td>2841.4395</td>\n",
              "      <td>0.08</td>\n",
              "      <td>28</td>\n",
              "      <td>374.63</td>\n",
              "      <td>7.69</td>\n",
              "      <td>0.59</td>\n",
              "    </tr>\n",
              "    <tr>\n",
              "      <th>8395</th>\n",
              "      <td>127.1600</td>\n",
              "      <td>0.10</td>\n",
              "      <td>20</td>\n",
              "      <td>-74.03</td>\n",
              "      <td>6.92</td>\n",
              "      <td>0.37</td>\n",
              "    </tr>\n",
              "    <tr>\n",
              "      <th>8396</th>\n",
              "      <td>243.0500</td>\n",
              "      <td>0.02</td>\n",
              "      <td>39</td>\n",
              "      <td>-70.85</td>\n",
              "      <td>5.35</td>\n",
              "      <td>0.40</td>\n",
              "    </tr>\n",
              "    <tr>\n",
              "      <th>8397</th>\n",
              "      <td>3872.8700</td>\n",
              "      <td>0.03</td>\n",
              "      <td>23</td>\n",
              "      <td>565.34</td>\n",
              "      <td>30.00</td>\n",
              "      <td>0.62</td>\n",
              "    </tr>\n",
              "    <tr>\n",
              "      <th>8398</th>\n",
              "      <td>603.6900</td>\n",
              "      <td>0.00</td>\n",
              "      <td>47</td>\n",
              "      <td>131.39</td>\n",
              "      <td>4.86</td>\n",
              "      <td>0.38</td>\n",
              "    </tr>\n",
              "  </tbody>\n",
              "</table>\n",
              "<p>8399 rows × 6 columns</p>\n",
              "</div>"
            ],
            "text/plain": [
              "          Sales  Discount  ...  Shipping_Cost  Product_Base_Margin\n",
              "0      136.8100      0.01  ...           3.60                 0.56\n",
              "1       42.2700      0.01  ...           0.93                 0.54\n",
              "2     4701.6900      0.00  ...           2.50                 0.59\n",
              "3     2337.8900      0.09  ...          14.30                 0.37\n",
              "4     4233.1500      0.08  ...          26.30                 0.38\n",
              "...         ...       ...  ...            ...                  ...\n",
              "8394  2841.4395      0.08  ...           7.69                 0.59\n",
              "8395   127.1600      0.10  ...           6.92                 0.37\n",
              "8396   243.0500      0.02  ...           5.35                 0.40\n",
              "8397  3872.8700      0.03  ...          30.00                 0.62\n",
              "8398   603.6900      0.00  ...           4.86                 0.38\n",
              "\n",
              "[8399 rows x 6 columns]"
            ]
          },
          "metadata": {
            "tags": []
          },
          "execution_count": 21
        }
      ]
    },
    {
      "cell_type": "code",
      "metadata": {
        "id": "UL28Q6lrib08",
        "colab_type": "code",
        "outputId": "c3cb0fb7-7c56-4d04-e96e-fb6130d90499",
        "colab": {
          "base_uri": "https://localhost:8080/",
          "height": 52
        }
      },
      "source": [
        "# The number of rows and columns\n",
        "total_rows=len(market_df.axes[0])\n",
        "total_cols=len(market_df.axes[1])\n",
        "print(\"Number of Rows: \"+str(total_rows))\n",
        "print(\"Number of Columns: \"+str(total_cols))"
      ],
      "execution_count": 0,
      "outputs": [
        {
          "output_type": "stream",
          "text": [
            "Number of Rows: 8399\n",
            "Number of Columns: 10\n"
          ],
          "name": "stdout"
        }
      ]
    },
    {
      "cell_type": "code",
      "metadata": {
        "id": "TR8amZWp6GPw",
        "colab_type": "code",
        "colab": {
          "base_uri": "https://localhost:8080/",
          "height": 35
        },
        "outputId": "2414f016-6d0c-481d-89d7-8521e7289da4"
      },
      "source": [
        "#or\n",
        "market_df.shape"
      ],
      "execution_count": 63,
      "outputs": [
        {
          "output_type": "execute_result",
          "data": {
            "text/plain": [
              "(8399, 10)"
            ]
          },
          "metadata": {
            "tags": []
          },
          "execution_count": 63
        }
      ]
    },
    {
      "cell_type": "code",
      "metadata": {
        "id": "CXbrzwF6jsxn",
        "colab_type": "code",
        "outputId": "3644978e-2efb-471f-b01f-ff27a0182345",
        "colab": {
          "base_uri": "https://localhost:8080/",
          "height": 156
        }
      },
      "source": [
        "# Extract the values of a dataframe as a numpy array\n",
        "print(market_df.values)\n",
        "type(market_df.values)"
      ],
      "execution_count": 0,
      "outputs": [
        {
          "output_type": "stream",
          "text": [
            "[['Ord_5446' 'Prod_16' 'SHP_7609' ... -30.51 3.6 0.56]\n",
            " ['Ord_5406' 'Prod_13' 'SHP_7549' ... 4.56 0.93 0.54]\n",
            " ['Ord_5446' 'Prod_4' 'SHP_7610' ... 1148.9 2.5 0.59]\n",
            " ...\n",
            " ['Ord_5388' 'Prod_6' 'SHP_7524' ... -70.85 5.35 0.4]\n",
            " ['Ord_5348' 'Prod_15' 'SHP_7469' ... 565.34 30.0 0.62]\n",
            " ['Ord_5459' 'Prod_6' 'SHP_7628' ... 131.39 4.86 0.38]]\n"
          ],
          "name": "stdout"
        },
        {
          "output_type": "execute_result",
          "data": {
            "text/plain": [
              "numpy.ndarray"
            ]
          },
          "metadata": {
            "tags": []
          },
          "execution_count": 24
        }
      ]
    },
    {
      "cell_type": "code",
      "metadata": {
        "id": "MvDaKWzCkAzZ",
        "colab_type": "code",
        "outputId": "25322f8f-1308-4bf3-87d0-41f89e11ceeb",
        "colab": {
          "base_uri": "https://localhost:8080/",
          "height": 69
        }
      },
      "source": [
        "market_df.columns"
      ],
      "execution_count": 0,
      "outputs": [
        {
          "output_type": "execute_result",
          "data": {
            "text/plain": [
              "Index(['Ord_id', 'Prod_id', 'Ship_id', 'Cust_id', 'Sales', 'Discount',\n",
              "       'Order_Quantity', 'Profit', 'Shipping_Cost', 'Product_Base_Margin'],\n",
              "      dtype='object')"
            ]
          },
          "metadata": {
            "tags": []
          },
          "execution_count": 25
        }
      ]
    },
    {
      "cell_type": "code",
      "metadata": {
        "id": "CAs4-4-1iU3o",
        "colab_type": "code",
        "outputId": "a24f3d9e-3d28-425f-a14a-bb8d8cac1ddb",
        "colab": {
          "base_uri": "https://localhost:8080/",
          "height": 222
        }
      },
      "source": [
        "# Setting index to Ord_id and store the result in new dataframe market_df_ord\n",
        "# Don't modify original dataset\n",
        "market_df_ord = market_df.set_index('Ord_id')\n",
        "market_df.head()"
      ],
      "execution_count": 0,
      "outputs": [
        {
          "output_type": "execute_result",
          "data": {
            "text/html": [
              "<div>\n",
              "<style scoped>\n",
              "    .dataframe tbody tr th:only-of-type {\n",
              "        vertical-align: middle;\n",
              "    }\n",
              "\n",
              "    .dataframe tbody tr th {\n",
              "        vertical-align: top;\n",
              "    }\n",
              "\n",
              "    .dataframe thead th {\n",
              "        text-align: right;\n",
              "    }\n",
              "</style>\n",
              "<table border=\"1\" class=\"dataframe\">\n",
              "  <thead>\n",
              "    <tr style=\"text-align: right;\">\n",
              "      <th></th>\n",
              "      <th>Ord_id</th>\n",
              "      <th>Prod_id</th>\n",
              "      <th>Ship_id</th>\n",
              "      <th>Cust_id</th>\n",
              "      <th>Sales</th>\n",
              "      <th>Discount</th>\n",
              "      <th>Order_Quantity</th>\n",
              "      <th>Profit</th>\n",
              "      <th>Shipping_Cost</th>\n",
              "      <th>Product_Base_Margin</th>\n",
              "    </tr>\n",
              "  </thead>\n",
              "  <tbody>\n",
              "    <tr>\n",
              "      <th>0</th>\n",
              "      <td>Ord_5446</td>\n",
              "      <td>Prod_16</td>\n",
              "      <td>SHP_7609</td>\n",
              "      <td>Cust_1818</td>\n",
              "      <td>136.81</td>\n",
              "      <td>0.01</td>\n",
              "      <td>23</td>\n",
              "      <td>-30.51</td>\n",
              "      <td>3.60</td>\n",
              "      <td>0.56</td>\n",
              "    </tr>\n",
              "    <tr>\n",
              "      <th>1</th>\n",
              "      <td>Ord_5406</td>\n",
              "      <td>Prod_13</td>\n",
              "      <td>SHP_7549</td>\n",
              "      <td>Cust_1818</td>\n",
              "      <td>42.27</td>\n",
              "      <td>0.01</td>\n",
              "      <td>13</td>\n",
              "      <td>4.56</td>\n",
              "      <td>0.93</td>\n",
              "      <td>0.54</td>\n",
              "    </tr>\n",
              "    <tr>\n",
              "      <th>2</th>\n",
              "      <td>Ord_5446</td>\n",
              "      <td>Prod_4</td>\n",
              "      <td>SHP_7610</td>\n",
              "      <td>Cust_1818</td>\n",
              "      <td>4701.69</td>\n",
              "      <td>0.00</td>\n",
              "      <td>26</td>\n",
              "      <td>1148.90</td>\n",
              "      <td>2.50</td>\n",
              "      <td>0.59</td>\n",
              "    </tr>\n",
              "    <tr>\n",
              "      <th>3</th>\n",
              "      <td>Ord_5456</td>\n",
              "      <td>Prod_6</td>\n",
              "      <td>SHP_7625</td>\n",
              "      <td>Cust_1818</td>\n",
              "      <td>2337.89</td>\n",
              "      <td>0.09</td>\n",
              "      <td>43</td>\n",
              "      <td>729.34</td>\n",
              "      <td>14.30</td>\n",
              "      <td>0.37</td>\n",
              "    </tr>\n",
              "    <tr>\n",
              "      <th>4</th>\n",
              "      <td>Ord_5485</td>\n",
              "      <td>Prod_17</td>\n",
              "      <td>SHP_7664</td>\n",
              "      <td>Cust_1818</td>\n",
              "      <td>4233.15</td>\n",
              "      <td>0.08</td>\n",
              "      <td>35</td>\n",
              "      <td>1219.87</td>\n",
              "      <td>26.30</td>\n",
              "      <td>0.38</td>\n",
              "    </tr>\n",
              "  </tbody>\n",
              "</table>\n",
              "</div>"
            ],
            "text/plain": [
              "     Ord_id  Prod_id   Ship_id  ...   Profit  Shipping_Cost  Product_Base_Margin\n",
              "0  Ord_5446  Prod_16  SHP_7609  ...   -30.51           3.60                 0.56\n",
              "1  Ord_5406  Prod_13  SHP_7549  ...     4.56           0.93                 0.54\n",
              "2  Ord_5446   Prod_4  SHP_7610  ...  1148.90           2.50                 0.59\n",
              "3  Ord_5456   Prod_6  SHP_7625  ...   729.34          14.30                 0.37\n",
              "4  Ord_5485  Prod_17  SHP_7664  ...  1219.87          26.30                 0.38\n",
              "\n",
              "[5 rows x 10 columns]"
            ]
          },
          "metadata": {
            "tags": []
          },
          "execution_count": 28
        }
      ]
    },
    {
      "cell_type": "code",
      "metadata": {
        "id": "xIH2WPQDiVyi",
        "colab_type": "code",
        "colab": {}
      },
      "source": [
        "pd.reset_option('display.max_rows')"
      ],
      "execution_count": 0,
      "outputs": []
    },
    {
      "cell_type": "code",
      "metadata": {
        "id": "DXXlOBpRiV5S",
        "colab_type": "code",
        "outputId": "06923c35-0a83-4620-9d2a-eebaf42e064c",
        "colab": {
          "base_uri": "https://localhost:8080/",
          "height": 466
        }
      },
      "source": [
        "#  Sorting market_df_ord by index\n",
        "# axis = 0 indicates that you want to sort rows (use axis=1 for columns)\n",
        "market_df_ord.sort_index()"
      ],
      "execution_count": 0,
      "outputs": [
        {
          "output_type": "execute_result",
          "data": {
            "text/html": [
              "<div>\n",
              "<style scoped>\n",
              "    .dataframe tbody tr th:only-of-type {\n",
              "        vertical-align: middle;\n",
              "    }\n",
              "\n",
              "    .dataframe tbody tr th {\n",
              "        vertical-align: top;\n",
              "    }\n",
              "\n",
              "    .dataframe thead th {\n",
              "        text-align: right;\n",
              "    }\n",
              "</style>\n",
              "<table border=\"1\" class=\"dataframe\">\n",
              "  <thead>\n",
              "    <tr style=\"text-align: right;\">\n",
              "      <th></th>\n",
              "      <th>Prod_id</th>\n",
              "      <th>Ship_id</th>\n",
              "      <th>Cust_id</th>\n",
              "      <th>Sales</th>\n",
              "      <th>Discount</th>\n",
              "      <th>Order_Quantity</th>\n",
              "      <th>Profit</th>\n",
              "      <th>Shipping_Cost</th>\n",
              "      <th>Product_Base_Margin</th>\n",
              "    </tr>\n",
              "    <tr>\n",
              "      <th>Ord_id</th>\n",
              "      <th></th>\n",
              "      <th></th>\n",
              "      <th></th>\n",
              "      <th></th>\n",
              "      <th></th>\n",
              "      <th></th>\n",
              "      <th></th>\n",
              "      <th></th>\n",
              "      <th></th>\n",
              "    </tr>\n",
              "  </thead>\n",
              "  <tbody>\n",
              "    <tr>\n",
              "      <th>Ord_1</th>\n",
              "      <td>Prod_1</td>\n",
              "      <td>SHP_1</td>\n",
              "      <td>Cust_1</td>\n",
              "      <td>261.54</td>\n",
              "      <td>0.04</td>\n",
              "      <td>6</td>\n",
              "      <td>-213.25</td>\n",
              "      <td>35.00</td>\n",
              "      <td>0.80</td>\n",
              "    </tr>\n",
              "    <tr>\n",
              "      <th>Ord_10</th>\n",
              "      <td>Prod_3</td>\n",
              "      <td>SHP_13</td>\n",
              "      <td>Cust_10</td>\n",
              "      <td>80.61</td>\n",
              "      <td>0.02</td>\n",
              "      <td>15</td>\n",
              "      <td>-4.72</td>\n",
              "      <td>2.99</td>\n",
              "      <td>0.37</td>\n",
              "    </tr>\n",
              "    <tr>\n",
              "      <th>Ord_100</th>\n",
              "      <td>Prod_8</td>\n",
              "      <td>SHP_138</td>\n",
              "      <td>Cust_58</td>\n",
              "      <td>121.12</td>\n",
              "      <td>0.10</td>\n",
              "      <td>3</td>\n",
              "      <td>-118.82</td>\n",
              "      <td>1.99</td>\n",
              "      <td>0.44</td>\n",
              "    </tr>\n",
              "    <tr>\n",
              "      <th>Ord_1000</th>\n",
              "      <td>Prod_6</td>\n",
              "      <td>SHP_1384</td>\n",
              "      <td>Cust_373</td>\n",
              "      <td>334.71</td>\n",
              "      <td>0.01</td>\n",
              "      <td>25</td>\n",
              "      <td>31.74</td>\n",
              "      <td>6.47</td>\n",
              "      <td>0.38</td>\n",
              "    </tr>\n",
              "    <tr>\n",
              "      <th>Ord_1001</th>\n",
              "      <td>Prod_5</td>\n",
              "      <td>SHP_1385</td>\n",
              "      <td>Cust_374</td>\n",
              "      <td>1981.26</td>\n",
              "      <td>0.07</td>\n",
              "      <td>49</td>\n",
              "      <td>100.80</td>\n",
              "      <td>8.66</td>\n",
              "      <td>0.76</td>\n",
              "    </tr>\n",
              "    <tr>\n",
              "      <th>...</th>\n",
              "      <td>...</td>\n",
              "      <td>...</td>\n",
              "      <td>...</td>\n",
              "      <td>...</td>\n",
              "      <td>...</td>\n",
              "      <td>...</td>\n",
              "      <td>...</td>\n",
              "      <td>...</td>\n",
              "      <td>...</td>\n",
              "    </tr>\n",
              "    <tr>\n",
              "      <th>Ord_997</th>\n",
              "      <td>Prod_14</td>\n",
              "      <td>SHP_1379</td>\n",
              "      <td>Cust_365</td>\n",
              "      <td>28761.52</td>\n",
              "      <td>0.04</td>\n",
              "      <td>8</td>\n",
              "      <td>285.11</td>\n",
              "      <td>24.49</td>\n",
              "      <td>0.37</td>\n",
              "    </tr>\n",
              "    <tr>\n",
              "      <th>Ord_998</th>\n",
              "      <td>Prod_5</td>\n",
              "      <td>SHP_1382</td>\n",
              "      <td>Cust_372</td>\n",
              "      <td>2149.37</td>\n",
              "      <td>0.03</td>\n",
              "      <td>42</td>\n",
              "      <td>217.87</td>\n",
              "      <td>19.99</td>\n",
              "      <td>0.55</td>\n",
              "    </tr>\n",
              "    <tr>\n",
              "      <th>Ord_998</th>\n",
              "      <td>Prod_8</td>\n",
              "      <td>SHP_1380</td>\n",
              "      <td>Cust_372</td>\n",
              "      <td>750.66</td>\n",
              "      <td>0.00</td>\n",
              "      <td>33</td>\n",
              "      <td>120.05</td>\n",
              "      <td>4.00</td>\n",
              "      <td>0.60</td>\n",
              "    </tr>\n",
              "    <tr>\n",
              "      <th>Ord_998</th>\n",
              "      <td>Prod_8</td>\n",
              "      <td>SHP_1381</td>\n",
              "      <td>Cust_372</td>\n",
              "      <td>254.32</td>\n",
              "      <td>0.01</td>\n",
              "      <td>8</td>\n",
              "      <td>-117.39</td>\n",
              "      <td>6.50</td>\n",
              "      <td>0.79</td>\n",
              "    </tr>\n",
              "    <tr>\n",
              "      <th>Ord_999</th>\n",
              "      <td>Prod_15</td>\n",
              "      <td>SHP_1383</td>\n",
              "      <td>Cust_361</td>\n",
              "      <td>5661.08</td>\n",
              "      <td>0.00</td>\n",
              "      <td>33</td>\n",
              "      <td>1055.47</td>\n",
              "      <td>30.00</td>\n",
              "      <td>0.62</td>\n",
              "    </tr>\n",
              "  </tbody>\n",
              "</table>\n",
              "<p>8399 rows × 9 columns</p>\n",
              "</div>"
            ],
            "text/plain": [
              "          Prod_id   Ship_id  ... Shipping_Cost  Product_Base_Margin\n",
              "Ord_id                       ...                                   \n",
              "Ord_1      Prod_1     SHP_1  ...         35.00                 0.80\n",
              "Ord_10     Prod_3    SHP_13  ...          2.99                 0.37\n",
              "Ord_100    Prod_8   SHP_138  ...          1.99                 0.44\n",
              "Ord_1000   Prod_6  SHP_1384  ...          6.47                 0.38\n",
              "Ord_1001   Prod_5  SHP_1385  ...          8.66                 0.76\n",
              "...           ...       ...  ...           ...                  ...\n",
              "Ord_997   Prod_14  SHP_1379  ...         24.49                 0.37\n",
              "Ord_998    Prod_5  SHP_1382  ...         19.99                 0.55\n",
              "Ord_998    Prod_8  SHP_1380  ...          4.00                 0.60\n",
              "Ord_998    Prod_8  SHP_1381  ...          6.50                 0.79\n",
              "Ord_999   Prod_15  SHP_1383  ...         30.00                 0.62\n",
              "\n",
              "[8399 rows x 9 columns]"
            ]
          },
          "metadata": {
            "tags": []
          },
          "execution_count": 41
        }
      ]
    },
    {
      "cell_type": "code",
      "metadata": {
        "id": "JgRRsSnmiV2D",
        "colab_type": "code",
        "outputId": "a8fa962a-55c9-469b-97b6-4c52b96213e7",
        "colab": {
          "base_uri": "https://localhost:8080/",
          "height": 121
        }
      },
      "source": [
        "# Sorting market_df_ord by values\n",
        "# Sorting in increasing order of Sales\n",
        "market_df_ord.index.sort_values()"
      ],
      "execution_count": 65,
      "outputs": [
        {
          "output_type": "execute_result",
          "data": {
            "text/plain": [
              "Index(['Ord_1', 'Ord_10', 'Ord_100', 'Ord_1000', 'Ord_1001', 'Ord_1002',\n",
              "       'Ord_1003', 'Ord_1003', 'Ord_1004', 'Ord_1004',\n",
              "       ...\n",
              "       'Ord_996', 'Ord_996', 'Ord_996', 'Ord_996', 'Ord_996', 'Ord_997',\n",
              "       'Ord_998', 'Ord_998', 'Ord_998', 'Ord_999'],\n",
              "      dtype='object', name='Ord_id', length=8399)"
            ]
          },
          "metadata": {
            "tags": []
          },
          "execution_count": 65
        }
      ]
    },
    {
      "cell_type": "code",
      "metadata": {
        "id": "iEPPfA4n8SpP",
        "colab_type": "code",
        "colab": {
          "base_uri": "https://localhost:8080/",
          "height": 501
        },
        "outputId": "64fdb629-0e66-41c8-ed97-e61624946d69"
      },
      "source": [
        "# Sorting market_df_ord by index\n",
        "# axis = 0 indicates that you want to sort rows (use axis=1 for columns)\n",
        "market_df_ord.sort_index(axis=0, ascending = True, inplace = True, by=[ 'Ship_id'] ) #market_df_ord.sort_index(axis=1)\n",
        "market_df_ord"
      ],
      "execution_count": 66,
      "outputs": [
        {
          "output_type": "stream",
          "text": [
            "/usr/local/lib/python3.6/dist-packages/ipykernel_launcher.py:1: FutureWarning: by argument to sort_index is deprecated, please use .sort_values(by=...)\n",
            "  \"\"\"Entry point for launching an IPython kernel.\n"
          ],
          "name": "stderr"
        },
        {
          "output_type": "execute_result",
          "data": {
            "text/html": [
              "<div>\n",
              "<style scoped>\n",
              "    .dataframe tbody tr th:only-of-type {\n",
              "        vertical-align: middle;\n",
              "    }\n",
              "\n",
              "    .dataframe tbody tr th {\n",
              "        vertical-align: top;\n",
              "    }\n",
              "\n",
              "    .dataframe thead th {\n",
              "        text-align: right;\n",
              "    }\n",
              "</style>\n",
              "<table border=\"1\" class=\"dataframe\">\n",
              "  <thead>\n",
              "    <tr style=\"text-align: right;\">\n",
              "      <th></th>\n",
              "      <th>Prod_id</th>\n",
              "      <th>Ship_id</th>\n",
              "      <th>Cust_id</th>\n",
              "      <th>Sales</th>\n",
              "      <th>Discount</th>\n",
              "      <th>Order_Quantity</th>\n",
              "      <th>Profit</th>\n",
              "      <th>Shipping_Cost</th>\n",
              "      <th>Product_Base_Margin</th>\n",
              "    </tr>\n",
              "    <tr>\n",
              "      <th>Ord_id</th>\n",
              "      <th></th>\n",
              "      <th></th>\n",
              "      <th></th>\n",
              "      <th></th>\n",
              "      <th></th>\n",
              "      <th></th>\n",
              "      <th></th>\n",
              "      <th></th>\n",
              "      <th></th>\n",
              "    </tr>\n",
              "  </thead>\n",
              "  <tbody>\n",
              "    <tr>\n",
              "      <th>Ord_1</th>\n",
              "      <td>Prod_1</td>\n",
              "      <td>SHP_1</td>\n",
              "      <td>Cust_1</td>\n",
              "      <td>261.54</td>\n",
              "      <td>0.04</td>\n",
              "      <td>6</td>\n",
              "      <td>-213.25</td>\n",
              "      <td>35.00</td>\n",
              "      <td>0.80</td>\n",
              "    </tr>\n",
              "    <tr>\n",
              "      <th>Ord_8</th>\n",
              "      <td>Prod_7</td>\n",
              "      <td>SHP_10</td>\n",
              "      <td>Cust_8</td>\n",
              "      <td>124.56</td>\n",
              "      <td>0.04</td>\n",
              "      <td>32</td>\n",
              "      <td>-14.33</td>\n",
              "      <td>2.00</td>\n",
              "      <td>0.53</td>\n",
              "    </tr>\n",
              "    <tr>\n",
              "      <th>Ord_8</th>\n",
              "      <td>Prod_6</td>\n",
              "      <td>SHP_10</td>\n",
              "      <td>Cust_8</td>\n",
              "      <td>196.85</td>\n",
              "      <td>0.01</td>\n",
              "      <td>45</td>\n",
              "      <td>-166.85</td>\n",
              "      <td>6.18</td>\n",
              "      <td>0.40</td>\n",
              "    </tr>\n",
              "    <tr>\n",
              "      <th>Ord_75</th>\n",
              "      <td>Prod_11</td>\n",
              "      <td>SHP_100</td>\n",
              "      <td>Cust_50</td>\n",
              "      <td>4679.10</td>\n",
              "      <td>0.05</td>\n",
              "      <td>26</td>\n",
              "      <td>111.52</td>\n",
              "      <td>29.21</td>\n",
              "      <td>0.74</td>\n",
              "    </tr>\n",
              "    <tr>\n",
              "      <th>Ord_735</th>\n",
              "      <td>Prod_5</td>\n",
              "      <td>SHP_1000</td>\n",
              "      <td>Cust_237</td>\n",
              "      <td>823.63</td>\n",
              "      <td>0.03</td>\n",
              "      <td>44</td>\n",
              "      <td>375.02</td>\n",
              "      <td>3.77</td>\n",
              "      <td>0.39</td>\n",
              "    </tr>\n",
              "    <tr>\n",
              "      <th>...</th>\n",
              "      <td>...</td>\n",
              "      <td>...</td>\n",
              "      <td>...</td>\n",
              "      <td>...</td>\n",
              "      <td>...</td>\n",
              "      <td>...</td>\n",
              "      <td>...</td>\n",
              "      <td>...</td>\n",
              "      <td>...</td>\n",
              "    </tr>\n",
              "    <tr>\n",
              "      <th>Ord_730</th>\n",
              "      <td>Prod_15</td>\n",
              "      <td>SHP_995</td>\n",
              "      <td>Cust_253</td>\n",
              "      <td>12979.10</td>\n",
              "      <td>0.03</td>\n",
              "      <td>49</td>\n",
              "      <td>2820.44</td>\n",
              "      <td>54.31</td>\n",
              "      <td>0.55</td>\n",
              "    </tr>\n",
              "    <tr>\n",
              "      <th>Ord_731</th>\n",
              "      <td>Prod_5</td>\n",
              "      <td>SHP_996</td>\n",
              "      <td>Cust_239</td>\n",
              "      <td>2052.82</td>\n",
              "      <td>0.05</td>\n",
              "      <td>30</td>\n",
              "      <td>-870.61</td>\n",
              "      <td>37.58</td>\n",
              "      <td>0.78</td>\n",
              "    </tr>\n",
              "    <tr>\n",
              "      <th>Ord_732</th>\n",
              "      <td>Prod_8</td>\n",
              "      <td>SHP_997</td>\n",
              "      <td>Cust_241</td>\n",
              "      <td>1905.79</td>\n",
              "      <td>0.01</td>\n",
              "      <td>46</td>\n",
              "      <td>675.65</td>\n",
              "      <td>1.99</td>\n",
              "      <td>0.54</td>\n",
              "    </tr>\n",
              "    <tr>\n",
              "      <th>Ord_733</th>\n",
              "      <td>Prod_3</td>\n",
              "      <td>SHP_998</td>\n",
              "      <td>Cust_237</td>\n",
              "      <td>68.88</td>\n",
              "      <td>0.00</td>\n",
              "      <td>24</td>\n",
              "      <td>1.31</td>\n",
              "      <td>1.49</td>\n",
              "      <td>0.39</td>\n",
              "    </tr>\n",
              "    <tr>\n",
              "      <th>Ord_734</th>\n",
              "      <td>Prod_13</td>\n",
              "      <td>SHP_999</td>\n",
              "      <td>Cust_231</td>\n",
              "      <td>110.79</td>\n",
              "      <td>0.10</td>\n",
              "      <td>11</td>\n",
              "      <td>-11.13</td>\n",
              "      <td>2.89</td>\n",
              "      <td>0.60</td>\n",
              "    </tr>\n",
              "  </tbody>\n",
              "</table>\n",
              "<p>8399 rows × 9 columns</p>\n",
              "</div>"
            ],
            "text/plain": [
              "         Prod_id   Ship_id  ... Shipping_Cost  Product_Base_Margin\n",
              "Ord_id                      ...                                   \n",
              "Ord_1     Prod_1     SHP_1  ...         35.00                 0.80\n",
              "Ord_8     Prod_7    SHP_10  ...          2.00                 0.53\n",
              "Ord_8     Prod_6    SHP_10  ...          6.18                 0.40\n",
              "Ord_75   Prod_11   SHP_100  ...         29.21                 0.74\n",
              "Ord_735   Prod_5  SHP_1000  ...          3.77                 0.39\n",
              "...          ...       ...  ...           ...                  ...\n",
              "Ord_730  Prod_15   SHP_995  ...         54.31                 0.55\n",
              "Ord_731   Prod_5   SHP_996  ...         37.58                 0.78\n",
              "Ord_732   Prod_8   SHP_997  ...          1.99                 0.54\n",
              "Ord_733   Prod_3   SHP_998  ...          1.49                 0.39\n",
              "Ord_734  Prod_13   SHP_999  ...          2.89                 0.60\n",
              "\n",
              "[8399 rows x 9 columns]"
            ]
          },
          "metadata": {
            "tags": []
          },
          "execution_count": 66
        }
      ]
    },
    {
      "cell_type": "code",
      "metadata": {
        "id": "WAcUwCYd8c59",
        "colab_type": "code",
        "colab": {
          "base_uri": "https://localhost:8080/",
          "height": 466
        },
        "outputId": "746faeba-a94e-4fc9-8ae7-78502fbca297"
      },
      "source": [
        "# Sorting market_df_ord by values\n",
        "# Sorting in increasing order of Sales\n",
        "market_df_ord.sort_values('Sales', inplace=True)\n",
        "market_df_ord"
      ],
      "execution_count": 67,
      "outputs": [
        {
          "output_type": "execute_result",
          "data": {
            "text/html": [
              "<div>\n",
              "<style scoped>\n",
              "    .dataframe tbody tr th:only-of-type {\n",
              "        vertical-align: middle;\n",
              "    }\n",
              "\n",
              "    .dataframe tbody tr th {\n",
              "        vertical-align: top;\n",
              "    }\n",
              "\n",
              "    .dataframe thead th {\n",
              "        text-align: right;\n",
              "    }\n",
              "</style>\n",
              "<table border=\"1\" class=\"dataframe\">\n",
              "  <thead>\n",
              "    <tr style=\"text-align: right;\">\n",
              "      <th></th>\n",
              "      <th>Prod_id</th>\n",
              "      <th>Ship_id</th>\n",
              "      <th>Cust_id</th>\n",
              "      <th>Sales</th>\n",
              "      <th>Discount</th>\n",
              "      <th>Order_Quantity</th>\n",
              "      <th>Profit</th>\n",
              "      <th>Shipping_Cost</th>\n",
              "      <th>Product_Base_Margin</th>\n",
              "    </tr>\n",
              "    <tr>\n",
              "      <th>Ord_id</th>\n",
              "      <th></th>\n",
              "      <th></th>\n",
              "      <th></th>\n",
              "      <th></th>\n",
              "      <th></th>\n",
              "      <th></th>\n",
              "      <th></th>\n",
              "      <th></th>\n",
              "      <th></th>\n",
              "    </tr>\n",
              "  </thead>\n",
              "  <tbody>\n",
              "    <tr>\n",
              "      <th>Ord_704</th>\n",
              "      <td>Prod_7</td>\n",
              "      <td>SHP_964</td>\n",
              "      <td>Cust_242</td>\n",
              "      <td>2.24</td>\n",
              "      <td>0.01</td>\n",
              "      <td>1</td>\n",
              "      <td>-1.97</td>\n",
              "      <td>0.70</td>\n",
              "      <td>0.37</td>\n",
              "    </tr>\n",
              "    <tr>\n",
              "      <th>Ord_149</th>\n",
              "      <td>Prod_3</td>\n",
              "      <td>SHP_7028</td>\n",
              "      <td>Cust_1712</td>\n",
              "      <td>3.20</td>\n",
              "      <td>0.09</td>\n",
              "      <td>1</td>\n",
              "      <td>-3.16</td>\n",
              "      <td>1.49</td>\n",
              "      <td>0.37</td>\n",
              "    </tr>\n",
              "    <tr>\n",
              "      <th>Ord_4270</th>\n",
              "      <td>Prod_7</td>\n",
              "      <td>SHP_5959</td>\n",
              "      <td>Cust_1450</td>\n",
              "      <td>3.23</td>\n",
              "      <td>0.06</td>\n",
              "      <td>2</td>\n",
              "      <td>-2.73</td>\n",
              "      <td>0.70</td>\n",
              "      <td>0.81</td>\n",
              "    </tr>\n",
              "    <tr>\n",
              "      <th>Ord_4755</th>\n",
              "      <td>Prod_13</td>\n",
              "      <td>SHP_6628</td>\n",
              "      <td>Cust_1579</td>\n",
              "      <td>3.41</td>\n",
              "      <td>0.06</td>\n",
              "      <td>1</td>\n",
              "      <td>-1.78</td>\n",
              "      <td>0.70</td>\n",
              "      <td>0.56</td>\n",
              "    </tr>\n",
              "    <tr>\n",
              "      <th>Ord_2252</th>\n",
              "      <td>Prod_3</td>\n",
              "      <td>SHP_3064</td>\n",
              "      <td>Cust_881</td>\n",
              "      <td>3.42</td>\n",
              "      <td>0.05</td>\n",
              "      <td>1</td>\n",
              "      <td>-2.91</td>\n",
              "      <td>1.49</td>\n",
              "      <td>0.37</td>\n",
              "    </tr>\n",
              "    <tr>\n",
              "      <th>...</th>\n",
              "      <td>...</td>\n",
              "      <td>...</td>\n",
              "      <td>...</td>\n",
              "      <td>...</td>\n",
              "      <td>...</td>\n",
              "      <td>...</td>\n",
              "      <td>...</td>\n",
              "      <td>...</td>\n",
              "      <td>...</td>\n",
              "    </tr>\n",
              "    <tr>\n",
              "      <th>Ord_4614</th>\n",
              "      <td>Prod_14</td>\n",
              "      <td>SHP_6423</td>\n",
              "      <td>Cust_1571</td>\n",
              "      <td>29884.60</td>\n",
              "      <td>0.05</td>\n",
              "      <td>49</td>\n",
              "      <td>12748.86</td>\n",
              "      <td>24.49</td>\n",
              "      <td>0.44</td>\n",
              "    </tr>\n",
              "    <tr>\n",
              "      <th>Ord_2373</th>\n",
              "      <td>Prod_14</td>\n",
              "      <td>SHP_3259</td>\n",
              "      <td>Cust_942</td>\n",
              "      <td>33367.85</td>\n",
              "      <td>0.01</td>\n",
              "      <td>9</td>\n",
              "      <td>3992.52</td>\n",
              "      <td>24.49</td>\n",
              "      <td>0.37</td>\n",
              "    </tr>\n",
              "    <tr>\n",
              "      <th>Ord_3875</th>\n",
              "      <td>Prod_17</td>\n",
              "      <td>SHP_5370</td>\n",
              "      <td>Cust_1351</td>\n",
              "      <td>41343.21</td>\n",
              "      <td>0.09</td>\n",
              "      <td>8</td>\n",
              "      <td>3852.19</td>\n",
              "      <td>24.49</td>\n",
              "      <td>0.39</td>\n",
              "    </tr>\n",
              "    <tr>\n",
              "      <th>Ord_2338</th>\n",
              "      <td>Prod_17</td>\n",
              "      <td>SHP_3207</td>\n",
              "      <td>Cust_932</td>\n",
              "      <td>45923.76</td>\n",
              "      <td>0.07</td>\n",
              "      <td>7</td>\n",
              "      <td>102.61</td>\n",
              "      <td>24.49</td>\n",
              "      <td>0.39</td>\n",
              "    </tr>\n",
              "    <tr>\n",
              "      <th>Ord_3084</th>\n",
              "      <td>Prod_17</td>\n",
              "      <td>SHP_4279</td>\n",
              "      <td>Cust_1151</td>\n",
              "      <td>89061.05</td>\n",
              "      <td>0.00</td>\n",
              "      <td>13</td>\n",
              "      <td>27220.69</td>\n",
              "      <td>24.49</td>\n",
              "      <td>0.39</td>\n",
              "    </tr>\n",
              "  </tbody>\n",
              "</table>\n",
              "<p>8399 rows × 9 columns</p>\n",
              "</div>"
            ],
            "text/plain": [
              "          Prod_id   Ship_id  ... Shipping_Cost  Product_Base_Margin\n",
              "Ord_id                       ...                                   \n",
              "Ord_704    Prod_7   SHP_964  ...          0.70                 0.37\n",
              "Ord_149    Prod_3  SHP_7028  ...          1.49                 0.37\n",
              "Ord_4270   Prod_7  SHP_5959  ...          0.70                 0.81\n",
              "Ord_4755  Prod_13  SHP_6628  ...          0.70                 0.56\n",
              "Ord_2252   Prod_3  SHP_3064  ...          1.49                 0.37\n",
              "...           ...       ...  ...           ...                  ...\n",
              "Ord_4614  Prod_14  SHP_6423  ...         24.49                 0.44\n",
              "Ord_2373  Prod_14  SHP_3259  ...         24.49                 0.37\n",
              "Ord_3875  Prod_17  SHP_5370  ...         24.49                 0.39\n",
              "Ord_2338  Prod_17  SHP_3207  ...         24.49                 0.39\n",
              "Ord_3084  Prod_17  SHP_4279  ...         24.49                 0.39\n",
              "\n",
              "[8399 rows x 9 columns]"
            ]
          },
          "metadata": {
            "tags": []
          },
          "execution_count": 67
        }
      ]
    },
    {
      "cell_type": "code",
      "metadata": {
        "id": "M4fi4NSe80wt",
        "colab_type": "code",
        "colab": {
          "base_uri": "https://localhost:8080/",
          "height": 466
        },
        "outputId": "925f4a27-821a-4501-a61e-dd7c1b504919"
      },
      "source": [
        "# Sorting in decreasing order of Shipping_Cost\n",
        "market_df_ord.sort_values('Shipping_Cost', ascending= False, inplace=True)\n",
        "market_df_ord"
      ],
      "execution_count": 68,
      "outputs": [
        {
          "output_type": "execute_result",
          "data": {
            "text/html": [
              "<div>\n",
              "<style scoped>\n",
              "    .dataframe tbody tr th:only-of-type {\n",
              "        vertical-align: middle;\n",
              "    }\n",
              "\n",
              "    .dataframe tbody tr th {\n",
              "        vertical-align: top;\n",
              "    }\n",
              "\n",
              "    .dataframe thead th {\n",
              "        text-align: right;\n",
              "    }\n",
              "</style>\n",
              "<table border=\"1\" class=\"dataframe\">\n",
              "  <thead>\n",
              "    <tr style=\"text-align: right;\">\n",
              "      <th></th>\n",
              "      <th>Prod_id</th>\n",
              "      <th>Ship_id</th>\n",
              "      <th>Cust_id</th>\n",
              "      <th>Sales</th>\n",
              "      <th>Discount</th>\n",
              "      <th>Order_Quantity</th>\n",
              "      <th>Profit</th>\n",
              "      <th>Shipping_Cost</th>\n",
              "      <th>Product_Base_Margin</th>\n",
              "    </tr>\n",
              "    <tr>\n",
              "      <th>Ord_id</th>\n",
              "      <th></th>\n",
              "      <th></th>\n",
              "      <th></th>\n",
              "      <th></th>\n",
              "      <th></th>\n",
              "      <th></th>\n",
              "      <th></th>\n",
              "      <th></th>\n",
              "      <th></th>\n",
              "    </tr>\n",
              "  </thead>\n",
              "  <tbody>\n",
              "    <tr>\n",
              "      <th>Ord_1751</th>\n",
              "      <td>Prod_15</td>\n",
              "      <td>SHP_2426</td>\n",
              "      <td>Cust_597</td>\n",
              "      <td>14740.510</td>\n",
              "      <td>0.00</td>\n",
              "      <td>46</td>\n",
              "      <td>3407.73</td>\n",
              "      <td>164.73</td>\n",
              "      <td>0.56</td>\n",
              "    </tr>\n",
              "    <tr>\n",
              "      <th>Ord_839</th>\n",
              "      <td>Prod_11</td>\n",
              "      <td>SHP_1361</td>\n",
              "      <td>Cust_364</td>\n",
              "      <td>12689.870</td>\n",
              "      <td>0.04</td>\n",
              "      <td>44</td>\n",
              "      <td>-169.23</td>\n",
              "      <td>154.12</td>\n",
              "      <td>0.76</td>\n",
              "    </tr>\n",
              "    <tr>\n",
              "      <th>Ord_1741</th>\n",
              "      <td>Prod_11</td>\n",
              "      <td>SHP_2411</td>\n",
              "      <td>Cust_595</td>\n",
              "      <td>15168.820</td>\n",
              "      <td>0.02</td>\n",
              "      <td>26</td>\n",
              "      <td>-1096.78</td>\n",
              "      <td>147.12</td>\n",
              "      <td>0.80</td>\n",
              "    </tr>\n",
              "    <tr>\n",
              "      <th>Ord_417</th>\n",
              "      <td>Prod_11</td>\n",
              "      <td>SHP_561</td>\n",
              "      <td>Cust_156</td>\n",
              "      <td>20333.816</td>\n",
              "      <td>0.02</td>\n",
              "      <td>45</td>\n",
              "      <td>-1430.45</td>\n",
              "      <td>147.12</td>\n",
              "      <td>0.80</td>\n",
              "    </tr>\n",
              "    <tr>\n",
              "      <th>Ord_1581</th>\n",
              "      <td>Prod_15</td>\n",
              "      <td>SHP_2184</td>\n",
              "      <td>Cust_519</td>\n",
              "      <td>2573.920</td>\n",
              "      <td>0.07</td>\n",
              "      <td>17</td>\n",
              "      <td>117.23</td>\n",
              "      <td>143.71</td>\n",
              "      <td>0.55</td>\n",
              "    </tr>\n",
              "    <tr>\n",
              "      <th>...</th>\n",
              "      <td>...</td>\n",
              "      <td>...</td>\n",
              "      <td>...</td>\n",
              "      <td>...</td>\n",
              "      <td>...</td>\n",
              "      <td>...</td>\n",
              "      <td>...</td>\n",
              "      <td>...</td>\n",
              "      <td>...</td>\n",
              "    </tr>\n",
              "    <tr>\n",
              "      <th>Ord_1987</th>\n",
              "      <td>Prod_12</td>\n",
              "      <td>SHP_2716</td>\n",
              "      <td>Cust_749</td>\n",
              "      <td>72.930</td>\n",
              "      <td>0.01</td>\n",
              "      <td>23</td>\n",
              "      <td>28.55</td>\n",
              "      <td>0.49</td>\n",
              "      <td>0.37</td>\n",
              "    </tr>\n",
              "    <tr>\n",
              "      <th>Ord_1387</th>\n",
              "      <td>Prod_12</td>\n",
              "      <td>SHP_1914</td>\n",
              "      <td>Cust_535</td>\n",
              "      <td>103.620</td>\n",
              "      <td>0.10</td>\n",
              "      <td>15</td>\n",
              "      <td>39.98</td>\n",
              "      <td>0.49</td>\n",
              "      <td>0.38</td>\n",
              "    </tr>\n",
              "    <tr>\n",
              "      <th>Ord_1890</th>\n",
              "      <td>Prod_12</td>\n",
              "      <td>SHP_2596</td>\n",
              "      <td>Cust_880</td>\n",
              "      <td>251.050</td>\n",
              "      <td>0.10</td>\n",
              "      <td>36</td>\n",
              "      <td>118.79</td>\n",
              "      <td>0.49</td>\n",
              "      <td>0.38</td>\n",
              "    </tr>\n",
              "    <tr>\n",
              "      <th>Ord_284</th>\n",
              "      <td>Prod_12</td>\n",
              "      <td>SHP_384</td>\n",
              "      <td>Cust_105</td>\n",
              "      <td>97.130</td>\n",
              "      <td>0.05</td>\n",
              "      <td>1</td>\n",
              "      <td>-37.06</td>\n",
              "      <td>0.49</td>\n",
              "      <td>0.36</td>\n",
              "    </tr>\n",
              "    <tr>\n",
              "      <th>Ord_3484</th>\n",
              "      <td>Prod_12</td>\n",
              "      <td>SHP_4824</td>\n",
              "      <td>Cust_1253</td>\n",
              "      <td>195.510</td>\n",
              "      <td>0.03</td>\n",
              "      <td>37</td>\n",
              "      <td>95.56</td>\n",
              "      <td>0.49</td>\n",
              "      <td>0.39</td>\n",
              "    </tr>\n",
              "  </tbody>\n",
              "</table>\n",
              "<p>8399 rows × 9 columns</p>\n",
              "</div>"
            ],
            "text/plain": [
              "          Prod_id   Ship_id  ... Shipping_Cost  Product_Base_Margin\n",
              "Ord_id                       ...                                   \n",
              "Ord_1751  Prod_15  SHP_2426  ...        164.73                 0.56\n",
              "Ord_839   Prod_11  SHP_1361  ...        154.12                 0.76\n",
              "Ord_1741  Prod_11  SHP_2411  ...        147.12                 0.80\n",
              "Ord_417   Prod_11   SHP_561  ...        147.12                 0.80\n",
              "Ord_1581  Prod_15  SHP_2184  ...        143.71                 0.55\n",
              "...           ...       ...  ...           ...                  ...\n",
              "Ord_1987  Prod_12  SHP_2716  ...          0.49                 0.37\n",
              "Ord_1387  Prod_12  SHP_1914  ...          0.49                 0.38\n",
              "Ord_1890  Prod_12  SHP_2596  ...          0.49                 0.38\n",
              "Ord_284   Prod_12   SHP_384  ...          0.49                 0.36\n",
              "Ord_3484  Prod_12  SHP_4824  ...          0.49                 0.39\n",
              "\n",
              "[8399 rows x 9 columns]"
            ]
          },
          "metadata": {
            "tags": []
          },
          "execution_count": 68
        }
      ]
    },
    {
      "cell_type": "code",
      "metadata": {
        "id": "u07tVYGq9Bmo",
        "colab_type": "code",
        "colab": {
          "base_uri": "https://localhost:8080/",
          "height": 121
        },
        "outputId": "a7318123-e139-4561-bbc0-79ab51e64852"
      },
      "source": [
        "market_df_ord.index"
      ],
      "execution_count": 69,
      "outputs": [
        {
          "output_type": "execute_result",
          "data": {
            "text/plain": [
              "Index(['Ord_1751', 'Ord_839', 'Ord_1741', 'Ord_417', 'Ord_1581', 'Ord_1021',\n",
              "       'Ord_1686', 'Ord_906', 'Ord_2746', 'Ord_5039',\n",
              "       ...\n",
              "       'Ord_2400', 'Ord_1285', 'Ord_2852', 'Ord_428', 'Ord_23', 'Ord_1987',\n",
              "       'Ord_1387', 'Ord_1890', 'Ord_284', 'Ord_3484'],\n",
              "      dtype='object', name='Ord_id', length=8399)"
            ]
          },
          "metadata": {
            "tags": []
          },
          "execution_count": 69
        }
      ]
    },
    {
      "cell_type": "code",
      "metadata": {
        "id": "lgEAsdz1iUz3",
        "colab_type": "code",
        "outputId": "64221205-7275-4d2b-8671-cfbab993a754",
        "colab": {
          "base_uri": "https://localhost:8080/",
          "height": 253
        }
      },
      "source": [
        "# Selecting the rows from indices 2 to 6\n",
        "market_df_ord.iloc[2:7,:]"
      ],
      "execution_count": 70,
      "outputs": [
        {
          "output_type": "execute_result",
          "data": {
            "text/html": [
              "<div>\n",
              "<style scoped>\n",
              "    .dataframe tbody tr th:only-of-type {\n",
              "        vertical-align: middle;\n",
              "    }\n",
              "\n",
              "    .dataframe tbody tr th {\n",
              "        vertical-align: top;\n",
              "    }\n",
              "\n",
              "    .dataframe thead th {\n",
              "        text-align: right;\n",
              "    }\n",
              "</style>\n",
              "<table border=\"1\" class=\"dataframe\">\n",
              "  <thead>\n",
              "    <tr style=\"text-align: right;\">\n",
              "      <th></th>\n",
              "      <th>Prod_id</th>\n",
              "      <th>Ship_id</th>\n",
              "      <th>Cust_id</th>\n",
              "      <th>Sales</th>\n",
              "      <th>Discount</th>\n",
              "      <th>Order_Quantity</th>\n",
              "      <th>Profit</th>\n",
              "      <th>Shipping_Cost</th>\n",
              "      <th>Product_Base_Margin</th>\n",
              "    </tr>\n",
              "    <tr>\n",
              "      <th>Ord_id</th>\n",
              "      <th></th>\n",
              "      <th></th>\n",
              "      <th></th>\n",
              "      <th></th>\n",
              "      <th></th>\n",
              "      <th></th>\n",
              "      <th></th>\n",
              "      <th></th>\n",
              "      <th></th>\n",
              "    </tr>\n",
              "  </thead>\n",
              "  <tbody>\n",
              "    <tr>\n",
              "      <th>Ord_1741</th>\n",
              "      <td>Prod_11</td>\n",
              "      <td>SHP_2411</td>\n",
              "      <td>Cust_595</td>\n",
              "      <td>15168.820</td>\n",
              "      <td>0.02</td>\n",
              "      <td>26</td>\n",
              "      <td>-1096.78</td>\n",
              "      <td>147.12</td>\n",
              "      <td>0.80</td>\n",
              "    </tr>\n",
              "    <tr>\n",
              "      <th>Ord_417</th>\n",
              "      <td>Prod_11</td>\n",
              "      <td>SHP_561</td>\n",
              "      <td>Cust_156</td>\n",
              "      <td>20333.816</td>\n",
              "      <td>0.02</td>\n",
              "      <td>45</td>\n",
              "      <td>-1430.45</td>\n",
              "      <td>147.12</td>\n",
              "      <td>0.80</td>\n",
              "    </tr>\n",
              "    <tr>\n",
              "      <th>Ord_1581</th>\n",
              "      <td>Prod_15</td>\n",
              "      <td>SHP_2184</td>\n",
              "      <td>Cust_519</td>\n",
              "      <td>2573.920</td>\n",
              "      <td>0.07</td>\n",
              "      <td>17</td>\n",
              "      <td>117.23</td>\n",
              "      <td>143.71</td>\n",
              "      <td>0.55</td>\n",
              "    </tr>\n",
              "    <tr>\n",
              "      <th>Ord_1021</th>\n",
              "      <td>Prod_15</td>\n",
              "      <td>SHP_1411</td>\n",
              "      <td>Cust_387</td>\n",
              "      <td>5544.990</td>\n",
              "      <td>0.04</td>\n",
              "      <td>43</td>\n",
              "      <td>-3404.24</td>\n",
              "      <td>130.00</td>\n",
              "      <td>0.78</td>\n",
              "    </tr>\n",
              "    <tr>\n",
              "      <th>Ord_1686</th>\n",
              "      <td>Prod_15</td>\n",
              "      <td>SHP_2331</td>\n",
              "      <td>Cust_581</td>\n",
              "      <td>19342.840</td>\n",
              "      <td>0.01</td>\n",
              "      <td>39</td>\n",
              "      <td>5603.95</td>\n",
              "      <td>126.00</td>\n",
              "      <td>0.60</td>\n",
              "    </tr>\n",
              "  </tbody>\n",
              "</table>\n",
              "</div>"
            ],
            "text/plain": [
              "          Prod_id   Ship_id  ... Shipping_Cost  Product_Base_Margin\n",
              "Ord_id                       ...                                   \n",
              "Ord_1741  Prod_11  SHP_2411  ...        147.12                 0.80\n",
              "Ord_417   Prod_11   SHP_561  ...        147.12                 0.80\n",
              "Ord_1581  Prod_15  SHP_2184  ...        143.71                 0.55\n",
              "Ord_1021  Prod_15  SHP_1411  ...        130.00                 0.78\n",
              "Ord_1686  Prod_15  SHP_2331  ...        126.00                 0.60\n",
              "\n",
              "[5 rows x 9 columns]"
            ]
          },
          "metadata": {
            "tags": []
          },
          "execution_count": 70
        }
      ]
    },
    {
      "cell_type": "code",
      "metadata": {
        "id": "Lr94xHap9mrj",
        "colab_type": "code",
        "colab": {
          "base_uri": "https://localhost:8080/",
          "height": 483
        },
        "outputId": "0b32f7a8-c487-45fb-9181-819fc697522b"
      },
      "source": [
        "print(market_df_ord.shape)\n",
        "market_df_ord"
      ],
      "execution_count": 71,
      "outputs": [
        {
          "output_type": "stream",
          "text": [
            "(8399, 9)\n"
          ],
          "name": "stdout"
        },
        {
          "output_type": "execute_result",
          "data": {
            "text/html": [
              "<div>\n",
              "<style scoped>\n",
              "    .dataframe tbody tr th:only-of-type {\n",
              "        vertical-align: middle;\n",
              "    }\n",
              "\n",
              "    .dataframe tbody tr th {\n",
              "        vertical-align: top;\n",
              "    }\n",
              "\n",
              "    .dataframe thead th {\n",
              "        text-align: right;\n",
              "    }\n",
              "</style>\n",
              "<table border=\"1\" class=\"dataframe\">\n",
              "  <thead>\n",
              "    <tr style=\"text-align: right;\">\n",
              "      <th></th>\n",
              "      <th>Prod_id</th>\n",
              "      <th>Ship_id</th>\n",
              "      <th>Cust_id</th>\n",
              "      <th>Sales</th>\n",
              "      <th>Discount</th>\n",
              "      <th>Order_Quantity</th>\n",
              "      <th>Profit</th>\n",
              "      <th>Shipping_Cost</th>\n",
              "      <th>Product_Base_Margin</th>\n",
              "    </tr>\n",
              "    <tr>\n",
              "      <th>Ord_id</th>\n",
              "      <th></th>\n",
              "      <th></th>\n",
              "      <th></th>\n",
              "      <th></th>\n",
              "      <th></th>\n",
              "      <th></th>\n",
              "      <th></th>\n",
              "      <th></th>\n",
              "      <th></th>\n",
              "    </tr>\n",
              "  </thead>\n",
              "  <tbody>\n",
              "    <tr>\n",
              "      <th>Ord_1751</th>\n",
              "      <td>Prod_15</td>\n",
              "      <td>SHP_2426</td>\n",
              "      <td>Cust_597</td>\n",
              "      <td>14740.510</td>\n",
              "      <td>0.00</td>\n",
              "      <td>46</td>\n",
              "      <td>3407.73</td>\n",
              "      <td>164.73</td>\n",
              "      <td>0.56</td>\n",
              "    </tr>\n",
              "    <tr>\n",
              "      <th>Ord_839</th>\n",
              "      <td>Prod_11</td>\n",
              "      <td>SHP_1361</td>\n",
              "      <td>Cust_364</td>\n",
              "      <td>12689.870</td>\n",
              "      <td>0.04</td>\n",
              "      <td>44</td>\n",
              "      <td>-169.23</td>\n",
              "      <td>154.12</td>\n",
              "      <td>0.76</td>\n",
              "    </tr>\n",
              "    <tr>\n",
              "      <th>Ord_1741</th>\n",
              "      <td>Prod_11</td>\n",
              "      <td>SHP_2411</td>\n",
              "      <td>Cust_595</td>\n",
              "      <td>15168.820</td>\n",
              "      <td>0.02</td>\n",
              "      <td>26</td>\n",
              "      <td>-1096.78</td>\n",
              "      <td>147.12</td>\n",
              "      <td>0.80</td>\n",
              "    </tr>\n",
              "    <tr>\n",
              "      <th>Ord_417</th>\n",
              "      <td>Prod_11</td>\n",
              "      <td>SHP_561</td>\n",
              "      <td>Cust_156</td>\n",
              "      <td>20333.816</td>\n",
              "      <td>0.02</td>\n",
              "      <td>45</td>\n",
              "      <td>-1430.45</td>\n",
              "      <td>147.12</td>\n",
              "      <td>0.80</td>\n",
              "    </tr>\n",
              "    <tr>\n",
              "      <th>Ord_1581</th>\n",
              "      <td>Prod_15</td>\n",
              "      <td>SHP_2184</td>\n",
              "      <td>Cust_519</td>\n",
              "      <td>2573.920</td>\n",
              "      <td>0.07</td>\n",
              "      <td>17</td>\n",
              "      <td>117.23</td>\n",
              "      <td>143.71</td>\n",
              "      <td>0.55</td>\n",
              "    </tr>\n",
              "    <tr>\n",
              "      <th>...</th>\n",
              "      <td>...</td>\n",
              "      <td>...</td>\n",
              "      <td>...</td>\n",
              "      <td>...</td>\n",
              "      <td>...</td>\n",
              "      <td>...</td>\n",
              "      <td>...</td>\n",
              "      <td>...</td>\n",
              "      <td>...</td>\n",
              "    </tr>\n",
              "    <tr>\n",
              "      <th>Ord_1987</th>\n",
              "      <td>Prod_12</td>\n",
              "      <td>SHP_2716</td>\n",
              "      <td>Cust_749</td>\n",
              "      <td>72.930</td>\n",
              "      <td>0.01</td>\n",
              "      <td>23</td>\n",
              "      <td>28.55</td>\n",
              "      <td>0.49</td>\n",
              "      <td>0.37</td>\n",
              "    </tr>\n",
              "    <tr>\n",
              "      <th>Ord_1387</th>\n",
              "      <td>Prod_12</td>\n",
              "      <td>SHP_1914</td>\n",
              "      <td>Cust_535</td>\n",
              "      <td>103.620</td>\n",
              "      <td>0.10</td>\n",
              "      <td>15</td>\n",
              "      <td>39.98</td>\n",
              "      <td>0.49</td>\n",
              "      <td>0.38</td>\n",
              "    </tr>\n",
              "    <tr>\n",
              "      <th>Ord_1890</th>\n",
              "      <td>Prod_12</td>\n",
              "      <td>SHP_2596</td>\n",
              "      <td>Cust_880</td>\n",
              "      <td>251.050</td>\n",
              "      <td>0.10</td>\n",
              "      <td>36</td>\n",
              "      <td>118.79</td>\n",
              "      <td>0.49</td>\n",
              "      <td>0.38</td>\n",
              "    </tr>\n",
              "    <tr>\n",
              "      <th>Ord_284</th>\n",
              "      <td>Prod_12</td>\n",
              "      <td>SHP_384</td>\n",
              "      <td>Cust_105</td>\n",
              "      <td>97.130</td>\n",
              "      <td>0.05</td>\n",
              "      <td>1</td>\n",
              "      <td>-37.06</td>\n",
              "      <td>0.49</td>\n",
              "      <td>0.36</td>\n",
              "    </tr>\n",
              "    <tr>\n",
              "      <th>Ord_3484</th>\n",
              "      <td>Prod_12</td>\n",
              "      <td>SHP_4824</td>\n",
              "      <td>Cust_1253</td>\n",
              "      <td>195.510</td>\n",
              "      <td>0.03</td>\n",
              "      <td>37</td>\n",
              "      <td>95.56</td>\n",
              "      <td>0.49</td>\n",
              "      <td>0.39</td>\n",
              "    </tr>\n",
              "  </tbody>\n",
              "</table>\n",
              "<p>8399 rows × 9 columns</p>\n",
              "</div>"
            ],
            "text/plain": [
              "          Prod_id   Ship_id  ... Shipping_Cost  Product_Base_Margin\n",
              "Ord_id                       ...                                   \n",
              "Ord_1751  Prod_15  SHP_2426  ...        164.73                 0.56\n",
              "Ord_839   Prod_11  SHP_1361  ...        154.12                 0.76\n",
              "Ord_1741  Prod_11  SHP_2411  ...        147.12                 0.80\n",
              "Ord_417   Prod_11   SHP_561  ...        147.12                 0.80\n",
              "Ord_1581  Prod_15  SHP_2184  ...        143.71                 0.55\n",
              "...           ...       ...  ...           ...                  ...\n",
              "Ord_1987  Prod_12  SHP_2716  ...          0.49                 0.37\n",
              "Ord_1387  Prod_12  SHP_1914  ...          0.49                 0.38\n",
              "Ord_1890  Prod_12  SHP_2596  ...          0.49                 0.38\n",
              "Ord_284   Prod_12   SHP_384  ...          0.49                 0.36\n",
              "Ord_3484  Prod_12  SHP_4824  ...          0.49                 0.39\n",
              "\n",
              "[8399 rows x 9 columns]"
            ]
          },
          "metadata": {
            "tags": []
          },
          "execution_count": 71
        }
      ]
    },
    {
      "cell_type": "code",
      "metadata": {
        "id": "Sin8KA2vr7Ux",
        "colab_type": "code",
        "outputId": "6464fde8-f72a-4f1b-8f53-8cc75d3003ba",
        "colab": {
          "base_uri": "https://localhost:8080/",
          "height": 483
        }
      },
      "source": [
        "# Selecting alternate rows starting from index = 5\n",
        "market=market_df_ord.iloc[5::2]\n",
        "print(market.shape)\n",
        "market"
      ],
      "execution_count": 72,
      "outputs": [
        {
          "output_type": "stream",
          "text": [
            "(4197, 9)\n"
          ],
          "name": "stdout"
        },
        {
          "output_type": "execute_result",
          "data": {
            "text/html": [
              "<div>\n",
              "<style scoped>\n",
              "    .dataframe tbody tr th:only-of-type {\n",
              "        vertical-align: middle;\n",
              "    }\n",
              "\n",
              "    .dataframe tbody tr th {\n",
              "        vertical-align: top;\n",
              "    }\n",
              "\n",
              "    .dataframe thead th {\n",
              "        text-align: right;\n",
              "    }\n",
              "</style>\n",
              "<table border=\"1\" class=\"dataframe\">\n",
              "  <thead>\n",
              "    <tr style=\"text-align: right;\">\n",
              "      <th></th>\n",
              "      <th>Prod_id</th>\n",
              "      <th>Ship_id</th>\n",
              "      <th>Cust_id</th>\n",
              "      <th>Sales</th>\n",
              "      <th>Discount</th>\n",
              "      <th>Order_Quantity</th>\n",
              "      <th>Profit</th>\n",
              "      <th>Shipping_Cost</th>\n",
              "      <th>Product_Base_Margin</th>\n",
              "    </tr>\n",
              "    <tr>\n",
              "      <th>Ord_id</th>\n",
              "      <th></th>\n",
              "      <th></th>\n",
              "      <th></th>\n",
              "      <th></th>\n",
              "      <th></th>\n",
              "      <th></th>\n",
              "      <th></th>\n",
              "      <th></th>\n",
              "      <th></th>\n",
              "    </tr>\n",
              "  </thead>\n",
              "  <tbody>\n",
              "    <tr>\n",
              "      <th>Ord_1021</th>\n",
              "      <td>Prod_15</td>\n",
              "      <td>SHP_1411</td>\n",
              "      <td>Cust_387</td>\n",
              "      <td>5544.990</td>\n",
              "      <td>0.04</td>\n",
              "      <td>43</td>\n",
              "      <td>-3404.24</td>\n",
              "      <td>130.00</td>\n",
              "      <td>0.78</td>\n",
              "    </tr>\n",
              "    <tr>\n",
              "      <th>Ord_906</th>\n",
              "      <td>Prod_11</td>\n",
              "      <td>SHP_1248</td>\n",
              "      <td>Cust_321</td>\n",
              "      <td>1662.048</td>\n",
              "      <td>0.03</td>\n",
              "      <td>9</td>\n",
              "      <td>-471.26</td>\n",
              "      <td>110.20</td>\n",
              "      <td>0.73</td>\n",
              "    </tr>\n",
              "    <tr>\n",
              "      <th>Ord_5039</th>\n",
              "      <td>Prod_11</td>\n",
              "      <td>SHP_7031</td>\n",
              "      <td>Cust_1712</td>\n",
              "      <td>10692.970</td>\n",
              "      <td>0.05</td>\n",
              "      <td>26</td>\n",
              "      <td>-410.39</td>\n",
              "      <td>110.20</td>\n",
              "      <td>0.67</td>\n",
              "    </tr>\n",
              "    <tr>\n",
              "      <th>Ord_2807</th>\n",
              "      <td>Prod_11</td>\n",
              "      <td>SHP_3864</td>\n",
              "      <td>Cust_1029</td>\n",
              "      <td>8789.540</td>\n",
              "      <td>0.07</td>\n",
              "      <td>22</td>\n",
              "      <td>-1025.19</td>\n",
              "      <td>110.20</td>\n",
              "      <td>0.67</td>\n",
              "    </tr>\n",
              "    <tr>\n",
              "      <th>Ord_5299</th>\n",
              "      <td>Prod_11</td>\n",
              "      <td>SHP_7398</td>\n",
              "      <td>Cust_1784</td>\n",
              "      <td>4887.140</td>\n",
              "      <td>0.08</td>\n",
              "      <td>12</td>\n",
              "      <td>-694.33</td>\n",
              "      <td>110.20</td>\n",
              "      <td>0.67</td>\n",
              "    </tr>\n",
              "    <tr>\n",
              "      <th>...</th>\n",
              "      <td>...</td>\n",
              "      <td>...</td>\n",
              "      <td>...</td>\n",
              "      <td>...</td>\n",
              "      <td>...</td>\n",
              "      <td>...</td>\n",
              "      <td>...</td>\n",
              "      <td>...</td>\n",
              "      <td>...</td>\n",
              "    </tr>\n",
              "    <tr>\n",
              "      <th>Ord_2400</th>\n",
              "      <td>Prod_12</td>\n",
              "      <td>SHP_3292</td>\n",
              "      <td>Cust_934</td>\n",
              "      <td>76.060</td>\n",
              "      <td>0.02</td>\n",
              "      <td>24</td>\n",
              "      <td>30.03</td>\n",
              "      <td>0.49</td>\n",
              "      <td>0.37</td>\n",
              "    </tr>\n",
              "    <tr>\n",
              "      <th>Ord_2852</th>\n",
              "      <td>Prod_12</td>\n",
              "      <td>SHP_3925</td>\n",
              "      <td>Cust_1043</td>\n",
              "      <td>493.260</td>\n",
              "      <td>0.02</td>\n",
              "      <td>39</td>\n",
              "      <td>263.40</td>\n",
              "      <td>0.49</td>\n",
              "      <td>0.38</td>\n",
              "    </tr>\n",
              "    <tr>\n",
              "      <th>Ord_23</th>\n",
              "      <td>Prod_12</td>\n",
              "      <td>SHP_31</td>\n",
              "      <td>Cust_18</td>\n",
              "      <td>282.070</td>\n",
              "      <td>0.03</td>\n",
              "      <td>39</td>\n",
              "      <td>140.01</td>\n",
              "      <td>0.49</td>\n",
              "      <td>0.38</td>\n",
              "    </tr>\n",
              "    <tr>\n",
              "      <th>Ord_1387</th>\n",
              "      <td>Prod_12</td>\n",
              "      <td>SHP_1914</td>\n",
              "      <td>Cust_535</td>\n",
              "      <td>103.620</td>\n",
              "      <td>0.10</td>\n",
              "      <td>15</td>\n",
              "      <td>39.98</td>\n",
              "      <td>0.49</td>\n",
              "      <td>0.38</td>\n",
              "    </tr>\n",
              "    <tr>\n",
              "      <th>Ord_284</th>\n",
              "      <td>Prod_12</td>\n",
              "      <td>SHP_384</td>\n",
              "      <td>Cust_105</td>\n",
              "      <td>97.130</td>\n",
              "      <td>0.05</td>\n",
              "      <td>1</td>\n",
              "      <td>-37.06</td>\n",
              "      <td>0.49</td>\n",
              "      <td>0.36</td>\n",
              "    </tr>\n",
              "  </tbody>\n",
              "</table>\n",
              "<p>4197 rows × 9 columns</p>\n",
              "</div>"
            ],
            "text/plain": [
              "          Prod_id   Ship_id  ... Shipping_Cost  Product_Base_Margin\n",
              "Ord_id                       ...                                   \n",
              "Ord_1021  Prod_15  SHP_1411  ...        130.00                 0.78\n",
              "Ord_906   Prod_11  SHP_1248  ...        110.20                 0.73\n",
              "Ord_5039  Prod_11  SHP_7031  ...        110.20                 0.67\n",
              "Ord_2807  Prod_11  SHP_3864  ...        110.20                 0.67\n",
              "Ord_5299  Prod_11  SHP_7398  ...        110.20                 0.67\n",
              "...           ...       ...  ...           ...                  ...\n",
              "Ord_2400  Prod_12  SHP_3292  ...          0.49                 0.37\n",
              "Ord_2852  Prod_12  SHP_3925  ...          0.49                 0.38\n",
              "Ord_23    Prod_12    SHP_31  ...          0.49                 0.38\n",
              "Ord_1387  Prod_12  SHP_1914  ...          0.49                 0.38\n",
              "Ord_284   Prod_12   SHP_384  ...          0.49                 0.36\n",
              "\n",
              "[4197 rows x 9 columns]"
            ]
          },
          "metadata": {
            "tags": []
          },
          "execution_count": 72
        }
      ]
    },
    {
      "cell_type": "code",
      "metadata": {
        "id": "LZ3NHaP5r8Nx",
        "colab_type": "code",
        "outputId": "52f24f99-104a-46b6-b043-bbbf3adae8df",
        "colab": {
          "base_uri": "https://localhost:8080/",
          "height": 243
        }
      },
      "source": [
        "# Select Sales column as series\n",
        "market_df_ord.Sales"
      ],
      "execution_count": 73,
      "outputs": [
        {
          "output_type": "execute_result",
          "data": {
            "text/plain": [
              "Ord_id\n",
              "Ord_1751    14740.510\n",
              "Ord_839     12689.870\n",
              "Ord_1741    15168.820\n",
              "Ord_417     20333.816\n",
              "Ord_1581     2573.920\n",
              "              ...    \n",
              "Ord_1987       72.930\n",
              "Ord_1387      103.620\n",
              "Ord_1890      251.050\n",
              "Ord_284        97.130\n",
              "Ord_3484      195.510\n",
              "Name: Sales, Length: 8399, dtype: float64"
            ]
          },
          "metadata": {
            "tags": []
          },
          "execution_count": 73
        }
      ]
    },
    {
      "cell_type": "code",
      "metadata": {
        "id": "lCrvkZBwr8fE",
        "colab_type": "code",
        "outputId": "68ae92a3-3564-4202-bb9a-a877c321aeff",
        "colab": {
          "base_uri": "https://localhost:8080/",
          "height": 446
        }
      },
      "source": [
        "# Select Sales column as DataFrame\n",
        "market_df_ord[['Sales']]"
      ],
      "execution_count": 74,
      "outputs": [
        {
          "output_type": "execute_result",
          "data": {
            "text/html": [
              "<div>\n",
              "<style scoped>\n",
              "    .dataframe tbody tr th:only-of-type {\n",
              "        vertical-align: middle;\n",
              "    }\n",
              "\n",
              "    .dataframe tbody tr th {\n",
              "        vertical-align: top;\n",
              "    }\n",
              "\n",
              "    .dataframe thead th {\n",
              "        text-align: right;\n",
              "    }\n",
              "</style>\n",
              "<table border=\"1\" class=\"dataframe\">\n",
              "  <thead>\n",
              "    <tr style=\"text-align: right;\">\n",
              "      <th></th>\n",
              "      <th>Sales</th>\n",
              "    </tr>\n",
              "    <tr>\n",
              "      <th>Ord_id</th>\n",
              "      <th></th>\n",
              "    </tr>\n",
              "  </thead>\n",
              "  <tbody>\n",
              "    <tr>\n",
              "      <th>Ord_1751</th>\n",
              "      <td>14740.510</td>\n",
              "    </tr>\n",
              "    <tr>\n",
              "      <th>Ord_839</th>\n",
              "      <td>12689.870</td>\n",
              "    </tr>\n",
              "    <tr>\n",
              "      <th>Ord_1741</th>\n",
              "      <td>15168.820</td>\n",
              "    </tr>\n",
              "    <tr>\n",
              "      <th>Ord_417</th>\n",
              "      <td>20333.816</td>\n",
              "    </tr>\n",
              "    <tr>\n",
              "      <th>Ord_1581</th>\n",
              "      <td>2573.920</td>\n",
              "    </tr>\n",
              "    <tr>\n",
              "      <th>...</th>\n",
              "      <td>...</td>\n",
              "    </tr>\n",
              "    <tr>\n",
              "      <th>Ord_1987</th>\n",
              "      <td>72.930</td>\n",
              "    </tr>\n",
              "    <tr>\n",
              "      <th>Ord_1387</th>\n",
              "      <td>103.620</td>\n",
              "    </tr>\n",
              "    <tr>\n",
              "      <th>Ord_1890</th>\n",
              "      <td>251.050</td>\n",
              "    </tr>\n",
              "    <tr>\n",
              "      <th>Ord_284</th>\n",
              "      <td>97.130</td>\n",
              "    </tr>\n",
              "    <tr>\n",
              "      <th>Ord_3484</th>\n",
              "      <td>195.510</td>\n",
              "    </tr>\n",
              "  </tbody>\n",
              "</table>\n",
              "<p>8399 rows × 1 columns</p>\n",
              "</div>"
            ],
            "text/plain": [
              "              Sales\n",
              "Ord_id             \n",
              "Ord_1751  14740.510\n",
              "Ord_839   12689.870\n",
              "Ord_1741  15168.820\n",
              "Ord_417   20333.816\n",
              "Ord_1581   2573.920\n",
              "...             ...\n",
              "Ord_1987     72.930\n",
              "Ord_1387    103.620\n",
              "Ord_1890    251.050\n",
              "Ord_284      97.130\n",
              "Ord_3484    195.510\n",
              "\n",
              "[8399 rows x 1 columns]"
            ]
          },
          "metadata": {
            "tags": []
          },
          "execution_count": 74
        }
      ]
    },
    {
      "cell_type": "code",
      "metadata": {
        "id": "0H28ZfRSubOV",
        "colab_type": "code",
        "outputId": "4866057c-a42b-4c66-a1b4-4fdeebed00bf",
        "colab": {
          "base_uri": "https://localhost:8080/",
          "height": 446
        }
      },
      "source": [
        "# Select Cust_id, Sales and Profit\n",
        "market_df_ord[['Cust_id','Sales','Profit']]"
      ],
      "execution_count": 75,
      "outputs": [
        {
          "output_type": "execute_result",
          "data": {
            "text/html": [
              "<div>\n",
              "<style scoped>\n",
              "    .dataframe tbody tr th:only-of-type {\n",
              "        vertical-align: middle;\n",
              "    }\n",
              "\n",
              "    .dataframe tbody tr th {\n",
              "        vertical-align: top;\n",
              "    }\n",
              "\n",
              "    .dataframe thead th {\n",
              "        text-align: right;\n",
              "    }\n",
              "</style>\n",
              "<table border=\"1\" class=\"dataframe\">\n",
              "  <thead>\n",
              "    <tr style=\"text-align: right;\">\n",
              "      <th></th>\n",
              "      <th>Cust_id</th>\n",
              "      <th>Sales</th>\n",
              "      <th>Profit</th>\n",
              "    </tr>\n",
              "    <tr>\n",
              "      <th>Ord_id</th>\n",
              "      <th></th>\n",
              "      <th></th>\n",
              "      <th></th>\n",
              "    </tr>\n",
              "  </thead>\n",
              "  <tbody>\n",
              "    <tr>\n",
              "      <th>Ord_1751</th>\n",
              "      <td>Cust_597</td>\n",
              "      <td>14740.510</td>\n",
              "      <td>3407.73</td>\n",
              "    </tr>\n",
              "    <tr>\n",
              "      <th>Ord_839</th>\n",
              "      <td>Cust_364</td>\n",
              "      <td>12689.870</td>\n",
              "      <td>-169.23</td>\n",
              "    </tr>\n",
              "    <tr>\n",
              "      <th>Ord_1741</th>\n",
              "      <td>Cust_595</td>\n",
              "      <td>15168.820</td>\n",
              "      <td>-1096.78</td>\n",
              "    </tr>\n",
              "    <tr>\n",
              "      <th>Ord_417</th>\n",
              "      <td>Cust_156</td>\n",
              "      <td>20333.816</td>\n",
              "      <td>-1430.45</td>\n",
              "    </tr>\n",
              "    <tr>\n",
              "      <th>Ord_1581</th>\n",
              "      <td>Cust_519</td>\n",
              "      <td>2573.920</td>\n",
              "      <td>117.23</td>\n",
              "    </tr>\n",
              "    <tr>\n",
              "      <th>...</th>\n",
              "      <td>...</td>\n",
              "      <td>...</td>\n",
              "      <td>...</td>\n",
              "    </tr>\n",
              "    <tr>\n",
              "      <th>Ord_1987</th>\n",
              "      <td>Cust_749</td>\n",
              "      <td>72.930</td>\n",
              "      <td>28.55</td>\n",
              "    </tr>\n",
              "    <tr>\n",
              "      <th>Ord_1387</th>\n",
              "      <td>Cust_535</td>\n",
              "      <td>103.620</td>\n",
              "      <td>39.98</td>\n",
              "    </tr>\n",
              "    <tr>\n",
              "      <th>Ord_1890</th>\n",
              "      <td>Cust_880</td>\n",
              "      <td>251.050</td>\n",
              "      <td>118.79</td>\n",
              "    </tr>\n",
              "    <tr>\n",
              "      <th>Ord_284</th>\n",
              "      <td>Cust_105</td>\n",
              "      <td>97.130</td>\n",
              "      <td>-37.06</td>\n",
              "    </tr>\n",
              "    <tr>\n",
              "      <th>Ord_3484</th>\n",
              "      <td>Cust_1253</td>\n",
              "      <td>195.510</td>\n",
              "      <td>95.56</td>\n",
              "    </tr>\n",
              "  </tbody>\n",
              "</table>\n",
              "<p>8399 rows × 3 columns</p>\n",
              "</div>"
            ],
            "text/plain": [
              "            Cust_id      Sales   Profit\n",
              "Ord_id                                 \n",
              "Ord_1751   Cust_597  14740.510  3407.73\n",
              "Ord_839    Cust_364  12689.870  -169.23\n",
              "Ord_1741   Cust_595  15168.820 -1096.78\n",
              "Ord_417    Cust_156  20333.816 -1430.45\n",
              "Ord_1581   Cust_519   2573.920   117.23\n",
              "...             ...        ...      ...\n",
              "Ord_1987   Cust_749     72.930    28.55\n",
              "Ord_1387   Cust_535    103.620    39.98\n",
              "Ord_1890   Cust_880    251.050   118.79\n",
              "Ord_284    Cust_105     97.130   -37.06\n",
              "Ord_3484  Cust_1253    195.510    95.56\n",
              "\n",
              "[8399 rows x 3 columns]"
            ]
          },
          "metadata": {
            "tags": []
          },
          "execution_count": 75
        }
      ]
    },
    {
      "cell_type": "code",
      "metadata": {
        "id": "_Z5UcR5kr8xQ",
        "colab_type": "code",
        "outputId": "90112d23-8ea0-4cb1-c3de-d9fa72551033",
        "colab": {
          "base_uri": "https://localhost:8080/",
          "height": 35
        }
      },
      "source": [
        "# Selecting a single element\n",
        "# Select the element in  the third row and fifth column (Sales)\n",
        "market_df_ord.iloc[3,5]"
      ],
      "execution_count": 76,
      "outputs": [
        {
          "output_type": "execute_result",
          "data": {
            "text/plain": [
              "45"
            ]
          },
          "metadata": {
            "tags": []
          },
          "execution_count": 76
        }
      ]
    },
    {
      "cell_type": "code",
      "metadata": {
        "id": "XL5ZY9vOr8-b",
        "colab_type": "code",
        "colab": {
          "base_uri": "https://localhost:8080/",
          "height": 139
        },
        "outputId": "73027582-ba86-49a7-f966-57ab249c5696"
      },
      "source": [
        "# Selecting a single element\n",
        "# Select row label = 2 and column label = 'Sales\n",
        "market_df_ord.loc['Ord_1581','Sales']"
      ],
      "execution_count": 77,
      "outputs": [
        {
          "output_type": "execute_result",
          "data": {
            "text/plain": [
              "Ord_id\n",
              "Ord_1581    2573.9200\n",
              "Ord_1581    2795.0040\n",
              "Ord_1581     727.6400\n",
              "Ord_1581    2564.5775\n",
              "Ord_1581     382.1900\n",
              "Name: Sales, dtype: float64"
            ]
          },
          "metadata": {
            "tags": []
          },
          "execution_count": 77
        }
      ]
    },
    {
      "cell_type": "code",
      "metadata": {
        "id": "BcIYG1KwiUwa",
        "colab_type": "code",
        "colab": {
          "base_uri": "https://localhost:8080/",
          "height": 173
        },
        "outputId": "7c1e7339-723a-4726-d6e7-cd66b3a8f575"
      },
      "source": [
        "# Selecting rows using a range of labels from 4 to 8\n",
        "# selct the row uisng loc and iloc and observe  difference between iloc and loc\n",
        "print(market_df_ord.iloc[4:9, :])"
      ],
      "execution_count": 78,
      "outputs": [
        {
          "output_type": "stream",
          "text": [
            "          Prod_id   Ship_id  ... Shipping_Cost  Product_Base_Margin\n",
            "Ord_id                       ...                                   \n",
            "Ord_1581  Prod_15  SHP_2184  ...        143.71                 0.55\n",
            "Ord_1021  Prod_15  SHP_1411  ...        130.00                 0.78\n",
            "Ord_1686  Prod_15  SHP_2331  ...        126.00                 0.60\n",
            "Ord_906   Prod_11  SHP_1248  ...        110.20                 0.73\n",
            "Ord_2746  Prod_11  SHP_3768  ...        110.20                 0.73\n",
            "\n",
            "[5 rows x 9 columns]\n"
          ],
          "name": "stdout"
        }
      ]
    },
    {
      "cell_type": "code",
      "metadata": {
        "id": "VRizDZJqbSMg",
        "colab_type": "code",
        "colab": {
          "base_uri": "https://localhost:8080/",
          "height": 347
        },
        "outputId": "4ef8e40e-b5fe-439d-f2d8-17129d1f3359"
      },
      "source": [
        "print(market_df_ord.loc[['Ord_1581', 'Ord_1021', 'Ord_1686', 'Ord_2746', 'Ord_906'] ,:])"
      ],
      "execution_count": 79,
      "outputs": [
        {
          "output_type": "stream",
          "text": [
            "          Prod_id   Ship_id  ... Shipping_Cost  Product_Base_Margin\n",
            "Ord_id                       ...                                   \n",
            "Ord_1581  Prod_15  SHP_2184  ...        143.71                 0.55\n",
            "Ord_1581   Prod_4  SHP_2186  ...          8.99                 0.58\n",
            "Ord_1581  Prod_17  SHP_2185  ...          8.51                 0.40\n",
            "Ord_1581   Prod_4  SHP_2185  ...          7.69                 0.58\n",
            "Ord_1581   Prod_2  SHP_2183  ...          6.75                 0.52\n",
            "Ord_1021  Prod_15  SHP_1411  ...        130.00                 0.78\n",
            "Ord_1686  Prod_15  SHP_2331  ...        126.00                 0.60\n",
            "Ord_1686   Prod_4  SHP_2332  ...          4.20                 0.59\n",
            "Ord_2746  Prod_11  SHP_3768  ...        110.20                 0.73\n",
            "Ord_2746   Prod_6  SHP_3765  ...          9.18                 0.40\n",
            "Ord_2746  Prod_13  SHP_3766  ...          8.99                 0.57\n",
            "Ord_2746   Prod_1  SHP_3767  ...          7.51                 0.57\n",
            "Ord_906   Prod_11  SHP_1248  ...        110.20                 0.73\n",
            "Ord_906   Prod_11  SHP_1248  ...         60.00                  NaN\n",
            "Ord_906    Prod_1  SHP_1247  ...         35.00                 0.82\n",
            "\n",
            "[15 rows x 9 columns]\n"
          ],
          "name": "stdout"
        }
      ]
    },
    {
      "cell_type": "code",
      "metadata": {
        "id": "TyYvQX_n-677",
        "colab_type": "code",
        "colab": {
          "base_uri": "https://localhost:8080/",
          "height": 87
        },
        "outputId": "4dba7a07-0d65-4639-e2a1-6ab28b23fe09"
      },
      "source": [
        "# Select Ord_id = Ord_5406 and 'Sales', 'Profit', 'Cust_id' columns\n",
        "market_df_ord.loc['Ord_5406', ['Sales', 'Profit', 'Cust_id']]"
      ],
      "execution_count": 80,
      "outputs": [
        {
          "output_type": "execute_result",
          "data": {
            "text/plain": [
              "Sales          42.27\n",
              "Profit          4.56\n",
              "Cust_id    Cust_1818\n",
              "Name: Ord_5406, dtype: object"
            ]
          },
          "metadata": {
            "tags": []
          },
          "execution_count": 80
        }
      ]
    },
    {
      "cell_type": "code",
      "metadata": {
        "id": "hUZ3TkPT-_bi",
        "colab_type": "code",
        "colab": {
          "base_uri": "https://localhost:8080/",
          "height": 466
        },
        "outputId": "33d7351c-d873-4f5a-e315-856af16fba12"
      },
      "source": [
        "# Select all rows where Sales > 3000\n",
        "# First, we get a boolean array where True corresponds to rows having Sales > 3000\n",
        "market_df_ord[market_df_ord.Sales>3000]"
      ],
      "execution_count": 81,
      "outputs": [
        {
          "output_type": "execute_result",
          "data": {
            "text/html": [
              "<div>\n",
              "<style scoped>\n",
              "    .dataframe tbody tr th:only-of-type {\n",
              "        vertical-align: middle;\n",
              "    }\n",
              "\n",
              "    .dataframe tbody tr th {\n",
              "        vertical-align: top;\n",
              "    }\n",
              "\n",
              "    .dataframe thead th {\n",
              "        text-align: right;\n",
              "    }\n",
              "</style>\n",
              "<table border=\"1\" class=\"dataframe\">\n",
              "  <thead>\n",
              "    <tr style=\"text-align: right;\">\n",
              "      <th></th>\n",
              "      <th>Prod_id</th>\n",
              "      <th>Ship_id</th>\n",
              "      <th>Cust_id</th>\n",
              "      <th>Sales</th>\n",
              "      <th>Discount</th>\n",
              "      <th>Order_Quantity</th>\n",
              "      <th>Profit</th>\n",
              "      <th>Shipping_Cost</th>\n",
              "      <th>Product_Base_Margin</th>\n",
              "    </tr>\n",
              "    <tr>\n",
              "      <th>Ord_id</th>\n",
              "      <th></th>\n",
              "      <th></th>\n",
              "      <th></th>\n",
              "      <th></th>\n",
              "      <th></th>\n",
              "      <th></th>\n",
              "      <th></th>\n",
              "      <th></th>\n",
              "      <th></th>\n",
              "    </tr>\n",
              "  </thead>\n",
              "  <tbody>\n",
              "    <tr>\n",
              "      <th>Ord_1751</th>\n",
              "      <td>Prod_15</td>\n",
              "      <td>SHP_2426</td>\n",
              "      <td>Cust_597</td>\n",
              "      <td>14740.5100</td>\n",
              "      <td>0.00</td>\n",
              "      <td>46</td>\n",
              "      <td>3407.73</td>\n",
              "      <td>164.73</td>\n",
              "      <td>0.56</td>\n",
              "    </tr>\n",
              "    <tr>\n",
              "      <th>Ord_839</th>\n",
              "      <td>Prod_11</td>\n",
              "      <td>SHP_1361</td>\n",
              "      <td>Cust_364</td>\n",
              "      <td>12689.8700</td>\n",
              "      <td>0.04</td>\n",
              "      <td>44</td>\n",
              "      <td>-169.23</td>\n",
              "      <td>154.12</td>\n",
              "      <td>0.76</td>\n",
              "    </tr>\n",
              "    <tr>\n",
              "      <th>Ord_1741</th>\n",
              "      <td>Prod_11</td>\n",
              "      <td>SHP_2411</td>\n",
              "      <td>Cust_595</td>\n",
              "      <td>15168.8200</td>\n",
              "      <td>0.02</td>\n",
              "      <td>26</td>\n",
              "      <td>-1096.78</td>\n",
              "      <td>147.12</td>\n",
              "      <td>0.80</td>\n",
              "    </tr>\n",
              "    <tr>\n",
              "      <th>Ord_417</th>\n",
              "      <td>Prod_11</td>\n",
              "      <td>SHP_561</td>\n",
              "      <td>Cust_156</td>\n",
              "      <td>20333.8160</td>\n",
              "      <td>0.02</td>\n",
              "      <td>45</td>\n",
              "      <td>-1430.45</td>\n",
              "      <td>147.12</td>\n",
              "      <td>0.80</td>\n",
              "    </tr>\n",
              "    <tr>\n",
              "      <th>Ord_1021</th>\n",
              "      <td>Prod_15</td>\n",
              "      <td>SHP_1411</td>\n",
              "      <td>Cust_387</td>\n",
              "      <td>5544.9900</td>\n",
              "      <td>0.04</td>\n",
              "      <td>43</td>\n",
              "      <td>-3404.24</td>\n",
              "      <td>130.00</td>\n",
              "      <td>0.78</td>\n",
              "    </tr>\n",
              "    <tr>\n",
              "      <th>...</th>\n",
              "      <td>...</td>\n",
              "      <td>...</td>\n",
              "      <td>...</td>\n",
              "      <td>...</td>\n",
              "      <td>...</td>\n",
              "      <td>...</td>\n",
              "      <td>...</td>\n",
              "      <td>...</td>\n",
              "      <td>...</td>\n",
              "    </tr>\n",
              "    <tr>\n",
              "      <th>Ord_337</th>\n",
              "      <td>Prod_2</td>\n",
              "      <td>SHP_451</td>\n",
              "      <td>Cust_128</td>\n",
              "      <td>5686.2500</td>\n",
              "      <td>0.04</td>\n",
              "      <td>32</td>\n",
              "      <td>2109.21</td>\n",
              "      <td>0.99</td>\n",
              "      <td>0.56</td>\n",
              "    </tr>\n",
              "    <tr>\n",
              "      <th>Ord_93</th>\n",
              "      <td>Prod_2</td>\n",
              "      <td>SHP_125</td>\n",
              "      <td>Cust_55</td>\n",
              "      <td>9062.7300</td>\n",
              "      <td>0.09</td>\n",
              "      <td>48</td>\n",
              "      <td>3122.78</td>\n",
              "      <td>0.99</td>\n",
              "      <td>0.55</td>\n",
              "    </tr>\n",
              "    <tr>\n",
              "      <th>Ord_4725</th>\n",
              "      <td>Prod_4</td>\n",
              "      <td>SHP_6593</td>\n",
              "      <td>Cust_1641</td>\n",
              "      <td>3410.1575</td>\n",
              "      <td>0.10</td>\n",
              "      <td>48</td>\n",
              "      <td>1137.91</td>\n",
              "      <td>0.99</td>\n",
              "      <td>0.55</td>\n",
              "    </tr>\n",
              "    <tr>\n",
              "      <th>Ord_203</th>\n",
              "      <td>Prod_2</td>\n",
              "      <td>SHP_278</td>\n",
              "      <td>Cust_46</td>\n",
              "      <td>3548.6700</td>\n",
              "      <td>0.01</td>\n",
              "      <td>19</td>\n",
              "      <td>1280.19</td>\n",
              "      <td>0.99</td>\n",
              "      <td>0.56</td>\n",
              "    </tr>\n",
              "    <tr>\n",
              "      <th>Ord_2638</th>\n",
              "      <td>Prod_2</td>\n",
              "      <td>SHP_3609</td>\n",
              "      <td>Cust_991</td>\n",
              "      <td>3568.4500</td>\n",
              "      <td>0.09</td>\n",
              "      <td>18</td>\n",
              "      <td>1081.62</td>\n",
              "      <td>0.99</td>\n",
              "      <td>0.55</td>\n",
              "    </tr>\n",
              "  </tbody>\n",
              "</table>\n",
              "<p>1359 rows × 9 columns</p>\n",
              "</div>"
            ],
            "text/plain": [
              "          Prod_id   Ship_id  ... Shipping_Cost  Product_Base_Margin\n",
              "Ord_id                       ...                                   \n",
              "Ord_1751  Prod_15  SHP_2426  ...        164.73                 0.56\n",
              "Ord_839   Prod_11  SHP_1361  ...        154.12                 0.76\n",
              "Ord_1741  Prod_11  SHP_2411  ...        147.12                 0.80\n",
              "Ord_417   Prod_11   SHP_561  ...        147.12                 0.80\n",
              "Ord_1021  Prod_15  SHP_1411  ...        130.00                 0.78\n",
              "...           ...       ...  ...           ...                  ...\n",
              "Ord_337    Prod_2   SHP_451  ...          0.99                 0.56\n",
              "Ord_93     Prod_2   SHP_125  ...          0.99                 0.55\n",
              "Ord_4725   Prod_4  SHP_6593  ...          0.99                 0.55\n",
              "Ord_203    Prod_2   SHP_278  ...          0.99                 0.56\n",
              "Ord_2638   Prod_2  SHP_3609  ...          0.99                 0.55\n",
              "\n",
              "[1359 rows x 9 columns]"
            ]
          },
          "metadata": {
            "tags": []
          },
          "execution_count": 81
        }
      ]
    },
    {
      "cell_type": "code",
      "metadata": {
        "id": "t_zV51E4_WcO",
        "colab_type": "code",
        "colab": {
          "base_uri": "https://localhost:8080/",
          "height": 243
        },
        "outputId": "7e35c92d-0726-4331-c4b9-67ca4b5ebec8"
      },
      "source": [
        "# Then, we pass this boolean array inside df.loc\n",
        "(((market_df_ord['Sales'] < 3000) & (market_df_ord['Sales'] >2000)) & (market_df_ord.Profit>100))"
      ],
      "execution_count": 82,
      "outputs": [
        {
          "output_type": "execute_result",
          "data": {
            "text/plain": [
              "Ord_id\n",
              "Ord_1751    False\n",
              "Ord_839     False\n",
              "Ord_1741    False\n",
              "Ord_417     False\n",
              "Ord_1581     True\n",
              "            ...  \n",
              "Ord_1987    False\n",
              "Ord_1387    False\n",
              "Ord_1890    False\n",
              "Ord_284     False\n",
              "Ord_3484    False\n",
              "Length: 8399, dtype: bool"
            ]
          },
          "metadata": {
            "tags": []
          },
          "execution_count": 82
        }
      ]
    },
    {
      "cell_type": "code",
      "metadata": {
        "id": "JtCcDLbh_WZe",
        "colab_type": "code",
        "colab": {
          "base_uri": "https://localhost:8080/",
          "height": 466
        },
        "outputId": "c8ab9b14-ec49-4864-b26e-3ca679aba871"
      },
      "source": [
        "#Select  all orders having 2000 < Sales < 3000 and Profit > 100\n",
        "market_df_ord[((market_df_ord['Sales'] < 3000) & (market_df_ord['Sales'] >2000 )) & (market_df_ord.Profit>100)]"
      ],
      "execution_count": 83,
      "outputs": [
        {
          "output_type": "execute_result",
          "data": {
            "text/html": [
              "<div>\n",
              "<style scoped>\n",
              "    .dataframe tbody tr th:only-of-type {\n",
              "        vertical-align: middle;\n",
              "    }\n",
              "\n",
              "    .dataframe tbody tr th {\n",
              "        vertical-align: top;\n",
              "    }\n",
              "\n",
              "    .dataframe thead th {\n",
              "        text-align: right;\n",
              "    }\n",
              "</style>\n",
              "<table border=\"1\" class=\"dataframe\">\n",
              "  <thead>\n",
              "    <tr style=\"text-align: right;\">\n",
              "      <th></th>\n",
              "      <th>Prod_id</th>\n",
              "      <th>Ship_id</th>\n",
              "      <th>Cust_id</th>\n",
              "      <th>Sales</th>\n",
              "      <th>Discount</th>\n",
              "      <th>Order_Quantity</th>\n",
              "      <th>Profit</th>\n",
              "      <th>Shipping_Cost</th>\n",
              "      <th>Product_Base_Margin</th>\n",
              "    </tr>\n",
              "    <tr>\n",
              "      <th>Ord_id</th>\n",
              "      <th></th>\n",
              "      <th></th>\n",
              "      <th></th>\n",
              "      <th></th>\n",
              "      <th></th>\n",
              "      <th></th>\n",
              "      <th></th>\n",
              "      <th></th>\n",
              "      <th></th>\n",
              "    </tr>\n",
              "  </thead>\n",
              "  <tbody>\n",
              "    <tr>\n",
              "      <th>Ord_1581</th>\n",
              "      <td>Prod_15</td>\n",
              "      <td>SHP_2184</td>\n",
              "      <td>Cust_519</td>\n",
              "      <td>2573.9200</td>\n",
              "      <td>0.07</td>\n",
              "      <td>17</td>\n",
              "      <td>117.23</td>\n",
              "      <td>143.71</td>\n",
              "      <td>0.55</td>\n",
              "    </tr>\n",
              "    <tr>\n",
              "      <th>Ord_1115</th>\n",
              "      <td>Prod_11</td>\n",
              "      <td>SHP_1541</td>\n",
              "      <td>Cust_419</td>\n",
              "      <td>2340.5040</td>\n",
              "      <td>0.04</td>\n",
              "      <td>12</td>\n",
              "      <td>243.16</td>\n",
              "      <td>59.24</td>\n",
              "      <td>0.61</td>\n",
              "    </tr>\n",
              "    <tr>\n",
              "      <th>Ord_1594</th>\n",
              "      <td>Prod_15</td>\n",
              "      <td>SHP_2204</td>\n",
              "      <td>Cust_526</td>\n",
              "      <td>2084.9600</td>\n",
              "      <td>0.00</td>\n",
              "      <td>13</td>\n",
              "      <td>135.26</td>\n",
              "      <td>43.71</td>\n",
              "      <td>0.55</td>\n",
              "    </tr>\n",
              "    <tr>\n",
              "      <th>Ord_4555</th>\n",
              "      <td>Prod_11</td>\n",
              "      <td>SHP_6338</td>\n",
              "      <td>Cust_1542</td>\n",
              "      <td>2029.4960</td>\n",
              "      <td>0.10</td>\n",
              "      <td>8</td>\n",
              "      <td>251.64</td>\n",
              "      <td>43.57</td>\n",
              "      <td>0.63</td>\n",
              "    </tr>\n",
              "    <tr>\n",
              "      <th>Ord_3901</th>\n",
              "      <td>Prod_15</td>\n",
              "      <td>SHP_5413</td>\n",
              "      <td>Cust_1334</td>\n",
              "      <td>2770.7900</td>\n",
              "      <td>0.02</td>\n",
              "      <td>29</td>\n",
              "      <td>109.39</td>\n",
              "      <td>30.00</td>\n",
              "      <td>0.61</td>\n",
              "    </tr>\n",
              "    <tr>\n",
              "      <th>...</th>\n",
              "      <td>...</td>\n",
              "      <td>...</td>\n",
              "      <td>...</td>\n",
              "      <td>...</td>\n",
              "      <td>...</td>\n",
              "      <td>...</td>\n",
              "      <td>...</td>\n",
              "      <td>...</td>\n",
              "      <td>...</td>\n",
              "    </tr>\n",
              "    <tr>\n",
              "      <th>Ord_4927</th>\n",
              "      <td>Prod_4</td>\n",
              "      <td>SHP_6873</td>\n",
              "      <td>Cust_1688</td>\n",
              "      <td>2447.1075</td>\n",
              "      <td>0.00</td>\n",
              "      <td>31</td>\n",
              "      <td>856.96</td>\n",
              "      <td>0.99</td>\n",
              "      <td>0.55</td>\n",
              "    </tr>\n",
              "    <tr>\n",
              "      <th>Ord_2150</th>\n",
              "      <td>Prod_4</td>\n",
              "      <td>SHP_2932</td>\n",
              "      <td>Cust_805</td>\n",
              "      <td>2773.0315</td>\n",
              "      <td>0.04</td>\n",
              "      <td>38</td>\n",
              "      <td>897.87</td>\n",
              "      <td>0.99</td>\n",
              "      <td>0.55</td>\n",
              "    </tr>\n",
              "    <tr>\n",
              "      <th>Ord_5032</th>\n",
              "      <td>Prod_4</td>\n",
              "      <td>SHP_7021</td>\n",
              "      <td>Cust_1711</td>\n",
              "      <td>2628.9225</td>\n",
              "      <td>0.03</td>\n",
              "      <td>36</td>\n",
              "      <td>832.19</td>\n",
              "      <td>0.99</td>\n",
              "      <td>0.55</td>\n",
              "    </tr>\n",
              "    <tr>\n",
              "      <th>Ord_4228</th>\n",
              "      <td>Prod_12</td>\n",
              "      <td>SHP_5901</td>\n",
              "      <td>Cust_1421</td>\n",
              "      <td>2455.5400</td>\n",
              "      <td>0.03</td>\n",
              "      <td>25</td>\n",
              "      <td>1361.88</td>\n",
              "      <td>0.49</td>\n",
              "      <td>0.36</td>\n",
              "    </tr>\n",
              "    <tr>\n",
              "      <th>Ord_1558</th>\n",
              "      <td>Prod_12</td>\n",
              "      <td>SHP_2153</td>\n",
              "      <td>Cust_520</td>\n",
              "      <td>2905.3000</td>\n",
              "      <td>0.00</td>\n",
              "      <td>28</td>\n",
              "      <td>1704.00</td>\n",
              "      <td>0.49</td>\n",
              "      <td>0.36</td>\n",
              "    </tr>\n",
              "  </tbody>\n",
              "</table>\n",
              "<p>328 rows × 9 columns</p>\n",
              "</div>"
            ],
            "text/plain": [
              "          Prod_id   Ship_id  ... Shipping_Cost  Product_Base_Margin\n",
              "Ord_id                       ...                                   \n",
              "Ord_1581  Prod_15  SHP_2184  ...        143.71                 0.55\n",
              "Ord_1115  Prod_11  SHP_1541  ...         59.24                 0.61\n",
              "Ord_1594  Prod_15  SHP_2204  ...         43.71                 0.55\n",
              "Ord_4555  Prod_11  SHP_6338  ...         43.57                 0.63\n",
              "Ord_3901  Prod_15  SHP_5413  ...         30.00                 0.61\n",
              "...           ...       ...  ...           ...                  ...\n",
              "Ord_4927   Prod_4  SHP_6873  ...          0.99                 0.55\n",
              "Ord_2150   Prod_4  SHP_2932  ...          0.99                 0.55\n",
              "Ord_5032   Prod_4  SHP_7021  ...          0.99                 0.55\n",
              "Ord_4228  Prod_12  SHP_5901  ...          0.49                 0.36\n",
              "Ord_1558  Prod_12  SHP_2153  ...          0.49                 0.36\n",
              "\n",
              "[328 rows x 9 columns]"
            ]
          },
          "metadata": {
            "tags": []
          },
          "execution_count": 83
        }
      ]
    },
    {
      "cell_type": "code",
      "metadata": {
        "id": "Tgb4uls0_log",
        "colab_type": "code",
        "colab": {
          "base_uri": "https://localhost:8080/",
          "height": 466
        },
        "outputId": "82b30487-6311-486a-bcee-d50bd955cb31"
      },
      "source": [
        "#Select all orders having 2000 < Sales  OR Profit > 100\n",
        "market_df_ord[(market_df_ord.Sales>2000)  | (market_df_ord.Profit>100)]"
      ],
      "execution_count": 84,
      "outputs": [
        {
          "output_type": "execute_result",
          "data": {
            "text/html": [
              "<div>\n",
              "<style scoped>\n",
              "    .dataframe tbody tr th:only-of-type {\n",
              "        vertical-align: middle;\n",
              "    }\n",
              "\n",
              "    .dataframe tbody tr th {\n",
              "        vertical-align: top;\n",
              "    }\n",
              "\n",
              "    .dataframe thead th {\n",
              "        text-align: right;\n",
              "    }\n",
              "</style>\n",
              "<table border=\"1\" class=\"dataframe\">\n",
              "  <thead>\n",
              "    <tr style=\"text-align: right;\">\n",
              "      <th></th>\n",
              "      <th>Prod_id</th>\n",
              "      <th>Ship_id</th>\n",
              "      <th>Cust_id</th>\n",
              "      <th>Sales</th>\n",
              "      <th>Discount</th>\n",
              "      <th>Order_Quantity</th>\n",
              "      <th>Profit</th>\n",
              "      <th>Shipping_Cost</th>\n",
              "      <th>Product_Base_Margin</th>\n",
              "    </tr>\n",
              "    <tr>\n",
              "      <th>Ord_id</th>\n",
              "      <th></th>\n",
              "      <th></th>\n",
              "      <th></th>\n",
              "      <th></th>\n",
              "      <th></th>\n",
              "      <th></th>\n",
              "      <th></th>\n",
              "      <th></th>\n",
              "      <th></th>\n",
              "    </tr>\n",
              "  </thead>\n",
              "  <tbody>\n",
              "    <tr>\n",
              "      <th>Ord_1751</th>\n",
              "      <td>Prod_15</td>\n",
              "      <td>SHP_2426</td>\n",
              "      <td>Cust_597</td>\n",
              "      <td>14740.510</td>\n",
              "      <td>0.00</td>\n",
              "      <td>46</td>\n",
              "      <td>3407.73</td>\n",
              "      <td>164.73</td>\n",
              "      <td>0.56</td>\n",
              "    </tr>\n",
              "    <tr>\n",
              "      <th>Ord_839</th>\n",
              "      <td>Prod_11</td>\n",
              "      <td>SHP_1361</td>\n",
              "      <td>Cust_364</td>\n",
              "      <td>12689.870</td>\n",
              "      <td>0.04</td>\n",
              "      <td>44</td>\n",
              "      <td>-169.23</td>\n",
              "      <td>154.12</td>\n",
              "      <td>0.76</td>\n",
              "    </tr>\n",
              "    <tr>\n",
              "      <th>Ord_1741</th>\n",
              "      <td>Prod_11</td>\n",
              "      <td>SHP_2411</td>\n",
              "      <td>Cust_595</td>\n",
              "      <td>15168.820</td>\n",
              "      <td>0.02</td>\n",
              "      <td>26</td>\n",
              "      <td>-1096.78</td>\n",
              "      <td>147.12</td>\n",
              "      <td>0.80</td>\n",
              "    </tr>\n",
              "    <tr>\n",
              "      <th>Ord_417</th>\n",
              "      <td>Prod_11</td>\n",
              "      <td>SHP_561</td>\n",
              "      <td>Cust_156</td>\n",
              "      <td>20333.816</td>\n",
              "      <td>0.02</td>\n",
              "      <td>45</td>\n",
              "      <td>-1430.45</td>\n",
              "      <td>147.12</td>\n",
              "      <td>0.80</td>\n",
              "    </tr>\n",
              "    <tr>\n",
              "      <th>Ord_1581</th>\n",
              "      <td>Prod_15</td>\n",
              "      <td>SHP_2184</td>\n",
              "      <td>Cust_519</td>\n",
              "      <td>2573.920</td>\n",
              "      <td>0.07</td>\n",
              "      <td>17</td>\n",
              "      <td>117.23</td>\n",
              "      <td>143.71</td>\n",
              "      <td>0.55</td>\n",
              "    </tr>\n",
              "    <tr>\n",
              "      <th>...</th>\n",
              "      <td>...</td>\n",
              "      <td>...</td>\n",
              "      <td>...</td>\n",
              "      <td>...</td>\n",
              "      <td>...</td>\n",
              "      <td>...</td>\n",
              "      <td>...</td>\n",
              "      <td>...</td>\n",
              "      <td>...</td>\n",
              "    </tr>\n",
              "    <tr>\n",
              "      <th>Ord_3413</th>\n",
              "      <td>Prod_12</td>\n",
              "      <td>SHP_4731</td>\n",
              "      <td>Cust_1185</td>\n",
              "      <td>299.070</td>\n",
              "      <td>0.10</td>\n",
              "      <td>26</td>\n",
              "      <td>137.47</td>\n",
              "      <td>0.49</td>\n",
              "      <td>0.38</td>\n",
              "    </tr>\n",
              "    <tr>\n",
              "      <th>Ord_1558</th>\n",
              "      <td>Prod_12</td>\n",
              "      <td>SHP_2153</td>\n",
              "      <td>Cust_520</td>\n",
              "      <td>2905.300</td>\n",
              "      <td>0.00</td>\n",
              "      <td>28</td>\n",
              "      <td>1704.00</td>\n",
              "      <td>0.49</td>\n",
              "      <td>0.36</td>\n",
              "    </tr>\n",
              "    <tr>\n",
              "      <th>Ord_2852</th>\n",
              "      <td>Prod_12</td>\n",
              "      <td>SHP_3925</td>\n",
              "      <td>Cust_1043</td>\n",
              "      <td>493.260</td>\n",
              "      <td>0.02</td>\n",
              "      <td>39</td>\n",
              "      <td>263.40</td>\n",
              "      <td>0.49</td>\n",
              "      <td>0.38</td>\n",
              "    </tr>\n",
              "    <tr>\n",
              "      <th>Ord_23</th>\n",
              "      <td>Prod_12</td>\n",
              "      <td>SHP_31</td>\n",
              "      <td>Cust_18</td>\n",
              "      <td>282.070</td>\n",
              "      <td>0.03</td>\n",
              "      <td>39</td>\n",
              "      <td>140.01</td>\n",
              "      <td>0.49</td>\n",
              "      <td>0.38</td>\n",
              "    </tr>\n",
              "    <tr>\n",
              "      <th>Ord_1890</th>\n",
              "      <td>Prod_12</td>\n",
              "      <td>SHP_2596</td>\n",
              "      <td>Cust_880</td>\n",
              "      <td>251.050</td>\n",
              "      <td>0.10</td>\n",
              "      <td>36</td>\n",
              "      <td>118.79</td>\n",
              "      <td>0.49</td>\n",
              "      <td>0.38</td>\n",
              "    </tr>\n",
              "  </tbody>\n",
              "</table>\n",
              "<p>3009 rows × 9 columns</p>\n",
              "</div>"
            ],
            "text/plain": [
              "          Prod_id   Ship_id  ... Shipping_Cost  Product_Base_Margin\n",
              "Ord_id                       ...                                   \n",
              "Ord_1751  Prod_15  SHP_2426  ...        164.73                 0.56\n",
              "Ord_839   Prod_11  SHP_1361  ...        154.12                 0.76\n",
              "Ord_1741  Prod_11  SHP_2411  ...        147.12                 0.80\n",
              "Ord_417   Prod_11   SHP_561  ...        147.12                 0.80\n",
              "Ord_1581  Prod_15  SHP_2184  ...        143.71                 0.55\n",
              "...           ...       ...  ...           ...                  ...\n",
              "Ord_3413  Prod_12  SHP_4731  ...          0.49                 0.38\n",
              "Ord_1558  Prod_12  SHP_2153  ...          0.49                 0.36\n",
              "Ord_2852  Prod_12  SHP_3925  ...          0.49                 0.38\n",
              "Ord_23    Prod_12    SHP_31  ...          0.49                 0.38\n",
              "Ord_1890  Prod_12  SHP_2596  ...          0.49                 0.38\n",
              "\n",
              "[3009 rows x 9 columns]"
            ]
          },
          "metadata": {
            "tags": []
          },
          "execution_count": 84
        }
      ]
    },
    {
      "cell_type": "code",
      "metadata": {
        "id": "QE9bs8a__WW6",
        "colab_type": "code",
        "colab": {
          "base_uri": "https://localhost:8080/",
          "height": 446
        },
        "outputId": "6e1ad54c-4a9f-44c2-94e6-9917fd48de69"
      },
      "source": [
        "# Select all orders having 2000 < Sales < 3000 and Profit > 100\n",
        "# Also, this time, you only need the Cust_id, Sales and Profit columns\n",
        "data = market_df_ord[((market_df_ord['Sales'] < 3000) & (market_df_ord['Sales'] >2000 )) & (market_df_ord.Profit>100)]\n",
        "data.loc[:, ['Cust_id', 'Sales', 'Profit']]"
      ],
      "execution_count": 85,
      "outputs": [
        {
          "output_type": "execute_result",
          "data": {
            "text/html": [
              "<div>\n",
              "<style scoped>\n",
              "    .dataframe tbody tr th:only-of-type {\n",
              "        vertical-align: middle;\n",
              "    }\n",
              "\n",
              "    .dataframe tbody tr th {\n",
              "        vertical-align: top;\n",
              "    }\n",
              "\n",
              "    .dataframe thead th {\n",
              "        text-align: right;\n",
              "    }\n",
              "</style>\n",
              "<table border=\"1\" class=\"dataframe\">\n",
              "  <thead>\n",
              "    <tr style=\"text-align: right;\">\n",
              "      <th></th>\n",
              "      <th>Cust_id</th>\n",
              "      <th>Sales</th>\n",
              "      <th>Profit</th>\n",
              "    </tr>\n",
              "    <tr>\n",
              "      <th>Ord_id</th>\n",
              "      <th></th>\n",
              "      <th></th>\n",
              "      <th></th>\n",
              "    </tr>\n",
              "  </thead>\n",
              "  <tbody>\n",
              "    <tr>\n",
              "      <th>Ord_1581</th>\n",
              "      <td>Cust_519</td>\n",
              "      <td>2573.9200</td>\n",
              "      <td>117.23</td>\n",
              "    </tr>\n",
              "    <tr>\n",
              "      <th>Ord_1115</th>\n",
              "      <td>Cust_419</td>\n",
              "      <td>2340.5040</td>\n",
              "      <td>243.16</td>\n",
              "    </tr>\n",
              "    <tr>\n",
              "      <th>Ord_1594</th>\n",
              "      <td>Cust_526</td>\n",
              "      <td>2084.9600</td>\n",
              "      <td>135.26</td>\n",
              "    </tr>\n",
              "    <tr>\n",
              "      <th>Ord_4555</th>\n",
              "      <td>Cust_1542</td>\n",
              "      <td>2029.4960</td>\n",
              "      <td>251.64</td>\n",
              "    </tr>\n",
              "    <tr>\n",
              "      <th>Ord_3901</th>\n",
              "      <td>Cust_1334</td>\n",
              "      <td>2770.7900</td>\n",
              "      <td>109.39</td>\n",
              "    </tr>\n",
              "    <tr>\n",
              "      <th>...</th>\n",
              "      <td>...</td>\n",
              "      <td>...</td>\n",
              "      <td>...</td>\n",
              "    </tr>\n",
              "    <tr>\n",
              "      <th>Ord_4927</th>\n",
              "      <td>Cust_1688</td>\n",
              "      <td>2447.1075</td>\n",
              "      <td>856.96</td>\n",
              "    </tr>\n",
              "    <tr>\n",
              "      <th>Ord_2150</th>\n",
              "      <td>Cust_805</td>\n",
              "      <td>2773.0315</td>\n",
              "      <td>897.87</td>\n",
              "    </tr>\n",
              "    <tr>\n",
              "      <th>Ord_5032</th>\n",
              "      <td>Cust_1711</td>\n",
              "      <td>2628.9225</td>\n",
              "      <td>832.19</td>\n",
              "    </tr>\n",
              "    <tr>\n",
              "      <th>Ord_4228</th>\n",
              "      <td>Cust_1421</td>\n",
              "      <td>2455.5400</td>\n",
              "      <td>1361.88</td>\n",
              "    </tr>\n",
              "    <tr>\n",
              "      <th>Ord_1558</th>\n",
              "      <td>Cust_520</td>\n",
              "      <td>2905.3000</td>\n",
              "      <td>1704.00</td>\n",
              "    </tr>\n",
              "  </tbody>\n",
              "</table>\n",
              "<p>328 rows × 3 columns</p>\n",
              "</div>"
            ],
            "text/plain": [
              "            Cust_id      Sales   Profit\n",
              "Ord_id                                 \n",
              "Ord_1581   Cust_519  2573.9200   117.23\n",
              "Ord_1115   Cust_419  2340.5040   243.16\n",
              "Ord_1594   Cust_526  2084.9600   135.26\n",
              "Ord_4555  Cust_1542  2029.4960   251.64\n",
              "Ord_3901  Cust_1334  2770.7900   109.39\n",
              "...             ...        ...      ...\n",
              "Ord_4927  Cust_1688  2447.1075   856.96\n",
              "Ord_2150   Cust_805  2773.0315   897.87\n",
              "Ord_5032  Cust_1711  2628.9225   832.19\n",
              "Ord_4228  Cust_1421  2455.5400  1361.88\n",
              "Ord_1558   Cust_520  2905.3000  1704.00\n",
              "\n",
              "[328 rows x 3 columns]"
            ]
          },
          "metadata": {
            "tags": []
          },
          "execution_count": 85
        }
      ]
    },
    {
      "cell_type": "code",
      "metadata": {
        "id": "IfEavgW4BD9q",
        "colab_type": "code",
        "colab": {
          "base_uri": "https://localhost:8080/",
          "height": 130
        },
        "outputId": "23cbe14f-5fae-4e05-86f0-b5713f18c735"
      },
      "source": [
        "# Get the orders where sales is equal to 4233.15\n",
        "market_df_ord[market_df_ord.Sales==4233.15]"
      ],
      "execution_count": 86,
      "outputs": [
        {
          "output_type": "execute_result",
          "data": {
            "text/html": [
              "<div>\n",
              "<style scoped>\n",
              "    .dataframe tbody tr th:only-of-type {\n",
              "        vertical-align: middle;\n",
              "    }\n",
              "\n",
              "    .dataframe tbody tr th {\n",
              "        vertical-align: top;\n",
              "    }\n",
              "\n",
              "    .dataframe thead th {\n",
              "        text-align: right;\n",
              "    }\n",
              "</style>\n",
              "<table border=\"1\" class=\"dataframe\">\n",
              "  <thead>\n",
              "    <tr style=\"text-align: right;\">\n",
              "      <th></th>\n",
              "      <th>Prod_id</th>\n",
              "      <th>Ship_id</th>\n",
              "      <th>Cust_id</th>\n",
              "      <th>Sales</th>\n",
              "      <th>Discount</th>\n",
              "      <th>Order_Quantity</th>\n",
              "      <th>Profit</th>\n",
              "      <th>Shipping_Cost</th>\n",
              "      <th>Product_Base_Margin</th>\n",
              "    </tr>\n",
              "    <tr>\n",
              "      <th>Ord_id</th>\n",
              "      <th></th>\n",
              "      <th></th>\n",
              "      <th></th>\n",
              "      <th></th>\n",
              "      <th></th>\n",
              "      <th></th>\n",
              "      <th></th>\n",
              "      <th></th>\n",
              "      <th></th>\n",
              "    </tr>\n",
              "  </thead>\n",
              "  <tbody>\n",
              "    <tr>\n",
              "      <th>Ord_5485</th>\n",
              "      <td>Prod_17</td>\n",
              "      <td>SHP_7664</td>\n",
              "      <td>Cust_1818</td>\n",
              "      <td>4233.15</td>\n",
              "      <td>0.08</td>\n",
              "      <td>35</td>\n",
              "      <td>1219.87</td>\n",
              "      <td>26.3</td>\n",
              "      <td>0.38</td>\n",
              "    </tr>\n",
              "  </tbody>\n",
              "</table>\n",
              "</div>"
            ],
            "text/plain": [
              "          Prod_id   Ship_id  ... Shipping_Cost  Product_Base_Margin\n",
              "Ord_id                       ...                                   \n",
              "Ord_5485  Prod_17  SHP_7664  ...          26.3                 0.38\n",
              "\n",
              "[1 rows x 9 columns]"
            ]
          },
          "metadata": {
            "tags": []
          },
          "execution_count": 86
        }
      ]
    },
    {
      "cell_type": "code",
      "metadata": {
        "id": "6DlCk2gd__7W",
        "colab_type": "code",
        "colab": {
          "base_uri": "https://localhost:8080/",
          "height": 529
        },
        "outputId": "cdaa5d7d-cf50-48d5-8c01-677f8551e47f"
      },
      "source": [
        "# For instance, say a colleague gives you a list of customer_ids from a certain region\n",
        "\n",
        "customers_in_hyd = ['Cust_1798', 'Cust_1519', 'Cust_637', 'Cust_851']\n",
        "\n",
        "# get all the orders from these customers\n",
        "market_df_ord[market_df_ord.Cust_id.isin(customers_in_hyd)]"
      ],
      "execution_count": 87,
      "outputs": [
        {
          "output_type": "execute_result",
          "data": {
            "text/html": [
              "<div>\n",
              "<style scoped>\n",
              "    .dataframe tbody tr th:only-of-type {\n",
              "        vertical-align: middle;\n",
              "    }\n",
              "\n",
              "    .dataframe tbody tr th {\n",
              "        vertical-align: top;\n",
              "    }\n",
              "\n",
              "    .dataframe thead th {\n",
              "        text-align: right;\n",
              "    }\n",
              "</style>\n",
              "<table border=\"1\" class=\"dataframe\">\n",
              "  <thead>\n",
              "    <tr style=\"text-align: right;\">\n",
              "      <th></th>\n",
              "      <th>Prod_id</th>\n",
              "      <th>Ship_id</th>\n",
              "      <th>Cust_id</th>\n",
              "      <th>Sales</th>\n",
              "      <th>Discount</th>\n",
              "      <th>Order_Quantity</th>\n",
              "      <th>Profit</th>\n",
              "      <th>Shipping_Cost</th>\n",
              "      <th>Product_Base_Margin</th>\n",
              "    </tr>\n",
              "    <tr>\n",
              "      <th>Ord_id</th>\n",
              "      <th></th>\n",
              "      <th></th>\n",
              "      <th></th>\n",
              "      <th></th>\n",
              "      <th></th>\n",
              "      <th></th>\n",
              "      <th></th>\n",
              "      <th></th>\n",
              "      <th></th>\n",
              "    </tr>\n",
              "  </thead>\n",
              "  <tbody>\n",
              "    <tr>\n",
              "      <th>Ord_4424</th>\n",
              "      <td>Prod_1</td>\n",
              "      <td>SHP_6165</td>\n",
              "      <td>Cust_1519</td>\n",
              "      <td>994.0400</td>\n",
              "      <td>0.03</td>\n",
              "      <td>10</td>\n",
              "      <td>-335.06</td>\n",
              "      <td>35.00</td>\n",
              "      <td>NaN</td>\n",
              "    </tr>\n",
              "    <tr>\n",
              "      <th>Ord_5348</th>\n",
              "      <td>Prod_15</td>\n",
              "      <td>SHP_7469</td>\n",
              "      <td>Cust_1798</td>\n",
              "      <td>3872.8700</td>\n",
              "      <td>0.03</td>\n",
              "      <td>23</td>\n",
              "      <td>565.34</td>\n",
              "      <td>30.00</td>\n",
              "      <td>0.62</td>\n",
              "    </tr>\n",
              "    <tr>\n",
              "      <th>Ord_5435</th>\n",
              "      <td>Prod_16</td>\n",
              "      <td>SHP_7594</td>\n",
              "      <td>Cust_1798</td>\n",
              "      <td>316.9900</td>\n",
              "      <td>0.04</td>\n",
              "      <td>47</td>\n",
              "      <td>-276.54</td>\n",
              "      <td>8.37</td>\n",
              "      <td>0.58</td>\n",
              "    </tr>\n",
              "    <tr>\n",
              "      <th>Ord_5435</th>\n",
              "      <td>Prod_4</td>\n",
              "      <td>SHP_7594</td>\n",
              "      <td>Cust_1798</td>\n",
              "      <td>1991.8985</td>\n",
              "      <td>0.07</td>\n",
              "      <td>20</td>\n",
              "      <td>88.36</td>\n",
              "      <td>7.69</td>\n",
              "      <td>0.58</td>\n",
              "    </tr>\n",
              "    <tr>\n",
              "      <th>Ord_5353</th>\n",
              "      <td>Prod_4</td>\n",
              "      <td>SHP_7479</td>\n",
              "      <td>Cust_1798</td>\n",
              "      <td>2841.4395</td>\n",
              "      <td>0.08</td>\n",
              "      <td>28</td>\n",
              "      <td>374.63</td>\n",
              "      <td>7.69</td>\n",
              "      <td>0.59</td>\n",
              "    </tr>\n",
              "    <tr>\n",
              "      <th>Ord_5411</th>\n",
              "      <td>Prod_6</td>\n",
              "      <td>SHP_7555</td>\n",
              "      <td>Cust_1798</td>\n",
              "      <td>127.1600</td>\n",
              "      <td>0.10</td>\n",
              "      <td>20</td>\n",
              "      <td>-74.03</td>\n",
              "      <td>6.92</td>\n",
              "      <td>0.37</td>\n",
              "    </tr>\n",
              "    <tr>\n",
              "      <th>Ord_2220</th>\n",
              "      <td>Prod_3</td>\n",
              "      <td>SHP_3019</td>\n",
              "      <td>Cust_851</td>\n",
              "      <td>41.0600</td>\n",
              "      <td>0.04</td>\n",
              "      <td>4</td>\n",
              "      <td>-16.39</td>\n",
              "      <td>6.28</td>\n",
              "      <td>0.35</td>\n",
              "    </tr>\n",
              "    <tr>\n",
              "      <th>Ord_5388</th>\n",
              "      <td>Prod_6</td>\n",
              "      <td>SHP_7524</td>\n",
              "      <td>Cust_1798</td>\n",
              "      <td>243.0500</td>\n",
              "      <td>0.02</td>\n",
              "      <td>39</td>\n",
              "      <td>-70.85</td>\n",
              "      <td>5.35</td>\n",
              "      <td>0.40</td>\n",
              "    </tr>\n",
              "    <tr>\n",
              "      <th>Ord_1833</th>\n",
              "      <td>Prod_3</td>\n",
              "      <td>SHP_2527</td>\n",
              "      <td>Cust_637</td>\n",
              "      <td>611.1600</td>\n",
              "      <td>0.04</td>\n",
              "      <td>46</td>\n",
              "      <td>100.22</td>\n",
              "      <td>4.98</td>\n",
              "      <td>0.40</td>\n",
              "    </tr>\n",
              "    <tr>\n",
              "      <th>Ord_5459</th>\n",
              "      <td>Prod_6</td>\n",
              "      <td>SHP_7628</td>\n",
              "      <td>Cust_1798</td>\n",
              "      <td>603.6900</td>\n",
              "      <td>0.00</td>\n",
              "      <td>47</td>\n",
              "      <td>131.39</td>\n",
              "      <td>4.86</td>\n",
              "      <td>0.38</td>\n",
              "    </tr>\n",
              "    <tr>\n",
              "      <th>Ord_5384</th>\n",
              "      <td>Prod_9</td>\n",
              "      <td>SHP_7519</td>\n",
              "      <td>Cust_1798</td>\n",
              "      <td>181.5000</td>\n",
              "      <td>0.08</td>\n",
              "      <td>43</td>\n",
              "      <td>-6.24</td>\n",
              "      <td>2.50</td>\n",
              "      <td>0.37</td>\n",
              "    </tr>\n",
              "    <tr>\n",
              "      <th>Ord_5348</th>\n",
              "      <td>Prod_8</td>\n",
              "      <td>SHP_7470</td>\n",
              "      <td>Cust_1798</td>\n",
              "      <td>356.7200</td>\n",
              "      <td>0.07</td>\n",
              "      <td>9</td>\n",
              "      <td>12.61</td>\n",
              "      <td>1.99</td>\n",
              "      <td>0.44</td>\n",
              "    </tr>\n",
              "    <tr>\n",
              "      <th>Ord_2324</th>\n",
              "      <td>Prod_7</td>\n",
              "      <td>SHP_3189</td>\n",
              "      <td>Cust_851</td>\n",
              "      <td>121.8700</td>\n",
              "      <td>0.07</td>\n",
              "      <td>39</td>\n",
              "      <td>11.32</td>\n",
              "      <td>1.35</td>\n",
              "      <td>0.40</td>\n",
              "    </tr>\n",
              "    <tr>\n",
              "      <th>Ord_4444</th>\n",
              "      <td>Prod_13</td>\n",
              "      <td>SHP_6192</td>\n",
              "      <td>Cust_1519</td>\n",
              "      <td>159.4100</td>\n",
              "      <td>0.00</td>\n",
              "      <td>44</td>\n",
              "      <td>34.68</td>\n",
              "      <td>0.98</td>\n",
              "      <td>0.52</td>\n",
              "    </tr>\n",
              "  </tbody>\n",
              "</table>\n",
              "</div>"
            ],
            "text/plain": [
              "          Prod_id   Ship_id  ... Shipping_Cost  Product_Base_Margin\n",
              "Ord_id                       ...                                   \n",
              "Ord_4424   Prod_1  SHP_6165  ...         35.00                  NaN\n",
              "Ord_5348  Prod_15  SHP_7469  ...         30.00                 0.62\n",
              "Ord_5435  Prod_16  SHP_7594  ...          8.37                 0.58\n",
              "Ord_5435   Prod_4  SHP_7594  ...          7.69                 0.58\n",
              "Ord_5353   Prod_4  SHP_7479  ...          7.69                 0.59\n",
              "Ord_5411   Prod_6  SHP_7555  ...          6.92                 0.37\n",
              "Ord_2220   Prod_3  SHP_3019  ...          6.28                 0.35\n",
              "Ord_5388   Prod_6  SHP_7524  ...          5.35                 0.40\n",
              "Ord_1833   Prod_3  SHP_2527  ...          4.98                 0.40\n",
              "Ord_5459   Prod_6  SHP_7628  ...          4.86                 0.38\n",
              "Ord_5384   Prod_9  SHP_7519  ...          2.50                 0.37\n",
              "Ord_5348   Prod_8  SHP_7470  ...          1.99                 0.44\n",
              "Ord_2324   Prod_7  SHP_3189  ...          1.35                 0.40\n",
              "Ord_4444  Prod_13  SHP_6192  ...          0.98                 0.52\n",
              "\n",
              "[14 rows x 9 columns]"
            ]
          },
          "metadata": {
            "tags": []
          },
          "execution_count": 87
        }
      ]
    },
    {
      "cell_type": "code",
      "metadata": {
        "id": "Ct6pzc-NBSEH",
        "colab_type": "code",
        "colab": {
          "base_uri": "https://localhost:8080/",
          "height": 35
        },
        "outputId": "27b12109-f556-418d-df5e-2ab89a39af35"
      },
      "source": [
        "# Read the data from \"global_sales_data/cust_dimen.csv\" into customer_df\n",
        "customer_df = pd.read_csv('/content/cust_dimen.csv')\n",
        "customer_df.shape"
      ],
      "execution_count": 89,
      "outputs": [
        {
          "output_type": "execute_result",
          "data": {
            "text/plain": [
              "(1832, 5)"
            ]
          },
          "metadata": {
            "tags": []
          },
          "execution_count": 89
        }
      ]
    },
    {
      "cell_type": "code",
      "metadata": {
        "id": "7TDlcPAyBYL0",
        "colab_type": "code",
        "colab": {
          "base_uri": "https://localhost:8080/",
          "height": 570
        },
        "outputId": "1069bd2b-5bf6-4298-fa70-1a9654fdc53f"
      },
      "source": [
        "# Read the data from \"global_sales_data/prod_dimen.csv\" into product_df\n",
        "product_df = pd.read_csv('/content/prod_dimen.csv')\n",
        "product_df"
      ],
      "execution_count": 91,
      "outputs": [
        {
          "output_type": "execute_result",
          "data": {
            "text/html": [
              "<div>\n",
              "<style scoped>\n",
              "    .dataframe tbody tr th:only-of-type {\n",
              "        vertical-align: middle;\n",
              "    }\n",
              "\n",
              "    .dataframe tbody tr th {\n",
              "        vertical-align: top;\n",
              "    }\n",
              "\n",
              "    .dataframe thead th {\n",
              "        text-align: right;\n",
              "    }\n",
              "</style>\n",
              "<table border=\"1\" class=\"dataframe\">\n",
              "  <thead>\n",
              "    <tr style=\"text-align: right;\">\n",
              "      <th></th>\n",
              "      <th>Product_Category</th>\n",
              "      <th>Product_Sub_Category</th>\n",
              "      <th>Prod_id</th>\n",
              "    </tr>\n",
              "  </thead>\n",
              "  <tbody>\n",
              "    <tr>\n",
              "      <th>0</th>\n",
              "      <td>OFFICE SUPPLIES</td>\n",
              "      <td>STORAGE &amp; ORGANIZATION</td>\n",
              "      <td>Prod_1</td>\n",
              "    </tr>\n",
              "    <tr>\n",
              "      <th>1</th>\n",
              "      <td>OFFICE SUPPLIES</td>\n",
              "      <td>APPLIANCES</td>\n",
              "      <td>Prod_2</td>\n",
              "    </tr>\n",
              "    <tr>\n",
              "      <th>2</th>\n",
              "      <td>OFFICE SUPPLIES</td>\n",
              "      <td>BINDERS AND BINDER ACCESSORIES</td>\n",
              "      <td>Prod_3</td>\n",
              "    </tr>\n",
              "    <tr>\n",
              "      <th>3</th>\n",
              "      <td>TECHNOLOGY</td>\n",
              "      <td>TELEPHONES AND COMMUNICATION</td>\n",
              "      <td>Prod_4</td>\n",
              "    </tr>\n",
              "    <tr>\n",
              "      <th>4</th>\n",
              "      <td>FURNITURE</td>\n",
              "      <td>OFFICE FURNISHINGS</td>\n",
              "      <td>Prod_5</td>\n",
              "    </tr>\n",
              "    <tr>\n",
              "      <th>5</th>\n",
              "      <td>OFFICE SUPPLIES</td>\n",
              "      <td>PAPER</td>\n",
              "      <td>Prod_6</td>\n",
              "    </tr>\n",
              "    <tr>\n",
              "      <th>6</th>\n",
              "      <td>OFFICE SUPPLIES</td>\n",
              "      <td>RUBBER BANDS</td>\n",
              "      <td>Prod_7</td>\n",
              "    </tr>\n",
              "    <tr>\n",
              "      <th>7</th>\n",
              "      <td>TECHNOLOGY</td>\n",
              "      <td>COMPUTER PERIPHERALS</td>\n",
              "      <td>Prod_8</td>\n",
              "    </tr>\n",
              "    <tr>\n",
              "      <th>8</th>\n",
              "      <td>OFFICE SUPPLIES</td>\n",
              "      <td>ENVELOPES</td>\n",
              "      <td>Prod_9</td>\n",
              "    </tr>\n",
              "    <tr>\n",
              "      <th>9</th>\n",
              "      <td>FURNITURE</td>\n",
              "      <td>BOOKCASES</td>\n",
              "      <td>Prod_10</td>\n",
              "    </tr>\n",
              "    <tr>\n",
              "      <th>10</th>\n",
              "      <td>FURNITURE</td>\n",
              "      <td>TABLES</td>\n",
              "      <td>Prod_11</td>\n",
              "    </tr>\n",
              "    <tr>\n",
              "      <th>11</th>\n",
              "      <td>OFFICE SUPPLIES</td>\n",
              "      <td>LABELS</td>\n",
              "      <td>Prod_12</td>\n",
              "    </tr>\n",
              "    <tr>\n",
              "      <th>12</th>\n",
              "      <td>OFFICE SUPPLIES</td>\n",
              "      <td>PENS &amp; ART SUPPLIES</td>\n",
              "      <td>Prod_13</td>\n",
              "    </tr>\n",
              "    <tr>\n",
              "      <th>13</th>\n",
              "      <td>TECHNOLOGY</td>\n",
              "      <td>COPIERS AND FAX</td>\n",
              "      <td>Prod_14</td>\n",
              "    </tr>\n",
              "    <tr>\n",
              "      <th>14</th>\n",
              "      <td>FURNITURE</td>\n",
              "      <td>CHAIRS &amp; CHAIRMATS</td>\n",
              "      <td>Prod_15</td>\n",
              "    </tr>\n",
              "    <tr>\n",
              "      <th>15</th>\n",
              "      <td>OFFICE SUPPLIES</td>\n",
              "      <td>SCISSORS, RULERS AND TRIMMERS</td>\n",
              "      <td>Prod_16</td>\n",
              "    </tr>\n",
              "    <tr>\n",
              "      <th>16</th>\n",
              "      <td>TECHNOLOGY</td>\n",
              "      <td>OFFICE MACHINES</td>\n",
              "      <td>Prod_17</td>\n",
              "    </tr>\n",
              "  </tbody>\n",
              "</table>\n",
              "</div>"
            ],
            "text/plain": [
              "   Product_Category            Product_Sub_Category  Prod_id\n",
              "0   OFFICE SUPPLIES          STORAGE & ORGANIZATION   Prod_1\n",
              "1   OFFICE SUPPLIES                      APPLIANCES   Prod_2\n",
              "2   OFFICE SUPPLIES  BINDERS AND BINDER ACCESSORIES   Prod_3\n",
              "3        TECHNOLOGY    TELEPHONES AND COMMUNICATION   Prod_4\n",
              "4         FURNITURE              OFFICE FURNISHINGS   Prod_5\n",
              "5   OFFICE SUPPLIES                           PAPER   Prod_6\n",
              "6   OFFICE SUPPLIES                    RUBBER BANDS   Prod_7\n",
              "7        TECHNOLOGY            COMPUTER PERIPHERALS   Prod_8\n",
              "8   OFFICE SUPPLIES                       ENVELOPES   Prod_9\n",
              "9         FURNITURE                       BOOKCASES  Prod_10\n",
              "10        FURNITURE                          TABLES  Prod_11\n",
              "11  OFFICE SUPPLIES                          LABELS  Prod_12\n",
              "12  OFFICE SUPPLIES             PENS & ART SUPPLIES  Prod_13\n",
              "13       TECHNOLOGY                 COPIERS AND FAX  Prod_14\n",
              "14        FURNITURE              CHAIRS & CHAIRMATS  Prod_15\n",
              "15  OFFICE SUPPLIES   SCISSORS, RULERS AND TRIMMERS  Prod_16\n",
              "16       TECHNOLOGY                 OFFICE MACHINES  Prod_17"
            ]
          },
          "metadata": {
            "tags": []
          },
          "execution_count": 91
        }
      ]
    },
    {
      "cell_type": "code",
      "metadata": {
        "id": "DVKSjt80CTyW",
        "colab_type": "code",
        "colab": {
          "base_uri": "https://localhost:8080/",
          "height": 415
        },
        "outputId": "20a52bf9-8e4b-4eab-d308-7e952521e473"
      },
      "source": [
        "# Read the data from \"global_sales_data/shipping_dimen.csv\" into shipping_df\n",
        "shipping_df = pd.read_csv('/content/shipping_dimen.csv')\n",
        "shipping_df"
      ],
      "execution_count": 94,
      "outputs": [
        {
          "output_type": "execute_result",
          "data": {
            "text/html": [
              "<div>\n",
              "<style scoped>\n",
              "    .dataframe tbody tr th:only-of-type {\n",
              "        vertical-align: middle;\n",
              "    }\n",
              "\n",
              "    .dataframe tbody tr th {\n",
              "        vertical-align: top;\n",
              "    }\n",
              "\n",
              "    .dataframe thead th {\n",
              "        text-align: right;\n",
              "    }\n",
              "</style>\n",
              "<table border=\"1\" class=\"dataframe\">\n",
              "  <thead>\n",
              "    <tr style=\"text-align: right;\">\n",
              "      <th></th>\n",
              "      <th>Order_ID</th>\n",
              "      <th>Ship_Mode</th>\n",
              "      <th>Ship_Date</th>\n",
              "      <th>Ship_id</th>\n",
              "    </tr>\n",
              "  </thead>\n",
              "  <tbody>\n",
              "    <tr>\n",
              "      <th>0</th>\n",
              "      <td>3</td>\n",
              "      <td>REGULAR AIR</td>\n",
              "      <td>20-10-2010</td>\n",
              "      <td>SHP_1</td>\n",
              "    </tr>\n",
              "    <tr>\n",
              "      <th>1</th>\n",
              "      <td>293</td>\n",
              "      <td>DELIVERY TRUCK</td>\n",
              "      <td>02-10-2012</td>\n",
              "      <td>SHP_2</td>\n",
              "    </tr>\n",
              "    <tr>\n",
              "      <th>2</th>\n",
              "      <td>293</td>\n",
              "      <td>REGULAR AIR</td>\n",
              "      <td>03-10-2012</td>\n",
              "      <td>SHP_3</td>\n",
              "    </tr>\n",
              "    <tr>\n",
              "      <th>3</th>\n",
              "      <td>483</td>\n",
              "      <td>REGULAR AIR</td>\n",
              "      <td>12-07-2011</td>\n",
              "      <td>SHP_4</td>\n",
              "    </tr>\n",
              "    <tr>\n",
              "      <th>4</th>\n",
              "      <td>515</td>\n",
              "      <td>REGULAR AIR</td>\n",
              "      <td>30-08-2010</td>\n",
              "      <td>SHP_5</td>\n",
              "    </tr>\n",
              "    <tr>\n",
              "      <th>...</th>\n",
              "      <td>...</td>\n",
              "      <td>...</td>\n",
              "      <td>...</td>\n",
              "      <td>...</td>\n",
              "    </tr>\n",
              "    <tr>\n",
              "      <th>7696</th>\n",
              "      <td>55558</td>\n",
              "      <td>DELIVERY TRUCK</td>\n",
              "      <td>09-08-2010</td>\n",
              "      <td>SHP_7697</td>\n",
              "    </tr>\n",
              "    <tr>\n",
              "      <th>7697</th>\n",
              "      <td>55558</td>\n",
              "      <td>REGULAR AIR</td>\n",
              "      <td>11-08-2010</td>\n",
              "      <td>SHP_7698</td>\n",
              "    </tr>\n",
              "    <tr>\n",
              "      <th>7698</th>\n",
              "      <td>56550</td>\n",
              "      <td>EXPRESS AIR</td>\n",
              "      <td>10-04-2011</td>\n",
              "      <td>SHP_7699</td>\n",
              "    </tr>\n",
              "    <tr>\n",
              "      <th>7699</th>\n",
              "      <td>56550</td>\n",
              "      <td>REGULAR AIR</td>\n",
              "      <td>09-04-2011</td>\n",
              "      <td>SHP_7700</td>\n",
              "    </tr>\n",
              "    <tr>\n",
              "      <th>7700</th>\n",
              "      <td>56581</td>\n",
              "      <td>EXPRESS AIR</td>\n",
              "      <td>11-02-2009</td>\n",
              "      <td>SHP_7701</td>\n",
              "    </tr>\n",
              "  </tbody>\n",
              "</table>\n",
              "<p>7701 rows × 4 columns</p>\n",
              "</div>"
            ],
            "text/plain": [
              "      Order_ID       Ship_Mode   Ship_Date   Ship_id\n",
              "0            3     REGULAR AIR  20-10-2010     SHP_1\n",
              "1          293  DELIVERY TRUCK  02-10-2012     SHP_2\n",
              "2          293     REGULAR AIR  03-10-2012     SHP_3\n",
              "3          483     REGULAR AIR  12-07-2011     SHP_4\n",
              "4          515     REGULAR AIR  30-08-2010     SHP_5\n",
              "...        ...             ...         ...       ...\n",
              "7696     55558  DELIVERY TRUCK  09-08-2010  SHP_7697\n",
              "7697     55558     REGULAR AIR  11-08-2010  SHP_7698\n",
              "7698     56550     EXPRESS AIR  10-04-2011  SHP_7699\n",
              "7699     56550     REGULAR AIR  09-04-2011  SHP_7700\n",
              "7700     56581     EXPRESS AIR  11-02-2009  SHP_7701\n",
              "\n",
              "[7701 rows x 4 columns]"
            ]
          },
          "metadata": {
            "tags": []
          },
          "execution_count": 94
        }
      ]
    },
    {
      "cell_type": "code",
      "metadata": {
        "id": "tqnyH-6PDzRw",
        "colab_type": "code",
        "colab": {
          "base_uri": "https://localhost:8080/",
          "height": 415
        },
        "outputId": "15be1693-04b3-4e74-8b39-aee933229b1a"
      },
      "source": [
        "# Read the data from \"global_sales_data/shipping_dimen.csv\" into shipping_df\n",
        "shipping_df = pd.read_csv('/content/shipping_dimen.csv')\n",
        "shipping_df"
      ],
      "execution_count": 95,
      "outputs": [
        {
          "output_type": "execute_result",
          "data": {
            "text/html": [
              "<div>\n",
              "<style scoped>\n",
              "    .dataframe tbody tr th:only-of-type {\n",
              "        vertical-align: middle;\n",
              "    }\n",
              "\n",
              "    .dataframe tbody tr th {\n",
              "        vertical-align: top;\n",
              "    }\n",
              "\n",
              "    .dataframe thead th {\n",
              "        text-align: right;\n",
              "    }\n",
              "</style>\n",
              "<table border=\"1\" class=\"dataframe\">\n",
              "  <thead>\n",
              "    <tr style=\"text-align: right;\">\n",
              "      <th></th>\n",
              "      <th>Order_ID</th>\n",
              "      <th>Ship_Mode</th>\n",
              "      <th>Ship_Date</th>\n",
              "      <th>Ship_id</th>\n",
              "    </tr>\n",
              "  </thead>\n",
              "  <tbody>\n",
              "    <tr>\n",
              "      <th>0</th>\n",
              "      <td>3</td>\n",
              "      <td>REGULAR AIR</td>\n",
              "      <td>20-10-2010</td>\n",
              "      <td>SHP_1</td>\n",
              "    </tr>\n",
              "    <tr>\n",
              "      <th>1</th>\n",
              "      <td>293</td>\n",
              "      <td>DELIVERY TRUCK</td>\n",
              "      <td>02-10-2012</td>\n",
              "      <td>SHP_2</td>\n",
              "    </tr>\n",
              "    <tr>\n",
              "      <th>2</th>\n",
              "      <td>293</td>\n",
              "      <td>REGULAR AIR</td>\n",
              "      <td>03-10-2012</td>\n",
              "      <td>SHP_3</td>\n",
              "    </tr>\n",
              "    <tr>\n",
              "      <th>3</th>\n",
              "      <td>483</td>\n",
              "      <td>REGULAR AIR</td>\n",
              "      <td>12-07-2011</td>\n",
              "      <td>SHP_4</td>\n",
              "    </tr>\n",
              "    <tr>\n",
              "      <th>4</th>\n",
              "      <td>515</td>\n",
              "      <td>REGULAR AIR</td>\n",
              "      <td>30-08-2010</td>\n",
              "      <td>SHP_5</td>\n",
              "    </tr>\n",
              "    <tr>\n",
              "      <th>...</th>\n",
              "      <td>...</td>\n",
              "      <td>...</td>\n",
              "      <td>...</td>\n",
              "      <td>...</td>\n",
              "    </tr>\n",
              "    <tr>\n",
              "      <th>7696</th>\n",
              "      <td>55558</td>\n",
              "      <td>DELIVERY TRUCK</td>\n",
              "      <td>09-08-2010</td>\n",
              "      <td>SHP_7697</td>\n",
              "    </tr>\n",
              "    <tr>\n",
              "      <th>7697</th>\n",
              "      <td>55558</td>\n",
              "      <td>REGULAR AIR</td>\n",
              "      <td>11-08-2010</td>\n",
              "      <td>SHP_7698</td>\n",
              "    </tr>\n",
              "    <tr>\n",
              "      <th>7698</th>\n",
              "      <td>56550</td>\n",
              "      <td>EXPRESS AIR</td>\n",
              "      <td>10-04-2011</td>\n",
              "      <td>SHP_7699</td>\n",
              "    </tr>\n",
              "    <tr>\n",
              "      <th>7699</th>\n",
              "      <td>56550</td>\n",
              "      <td>REGULAR AIR</td>\n",
              "      <td>09-04-2011</td>\n",
              "      <td>SHP_7700</td>\n",
              "    </tr>\n",
              "    <tr>\n",
              "      <th>7700</th>\n",
              "      <td>56581</td>\n",
              "      <td>EXPRESS AIR</td>\n",
              "      <td>11-02-2009</td>\n",
              "      <td>SHP_7701</td>\n",
              "    </tr>\n",
              "  </tbody>\n",
              "</table>\n",
              "<p>7701 rows × 4 columns</p>\n",
              "</div>"
            ],
            "text/plain": [
              "      Order_ID       Ship_Mode   Ship_Date   Ship_id\n",
              "0            3     REGULAR AIR  20-10-2010     SHP_1\n",
              "1          293  DELIVERY TRUCK  02-10-2012     SHP_2\n",
              "2          293     REGULAR AIR  03-10-2012     SHP_3\n",
              "3          483     REGULAR AIR  12-07-2011     SHP_4\n",
              "4          515     REGULAR AIR  30-08-2010     SHP_5\n",
              "...        ...             ...         ...       ...\n",
              "7696     55558  DELIVERY TRUCK  09-08-2010  SHP_7697\n",
              "7697     55558     REGULAR AIR  11-08-2010  SHP_7698\n",
              "7698     56550     EXPRESS AIR  10-04-2011  SHP_7699\n",
              "7699     56550     REGULAR AIR  09-04-2011  SHP_7700\n",
              "7700     56581     EXPRESS AIR  11-02-2009  SHP_7701\n",
              "\n",
              "[7701 rows x 4 columns]"
            ]
          },
          "metadata": {
            "tags": []
          },
          "execution_count": 95
        }
      ]
    },
    {
      "cell_type": "code",
      "metadata": {
        "id": "vpOP-_95FLdi",
        "colab_type": "code",
        "colab": {
          "base_uri": "https://localhost:8080/",
          "height": 202
        },
        "outputId": "437c2ec1-1f2c-4563-ff5c-92b0e13c7a2e"
      },
      "source": [
        "# Customer dimension table: Each row contains metadata about customers\n",
        "# Display the first five row\n",
        "customer_df.head()"
      ],
      "execution_count": 96,
      "outputs": [
        {
          "output_type": "execute_result",
          "data": {
            "text/html": [
              "<div>\n",
              "<style scoped>\n",
              "    .dataframe tbody tr th:only-of-type {\n",
              "        vertical-align: middle;\n",
              "    }\n",
              "\n",
              "    .dataframe tbody tr th {\n",
              "        vertical-align: top;\n",
              "    }\n",
              "\n",
              "    .dataframe thead th {\n",
              "        text-align: right;\n",
              "    }\n",
              "</style>\n",
              "<table border=\"1\" class=\"dataframe\">\n",
              "  <thead>\n",
              "    <tr style=\"text-align: right;\">\n",
              "      <th></th>\n",
              "      <th>Customer_Name</th>\n",
              "      <th>Province</th>\n",
              "      <th>Region</th>\n",
              "      <th>Customer_Segment</th>\n",
              "      <th>Cust_id</th>\n",
              "    </tr>\n",
              "  </thead>\n",
              "  <tbody>\n",
              "    <tr>\n",
              "      <th>0</th>\n",
              "      <td>MUHAMMED MACINTYRE</td>\n",
              "      <td>NUNAVUT</td>\n",
              "      <td>NUNAVUT</td>\n",
              "      <td>SMALL BUSINESS</td>\n",
              "      <td>Cust_1</td>\n",
              "    </tr>\n",
              "    <tr>\n",
              "      <th>1</th>\n",
              "      <td>BARRY FRENCH</td>\n",
              "      <td>NUNAVUT</td>\n",
              "      <td>NUNAVUT</td>\n",
              "      <td>CONSUMER</td>\n",
              "      <td>Cust_2</td>\n",
              "    </tr>\n",
              "    <tr>\n",
              "      <th>2</th>\n",
              "      <td>CLAY ROZENDAL</td>\n",
              "      <td>NUNAVUT</td>\n",
              "      <td>NUNAVUT</td>\n",
              "      <td>CORPORATE</td>\n",
              "      <td>Cust_3</td>\n",
              "    </tr>\n",
              "    <tr>\n",
              "      <th>3</th>\n",
              "      <td>CARLOS SOLTERO</td>\n",
              "      <td>NUNAVUT</td>\n",
              "      <td>NUNAVUT</td>\n",
              "      <td>CONSUMER</td>\n",
              "      <td>Cust_4</td>\n",
              "    </tr>\n",
              "    <tr>\n",
              "      <th>4</th>\n",
              "      <td>CARL JACKSON</td>\n",
              "      <td>NUNAVUT</td>\n",
              "      <td>NUNAVUT</td>\n",
              "      <td>CORPORATE</td>\n",
              "      <td>Cust_5</td>\n",
              "    </tr>\n",
              "  </tbody>\n",
              "</table>\n",
              "</div>"
            ],
            "text/plain": [
              "        Customer_Name Province   Region Customer_Segment Cust_id\n",
              "0  MUHAMMED MACINTYRE  NUNAVUT  NUNAVUT   SMALL BUSINESS  Cust_1\n",
              "1        BARRY FRENCH  NUNAVUT  NUNAVUT         CONSUMER  Cust_2\n",
              "2       CLAY ROZENDAL  NUNAVUT  NUNAVUT        CORPORATE  Cust_3\n",
              "3      CARLOS SOLTERO  NUNAVUT  NUNAVUT         CONSUMER  Cust_4\n",
              "4        CARL JACKSON  NUNAVUT  NUNAVUT        CORPORATE  Cust_5"
            ]
          },
          "metadata": {
            "tags": []
          },
          "execution_count": 96
        }
      ]
    },
    {
      "cell_type": "code",
      "metadata": {
        "id": "CtigQlfiFYzZ",
        "colab_type": "code",
        "colab": {
          "base_uri": "https://localhost:8080/",
          "height": 202
        },
        "outputId": "035e8e3b-348c-488c-f558-82427e08391f"
      },
      "source": [
        "# Product dimension table\n",
        "# Display the first five row\n",
        "product_df.head()"
      ],
      "execution_count": 97,
      "outputs": [
        {
          "output_type": "execute_result",
          "data": {
            "text/html": [
              "<div>\n",
              "<style scoped>\n",
              "    .dataframe tbody tr th:only-of-type {\n",
              "        vertical-align: middle;\n",
              "    }\n",
              "\n",
              "    .dataframe tbody tr th {\n",
              "        vertical-align: top;\n",
              "    }\n",
              "\n",
              "    .dataframe thead th {\n",
              "        text-align: right;\n",
              "    }\n",
              "</style>\n",
              "<table border=\"1\" class=\"dataframe\">\n",
              "  <thead>\n",
              "    <tr style=\"text-align: right;\">\n",
              "      <th></th>\n",
              "      <th>Product_Category</th>\n",
              "      <th>Product_Sub_Category</th>\n",
              "      <th>Prod_id</th>\n",
              "    </tr>\n",
              "  </thead>\n",
              "  <tbody>\n",
              "    <tr>\n",
              "      <th>0</th>\n",
              "      <td>OFFICE SUPPLIES</td>\n",
              "      <td>STORAGE &amp; ORGANIZATION</td>\n",
              "      <td>Prod_1</td>\n",
              "    </tr>\n",
              "    <tr>\n",
              "      <th>1</th>\n",
              "      <td>OFFICE SUPPLIES</td>\n",
              "      <td>APPLIANCES</td>\n",
              "      <td>Prod_2</td>\n",
              "    </tr>\n",
              "    <tr>\n",
              "      <th>2</th>\n",
              "      <td>OFFICE SUPPLIES</td>\n",
              "      <td>BINDERS AND BINDER ACCESSORIES</td>\n",
              "      <td>Prod_3</td>\n",
              "    </tr>\n",
              "    <tr>\n",
              "      <th>3</th>\n",
              "      <td>TECHNOLOGY</td>\n",
              "      <td>TELEPHONES AND COMMUNICATION</td>\n",
              "      <td>Prod_4</td>\n",
              "    </tr>\n",
              "    <tr>\n",
              "      <th>4</th>\n",
              "      <td>FURNITURE</td>\n",
              "      <td>OFFICE FURNISHINGS</td>\n",
              "      <td>Prod_5</td>\n",
              "    </tr>\n",
              "  </tbody>\n",
              "</table>\n",
              "</div>"
            ],
            "text/plain": [
              "  Product_Category            Product_Sub_Category Prod_id\n",
              "0  OFFICE SUPPLIES          STORAGE & ORGANIZATION  Prod_1\n",
              "1  OFFICE SUPPLIES                      APPLIANCES  Prod_2\n",
              "2  OFFICE SUPPLIES  BINDERS AND BINDER ACCESSORIES  Prod_3\n",
              "3       TECHNOLOGY    TELEPHONES AND COMMUNICATION  Prod_4\n",
              "4        FURNITURE              OFFICE FURNISHINGS  Prod_5"
            ]
          },
          "metadata": {
            "tags": []
          },
          "execution_count": 97
        }
      ]
    },
    {
      "cell_type": "code",
      "metadata": {
        "id": "xUZMED7eFeOQ",
        "colab_type": "code",
        "colab": {
          "base_uri": "https://localhost:8080/",
          "height": 202
        },
        "outputId": "1048d1ed-84ba-4032-fa4a-eb1691291c0e"
      },
      "source": [
        "# Shipping metadata\n",
        "# Display the first five row\n",
        "shipping_df.head()"
      ],
      "execution_count": 98,
      "outputs": [
        {
          "output_type": "execute_result",
          "data": {
            "text/html": [
              "<div>\n",
              "<style scoped>\n",
              "    .dataframe tbody tr th:only-of-type {\n",
              "        vertical-align: middle;\n",
              "    }\n",
              "\n",
              "    .dataframe tbody tr th {\n",
              "        vertical-align: top;\n",
              "    }\n",
              "\n",
              "    .dataframe thead th {\n",
              "        text-align: right;\n",
              "    }\n",
              "</style>\n",
              "<table border=\"1\" class=\"dataframe\">\n",
              "  <thead>\n",
              "    <tr style=\"text-align: right;\">\n",
              "      <th></th>\n",
              "      <th>Order_ID</th>\n",
              "      <th>Ship_Mode</th>\n",
              "      <th>Ship_Date</th>\n",
              "      <th>Ship_id</th>\n",
              "    </tr>\n",
              "  </thead>\n",
              "  <tbody>\n",
              "    <tr>\n",
              "      <th>0</th>\n",
              "      <td>3</td>\n",
              "      <td>REGULAR AIR</td>\n",
              "      <td>20-10-2010</td>\n",
              "      <td>SHP_1</td>\n",
              "    </tr>\n",
              "    <tr>\n",
              "      <th>1</th>\n",
              "      <td>293</td>\n",
              "      <td>DELIVERY TRUCK</td>\n",
              "      <td>02-10-2012</td>\n",
              "      <td>SHP_2</td>\n",
              "    </tr>\n",
              "    <tr>\n",
              "      <th>2</th>\n",
              "      <td>293</td>\n",
              "      <td>REGULAR AIR</td>\n",
              "      <td>03-10-2012</td>\n",
              "      <td>SHP_3</td>\n",
              "    </tr>\n",
              "    <tr>\n",
              "      <th>3</th>\n",
              "      <td>483</td>\n",
              "      <td>REGULAR AIR</td>\n",
              "      <td>12-07-2011</td>\n",
              "      <td>SHP_4</td>\n",
              "    </tr>\n",
              "    <tr>\n",
              "      <th>4</th>\n",
              "      <td>515</td>\n",
              "      <td>REGULAR AIR</td>\n",
              "      <td>30-08-2010</td>\n",
              "      <td>SHP_5</td>\n",
              "    </tr>\n",
              "  </tbody>\n",
              "</table>\n",
              "</div>"
            ],
            "text/plain": [
              "   Order_ID       Ship_Mode   Ship_Date Ship_id\n",
              "0         3     REGULAR AIR  20-10-2010   SHP_1\n",
              "1       293  DELIVERY TRUCK  02-10-2012   SHP_2\n",
              "2       293     REGULAR AIR  03-10-2012   SHP_3\n",
              "3       483     REGULAR AIR  12-07-2011   SHP_4\n",
              "4       515     REGULAR AIR  30-08-2010   SHP_5"
            ]
          },
          "metadata": {
            "tags": []
          },
          "execution_count": 98
        }
      ]
    },
    {
      "cell_type": "code",
      "metadata": {
        "id": "asLVQWKBFpve",
        "colab_type": "code",
        "colab": {
          "base_uri": "https://localhost:8080/",
          "height": 35
        },
        "outputId": "2f64ee45-c9d8-4848-b6d1-5d219d59c073"
      },
      "source": [
        "# Merging the dataframes\n",
        "# Note that Cust_id is the common column/key, in market_df and customer_df\n",
        "# Make sure the  customer ids present in both dfs are included in the result df1\n",
        "df1 = pd.merge(market_df,customer_df )\n",
        "df1.shape"
      ],
      "execution_count": 101,
      "outputs": [
        {
          "output_type": "execute_result",
          "data": {
            "text/plain": [
              "(8399, 14)"
            ]
          },
          "metadata": {
            "tags": []
          },
          "execution_count": 101
        }
      ]
    },
    {
      "cell_type": "code",
      "metadata": {
        "id": "8T7R8q83FegA",
        "colab_type": "code",
        "colab": {
          "base_uri": "https://localhost:8080/",
          "height": 104
        },
        "outputId": "0ef08bc5-e8e0-4528-e703-383668237596"
      },
      "source": [
        "# Now, you can subset the orders made by customers from 'Corporate' segment in df1\n",
        "df1.Customer_Segment.value_counts()"
      ],
      "execution_count": 102,
      "outputs": [
        {
          "output_type": "execute_result",
          "data": {
            "text/plain": [
              "CORPORATE         3076\n",
              "HOME OFFICE       2032\n",
              "CONSUMER          1649\n",
              "SMALL BUSINESS    1642\n",
              "Name: Customer_Segment, dtype: int64"
            ]
          },
          "metadata": {
            "tags": []
          },
          "execution_count": 102
        }
      ]
    },
    {
      "cell_type": "code",
      "metadata": {
        "id": "sKy-DeIQGQoa",
        "colab_type": "code",
        "colab": {
          "base_uri": "https://localhost:8080/",
          "height": 326
        },
        "outputId": "c127d762-424e-4a50-b790-c20ae86f82f6"
      },
      "source": [
        "#  merge the df1 and product_df  store the result in df2\n",
        "df2 = pd.merge(df1, product_df)\n",
        "print(df2.shape)\n",
        "df2.head()"
      ],
      "execution_count": 103,
      "outputs": [
        {
          "output_type": "stream",
          "text": [
            "(8399, 16)\n"
          ],
          "name": "stdout"
        },
        {
          "output_type": "execute_result",
          "data": {
            "text/html": [
              "<div>\n",
              "<style scoped>\n",
              "    .dataframe tbody tr th:only-of-type {\n",
              "        vertical-align: middle;\n",
              "    }\n",
              "\n",
              "    .dataframe tbody tr th {\n",
              "        vertical-align: top;\n",
              "    }\n",
              "\n",
              "    .dataframe thead th {\n",
              "        text-align: right;\n",
              "    }\n",
              "</style>\n",
              "<table border=\"1\" class=\"dataframe\">\n",
              "  <thead>\n",
              "    <tr style=\"text-align: right;\">\n",
              "      <th></th>\n",
              "      <th>Ord_id</th>\n",
              "      <th>Prod_id</th>\n",
              "      <th>Ship_id</th>\n",
              "      <th>Cust_id</th>\n",
              "      <th>Sales</th>\n",
              "      <th>Discount</th>\n",
              "      <th>Order_Quantity</th>\n",
              "      <th>Profit</th>\n",
              "      <th>Shipping_Cost</th>\n",
              "      <th>Product_Base_Margin</th>\n",
              "      <th>Customer_Name</th>\n",
              "      <th>Province</th>\n",
              "      <th>Region</th>\n",
              "      <th>Customer_Segment</th>\n",
              "      <th>Product_Category</th>\n",
              "      <th>Product_Sub_Category</th>\n",
              "    </tr>\n",
              "  </thead>\n",
              "  <tbody>\n",
              "    <tr>\n",
              "      <th>0</th>\n",
              "      <td>Ord_5446</td>\n",
              "      <td>Prod_16</td>\n",
              "      <td>SHP_7609</td>\n",
              "      <td>Cust_1818</td>\n",
              "      <td>136.81</td>\n",
              "      <td>0.01</td>\n",
              "      <td>23</td>\n",
              "      <td>-30.51</td>\n",
              "      <td>3.60</td>\n",
              "      <td>0.56</td>\n",
              "      <td>AARON BERGMAN</td>\n",
              "      <td>ALBERTA</td>\n",
              "      <td>WEST</td>\n",
              "      <td>CORPORATE</td>\n",
              "      <td>OFFICE SUPPLIES</td>\n",
              "      <td>SCISSORS, RULERS AND TRIMMERS</td>\n",
              "    </tr>\n",
              "    <tr>\n",
              "      <th>1</th>\n",
              "      <td>Ord_2978</td>\n",
              "      <td>Prod_16</td>\n",
              "      <td>SHP_4112</td>\n",
              "      <td>Cust_1088</td>\n",
              "      <td>305.05</td>\n",
              "      <td>0.04</td>\n",
              "      <td>27</td>\n",
              "      <td>23.12</td>\n",
              "      <td>3.37</td>\n",
              "      <td>0.57</td>\n",
              "      <td>AARON HAWKINS</td>\n",
              "      <td>ONTARIO</td>\n",
              "      <td>ONTARIO</td>\n",
              "      <td>HOME OFFICE</td>\n",
              "      <td>OFFICE SUPPLIES</td>\n",
              "      <td>SCISSORS, RULERS AND TRIMMERS</td>\n",
              "    </tr>\n",
              "    <tr>\n",
              "      <th>2</th>\n",
              "      <td>Ord_5484</td>\n",
              "      <td>Prod_16</td>\n",
              "      <td>SHP_7663</td>\n",
              "      <td>Cust_1820</td>\n",
              "      <td>322.82</td>\n",
              "      <td>0.05</td>\n",
              "      <td>35</td>\n",
              "      <td>-17.58</td>\n",
              "      <td>3.98</td>\n",
              "      <td>0.56</td>\n",
              "      <td>ADRIAN SHAMI</td>\n",
              "      <td>ALBERTA</td>\n",
              "      <td>WEST</td>\n",
              "      <td>CONSUMER</td>\n",
              "      <td>OFFICE SUPPLIES</td>\n",
              "      <td>SCISSORS, RULERS AND TRIMMERS</td>\n",
              "    </tr>\n",
              "    <tr>\n",
              "      <th>3</th>\n",
              "      <td>Ord_3730</td>\n",
              "      <td>Prod_16</td>\n",
              "      <td>SHP_5175</td>\n",
              "      <td>Cust_1314</td>\n",
              "      <td>459.08</td>\n",
              "      <td>0.04</td>\n",
              "      <td>34</td>\n",
              "      <td>61.57</td>\n",
              "      <td>3.14</td>\n",
              "      <td>0.60</td>\n",
              "      <td>ALEKSANDRA GANNAWAY</td>\n",
              "      <td>SASKACHEWAN</td>\n",
              "      <td>PRARIE</td>\n",
              "      <td>CORPORATE</td>\n",
              "      <td>OFFICE SUPPLIES</td>\n",
              "      <td>SCISSORS, RULERS AND TRIMMERS</td>\n",
              "    </tr>\n",
              "    <tr>\n",
              "      <th>4</th>\n",
              "      <td>Ord_4143</td>\n",
              "      <td>Prod_16</td>\n",
              "      <td>SHP_5771</td>\n",
              "      <td>Cust_1417</td>\n",
              "      <td>207.21</td>\n",
              "      <td>0.06</td>\n",
              "      <td>24</td>\n",
              "      <td>-78.64</td>\n",
              "      <td>6.14</td>\n",
              "      <td>0.59</td>\n",
              "      <td>ALLEN ARMOLD</td>\n",
              "      <td>NEW BRUNSWICK</td>\n",
              "      <td>ATLANTIC</td>\n",
              "      <td>HOME OFFICE</td>\n",
              "      <td>OFFICE SUPPLIES</td>\n",
              "      <td>SCISSORS, RULERS AND TRIMMERS</td>\n",
              "    </tr>\n",
              "  </tbody>\n",
              "</table>\n",
              "</div>"
            ],
            "text/plain": [
              "     Ord_id  Prod_id  ... Product_Category           Product_Sub_Category\n",
              "0  Ord_5446  Prod_16  ...  OFFICE SUPPLIES  SCISSORS, RULERS AND TRIMMERS\n",
              "1  Ord_2978  Prod_16  ...  OFFICE SUPPLIES  SCISSORS, RULERS AND TRIMMERS\n",
              "2  Ord_5484  Prod_16  ...  OFFICE SUPPLIES  SCISSORS, RULERS AND TRIMMERS\n",
              "3  Ord_3730  Prod_16  ...  OFFICE SUPPLIES  SCISSORS, RULERS AND TRIMMERS\n",
              "4  Ord_4143  Prod_16  ...  OFFICE SUPPLIES  SCISSORS, RULERS AND TRIMMERS\n",
              "\n",
              "[5 rows x 16 columns]"
            ]
          },
          "metadata": {
            "tags": []
          },
          "execution_count": 103
        }
      ]
    },
    {
      "cell_type": "code",
      "metadata": {
        "id": "YsgQ8Z7PGYKv",
        "colab_type": "code",
        "colab": {
          "base_uri": "https://localhost:8080/",
          "height": 609
        },
        "outputId": "724d5f81-e3c4-4c5d-9cd3-de726e8c45f0"
      },
      "source": [
        "# Select all orders from product category = office supplies and from the corporate segment\n",
        "df2[(df2.Product_Category=='OFFICE SUPPLIES') & (df2.Customer_Segment=='CORPORATE')]"
      ],
      "execution_count": 104,
      "outputs": [
        {
          "output_type": "execute_result",
          "data": {
            "text/html": [
              "<div>\n",
              "<style scoped>\n",
              "    .dataframe tbody tr th:only-of-type {\n",
              "        vertical-align: middle;\n",
              "    }\n",
              "\n",
              "    .dataframe tbody tr th {\n",
              "        vertical-align: top;\n",
              "    }\n",
              "\n",
              "    .dataframe thead th {\n",
              "        text-align: right;\n",
              "    }\n",
              "</style>\n",
              "<table border=\"1\" class=\"dataframe\">\n",
              "  <thead>\n",
              "    <tr style=\"text-align: right;\">\n",
              "      <th></th>\n",
              "      <th>Ord_id</th>\n",
              "      <th>Prod_id</th>\n",
              "      <th>Ship_id</th>\n",
              "      <th>Cust_id</th>\n",
              "      <th>Sales</th>\n",
              "      <th>Discount</th>\n",
              "      <th>Order_Quantity</th>\n",
              "      <th>Profit</th>\n",
              "      <th>Shipping_Cost</th>\n",
              "      <th>Product_Base_Margin</th>\n",
              "      <th>Customer_Name</th>\n",
              "      <th>Province</th>\n",
              "      <th>Region</th>\n",
              "      <th>Customer_Segment</th>\n",
              "      <th>Product_Category</th>\n",
              "      <th>Product_Sub_Category</th>\n",
              "    </tr>\n",
              "  </thead>\n",
              "  <tbody>\n",
              "    <tr>\n",
              "      <th>0</th>\n",
              "      <td>Ord_5446</td>\n",
              "      <td>Prod_16</td>\n",
              "      <td>SHP_7609</td>\n",
              "      <td>Cust_1818</td>\n",
              "      <td>136.81</td>\n",
              "      <td>0.01</td>\n",
              "      <td>23</td>\n",
              "      <td>-30.51</td>\n",
              "      <td>3.60</td>\n",
              "      <td>0.56</td>\n",
              "      <td>AARON BERGMAN</td>\n",
              "      <td>ALBERTA</td>\n",
              "      <td>WEST</td>\n",
              "      <td>CORPORATE</td>\n",
              "      <td>OFFICE SUPPLIES</td>\n",
              "      <td>SCISSORS, RULERS AND TRIMMERS</td>\n",
              "    </tr>\n",
              "    <tr>\n",
              "      <th>3</th>\n",
              "      <td>Ord_3730</td>\n",
              "      <td>Prod_16</td>\n",
              "      <td>SHP_5175</td>\n",
              "      <td>Cust_1314</td>\n",
              "      <td>459.08</td>\n",
              "      <td>0.04</td>\n",
              "      <td>34</td>\n",
              "      <td>61.57</td>\n",
              "      <td>3.14</td>\n",
              "      <td>0.60</td>\n",
              "      <td>ALEKSANDRA GANNAWAY</td>\n",
              "      <td>SASKACHEWAN</td>\n",
              "      <td>PRARIE</td>\n",
              "      <td>CORPORATE</td>\n",
              "      <td>OFFICE SUPPLIES</td>\n",
              "      <td>SCISSORS, RULERS AND TRIMMERS</td>\n",
              "    </tr>\n",
              "    <tr>\n",
              "      <th>7</th>\n",
              "      <td>Ord_4506</td>\n",
              "      <td>Prod_16</td>\n",
              "      <td>SHP_6273</td>\n",
              "      <td>Cust_1544</td>\n",
              "      <td>92.02</td>\n",
              "      <td>0.07</td>\n",
              "      <td>9</td>\n",
              "      <td>-24.88</td>\n",
              "      <td>4.68</td>\n",
              "      <td>0.59</td>\n",
              "      <td>AMY COX</td>\n",
              "      <td>YUKON</td>\n",
              "      <td>YUKON</td>\n",
              "      <td>CORPORATE</td>\n",
              "      <td>OFFICE SUPPLIES</td>\n",
              "      <td>SCISSORS, RULERS AND TRIMMERS</td>\n",
              "    </tr>\n",
              "    <tr>\n",
              "      <th>9</th>\n",
              "      <td>Ord_1551</td>\n",
              "      <td>Prod_16</td>\n",
              "      <td>SHP_2145</td>\n",
              "      <td>Cust_531</td>\n",
              "      <td>184.77</td>\n",
              "      <td>0.00</td>\n",
              "      <td>29</td>\n",
              "      <td>-71.96</td>\n",
              "      <td>5.30</td>\n",
              "      <td>0.55</td>\n",
              "      <td>ANDY YOTOV</td>\n",
              "      <td>ONTARIO</td>\n",
              "      <td>ONTARIO</td>\n",
              "      <td>CORPORATE</td>\n",
              "      <td>OFFICE SUPPLIES</td>\n",
              "      <td>SCISSORS, RULERS AND TRIMMERS</td>\n",
              "    </tr>\n",
              "    <tr>\n",
              "      <th>11</th>\n",
              "      <td>Ord_1429</td>\n",
              "      <td>Prod_16</td>\n",
              "      <td>SHP_1976</td>\n",
              "      <td>Cust_510</td>\n",
              "      <td>539.06</td>\n",
              "      <td>0.05</td>\n",
              "      <td>42</td>\n",
              "      <td>-123.07</td>\n",
              "      <td>4.59</td>\n",
              "      <td>0.82</td>\n",
              "      <td>ANNA HABERLIN</td>\n",
              "      <td>ONTARIO</td>\n",
              "      <td>ONTARIO</td>\n",
              "      <td>CORPORATE</td>\n",
              "      <td>OFFICE SUPPLIES</td>\n",
              "      <td>SCISSORS, RULERS AND TRIMMERS</td>\n",
              "    </tr>\n",
              "    <tr>\n",
              "      <th>...</th>\n",
              "      <td>...</td>\n",
              "      <td>...</td>\n",
              "      <td>...</td>\n",
              "      <td>...</td>\n",
              "      <td>...</td>\n",
              "      <td>...</td>\n",
              "      <td>...</td>\n",
              "      <td>...</td>\n",
              "      <td>...</td>\n",
              "      <td>...</td>\n",
              "      <td>...</td>\n",
              "      <td>...</td>\n",
              "      <td>...</td>\n",
              "      <td>...</td>\n",
              "      <td>...</td>\n",
              "      <td>...</td>\n",
              "    </tr>\n",
              "    <tr>\n",
              "      <th>7545</th>\n",
              "      <td>Ord_4629</td>\n",
              "      <td>Prod_1</td>\n",
              "      <td>SHP_6447</td>\n",
              "      <td>Cust_1587</td>\n",
              "      <td>848.19</td>\n",
              "      <td>0.06</td>\n",
              "      <td>25</td>\n",
              "      <td>120.02</td>\n",
              "      <td>5.49</td>\n",
              "      <td>0.60</td>\n",
              "      <td>VICTORIA PISTEKA</td>\n",
              "      <td>BRITISH COLUMBIA</td>\n",
              "      <td>WEST</td>\n",
              "      <td>CORPORATE</td>\n",
              "      <td>OFFICE SUPPLIES</td>\n",
              "      <td>STORAGE &amp; ORGANIZATION</td>\n",
              "    </tr>\n",
              "    <tr>\n",
              "      <th>7546</th>\n",
              "      <td>Ord_4604</td>\n",
              "      <td>Prod_1</td>\n",
              "      <td>SHP_6403</td>\n",
              "      <td>Cust_1522</td>\n",
              "      <td>234.24</td>\n",
              "      <td>0.09</td>\n",
              "      <td>24</td>\n",
              "      <td>-151.80</td>\n",
              "      <td>9.45</td>\n",
              "      <td>0.60</td>\n",
              "      <td>VICTORIA PISTEKA</td>\n",
              "      <td>YUKON</td>\n",
              "      <td>YUKON</td>\n",
              "      <td>CORPORATE</td>\n",
              "      <td>OFFICE SUPPLIES</td>\n",
              "      <td>STORAGE &amp; ORGANIZATION</td>\n",
              "    </tr>\n",
              "    <tr>\n",
              "      <th>7551</th>\n",
              "      <td>Ord_3543</td>\n",
              "      <td>Prod_1</td>\n",
              "      <td>SHP_4905</td>\n",
              "      <td>Cust_1266</td>\n",
              "      <td>1184.11</td>\n",
              "      <td>0.07</td>\n",
              "      <td>6</td>\n",
              "      <td>-145.07</td>\n",
              "      <td>19.99</td>\n",
              "      <td>0.71</td>\n",
              "      <td>WILLIAM BROWN</td>\n",
              "      <td>SASKACHEWAN</td>\n",
              "      <td>PRARIE</td>\n",
              "      <td>CORPORATE</td>\n",
              "      <td>OFFICE SUPPLIES</td>\n",
              "      <td>STORAGE &amp; ORGANIZATION</td>\n",
              "    </tr>\n",
              "    <tr>\n",
              "      <th>7552</th>\n",
              "      <td>Ord_2722</td>\n",
              "      <td>Prod_1</td>\n",
              "      <td>SHP_3731</td>\n",
              "      <td>Cust_1006</td>\n",
              "      <td>3508.33</td>\n",
              "      <td>0.04</td>\n",
              "      <td>21</td>\n",
              "      <td>-546.98</td>\n",
              "      <td>35.00</td>\n",
              "      <td>0.85</td>\n",
              "      <td>XYLONA PRICE</td>\n",
              "      <td>ONTARIO</td>\n",
              "      <td>ONTARIO</td>\n",
              "      <td>CORPORATE</td>\n",
              "      <td>OFFICE SUPPLIES</td>\n",
              "      <td>STORAGE &amp; ORGANIZATION</td>\n",
              "    </tr>\n",
              "    <tr>\n",
              "      <th>7553</th>\n",
              "      <td>Ord_4424</td>\n",
              "      <td>Prod_1</td>\n",
              "      <td>SHP_6165</td>\n",
              "      <td>Cust_1519</td>\n",
              "      <td>994.04</td>\n",
              "      <td>0.03</td>\n",
              "      <td>10</td>\n",
              "      <td>-335.06</td>\n",
              "      <td>35.00</td>\n",
              "      <td>NaN</td>\n",
              "      <td>YANA SORENSEN</td>\n",
              "      <td>YUKON</td>\n",
              "      <td>YUKON</td>\n",
              "      <td>CORPORATE</td>\n",
              "      <td>OFFICE SUPPLIES</td>\n",
              "      <td>STORAGE &amp; ORGANIZATION</td>\n",
              "    </tr>\n",
              "  </tbody>\n",
              "</table>\n",
              "<p>1680 rows × 16 columns</p>\n",
              "</div>"
            ],
            "text/plain": [
              "        Ord_id  Prod_id  ... Product_Category           Product_Sub_Category\n",
              "0     Ord_5446  Prod_16  ...  OFFICE SUPPLIES  SCISSORS, RULERS AND TRIMMERS\n",
              "3     Ord_3730  Prod_16  ...  OFFICE SUPPLIES  SCISSORS, RULERS AND TRIMMERS\n",
              "7     Ord_4506  Prod_16  ...  OFFICE SUPPLIES  SCISSORS, RULERS AND TRIMMERS\n",
              "9     Ord_1551  Prod_16  ...  OFFICE SUPPLIES  SCISSORS, RULERS AND TRIMMERS\n",
              "11    Ord_1429  Prod_16  ...  OFFICE SUPPLIES  SCISSORS, RULERS AND TRIMMERS\n",
              "...        ...      ...  ...              ...                            ...\n",
              "7545  Ord_4629   Prod_1  ...  OFFICE SUPPLIES         STORAGE & ORGANIZATION\n",
              "7546  Ord_4604   Prod_1  ...  OFFICE SUPPLIES         STORAGE & ORGANIZATION\n",
              "7551  Ord_3543   Prod_1  ...  OFFICE SUPPLIES         STORAGE & ORGANIZATION\n",
              "7552  Ord_2722   Prod_1  ...  OFFICE SUPPLIES         STORAGE & ORGANIZATION\n",
              "7553  Ord_4424   Prod_1  ...  OFFICE SUPPLIES         STORAGE & ORGANIZATION\n",
              "\n",
              "[1680 rows x 16 columns]"
            ]
          },
          "metadata": {
            "tags": []
          },
          "execution_count": 104
        }
      ]
    },
    {
      "cell_type": "markdown",
      "metadata": {
        "id": "z3wwXJz2GffR",
        "colab_type": "text"
      },
      "source": [
        "Similary, you can merge the other dimension tables - shipping_df and orders_df to create a master_df and perform indexing using any column in the master dataframe."
      ]
    },
    {
      "cell_type": "code",
      "metadata": {
        "id": "3XjfMM2GGgu-",
        "colab_type": "code",
        "colab": {
          "base_uri": "https://localhost:8080/",
          "height": 35
        },
        "outputId": "bb07d282-bdc1-43c9-d292-fd24c87d5156"
      },
      "source": [
        "# Merging shipping_df store result in df3\n",
        "df3 = pd.merge(df2,shipping_df )\n",
        "df3.shape"
      ],
      "execution_count": 105,
      "outputs": [
        {
          "output_type": "execute_result",
          "data": {
            "text/plain": [
              "(8399, 19)"
            ]
          },
          "metadata": {
            "tags": []
          },
          "execution_count": 105
        }
      ]
    },
    {
      "cell_type": "code",
      "metadata": {
        "id": "y21FMcM0GsEZ",
        "colab_type": "code",
        "colab": {
          "base_uri": "https://localhost:8080/",
          "height": 35
        },
        "outputId": "493e7bc5-644e-4566-e9dc-7d714f4322c5"
      },
      "source": [
        "# Merging the orders table to create a master_df\n",
        "master_df = pd.merge(df3,orders_df )\n",
        "master_df.shape"
      ],
      "execution_count": 111,
      "outputs": [
        {
          "output_type": "execute_result",
          "data": {
            "text/plain": [
              "(8399, 21)"
            ]
          },
          "metadata": {
            "tags": []
          },
          "execution_count": 111
        }
      ]
    },
    {
      "cell_type": "code",
      "metadata": {
        "id": "rfbDZMQzHeTX",
        "colab_type": "code",
        "colab": {
          "base_uri": "https://localhost:8080/",
          "height": 415
        },
        "outputId": "255c7750-f24a-4011-a519-0db91da5444e"
      },
      "source": [
        "# Read the data from \"global_sales_data/orders_dimen.csv.csv\" into orders_df\n",
        "orders_df = pd.read_csv(\"/content/orders_dimen.csv\")\n",
        "orders_df"
      ],
      "execution_count": 109,
      "outputs": [
        {
          "output_type": "execute_result",
          "data": {
            "text/html": [
              "<div>\n",
              "<style scoped>\n",
              "    .dataframe tbody tr th:only-of-type {\n",
              "        vertical-align: middle;\n",
              "    }\n",
              "\n",
              "    .dataframe tbody tr th {\n",
              "        vertical-align: top;\n",
              "    }\n",
              "\n",
              "    .dataframe thead th {\n",
              "        text-align: right;\n",
              "    }\n",
              "</style>\n",
              "<table border=\"1\" class=\"dataframe\">\n",
              "  <thead>\n",
              "    <tr style=\"text-align: right;\">\n",
              "      <th></th>\n",
              "      <th>Order_ID</th>\n",
              "      <th>Order_Date</th>\n",
              "      <th>Order_Priority</th>\n",
              "      <th>Ord_id</th>\n",
              "    </tr>\n",
              "  </thead>\n",
              "  <tbody>\n",
              "    <tr>\n",
              "      <th>0</th>\n",
              "      <td>3</td>\n",
              "      <td>13-10-2010</td>\n",
              "      <td>LOW</td>\n",
              "      <td>Ord_1</td>\n",
              "    </tr>\n",
              "    <tr>\n",
              "      <th>1</th>\n",
              "      <td>293</td>\n",
              "      <td>01-10-2012</td>\n",
              "      <td>HIGH</td>\n",
              "      <td>Ord_2</td>\n",
              "    </tr>\n",
              "    <tr>\n",
              "      <th>2</th>\n",
              "      <td>483</td>\n",
              "      <td>10-07-2011</td>\n",
              "      <td>HIGH</td>\n",
              "      <td>Ord_3</td>\n",
              "    </tr>\n",
              "    <tr>\n",
              "      <th>3</th>\n",
              "      <td>515</td>\n",
              "      <td>28-08-2010</td>\n",
              "      <td>NOT SPECIFIED</td>\n",
              "      <td>Ord_4</td>\n",
              "    </tr>\n",
              "    <tr>\n",
              "      <th>4</th>\n",
              "      <td>613</td>\n",
              "      <td>17-06-2011</td>\n",
              "      <td>HIGH</td>\n",
              "      <td>Ord_5</td>\n",
              "    </tr>\n",
              "    <tr>\n",
              "      <th>...</th>\n",
              "      <td>...</td>\n",
              "      <td>...</td>\n",
              "      <td>...</td>\n",
              "      <td>...</td>\n",
              "    </tr>\n",
              "    <tr>\n",
              "      <th>5501</th>\n",
              "      <td>47360</td>\n",
              "      <td>08-10-2010</td>\n",
              "      <td>NOT SPECIFIED</td>\n",
              "      <td>Ord_5502</td>\n",
              "    </tr>\n",
              "    <tr>\n",
              "      <th>5502</th>\n",
              "      <td>52706</td>\n",
              "      <td>09-07-2012</td>\n",
              "      <td>LOW</td>\n",
              "      <td>Ord_5503</td>\n",
              "    </tr>\n",
              "    <tr>\n",
              "      <th>5503</th>\n",
              "      <td>54279</td>\n",
              "      <td>30-07-2011</td>\n",
              "      <td>HIGH</td>\n",
              "      <td>Ord_5504</td>\n",
              "    </tr>\n",
              "    <tr>\n",
              "      <th>5504</th>\n",
              "      <td>55558</td>\n",
              "      <td>09-08-2010</td>\n",
              "      <td>MEDIUM</td>\n",
              "      <td>Ord_5505</td>\n",
              "    </tr>\n",
              "    <tr>\n",
              "      <th>5505</th>\n",
              "      <td>56581</td>\n",
              "      <td>08-02-2009</td>\n",
              "      <td>HIGH</td>\n",
              "      <td>Ord_5506</td>\n",
              "    </tr>\n",
              "  </tbody>\n",
              "</table>\n",
              "<p>5506 rows × 4 columns</p>\n",
              "</div>"
            ],
            "text/plain": [
              "      Order_ID  Order_Date Order_Priority    Ord_id\n",
              "0            3  13-10-2010            LOW     Ord_1\n",
              "1          293  01-10-2012           HIGH     Ord_2\n",
              "2          483  10-07-2011           HIGH     Ord_3\n",
              "3          515  28-08-2010  NOT SPECIFIED     Ord_4\n",
              "4          613  17-06-2011           HIGH     Ord_5\n",
              "...        ...         ...            ...       ...\n",
              "5501     47360  08-10-2010  NOT SPECIFIED  Ord_5502\n",
              "5502     52706  09-07-2012            LOW  Ord_5503\n",
              "5503     54279  30-07-2011           HIGH  Ord_5504\n",
              "5504     55558  09-08-2010         MEDIUM  Ord_5505\n",
              "5505     56581  08-02-2009           HIGH  Ord_5506\n",
              "\n",
              "[5506 rows x 4 columns]"
            ]
          },
          "metadata": {
            "tags": []
          },
          "execution_count": 109
        }
      ]
    },
    {
      "cell_type": "code",
      "metadata": {
        "id": "ALdZwjR_ITro",
        "colab_type": "code",
        "colab": {
          "base_uri": "https://localhost:8080/",
          "height": 202
        },
        "outputId": "0fe49c4a-bd25-46ee-bf1b-2303e570e10f"
      },
      "source": [
        "# Orders dimension table\n",
        "# Display the first five row\n",
        "orders_df.head()"
      ],
      "execution_count": 110,
      "outputs": [
        {
          "output_type": "execute_result",
          "data": {
            "text/html": [
              "<div>\n",
              "<style scoped>\n",
              "    .dataframe tbody tr th:only-of-type {\n",
              "        vertical-align: middle;\n",
              "    }\n",
              "\n",
              "    .dataframe tbody tr th {\n",
              "        vertical-align: top;\n",
              "    }\n",
              "\n",
              "    .dataframe thead th {\n",
              "        text-align: right;\n",
              "    }\n",
              "</style>\n",
              "<table border=\"1\" class=\"dataframe\">\n",
              "  <thead>\n",
              "    <tr style=\"text-align: right;\">\n",
              "      <th></th>\n",
              "      <th>Order_ID</th>\n",
              "      <th>Order_Date</th>\n",
              "      <th>Order_Priority</th>\n",
              "      <th>Ord_id</th>\n",
              "    </tr>\n",
              "  </thead>\n",
              "  <tbody>\n",
              "    <tr>\n",
              "      <th>0</th>\n",
              "      <td>3</td>\n",
              "      <td>13-10-2010</td>\n",
              "      <td>LOW</td>\n",
              "      <td>Ord_1</td>\n",
              "    </tr>\n",
              "    <tr>\n",
              "      <th>1</th>\n",
              "      <td>293</td>\n",
              "      <td>01-10-2012</td>\n",
              "      <td>HIGH</td>\n",
              "      <td>Ord_2</td>\n",
              "    </tr>\n",
              "    <tr>\n",
              "      <th>2</th>\n",
              "      <td>483</td>\n",
              "      <td>10-07-2011</td>\n",
              "      <td>HIGH</td>\n",
              "      <td>Ord_3</td>\n",
              "    </tr>\n",
              "    <tr>\n",
              "      <th>3</th>\n",
              "      <td>515</td>\n",
              "      <td>28-08-2010</td>\n",
              "      <td>NOT SPECIFIED</td>\n",
              "      <td>Ord_4</td>\n",
              "    </tr>\n",
              "    <tr>\n",
              "      <th>4</th>\n",
              "      <td>613</td>\n",
              "      <td>17-06-2011</td>\n",
              "      <td>HIGH</td>\n",
              "      <td>Ord_5</td>\n",
              "    </tr>\n",
              "  </tbody>\n",
              "</table>\n",
              "</div>"
            ],
            "text/plain": [
              "   Order_ID  Order_Date Order_Priority Ord_id\n",
              "0         3  13-10-2010            LOW  Ord_1\n",
              "1       293  01-10-2012           HIGH  Ord_2\n",
              "2       483  10-07-2011           HIGH  Ord_3\n",
              "3       515  28-08-2010  NOT SPECIFIED  Ord_4\n",
              "4       613  17-06-2011           HIGH  Ord_5"
            ]
          },
          "metadata": {
            "tags": []
          },
          "execution_count": 110
        }
      ]
    },
    {
      "cell_type": "code",
      "metadata": {
        "id": "1__jWFT_Gzpt",
        "colab_type": "code",
        "colab": {
          "base_uri": "https://localhost:8080/",
          "height": 139
        },
        "outputId": "1336acd8-9f7f-49af-bdcf-f1509eebcf83"
      },
      "source": [
        "# Which customer segments are the least profitable? \n",
        "# Use grouping with master_df on Customer_Segment\n",
        "grp_cust = master_df.groupby('Customer_Segment')\n",
        "print(grp_cust.Profit.sum())\n",
        "print('Customer Segment with least profit:', grp_cust.Profit.sum().idxmin() )"
      ],
      "execution_count": 112,
      "outputs": [
        {
          "output_type": "stream",
          "text": [
            "Customer_Segment\n",
            "CONSUMER          287959.94\n",
            "CORPORATE         599746.00\n",
            "HOME OFFICE       318354.03\n",
            "SMALL BUSINESS    315708.01\n",
            "Name: Profit, dtype: float64\n",
            "Customer Segment with least profit: CONSUMER\n"
          ],
          "name": "stdout"
        }
      ]
    },
    {
      "cell_type": "code",
      "metadata": {
        "id": "B-rx9zHKIwDf",
        "colab_type": "code",
        "colab": {
          "base_uri": "https://localhost:8080/",
          "height": 121
        },
        "outputId": "55b2c4d6-77c7-4569-d051-5237491700e0"
      },
      "source": [
        "# Which product categories are the least profitable?\n",
        "grp_product = master_df.groupby('Product_Category')['Profit'].sum()\n",
        "print(grp_product)\n",
        "grp_product.idxmin()"
      ],
      "execution_count": 113,
      "outputs": [
        {
          "output_type": "stream",
          "text": [
            "Product_Category\n",
            "FURNITURE          117433.03\n",
            "OFFICE SUPPLIES    518021.43\n",
            "TECHNOLOGY         886313.52\n",
            "Name: Profit, dtype: float64\n"
          ],
          "name": "stdout"
        },
        {
          "output_type": "execute_result",
          "data": {
            "text/plain": [
              "'FURNITURE'"
            ]
          },
          "metadata": {
            "tags": []
          },
          "execution_count": 113
        }
      ]
    },
    {
      "cell_type": "code",
      "metadata": {
        "id": "N5YwqRvSI4Ev",
        "colab_type": "code",
        "colab": {
          "base_uri": "https://localhost:8080/",
          "height": 601
        },
        "outputId": "79765480-a762-4ffa-c008-557405695e7f"
      },
      "source": [
        "# Which product categories and sub-categories are the least profitable?\n",
        "grp_sub_product = master_df.groupby(['Product_Category', 'Product_Sub_Category'])[['Profit', 'Sales']].sum()\n",
        "grp_sub_product"
      ],
      "execution_count": 114,
      "outputs": [
        {
          "output_type": "execute_result",
          "data": {
            "text/html": [
              "<div>\n",
              "<style scoped>\n",
              "    .dataframe tbody tr th:only-of-type {\n",
              "        vertical-align: middle;\n",
              "    }\n",
              "\n",
              "    .dataframe tbody tr th {\n",
              "        vertical-align: top;\n",
              "    }\n",
              "\n",
              "    .dataframe thead th {\n",
              "        text-align: right;\n",
              "    }\n",
              "</style>\n",
              "<table border=\"1\" class=\"dataframe\">\n",
              "  <thead>\n",
              "    <tr style=\"text-align: right;\">\n",
              "      <th></th>\n",
              "      <th></th>\n",
              "      <th>Profit</th>\n",
              "      <th>Sales</th>\n",
              "    </tr>\n",
              "    <tr>\n",
              "      <th>Product_Category</th>\n",
              "      <th>Product_Sub_Category</th>\n",
              "      <th></th>\n",
              "      <th></th>\n",
              "    </tr>\n",
              "  </thead>\n",
              "  <tbody>\n",
              "    <tr>\n",
              "      <th rowspan=\"4\" valign=\"top\">FURNITURE</th>\n",
              "      <th>BOOKCASES</th>\n",
              "      <td>-33582.13</td>\n",
              "      <td>822652.040</td>\n",
              "    </tr>\n",
              "    <tr>\n",
              "      <th>CHAIRS &amp; CHAIRMATS</th>\n",
              "      <td>149649.73</td>\n",
              "      <td>1761836.550</td>\n",
              "    </tr>\n",
              "    <tr>\n",
              "      <th>OFFICE FURNISHINGS</th>\n",
              "      <td>100427.93</td>\n",
              "      <td>698093.810</td>\n",
              "    </tr>\n",
              "    <tr>\n",
              "      <th>TABLES</th>\n",
              "      <td>-99062.50</td>\n",
              "      <td>1896008.142</td>\n",
              "    </tr>\n",
              "    <tr>\n",
              "      <th rowspan=\"9\" valign=\"top\">OFFICE SUPPLIES</th>\n",
              "      <th>APPLIANCES</th>\n",
              "      <td>97158.06</td>\n",
              "      <td>736991.540</td>\n",
              "    </tr>\n",
              "    <tr>\n",
              "      <th>BINDERS AND BINDER ACCESSORIES</th>\n",
              "      <td>307413.39</td>\n",
              "      <td>1022957.590</td>\n",
              "    </tr>\n",
              "    <tr>\n",
              "      <th>ENVELOPES</th>\n",
              "      <td>48182.60</td>\n",
              "      <td>174085.800</td>\n",
              "    </tr>\n",
              "    <tr>\n",
              "      <th>LABELS</th>\n",
              "      <td>13677.17</td>\n",
              "      <td>38981.550</td>\n",
              "    </tr>\n",
              "    <tr>\n",
              "      <th>PAPER</th>\n",
              "      <td>45263.20</td>\n",
              "      <td>446452.860</td>\n",
              "    </tr>\n",
              "    <tr>\n",
              "      <th>PENS &amp; ART SUPPLIES</th>\n",
              "      <td>7564.78</td>\n",
              "      <td>167107.220</td>\n",
              "    </tr>\n",
              "    <tr>\n",
              "      <th>RUBBER BANDS</th>\n",
              "      <td>-102.67</td>\n",
              "      <td>15006.630</td>\n",
              "    </tr>\n",
              "    <tr>\n",
              "      <th>SCISSORS, RULERS AND TRIMMERS</th>\n",
              "      <td>-7799.25</td>\n",
              "      <td>80996.310</td>\n",
              "    </tr>\n",
              "    <tr>\n",
              "      <th>STORAGE &amp; ORGANIZATION</th>\n",
              "      <td>6664.15</td>\n",
              "      <td>1070182.600</td>\n",
              "    </tr>\n",
              "    <tr>\n",
              "      <th rowspan=\"4\" valign=\"top\">TECHNOLOGY</th>\n",
              "      <th>COMPUTER PERIPHERALS</th>\n",
              "      <td>94287.48</td>\n",
              "      <td>795875.940</td>\n",
              "    </tr>\n",
              "    <tr>\n",
              "      <th>COPIERS AND FAX</th>\n",
              "      <td>167361.49</td>\n",
              "      <td>1130361.300</td>\n",
              "    </tr>\n",
              "    <tr>\n",
              "      <th>OFFICE MACHINES</th>\n",
              "      <td>307712.93</td>\n",
              "      <td>2168697.140</td>\n",
              "    </tr>\n",
              "    <tr>\n",
              "      <th>TELEPHONES AND COMMUNICATION</th>\n",
              "      <td>316951.62</td>\n",
              "      <td>1889313.802</td>\n",
              "    </tr>\n",
              "  </tbody>\n",
              "</table>\n",
              "</div>"
            ],
            "text/plain": [
              "                                                    Profit        Sales\n",
              "Product_Category Product_Sub_Category                                  \n",
              "FURNITURE        BOOKCASES                       -33582.13   822652.040\n",
              "                 CHAIRS & CHAIRMATS              149649.73  1761836.550\n",
              "                 OFFICE FURNISHINGS              100427.93   698093.810\n",
              "                 TABLES                          -99062.50  1896008.142\n",
              "OFFICE SUPPLIES  APPLIANCES                       97158.06   736991.540\n",
              "                 BINDERS AND BINDER ACCESSORIES  307413.39  1022957.590\n",
              "                 ENVELOPES                        48182.60   174085.800\n",
              "                 LABELS                           13677.17    38981.550\n",
              "                 PAPER                            45263.20   446452.860\n",
              "                 PENS & ART SUPPLIES               7564.78   167107.220\n",
              "                 RUBBER BANDS                      -102.67    15006.630\n",
              "                 SCISSORS, RULERS AND TRIMMERS    -7799.25    80996.310\n",
              "                 STORAGE & ORGANIZATION            6664.15  1070182.600\n",
              "TECHNOLOGY       COMPUTER PERIPHERALS             94287.48   795875.940\n",
              "                 COPIERS AND FAX                 167361.49  1130361.300\n",
              "                 OFFICE MACHINES                 307712.93  2168697.140\n",
              "                 TELEPHONES AND COMMUNICATION    316951.62  1889313.802"
            ]
          },
          "metadata": {
            "tags": []
          },
          "execution_count": 114
        }
      ]
    },
    {
      "cell_type": "code",
      "metadata": {
        "id": "zEMmfPHIJADR",
        "colab_type": "code",
        "colab": {
          "base_uri": "https://localhost:8080/",
          "height": 69
        },
        "outputId": "9c5c8f6e-1d89-4783-88df-7f4e17d5c9f8"
      },
      "source": [
        "master_df.groupby(['Product_Category','Product_Sub_Category'])[['Profit','Sales']].sum().idxmin()"
      ],
      "execution_count": 115,
      "outputs": [
        {
          "output_type": "execute_result",
          "data": {
            "text/plain": [
              "Profit                (FURNITURE, TABLES)\n",
              "Sales     (OFFICE SUPPLIES, RUBBER BANDS)\n",
              "dtype: object"
            ]
          },
          "metadata": {
            "tags": []
          },
          "execution_count": 115
        }
      ]
    },
    {
      "cell_type": "code",
      "metadata": {
        "id": "aiR6b7E1JFo8",
        "colab_type": "code",
        "colab": {
          "base_uri": "https://localhost:8080/",
          "height": 191
        },
        "outputId": "0c458c99-f030-4be0-8637-b0652f0c7010"
      },
      "source": [
        "# Customers in which geographic region are the least profitable?\n",
        "grp_region = master_df.groupby('Region')['Profit']\n",
        "grp_region.min()"
      ],
      "execution_count": 116,
      "outputs": [
        {
          "output_type": "execute_result",
          "data": {
            "text/plain": [
              "Region\n",
              "ATLANTIC                -11769.17\n",
              "NORTHWEST TERRITORIES   -11053.60\n",
              "NUNAVUT                  -1766.01\n",
              "ONTARIO                  -6474.65\n",
              "PRARIE                  -11861.46\n",
              "QUEBEC                   -9611.91\n",
              "WEST                    -14140.70\n",
              "YUKON                    -9078.94\n",
              "Name: Profit, dtype: float64"
            ]
          },
          "metadata": {
            "tags": []
          },
          "execution_count": 116
        }
      ]
    },
    {
      "cell_type": "code",
      "metadata": {
        "id": "FlLl-eb0JRcT",
        "colab_type": "code",
        "colab": {}
      },
      "source": [
        "total_sales = master_df.Sales.sum()"
      ],
      "execution_count": 0,
      "outputs": []
    },
    {
      "cell_type": "code",
      "metadata": {
        "id": "1JwXE3Q0JhWj",
        "colab_type": "code",
        "colab": {}
      },
      "source": [
        "# Calculate the Sales across each region as a percentage of total Sales\n",
        "# hint -the resulting object is a Series, thus you can perform vectorised computations on them\n",
        "# You can divide the entire series by a number (total sales) easily"
      ],
      "execution_count": 0,
      "outputs": []
    },
    {
      "cell_type": "code",
      "metadata": {
        "id": "hTwYeS2JJhTY",
        "colab_type": "code",
        "colab": {
          "base_uri": "https://localhost:8080/",
          "height": 609
        },
        "outputId": "4c224cb9-dc5f-43bc-b146-1729e973c884"
      },
      "source": [
        "master_df[master_df.Profit>0]"
      ],
      "execution_count": 121,
      "outputs": [
        {
          "output_type": "execute_result",
          "data": {
            "text/html": [
              "<div>\n",
              "<style scoped>\n",
              "    .dataframe tbody tr th:only-of-type {\n",
              "        vertical-align: middle;\n",
              "    }\n",
              "\n",
              "    .dataframe tbody tr th {\n",
              "        vertical-align: top;\n",
              "    }\n",
              "\n",
              "    .dataframe thead th {\n",
              "        text-align: right;\n",
              "    }\n",
              "</style>\n",
              "<table border=\"1\" class=\"dataframe\">\n",
              "  <thead>\n",
              "    <tr style=\"text-align: right;\">\n",
              "      <th></th>\n",
              "      <th>Ord_id</th>\n",
              "      <th>Prod_id</th>\n",
              "      <th>Ship_id</th>\n",
              "      <th>Cust_id</th>\n",
              "      <th>Sales</th>\n",
              "      <th>Discount</th>\n",
              "      <th>Order_Quantity</th>\n",
              "      <th>Profit</th>\n",
              "      <th>Shipping_Cost</th>\n",
              "      <th>Product_Base_Margin</th>\n",
              "      <th>Customer_Name</th>\n",
              "      <th>Province</th>\n",
              "      <th>Region</th>\n",
              "      <th>Customer_Segment</th>\n",
              "      <th>Product_Category</th>\n",
              "      <th>Product_Sub_Category</th>\n",
              "      <th>Order_ID</th>\n",
              "      <th>Ship_Mode</th>\n",
              "      <th>Ship_Date</th>\n",
              "      <th>Order_Date</th>\n",
              "      <th>Order_Priority</th>\n",
              "    </tr>\n",
              "  </thead>\n",
              "  <tbody>\n",
              "    <tr>\n",
              "      <th>1</th>\n",
              "      <td>Ord_5446</td>\n",
              "      <td>Prod_4</td>\n",
              "      <td>SHP_7610</td>\n",
              "      <td>Cust_1818</td>\n",
              "      <td>4701.69</td>\n",
              "      <td>0.00</td>\n",
              "      <td>26</td>\n",
              "      <td>1148.90</td>\n",
              "      <td>2.50</td>\n",
              "      <td>0.59</td>\n",
              "      <td>AARON BERGMAN</td>\n",
              "      <td>ALBERTA</td>\n",
              "      <td>WEST</td>\n",
              "      <td>CORPORATE</td>\n",
              "      <td>TECHNOLOGY</td>\n",
              "      <td>TELEPHONES AND COMMUNICATION</td>\n",
              "      <td>36262</td>\n",
              "      <td>EXPRESS AIR</td>\n",
              "      <td>27-07-2010</td>\n",
              "      <td>27-07-2010</td>\n",
              "      <td>NOT SPECIFIED</td>\n",
              "    </tr>\n",
              "    <tr>\n",
              "      <th>3</th>\n",
              "      <td>Ord_2978</td>\n",
              "      <td>Prod_16</td>\n",
              "      <td>SHP_4112</td>\n",
              "      <td>Cust_1088</td>\n",
              "      <td>305.05</td>\n",
              "      <td>0.04</td>\n",
              "      <td>27</td>\n",
              "      <td>23.12</td>\n",
              "      <td>3.37</td>\n",
              "      <td>0.57</td>\n",
              "      <td>AARON HAWKINS</td>\n",
              "      <td>ONTARIO</td>\n",
              "      <td>ONTARIO</td>\n",
              "      <td>HOME OFFICE</td>\n",
              "      <td>OFFICE SUPPLIES</td>\n",
              "      <td>SCISSORS, RULERS AND TRIMMERS</td>\n",
              "      <td>37863</td>\n",
              "      <td>REGULAR AIR</td>\n",
              "      <td>26-02-2011</td>\n",
              "      <td>24-02-2011</td>\n",
              "      <td>HIGH</td>\n",
              "    </tr>\n",
              "    <tr>\n",
              "      <th>5</th>\n",
              "      <td>Ord_3730</td>\n",
              "      <td>Prod_16</td>\n",
              "      <td>SHP_5175</td>\n",
              "      <td>Cust_1314</td>\n",
              "      <td>459.08</td>\n",
              "      <td>0.04</td>\n",
              "      <td>34</td>\n",
              "      <td>61.57</td>\n",
              "      <td>3.14</td>\n",
              "      <td>0.60</td>\n",
              "      <td>ALEKSANDRA GANNAWAY</td>\n",
              "      <td>SASKACHEWAN</td>\n",
              "      <td>PRARIE</td>\n",
              "      <td>CORPORATE</td>\n",
              "      <td>OFFICE SUPPLIES</td>\n",
              "      <td>SCISSORS, RULERS AND TRIMMERS</td>\n",
              "      <td>36992</td>\n",
              "      <td>EXPRESS AIR</td>\n",
              "      <td>09-12-2009</td>\n",
              "      <td>07-12-2009</td>\n",
              "      <td>MEDIUM</td>\n",
              "    </tr>\n",
              "    <tr>\n",
              "      <th>7</th>\n",
              "      <td>Ord_4143</td>\n",
              "      <td>Prod_6</td>\n",
              "      <td>SHP_5770</td>\n",
              "      <td>Cust_1417</td>\n",
              "      <td>901.32</td>\n",
              "      <td>0.10</td>\n",
              "      <td>25</td>\n",
              "      <td>338.01</td>\n",
              "      <td>5.08</td>\n",
              "      <td>0.38</td>\n",
              "      <td>ALLEN ARMOLD</td>\n",
              "      <td>NEW BRUNSWICK</td>\n",
              "      <td>ATLANTIC</td>\n",
              "      <td>HOME OFFICE</td>\n",
              "      <td>OFFICE SUPPLIES</td>\n",
              "      <td>PAPER</td>\n",
              "      <td>13920</td>\n",
              "      <td>EXPRESS AIR</td>\n",
              "      <td>11-10-2009</td>\n",
              "      <td>09-10-2009</td>\n",
              "      <td>CRITICAL</td>\n",
              "    </tr>\n",
              "    <tr>\n",
              "      <th>10</th>\n",
              "      <td>Ord_4796</td>\n",
              "      <td>Prod_13</td>\n",
              "      <td>SHP_6687</td>\n",
              "      <td>Cust_1659</td>\n",
              "      <td>150.06</td>\n",
              "      <td>0.02</td>\n",
              "      <td>49</td>\n",
              "      <td>30.97</td>\n",
              "      <td>0.70</td>\n",
              "      <td>0.56</td>\n",
              "      <td>ALYSSA TATE</td>\n",
              "      <td>BRITISH COLUMBIA</td>\n",
              "      <td>WEST</td>\n",
              "      <td>SMALL BUSINESS</td>\n",
              "      <td>OFFICE SUPPLIES</td>\n",
              "      <td>PENS &amp; ART SUPPLIES</td>\n",
              "      <td>55554</td>\n",
              "      <td>REGULAR AIR</td>\n",
              "      <td>19-11-2009</td>\n",
              "      <td>16-11-2009</td>\n",
              "      <td>CRITICAL</td>\n",
              "    </tr>\n",
              "    <tr>\n",
              "      <th>...</th>\n",
              "      <td>...</td>\n",
              "      <td>...</td>\n",
              "      <td>...</td>\n",
              "      <td>...</td>\n",
              "      <td>...</td>\n",
              "      <td>...</td>\n",
              "      <td>...</td>\n",
              "      <td>...</td>\n",
              "      <td>...</td>\n",
              "      <td>...</td>\n",
              "      <td>...</td>\n",
              "      <td>...</td>\n",
              "      <td>...</td>\n",
              "      <td>...</td>\n",
              "      <td>...</td>\n",
              "      <td>...</td>\n",
              "      <td>...</td>\n",
              "      <td>...</td>\n",
              "      <td>...</td>\n",
              "      <td>...</td>\n",
              "      <td>...</td>\n",
              "    </tr>\n",
              "    <tr>\n",
              "      <th>8389</th>\n",
              "      <td>Ord_757</td>\n",
              "      <td>Prod_14</td>\n",
              "      <td>SHP_1034</td>\n",
              "      <td>Cust_231</td>\n",
              "      <td>6607.92</td>\n",
              "      <td>0.06</td>\n",
              "      <td>34</td>\n",
              "      <td>1462.72</td>\n",
              "      <td>24.49</td>\n",
              "      <td>0.46</td>\n",
              "      <td>LELA DONOVAN</td>\n",
              "      <td>BRITISH COLUMBIA</td>\n",
              "      <td>WEST</td>\n",
              "      <td>CORPORATE</td>\n",
              "      <td>TECHNOLOGY</td>\n",
              "      <td>COPIERS AND FAX</td>\n",
              "      <td>20961</td>\n",
              "      <td>REGULAR AIR</td>\n",
              "      <td>16-01-2010</td>\n",
              "      <td>14-01-2010</td>\n",
              "      <td>NOT SPECIFIED</td>\n",
              "    </tr>\n",
              "    <tr>\n",
              "      <th>8390</th>\n",
              "      <td>Ord_1096</td>\n",
              "      <td>Prod_14</td>\n",
              "      <td>SHP_1512</td>\n",
              "      <td>Cust_423</td>\n",
              "      <td>2222.61</td>\n",
              "      <td>0.02</td>\n",
              "      <td>3</td>\n",
              "      <td>196.08</td>\n",
              "      <td>24.49</td>\n",
              "      <td>0.41</td>\n",
              "      <td>LYCORIS SAUNDERS</td>\n",
              "      <td>ONTARIO</td>\n",
              "      <td>ONTARIO</td>\n",
              "      <td>HOME OFFICE</td>\n",
              "      <td>TECHNOLOGY</td>\n",
              "      <td>COPIERS AND FAX</td>\n",
              "      <td>38693</td>\n",
              "      <td>REGULAR AIR</td>\n",
              "      <td>21-06-2011</td>\n",
              "      <td>14-06-2011</td>\n",
              "      <td>LOW</td>\n",
              "    </tr>\n",
              "    <tr>\n",
              "      <th>8391</th>\n",
              "      <td>Ord_5097</td>\n",
              "      <td>Prod_14</td>\n",
              "      <td>SHP_7119</td>\n",
              "      <td>Cust_1731</td>\n",
              "      <td>21046.74</td>\n",
              "      <td>0.04</td>\n",
              "      <td>29</td>\n",
              "      <td>5217.27</td>\n",
              "      <td>24.49</td>\n",
              "      <td>0.54</td>\n",
              "      <td>MATTHEW GRINSTEIN</td>\n",
              "      <td>ALBERTA</td>\n",
              "      <td>WEST</td>\n",
              "      <td>SMALL BUSINESS</td>\n",
              "      <td>TECHNOLOGY</td>\n",
              "      <td>COPIERS AND FAX</td>\n",
              "      <td>21188</td>\n",
              "      <td>REGULAR AIR</td>\n",
              "      <td>23-09-2011</td>\n",
              "      <td>21-09-2011</td>\n",
              "      <td>CRITICAL</td>\n",
              "    </tr>\n",
              "    <tr>\n",
              "      <th>8393</th>\n",
              "      <td>Ord_997</td>\n",
              "      <td>Prod_14</td>\n",
              "      <td>SHP_1379</td>\n",
              "      <td>Cust_365</td>\n",
              "      <td>28761.52</td>\n",
              "      <td>0.04</td>\n",
              "      <td>8</td>\n",
              "      <td>285.11</td>\n",
              "      <td>24.49</td>\n",
              "      <td>0.37</td>\n",
              "      <td>PARHENA NORRIS</td>\n",
              "      <td>MANITOBA</td>\n",
              "      <td>PRARIE</td>\n",
              "      <td>HOME OFFICE</td>\n",
              "      <td>TECHNOLOGY</td>\n",
              "      <td>COPIERS AND FAX</td>\n",
              "      <td>48800</td>\n",
              "      <td>REGULAR AIR</td>\n",
              "      <td>23-10-2010</td>\n",
              "      <td>22-10-2010</td>\n",
              "      <td>NOT SPECIFIED</td>\n",
              "    </tr>\n",
              "    <tr>\n",
              "      <th>8394</th>\n",
              "      <td>Ord_5018</td>\n",
              "      <td>Prod_14</td>\n",
              "      <td>SHP_7001</td>\n",
              "      <td>Cust_1696</td>\n",
              "      <td>7325.63</td>\n",
              "      <td>0.04</td>\n",
              "      <td>38</td>\n",
              "      <td>1899.23</td>\n",
              "      <td>24.49</td>\n",
              "      <td>0.46</td>\n",
              "      <td>RESI POLKING</td>\n",
              "      <td>ALBERTA</td>\n",
              "      <td>WEST</td>\n",
              "      <td>SMALL BUSINESS</td>\n",
              "      <td>TECHNOLOGY</td>\n",
              "      <td>COPIERS AND FAX</td>\n",
              "      <td>54214</td>\n",
              "      <td>EXPRESS AIR</td>\n",
              "      <td>05-01-2012</td>\n",
              "      <td>02-01-2012</td>\n",
              "      <td>MEDIUM</td>\n",
              "    </tr>\n",
              "  </tbody>\n",
              "</table>\n",
              "<p>4135 rows × 21 columns</p>\n",
              "</div>"
            ],
            "text/plain": [
              "        Ord_id  Prod_id   Ship_id  ...   Ship_Date  Order_Date  Order_Priority\n",
              "1     Ord_5446   Prod_4  SHP_7610  ...  27-07-2010  27-07-2010   NOT SPECIFIED\n",
              "3     Ord_2978  Prod_16  SHP_4112  ...  26-02-2011  24-02-2011            HIGH\n",
              "5     Ord_3730  Prod_16  SHP_5175  ...  09-12-2009  07-12-2009          MEDIUM\n",
              "7     Ord_4143   Prod_6  SHP_5770  ...  11-10-2009  09-10-2009        CRITICAL\n",
              "10    Ord_4796  Prod_13  SHP_6687  ...  19-11-2009  16-11-2009        CRITICAL\n",
              "...        ...      ...       ...  ...         ...         ...             ...\n",
              "8389   Ord_757  Prod_14  SHP_1034  ...  16-01-2010  14-01-2010   NOT SPECIFIED\n",
              "8390  Ord_1096  Prod_14  SHP_1512  ...  21-06-2011  14-06-2011             LOW\n",
              "8391  Ord_5097  Prod_14  SHP_7119  ...  23-09-2011  21-09-2011        CRITICAL\n",
              "8393   Ord_997  Prod_14  SHP_1379  ...  23-10-2010  22-10-2010   NOT SPECIFIED\n",
              "8394  Ord_5018  Prod_14  SHP_7001  ...  05-01-2012  02-01-2012          MEDIUM\n",
              "\n",
              "[4135 rows x 21 columns]"
            ]
          },
          "metadata": {
            "tags": []
          },
          "execution_count": 121
        }
      ]
    },
    {
      "cell_type": "code",
      "metadata": {
        "id": "3wjk4X_GJspj",
        "colab_type": "code",
        "colab": {
          "base_uri": "https://localhost:8080/",
          "height": 225
        },
        "outputId": "722500a6-fff6-47c0-8c8f-6dc425d0bc37"
      },
      "source": [
        "#master_df['isProfitable'] = master_df[master_df.Profit>0]\n",
        "# Create a new column is_profitable\n",
        "# The value in the coulmn is_profitable is True when the profit >0  else False\n",
        "# Do the work using apply\n",
        "master_df['isProfitable'] = master_df['Profit']\n",
        "\n",
        "master_df['isProfitable'].apply(lambda x:x>0)"
      ],
      "execution_count": 122,
      "outputs": [
        {
          "output_type": "execute_result",
          "data": {
            "text/plain": [
              "0       False\n",
              "1        True\n",
              "2       False\n",
              "3        True\n",
              "4       False\n",
              "        ...  \n",
              "8394     True\n",
              "8395    False\n",
              "8396    False\n",
              "8397    False\n",
              "8398    False\n",
              "Name: isProfitable, Length: 8399, dtype: bool"
            ]
          },
          "metadata": {
            "tags": []
          },
          "execution_count": 122
        }
      ]
    },
    {
      "cell_type": "code",
      "metadata": {
        "id": "82Ez3g1UJzwG",
        "colab_type": "code",
        "colab": {
          "base_uri": "https://localhost:8080/",
          "height": 609
        },
        "outputId": "0db95e62-56d3-44d4-c647-429bffaddcc8"
      },
      "source": [
        "master_df['isProfitable'] = master_df['isProfitable'].apply(lambda x:x>0)\n",
        "master_df[master_df['isProfitable']==True]"
      ],
      "execution_count": 123,
      "outputs": [
        {
          "output_type": "execute_result",
          "data": {
            "text/html": [
              "<div>\n",
              "<style scoped>\n",
              "    .dataframe tbody tr th:only-of-type {\n",
              "        vertical-align: middle;\n",
              "    }\n",
              "\n",
              "    .dataframe tbody tr th {\n",
              "        vertical-align: top;\n",
              "    }\n",
              "\n",
              "    .dataframe thead th {\n",
              "        text-align: right;\n",
              "    }\n",
              "</style>\n",
              "<table border=\"1\" class=\"dataframe\">\n",
              "  <thead>\n",
              "    <tr style=\"text-align: right;\">\n",
              "      <th></th>\n",
              "      <th>Ord_id</th>\n",
              "      <th>Prod_id</th>\n",
              "      <th>Ship_id</th>\n",
              "      <th>Cust_id</th>\n",
              "      <th>Sales</th>\n",
              "      <th>Discount</th>\n",
              "      <th>Order_Quantity</th>\n",
              "      <th>Profit</th>\n",
              "      <th>Shipping_Cost</th>\n",
              "      <th>Product_Base_Margin</th>\n",
              "      <th>Customer_Name</th>\n",
              "      <th>Province</th>\n",
              "      <th>Region</th>\n",
              "      <th>Customer_Segment</th>\n",
              "      <th>Product_Category</th>\n",
              "      <th>Product_Sub_Category</th>\n",
              "      <th>Order_ID</th>\n",
              "      <th>Ship_Mode</th>\n",
              "      <th>Ship_Date</th>\n",
              "      <th>Order_Date</th>\n",
              "      <th>Order_Priority</th>\n",
              "      <th>isProfitable</th>\n",
              "    </tr>\n",
              "  </thead>\n",
              "  <tbody>\n",
              "    <tr>\n",
              "      <th>1</th>\n",
              "      <td>Ord_5446</td>\n",
              "      <td>Prod_4</td>\n",
              "      <td>SHP_7610</td>\n",
              "      <td>Cust_1818</td>\n",
              "      <td>4701.69</td>\n",
              "      <td>0.00</td>\n",
              "      <td>26</td>\n",
              "      <td>1148.90</td>\n",
              "      <td>2.50</td>\n",
              "      <td>0.59</td>\n",
              "      <td>AARON BERGMAN</td>\n",
              "      <td>ALBERTA</td>\n",
              "      <td>WEST</td>\n",
              "      <td>CORPORATE</td>\n",
              "      <td>TECHNOLOGY</td>\n",
              "      <td>TELEPHONES AND COMMUNICATION</td>\n",
              "      <td>36262</td>\n",
              "      <td>EXPRESS AIR</td>\n",
              "      <td>27-07-2010</td>\n",
              "      <td>27-07-2010</td>\n",
              "      <td>NOT SPECIFIED</td>\n",
              "      <td>True</td>\n",
              "    </tr>\n",
              "    <tr>\n",
              "      <th>3</th>\n",
              "      <td>Ord_2978</td>\n",
              "      <td>Prod_16</td>\n",
              "      <td>SHP_4112</td>\n",
              "      <td>Cust_1088</td>\n",
              "      <td>305.05</td>\n",
              "      <td>0.04</td>\n",
              "      <td>27</td>\n",
              "      <td>23.12</td>\n",
              "      <td>3.37</td>\n",
              "      <td>0.57</td>\n",
              "      <td>AARON HAWKINS</td>\n",
              "      <td>ONTARIO</td>\n",
              "      <td>ONTARIO</td>\n",
              "      <td>HOME OFFICE</td>\n",
              "      <td>OFFICE SUPPLIES</td>\n",
              "      <td>SCISSORS, RULERS AND TRIMMERS</td>\n",
              "      <td>37863</td>\n",
              "      <td>REGULAR AIR</td>\n",
              "      <td>26-02-2011</td>\n",
              "      <td>24-02-2011</td>\n",
              "      <td>HIGH</td>\n",
              "      <td>True</td>\n",
              "    </tr>\n",
              "    <tr>\n",
              "      <th>5</th>\n",
              "      <td>Ord_3730</td>\n",
              "      <td>Prod_16</td>\n",
              "      <td>SHP_5175</td>\n",
              "      <td>Cust_1314</td>\n",
              "      <td>459.08</td>\n",
              "      <td>0.04</td>\n",
              "      <td>34</td>\n",
              "      <td>61.57</td>\n",
              "      <td>3.14</td>\n",
              "      <td>0.60</td>\n",
              "      <td>ALEKSANDRA GANNAWAY</td>\n",
              "      <td>SASKACHEWAN</td>\n",
              "      <td>PRARIE</td>\n",
              "      <td>CORPORATE</td>\n",
              "      <td>OFFICE SUPPLIES</td>\n",
              "      <td>SCISSORS, RULERS AND TRIMMERS</td>\n",
              "      <td>36992</td>\n",
              "      <td>EXPRESS AIR</td>\n",
              "      <td>09-12-2009</td>\n",
              "      <td>07-12-2009</td>\n",
              "      <td>MEDIUM</td>\n",
              "      <td>True</td>\n",
              "    </tr>\n",
              "    <tr>\n",
              "      <th>7</th>\n",
              "      <td>Ord_4143</td>\n",
              "      <td>Prod_6</td>\n",
              "      <td>SHP_5770</td>\n",
              "      <td>Cust_1417</td>\n",
              "      <td>901.32</td>\n",
              "      <td>0.10</td>\n",
              "      <td>25</td>\n",
              "      <td>338.01</td>\n",
              "      <td>5.08</td>\n",
              "      <td>0.38</td>\n",
              "      <td>ALLEN ARMOLD</td>\n",
              "      <td>NEW BRUNSWICK</td>\n",
              "      <td>ATLANTIC</td>\n",
              "      <td>HOME OFFICE</td>\n",
              "      <td>OFFICE SUPPLIES</td>\n",
              "      <td>PAPER</td>\n",
              "      <td>13920</td>\n",
              "      <td>EXPRESS AIR</td>\n",
              "      <td>11-10-2009</td>\n",
              "      <td>09-10-2009</td>\n",
              "      <td>CRITICAL</td>\n",
              "      <td>True</td>\n",
              "    </tr>\n",
              "    <tr>\n",
              "      <th>10</th>\n",
              "      <td>Ord_4796</td>\n",
              "      <td>Prod_13</td>\n",
              "      <td>SHP_6687</td>\n",
              "      <td>Cust_1659</td>\n",
              "      <td>150.06</td>\n",
              "      <td>0.02</td>\n",
              "      <td>49</td>\n",
              "      <td>30.97</td>\n",
              "      <td>0.70</td>\n",
              "      <td>0.56</td>\n",
              "      <td>ALYSSA TATE</td>\n",
              "      <td>BRITISH COLUMBIA</td>\n",
              "      <td>WEST</td>\n",
              "      <td>SMALL BUSINESS</td>\n",
              "      <td>OFFICE SUPPLIES</td>\n",
              "      <td>PENS &amp; ART SUPPLIES</td>\n",
              "      <td>55554</td>\n",
              "      <td>REGULAR AIR</td>\n",
              "      <td>19-11-2009</td>\n",
              "      <td>16-11-2009</td>\n",
              "      <td>CRITICAL</td>\n",
              "      <td>True</td>\n",
              "    </tr>\n",
              "    <tr>\n",
              "      <th>...</th>\n",
              "      <td>...</td>\n",
              "      <td>...</td>\n",
              "      <td>...</td>\n",
              "      <td>...</td>\n",
              "      <td>...</td>\n",
              "      <td>...</td>\n",
              "      <td>...</td>\n",
              "      <td>...</td>\n",
              "      <td>...</td>\n",
              "      <td>...</td>\n",
              "      <td>...</td>\n",
              "      <td>...</td>\n",
              "      <td>...</td>\n",
              "      <td>...</td>\n",
              "      <td>...</td>\n",
              "      <td>...</td>\n",
              "      <td>...</td>\n",
              "      <td>...</td>\n",
              "      <td>...</td>\n",
              "      <td>...</td>\n",
              "      <td>...</td>\n",
              "      <td>...</td>\n",
              "    </tr>\n",
              "    <tr>\n",
              "      <th>8389</th>\n",
              "      <td>Ord_757</td>\n",
              "      <td>Prod_14</td>\n",
              "      <td>SHP_1034</td>\n",
              "      <td>Cust_231</td>\n",
              "      <td>6607.92</td>\n",
              "      <td>0.06</td>\n",
              "      <td>34</td>\n",
              "      <td>1462.72</td>\n",
              "      <td>24.49</td>\n",
              "      <td>0.46</td>\n",
              "      <td>LELA DONOVAN</td>\n",
              "      <td>BRITISH COLUMBIA</td>\n",
              "      <td>WEST</td>\n",
              "      <td>CORPORATE</td>\n",
              "      <td>TECHNOLOGY</td>\n",
              "      <td>COPIERS AND FAX</td>\n",
              "      <td>20961</td>\n",
              "      <td>REGULAR AIR</td>\n",
              "      <td>16-01-2010</td>\n",
              "      <td>14-01-2010</td>\n",
              "      <td>NOT SPECIFIED</td>\n",
              "      <td>True</td>\n",
              "    </tr>\n",
              "    <tr>\n",
              "      <th>8390</th>\n",
              "      <td>Ord_1096</td>\n",
              "      <td>Prod_14</td>\n",
              "      <td>SHP_1512</td>\n",
              "      <td>Cust_423</td>\n",
              "      <td>2222.61</td>\n",
              "      <td>0.02</td>\n",
              "      <td>3</td>\n",
              "      <td>196.08</td>\n",
              "      <td>24.49</td>\n",
              "      <td>0.41</td>\n",
              "      <td>LYCORIS SAUNDERS</td>\n",
              "      <td>ONTARIO</td>\n",
              "      <td>ONTARIO</td>\n",
              "      <td>HOME OFFICE</td>\n",
              "      <td>TECHNOLOGY</td>\n",
              "      <td>COPIERS AND FAX</td>\n",
              "      <td>38693</td>\n",
              "      <td>REGULAR AIR</td>\n",
              "      <td>21-06-2011</td>\n",
              "      <td>14-06-2011</td>\n",
              "      <td>LOW</td>\n",
              "      <td>True</td>\n",
              "    </tr>\n",
              "    <tr>\n",
              "      <th>8391</th>\n",
              "      <td>Ord_5097</td>\n",
              "      <td>Prod_14</td>\n",
              "      <td>SHP_7119</td>\n",
              "      <td>Cust_1731</td>\n",
              "      <td>21046.74</td>\n",
              "      <td>0.04</td>\n",
              "      <td>29</td>\n",
              "      <td>5217.27</td>\n",
              "      <td>24.49</td>\n",
              "      <td>0.54</td>\n",
              "      <td>MATTHEW GRINSTEIN</td>\n",
              "      <td>ALBERTA</td>\n",
              "      <td>WEST</td>\n",
              "      <td>SMALL BUSINESS</td>\n",
              "      <td>TECHNOLOGY</td>\n",
              "      <td>COPIERS AND FAX</td>\n",
              "      <td>21188</td>\n",
              "      <td>REGULAR AIR</td>\n",
              "      <td>23-09-2011</td>\n",
              "      <td>21-09-2011</td>\n",
              "      <td>CRITICAL</td>\n",
              "      <td>True</td>\n",
              "    </tr>\n",
              "    <tr>\n",
              "      <th>8393</th>\n",
              "      <td>Ord_997</td>\n",
              "      <td>Prod_14</td>\n",
              "      <td>SHP_1379</td>\n",
              "      <td>Cust_365</td>\n",
              "      <td>28761.52</td>\n",
              "      <td>0.04</td>\n",
              "      <td>8</td>\n",
              "      <td>285.11</td>\n",
              "      <td>24.49</td>\n",
              "      <td>0.37</td>\n",
              "      <td>PARHENA NORRIS</td>\n",
              "      <td>MANITOBA</td>\n",
              "      <td>PRARIE</td>\n",
              "      <td>HOME OFFICE</td>\n",
              "      <td>TECHNOLOGY</td>\n",
              "      <td>COPIERS AND FAX</td>\n",
              "      <td>48800</td>\n",
              "      <td>REGULAR AIR</td>\n",
              "      <td>23-10-2010</td>\n",
              "      <td>22-10-2010</td>\n",
              "      <td>NOT SPECIFIED</td>\n",
              "      <td>True</td>\n",
              "    </tr>\n",
              "    <tr>\n",
              "      <th>8394</th>\n",
              "      <td>Ord_5018</td>\n",
              "      <td>Prod_14</td>\n",
              "      <td>SHP_7001</td>\n",
              "      <td>Cust_1696</td>\n",
              "      <td>7325.63</td>\n",
              "      <td>0.04</td>\n",
              "      <td>38</td>\n",
              "      <td>1899.23</td>\n",
              "      <td>24.49</td>\n",
              "      <td>0.46</td>\n",
              "      <td>RESI POLKING</td>\n",
              "      <td>ALBERTA</td>\n",
              "      <td>WEST</td>\n",
              "      <td>SMALL BUSINESS</td>\n",
              "      <td>TECHNOLOGY</td>\n",
              "      <td>COPIERS AND FAX</td>\n",
              "      <td>54214</td>\n",
              "      <td>EXPRESS AIR</td>\n",
              "      <td>05-01-2012</td>\n",
              "      <td>02-01-2012</td>\n",
              "      <td>MEDIUM</td>\n",
              "      <td>True</td>\n",
              "    </tr>\n",
              "  </tbody>\n",
              "</table>\n",
              "<p>4135 rows × 22 columns</p>\n",
              "</div>"
            ],
            "text/plain": [
              "        Ord_id  Prod_id   Ship_id  ...  Order_Date  Order_Priority  isProfitable\n",
              "1     Ord_5446   Prod_4  SHP_7610  ...  27-07-2010   NOT SPECIFIED          True\n",
              "3     Ord_2978  Prod_16  SHP_4112  ...  24-02-2011            HIGH          True\n",
              "5     Ord_3730  Prod_16  SHP_5175  ...  07-12-2009          MEDIUM          True\n",
              "7     Ord_4143   Prod_6  SHP_5770  ...  09-10-2009        CRITICAL          True\n",
              "10    Ord_4796  Prod_13  SHP_6687  ...  16-11-2009        CRITICAL          True\n",
              "...        ...      ...       ...  ...         ...             ...           ...\n",
              "8389   Ord_757  Prod_14  SHP_1034  ...  14-01-2010   NOT SPECIFIED          True\n",
              "8390  Ord_1096  Prod_14  SHP_1512  ...  14-06-2011             LOW          True\n",
              "8391  Ord_5097  Prod_14  SHP_7119  ...  21-09-2011        CRITICAL          True\n",
              "8393   Ord_997  Prod_14  SHP_1379  ...  22-10-2010   NOT SPECIFIED          True\n",
              "8394  Ord_5018  Prod_14  SHP_7001  ...  02-01-2012          MEDIUM          True\n",
              "\n",
              "[4135 rows x 22 columns]"
            ]
          },
          "metadata": {
            "tags": []
          },
          "execution_count": 123
        }
      ]
    },
    {
      "cell_type": "code",
      "metadata": {
        "id": "UdNbYH6SJ9qF",
        "colab_type": "code",
        "colab": {
          "base_uri": "https://localhost:8080/",
          "height": 121
        },
        "outputId": "7b1148e3-8bf3-4a91-9a32-d714855f84a8"
      },
      "source": [
        "# you want to see Profit as one decimal place\n",
        "# apply the round() function \n",
        "# the first value is -30.5\n",
        "# the first value before is -30.51\n",
        "# Modify the profit column itself\n",
        "def number(x):\n",
        "    return round(x,1)\n",
        "number(54.221)\n",
        "master_df['Profit'] = master_df['Profit'].apply(number)\n",
        "master_df['Profit'].head()"
      ],
      "execution_count": 124,
      "outputs": [
        {
          "output_type": "execute_result",
          "data": {
            "text/plain": [
              "0     -30.5\n",
              "1    1148.9\n",
              "2     -47.6\n",
              "3      23.1\n",
              "4     -17.6\n",
              "Name: Profit, dtype: float64"
            ]
          },
          "metadata": {
            "tags": []
          },
          "execution_count": 124
        }
      ]
    },
    {
      "cell_type": "code",
      "metadata": {
        "id": "RQUQgNjNKC0G",
        "colab_type": "code",
        "colab": {
          "base_uri": "https://localhost:8080/",
          "height": 225
        },
        "outputId": "97917c75-e575-4621-8efc-c1c7eb7aeaf1"
      },
      "source": [
        "# Creating a column Profit / Order_Quantity\n",
        "# The new columnname is 'profit_per_qty'\n",
        "master_df['profit_per_qty'] = master_df['Profit']/master_df['Order_Quantity']\n",
        "master_df['profit_per_qty']"
      ],
      "execution_count": 125,
      "outputs": [
        {
          "output_type": "execute_result",
          "data": {
            "text/plain": [
              "0        -1.326087\n",
              "1        44.188462\n",
              "2        -2.069565\n",
              "3         0.855556\n",
              "4        -0.502857\n",
              "           ...    \n",
              "8394     49.978947\n",
              "8395   -153.031034\n",
              "8396     -9.482500\n",
              "8397   -245.100000\n",
              "8398    -48.987500\n",
              "Name: profit_per_qty, Length: 8399, dtype: float64"
            ]
          },
          "metadata": {
            "tags": []
          },
          "execution_count": 125
        }
      ]
    },
    {
      "cell_type": "code",
      "metadata": {
        "id": "GSHyDf9YKM3Y",
        "colab_type": "code",
        "colab": {
          "base_uri": "https://localhost:8080/",
          "height": 202
        },
        "outputId": "2df32d8e-068b-4d98-ea35-ad0aeaa14e82"
      },
      "source": [
        "# Compare average Sales across customer segments using pivot table\n",
        "pd.pivot_table(master_df, values = 'Sales', index = 'Customer_Segment')"
      ],
      "execution_count": 126,
      "outputs": [
        {
          "output_type": "execute_result",
          "data": {
            "text/html": [
              "<div>\n",
              "<style scoped>\n",
              "    .dataframe tbody tr th:only-of-type {\n",
              "        vertical-align: middle;\n",
              "    }\n",
              "\n",
              "    .dataframe tbody tr th {\n",
              "        vertical-align: top;\n",
              "    }\n",
              "\n",
              "    .dataframe thead th {\n",
              "        text-align: right;\n",
              "    }\n",
              "</style>\n",
              "<table border=\"1\" class=\"dataframe\">\n",
              "  <thead>\n",
              "    <tr style=\"text-align: right;\">\n",
              "      <th></th>\n",
              "      <th>Sales</th>\n",
              "    </tr>\n",
              "    <tr>\n",
              "      <th>Customer_Segment</th>\n",
              "      <th></th>\n",
              "    </tr>\n",
              "  </thead>\n",
              "  <tbody>\n",
              "    <tr>\n",
              "      <th>CONSUMER</th>\n",
              "      <td>1857.859965</td>\n",
              "    </tr>\n",
              "    <tr>\n",
              "      <th>CORPORATE</th>\n",
              "      <td>1787.680389</td>\n",
              "    </tr>\n",
              "    <tr>\n",
              "      <th>HOME OFFICE</th>\n",
              "      <td>1754.312931</td>\n",
              "    </tr>\n",
              "    <tr>\n",
              "      <th>SMALL BUSINESS</th>\n",
              "      <td>1698.124841</td>\n",
              "    </tr>\n",
              "  </tbody>\n",
              "</table>\n",
              "</div>"
            ],
            "text/plain": [
              "                        Sales\n",
              "Customer_Segment             \n",
              "CONSUMER          1857.859965\n",
              "CORPORATE         1787.680389\n",
              "HOME OFFICE       1754.312931\n",
              "SMALL BUSINESS    1698.124841"
            ]
          },
          "metadata": {
            "tags": []
          },
          "execution_count": 126
        }
      ]
    },
    {
      "cell_type": "code",
      "metadata": {
        "id": "1ZKKhFaLKXCI",
        "colab_type": "code",
        "colab": {
          "base_uri": "https://localhost:8080/",
          "height": 355
        },
        "outputId": "43607632-d58b-4a30-86b6-019af8bb57bb"
      },
      "source": [
        "# compare total number of profitable orders across regions using pivot_table\n",
        "# Note that since is_profitable is 1/0, we can directly compute the sum\n",
        "master_df.pivot_table(values = 'Profit', index = 'Region', aggfunc=['count', 'mean'])"
      ],
      "execution_count": 127,
      "outputs": [
        {
          "output_type": "execute_result",
          "data": {
            "text/html": [
              "<div>\n",
              "<style scoped>\n",
              "    .dataframe tbody tr th:only-of-type {\n",
              "        vertical-align: middle;\n",
              "    }\n",
              "\n",
              "    .dataframe tbody tr th {\n",
              "        vertical-align: top;\n",
              "    }\n",
              "\n",
              "    .dataframe thead tr th {\n",
              "        text-align: left;\n",
              "    }\n",
              "\n",
              "    .dataframe thead tr:last-of-type th {\n",
              "        text-align: right;\n",
              "    }\n",
              "</style>\n",
              "<table border=\"1\" class=\"dataframe\">\n",
              "  <thead>\n",
              "    <tr>\n",
              "      <th></th>\n",
              "      <th>count</th>\n",
              "      <th>mean</th>\n",
              "    </tr>\n",
              "    <tr>\n",
              "      <th></th>\n",
              "      <th>Profit</th>\n",
              "      <th>Profit</th>\n",
              "    </tr>\n",
              "    <tr>\n",
              "      <th>Region</th>\n",
              "      <th></th>\n",
              "      <th></th>\n",
              "    </tr>\n",
              "  </thead>\n",
              "  <tbody>\n",
              "    <tr>\n",
              "      <th>ATLANTIC</th>\n",
              "      <td>1080</td>\n",
              "      <td>221.261111</td>\n",
              "    </tr>\n",
              "    <tr>\n",
              "      <th>NORTHWEST TERRITORIES</th>\n",
              "      <td>394</td>\n",
              "      <td>255.464467</td>\n",
              "    </tr>\n",
              "    <tr>\n",
              "      <th>NUNAVUT</th>\n",
              "      <td>79</td>\n",
              "      <td>35.965823</td>\n",
              "    </tr>\n",
              "    <tr>\n",
              "      <th>ONTARIO</th>\n",
              "      <td>1826</td>\n",
              "      <td>189.960953</td>\n",
              "    </tr>\n",
              "    <tr>\n",
              "      <th>PRARIE</th>\n",
              "      <td>1706</td>\n",
              "      <td>188.254513</td>\n",
              "    </tr>\n",
              "    <tr>\n",
              "      <th>QUEBEC</th>\n",
              "      <td>781</td>\n",
              "      <td>179.803073</td>\n",
              "    </tr>\n",
              "    <tr>\n",
              "      <th>WEST</th>\n",
              "      <td>1991</td>\n",
              "      <td>149.175892</td>\n",
              "    </tr>\n",
              "    <tr>\n",
              "      <th>YUKON</th>\n",
              "      <td>542</td>\n",
              "      <td>136.254244</td>\n",
              "    </tr>\n",
              "  </tbody>\n",
              "</table>\n",
              "</div>"
            ],
            "text/plain": [
              "                       count        mean\n",
              "                      Profit      Profit\n",
              "Region                                  \n",
              "ATLANTIC                1080  221.261111\n",
              "NORTHWEST TERRITORIES    394  255.464467\n",
              "NUNAVUT                   79   35.965823\n",
              "ONTARIO                 1826  189.960953\n",
              "PRARIE                  1706  188.254513\n",
              "QUEBEC                   781  179.803073\n",
              "WEST                    1991  149.175892\n",
              "YUKON                    542  136.254244"
            ]
          },
          "metadata": {
            "tags": []
          },
          "execution_count": 127
        }
      ]
    },
    {
      "cell_type": "code",
      "metadata": {
        "id": "4wOKaLgYKYPw",
        "colab_type": "code",
        "colab": {}
      },
      "source": [
        ""
      ],
      "execution_count": 0,
      "outputs": []
    },
    {
      "cell_type": "code",
      "metadata": {
        "id": "tQHc5-fSKYKj",
        "colab_type": "code",
        "colab": {}
      },
      "source": [
        ""
      ],
      "execution_count": 0,
      "outputs": []
    },
    {
      "cell_type": "code",
      "metadata": {
        "id": "zlZKXZB-KYFf",
        "colab_type": "code",
        "colab": {}
      },
      "source": [
        ""
      ],
      "execution_count": 0,
      "outputs": []
    },
    {
      "cell_type": "code",
      "metadata": {
        "id": "A9tRcqDUKW91",
        "colab_type": "code",
        "colab": {}
      },
      "source": [
        ""
      ],
      "execution_count": 0,
      "outputs": []
    },
    {
      "cell_type": "code",
      "metadata": {
        "id": "UmIv7ycyKW5Q",
        "colab_type": "code",
        "colab": {}
      },
      "source": [
        ""
      ],
      "execution_count": 0,
      "outputs": []
    },
    {
      "cell_type": "code",
      "metadata": {
        "id": "xCckPFrkKW0r",
        "colab_type": "code",
        "colab": {}
      },
      "source": [
        ""
      ],
      "execution_count": 0,
      "outputs": []
    },
    {
      "cell_type": "code",
      "metadata": {
        "id": "4pOOVeeDKWwW",
        "colab_type": "code",
        "colab": {}
      },
      "source": [
        ""
      ],
      "execution_count": 0,
      "outputs": []
    },
    {
      "cell_type": "code",
      "metadata": {
        "id": "RT7oROZwKWsH",
        "colab_type": "code",
        "colab": {}
      },
      "source": [
        ""
      ],
      "execution_count": 0,
      "outputs": []
    },
    {
      "cell_type": "code",
      "metadata": {
        "id": "EaYd23K0KWjt",
        "colab_type": "code",
        "colab": {}
      },
      "source": [
        ""
      ],
      "execution_count": 0,
      "outputs": []
    },
    {
      "cell_type": "code",
      "metadata": {
        "id": "T80rUsnXKWZe",
        "colab_type": "code",
        "colab": {}
      },
      "source": [
        ""
      ],
      "execution_count": 0,
      "outputs": []
    },
    {
      "cell_type": "code",
      "metadata": {
        "id": "gsqD4EzgKWVS",
        "colab_type": "code",
        "colab": {}
      },
      "source": [
        ""
      ],
      "execution_count": 0,
      "outputs": []
    },
    {
      "cell_type": "code",
      "metadata": {
        "id": "ZK90H-eeKWQu",
        "colab_type": "code",
        "colab": {}
      },
      "source": [
        ""
      ],
      "execution_count": 0,
      "outputs": []
    },
    {
      "cell_type": "code",
      "metadata": {
        "id": "2_oqdaWuKWLT",
        "colab_type": "code",
        "colab": {}
      },
      "source": [
        ""
      ],
      "execution_count": 0,
      "outputs": []
    },
    {
      "cell_type": "code",
      "metadata": {
        "id": "yCtt_XniKWHU",
        "colab_type": "code",
        "colab": {}
      },
      "source": [
        ""
      ],
      "execution_count": 0,
      "outputs": []
    },
    {
      "cell_type": "code",
      "metadata": {
        "id": "MvB3VzA_KWCW",
        "colab_type": "code",
        "colab": {}
      },
      "source": [
        ""
      ],
      "execution_count": 0,
      "outputs": []
    },
    {
      "cell_type": "code",
      "metadata": {
        "id": "ttJv8z6oKV9N",
        "colab_type": "code",
        "colab": {}
      },
      "source": [
        ""
      ],
      "execution_count": 0,
      "outputs": []
    },
    {
      "cell_type": "code",
      "metadata": {
        "id": "Vb2qYvPiKPdY",
        "colab_type": "code",
        "colab": {}
      },
      "source": [
        ""
      ],
      "execution_count": 0,
      "outputs": []
    },
    {
      "cell_type": "code",
      "metadata": {
        "id": "Hq2MPWAoKPZP",
        "colab_type": "code",
        "colab": {}
      },
      "source": [
        ""
      ],
      "execution_count": 0,
      "outputs": []
    },
    {
      "cell_type": "code",
      "metadata": {
        "id": "ThTBO9ppKPVB",
        "colab_type": "code",
        "colab": {}
      },
      "source": [
        ""
      ],
      "execution_count": 0,
      "outputs": []
    },
    {
      "cell_type": "code",
      "metadata": {
        "id": "3e-6IQpGKPQ7",
        "colab_type": "code",
        "colab": {}
      },
      "source": [
        ""
      ],
      "execution_count": 0,
      "outputs": []
    },
    {
      "cell_type": "code",
      "metadata": {
        "id": "n_PP_OiTKPGs",
        "colab_type": "code",
        "colab": {}
      },
      "source": [
        ""
      ],
      "execution_count": 0,
      "outputs": []
    },
    {
      "cell_type": "code",
      "metadata": {
        "id": "qehqhXaEKMyp",
        "colab_type": "code",
        "colab": {}
      },
      "source": [
        ""
      ],
      "execution_count": 0,
      "outputs": []
    },
    {
      "cell_type": "code",
      "metadata": {
        "id": "QJdZkuCLKMuj",
        "colab_type": "code",
        "colab": {}
      },
      "source": [
        ""
      ],
      "execution_count": 0,
      "outputs": []
    },
    {
      "cell_type": "code",
      "metadata": {
        "id": "iaiqlJYmKMpc",
        "colab_type": "code",
        "colab": {}
      },
      "source": [
        ""
      ],
      "execution_count": 0,
      "outputs": []
    },
    {
      "cell_type": "code",
      "metadata": {
        "id": "_z7UpgBcKMkQ",
        "colab_type": "code",
        "colab": {}
      },
      "source": [
        ""
      ],
      "execution_count": 0,
      "outputs": []
    },
    {
      "cell_type": "code",
      "metadata": {
        "id": "XyGVF3vfKCv2",
        "colab_type": "code",
        "colab": {}
      },
      "source": [
        ""
      ],
      "execution_count": 0,
      "outputs": []
    },
    {
      "cell_type": "code",
      "metadata": {
        "id": "D-0A5GXxKCr-",
        "colab_type": "code",
        "colab": {}
      },
      "source": [
        ""
      ],
      "execution_count": 0,
      "outputs": []
    },
    {
      "cell_type": "code",
      "metadata": {
        "id": "VOjqrVBgKCnv",
        "colab_type": "code",
        "colab": {}
      },
      "source": [
        ""
      ],
      "execution_count": 0,
      "outputs": []
    },
    {
      "cell_type": "code",
      "metadata": {
        "id": "bw2Tr3WnKCjt",
        "colab_type": "code",
        "colab": {}
      },
      "source": [
        ""
      ],
      "execution_count": 0,
      "outputs": []
    },
    {
      "cell_type": "code",
      "metadata": {
        "id": "EwPZwtUuJ9l-",
        "colab_type": "code",
        "colab": {}
      },
      "source": [
        ""
      ],
      "execution_count": 0,
      "outputs": []
    },
    {
      "cell_type": "code",
      "metadata": {
        "id": "ryPQoQaqJ9iS",
        "colab_type": "code",
        "colab": {}
      },
      "source": [
        ""
      ],
      "execution_count": 0,
      "outputs": []
    },
    {
      "cell_type": "code",
      "metadata": {
        "id": "jGonfrJcJ9eG",
        "colab_type": "code",
        "colab": {}
      },
      "source": [
        ""
      ],
      "execution_count": 0,
      "outputs": []
    },
    {
      "cell_type": "code",
      "metadata": {
        "id": "0UtvX7UVJ9aM",
        "colab_type": "code",
        "colab": {}
      },
      "source": [
        ""
      ],
      "execution_count": 0,
      "outputs": []
    },
    {
      "cell_type": "code",
      "metadata": {
        "id": "UqTzWOMaJ9WI",
        "colab_type": "code",
        "colab": {}
      },
      "source": [
        ""
      ],
      "execution_count": 0,
      "outputs": []
    },
    {
      "cell_type": "code",
      "metadata": {
        "id": "vaExjih0J9Sg",
        "colab_type": "code",
        "colab": {}
      },
      "source": [
        ""
      ],
      "execution_count": 0,
      "outputs": []
    },
    {
      "cell_type": "code",
      "metadata": {
        "id": "mkqoAwiAJ9Ou",
        "colab_type": "code",
        "colab": {}
      },
      "source": [
        ""
      ],
      "execution_count": 0,
      "outputs": []
    },
    {
      "cell_type": "code",
      "metadata": {
        "id": "crDRbTubJ9Ka",
        "colab_type": "code",
        "colab": {}
      },
      "source": [
        ""
      ],
      "execution_count": 0,
      "outputs": []
    },
    {
      "cell_type": "code",
      "metadata": {
        "id": "3cDFVIa8J0pA",
        "colab_type": "code",
        "colab": {}
      },
      "source": [
        ""
      ],
      "execution_count": 0,
      "outputs": []
    },
    {
      "cell_type": "code",
      "metadata": {
        "id": "q1YR8h2WJ0kJ",
        "colab_type": "code",
        "colab": {}
      },
      "source": [
        ""
      ],
      "execution_count": 0,
      "outputs": []
    },
    {
      "cell_type": "code",
      "metadata": {
        "id": "NI8e4CSJJzrr",
        "colab_type": "code",
        "colab": {}
      },
      "source": [
        ""
      ],
      "execution_count": 0,
      "outputs": []
    },
    {
      "cell_type": "code",
      "metadata": {
        "id": "yTeA6O0nJznM",
        "colab_type": "code",
        "colab": {}
      },
      "source": [
        ""
      ],
      "execution_count": 0,
      "outputs": []
    },
    {
      "cell_type": "code",
      "metadata": {
        "id": "CBvgAqkeJzgs",
        "colab_type": "code",
        "colab": {}
      },
      "source": [
        ""
      ],
      "execution_count": 0,
      "outputs": []
    },
    {
      "cell_type": "code",
      "metadata": {
        "id": "5ZPpCA6MJzb_",
        "colab_type": "code",
        "colab": {}
      },
      "source": [
        ""
      ],
      "execution_count": 0,
      "outputs": []
    },
    {
      "cell_type": "code",
      "metadata": {
        "id": "lQJkX2qOJtpF",
        "colab_type": "code",
        "colab": {}
      },
      "source": [
        ""
      ],
      "execution_count": 0,
      "outputs": []
    },
    {
      "cell_type": "code",
      "metadata": {
        "id": "It-vE80SJtlm",
        "colab_type": "code",
        "colab": {}
      },
      "source": [
        ""
      ],
      "execution_count": 0,
      "outputs": []
    },
    {
      "cell_type": "code",
      "metadata": {
        "id": "p4QkwjlpJthn",
        "colab_type": "code",
        "colab": {}
      },
      "source": [
        ""
      ],
      "execution_count": 0,
      "outputs": []
    },
    {
      "cell_type": "code",
      "metadata": {
        "id": "07m1kSU9Jtdd",
        "colab_type": "code",
        "colab": {}
      },
      "source": [
        ""
      ],
      "execution_count": 0,
      "outputs": []
    },
    {
      "cell_type": "code",
      "metadata": {
        "id": "OCfZJa5GJsmR",
        "colab_type": "code",
        "colab": {}
      },
      "source": [
        ""
      ],
      "execution_count": 0,
      "outputs": []
    },
    {
      "cell_type": "code",
      "metadata": {
        "id": "CiD8cX72JsiY",
        "colab_type": "code",
        "colab": {}
      },
      "source": [
        ""
      ],
      "execution_count": 0,
      "outputs": []
    },
    {
      "cell_type": "code",
      "metadata": {
        "id": "5yo75HWAJsej",
        "colab_type": "code",
        "colab": {}
      },
      "source": [
        ""
      ],
      "execution_count": 0,
      "outputs": []
    },
    {
      "cell_type": "code",
      "metadata": {
        "id": "ycJOo4yXJsan",
        "colab_type": "code",
        "colab": {}
      },
      "source": [
        ""
      ],
      "execution_count": 0,
      "outputs": []
    },
    {
      "cell_type": "code",
      "metadata": {
        "id": "n4jG-EvDJhPZ",
        "colab_type": "code",
        "colab": {}
      },
      "source": [
        ""
      ],
      "execution_count": 0,
      "outputs": []
    },
    {
      "cell_type": "code",
      "metadata": {
        "id": "nhf7AbMwJhMD",
        "colab_type": "code",
        "colab": {}
      },
      "source": [
        ""
      ],
      "execution_count": 0,
      "outputs": []
    },
    {
      "cell_type": "code",
      "metadata": {
        "id": "IazXqSomJhGm",
        "colab_type": "code",
        "colab": {}
      },
      "source": [
        ""
      ],
      "execution_count": 0,
      "outputs": []
    },
    {
      "cell_type": "code",
      "metadata": {
        "id": "yh1UtZbLJYgU",
        "colab_type": "code",
        "colab": {
          "base_uri": "https://localhost:8080/",
          "height": 325
        },
        "outputId": "8508352e-102c-49ed-d9db-814877ae254b"
      },
      "source": [
        "# Calculate the Sales across each region as a percentage of total Sales\n",
        "grp_sales = master_df.groupby('Region').agg({'Sales':'sum'})\n",
        "(grp_sales/total_sales)*100"
      ],
      "execution_count": 118,
      "outputs": [
        {
          "output_type": "execute_result",
          "data": {
            "text/html": [
              "<div>\n",
              "<style scoped>\n",
              "    .dataframe tbody tr th:only-of-type {\n",
              "        vertical-align: middle;\n",
              "    }\n",
              "\n",
              "    .dataframe tbody tr th {\n",
              "        vertical-align: top;\n",
              "    }\n",
              "\n",
              "    .dataframe thead th {\n",
              "        text-align: right;\n",
              "    }\n",
              "</style>\n",
              "<table border=\"1\" class=\"dataframe\">\n",
              "  <thead>\n",
              "    <tr style=\"text-align: right;\">\n",
              "      <th></th>\n",
              "      <th>Sales</th>\n",
              "    </tr>\n",
              "    <tr>\n",
              "      <th>Region</th>\n",
              "      <th></th>\n",
              "    </tr>\n",
              "  </thead>\n",
              "  <tbody>\n",
              "    <tr>\n",
              "      <th>ATLANTIC</th>\n",
              "      <td>13.504305</td>\n",
              "    </tr>\n",
              "    <tr>\n",
              "      <th>NORTHWEST TERRITORIES</th>\n",
              "      <td>5.369193</td>\n",
              "    </tr>\n",
              "    <tr>\n",
              "      <th>NUNAVUT</th>\n",
              "      <td>0.780233</td>\n",
              "    </tr>\n",
              "    <tr>\n",
              "      <th>ONTARIO</th>\n",
              "      <td>20.536970</td>\n",
              "    </tr>\n",
              "    <tr>\n",
              "      <th>PRARIE</th>\n",
              "      <td>19.022396</td>\n",
              "    </tr>\n",
              "    <tr>\n",
              "      <th>QUEBEC</th>\n",
              "      <td>10.124936</td>\n",
              "    </tr>\n",
              "    <tr>\n",
              "      <th>WEST</th>\n",
              "      <td>24.119372</td>\n",
              "    </tr>\n",
              "    <tr>\n",
              "      <th>YUKON</th>\n",
              "      <td>6.542595</td>\n",
              "    </tr>\n",
              "  </tbody>\n",
              "</table>\n",
              "</div>"
            ],
            "text/plain": [
              "                           Sales\n",
              "Region                          \n",
              "ATLANTIC               13.504305\n",
              "NORTHWEST TERRITORIES   5.369193\n",
              "NUNAVUT                 0.780233\n",
              "ONTARIO                20.536970\n",
              "PRARIE                 19.022396\n",
              "QUEBEC                 10.124936\n",
              "WEST                   24.119372\n",
              "YUKON                   6.542595"
            ]
          },
          "metadata": {
            "tags": []
          },
          "execution_count": 118
        }
      ]
    },
    {
      "cell_type": "code",
      "metadata": {
        "id": "2400WdgeJZqQ",
        "colab_type": "code",
        "colab": {}
      },
      "source": [
        ""
      ],
      "execution_count": 0,
      "outputs": []
    },
    {
      "cell_type": "code",
      "metadata": {
        "id": "KS9Eco03JZnK",
        "colab_type": "code",
        "colab": {}
      },
      "source": [
        ""
      ],
      "execution_count": 0,
      "outputs": []
    },
    {
      "cell_type": "code",
      "metadata": {
        "id": "dQjsLGdKJZjY",
        "colab_type": "code",
        "colab": {}
      },
      "source": [
        ""
      ],
      "execution_count": 0,
      "outputs": []
    },
    {
      "cell_type": "code",
      "metadata": {
        "id": "fVfLNzC5JYcW",
        "colab_type": "code",
        "colab": {}
      },
      "source": [
        ""
      ],
      "execution_count": 0,
      "outputs": []
    },
    {
      "cell_type": "code",
      "metadata": {
        "id": "qgpmKcCNJYY9",
        "colab_type": "code",
        "colab": {}
      },
      "source": [
        ""
      ],
      "execution_count": 0,
      "outputs": []
    },
    {
      "cell_type": "code",
      "metadata": {
        "id": "-OTU5G7NJYVo",
        "colab_type": "code",
        "colab": {}
      },
      "source": [
        ""
      ],
      "execution_count": 0,
      "outputs": []
    },
    {
      "cell_type": "code",
      "metadata": {
        "id": "llCmMH1yJYQs",
        "colab_type": "code",
        "colab": {}
      },
      "source": [
        ""
      ],
      "execution_count": 0,
      "outputs": []
    },
    {
      "cell_type": "code",
      "metadata": {
        "id": "jbSD3RjkJSp1",
        "colab_type": "code",
        "colab": {}
      },
      "source": [
        ""
      ],
      "execution_count": 0,
      "outputs": []
    },
    {
      "cell_type": "code",
      "metadata": {
        "id": "LG-vEpKKJSlf",
        "colab_type": "code",
        "colab": {}
      },
      "source": [
        ""
      ],
      "execution_count": 0,
      "outputs": []
    },
    {
      "cell_type": "code",
      "metadata": {
        "id": "bEfDdw0zJSiD",
        "colab_type": "code",
        "colab": {}
      },
      "source": [
        ""
      ],
      "execution_count": 0,
      "outputs": []
    },
    {
      "cell_type": "code",
      "metadata": {
        "id": "74I2eVoLJSd4",
        "colab_type": "code",
        "colab": {}
      },
      "source": [
        ""
      ],
      "execution_count": 0,
      "outputs": []
    },
    {
      "cell_type": "code",
      "metadata": {
        "id": "WSXP8bflJRZQ",
        "colab_type": "code",
        "colab": {}
      },
      "source": [
        ""
      ],
      "execution_count": 0,
      "outputs": []
    },
    {
      "cell_type": "code",
      "metadata": {
        "id": "j2I2zavFJRVQ",
        "colab_type": "code",
        "colab": {}
      },
      "source": [
        ""
      ],
      "execution_count": 0,
      "outputs": []
    },
    {
      "cell_type": "code",
      "metadata": {
        "id": "QkZ3LcYRJRRE",
        "colab_type": "code",
        "colab": {}
      },
      "source": [
        ""
      ],
      "execution_count": 0,
      "outputs": []
    },
    {
      "cell_type": "code",
      "metadata": {
        "id": "LcU48InaJGpa",
        "colab_type": "code",
        "colab": {}
      },
      "source": [
        ""
      ],
      "execution_count": 0,
      "outputs": []
    },
    {
      "cell_type": "code",
      "metadata": {
        "id": "vSnaEODIJGlu",
        "colab_type": "code",
        "colab": {}
      },
      "source": [
        ""
      ],
      "execution_count": 0,
      "outputs": []
    },
    {
      "cell_type": "code",
      "metadata": {
        "id": "AgUloNTAJFh4",
        "colab_type": "code",
        "colab": {}
      },
      "source": [
        ""
      ],
      "execution_count": 0,
      "outputs": []
    },
    {
      "cell_type": "code",
      "metadata": {
        "id": "I-hlYEf_JFeF",
        "colab_type": "code",
        "colab": {}
      },
      "source": [
        ""
      ],
      "execution_count": 0,
      "outputs": []
    },
    {
      "cell_type": "code",
      "metadata": {
        "id": "SbbnoemmJFaK",
        "colab_type": "code",
        "colab": {}
      },
      "source": [
        ""
      ],
      "execution_count": 0,
      "outputs": []
    },
    {
      "cell_type": "code",
      "metadata": {
        "id": "sCZGzF_OJA7s",
        "colab_type": "code",
        "colab": {}
      },
      "source": [
        ""
      ],
      "execution_count": 0,
      "outputs": []
    },
    {
      "cell_type": "code",
      "metadata": {
        "id": "5SmDMAGGJA3W",
        "colab_type": "code",
        "colab": {}
      },
      "source": [
        ""
      ],
      "execution_count": 0,
      "outputs": []
    },
    {
      "cell_type": "code",
      "metadata": {
        "id": "2oRYC0eWI4oO",
        "colab_type": "code",
        "colab": {}
      },
      "source": [
        ""
      ],
      "execution_count": 0,
      "outputs": []
    },
    {
      "cell_type": "code",
      "metadata": {
        "id": "tupOWUNsIzRi",
        "colab_type": "code",
        "colab": {}
      },
      "source": [
        ""
      ],
      "execution_count": 0,
      "outputs": []
    },
    {
      "cell_type": "code",
      "metadata": {
        "id": "BWDWui9PG1BB",
        "colab_type": "code",
        "colab": {}
      },
      "source": [
        ""
      ],
      "execution_count": 0,
      "outputs": []
    },
    {
      "cell_type": "code",
      "metadata": {
        "id": "hfTA1_6tG09k",
        "colab_type": "code",
        "colab": {}
      },
      "source": [
        ""
      ],
      "execution_count": 0,
      "outputs": []
    },
    {
      "cell_type": "code",
      "metadata": {
        "id": "2C61TvtoGzmU",
        "colab_type": "code",
        "colab": {}
      },
      "source": [
        ""
      ],
      "execution_count": 0,
      "outputs": []
    },
    {
      "cell_type": "code",
      "metadata": {
        "id": "XiXPv0aiGsxF",
        "colab_type": "code",
        "colab": {}
      },
      "source": [
        ""
      ],
      "execution_count": 0,
      "outputs": []
    },
    {
      "cell_type": "code",
      "metadata": {
        "id": "Vj_AGnRfGtAp",
        "colab_type": "code",
        "colab": {}
      },
      "source": [
        ""
      ],
      "execution_count": 0,
      "outputs": []
    },
    {
      "cell_type": "code",
      "metadata": {
        "id": "kyKOzZQsGs6s",
        "colab_type": "code",
        "colab": {}
      },
      "source": [
        ""
      ],
      "execution_count": 0,
      "outputs": []
    },
    {
      "cell_type": "code",
      "metadata": {
        "id": "MjJENVNXGjGS",
        "colab_type": "code",
        "colab": {}
      },
      "source": [
        ""
      ],
      "execution_count": 0,
      "outputs": []
    },
    {
      "cell_type": "code",
      "metadata": {
        "id": "Y8NxknSgGjgw",
        "colab_type": "code",
        "colab": {}
      },
      "source": [
        ""
      ],
      "execution_count": 0,
      "outputs": []
    },
    {
      "cell_type": "code",
      "metadata": {
        "id": "LbjgQsmKGjec",
        "colab_type": "code",
        "colab": {}
      },
      "source": [
        ""
      ],
      "execution_count": 0,
      "outputs": []
    },
    {
      "cell_type": "code",
      "metadata": {
        "id": "cCa4JUP3GjDy",
        "colab_type": "code",
        "colab": {}
      },
      "source": [
        ""
      ],
      "execution_count": 0,
      "outputs": []
    },
    {
      "cell_type": "code",
      "metadata": {
        "id": "Vds77Fx_GjAP",
        "colab_type": "code",
        "colab": {}
      },
      "source": [
        ""
      ],
      "execution_count": 0,
      "outputs": []
    },
    {
      "cell_type": "code",
      "metadata": {
        "id": "5y8PVrGxGYcF",
        "colab_type": "code",
        "colab": {}
      },
      "source": [
        ""
      ],
      "execution_count": 0,
      "outputs": []
    },
    {
      "cell_type": "code",
      "metadata": {
        "id": "MV2OyROmGYYG",
        "colab_type": "code",
        "colab": {}
      },
      "source": [
        ""
      ],
      "execution_count": 0,
      "outputs": []
    },
    {
      "cell_type": "code",
      "metadata": {
        "id": "maBT1-xHGYTR",
        "colab_type": "code",
        "colab": {}
      },
      "source": [
        ""
      ],
      "execution_count": 0,
      "outputs": []
    },
    {
      "cell_type": "code",
      "metadata": {
        "id": "5v9-2UhlGQ29",
        "colab_type": "code",
        "colab": {}
      },
      "source": [
        ""
      ],
      "execution_count": 0,
      "outputs": []
    },
    {
      "cell_type": "code",
      "metadata": {
        "id": "c8EnAQ8PGQzC",
        "colab_type": "code",
        "colab": {}
      },
      "source": [
        ""
      ],
      "execution_count": 0,
      "outputs": []
    },
    {
      "cell_type": "code",
      "metadata": {
        "id": "ZfXMGfyVFe1q",
        "colab_type": "code",
        "colab": {}
      },
      "source": [
        ""
      ],
      "execution_count": 0,
      "outputs": []
    },
    {
      "cell_type": "code",
      "metadata": {
        "id": "idmTgqYcFeww",
        "colab_type": "code",
        "colab": {}
      },
      "source": [
        ""
      ],
      "execution_count": 0,
      "outputs": []
    }
  ]
}