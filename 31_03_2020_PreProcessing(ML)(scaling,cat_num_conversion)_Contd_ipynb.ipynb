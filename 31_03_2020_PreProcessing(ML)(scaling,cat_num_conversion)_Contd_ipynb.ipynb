{
  "nbformat": 4,
  "nbformat_minor": 0,
  "metadata": {
    "colab": {
      "name": "31-03-2020- PreProcessing(ML)(scaling,cat-num-conversion)-Contd.ipynb.ipynb",
      "provenance": [],
      "authorship_tag": "ABX9TyOZakoinJ4ptrkfM+hqbw6L",
      "include_colab_link": true
    },
    "kernelspec": {
      "name": "python3",
      "display_name": "Python 3"
    }
  },
  "cells": [
    {
      "cell_type": "markdown",
      "metadata": {
        "id": "view-in-github",
        "colab_type": "text"
      },
      "source": [
        "<a href=\"https://colab.research.google.com/github/PRihana/Machine-learning/blob/master/31_03_2020_PreProcessing(ML)(scaling%2Ccat_num_conversion)_Contd_ipynb.ipynb\" target=\"_parent\"><img src=\"https://colab.research.google.com/assets/colab-badge.svg\" alt=\"Open In Colab\"/></a>"
      ]
    },
    {
      "cell_type": "code",
      "metadata": {
        "id": "gTBxPv1GLgJL",
        "colab_type": "code",
        "colab": {}
      },
      "source": [
        "# import the required packages\n",
        "import pandas as pd\n",
        "import numpy as np\n",
        "import matplotlib.pyplot as plt\n",
        "import seaborn as sns\n",
        "%matplotlib inline"
      ],
      "execution_count": 0,
      "outputs": []
    },
    {
      "cell_type": "code",
      "metadata": {
        "id": "v46Qp3oSL8b9",
        "colab_type": "code",
        "colab": {}
      },
      "source": [
        "df = pd.read_csv('movie_metadata.csv')"
      ],
      "execution_count": 0,
      "outputs": []
    },
    {
      "cell_type": "code",
      "metadata": {
        "id": "ylDBproFL8ZH",
        "colab_type": "code",
        "outputId": "3539383d-2c0a-45aa-fdde-d0d5bc4cf29e",
        "colab": {
          "base_uri": "https://localhost:8080/",
          "height": 361
        }
      },
      "source": [
        "df.head()"
      ],
      "execution_count": 0,
      "outputs": [
        {
          "output_type": "execute_result",
          "data": {
            "text/html": [
              "<div>\n",
              "<style scoped>\n",
              "    .dataframe tbody tr th:only-of-type {\n",
              "        vertical-align: middle;\n",
              "    }\n",
              "\n",
              "    .dataframe tbody tr th {\n",
              "        vertical-align: top;\n",
              "    }\n",
              "\n",
              "    .dataframe thead th {\n",
              "        text-align: right;\n",
              "    }\n",
              "</style>\n",
              "<table border=\"1\" class=\"dataframe\">\n",
              "  <thead>\n",
              "    <tr style=\"text-align: right;\">\n",
              "      <th></th>\n",
              "      <th>color</th>\n",
              "      <th>director_name</th>\n",
              "      <th>num_critic_for_reviews</th>\n",
              "      <th>duration</th>\n",
              "      <th>director_facebook_likes</th>\n",
              "      <th>actor_3_facebook_likes</th>\n",
              "      <th>actor_2_name</th>\n",
              "      <th>actor_1_facebook_likes</th>\n",
              "      <th>gross</th>\n",
              "      <th>genres</th>\n",
              "      <th>actor_1_name</th>\n",
              "      <th>movie_title</th>\n",
              "      <th>num_voted_users</th>\n",
              "      <th>cast_total_facebook_likes</th>\n",
              "      <th>actor_3_name</th>\n",
              "      <th>facenumber_in_poster</th>\n",
              "      <th>plot_keywords</th>\n",
              "      <th>movie_imdb_link</th>\n",
              "      <th>num_user_for_reviews</th>\n",
              "      <th>language</th>\n",
              "      <th>country</th>\n",
              "      <th>content_rating</th>\n",
              "      <th>budget</th>\n",
              "      <th>title_year</th>\n",
              "      <th>actor_2_facebook_likes</th>\n",
              "      <th>imdb_score</th>\n",
              "      <th>aspect_ratio</th>\n",
              "      <th>movie_facebook_likes</th>\n",
              "    </tr>\n",
              "  </thead>\n",
              "  <tbody>\n",
              "    <tr>\n",
              "      <th>0</th>\n",
              "      <td>Color</td>\n",
              "      <td>James Cameron</td>\n",
              "      <td>723.0</td>\n",
              "      <td>178.0</td>\n",
              "      <td>0.0</td>\n",
              "      <td>855.0</td>\n",
              "      <td>Joel David Moore</td>\n",
              "      <td>1000.0</td>\n",
              "      <td>760505847.0</td>\n",
              "      <td>Action|Adventure|Fantasy|Sci-Fi</td>\n",
              "      <td>CCH Pounder</td>\n",
              "      <td>Avatar</td>\n",
              "      <td>886204</td>\n",
              "      <td>4834</td>\n",
              "      <td>Wes Studi</td>\n",
              "      <td>0.0</td>\n",
              "      <td>avatar|future|marine|native|paraplegic</td>\n",
              "      <td>http://www.imdb.com/title/tt0499549/?ref_=fn_t...</td>\n",
              "      <td>3054.0</td>\n",
              "      <td>English</td>\n",
              "      <td>USA</td>\n",
              "      <td>PG-13</td>\n",
              "      <td>237000000.0</td>\n",
              "      <td>2009.0</td>\n",
              "      <td>936.0</td>\n",
              "      <td>7.9</td>\n",
              "      <td>1.78</td>\n",
              "      <td>33000</td>\n",
              "    </tr>\n",
              "    <tr>\n",
              "      <th>1</th>\n",
              "      <td>Color</td>\n",
              "      <td>Gore Verbinski</td>\n",
              "      <td>302.0</td>\n",
              "      <td>169.0</td>\n",
              "      <td>563.0</td>\n",
              "      <td>1000.0</td>\n",
              "      <td>Orlando Bloom</td>\n",
              "      <td>40000.0</td>\n",
              "      <td>309404152.0</td>\n",
              "      <td>Action|Adventure|Fantasy</td>\n",
              "      <td>Johnny Depp</td>\n",
              "      <td>Pirates of the Caribbean: At World's End</td>\n",
              "      <td>471220</td>\n",
              "      <td>48350</td>\n",
              "      <td>Jack Davenport</td>\n",
              "      <td>0.0</td>\n",
              "      <td>goddess|marriage ceremony|marriage proposal|pi...</td>\n",
              "      <td>http://www.imdb.com/title/tt0449088/?ref_=fn_t...</td>\n",
              "      <td>1238.0</td>\n",
              "      <td>English</td>\n",
              "      <td>USA</td>\n",
              "      <td>PG-13</td>\n",
              "      <td>300000000.0</td>\n",
              "      <td>2007.0</td>\n",
              "      <td>5000.0</td>\n",
              "      <td>7.1</td>\n",
              "      <td>2.35</td>\n",
              "      <td>0</td>\n",
              "    </tr>\n",
              "    <tr>\n",
              "      <th>2</th>\n",
              "      <td>Color</td>\n",
              "      <td>Sam Mendes</td>\n",
              "      <td>602.0</td>\n",
              "      <td>148.0</td>\n",
              "      <td>0.0</td>\n",
              "      <td>161.0</td>\n",
              "      <td>Rory Kinnear</td>\n",
              "      <td>11000.0</td>\n",
              "      <td>200074175.0</td>\n",
              "      <td>Action|Adventure|Thriller</td>\n",
              "      <td>Christoph Waltz</td>\n",
              "      <td>Spectre</td>\n",
              "      <td>275868</td>\n",
              "      <td>11700</td>\n",
              "      <td>Stephanie Sigman</td>\n",
              "      <td>1.0</td>\n",
              "      <td>bomb|espionage|sequel|spy|terrorist</td>\n",
              "      <td>http://www.imdb.com/title/tt2379713/?ref_=fn_t...</td>\n",
              "      <td>994.0</td>\n",
              "      <td>English</td>\n",
              "      <td>UK</td>\n",
              "      <td>PG-13</td>\n",
              "      <td>245000000.0</td>\n",
              "      <td>2015.0</td>\n",
              "      <td>393.0</td>\n",
              "      <td>6.8</td>\n",
              "      <td>2.35</td>\n",
              "      <td>85000</td>\n",
              "    </tr>\n",
              "    <tr>\n",
              "      <th>3</th>\n",
              "      <td>Color</td>\n",
              "      <td>Christopher Nolan</td>\n",
              "      <td>813.0</td>\n",
              "      <td>164.0</td>\n",
              "      <td>22000.0</td>\n",
              "      <td>23000.0</td>\n",
              "      <td>Christian Bale</td>\n",
              "      <td>27000.0</td>\n",
              "      <td>448130642.0</td>\n",
              "      <td>Action|Thriller</td>\n",
              "      <td>Tom Hardy</td>\n",
              "      <td>The Dark Knight Rises</td>\n",
              "      <td>1144337</td>\n",
              "      <td>106759</td>\n",
              "      <td>Joseph Gordon-Levitt</td>\n",
              "      <td>0.0</td>\n",
              "      <td>deception|imprisonment|lawlessness|police offi...</td>\n",
              "      <td>http://www.imdb.com/title/tt1345836/?ref_=fn_t...</td>\n",
              "      <td>2701.0</td>\n",
              "      <td>English</td>\n",
              "      <td>USA</td>\n",
              "      <td>PG-13</td>\n",
              "      <td>250000000.0</td>\n",
              "      <td>2012.0</td>\n",
              "      <td>23000.0</td>\n",
              "      <td>8.5</td>\n",
              "      <td>2.35</td>\n",
              "      <td>164000</td>\n",
              "    </tr>\n",
              "    <tr>\n",
              "      <th>4</th>\n",
              "      <td>NaN</td>\n",
              "      <td>Doug Walker</td>\n",
              "      <td>NaN</td>\n",
              "      <td>NaN</td>\n",
              "      <td>131.0</td>\n",
              "      <td>NaN</td>\n",
              "      <td>Rob Walker</td>\n",
              "      <td>131.0</td>\n",
              "      <td>NaN</td>\n",
              "      <td>Documentary</td>\n",
              "      <td>Doug Walker</td>\n",
              "      <td>Star Wars: Episode VII - The Force Awakens    ...</td>\n",
              "      <td>8</td>\n",
              "      <td>143</td>\n",
              "      <td>NaN</td>\n",
              "      <td>0.0</td>\n",
              "      <td>NaN</td>\n",
              "      <td>http://www.imdb.com/title/tt5289954/?ref_=fn_t...</td>\n",
              "      <td>NaN</td>\n",
              "      <td>NaN</td>\n",
              "      <td>NaN</td>\n",
              "      <td>NaN</td>\n",
              "      <td>NaN</td>\n",
              "      <td>NaN</td>\n",
              "      <td>12.0</td>\n",
              "      <td>7.1</td>\n",
              "      <td>NaN</td>\n",
              "      <td>0</td>\n",
              "    </tr>\n",
              "  </tbody>\n",
              "</table>\n",
              "</div>"
            ],
            "text/plain": [
              "   color      director_name  ...  aspect_ratio  movie_facebook_likes\n",
              "0  Color      James Cameron  ...          1.78                 33000\n",
              "1  Color     Gore Verbinski  ...          2.35                     0\n",
              "2  Color         Sam Mendes  ...          2.35                 85000\n",
              "3  Color  Christopher Nolan  ...          2.35                164000\n",
              "4    NaN        Doug Walker  ...           NaN                     0\n",
              "\n",
              "[5 rows x 28 columns]"
            ]
          },
          "metadata": {
            "tags": []
          },
          "execution_count": 10
        }
      ]
    },
    {
      "cell_type": "code",
      "metadata": {
        "id": "YMf6UuWGVbZP",
        "colab_type": "code",
        "outputId": "ece4e876-31dc-4e8e-ec69-a9853231626b",
        "colab": {
          "base_uri": "https://localhost:8080/",
          "height": 173
        }
      },
      "source": [
        "df.columns"
      ],
      "execution_count": 0,
      "outputs": [
        {
          "output_type": "execute_result",
          "data": {
            "text/plain": [
              "Index(['color', 'director_name', 'num_critic_for_reviews', 'duration',\n",
              "       'director_facebook_likes', 'actor_3_facebook_likes', 'actor_2_name',\n",
              "       'actor_1_facebook_likes', 'gross', 'genres', 'actor_1_name',\n",
              "       'movie_title', 'num_voted_users', 'cast_total_facebook_likes',\n",
              "       'actor_3_name', 'facenumber_in_poster', 'plot_keywords',\n",
              "       'movie_imdb_link', 'num_user_for_reviews', 'language', 'country',\n",
              "       'content_rating', 'budget', 'title_year', 'actor_2_facebook_likes',\n",
              "       'imdb_score', 'aspect_ratio', 'movie_facebook_likes'],\n",
              "      dtype='object')"
            ]
          },
          "metadata": {
            "tags": []
          },
          "execution_count": 11
        }
      ]
    },
    {
      "cell_type": "code",
      "metadata": {
        "id": "ocSkhZV9L8VD",
        "colab_type": "code",
        "outputId": "f86903e2-5204-410e-cbab-53eb6cbea3e6",
        "colab": {
          "base_uri": "https://localhost:8080/",
          "height": 35
        }
      },
      "source": [
        "df.shape"
      ],
      "execution_count": 0,
      "outputs": [
        {
          "output_type": "execute_result",
          "data": {
            "text/plain": [
              "(5043, 28)"
            ]
          },
          "metadata": {
            "tags": []
          },
          "execution_count": 14
        }
      ]
    },
    {
      "cell_type": "code",
      "metadata": {
        "id": "rSNvK6TFVW_Y",
        "colab_type": "code",
        "outputId": "34d07db5-d688-4b19-f08c-68a9b2c62f1e",
        "colab": {
          "base_uri": "https://localhost:8080/",
          "height": 225
        }
      },
      "source": [
        "df.movie_title"
      ],
      "execution_count": 0,
      "outputs": [
        {
          "output_type": "execute_result",
          "data": {
            "text/plain": [
              "0                                                 Avatar \n",
              "1               Pirates of the Caribbean: At World's End \n",
              "2                                                Spectre \n",
              "3                                  The Dark Knight Rises \n",
              "4       Star Wars: Episode VII - The Force Awakens    ...\n",
              "                              ...                        \n",
              "5038                             Signed Sealed Delivered \n",
              "5039                           The Following             \n",
              "5040                                A Plague So Pleasant \n",
              "5041                                    Shanghai Calling \n",
              "5042                                   My Date with Drew \n",
              "Name: movie_title, Length: 5043, dtype: object"
            ]
          },
          "metadata": {
            "tags": []
          },
          "execution_count": 15
        }
      ]
    },
    {
      "cell_type": "code",
      "metadata": {
        "id": "ZJaQL10v4j-E",
        "colab_type": "code",
        "outputId": "f14695fc-c5ec-4afb-8847-1f8ab76aa51f",
        "colab": {
          "base_uri": "https://localhost:8080/",
          "height": 35
        }
      },
      "source": [
        "df.movie_title.duplicated().sum()"
      ],
      "execution_count": 0,
      "outputs": [
        {
          "output_type": "execute_result",
          "data": {
            "text/plain": [
              "126"
            ]
          },
          "metadata": {
            "tags": []
          },
          "execution_count": 12
        }
      ]
    },
    {
      "cell_type": "code",
      "metadata": {
        "id": "SZzrfiGe48wu",
        "colab_type": "code",
        "outputId": "d5805399-b616-4da0-85d1-a56363a8c9f7",
        "colab": {
          "base_uri": "https://localhost:8080/",
          "height": 35
        }
      },
      "source": [
        "df.movie_title.nunique()"
      ],
      "execution_count": 0,
      "outputs": [
        {
          "output_type": "execute_result",
          "data": {
            "text/plain": [
              "4917"
            ]
          },
          "metadata": {
            "tags": []
          },
          "execution_count": 13
        }
      ]
    },
    {
      "cell_type": "code",
      "metadata": {
        "id": "jg_Empt-488t",
        "colab_type": "code",
        "outputId": "3522fc3a-e17b-4a6a-94cb-9b6f2e3f4e9e",
        "colab": {
          "base_uri": "https://localhost:8080/",
          "height": 35
        }
      },
      "source": [
        "5043-4917"
      ],
      "execution_count": 0,
      "outputs": [
        {
          "output_type": "execute_result",
          "data": {
            "text/plain": [
              "126"
            ]
          },
          "metadata": {
            "tags": []
          },
          "execution_count": 14
        }
      ]
    },
    {
      "cell_type": "code",
      "metadata": {
        "id": "7dq16TTD5Gv-",
        "colab_type": "code",
        "outputId": "26720a1b-3051-4db6-b8f2-a9ca26f2548d",
        "colab": {
          "base_uri": "https://localhost:8080/",
          "height": 35
        }
      },
      "source": [
        "df.movie_title[df.movie_title.duplicated()][137]"
      ],
      "execution_count": 0,
      "outputs": [
        {
          "output_type": "execute_result",
          "data": {
            "text/plain": [
              "'The Legend of Tarzan\\xa0'"
            ]
          },
          "metadata": {
            "tags": []
          },
          "execution_count": 15
        }
      ]
    },
    {
      "cell_type": "code",
      "metadata": {
        "id": "UKqKEVPi5G5Z",
        "colab_type": "code",
        "outputId": "29171a91-b81e-4a04-af2d-d09263e79345",
        "colab": {
          "base_uri": "https://localhost:8080/",
          "height": 165
        }
      },
      "source": [
        "df[df.movie_title == 'The Legend of Tarzan\\xa0']"
      ],
      "execution_count": 0,
      "outputs": [
        {
          "output_type": "execute_result",
          "data": {
            "text/html": [
              "<div>\n",
              "<style scoped>\n",
              "    .dataframe tbody tr th:only-of-type {\n",
              "        vertical-align: middle;\n",
              "    }\n",
              "\n",
              "    .dataframe tbody tr th {\n",
              "        vertical-align: top;\n",
              "    }\n",
              "\n",
              "    .dataframe thead th {\n",
              "        text-align: right;\n",
              "    }\n",
              "</style>\n",
              "<table border=\"1\" class=\"dataframe\">\n",
              "  <thead>\n",
              "    <tr style=\"text-align: right;\">\n",
              "      <th></th>\n",
              "      <th>color</th>\n",
              "      <th>director_name</th>\n",
              "      <th>num_critic_for_reviews</th>\n",
              "      <th>duration</th>\n",
              "      <th>director_facebook_likes</th>\n",
              "      <th>actor_3_facebook_likes</th>\n",
              "      <th>actor_2_name</th>\n",
              "      <th>actor_1_facebook_likes</th>\n",
              "      <th>gross</th>\n",
              "      <th>genres</th>\n",
              "      <th>actor_1_name</th>\n",
              "      <th>movie_title</th>\n",
              "      <th>num_voted_users</th>\n",
              "      <th>cast_total_facebook_likes</th>\n",
              "      <th>actor_3_name</th>\n",
              "      <th>facenumber_in_poster</th>\n",
              "      <th>plot_keywords</th>\n",
              "      <th>movie_imdb_link</th>\n",
              "      <th>num_user_for_reviews</th>\n",
              "      <th>language</th>\n",
              "      <th>country</th>\n",
              "      <th>content_rating</th>\n",
              "      <th>budget</th>\n",
              "      <th>title_year</th>\n",
              "      <th>actor_2_facebook_likes</th>\n",
              "      <th>imdb_score</th>\n",
              "      <th>aspect_ratio</th>\n",
              "      <th>movie_facebook_likes</th>\n",
              "    </tr>\n",
              "  </thead>\n",
              "  <tbody>\n",
              "    <tr>\n",
              "      <th>63</th>\n",
              "      <td>Color</td>\n",
              "      <td>David Yates</td>\n",
              "      <td>248.0</td>\n",
              "      <td>110.0</td>\n",
              "      <td>282.0</td>\n",
              "      <td>103.0</td>\n",
              "      <td>Alexander Skarsgård</td>\n",
              "      <td>11000.0</td>\n",
              "      <td>124051759.0</td>\n",
              "      <td>Action|Adventure|Drama|Romance</td>\n",
              "      <td>Christoph Waltz</td>\n",
              "      <td>The Legend of Tarzan</td>\n",
              "      <td>42372</td>\n",
              "      <td>21175</td>\n",
              "      <td>Casper Crump</td>\n",
              "      <td>2.0</td>\n",
              "      <td>africa|capture|jungle|male objectification|tarzan</td>\n",
              "      <td>http://www.imdb.com/title/tt0918940/?ref_=fn_t...</td>\n",
              "      <td>239.0</td>\n",
              "      <td>English</td>\n",
              "      <td>USA</td>\n",
              "      <td>PG-13</td>\n",
              "      <td>180000000.0</td>\n",
              "      <td>2016.0</td>\n",
              "      <td>10000.0</td>\n",
              "      <td>6.6</td>\n",
              "      <td>2.35</td>\n",
              "      <td>29000</td>\n",
              "    </tr>\n",
              "    <tr>\n",
              "      <th>137</th>\n",
              "      <td>Color</td>\n",
              "      <td>David Yates</td>\n",
              "      <td>248.0</td>\n",
              "      <td>110.0</td>\n",
              "      <td>282.0</td>\n",
              "      <td>103.0</td>\n",
              "      <td>Alexander Skarsgård</td>\n",
              "      <td>11000.0</td>\n",
              "      <td>124051759.0</td>\n",
              "      <td>Action|Adventure|Drama|Romance</td>\n",
              "      <td>Christoph Waltz</td>\n",
              "      <td>The Legend of Tarzan</td>\n",
              "      <td>42372</td>\n",
              "      <td>21175</td>\n",
              "      <td>Casper Crump</td>\n",
              "      <td>2.0</td>\n",
              "      <td>africa|capture|jungle|male objectification|tarzan</td>\n",
              "      <td>http://www.imdb.com/title/tt0918940/?ref_=fn_t...</td>\n",
              "      <td>239.0</td>\n",
              "      <td>English</td>\n",
              "      <td>USA</td>\n",
              "      <td>PG-13</td>\n",
              "      <td>180000000.0</td>\n",
              "      <td>2016.0</td>\n",
              "      <td>10000.0</td>\n",
              "      <td>6.6</td>\n",
              "      <td>2.35</td>\n",
              "      <td>29000</td>\n",
              "    </tr>\n",
              "  </tbody>\n",
              "</table>\n",
              "</div>"
            ],
            "text/plain": [
              "     color director_name  ...  aspect_ratio  movie_facebook_likes\n",
              "63   Color   David Yates  ...          2.35                 29000\n",
              "137  Color   David Yates  ...          2.35                 29000\n",
              "\n",
              "[2 rows x 28 columns]"
            ]
          },
          "metadata": {
            "tags": []
          },
          "execution_count": 16
        }
      ]
    },
    {
      "cell_type": "code",
      "metadata": {
        "id": "ZwDTPVIk5XeI",
        "colab_type": "code",
        "outputId": "e2c1d22f-ec7a-4e9e-f09a-73fa71a701e4",
        "colab": {
          "base_uri": "https://localhost:8080/",
          "height": 678
        }
      },
      "source": [
        "df.drop_duplicates()"
      ],
      "execution_count": 0,
      "outputs": [
        {
          "output_type": "execute_result",
          "data": {
            "text/html": [
              "<div>\n",
              "<style scoped>\n",
              "    .dataframe tbody tr th:only-of-type {\n",
              "        vertical-align: middle;\n",
              "    }\n",
              "\n",
              "    .dataframe tbody tr th {\n",
              "        vertical-align: top;\n",
              "    }\n",
              "\n",
              "    .dataframe thead th {\n",
              "        text-align: right;\n",
              "    }\n",
              "</style>\n",
              "<table border=\"1\" class=\"dataframe\">\n",
              "  <thead>\n",
              "    <tr style=\"text-align: right;\">\n",
              "      <th></th>\n",
              "      <th>color</th>\n",
              "      <th>director_name</th>\n",
              "      <th>num_critic_for_reviews</th>\n",
              "      <th>duration</th>\n",
              "      <th>director_facebook_likes</th>\n",
              "      <th>actor_3_facebook_likes</th>\n",
              "      <th>actor_2_name</th>\n",
              "      <th>actor_1_facebook_likes</th>\n",
              "      <th>gross</th>\n",
              "      <th>genres</th>\n",
              "      <th>actor_1_name</th>\n",
              "      <th>movie_title</th>\n",
              "      <th>num_voted_users</th>\n",
              "      <th>cast_total_facebook_likes</th>\n",
              "      <th>actor_3_name</th>\n",
              "      <th>facenumber_in_poster</th>\n",
              "      <th>plot_keywords</th>\n",
              "      <th>movie_imdb_link</th>\n",
              "      <th>num_user_for_reviews</th>\n",
              "      <th>language</th>\n",
              "      <th>country</th>\n",
              "      <th>content_rating</th>\n",
              "      <th>budget</th>\n",
              "      <th>title_year</th>\n",
              "      <th>actor_2_facebook_likes</th>\n",
              "      <th>imdb_score</th>\n",
              "      <th>aspect_ratio</th>\n",
              "      <th>movie_facebook_likes</th>\n",
              "    </tr>\n",
              "  </thead>\n",
              "  <tbody>\n",
              "    <tr>\n",
              "      <th>0</th>\n",
              "      <td>Color</td>\n",
              "      <td>James Cameron</td>\n",
              "      <td>723.0</td>\n",
              "      <td>178.0</td>\n",
              "      <td>0.0</td>\n",
              "      <td>855.0</td>\n",
              "      <td>Joel David Moore</td>\n",
              "      <td>1000.0</td>\n",
              "      <td>760505847.0</td>\n",
              "      <td>Action|Adventure|Fantasy|Sci-Fi</td>\n",
              "      <td>CCH Pounder</td>\n",
              "      <td>Avatar</td>\n",
              "      <td>886204</td>\n",
              "      <td>4834</td>\n",
              "      <td>Wes Studi</td>\n",
              "      <td>0.0</td>\n",
              "      <td>avatar|future|marine|native|paraplegic</td>\n",
              "      <td>http://www.imdb.com/title/tt0499549/?ref_=fn_t...</td>\n",
              "      <td>3054.0</td>\n",
              "      <td>English</td>\n",
              "      <td>USA</td>\n",
              "      <td>PG-13</td>\n",
              "      <td>237000000.0</td>\n",
              "      <td>2009.0</td>\n",
              "      <td>936.0</td>\n",
              "      <td>7.9</td>\n",
              "      <td>1.78</td>\n",
              "      <td>33000</td>\n",
              "    </tr>\n",
              "    <tr>\n",
              "      <th>1</th>\n",
              "      <td>Color</td>\n",
              "      <td>Gore Verbinski</td>\n",
              "      <td>302.0</td>\n",
              "      <td>169.0</td>\n",
              "      <td>563.0</td>\n",
              "      <td>1000.0</td>\n",
              "      <td>Orlando Bloom</td>\n",
              "      <td>40000.0</td>\n",
              "      <td>309404152.0</td>\n",
              "      <td>Action|Adventure|Fantasy</td>\n",
              "      <td>Johnny Depp</td>\n",
              "      <td>Pirates of the Caribbean: At World's End</td>\n",
              "      <td>471220</td>\n",
              "      <td>48350</td>\n",
              "      <td>Jack Davenport</td>\n",
              "      <td>0.0</td>\n",
              "      <td>goddess|marriage ceremony|marriage proposal|pi...</td>\n",
              "      <td>http://www.imdb.com/title/tt0449088/?ref_=fn_t...</td>\n",
              "      <td>1238.0</td>\n",
              "      <td>English</td>\n",
              "      <td>USA</td>\n",
              "      <td>PG-13</td>\n",
              "      <td>300000000.0</td>\n",
              "      <td>2007.0</td>\n",
              "      <td>5000.0</td>\n",
              "      <td>7.1</td>\n",
              "      <td>2.35</td>\n",
              "      <td>0</td>\n",
              "    </tr>\n",
              "    <tr>\n",
              "      <th>2</th>\n",
              "      <td>Color</td>\n",
              "      <td>Sam Mendes</td>\n",
              "      <td>602.0</td>\n",
              "      <td>148.0</td>\n",
              "      <td>0.0</td>\n",
              "      <td>161.0</td>\n",
              "      <td>Rory Kinnear</td>\n",
              "      <td>11000.0</td>\n",
              "      <td>200074175.0</td>\n",
              "      <td>Action|Adventure|Thriller</td>\n",
              "      <td>Christoph Waltz</td>\n",
              "      <td>Spectre</td>\n",
              "      <td>275868</td>\n",
              "      <td>11700</td>\n",
              "      <td>Stephanie Sigman</td>\n",
              "      <td>1.0</td>\n",
              "      <td>bomb|espionage|sequel|spy|terrorist</td>\n",
              "      <td>http://www.imdb.com/title/tt2379713/?ref_=fn_t...</td>\n",
              "      <td>994.0</td>\n",
              "      <td>English</td>\n",
              "      <td>UK</td>\n",
              "      <td>PG-13</td>\n",
              "      <td>245000000.0</td>\n",
              "      <td>2015.0</td>\n",
              "      <td>393.0</td>\n",
              "      <td>6.8</td>\n",
              "      <td>2.35</td>\n",
              "      <td>85000</td>\n",
              "    </tr>\n",
              "    <tr>\n",
              "      <th>3</th>\n",
              "      <td>Color</td>\n",
              "      <td>Christopher Nolan</td>\n",
              "      <td>813.0</td>\n",
              "      <td>164.0</td>\n",
              "      <td>22000.0</td>\n",
              "      <td>23000.0</td>\n",
              "      <td>Christian Bale</td>\n",
              "      <td>27000.0</td>\n",
              "      <td>448130642.0</td>\n",
              "      <td>Action|Thriller</td>\n",
              "      <td>Tom Hardy</td>\n",
              "      <td>The Dark Knight Rises</td>\n",
              "      <td>1144337</td>\n",
              "      <td>106759</td>\n",
              "      <td>Joseph Gordon-Levitt</td>\n",
              "      <td>0.0</td>\n",
              "      <td>deception|imprisonment|lawlessness|police offi...</td>\n",
              "      <td>http://www.imdb.com/title/tt1345836/?ref_=fn_t...</td>\n",
              "      <td>2701.0</td>\n",
              "      <td>English</td>\n",
              "      <td>USA</td>\n",
              "      <td>PG-13</td>\n",
              "      <td>250000000.0</td>\n",
              "      <td>2012.0</td>\n",
              "      <td>23000.0</td>\n",
              "      <td>8.5</td>\n",
              "      <td>2.35</td>\n",
              "      <td>164000</td>\n",
              "    </tr>\n",
              "    <tr>\n",
              "      <th>4</th>\n",
              "      <td>NaN</td>\n",
              "      <td>Doug Walker</td>\n",
              "      <td>NaN</td>\n",
              "      <td>NaN</td>\n",
              "      <td>131.0</td>\n",
              "      <td>NaN</td>\n",
              "      <td>Rob Walker</td>\n",
              "      <td>131.0</td>\n",
              "      <td>NaN</td>\n",
              "      <td>Documentary</td>\n",
              "      <td>Doug Walker</td>\n",
              "      <td>Star Wars: Episode VII - The Force Awakens    ...</td>\n",
              "      <td>8</td>\n",
              "      <td>143</td>\n",
              "      <td>NaN</td>\n",
              "      <td>0.0</td>\n",
              "      <td>NaN</td>\n",
              "      <td>http://www.imdb.com/title/tt5289954/?ref_=fn_t...</td>\n",
              "      <td>NaN</td>\n",
              "      <td>NaN</td>\n",
              "      <td>NaN</td>\n",
              "      <td>NaN</td>\n",
              "      <td>NaN</td>\n",
              "      <td>NaN</td>\n",
              "      <td>12.0</td>\n",
              "      <td>7.1</td>\n",
              "      <td>NaN</td>\n",
              "      <td>0</td>\n",
              "    </tr>\n",
              "    <tr>\n",
              "      <th>...</th>\n",
              "      <td>...</td>\n",
              "      <td>...</td>\n",
              "      <td>...</td>\n",
              "      <td>...</td>\n",
              "      <td>...</td>\n",
              "      <td>...</td>\n",
              "      <td>...</td>\n",
              "      <td>...</td>\n",
              "      <td>...</td>\n",
              "      <td>...</td>\n",
              "      <td>...</td>\n",
              "      <td>...</td>\n",
              "      <td>...</td>\n",
              "      <td>...</td>\n",
              "      <td>...</td>\n",
              "      <td>...</td>\n",
              "      <td>...</td>\n",
              "      <td>...</td>\n",
              "      <td>...</td>\n",
              "      <td>...</td>\n",
              "      <td>...</td>\n",
              "      <td>...</td>\n",
              "      <td>...</td>\n",
              "      <td>...</td>\n",
              "      <td>...</td>\n",
              "      <td>...</td>\n",
              "      <td>...</td>\n",
              "      <td>...</td>\n",
              "    </tr>\n",
              "    <tr>\n",
              "      <th>5038</th>\n",
              "      <td>Color</td>\n",
              "      <td>Scott Smith</td>\n",
              "      <td>1.0</td>\n",
              "      <td>87.0</td>\n",
              "      <td>2.0</td>\n",
              "      <td>318.0</td>\n",
              "      <td>Daphne Zuniga</td>\n",
              "      <td>637.0</td>\n",
              "      <td>NaN</td>\n",
              "      <td>Comedy|Drama</td>\n",
              "      <td>Eric Mabius</td>\n",
              "      <td>Signed Sealed Delivered</td>\n",
              "      <td>629</td>\n",
              "      <td>2283</td>\n",
              "      <td>Crystal Lowe</td>\n",
              "      <td>2.0</td>\n",
              "      <td>fraud|postal worker|prison|theft|trial</td>\n",
              "      <td>http://www.imdb.com/title/tt3000844/?ref_=fn_t...</td>\n",
              "      <td>6.0</td>\n",
              "      <td>English</td>\n",
              "      <td>Canada</td>\n",
              "      <td>NaN</td>\n",
              "      <td>NaN</td>\n",
              "      <td>2013.0</td>\n",
              "      <td>470.0</td>\n",
              "      <td>7.7</td>\n",
              "      <td>NaN</td>\n",
              "      <td>84</td>\n",
              "    </tr>\n",
              "    <tr>\n",
              "      <th>5039</th>\n",
              "      <td>Color</td>\n",
              "      <td>NaN</td>\n",
              "      <td>43.0</td>\n",
              "      <td>43.0</td>\n",
              "      <td>NaN</td>\n",
              "      <td>319.0</td>\n",
              "      <td>Valorie Curry</td>\n",
              "      <td>841.0</td>\n",
              "      <td>NaN</td>\n",
              "      <td>Crime|Drama|Mystery|Thriller</td>\n",
              "      <td>Natalie Zea</td>\n",
              "      <td>The Following</td>\n",
              "      <td>73839</td>\n",
              "      <td>1753</td>\n",
              "      <td>Sam Underwood</td>\n",
              "      <td>1.0</td>\n",
              "      <td>cult|fbi|hideout|prison escape|serial killer</td>\n",
              "      <td>http://www.imdb.com/title/tt2071645/?ref_=fn_t...</td>\n",
              "      <td>359.0</td>\n",
              "      <td>English</td>\n",
              "      <td>USA</td>\n",
              "      <td>TV-14</td>\n",
              "      <td>NaN</td>\n",
              "      <td>NaN</td>\n",
              "      <td>593.0</td>\n",
              "      <td>7.5</td>\n",
              "      <td>16.00</td>\n",
              "      <td>32000</td>\n",
              "    </tr>\n",
              "    <tr>\n",
              "      <th>5040</th>\n",
              "      <td>Color</td>\n",
              "      <td>Benjamin Roberds</td>\n",
              "      <td>13.0</td>\n",
              "      <td>76.0</td>\n",
              "      <td>0.0</td>\n",
              "      <td>0.0</td>\n",
              "      <td>Maxwell Moody</td>\n",
              "      <td>0.0</td>\n",
              "      <td>NaN</td>\n",
              "      <td>Drama|Horror|Thriller</td>\n",
              "      <td>Eva Boehnke</td>\n",
              "      <td>A Plague So Pleasant</td>\n",
              "      <td>38</td>\n",
              "      <td>0</td>\n",
              "      <td>David Chandler</td>\n",
              "      <td>0.0</td>\n",
              "      <td>NaN</td>\n",
              "      <td>http://www.imdb.com/title/tt2107644/?ref_=fn_t...</td>\n",
              "      <td>3.0</td>\n",
              "      <td>English</td>\n",
              "      <td>USA</td>\n",
              "      <td>NaN</td>\n",
              "      <td>1400.0</td>\n",
              "      <td>2013.0</td>\n",
              "      <td>0.0</td>\n",
              "      <td>6.3</td>\n",
              "      <td>NaN</td>\n",
              "      <td>16</td>\n",
              "    </tr>\n",
              "    <tr>\n",
              "      <th>5041</th>\n",
              "      <td>Color</td>\n",
              "      <td>Daniel Hsia</td>\n",
              "      <td>14.0</td>\n",
              "      <td>100.0</td>\n",
              "      <td>0.0</td>\n",
              "      <td>489.0</td>\n",
              "      <td>Daniel Henney</td>\n",
              "      <td>946.0</td>\n",
              "      <td>10443.0</td>\n",
              "      <td>Comedy|Drama|Romance</td>\n",
              "      <td>Alan Ruck</td>\n",
              "      <td>Shanghai Calling</td>\n",
              "      <td>1255</td>\n",
              "      <td>2386</td>\n",
              "      <td>Eliza Coupe</td>\n",
              "      <td>5.0</td>\n",
              "      <td>NaN</td>\n",
              "      <td>http://www.imdb.com/title/tt2070597/?ref_=fn_t...</td>\n",
              "      <td>9.0</td>\n",
              "      <td>English</td>\n",
              "      <td>USA</td>\n",
              "      <td>PG-13</td>\n",
              "      <td>NaN</td>\n",
              "      <td>2012.0</td>\n",
              "      <td>719.0</td>\n",
              "      <td>6.3</td>\n",
              "      <td>2.35</td>\n",
              "      <td>660</td>\n",
              "    </tr>\n",
              "    <tr>\n",
              "      <th>5042</th>\n",
              "      <td>Color</td>\n",
              "      <td>Jon Gunn</td>\n",
              "      <td>43.0</td>\n",
              "      <td>90.0</td>\n",
              "      <td>16.0</td>\n",
              "      <td>16.0</td>\n",
              "      <td>Brian Herzlinger</td>\n",
              "      <td>86.0</td>\n",
              "      <td>85222.0</td>\n",
              "      <td>Documentary</td>\n",
              "      <td>John August</td>\n",
              "      <td>My Date with Drew</td>\n",
              "      <td>4285</td>\n",
              "      <td>163</td>\n",
              "      <td>Jon Gunn</td>\n",
              "      <td>0.0</td>\n",
              "      <td>actress name in title|crush|date|four word tit...</td>\n",
              "      <td>http://www.imdb.com/title/tt0378407/?ref_=fn_t...</td>\n",
              "      <td>84.0</td>\n",
              "      <td>English</td>\n",
              "      <td>USA</td>\n",
              "      <td>PG</td>\n",
              "      <td>1100.0</td>\n",
              "      <td>2004.0</td>\n",
              "      <td>23.0</td>\n",
              "      <td>6.6</td>\n",
              "      <td>1.85</td>\n",
              "      <td>456</td>\n",
              "    </tr>\n",
              "  </tbody>\n",
              "</table>\n",
              "<p>4998 rows × 28 columns</p>\n",
              "</div>"
            ],
            "text/plain": [
              "      color      director_name  ...  aspect_ratio  movie_facebook_likes\n",
              "0     Color      James Cameron  ...          1.78                 33000\n",
              "1     Color     Gore Verbinski  ...          2.35                     0\n",
              "2     Color         Sam Mendes  ...          2.35                 85000\n",
              "3     Color  Christopher Nolan  ...          2.35                164000\n",
              "4       NaN        Doug Walker  ...           NaN                     0\n",
              "...     ...                ...  ...           ...                   ...\n",
              "5038  Color        Scott Smith  ...           NaN                    84\n",
              "5039  Color                NaN  ...         16.00                 32000\n",
              "5040  Color   Benjamin Roberds  ...           NaN                    16\n",
              "5041  Color        Daniel Hsia  ...          2.35                   660\n",
              "5042  Color           Jon Gunn  ...          1.85                   456\n",
              "\n",
              "[4998 rows x 28 columns]"
            ]
          },
          "metadata": {
            "tags": []
          },
          "execution_count": 17
        }
      ]
    },
    {
      "cell_type": "code",
      "metadata": {
        "id": "VG_51Q3P5XpQ",
        "colab_type": "code",
        "outputId": "7799ae7d-3b14-4df3-a02a-4741f01b1c79",
        "colab": {
          "base_uri": "https://localhost:8080/",
          "height": 35
        }
      },
      "source": [
        "df.shape"
      ],
      "execution_count": 0,
      "outputs": [
        {
          "output_type": "execute_result",
          "data": {
            "text/plain": [
              "(5043, 28)"
            ]
          },
          "metadata": {
            "tags": []
          },
          "execution_count": 18
        }
      ]
    },
    {
      "cell_type": "code",
      "metadata": {
        "id": "88n04lyv5Xbs",
        "colab_type": "code",
        "outputId": "b823b897-8705-4924-db65-7bc4acf4f52d",
        "colab": {
          "base_uri": "https://localhost:8080/",
          "height": 557
        }
      },
      "source": [
        "help(df.drop_duplicates)"
      ],
      "execution_count": 0,
      "outputs": [
        {
          "output_type": "stream",
          "text": [
            "Help on method drop_duplicates in module pandas.core.frame:\n",
            "\n",
            "drop_duplicates(subset:collections.abc.Hashable=None, keep:Union[str, bool]='first', inplace:bool=False, ignore_index:bool=False) -> Union[_ForwardRef('DataFrame'), NoneType] method of pandas.core.frame.DataFrame instance\n",
            "    Return DataFrame with duplicate rows removed.\n",
            "    \n",
            "    Considering certain columns is optional. Indexes, including time indexes\n",
            "    are ignored.\n",
            "    \n",
            "    Parameters\n",
            "    ----------\n",
            "    subset : column label or sequence of labels, optional\n",
            "        Only consider certain columns for identifying duplicates, by\n",
            "        default use all of the columns.\n",
            "    keep : {'first', 'last', False}, default 'first'\n",
            "        Determines which duplicates (if any) to keep.\n",
            "        - ``first`` : Drop duplicates except for the first occurrence.\n",
            "        - ``last`` : Drop duplicates except for the last occurrence.\n",
            "        - False : Drop all duplicates.\n",
            "    inplace : bool, default False\n",
            "        Whether to drop duplicates in place or to return a copy.\n",
            "    ignore_index : bool, default False\n",
            "        If True, the resulting axis will be labeled 0, 1, …, n - 1.\n",
            "    \n",
            "        .. versionadded:: 1.0.0\n",
            "    \n",
            "    Returns\n",
            "    -------\n",
            "    DataFrame\n",
            "        DataFrame with duplicates removed or None if ``inplace=True``.\n",
            "\n"
          ],
          "name": "stdout"
        }
      ]
    },
    {
      "cell_type": "code",
      "metadata": {
        "id": "ZTdaiLi15G16",
        "colab_type": "code",
        "outputId": "f7a14d61-f05f-420b-85c4-aa55b715550e",
        "colab": {
          "base_uri": "https://localhost:8080/",
          "height": 678
        }
      },
      "source": [
        "df.drop_duplicates(\"movie_title\")"
      ],
      "execution_count": 0,
      "outputs": [
        {
          "output_type": "execute_result",
          "data": {
            "text/html": [
              "<div>\n",
              "<style scoped>\n",
              "    .dataframe tbody tr th:only-of-type {\n",
              "        vertical-align: middle;\n",
              "    }\n",
              "\n",
              "    .dataframe tbody tr th {\n",
              "        vertical-align: top;\n",
              "    }\n",
              "\n",
              "    .dataframe thead th {\n",
              "        text-align: right;\n",
              "    }\n",
              "</style>\n",
              "<table border=\"1\" class=\"dataframe\">\n",
              "  <thead>\n",
              "    <tr style=\"text-align: right;\">\n",
              "      <th></th>\n",
              "      <th>color</th>\n",
              "      <th>director_name</th>\n",
              "      <th>num_critic_for_reviews</th>\n",
              "      <th>duration</th>\n",
              "      <th>director_facebook_likes</th>\n",
              "      <th>actor_3_facebook_likes</th>\n",
              "      <th>actor_2_name</th>\n",
              "      <th>actor_1_facebook_likes</th>\n",
              "      <th>gross</th>\n",
              "      <th>genres</th>\n",
              "      <th>actor_1_name</th>\n",
              "      <th>movie_title</th>\n",
              "      <th>num_voted_users</th>\n",
              "      <th>cast_total_facebook_likes</th>\n",
              "      <th>actor_3_name</th>\n",
              "      <th>facenumber_in_poster</th>\n",
              "      <th>plot_keywords</th>\n",
              "      <th>movie_imdb_link</th>\n",
              "      <th>num_user_for_reviews</th>\n",
              "      <th>language</th>\n",
              "      <th>country</th>\n",
              "      <th>content_rating</th>\n",
              "      <th>budget</th>\n",
              "      <th>title_year</th>\n",
              "      <th>actor_2_facebook_likes</th>\n",
              "      <th>imdb_score</th>\n",
              "      <th>aspect_ratio</th>\n",
              "      <th>movie_facebook_likes</th>\n",
              "    </tr>\n",
              "  </thead>\n",
              "  <tbody>\n",
              "    <tr>\n",
              "      <th>0</th>\n",
              "      <td>Color</td>\n",
              "      <td>James Cameron</td>\n",
              "      <td>723.0</td>\n",
              "      <td>178.0</td>\n",
              "      <td>0.0</td>\n",
              "      <td>855.0</td>\n",
              "      <td>Joel David Moore</td>\n",
              "      <td>1000.0</td>\n",
              "      <td>760505847.0</td>\n",
              "      <td>Action|Adventure|Fantasy|Sci-Fi</td>\n",
              "      <td>CCH Pounder</td>\n",
              "      <td>Avatar</td>\n",
              "      <td>886204</td>\n",
              "      <td>4834</td>\n",
              "      <td>Wes Studi</td>\n",
              "      <td>0.0</td>\n",
              "      <td>avatar|future|marine|native|paraplegic</td>\n",
              "      <td>http://www.imdb.com/title/tt0499549/?ref_=fn_t...</td>\n",
              "      <td>3054.0</td>\n",
              "      <td>English</td>\n",
              "      <td>USA</td>\n",
              "      <td>PG-13</td>\n",
              "      <td>237000000.0</td>\n",
              "      <td>2009.0</td>\n",
              "      <td>936.0</td>\n",
              "      <td>7.9</td>\n",
              "      <td>1.78</td>\n",
              "      <td>33000</td>\n",
              "    </tr>\n",
              "    <tr>\n",
              "      <th>1</th>\n",
              "      <td>Color</td>\n",
              "      <td>Gore Verbinski</td>\n",
              "      <td>302.0</td>\n",
              "      <td>169.0</td>\n",
              "      <td>563.0</td>\n",
              "      <td>1000.0</td>\n",
              "      <td>Orlando Bloom</td>\n",
              "      <td>40000.0</td>\n",
              "      <td>309404152.0</td>\n",
              "      <td>Action|Adventure|Fantasy</td>\n",
              "      <td>Johnny Depp</td>\n",
              "      <td>Pirates of the Caribbean: At World's End</td>\n",
              "      <td>471220</td>\n",
              "      <td>48350</td>\n",
              "      <td>Jack Davenport</td>\n",
              "      <td>0.0</td>\n",
              "      <td>goddess|marriage ceremony|marriage proposal|pi...</td>\n",
              "      <td>http://www.imdb.com/title/tt0449088/?ref_=fn_t...</td>\n",
              "      <td>1238.0</td>\n",
              "      <td>English</td>\n",
              "      <td>USA</td>\n",
              "      <td>PG-13</td>\n",
              "      <td>300000000.0</td>\n",
              "      <td>2007.0</td>\n",
              "      <td>5000.0</td>\n",
              "      <td>7.1</td>\n",
              "      <td>2.35</td>\n",
              "      <td>0</td>\n",
              "    </tr>\n",
              "    <tr>\n",
              "      <th>2</th>\n",
              "      <td>Color</td>\n",
              "      <td>Sam Mendes</td>\n",
              "      <td>602.0</td>\n",
              "      <td>148.0</td>\n",
              "      <td>0.0</td>\n",
              "      <td>161.0</td>\n",
              "      <td>Rory Kinnear</td>\n",
              "      <td>11000.0</td>\n",
              "      <td>200074175.0</td>\n",
              "      <td>Action|Adventure|Thriller</td>\n",
              "      <td>Christoph Waltz</td>\n",
              "      <td>Spectre</td>\n",
              "      <td>275868</td>\n",
              "      <td>11700</td>\n",
              "      <td>Stephanie Sigman</td>\n",
              "      <td>1.0</td>\n",
              "      <td>bomb|espionage|sequel|spy|terrorist</td>\n",
              "      <td>http://www.imdb.com/title/tt2379713/?ref_=fn_t...</td>\n",
              "      <td>994.0</td>\n",
              "      <td>English</td>\n",
              "      <td>UK</td>\n",
              "      <td>PG-13</td>\n",
              "      <td>245000000.0</td>\n",
              "      <td>2015.0</td>\n",
              "      <td>393.0</td>\n",
              "      <td>6.8</td>\n",
              "      <td>2.35</td>\n",
              "      <td>85000</td>\n",
              "    </tr>\n",
              "    <tr>\n",
              "      <th>3</th>\n",
              "      <td>Color</td>\n",
              "      <td>Christopher Nolan</td>\n",
              "      <td>813.0</td>\n",
              "      <td>164.0</td>\n",
              "      <td>22000.0</td>\n",
              "      <td>23000.0</td>\n",
              "      <td>Christian Bale</td>\n",
              "      <td>27000.0</td>\n",
              "      <td>448130642.0</td>\n",
              "      <td>Action|Thriller</td>\n",
              "      <td>Tom Hardy</td>\n",
              "      <td>The Dark Knight Rises</td>\n",
              "      <td>1144337</td>\n",
              "      <td>106759</td>\n",
              "      <td>Joseph Gordon-Levitt</td>\n",
              "      <td>0.0</td>\n",
              "      <td>deception|imprisonment|lawlessness|police offi...</td>\n",
              "      <td>http://www.imdb.com/title/tt1345836/?ref_=fn_t...</td>\n",
              "      <td>2701.0</td>\n",
              "      <td>English</td>\n",
              "      <td>USA</td>\n",
              "      <td>PG-13</td>\n",
              "      <td>250000000.0</td>\n",
              "      <td>2012.0</td>\n",
              "      <td>23000.0</td>\n",
              "      <td>8.5</td>\n",
              "      <td>2.35</td>\n",
              "      <td>164000</td>\n",
              "    </tr>\n",
              "    <tr>\n",
              "      <th>4</th>\n",
              "      <td>NaN</td>\n",
              "      <td>Doug Walker</td>\n",
              "      <td>NaN</td>\n",
              "      <td>NaN</td>\n",
              "      <td>131.0</td>\n",
              "      <td>NaN</td>\n",
              "      <td>Rob Walker</td>\n",
              "      <td>131.0</td>\n",
              "      <td>NaN</td>\n",
              "      <td>Documentary</td>\n",
              "      <td>Doug Walker</td>\n",
              "      <td>Star Wars: Episode VII - The Force Awakens    ...</td>\n",
              "      <td>8</td>\n",
              "      <td>143</td>\n",
              "      <td>NaN</td>\n",
              "      <td>0.0</td>\n",
              "      <td>NaN</td>\n",
              "      <td>http://www.imdb.com/title/tt5289954/?ref_=fn_t...</td>\n",
              "      <td>NaN</td>\n",
              "      <td>NaN</td>\n",
              "      <td>NaN</td>\n",
              "      <td>NaN</td>\n",
              "      <td>NaN</td>\n",
              "      <td>NaN</td>\n",
              "      <td>12.0</td>\n",
              "      <td>7.1</td>\n",
              "      <td>NaN</td>\n",
              "      <td>0</td>\n",
              "    </tr>\n",
              "    <tr>\n",
              "      <th>...</th>\n",
              "      <td>...</td>\n",
              "      <td>...</td>\n",
              "      <td>...</td>\n",
              "      <td>...</td>\n",
              "      <td>...</td>\n",
              "      <td>...</td>\n",
              "      <td>...</td>\n",
              "      <td>...</td>\n",
              "      <td>...</td>\n",
              "      <td>...</td>\n",
              "      <td>...</td>\n",
              "      <td>...</td>\n",
              "      <td>...</td>\n",
              "      <td>...</td>\n",
              "      <td>...</td>\n",
              "      <td>...</td>\n",
              "      <td>...</td>\n",
              "      <td>...</td>\n",
              "      <td>...</td>\n",
              "      <td>...</td>\n",
              "      <td>...</td>\n",
              "      <td>...</td>\n",
              "      <td>...</td>\n",
              "      <td>...</td>\n",
              "      <td>...</td>\n",
              "      <td>...</td>\n",
              "      <td>...</td>\n",
              "      <td>...</td>\n",
              "    </tr>\n",
              "    <tr>\n",
              "      <th>5038</th>\n",
              "      <td>Color</td>\n",
              "      <td>Scott Smith</td>\n",
              "      <td>1.0</td>\n",
              "      <td>87.0</td>\n",
              "      <td>2.0</td>\n",
              "      <td>318.0</td>\n",
              "      <td>Daphne Zuniga</td>\n",
              "      <td>637.0</td>\n",
              "      <td>NaN</td>\n",
              "      <td>Comedy|Drama</td>\n",
              "      <td>Eric Mabius</td>\n",
              "      <td>Signed Sealed Delivered</td>\n",
              "      <td>629</td>\n",
              "      <td>2283</td>\n",
              "      <td>Crystal Lowe</td>\n",
              "      <td>2.0</td>\n",
              "      <td>fraud|postal worker|prison|theft|trial</td>\n",
              "      <td>http://www.imdb.com/title/tt3000844/?ref_=fn_t...</td>\n",
              "      <td>6.0</td>\n",
              "      <td>English</td>\n",
              "      <td>Canada</td>\n",
              "      <td>NaN</td>\n",
              "      <td>NaN</td>\n",
              "      <td>2013.0</td>\n",
              "      <td>470.0</td>\n",
              "      <td>7.7</td>\n",
              "      <td>NaN</td>\n",
              "      <td>84</td>\n",
              "    </tr>\n",
              "    <tr>\n",
              "      <th>5039</th>\n",
              "      <td>Color</td>\n",
              "      <td>NaN</td>\n",
              "      <td>43.0</td>\n",
              "      <td>43.0</td>\n",
              "      <td>NaN</td>\n",
              "      <td>319.0</td>\n",
              "      <td>Valorie Curry</td>\n",
              "      <td>841.0</td>\n",
              "      <td>NaN</td>\n",
              "      <td>Crime|Drama|Mystery|Thriller</td>\n",
              "      <td>Natalie Zea</td>\n",
              "      <td>The Following</td>\n",
              "      <td>73839</td>\n",
              "      <td>1753</td>\n",
              "      <td>Sam Underwood</td>\n",
              "      <td>1.0</td>\n",
              "      <td>cult|fbi|hideout|prison escape|serial killer</td>\n",
              "      <td>http://www.imdb.com/title/tt2071645/?ref_=fn_t...</td>\n",
              "      <td>359.0</td>\n",
              "      <td>English</td>\n",
              "      <td>USA</td>\n",
              "      <td>TV-14</td>\n",
              "      <td>NaN</td>\n",
              "      <td>NaN</td>\n",
              "      <td>593.0</td>\n",
              "      <td>7.5</td>\n",
              "      <td>16.00</td>\n",
              "      <td>32000</td>\n",
              "    </tr>\n",
              "    <tr>\n",
              "      <th>5040</th>\n",
              "      <td>Color</td>\n",
              "      <td>Benjamin Roberds</td>\n",
              "      <td>13.0</td>\n",
              "      <td>76.0</td>\n",
              "      <td>0.0</td>\n",
              "      <td>0.0</td>\n",
              "      <td>Maxwell Moody</td>\n",
              "      <td>0.0</td>\n",
              "      <td>NaN</td>\n",
              "      <td>Drama|Horror|Thriller</td>\n",
              "      <td>Eva Boehnke</td>\n",
              "      <td>A Plague So Pleasant</td>\n",
              "      <td>38</td>\n",
              "      <td>0</td>\n",
              "      <td>David Chandler</td>\n",
              "      <td>0.0</td>\n",
              "      <td>NaN</td>\n",
              "      <td>http://www.imdb.com/title/tt2107644/?ref_=fn_t...</td>\n",
              "      <td>3.0</td>\n",
              "      <td>English</td>\n",
              "      <td>USA</td>\n",
              "      <td>NaN</td>\n",
              "      <td>1400.0</td>\n",
              "      <td>2013.0</td>\n",
              "      <td>0.0</td>\n",
              "      <td>6.3</td>\n",
              "      <td>NaN</td>\n",
              "      <td>16</td>\n",
              "    </tr>\n",
              "    <tr>\n",
              "      <th>5041</th>\n",
              "      <td>Color</td>\n",
              "      <td>Daniel Hsia</td>\n",
              "      <td>14.0</td>\n",
              "      <td>100.0</td>\n",
              "      <td>0.0</td>\n",
              "      <td>489.0</td>\n",
              "      <td>Daniel Henney</td>\n",
              "      <td>946.0</td>\n",
              "      <td>10443.0</td>\n",
              "      <td>Comedy|Drama|Romance</td>\n",
              "      <td>Alan Ruck</td>\n",
              "      <td>Shanghai Calling</td>\n",
              "      <td>1255</td>\n",
              "      <td>2386</td>\n",
              "      <td>Eliza Coupe</td>\n",
              "      <td>5.0</td>\n",
              "      <td>NaN</td>\n",
              "      <td>http://www.imdb.com/title/tt2070597/?ref_=fn_t...</td>\n",
              "      <td>9.0</td>\n",
              "      <td>English</td>\n",
              "      <td>USA</td>\n",
              "      <td>PG-13</td>\n",
              "      <td>NaN</td>\n",
              "      <td>2012.0</td>\n",
              "      <td>719.0</td>\n",
              "      <td>6.3</td>\n",
              "      <td>2.35</td>\n",
              "      <td>660</td>\n",
              "    </tr>\n",
              "    <tr>\n",
              "      <th>5042</th>\n",
              "      <td>Color</td>\n",
              "      <td>Jon Gunn</td>\n",
              "      <td>43.0</td>\n",
              "      <td>90.0</td>\n",
              "      <td>16.0</td>\n",
              "      <td>16.0</td>\n",
              "      <td>Brian Herzlinger</td>\n",
              "      <td>86.0</td>\n",
              "      <td>85222.0</td>\n",
              "      <td>Documentary</td>\n",
              "      <td>John August</td>\n",
              "      <td>My Date with Drew</td>\n",
              "      <td>4285</td>\n",
              "      <td>163</td>\n",
              "      <td>Jon Gunn</td>\n",
              "      <td>0.0</td>\n",
              "      <td>actress name in title|crush|date|four word tit...</td>\n",
              "      <td>http://www.imdb.com/title/tt0378407/?ref_=fn_t...</td>\n",
              "      <td>84.0</td>\n",
              "      <td>English</td>\n",
              "      <td>USA</td>\n",
              "      <td>PG</td>\n",
              "      <td>1100.0</td>\n",
              "      <td>2004.0</td>\n",
              "      <td>23.0</td>\n",
              "      <td>6.6</td>\n",
              "      <td>1.85</td>\n",
              "      <td>456</td>\n",
              "    </tr>\n",
              "  </tbody>\n",
              "</table>\n",
              "<p>4917 rows × 28 columns</p>\n",
              "</div>"
            ],
            "text/plain": [
              "      color      director_name  ...  aspect_ratio  movie_facebook_likes\n",
              "0     Color      James Cameron  ...          1.78                 33000\n",
              "1     Color     Gore Verbinski  ...          2.35                     0\n",
              "2     Color         Sam Mendes  ...          2.35                 85000\n",
              "3     Color  Christopher Nolan  ...          2.35                164000\n",
              "4       NaN        Doug Walker  ...           NaN                     0\n",
              "...     ...                ...  ...           ...                   ...\n",
              "5038  Color        Scott Smith  ...           NaN                    84\n",
              "5039  Color                NaN  ...         16.00                 32000\n",
              "5040  Color   Benjamin Roberds  ...           NaN                    16\n",
              "5041  Color        Daniel Hsia  ...          2.35                   660\n",
              "5042  Color           Jon Gunn  ...          1.85                   456\n",
              "\n",
              "[4917 rows x 28 columns]"
            ]
          },
          "metadata": {
            "tags": []
          },
          "execution_count": 20
        }
      ]
    },
    {
      "cell_type": "code",
      "metadata": {
        "id": "TfDeDmxn49En",
        "colab_type": "code",
        "colab": {}
      },
      "source": [
        "is it modifying the value in df?"
      ],
      "execution_count": 0,
      "outputs": []
    },
    {
      "cell_type": "code",
      "metadata": {
        "id": "FjPHVDoF49Cg",
        "colab_type": "code",
        "outputId": "295405ad-42f3-4933-c600-807574e924ab",
        "colab": {
          "base_uri": "https://localhost:8080/",
          "height": 52
        }
      },
      "source": [
        "data = df.drop_duplicates(\"movie_title\")\n",
        "print(data.shape)\n",
        "print(df.shape)"
      ],
      "execution_count": 0,
      "outputs": [
        {
          "output_type": "stream",
          "text": [
            "(4917, 28)\n",
            "(5043, 28)\n"
          ],
          "name": "stdout"
        }
      ]
    },
    {
      "cell_type": "code",
      "metadata": {
        "id": "WJb3O-_x49AM",
        "colab_type": "code",
        "outputId": "5842ec62-a34c-449d-ea86-8a5b4490f5ee",
        "colab": {
          "base_uri": "https://localhost:8080/",
          "height": 35
        }
      },
      "source": [
        "data.movie_title.nunique()"
      ],
      "execution_count": 0,
      "outputs": [
        {
          "output_type": "execute_result",
          "data": {
            "text/plain": [
              "4917"
            ]
          },
          "metadata": {
            "tags": []
          },
          "execution_count": 22
        }
      ]
    },
    {
      "cell_type": "code",
      "metadata": {
        "id": "DoSdd8AJ4kJO",
        "colab_type": "code",
        "outputId": "5302e424-845c-45d9-b522-bf9421877a13",
        "colab": {
          "base_uri": "https://localhost:8080/",
          "height": 520
        }
      },
      "source": [
        "data.isnull().sum()"
      ],
      "execution_count": 0,
      "outputs": [
        {
          "output_type": "execute_result",
          "data": {
            "text/plain": [
              "color                         19\n",
              "director_name                102\n",
              "num_critic_for_reviews        49\n",
              "duration                      15\n",
              "director_facebook_likes      102\n",
              "actor_3_facebook_likes        23\n",
              "actor_2_name                  13\n",
              "actor_1_facebook_likes         7\n",
              "gross                        863\n",
              "genres                         0\n",
              "actor_1_name                   7\n",
              "movie_title                    0\n",
              "num_voted_users                0\n",
              "cast_total_facebook_likes      0\n",
              "actor_3_name                  23\n",
              "facenumber_in_poster          13\n",
              "plot_keywords                152\n",
              "movie_imdb_link                0\n",
              "num_user_for_reviews          21\n",
              "language                      12\n",
              "country                        5\n",
              "content_rating               300\n",
              "budget                       484\n",
              "title_year                   106\n",
              "actor_2_facebook_likes        13\n",
              "imdb_score                     0\n",
              "aspect_ratio                 326\n",
              "movie_facebook_likes           0\n",
              "dtype: int64"
            ]
          },
          "metadata": {
            "tags": []
          },
          "execution_count": 23
        }
      ]
    },
    {
      "cell_type": "code",
      "metadata": {
        "id": "XS3sTqh54kV9",
        "colab_type": "code",
        "outputId": "13ba1433-0fc0-46d8-f8bd-57027dd13cd4",
        "colab": {
          "base_uri": "https://localhost:8080/",
          "height": 225
        }
      },
      "source": [
        "data.gross"
      ],
      "execution_count": 0,
      "outputs": [
        {
          "output_type": "execute_result",
          "data": {
            "text/plain": [
              "0       760505847.0\n",
              "1       309404152.0\n",
              "2       200074175.0\n",
              "3       448130642.0\n",
              "4               NaN\n",
              "           ...     \n",
              "5038            NaN\n",
              "5039            NaN\n",
              "5040            NaN\n",
              "5041        10443.0\n",
              "5042        85222.0\n",
              "Name: gross, Length: 4917, dtype: float64"
            ]
          },
          "metadata": {
            "tags": []
          },
          "execution_count": 24
        }
      ]
    },
    {
      "cell_type": "code",
      "metadata": {
        "id": "OMPGesNj4kd5",
        "colab_type": "code",
        "outputId": "0ab9b050-f6c9-4495-f143-4bd39c192540",
        "colab": {
          "base_uri": "https://localhost:8080/",
          "height": 225
        }
      },
      "source": [
        "data.budget"
      ],
      "execution_count": 0,
      "outputs": [
        {
          "output_type": "execute_result",
          "data": {
            "text/plain": [
              "0       237000000.0\n",
              "1       300000000.0\n",
              "2       245000000.0\n",
              "3       250000000.0\n",
              "4               NaN\n",
              "           ...     \n",
              "5038            NaN\n",
              "5039            NaN\n",
              "5040         1400.0\n",
              "5041            NaN\n",
              "5042         1100.0\n",
              "Name: budget, Length: 4917, dtype: float64"
            ]
          },
          "metadata": {
            "tags": []
          },
          "execution_count": 25
        }
      ]
    },
    {
      "cell_type": "code",
      "metadata": {
        "id": "uIWIe9mV4kbU",
        "colab_type": "code",
        "outputId": "7ee4869b-d60c-43e9-ecf7-df8fbe145429",
        "colab": {
          "base_uri": "https://localhost:8080/",
          "height": 307
        }
      },
      "source": [
        "plt.scatter(data.gross,data.budget)"
      ],
      "execution_count": 0,
      "outputs": [
        {
          "output_type": "execute_result",
          "data": {
            "text/plain": [
              "<matplotlib.collections.PathCollection at 0x7fb568bb9da0>"
            ]
          },
          "metadata": {
            "tags": []
          },
          "execution_count": 26
        },
        {
          "output_type": "display_data",
          "data": {
            "image/png": "[encoded data removed]",
            "text/plain": [
              "<Figure size 432x288 with 1 Axes>"
            ]
          },
          "metadata": {
            "tags": []
          }
        }
      ]
    },
    {
      "cell_type": "code",
      "metadata": {
        "id": "DqKXH5Au4kTq",
        "colab_type": "code",
        "colab": {}
      },
      "source": [
        "numerical_cols = data.columns[data.dtypes != object]"
      ],
      "execution_count": 0,
      "outputs": []
    },
    {
      "cell_type": "code",
      "metadata": {
        "id": "pR7euI864kRy",
        "colab_type": "code",
        "outputId": "cdfbfd8f-4d7b-416d-81a6-c78266cb9977",
        "colab": {
          "base_uri": "https://localhost:8080/",
          "height": 35
        }
      },
      "source": [
        "(data.dtypes != object).sum()"
      ],
      "execution_count": 0,
      "outputs": [
        {
          "output_type": "execute_result",
          "data": {
            "text/plain": [
              "16"
            ]
          },
          "metadata": {
            "tags": []
          },
          "execution_count": 28
        }
      ]
    },
    {
      "cell_type": "code",
      "metadata": {
        "id": "OqGK5rno4kQW",
        "colab_type": "code",
        "outputId": "31a5aaab-bf0b-43a4-b823-d2eb29c320c3",
        "colab": {
          "base_uri": "https://localhost:8080/",
          "height": 1000
        }
      },
      "source": [
        "for ind in range((data.dtypes != object).sum()):\n",
        "    plt.subplot(4,4,ind+1)\n",
        "    plt.boxplot(data[numerical_cols[ind]])"
      ],
      "execution_count": 0,
      "outputs": [
        {
          "output_type": "stream",
          "text": [
            "/usr/local/lib/python3.6/dist-packages/matplotlib/cbook/__init__.py:1239: RuntimeWarning: invalid value encountered in less_equal\n",
            "  wiskhi = x[x <= hival]\n",
            "/usr/local/lib/python3.6/dist-packages/matplotlib/cbook/__init__.py:1246: RuntimeWarning: invalid value encountered in greater_equal\n",
            "  wisklo = x[x >= loval]\n",
            "/usr/local/lib/python3.6/dist-packages/matplotlib/cbook/__init__.py:1254: RuntimeWarning: invalid value encountered in less\n",
            "  x[x < stats['whislo']],\n",
            "/usr/local/lib/python3.6/dist-packages/matplotlib/cbook/__init__.py:1255: RuntimeWarning: invalid value encountered in greater\n",
            "  x[x > stats['whishi']],\n",
            "/usr/local/lib/python3.6/dist-packages/matplotlib/cbook/__init__.py:1239: RuntimeWarning: invalid value encountered in less_equal\n",
            "  wiskhi = x[x <= hival]\n",
            "/usr/local/lib/python3.6/dist-packages/matplotlib/cbook/__init__.py:1246: RuntimeWarning: invalid value encountered in greater_equal\n",
            "  wisklo = x[x >= loval]\n",
            "/usr/local/lib/python3.6/dist-packages/matplotlib/cbook/__init__.py:1254: RuntimeWarning: invalid value encountered in less\n",
            "  x[x < stats['whislo']],\n",
            "/usr/local/lib/python3.6/dist-packages/matplotlib/cbook/__init__.py:1255: RuntimeWarning: invalid value encountered in greater\n",
            "  x[x > stats['whishi']],\n",
            "/usr/local/lib/python3.6/dist-packages/matplotlib/cbook/__init__.py:1239: RuntimeWarning: invalid value encountered in less_equal\n",
            "  wiskhi = x[x <= hival]\n",
            "/usr/local/lib/python3.6/dist-packages/matplotlib/cbook/__init__.py:1246: RuntimeWarning: invalid value encountered in greater_equal\n",
            "  wisklo = x[x >= loval]\n",
            "/usr/local/lib/python3.6/dist-packages/matplotlib/cbook/__init__.py:1254: RuntimeWarning: invalid value encountered in less\n",
            "  x[x < stats['whislo']],\n",
            "/usr/local/lib/python3.6/dist-packages/matplotlib/cbook/__init__.py:1255: RuntimeWarning: invalid value encountered in greater\n",
            "  x[x > stats['whishi']],\n",
            "/usr/local/lib/python3.6/dist-packages/matplotlib/cbook/__init__.py:1239: RuntimeWarning: invalid value encountered in less_equal\n",
            "  wiskhi = x[x <= hival]\n",
            "/usr/local/lib/python3.6/dist-packages/matplotlib/cbook/__init__.py:1246: RuntimeWarning: invalid value encountered in greater_equal\n",
            "  wisklo = x[x >= loval]\n",
            "/usr/local/lib/python3.6/dist-packages/matplotlib/cbook/__init__.py:1254: RuntimeWarning: invalid value encountered in less\n",
            "  x[x < stats['whislo']],\n",
            "/usr/local/lib/python3.6/dist-packages/matplotlib/cbook/__init__.py:1255: RuntimeWarning: invalid value encountered in greater\n",
            "  x[x > stats['whishi']],\n",
            "/usr/local/lib/python3.6/dist-packages/matplotlib/cbook/__init__.py:1239: RuntimeWarning: invalid value encountered in less_equal\n",
            "  wiskhi = x[x <= hival]\n",
            "/usr/local/lib/python3.6/dist-packages/matplotlib/cbook/__init__.py:1246: RuntimeWarning: invalid value encountered in greater_equal\n",
            "  wisklo = x[x >= loval]\n",
            "/usr/local/lib/python3.6/dist-packages/matplotlib/cbook/__init__.py:1254: RuntimeWarning: invalid value encountered in less\n",
            "  x[x < stats['whislo']],\n",
            "/usr/local/lib/python3.6/dist-packages/matplotlib/cbook/__init__.py:1255: RuntimeWarning: invalid value encountered in greater\n",
            "  x[x > stats['whishi']],\n",
            "/usr/local/lib/python3.6/dist-packages/matplotlib/cbook/__init__.py:1239: RuntimeWarning: invalid value encountered in less_equal\n",
            "  wiskhi = x[x <= hival]\n",
            "/usr/local/lib/python3.6/dist-packages/matplotlib/cbook/__init__.py:1246: RuntimeWarning: invalid value encountered in greater_equal\n",
            "  wisklo = x[x >= loval]\n",
            "/usr/local/lib/python3.6/dist-packages/matplotlib/cbook/__init__.py:1254: RuntimeWarning: invalid value encountered in less\n",
            "  x[x < stats['whislo']],\n",
            "/usr/local/lib/python3.6/dist-packages/matplotlib/cbook/__init__.py:1255: RuntimeWarning: invalid value encountered in greater\n",
            "  x[x > stats['whishi']],\n",
            "/usr/local/lib/python3.6/dist-packages/matplotlib/cbook/__init__.py:1239: RuntimeWarning: invalid value encountered in less_equal\n",
            "  wiskhi = x[x <= hival]\n",
            "/usr/local/lib/python3.6/dist-packages/matplotlib/cbook/__init__.py:1246: RuntimeWarning: invalid value encountered in greater_equal\n",
            "  wisklo = x[x >= loval]\n",
            "/usr/local/lib/python3.6/dist-packages/matplotlib/cbook/__init__.py:1254: RuntimeWarning: invalid value encountered in less\n",
            "  x[x < stats['whislo']],\n",
            "/usr/local/lib/python3.6/dist-packages/matplotlib/cbook/__init__.py:1255: RuntimeWarning: invalid value encountered in greater\n",
            "  x[x > stats['whishi']],\n",
            "/usr/local/lib/python3.6/dist-packages/matplotlib/cbook/__init__.py:1239: RuntimeWarning: invalid value encountered in less_equal\n",
            "  wiskhi = x[x <= hival]\n",
            "/usr/local/lib/python3.6/dist-packages/matplotlib/cbook/__init__.py:1246: RuntimeWarning: invalid value encountered in greater_equal\n",
            "  wisklo = x[x >= loval]\n",
            "/usr/local/lib/python3.6/dist-packages/matplotlib/cbook/__init__.py:1254: RuntimeWarning: invalid value encountered in less\n",
            "  x[x < stats['whislo']],\n",
            "/usr/local/lib/python3.6/dist-packages/matplotlib/cbook/__init__.py:1255: RuntimeWarning: invalid value encountered in greater\n",
            "  x[x > stats['whishi']],\n",
            "/usr/local/lib/python3.6/dist-packages/matplotlib/cbook/__init__.py:1239: RuntimeWarning: invalid value encountered in less_equal\n",
            "  wiskhi = x[x <= hival]\n",
            "/usr/local/lib/python3.6/dist-packages/matplotlib/cbook/__init__.py:1246: RuntimeWarning: invalid value encountered in greater_equal\n",
            "  wisklo = x[x >= loval]\n",
            "/usr/local/lib/python3.6/dist-packages/matplotlib/cbook/__init__.py:1254: RuntimeWarning: invalid value encountered in less\n",
            "  x[x < stats['whislo']],\n",
            "/usr/local/lib/python3.6/dist-packages/matplotlib/cbook/__init__.py:1255: RuntimeWarning: invalid value encountered in greater\n",
            "  x[x > stats['whishi']],\n",
            "/usr/local/lib/python3.6/dist-packages/matplotlib/cbook/__init__.py:1239: RuntimeWarning: invalid value encountered in less_equal\n",
            "  wiskhi = x[x <= hival]\n",
            "/usr/local/lib/python3.6/dist-packages/matplotlib/cbook/__init__.py:1246: RuntimeWarning: invalid value encountered in greater_equal\n",
            "  wisklo = x[x >= loval]\n",
            "/usr/local/lib/python3.6/dist-packages/matplotlib/cbook/__init__.py:1254: RuntimeWarning: invalid value encountered in less\n",
            "  x[x < stats['whislo']],\n",
            "/usr/local/lib/python3.6/dist-packages/matplotlib/cbook/__init__.py:1255: RuntimeWarning: invalid value encountered in greater\n",
            "  x[x > stats['whishi']],\n",
            "/usr/local/lib/python3.6/dist-packages/matplotlib/cbook/__init__.py:1239: RuntimeWarning: invalid value encountered in less_equal\n",
            "  wiskhi = x[x <= hival]\n",
            "/usr/local/lib/python3.6/dist-packages/matplotlib/cbook/__init__.py:1246: RuntimeWarning: invalid value encountered in greater_equal\n",
            "  wisklo = x[x >= loval]\n",
            "/usr/local/lib/python3.6/dist-packages/matplotlib/cbook/__init__.py:1254: RuntimeWarning: invalid value encountered in less\n",
            "  x[x < stats['whislo']],\n",
            "/usr/local/lib/python3.6/dist-packages/matplotlib/cbook/__init__.py:1255: RuntimeWarning: invalid value encountered in greater\n",
            "  x[x > stats['whishi']],\n",
            "/usr/local/lib/python3.6/dist-packages/matplotlib/cbook/__init__.py:1239: RuntimeWarning: invalid value encountered in less_equal\n",
            "  wiskhi = x[x <= hival]\n",
            "/usr/local/lib/python3.6/dist-packages/matplotlib/cbook/__init__.py:1246: RuntimeWarning: invalid value encountered in greater_equal\n",
            "  wisklo = x[x >= loval]\n",
            "/usr/local/lib/python3.6/dist-packages/matplotlib/cbook/__init__.py:1254: RuntimeWarning: invalid value encountered in less\n",
            "  x[x < stats['whislo']],\n",
            "/usr/local/lib/python3.6/dist-packages/matplotlib/cbook/__init__.py:1255: RuntimeWarning: invalid value encountered in greater\n",
            "  x[x > stats['whishi']],\n"
          ],
          "name": "stderr"
        },
        {
          "output_type": "display_data",
          "data": {
            "image/png": "[encoded data removed]",
            "text/plain": [
              "<Figure size 432x288 with 16 Axes>"
            ]
          },
          "metadata": {
            "tags": []
          }
        }
      ]
    },
    {
      "cell_type": "code",
      "metadata": {
        "id": "4rTLlTT-4kOO",
        "colab_type": "code",
        "outputId": "1130e2b1-0c8e-468e-af4c-b4c5b4e31b08",
        "colab": {
          "base_uri": "https://localhost:8080/",
          "height": 141
        }
      },
      "source": [
        "for col in numerical_cols:\n",
        "    data[col] = data[col].fillna(data[col].mean())"
      ],
      "execution_count": 0,
      "outputs": [
        {
          "output_type": "stream",
          "text": [
            "/usr/local/lib/python3.6/dist-packages/ipykernel_launcher.py:2: SettingWithCopyWarning: \n",
            "A value is trying to be set on a copy of a slice from a DataFrame.\n",
            "Try using .loc[row_indexer,col_indexer] = value instead\n",
            "\n",
            "See the caveats in the documentation: https://pandas.pydata.org/pandas-docs/stable/user_guide/indexing.html#returning-a-view-versus-a-copy\n",
            "  \n"
          ],
          "name": "stderr"
        }
      ]
    },
    {
      "cell_type": "code",
      "metadata": {
        "id": "nmjsY7Xh4kHp",
        "colab_type": "code",
        "outputId": "3a73ea0b-0b3e-41e6-9394-4581ffc3f78a",
        "colab": {
          "base_uri": "https://localhost:8080/",
          "height": 265
        }
      },
      "source": [
        "for ind in range((data.dtypes != object).sum()):\n",
        "    plt.subplot(4,4,ind+1)\n",
        "    plt.boxplot(data[numerical_cols[ind]])\n",
        "    plt.yscale(\"log\")"
      ],
      "execution_count": 0,
      "outputs": [
        {
          "output_type": "display_data",
          "data": {
            "image/png": "[encoded data removed]",
            "text/plain": [
              "<Figure size 432x288 with 16 Axes>"
            ]
          },
          "metadata": {
            "tags": []
          }
        }
      ]
    },
    {
      "cell_type": "code",
      "metadata": {
        "id": "bj8-Ixlg4kFj",
        "colab_type": "code",
        "outputId": "a5715aee-7762-45b0-d158-e7b1e22bb15b",
        "colab": {
          "base_uri": "https://localhost:8080/",
          "height": 314
        }
      },
      "source": [
        "data.describe()"
      ],
      "execution_count": 0,
      "outputs": [
        {
          "output_type": "execute_result",
          "data": {
            "text/html": [
              "<div>\n",
              "<style scoped>\n",
              "    .dataframe tbody tr th:only-of-type {\n",
              "        vertical-align: middle;\n",
              "    }\n",
              "\n",
              "    .dataframe tbody tr th {\n",
              "        vertical-align: top;\n",
              "    }\n",
              "\n",
              "    .dataframe thead th {\n",
              "        text-align: right;\n",
              "    }\n",
              "</style>\n",
              "<table border=\"1\" class=\"dataframe\">\n",
              "  <thead>\n",
              "    <tr style=\"text-align: right;\">\n",
              "      <th></th>\n",
              "      <th>num_critic_for_reviews</th>\n",
              "      <th>duration</th>\n",
              "      <th>director_facebook_likes</th>\n",
              "      <th>actor_3_facebook_likes</th>\n",
              "      <th>actor_1_facebook_likes</th>\n",
              "      <th>gross</th>\n",
              "      <th>num_voted_users</th>\n",
              "      <th>cast_total_facebook_likes</th>\n",
              "      <th>facenumber_in_poster</th>\n",
              "      <th>num_user_for_reviews</th>\n",
              "      <th>budget</th>\n",
              "      <th>title_year</th>\n",
              "      <th>actor_2_facebook_likes</th>\n",
              "      <th>imdb_score</th>\n",
              "      <th>aspect_ratio</th>\n",
              "      <th>movie_facebook_likes</th>\n",
              "    </tr>\n",
              "  </thead>\n",
              "  <tbody>\n",
              "    <tr>\n",
              "      <th>count</th>\n",
              "      <td>4917.000000</td>\n",
              "      <td>4917.000000</td>\n",
              "      <td>4917.000000</td>\n",
              "      <td>4917.000000</td>\n",
              "      <td>4917.000000</td>\n",
              "      <td>4.917000e+03</td>\n",
              "      <td>4.917000e+03</td>\n",
              "      <td>4917.000000</td>\n",
              "      <td>4917.000000</td>\n",
              "      <td>4917.000000</td>\n",
              "      <td>4.917000e+03</td>\n",
              "      <td>4917.000000</td>\n",
              "      <td>4917.000000</td>\n",
              "      <td>4917.000000</td>\n",
              "      <td>4917.000000</td>\n",
              "      <td>4917.000000</td>\n",
              "    </tr>\n",
              "    <tr>\n",
              "      <th>mean</th>\n",
              "      <td>137.983566</td>\n",
              "      <td>107.089963</td>\n",
              "      <td>690.871028</td>\n",
              "      <td>631.203515</td>\n",
              "      <td>6493.369450</td>\n",
              "      <td>4.764451e+07</td>\n",
              "      <td>8.263723e+04</td>\n",
              "      <td>9578.276998</td>\n",
              "      <td>1.377039</td>\n",
              "      <td>267.651348</td>\n",
              "      <td>3.654150e+07</td>\n",
              "      <td>2002.443567</td>\n",
              "      <td>1621.649470</td>\n",
              "      <td>6.437584</td>\n",
              "      <td>2.222267</td>\n",
              "      <td>7346.799675</td>\n",
              "    </tr>\n",
              "    <tr>\n",
              "      <th>std</th>\n",
              "      <td>119.626921</td>\n",
              "      <td>25.244900</td>\n",
              "      <td>2803.136325</td>\n",
              "      <td>1621.909129</td>\n",
              "      <td>15094.893157</td>\n",
              "      <td>6.117379e+07</td>\n",
              "      <td>1.383091e+05</td>\n",
              "      <td>18162.789993</td>\n",
              "      <td>2.021037</td>\n",
              "      <td>372.101433</td>\n",
              "      <td>9.517021e+07</td>\n",
              "      <td>12.320819</td>\n",
              "      <td>4005.629524</td>\n",
              "      <td>1.127740</td>\n",
              "      <td>1.355487</td>\n",
              "      <td>19204.348861</td>\n",
              "    </tr>\n",
              "    <tr>\n",
              "      <th>min</th>\n",
              "      <td>1.000000</td>\n",
              "      <td>7.000000</td>\n",
              "      <td>0.000000</td>\n",
              "      <td>0.000000</td>\n",
              "      <td>0.000000</td>\n",
              "      <td>1.620000e+02</td>\n",
              "      <td>5.000000e+00</td>\n",
              "      <td>0.000000</td>\n",
              "      <td>0.000000</td>\n",
              "      <td>1.000000</td>\n",
              "      <td>2.180000e+02</td>\n",
              "      <td>1916.000000</td>\n",
              "      <td>0.000000</td>\n",
              "      <td>1.600000</td>\n",
              "      <td>1.180000</td>\n",
              "      <td>0.000000</td>\n",
              "    </tr>\n",
              "    <tr>\n",
              "      <th>25%</th>\n",
              "      <td>50.000000</td>\n",
              "      <td>93.000000</td>\n",
              "      <td>7.000000</td>\n",
              "      <td>133.000000</td>\n",
              "      <td>608.000000</td>\n",
              "      <td>8.070311e+06</td>\n",
              "      <td>8.367000e+03</td>\n",
              "      <td>1395.000000</td>\n",
              "      <td>0.000000</td>\n",
              "      <td>64.000000</td>\n",
              "      <td>7.000000e+06</td>\n",
              "      <td>1999.000000</td>\n",
              "      <td>278.000000</td>\n",
              "      <td>5.800000</td>\n",
              "      <td>1.850000</td>\n",
              "      <td>0.000000</td>\n",
              "    </tr>\n",
              "    <tr>\n",
              "      <th>50%</th>\n",
              "      <td>110.000000</td>\n",
              "      <td>103.000000</td>\n",
              "      <td>51.000000</td>\n",
              "      <td>369.000000</td>\n",
              "      <td>982.000000</td>\n",
              "      <td>3.697637e+07</td>\n",
              "      <td>3.315800e+04</td>\n",
              "      <td>3049.000000</td>\n",
              "      <td>1.000000</td>\n",
              "      <td>154.000000</td>\n",
              "      <td>2.300000e+07</td>\n",
              "      <td>2005.000000</td>\n",
              "      <td>593.000000</td>\n",
              "      <td>6.600000</td>\n",
              "      <td>2.222267</td>\n",
              "      <td>158.000000</td>\n",
              "    </tr>\n",
              "    <tr>\n",
              "      <th>75%</th>\n",
              "      <td>191.000000</td>\n",
              "      <td>118.000000</td>\n",
              "      <td>213.000000</td>\n",
              "      <td>631.203515</td>\n",
              "      <td>11000.000000</td>\n",
              "      <td>5.085989e+07</td>\n",
              "      <td>9.376700e+04</td>\n",
              "      <td>13616.000000</td>\n",
              "      <td>2.000000</td>\n",
              "      <td>319.000000</td>\n",
              "      <td>4.000000e+07</td>\n",
              "      <td>2010.000000</td>\n",
              "      <td>915.000000</td>\n",
              "      <td>7.200000</td>\n",
              "      <td>2.350000</td>\n",
              "      <td>2000.000000</td>\n",
              "    </tr>\n",
              "    <tr>\n",
              "      <th>max</th>\n",
              "      <td>813.000000</td>\n",
              "      <td>511.000000</td>\n",
              "      <td>23000.000000</td>\n",
              "      <td>23000.000000</td>\n",
              "      <td>640000.000000</td>\n",
              "      <td>7.605058e+08</td>\n",
              "      <td>1.689764e+06</td>\n",
              "      <td>656730.000000</td>\n",
              "      <td>43.000000</td>\n",
              "      <td>5060.000000</td>\n",
              "      <td>4.200000e+09</td>\n",
              "      <td>2016.000000</td>\n",
              "      <td>137000.000000</td>\n",
              "      <td>9.500000</td>\n",
              "      <td>16.000000</td>\n",
              "      <td>349000.000000</td>\n",
              "    </tr>\n",
              "  </tbody>\n",
              "</table>\n",
              "</div>"
            ],
            "text/plain": [
              "       num_critic_for_reviews     duration  ...  aspect_ratio  movie_facebook_likes\n",
              "count             4917.000000  4917.000000  ...   4917.000000           4917.000000\n",
              "mean               137.983566   107.089963  ...      2.222267           7346.799675\n",
              "std                119.626921    25.244900  ...      1.355487          19204.348861\n",
              "min                  1.000000     7.000000  ...      1.180000              0.000000\n",
              "25%                 50.000000    93.000000  ...      1.850000              0.000000\n",
              "50%                110.000000   103.000000  ...      2.222267            158.000000\n",
              "75%                191.000000   118.000000  ...      2.350000           2000.000000\n",
              "max                813.000000   511.000000  ...     16.000000         349000.000000\n",
              "\n",
              "[8 rows x 16 columns]"
            ]
          },
          "metadata": {
            "tags": []
          },
          "execution_count": 32
        }
      ]
    },
    {
      "cell_type": "code",
      "metadata": {
        "id": "zrBdo4o24kDG",
        "colab_type": "code",
        "colab": {}
      },
      "source": [
        "data_sc = data.copy()"
      ],
      "execution_count": 0,
      "outputs": []
    },
    {
      "cell_type": "code",
      "metadata": {
        "id": "rPvOTj507vjl",
        "colab_type": "code",
        "colab": {}
      },
      "source": [
        "from sklearn.preprocessing import MinMaxScaler\n",
        "sc = MinMaxScaler()\n",
        "sc.fit(data[['num_critic_for_reviews']])\n",
        "data_sc[['num_critic_for_reviews']]=sc.transform(data[['num_critic_for_reviews']])"
      ],
      "execution_count": 0,
      "outputs": []
    },
    {
      "cell_type": "code",
      "metadata": {
        "id": "iORr0H527vx1",
        "colab_type": "code",
        "outputId": "e6538f50-661b-4b90-fc9c-f7b1a3f49e41",
        "colab": {
          "base_uri": "https://localhost:8080/",
          "height": 173
        }
      },
      "source": [
        "data_sc['num_critic_for_reviews'].describe()"
      ],
      "execution_count": 0,
      "outputs": [
        {
          "output_type": "execute_result",
          "data": {
            "text/plain": [
              "count    4917.000000\n",
              "mean        0.168699\n",
              "std         0.147324\n",
              "min         0.000000\n",
              "25%         0.060345\n",
              "50%         0.134236\n",
              "75%         0.233990\n",
              "max         1.000000\n",
              "Name: num_critic_for_reviews, dtype: float64"
            ]
          },
          "metadata": {
            "tags": []
          },
          "execution_count": 35
        }
      ]
    },
    {
      "cell_type": "code",
      "metadata": {
        "id": "3-9kRWoY78P7",
        "colab_type": "code",
        "colab": {}
      },
      "source": [
        "from sklearn.preprocessing import MinMaxScaler\n",
        "sc = MinMaxScaler()\n",
        "sc.fit(data[numerical_cols])\n",
        "data_sc[numerical_cols]=sc.transform(data[numerical_cols])"
      ],
      "execution_count": 0,
      "outputs": []
    },
    {
      "cell_type": "code",
      "metadata": {
        "id": "7Cv9zzuC78bv",
        "colab_type": "code",
        "outputId": "2dcea118-7ca7-4072-ec83-2134357a4f1a",
        "colab": {
          "base_uri": "https://localhost:8080/",
          "height": 314
        }
      },
      "source": [
        "data_sc.describe()"
      ],
      "execution_count": 0,
      "outputs": [
        {
          "output_type": "execute_result",
          "data": {
            "text/html": [
              "<div>\n",
              "<style scoped>\n",
              "    .dataframe tbody tr th:only-of-type {\n",
              "        vertical-align: middle;\n",
              "    }\n",
              "\n",
              "    .dataframe tbody tr th {\n",
              "        vertical-align: top;\n",
              "    }\n",
              "\n",
              "    .dataframe thead th {\n",
              "        text-align: right;\n",
              "    }\n",
              "</style>\n",
              "<table border=\"1\" class=\"dataframe\">\n",
              "  <thead>\n",
              "    <tr style=\"text-align: right;\">\n",
              "      <th></th>\n",
              "      <th>num_critic_for_reviews</th>\n",
              "      <th>duration</th>\n",
              "      <th>director_facebook_likes</th>\n",
              "      <th>actor_3_facebook_likes</th>\n",
              "      <th>actor_1_facebook_likes</th>\n",
              "      <th>gross</th>\n",
              "      <th>num_voted_users</th>\n",
              "      <th>cast_total_facebook_likes</th>\n",
              "      <th>facenumber_in_poster</th>\n",
              "      <th>num_user_for_reviews</th>\n",
              "      <th>budget</th>\n",
              "      <th>title_year</th>\n",
              "      <th>actor_2_facebook_likes</th>\n",
              "      <th>imdb_score</th>\n",
              "      <th>aspect_ratio</th>\n",
              "      <th>movie_facebook_likes</th>\n",
              "    </tr>\n",
              "  </thead>\n",
              "  <tbody>\n",
              "    <tr>\n",
              "      <th>count</th>\n",
              "      <td>4917.000000</td>\n",
              "      <td>4917.000000</td>\n",
              "      <td>4917.000000</td>\n",
              "      <td>4917.000000</td>\n",
              "      <td>4917.000000</td>\n",
              "      <td>4917.000000</td>\n",
              "      <td>4917.000000</td>\n",
              "      <td>4917.000000</td>\n",
              "      <td>4917.000000</td>\n",
              "      <td>4917.000000</td>\n",
              "      <td>4917.000000</td>\n",
              "      <td>4917.000000</td>\n",
              "      <td>4917.000000</td>\n",
              "      <td>4917.000000</td>\n",
              "      <td>4917.000000</td>\n",
              "      <td>4917.000000</td>\n",
              "    </tr>\n",
              "    <tr>\n",
              "      <th>mean</th>\n",
              "      <td>0.168699</td>\n",
              "      <td>0.198591</td>\n",
              "      <td>0.030038</td>\n",
              "      <td>0.027444</td>\n",
              "      <td>0.010146</td>\n",
              "      <td>0.062648</td>\n",
              "      <td>0.048902</td>\n",
              "      <td>0.014585</td>\n",
              "      <td>0.032024</td>\n",
              "      <td>0.052708</td>\n",
              "      <td>0.008700</td>\n",
              "      <td>0.864436</td>\n",
              "      <td>0.011837</td>\n",
              "      <td>0.612352</td>\n",
              "      <td>0.070328</td>\n",
              "      <td>0.021051</td>\n",
              "    </tr>\n",
              "    <tr>\n",
              "      <th>std</th>\n",
              "      <td>0.147324</td>\n",
              "      <td>0.050089</td>\n",
              "      <td>0.121875</td>\n",
              "      <td>0.070518</td>\n",
              "      <td>0.023586</td>\n",
              "      <td>0.080438</td>\n",
              "      <td>0.081851</td>\n",
              "      <td>0.027656</td>\n",
              "      <td>0.047001</td>\n",
              "      <td>0.073552</td>\n",
              "      <td>0.022660</td>\n",
              "      <td>0.123208</td>\n",
              "      <td>0.029238</td>\n",
              "      <td>0.142752</td>\n",
              "      <td>0.091463</td>\n",
              "      <td>0.055027</td>\n",
              "    </tr>\n",
              "    <tr>\n",
              "      <th>min</th>\n",
              "      <td>0.000000</td>\n",
              "      <td>0.000000</td>\n",
              "      <td>0.000000</td>\n",
              "      <td>0.000000</td>\n",
              "      <td>0.000000</td>\n",
              "      <td>0.000000</td>\n",
              "      <td>0.000000</td>\n",
              "      <td>0.000000</td>\n",
              "      <td>0.000000</td>\n",
              "      <td>0.000000</td>\n",
              "      <td>0.000000</td>\n",
              "      <td>0.000000</td>\n",
              "      <td>0.000000</td>\n",
              "      <td>0.000000</td>\n",
              "      <td>0.000000</td>\n",
              "      <td>0.000000</td>\n",
              "    </tr>\n",
              "    <tr>\n",
              "      <th>25%</th>\n",
              "      <td>0.060345</td>\n",
              "      <td>0.170635</td>\n",
              "      <td>0.000304</td>\n",
              "      <td>0.005783</td>\n",
              "      <td>0.000950</td>\n",
              "      <td>0.010612</td>\n",
              "      <td>0.004949</td>\n",
              "      <td>0.002124</td>\n",
              "      <td>0.000000</td>\n",
              "      <td>0.012453</td>\n",
              "      <td>0.001667</td>\n",
              "      <td>0.830000</td>\n",
              "      <td>0.002029</td>\n",
              "      <td>0.531646</td>\n",
              "      <td>0.045209</td>\n",
              "      <td>0.000000</td>\n",
              "    </tr>\n",
              "    <tr>\n",
              "      <th>50%</th>\n",
              "      <td>0.134236</td>\n",
              "      <td>0.190476</td>\n",
              "      <td>0.002217</td>\n",
              "      <td>0.016043</td>\n",
              "      <td>0.001534</td>\n",
              "      <td>0.048621</td>\n",
              "      <td>0.019620</td>\n",
              "      <td>0.004643</td>\n",
              "      <td>0.023256</td>\n",
              "      <td>0.030243</td>\n",
              "      <td>0.005476</td>\n",
              "      <td>0.890000</td>\n",
              "      <td>0.004328</td>\n",
              "      <td>0.632911</td>\n",
              "      <td>0.070328</td>\n",
              "      <td>0.000453</td>\n",
              "    </tr>\n",
              "    <tr>\n",
              "      <th>75%</th>\n",
              "      <td>0.233990</td>\n",
              "      <td>0.220238</td>\n",
              "      <td>0.009261</td>\n",
              "      <td>0.027444</td>\n",
              "      <td>0.017188</td>\n",
              "      <td>0.066876</td>\n",
              "      <td>0.055488</td>\n",
              "      <td>0.020733</td>\n",
              "      <td>0.046512</td>\n",
              "      <td>0.062858</td>\n",
              "      <td>0.009524</td>\n",
              "      <td>0.940000</td>\n",
              "      <td>0.006679</td>\n",
              "      <td>0.708861</td>\n",
              "      <td>0.078947</td>\n",
              "      <td>0.005731</td>\n",
              "    </tr>\n",
              "    <tr>\n",
              "      <th>max</th>\n",
              "      <td>1.000000</td>\n",
              "      <td>1.000000</td>\n",
              "      <td>1.000000</td>\n",
              "      <td>1.000000</td>\n",
              "      <td>1.000000</td>\n",
              "      <td>1.000000</td>\n",
              "      <td>1.000000</td>\n",
              "      <td>1.000000</td>\n",
              "      <td>1.000000</td>\n",
              "      <td>1.000000</td>\n",
              "      <td>1.000000</td>\n",
              "      <td>1.000000</td>\n",
              "      <td>1.000000</td>\n",
              "      <td>1.000000</td>\n",
              "      <td>1.000000</td>\n",
              "      <td>1.000000</td>\n",
              "    </tr>\n",
              "  </tbody>\n",
              "</table>\n",
              "</div>"
            ],
            "text/plain": [
              "       num_critic_for_reviews     duration  ...  aspect_ratio  movie_facebook_likes\n",
              "count             4917.000000  4917.000000  ...   4917.000000           4917.000000\n",
              "mean                 0.168699     0.198591  ...      0.070328              0.021051\n",
              "std                  0.147324     0.050089  ...      0.091463              0.055027\n",
              "min                  0.000000     0.000000  ...      0.000000              0.000000\n",
              "25%                  0.060345     0.170635  ...      0.045209              0.000000\n",
              "50%                  0.134236     0.190476  ...      0.070328              0.000453\n",
              "75%                  0.233990     0.220238  ...      0.078947              0.005731\n",
              "max                  1.000000     1.000000  ...      1.000000              1.000000\n",
              "\n",
              "[8 rows x 16 columns]"
            ]
          },
          "metadata": {
            "tags": []
          },
          "execution_count": 37
        }
      ]
    },
    {
      "cell_type": "code",
      "metadata": {
        "id": "2oYcZszD78Zl",
        "colab_type": "code",
        "colab": {}
      },
      "source": [
        "from sklearn.preprocessing import MinMaxScaler\n",
        "from sklearn.preprocessing import StandardScaler\n",
        "from sklearn.preprocessing import MaxAbsScaler"
      ],
      "execution_count": 0,
      "outputs": []
    },
    {
      "cell_type": "markdown",
      "metadata": {
        "id": "v2uOVU0e8avo",
        "colab_type": "text"
      },
      "source": [
        "What is normal Distribution?\n",
        "\n",
        "what is standardization?\n",
        "\n",
        "what is z-test?\n",
        "\n",
        "what is t-test?"
      ]
    },
    {
      "cell_type": "code",
      "metadata": {
        "id": "sHepyRoU7v7o",
        "colab_type": "code",
        "colab": {}
      },
      "source": [
        "data_sc1 = data.copy()\n",
        "from sklearn.preprocessing import StandardScaler\n",
        "sc = StandardScaler()\n",
        "sc.fit(data[['num_critic_for_reviews']])\n",
        "data_sc[['num_critic_for_reviews']]=sc.transform(data[['num_critic_for_reviews']])"
      ],
      "execution_count": 0,
      "outputs": []
    },
    {
      "cell_type": "code",
      "metadata": {
        "id": "yHHzY5el7wIi",
        "colab_type": "code",
        "outputId": "69153928-7ef5-4e18-b535-3a99780376b4",
        "colab": {
          "base_uri": "https://localhost:8080/",
          "height": 173
        }
      },
      "source": [
        "data['num_critic_for_reviews'].describe()"
      ],
      "execution_count": 0,
      "outputs": [
        {
          "output_type": "execute_result",
          "data": {
            "text/plain": [
              "count    4917.000000\n",
              "mean      137.983566\n",
              "std       119.626921\n",
              "min         1.000000\n",
              "25%        50.000000\n",
              "50%       110.000000\n",
              "75%       191.000000\n",
              "max       813.000000\n",
              "Name: num_critic_for_reviews, dtype: float64"
            ]
          },
          "metadata": {
            "tags": []
          },
          "execution_count": 40
        }
      ]
    },
    {
      "cell_type": "code",
      "metadata": {
        "id": "cypMHljO7wZj",
        "colab_type": "code",
        "outputId": "2dd1f259-693e-4143-f679-6bc7fc9f0ffd",
        "colab": {
          "base_uri": "https://localhost:8080/",
          "height": 173
        }
      },
      "source": [
        "data_sc['num_critic_for_reviews'].describe()"
      ],
      "execution_count": 0,
      "outputs": [
        {
          "output_type": "execute_result",
          "data": {
            "text/plain": [
              "count    4.917000e+03\n",
              "mean     1.520037e-16\n",
              "std      1.000102e+00\n",
              "min     -1.145206e+00\n",
              "25%     -7.355578e-01\n",
              "50%     -2.339474e-01\n",
              "75%      4.432265e-01\n",
              "max      5.643254e+00\n",
              "Name: num_critic_for_reviews, dtype: float64"
            ]
          },
          "metadata": {
            "tags": []
          },
          "execution_count": 41
        }
      ]
    },
    {
      "cell_type": "markdown",
      "metadata": {
        "id": "uWmH3-DM9AMK",
        "colab_type": "text"
      },
      "source": [
        "My twitter follower\n",
        "\n",
        "Mounika's Facebook friends count\n",
        "\n",
        "How can you say who is popular? 20000 twitter followers 2000 friends Mean of twitter follower count - Mean of facebook frirends -"
      ]
    },
    {
      "cell_type": "code",
      "metadata": {
        "id": "FM_SzzYO7wGO",
        "colab_type": "code",
        "colab": {}
      },
      "source": [
        "data_sc1 = data.copy()\n",
        "from sklearn.preprocessing import StandardScaler\n",
        "sc = StandardScaler()\n",
        "sc.fit(data[numerical_cols])\n",
        "data_sc1[numerical_cols]=sc.transform(data[numerical_cols])"
      ],
      "execution_count": 0,
      "outputs": []
    },
    {
      "cell_type": "code",
      "metadata": {
        "id": "6BMk0wnq7v5Q",
        "colab_type": "code",
        "outputId": "f86d2a00-1550-4c54-8687-de9565e65179",
        "colab": {
          "base_uri": "https://localhost:8080/",
          "height": 383
        }
      },
      "source": [
        "data_sc1.describe()"
      ],
      "execution_count": 0,
      "outputs": [
        {
          "output_type": "execute_result",
          "data": {
            "text/html": [
              "<div>\n",
              "<style scoped>\n",
              "    .dataframe tbody tr th:only-of-type {\n",
              "        vertical-align: middle;\n",
              "    }\n",
              "\n",
              "    .dataframe tbody tr th {\n",
              "        vertical-align: top;\n",
              "    }\n",
              "\n",
              "    .dataframe thead th {\n",
              "        text-align: right;\n",
              "    }\n",
              "</style>\n",
              "<table border=\"1\" class=\"dataframe\">\n",
              "  <thead>\n",
              "    <tr style=\"text-align: right;\">\n",
              "      <th></th>\n",
              "      <th>num_critic_for_reviews</th>\n",
              "      <th>duration</th>\n",
              "      <th>director_facebook_likes</th>\n",
              "      <th>actor_3_facebook_likes</th>\n",
              "      <th>actor_1_facebook_likes</th>\n",
              "      <th>gross</th>\n",
              "      <th>num_voted_users</th>\n",
              "      <th>cast_total_facebook_likes</th>\n",
              "      <th>facenumber_in_poster</th>\n",
              "      <th>num_user_for_reviews</th>\n",
              "      <th>budget</th>\n",
              "      <th>title_year</th>\n",
              "      <th>actor_2_facebook_likes</th>\n",
              "      <th>imdb_score</th>\n",
              "      <th>aspect_ratio</th>\n",
              "      <th>movie_facebook_likes</th>\n",
              "    </tr>\n",
              "  </thead>\n",
              "  <tbody>\n",
              "    <tr>\n",
              "      <th>count</th>\n",
              "      <td>4.917000e+03</td>\n",
              "      <td>4.917000e+03</td>\n",
              "      <td>4.917000e+03</td>\n",
              "      <td>4.917000e+03</td>\n",
              "      <td>4.917000e+03</td>\n",
              "      <td>4.917000e+03</td>\n",
              "      <td>4.917000e+03</td>\n",
              "      <td>4.917000e+03</td>\n",
              "      <td>4.917000e+03</td>\n",
              "      <td>4.917000e+03</td>\n",
              "      <td>4.917000e+03</td>\n",
              "      <td>4.917000e+03</td>\n",
              "      <td>4.917000e+03</td>\n",
              "      <td>4.917000e+03</td>\n",
              "      <td>4.917000e+03</td>\n",
              "      <td>4.917000e+03</td>\n",
              "    </tr>\n",
              "    <tr>\n",
              "      <th>mean</th>\n",
              "      <td>1.520037e-16</td>\n",
              "      <td>-9.821308e-16</td>\n",
              "      <td>-1.613515e-15</td>\n",
              "      <td>-4.803177e-16</td>\n",
              "      <td>6.880357e-16</td>\n",
              "      <td>-2.227671e-16</td>\n",
              "      <td>-6.769493e-16</td>\n",
              "      <td>3.220256e-16</td>\n",
              "      <td>-1.529972e-16</td>\n",
              "      <td>-3.521351e-16</td>\n",
              "      <td>-1.217858e-15</td>\n",
              "      <td>-1.920234e-14</td>\n",
              "      <td>-1.273076e-15</td>\n",
              "      <td>-5.205596e-16</td>\n",
              "      <td>-6.210882e-16</td>\n",
              "      <td>6.418498e-15</td>\n",
              "    </tr>\n",
              "    <tr>\n",
              "      <th>std</th>\n",
              "      <td>1.000102e+00</td>\n",
              "      <td>1.000102e+00</td>\n",
              "      <td>1.000102e+00</td>\n",
              "      <td>1.000102e+00</td>\n",
              "      <td>1.000102e+00</td>\n",
              "      <td>1.000102e+00</td>\n",
              "      <td>1.000102e+00</td>\n",
              "      <td>1.000102e+00</td>\n",
              "      <td>1.000102e+00</td>\n",
              "      <td>1.000102e+00</td>\n",
              "      <td>1.000102e+00</td>\n",
              "      <td>1.000102e+00</td>\n",
              "      <td>1.000102e+00</td>\n",
              "      <td>1.000102e+00</td>\n",
              "      <td>1.000102e+00</td>\n",
              "      <td>1.000102e+00</td>\n",
              "    </tr>\n",
              "    <tr>\n",
              "      <th>min</th>\n",
              "      <td>-1.145206e+00</td>\n",
              "      <td>-3.965163e+00</td>\n",
              "      <td>-2.464887e-01</td>\n",
              "      <td>-3.892127e-01</td>\n",
              "      <td>-4.302137e-01</td>\n",
              "      <td>-7.789153e-01</td>\n",
              "      <td>-5.975066e-01</td>\n",
              "      <td>-5.274108e-01</td>\n",
              "      <td>-6.814219e-01</td>\n",
              "      <td>-7.166822e-01</td>\n",
              "      <td>-3.839962e-01</td>\n",
              "      <td>-7.016771e+00</td>\n",
              "      <td>-4.048838e-01</td>\n",
              "      <td>-4.290064e+00</td>\n",
              "      <td>-7.690027e-01</td>\n",
              "      <td>-3.825981e-01</td>\n",
              "    </tr>\n",
              "    <tr>\n",
              "      <th>25%</th>\n",
              "      <td>-7.355578e-01</td>\n",
              "      <td>-5.581878e-01</td>\n",
              "      <td>-2.439912e-01</td>\n",
              "      <td>-3.072023e-01</td>\n",
              "      <td>-3.899311e-01</td>\n",
              "      <td>-6.469802e-01</td>\n",
              "      <td>-5.370417e-01</td>\n",
              "      <td>-4.505976e-01</td>\n",
              "      <td>-6.814219e-01</td>\n",
              "      <td>-5.473563e-01</td>\n",
              "      <td>-3.104385e-01</td>\n",
              "      <td>-2.795202e-01</td>\n",
              "      <td>-3.354744e-01</td>\n",
              "      <td>-5.654219e-01</td>\n",
              "      <td>-2.746653e-01</td>\n",
              "      <td>-3.825981e-01</td>\n",
              "    </tr>\n",
              "    <tr>\n",
              "      <th>50%</th>\n",
              "      <td>-2.339474e-01</td>\n",
              "      <td>-1.620279e-01</td>\n",
              "      <td>-2.282929e-01</td>\n",
              "      <td>-1.616799e-01</td>\n",
              "      <td>-3.651520e-01</td>\n",
              "      <td>-1.744086e-01</td>\n",
              "      <td>-3.577801e-01</td>\n",
              "      <td>-3.595230e-01</td>\n",
              "      <td>-1.865762e-01</td>\n",
              "      <td>-3.054622e-01</td>\n",
              "      <td>-1.423016e-01</td>\n",
              "      <td>2.075100e-01</td>\n",
              "      <td>-2.568271e-01</td>\n",
              "      <td>1.440338e-01</td>\n",
              "      <td>1.271308e-13</td>\n",
              "      <td>-3.743699e-01</td>\n",
              "    </tr>\n",
              "    <tr>\n",
              "      <th>75%</th>\n",
              "      <td>4.432265e-01</td>\n",
              "      <td>4.322119e-01</td>\n",
              "      <td>-1.704946e-01</td>\n",
              "      <td>0.000000e+00</td>\n",
              "      <td>2.985837e-01</td>\n",
              "      <td>5.256666e-02</td>\n",
              "      <td>8.047843e-02</td>\n",
              "      <td>2.223300e-01</td>\n",
              "      <td>3.082695e-01</td>\n",
              "      <td>1.380104e-01</td>\n",
              "      <td>3.634388e-02</td>\n",
              "      <td>6.133685e-01</td>\n",
              "      <td>-1.764320e-01</td>\n",
              "      <td>6.761255e-01</td>\n",
              "      <td>9.424323e-02</td>\n",
              "      <td>-2.784444e-01</td>\n",
              "    </tr>\n",
              "    <tr>\n",
              "      <th>max</th>\n",
              "      <td>5.643254e+00</td>\n",
              "      <td>1.600130e+01</td>\n",
              "      <td>7.959441e+00</td>\n",
              "      <td>1.379305e+01</td>\n",
              "      <td>4.197254e+01</td>\n",
              "      <td>1.165424e+01</td>\n",
              "      <td>1.162100e+01</td>\n",
              "      <td>3.563426e+01</td>\n",
              "      <td>2.059694e+01</td>\n",
              "      <td>1.288046e+01</td>\n",
              "      <td>4.375195e+01</td>\n",
              "      <td>1.100399e+00</td>\n",
              "      <td>3.380046e+01</td>\n",
              "      <td>2.715810e+00</td>\n",
              "      <td>1.016545e+01</td>\n",
              "      <td>1.779222e+01</td>\n",
              "    </tr>\n",
              "  </tbody>\n",
              "</table>\n",
              "</div>"
            ],
            "text/plain": [
              "       num_critic_for_reviews      duration  ...  aspect_ratio  movie_facebook_likes\n",
              "count            4.917000e+03  4.917000e+03  ...  4.917000e+03          4.917000e+03\n",
              "mean             1.520037e-16 -9.821308e-16  ... -6.210882e-16          6.418498e-15\n",
              "std              1.000102e+00  1.000102e+00  ...  1.000102e+00          1.000102e+00\n",
              "min             -1.145206e+00 -3.965163e+00  ... -7.690027e-01         -3.825981e-01\n",
              "25%             -7.355578e-01 -5.581878e-01  ... -2.746653e-01         -3.825981e-01\n",
              "50%             -2.339474e-01 -1.620279e-01  ...  1.271308e-13         -3.743699e-01\n",
              "75%              4.432265e-01  4.322119e-01  ...  9.424323e-02         -2.784444e-01\n",
              "max              5.643254e+00  1.600130e+01  ...  1.016545e+01          1.779222e+01\n",
              "\n",
              "[8 rows x 16 columns]"
            ]
          },
          "metadata": {
            "tags": []
          },
          "execution_count": 43
        }
      ]
    },
    {
      "cell_type": "code",
      "metadata": {
        "id": "mHernf6R7v2t",
        "colab_type": "code",
        "outputId": "85bdb1fc-4044-4e1e-a084-2594a20c166c",
        "colab": {
          "base_uri": "https://localhost:8080/",
          "height": 87
        }
      },
      "source": [
        "data.columns[data.dtypes == object]"
      ],
      "execution_count": 0,
      "outputs": [
        {
          "output_type": "execute_result",
          "data": {
            "text/plain": [
              "Index(['color', 'director_name', 'actor_2_name', 'genres', 'actor_1_name',\n",
              "       'movie_title', 'actor_3_name', 'plot_keywords', 'movie_imdb_link',\n",
              "       'language', 'country', 'content_rating'],\n",
              "      dtype='object')"
            ]
          },
          "metadata": {
            "tags": []
          },
          "execution_count": 44
        }
      ]
    },
    {
      "cell_type": "code",
      "metadata": {
        "id": "cPRSUyg19afg",
        "colab_type": "code",
        "outputId": "d82e2584-746a-41d2-8db7-8ddaf3b0a00d",
        "colab": {
          "base_uri": "https://localhost:8080/",
          "height": 225
        }
      },
      "source": [
        "data.color"
      ],
      "execution_count": 0,
      "outputs": [
        {
          "output_type": "execute_result",
          "data": {
            "text/plain": [
              "0       Color\n",
              "1       Color\n",
              "2       Color\n",
              "3       Color\n",
              "4         NaN\n",
              "        ...  \n",
              "5038    Color\n",
              "5039    Color\n",
              "5040    Color\n",
              "5041    Color\n",
              "5042    Color\n",
              "Name: color, Length: 4917, dtype: object"
            ]
          },
          "metadata": {
            "tags": []
          },
          "execution_count": 45
        }
      ]
    },
    {
      "cell_type": "code",
      "metadata": {
        "id": "goW8ARka9aoz",
        "colab_type": "code",
        "outputId": "4710415d-b46c-4907-fd26-c5f5c4eb0a35",
        "colab": {
          "base_uri": "https://localhost:8080/",
          "height": 35
        }
      },
      "source": [
        "data_sc.color.isna().sum()"
      ],
      "execution_count": 0,
      "outputs": [
        {
          "output_type": "execute_result",
          "data": {
            "text/plain": [
              "19"
            ]
          },
          "metadata": {
            "tags": []
          },
          "execution_count": 46
        }
      ]
    },
    {
      "cell_type": "code",
      "metadata": {
        "id": "FjqEUkC_9a25",
        "colab_type": "code",
        "outputId": "6cca2a10-5b5c-4ccc-92f5-fed0dafcd2aa",
        "colab": {
          "base_uri": "https://localhost:8080/",
          "height": 69
        }
      },
      "source": [
        "data_sc.color.value_counts()"
      ],
      "execution_count": 0,
      "outputs": [
        {
          "output_type": "execute_result",
          "data": {
            "text/plain": [
              "Color               4694\n",
              " Black and White     204\n",
              "Name: color, dtype: int64"
            ]
          },
          "metadata": {
            "tags": []
          },
          "execution_count": 47
        }
      ]
    },
    {
      "cell_type": "code",
      "metadata": {
        "id": "9onWBfUH9bLM",
        "colab_type": "code",
        "outputId": "676d3236-e06a-42f7-e81b-94d7821123c4",
        "colab": {
          "base_uri": "https://localhost:8080/",
          "height": 35
        }
      },
      "source": [
        "data_sc.color.mode()[0]"
      ],
      "execution_count": 0,
      "outputs": [
        {
          "output_type": "execute_result",
          "data": {
            "text/plain": [
              "'Color'"
            ]
          },
          "metadata": {
            "tags": []
          },
          "execution_count": 48
        }
      ]
    },
    {
      "cell_type": "code",
      "metadata": {
        "id": "9VipCMtf9bd6",
        "colab_type": "code",
        "outputId": "fcfa4ced-a83a-4ffa-c378-b5d3c388ebcc",
        "colab": {
          "base_uri": "https://localhost:8080/",
          "height": 35
        }
      },
      "source": [
        "data_sc.color = data_sc.color.fillna(data_sc.color.mode()[0])\n",
        "data_sc.color.value_counts().index[1]"
      ],
      "execution_count": 0,
      "outputs": [
        {
          "output_type": "execute_result",
          "data": {
            "text/plain": [
              "' Black and White'"
            ]
          },
          "metadata": {
            "tags": []
          },
          "execution_count": 49
        }
      ]
    },
    {
      "cell_type": "code",
      "metadata": {
        "id": "_r8_rmSS9bb6",
        "colab_type": "code",
        "outputId": "9b2979dd-24f9-464a-e274-6bb66f24dc1e",
        "colab": {
          "base_uri": "https://localhost:8080/",
          "height": 225
        }
      },
      "source": [
        "data_sc.color.apply(lambda x:1 if x=='Color' else 0)"
      ],
      "execution_count": 0,
      "outputs": [
        {
          "output_type": "execute_result",
          "data": {
            "text/plain": [
              "0       1\n",
              "1       1\n",
              "2       1\n",
              "3       1\n",
              "4       1\n",
              "       ..\n",
              "5038    1\n",
              "5039    1\n",
              "5040    1\n",
              "5041    1\n",
              "5042    1\n",
              "Name: color, Length: 4917, dtype: int64"
            ]
          },
          "metadata": {
            "tags": []
          },
          "execution_count": 50
        }
      ]
    },
    {
      "cell_type": "code",
      "metadata": {
        "id": "Unris36Z9bZp",
        "colab_type": "code",
        "outputId": "1ad7ab9b-b0a3-4f79-8eee-8f2ff1db5fdb",
        "colab": {
          "base_uri": "https://localhost:8080/",
          "height": 225
        }
      },
      "source": [
        "data_sc.color"
      ],
      "execution_count": 0,
      "outputs": [
        {
          "output_type": "execute_result",
          "data": {
            "text/plain": [
              "0       Color\n",
              "1       Color\n",
              "2       Color\n",
              "3       Color\n",
              "4       Color\n",
              "        ...  \n",
              "5038    Color\n",
              "5039    Color\n",
              "5040    Color\n",
              "5041    Color\n",
              "5042    Color\n",
              "Name: color, Length: 4917, dtype: object"
            ]
          },
          "metadata": {
            "tags": []
          },
          "execution_count": 51
        }
      ]
    },
    {
      "cell_type": "code",
      "metadata": {
        "id": "KxkhcwvU9bVH",
        "colab_type": "code",
        "outputId": "23582246-5648-415e-b996-55339dc59796",
        "colab": {
          "base_uri": "https://localhost:8080/",
          "height": 139
        }
      },
      "source": [
        "from sklearn.preprocessing import LabelBinarizer\n",
        "lb = LabelBinarizer()\n",
        "lb.fit(data_sc.color)\n",
        "lb.transform(data_sc.color)"
      ],
      "execution_count": 55,
      "outputs": [
        {
          "output_type": "execute_result",
          "data": {
            "text/plain": [
              "array([[1],\n",
              "       [1],\n",
              "       [1],\n",
              "       ...,\n",
              "       [1],\n",
              "       [1],\n",
              "       [1]])"
            ]
          },
          "metadata": {
            "tags": []
          },
          "execution_count": 55
        }
      ]
    },
    {
      "cell_type": "code",
      "metadata": {
        "id": "uPS6poFd9bBr",
        "colab_type": "code",
        "colab": {
          "base_uri": "https://localhost:8080/",
          "height": 35
        },
        "outputId": "20276f44-1c88-4a6e-e811-f8908a5ef11e"
      },
      "source": [
        "lb.transform(data_sc.color)[111]"
      ],
      "execution_count": 57,
      "outputs": [
        {
          "output_type": "execute_result",
          "data": {
            "text/plain": [
              "array([0])"
            ]
          },
          "metadata": {
            "tags": []
          },
          "execution_count": 57
        }
      ]
    },
    {
      "cell_type": "code",
      "metadata": {
        "id": "dQjZGn599a8h",
        "colab_type": "code",
        "colab": {
          "base_uri": "https://localhost:8080/",
          "height": 225
        },
        "outputId": "bb5ef4c2-9d5e-48c5-dd1e-8694b3466ff7"
      },
      "source": [
        "data_sc.color[data_sc.color==\" Black and White\"]"
      ],
      "execution_count": 58,
      "outputs": [
        {
          "output_type": "execute_result",
          "data": {
            "text/plain": [
              "111      Black and White\n",
              "149      Black and White\n",
              "257      Black and White\n",
              "272      Black and White\n",
              "286      Black and White\n",
              "              ...       \n",
              "5005     Black and White\n",
              "5008     Black and White\n",
              "5015     Black and White\n",
              "5022     Black and White\n",
              "5028     Black and White\n",
              "Name: color, Length: 204, dtype: object"
            ]
          },
          "metadata": {
            "tags": []
          },
          "execution_count": 58
        }
      ]
    },
    {
      "cell_type": "code",
      "metadata": {
        "id": "GrAvvrMA9a0z",
        "colab_type": "code",
        "colab": {
          "base_uri": "https://localhost:8080/",
          "height": 139
        },
        "outputId": "7799788f-627a-4b05-b82b-338c37cc17b7"
      },
      "source": [
        "from sklearn.preprocessing import LabelBinarizer\n",
        "lb = LabelBinarizer()\n",
        "lb.fit_transform(data_sc.color)"
      ],
      "execution_count": 59,
      "outputs": [
        {
          "output_type": "execute_result",
          "data": {
            "text/plain": [
              "array([[1],\n",
              "       [1],\n",
              "       [1],\n",
              "       ...,\n",
              "       [1],\n",
              "       [1],\n",
              "       [1]])"
            ]
          },
          "metadata": {
            "tags": []
          },
          "execution_count": 59
        }
      ]
    },
    {
      "cell_type": "code",
      "metadata": {
        "id": "o1mcEyfg9ax8",
        "colab_type": "code",
        "colab": {
          "base_uri": "https://localhost:8080/",
          "height": 69
        },
        "outputId": "5c41f463-1c86-431f-9074-99ae39ad2891"
      },
      "source": [
        "lb.transform([\"Color\",\"Color\",\" Black and White\"])"
      ],
      "execution_count": 60,
      "outputs": [
        {
          "output_type": "execute_result",
          "data": {
            "text/plain": [
              "array([[1],\n",
              "       [1],\n",
              "       [0]])"
            ]
          },
          "metadata": {
            "tags": []
          },
          "execution_count": 60
        }
      ]
    },
    {
      "cell_type": "code",
      "metadata": {
        "id": "YgJ33_259avC",
        "colab_type": "code",
        "colab": {
          "base_uri": "https://localhost:8080/",
          "height": 35
        },
        "outputId": "a7e15cb3-5adb-4b4e-85f5-5a598f4e3fc3"
      },
      "source": [
        "lb.classes_"
      ],
      "execution_count": 61,
      "outputs": [
        {
          "output_type": "execute_result",
          "data": {
            "text/plain": [
              "array([' Black and White', 'Color'], dtype='<U16')"
            ]
          },
          "metadata": {
            "tags": []
          },
          "execution_count": 61
        }
      ]
    },
    {
      "cell_type": "code",
      "metadata": {
        "id": "xFG_oS1oB7F6",
        "colab_type": "code",
        "colab": {
          "base_uri": "https://localhost:8080/",
          "height": 35
        },
        "outputId": "a90468f6-1a85-4a8f-d7a2-833c5b8e38fc"
      },
      "source": [
        "from sklearn.preprocessing import LabelEncoder\n",
        "le = LabelEncoder()\n",
        "le.fit(data_sc.color)\n",
        "le.transform(data_sc.color)"
      ],
      "execution_count": 62,
      "outputs": [
        {
          "output_type": "execute_result",
          "data": {
            "text/plain": [
              "array([1, 1, 1, ..., 1, 1, 1])"
            ]
          },
          "metadata": {
            "tags": []
          },
          "execution_count": 62
        }
      ]
    },
    {
      "cell_type": "code",
      "metadata": {
        "id": "a_N19ZU9B7C-",
        "colab_type": "code",
        "colab": {
          "base_uri": "https://localhost:8080/",
          "height": 35
        },
        "outputId": "8575d43b-f530-4849-a9c6-adf5d67ec185"
      },
      "source": [
        "le.classes_"
      ],
      "execution_count": 63,
      "outputs": [
        {
          "output_type": "execute_result",
          "data": {
            "text/plain": [
              "array([' Black and White', 'Color'], dtype=object)"
            ]
          },
          "metadata": {
            "tags": []
          },
          "execution_count": 63
        }
      ]
    },
    {
      "cell_type": "code",
      "metadata": {
        "id": "Oy1M9ivOB7Al",
        "colab_type": "code",
        "colab": {
          "base_uri": "https://localhost:8080/",
          "height": 35
        },
        "outputId": "eaa12bcd-53c5-49c9-f7f4-8eefcc27d906"
      },
      "source": [
        "data.language.nunique()"
      ],
      "execution_count": 64,
      "outputs": [
        {
          "output_type": "execute_result",
          "data": {
            "text/plain": [
              "47"
            ]
          },
          "metadata": {
            "tags": []
          },
          "execution_count": 64
        }
      ]
    },
    {
      "cell_type": "code",
      "metadata": {
        "id": "wowtpCskB6-X",
        "colab_type": "code",
        "colab": {
          "base_uri": "https://localhost:8080/",
          "height": 35
        },
        "outputId": "9b941f9a-5dd7-4a5f-9935-a9fe6a1d87de"
      },
      "source": [
        "data.language.isna().sum()"
      ],
      "execution_count": 65,
      "outputs": [
        {
          "output_type": "execute_result",
          "data": {
            "text/plain": [
              "12"
            ]
          },
          "metadata": {
            "tags": []
          },
          "execution_count": 65
        }
      ]
    },
    {
      "cell_type": "code",
      "metadata": {
        "id": "hyc_qLx5B64I",
        "colab_type": "code",
        "colab": {
          "base_uri": "https://localhost:8080/",
          "height": 35
        },
        "outputId": "b6d779c6-68f0-4e54-e73e-fad97ec1e9c6"
      },
      "source": [
        "data_sc.language = data_sc.language.fillna(data_sc.language.mode()[0])\n",
        "data_sc.language.isna().sum()"
      ],
      "execution_count": 66,
      "outputs": [
        {
          "output_type": "execute_result",
          "data": {
            "text/plain": [
              "0"
            ]
          },
          "metadata": {
            "tags": []
          },
          "execution_count": 66
        }
      ]
    },
    {
      "cell_type": "code",
      "metadata": {
        "id": "-1r7k3H7B6y9",
        "colab_type": "code",
        "colab": {
          "base_uri": "https://localhost:8080/",
          "height": 139
        },
        "outputId": "d5d0add4-bc65-4ca3-ef76-8ba4e24b3d12"
      },
      "source": [
        "from sklearn.preprocessing import LabelBinarizer\n",
        "lb = LabelBinarizer()\n",
        "lbenc = lb.fit_transform(data_sc.language)\n",
        "lbenc"
      ],
      "execution_count": 67,
      "outputs": [
        {
          "output_type": "execute_result",
          "data": {
            "text/plain": [
              "array([[0, 0, 0, ..., 0, 0, 0],\n",
              "       [0, 0, 0, ..., 0, 0, 0],\n",
              "       [0, 0, 0, ..., 0, 0, 0],\n",
              "       ...,\n",
              "       [0, 0, 0, ..., 0, 0, 0],\n",
              "       [0, 0, 0, ..., 0, 0, 0],\n",
              "       [0, 0, 0, ..., 0, 0, 0]])"
            ]
          },
          "metadata": {
            "tags": []
          },
          "execution_count": 67
        }
      ]
    },
    {
      "cell_type": "code",
      "metadata": {
        "id": "17hQd7yLB6vy",
        "colab_type": "code",
        "colab": {
          "base_uri": "https://localhost:8080/",
          "height": 35
        },
        "outputId": "827a217c-4285-40b9-f3c1-fd50c9b510bc"
      },
      "source": [
        "lbenc.shape"
      ],
      "execution_count": 68,
      "outputs": [
        {
          "output_type": "execute_result",
          "data": {
            "text/plain": [
              "(4917, 47)"
            ]
          },
          "metadata": {
            "tags": []
          },
          "execution_count": 68
        }
      ]
    },
    {
      "cell_type": "code",
      "metadata": {
        "id": "xbbOgmzdB6ra",
        "colab_type": "code",
        "colab": {
          "base_uri": "https://localhost:8080/",
          "height": 69
        },
        "outputId": "e444df79-daea-4f3f-bb41-409271f1b6fa"
      },
      "source": [
        "lbenc[0]"
      ],
      "execution_count": 69,
      "outputs": [
        {
          "output_type": "execute_result",
          "data": {
            "text/plain": [
              "array([0, 0, 0, 0, 0, 0, 0, 0, 0, 0, 0, 1, 0, 0, 0, 0, 0, 0, 0, 0, 0, 0,\n",
              "       0, 0, 0, 0, 0, 0, 0, 0, 0, 0, 0, 0, 0, 0, 0, 0, 0, 0, 0, 0, 0, 0,\n",
              "       0, 0, 0])"
            ]
          },
          "metadata": {
            "tags": []
          },
          "execution_count": 69
        }
      ]
    },
    {
      "cell_type": "code",
      "metadata": {
        "id": "d440yEPy9ak9",
        "colab_type": "code",
        "colab": {
          "base_uri": "https://localhost:8080/",
          "height": 69
        },
        "outputId": "4a2d2a7f-03bf-495d-cfbf-e8a595c21fee"
      },
      "source": [
        "data_sc.language[data_sc.language=='Aboriginal']"
      ],
      "execution_count": 70,
      "outputs": [
        {
          "output_type": "execute_result",
          "data": {
            "text/plain": [
              "377     Aboriginal\n",
              "3504    Aboriginal\n",
              "Name: language, dtype: object"
            ]
          },
          "metadata": {
            "tags": []
          },
          "execution_count": 70
        }
      ]
    },
    {
      "cell_type": "code",
      "metadata": {
        "id": "jD7jQ3yxCs4F",
        "colab_type": "code",
        "colab": {
          "base_uri": "https://localhost:8080/",
          "height": 35
        },
        "outputId": "ed82f9ab-a7d6-47ae-b01b-ccf048625357"
      },
      "source": [
        "data_sc.language[377]"
      ],
      "execution_count": 71,
      "outputs": [
        {
          "output_type": "execute_result",
          "data": {
            "text/plain": [
              "'Aboriginal'"
            ]
          },
          "metadata": {
            "tags": []
          },
          "execution_count": 71
        }
      ]
    },
    {
      "cell_type": "code",
      "metadata": {
        "id": "Y4MxOTboCtPz",
        "colab_type": "code",
        "colab": {
          "base_uri": "https://localhost:8080/",
          "height": 69
        },
        "outputId": "67283257-164c-4ef2-dbff-3e3894c6bed5"
      },
      "source": [
        "lbenc[3504]"
      ],
      "execution_count": 72,
      "outputs": [
        {
          "output_type": "execute_result",
          "data": {
            "text/plain": [
              "array([0, 0, 0, 0, 0, 0, 0, 0, 0, 0, 0, 1, 0, 0, 0, 0, 0, 0, 0, 0, 0, 0,\n",
              "       0, 0, 0, 0, 0, 0, 0, 0, 0, 0, 0, 0, 0, 0, 0, 0, 0, 0, 0, 0, 0, 0,\n",
              "       0, 0, 0])"
            ]
          },
          "metadata": {
            "tags": []
          },
          "execution_count": 72
        }
      ]
    },
    {
      "cell_type": "code",
      "metadata": {
        "id": "BRy9P_syCtNX",
        "colab_type": "code",
        "colab": {
          "base_uri": "https://localhost:8080/",
          "height": 139
        },
        "outputId": "ffccebef-fc5b-49a1-c43c-4d83972292aa"
      },
      "source": [
        "lbenc"
      ],
      "execution_count": 73,
      "outputs": [
        {
          "output_type": "execute_result",
          "data": {
            "text/plain": [
              "array([[0, 0, 0, ..., 0, 0, 0],\n",
              "       [0, 0, 0, ..., 0, 0, 0],\n",
              "       [0, 0, 0, ..., 0, 0, 0],\n",
              "       ...,\n",
              "       [0, 0, 0, ..., 0, 0, 0],\n",
              "       [0, 0, 0, ..., 0, 0, 0],\n",
              "       [0, 0, 0, ..., 0, 0, 0]])"
            ]
          },
          "metadata": {
            "tags": []
          },
          "execution_count": 73
        }
      ]
    },
    {
      "cell_type": "code",
      "metadata": {
        "id": "SxK-fRLzCtKf",
        "colab_type": "code",
        "colab": {
          "base_uri": "https://localhost:8080/",
          "height": 121
        },
        "outputId": "858faa5a-c66d-424b-e538-e1dbdf858973"
      },
      "source": [
        "lbenc[[np.argmax(i)==0 for i in lbenc]]"
      ],
      "execution_count": 74,
      "outputs": [
        {
          "output_type": "execute_result",
          "data": {
            "text/plain": [
              "array([[1, 0, 0, 0, 0, 0, 0, 0, 0, 0, 0, 0, 0, 0, 0, 0, 0, 0, 0, 0, 0, 0,\n",
              "        0, 0, 0, 0, 0, 0, 0, 0, 0, 0, 0, 0, 0, 0, 0, 0, 0, 0, 0, 0, 0, 0,\n",
              "        0, 0, 0],\n",
              "       [1, 0, 0, 0, 0, 0, 0, 0, 0, 0, 0, 0, 0, 0, 0, 0, 0, 0, 0, 0, 0, 0,\n",
              "        0, 0, 0, 0, 0, 0, 0, 0, 0, 0, 0, 0, 0, 0, 0, 0, 0, 0, 0, 0, 0, 0,\n",
              "        0, 0, 0]])"
            ]
          },
          "metadata": {
            "tags": []
          },
          "execution_count": 74
        }
      ]
    },
    {
      "cell_type": "code",
      "metadata": {
        "id": "x4o7Um67Cs1u",
        "colab_type": "code",
        "colab": {
          "base_uri": "https://localhost:8080/",
          "height": 69
        },
        "outputId": "c10f4ed1-8e8b-44c9-fb21-f5436c8c05fa"
      },
      "source": [
        "data_sc.language[[np.argmax(i)==0 for i in lbenc]]"
      ],
      "execution_count": 75,
      "outputs": [
        {
          "output_type": "execute_result",
          "data": {
            "text/plain": [
              "377     Aboriginal\n",
              "3504    Aboriginal\n",
              "Name: language, dtype: object"
            ]
          },
          "metadata": {
            "tags": []
          },
          "execution_count": 75
        }
      ]
    },
    {
      "cell_type": "code",
      "metadata": {
        "id": "_8wgUYEYCsy-",
        "colab_type": "code",
        "colab": {
          "base_uri": "https://localhost:8080/",
          "height": 173
        },
        "outputId": "4b5ae714-040d-47c5-d174-a12323996b12"
      },
      "source": [
        "lb.classes_"
      ],
      "execution_count": 76,
      "outputs": [
        {
          "output_type": "execute_result",
          "data": {
            "text/plain": [
              "array(['Aboriginal', 'Arabic', 'Aramaic', 'Bosnian', 'Cantonese',\n",
              "       'Chinese', 'Czech', 'Danish', 'Dari', 'Dutch', 'Dzongkha',\n",
              "       'English', 'Filipino', 'French', 'German', 'Greek', 'Hebrew',\n",
              "       'Hindi', 'Hungarian', 'Icelandic', 'Indonesian', 'Italian',\n",
              "       'Japanese', 'Kannada', 'Kazakh', 'Korean', 'Mandarin', 'Maya',\n",
              "       'Mongolian', 'None', 'Norwegian', 'Panjabi', 'Persian', 'Polish',\n",
              "       'Portuguese', 'Romanian', 'Russian', 'Slovenian', 'Spanish',\n",
              "       'Swahili', 'Swedish', 'Tamil', 'Telugu', 'Thai', 'Urdu',\n",
              "       'Vietnamese', 'Zulu'], dtype='<U10')"
            ]
          },
          "metadata": {
            "tags": []
          },
          "execution_count": 76
        }
      ]
    },
    {
      "cell_type": "code",
      "metadata": {
        "id": "YG7x4h0cCswZ",
        "colab_type": "code",
        "colab": {
          "base_uri": "https://localhost:8080/",
          "height": 35
        },
        "outputId": "8f0dd2d6-6d53-49f6-ed42-b87046135baa"
      },
      "source": [
        "data_sc.language[0]"
      ],
      "execution_count": 77,
      "outputs": [
        {
          "output_type": "execute_result",
          "data": {
            "text/plain": [
              "'English'"
            ]
          },
          "metadata": {
            "tags": []
          },
          "execution_count": 77
        }
      ]
    },
    {
      "cell_type": "code",
      "metadata": {
        "id": "MVE4D5q_CstR",
        "colab_type": "code",
        "colab": {
          "base_uri": "https://localhost:8080/",
          "height": 35
        },
        "outputId": "d7e6d3d7-126f-413f-e0b5-55994684914d"
      },
      "source": [
        "from sklearn.preprocessing import LabelEncoder\n",
        "le = LabelEncoder()\n",
        "le.fit(data_sc.language)\n",
        "le.transform(data_sc.language)"
      ],
      "execution_count": 78,
      "outputs": [
        {
          "output_type": "execute_result",
          "data": {
            "text/plain": [
              "array([11, 11, 11, ..., 11, 11, 11])"
            ]
          },
          "metadata": {
            "tags": []
          },
          "execution_count": 78
        }
      ]
    },
    {
      "cell_type": "code",
      "metadata": {
        "id": "BTvKczWeCspK",
        "colab_type": "code",
        "colab": {
          "base_uri": "https://localhost:8080/",
          "height": 35
        },
        "outputId": "5951be19-29a3-4922-a58d-8ab6848d222c"
      },
      "source": [
        "le.transform(data_sc.language).shape"
      ],
      "execution_count": 79,
      "outputs": [
        {
          "output_type": "execute_result",
          "data": {
            "text/plain": [
              "(4917,)"
            ]
          },
          "metadata": {
            "tags": []
          },
          "execution_count": 79
        }
      ]
    },
    {
      "cell_type": "code",
      "metadata": {
        "id": "rOf6f4d7DjIl",
        "colab_type": "code",
        "colab": {
          "base_uri": "https://localhost:8080/",
          "height": 69
        },
        "outputId": "1e1c2ebb-7355-497d-9627-0c26057a820a"
      },
      "source": [
        "pd.Series(le.transform(data_sc.language)).unique()"
      ],
      "execution_count": 80,
      "outputs": [
        {
          "output_type": "execute_result",
          "data": {
            "text/plain": [
              "array([11, 22, 13, 26,  0, 38, 12, 17, 36, 27, 24, 42,  4, 19, 14,  2, 21,\n",
              "        9,  8, 16,  5, 28, 40, 25, 43, 33,  3, 29, 18, 34,  7,  1, 30,  6,\n",
              "       23, 46, 31, 41, 10, 45, 20, 44, 35, 32, 37, 15, 39])"
            ]
          },
          "metadata": {
            "tags": []
          },
          "execution_count": 80
        }
      ]
    },
    {
      "cell_type": "code",
      "metadata": {
        "id": "UaYuUawODjdd",
        "colab_type": "code",
        "colab": {
          "base_uri": "https://localhost:8080/",
          "height": 173
        },
        "outputId": "baef2203-edfb-423d-93c4-3806882aa240"
      },
      "source": [
        "le.classes_"
      ],
      "execution_count": 81,
      "outputs": [
        {
          "output_type": "execute_result",
          "data": {
            "text/plain": [
              "array(['Aboriginal', 'Arabic', 'Aramaic', 'Bosnian', 'Cantonese',\n",
              "       'Chinese', 'Czech', 'Danish', 'Dari', 'Dutch', 'Dzongkha',\n",
              "       'English', 'Filipino', 'French', 'German', 'Greek', 'Hebrew',\n",
              "       'Hindi', 'Hungarian', 'Icelandic', 'Indonesian', 'Italian',\n",
              "       'Japanese', 'Kannada', 'Kazakh', 'Korean', 'Mandarin', 'Maya',\n",
              "       'Mongolian', 'None', 'Norwegian', 'Panjabi', 'Persian', 'Polish',\n",
              "       'Portuguese', 'Romanian', 'Russian', 'Slovenian', 'Spanish',\n",
              "       'Swahili', 'Swedish', 'Tamil', 'Telugu', 'Thai', 'Urdu',\n",
              "       'Vietnamese', 'Zulu'], dtype=object)"
            ]
          },
          "metadata": {
            "tags": []
          },
          "execution_count": 81
        }
      ]
    },
    {
      "cell_type": "code",
      "metadata": {
        "id": "mzGH3bFIDjWL",
        "colab_type": "code",
        "colab": {
          "base_uri": "https://localhost:8080/",
          "height": 52
        },
        "outputId": "7137ec49-f6d0-4346-f71f-cbbafd5f0665"
      },
      "source": [
        "from sklearn.preprocessing import OneHotEncoder\n",
        "ohe = OneHotEncoder()\n",
        "ohe.fit(data_sc[['language']])\n",
        "ohe.transform(data_sc[['language']])"
      ],
      "execution_count": 82,
      "outputs": [
        {
          "output_type": "execute_result",
          "data": {
            "text/plain": [
              "<4917x47 sparse matrix of type '<class 'numpy.float64'>'\n",
              "\twith 4917 stored elements in Compressed Sparse Row format>"
            ]
          },
          "metadata": {
            "tags": []
          },
          "execution_count": 82
        }
      ]
    },
    {
      "cell_type": "code",
      "metadata": {
        "id": "AigINDtSDy4a",
        "colab_type": "code",
        "colab": {
          "base_uri": "https://localhost:8080/",
          "height": 52
        },
        "outputId": "014d8c07-1b13-4fa1-cb1b-7e383a5b2ab5"
      },
      "source": [
        "ohe"
      ],
      "execution_count": 83,
      "outputs": [
        {
          "output_type": "execute_result",
          "data": {
            "text/plain": [
              "OneHotEncoder(categories='auto', drop=None, dtype=<class 'numpy.float64'>,\n",
              "              handle_unknown='error', sparse=True)"
            ]
          },
          "metadata": {
            "tags": []
          },
          "execution_count": 83
        }
      ]
    },
    {
      "cell_type": "code",
      "metadata": {
        "id": "5gbV38Z3DzG6",
        "colab_type": "code",
        "colab": {
          "base_uri": "https://localhost:8080/",
          "height": 435
        },
        "outputId": "cfbfeb91-be3c-4f7b-a87a-66de7aa935c2"
      },
      "source": [
        "pd.get_dummies(data_sc['language'])"
      ],
      "execution_count": 84,
      "outputs": [
        {
          "output_type": "execute_result",
          "data": {
            "text/html": [
              "<div>\n",
              "<style scoped>\n",
              "    .dataframe tbody tr th:only-of-type {\n",
              "        vertical-align: middle;\n",
              "    }\n",
              "\n",
              "    .dataframe tbody tr th {\n",
              "        vertical-align: top;\n",
              "    }\n",
              "\n",
              "    .dataframe thead th {\n",
              "        text-align: right;\n",
              "    }\n",
              "</style>\n",
              "<table border=\"1\" class=\"dataframe\">\n",
              "  <thead>\n",
              "    <tr style=\"text-align: right;\">\n",
              "      <th></th>\n",
              "      <th>Aboriginal</th>\n",
              "      <th>Arabic</th>\n",
              "      <th>Aramaic</th>\n",
              "      <th>Bosnian</th>\n",
              "      <th>Cantonese</th>\n",
              "      <th>Chinese</th>\n",
              "      <th>Czech</th>\n",
              "      <th>Danish</th>\n",
              "      <th>Dari</th>\n",
              "      <th>Dutch</th>\n",
              "      <th>Dzongkha</th>\n",
              "      <th>English</th>\n",
              "      <th>Filipino</th>\n",
              "      <th>French</th>\n",
              "      <th>German</th>\n",
              "      <th>Greek</th>\n",
              "      <th>Hebrew</th>\n",
              "      <th>Hindi</th>\n",
              "      <th>Hungarian</th>\n",
              "      <th>Icelandic</th>\n",
              "      <th>Indonesian</th>\n",
              "      <th>Italian</th>\n",
              "      <th>Japanese</th>\n",
              "      <th>Kannada</th>\n",
              "      <th>Kazakh</th>\n",
              "      <th>Korean</th>\n",
              "      <th>Mandarin</th>\n",
              "      <th>Maya</th>\n",
              "      <th>Mongolian</th>\n",
              "      <th>None</th>\n",
              "      <th>Norwegian</th>\n",
              "      <th>Panjabi</th>\n",
              "      <th>Persian</th>\n",
              "      <th>Polish</th>\n",
              "      <th>Portuguese</th>\n",
              "      <th>Romanian</th>\n",
              "      <th>Russian</th>\n",
              "      <th>Slovenian</th>\n",
              "      <th>Spanish</th>\n",
              "      <th>Swahili</th>\n",
              "      <th>Swedish</th>\n",
              "      <th>Tamil</th>\n",
              "      <th>Telugu</th>\n",
              "      <th>Thai</th>\n",
              "      <th>Urdu</th>\n",
              "      <th>Vietnamese</th>\n",
              "      <th>Zulu</th>\n",
              "    </tr>\n",
              "  </thead>\n",
              "  <tbody>\n",
              "    <tr>\n",
              "      <th>0</th>\n",
              "      <td>0</td>\n",
              "      <td>0</td>\n",
              "      <td>0</td>\n",
              "      <td>0</td>\n",
              "      <td>0</td>\n",
              "      <td>0</td>\n",
              "      <td>0</td>\n",
              "      <td>0</td>\n",
              "      <td>0</td>\n",
              "      <td>0</td>\n",
              "      <td>0</td>\n",
              "      <td>1</td>\n",
              "      <td>0</td>\n",
              "      <td>0</td>\n",
              "      <td>0</td>\n",
              "      <td>0</td>\n",
              "      <td>0</td>\n",
              "      <td>0</td>\n",
              "      <td>0</td>\n",
              "      <td>0</td>\n",
              "      <td>0</td>\n",
              "      <td>0</td>\n",
              "      <td>0</td>\n",
              "      <td>0</td>\n",
              "      <td>0</td>\n",
              "      <td>0</td>\n",
              "      <td>0</td>\n",
              "      <td>0</td>\n",
              "      <td>0</td>\n",
              "      <td>0</td>\n",
              "      <td>0</td>\n",
              "      <td>0</td>\n",
              "      <td>0</td>\n",
              "      <td>0</td>\n",
              "      <td>0</td>\n",
              "      <td>0</td>\n",
              "      <td>0</td>\n",
              "      <td>0</td>\n",
              "      <td>0</td>\n",
              "      <td>0</td>\n",
              "      <td>0</td>\n",
              "      <td>0</td>\n",
              "      <td>0</td>\n",
              "      <td>0</td>\n",
              "      <td>0</td>\n",
              "      <td>0</td>\n",
              "      <td>0</td>\n",
              "    </tr>\n",
              "    <tr>\n",
              "      <th>1</th>\n",
              "      <td>0</td>\n",
              "      <td>0</td>\n",
              "      <td>0</td>\n",
              "      <td>0</td>\n",
              "      <td>0</td>\n",
              "      <td>0</td>\n",
              "      <td>0</td>\n",
              "      <td>0</td>\n",
              "      <td>0</td>\n",
              "      <td>0</td>\n",
              "      <td>0</td>\n",
              "      <td>1</td>\n",
              "      <td>0</td>\n",
              "      <td>0</td>\n",
              "      <td>0</td>\n",
              "      <td>0</td>\n",
              "      <td>0</td>\n",
              "      <td>0</td>\n",
              "      <td>0</td>\n",
              "      <td>0</td>\n",
              "      <td>0</td>\n",
              "      <td>0</td>\n",
              "      <td>0</td>\n",
              "      <td>0</td>\n",
              "      <td>0</td>\n",
              "      <td>0</td>\n",
              "      <td>0</td>\n",
              "      <td>0</td>\n",
              "      <td>0</td>\n",
              "      <td>0</td>\n",
              "      <td>0</td>\n",
              "      <td>0</td>\n",
              "      <td>0</td>\n",
              "      <td>0</td>\n",
              "      <td>0</td>\n",
              "      <td>0</td>\n",
              "      <td>0</td>\n",
              "      <td>0</td>\n",
              "      <td>0</td>\n",
              "      <td>0</td>\n",
              "      <td>0</td>\n",
              "      <td>0</td>\n",
              "      <td>0</td>\n",
              "      <td>0</td>\n",
              "      <td>0</td>\n",
              "      <td>0</td>\n",
              "      <td>0</td>\n",
              "    </tr>\n",
              "    <tr>\n",
              "      <th>2</th>\n",
              "      <td>0</td>\n",
              "      <td>0</td>\n",
              "      <td>0</td>\n",
              "      <td>0</td>\n",
              "      <td>0</td>\n",
              "      <td>0</td>\n",
              "      <td>0</td>\n",
              "      <td>0</td>\n",
              "      <td>0</td>\n",
              "      <td>0</td>\n",
              "      <td>0</td>\n",
              "      <td>1</td>\n",
              "      <td>0</td>\n",
              "      <td>0</td>\n",
              "      <td>0</td>\n",
              "      <td>0</td>\n",
              "      <td>0</td>\n",
              "      <td>0</td>\n",
              "      <td>0</td>\n",
              "      <td>0</td>\n",
              "      <td>0</td>\n",
              "      <td>0</td>\n",
              "      <td>0</td>\n",
              "      <td>0</td>\n",
              "      <td>0</td>\n",
              "      <td>0</td>\n",
              "      <td>0</td>\n",
              "      <td>0</td>\n",
              "      <td>0</td>\n",
              "      <td>0</td>\n",
              "      <td>0</td>\n",
              "      <td>0</td>\n",
              "      <td>0</td>\n",
              "      <td>0</td>\n",
              "      <td>0</td>\n",
              "      <td>0</td>\n",
              "      <td>0</td>\n",
              "      <td>0</td>\n",
              "      <td>0</td>\n",
              "      <td>0</td>\n",
              "      <td>0</td>\n",
              "      <td>0</td>\n",
              "      <td>0</td>\n",
              "      <td>0</td>\n",
              "      <td>0</td>\n",
              "      <td>0</td>\n",
              "      <td>0</td>\n",
              "    </tr>\n",
              "    <tr>\n",
              "      <th>3</th>\n",
              "      <td>0</td>\n",
              "      <td>0</td>\n",
              "      <td>0</td>\n",
              "      <td>0</td>\n",
              "      <td>0</td>\n",
              "      <td>0</td>\n",
              "      <td>0</td>\n",
              "      <td>0</td>\n",
              "      <td>0</td>\n",
              "      <td>0</td>\n",
              "      <td>0</td>\n",
              "      <td>1</td>\n",
              "      <td>0</td>\n",
              "      <td>0</td>\n",
              "      <td>0</td>\n",
              "      <td>0</td>\n",
              "      <td>0</td>\n",
              "      <td>0</td>\n",
              "      <td>0</td>\n",
              "      <td>0</td>\n",
              "      <td>0</td>\n",
              "      <td>0</td>\n",
              "      <td>0</td>\n",
              "      <td>0</td>\n",
              "      <td>0</td>\n",
              "      <td>0</td>\n",
              "      <td>0</td>\n",
              "      <td>0</td>\n",
              "      <td>0</td>\n",
              "      <td>0</td>\n",
              "      <td>0</td>\n",
              "      <td>0</td>\n",
              "      <td>0</td>\n",
              "      <td>0</td>\n",
              "      <td>0</td>\n",
              "      <td>0</td>\n",
              "      <td>0</td>\n",
              "      <td>0</td>\n",
              "      <td>0</td>\n",
              "      <td>0</td>\n",
              "      <td>0</td>\n",
              "      <td>0</td>\n",
              "      <td>0</td>\n",
              "      <td>0</td>\n",
              "      <td>0</td>\n",
              "      <td>0</td>\n",
              "      <td>0</td>\n",
              "    </tr>\n",
              "    <tr>\n",
              "      <th>4</th>\n",
              "      <td>0</td>\n",
              "      <td>0</td>\n",
              "      <td>0</td>\n",
              "      <td>0</td>\n",
              "      <td>0</td>\n",
              "      <td>0</td>\n",
              "      <td>0</td>\n",
              "      <td>0</td>\n",
              "      <td>0</td>\n",
              "      <td>0</td>\n",
              "      <td>0</td>\n",
              "      <td>1</td>\n",
              "      <td>0</td>\n",
              "      <td>0</td>\n",
              "      <td>0</td>\n",
              "      <td>0</td>\n",
              "      <td>0</td>\n",
              "      <td>0</td>\n",
              "      <td>0</td>\n",
              "      <td>0</td>\n",
              "      <td>0</td>\n",
              "      <td>0</td>\n",
              "      <td>0</td>\n",
              "      <td>0</td>\n",
              "      <td>0</td>\n",
              "      <td>0</td>\n",
              "      <td>0</td>\n",
              "      <td>0</td>\n",
              "      <td>0</td>\n",
              "      <td>0</td>\n",
              "      <td>0</td>\n",
              "      <td>0</td>\n",
              "      <td>0</td>\n",
              "      <td>0</td>\n",
              "      <td>0</td>\n",
              "      <td>0</td>\n",
              "      <td>0</td>\n",
              "      <td>0</td>\n",
              "      <td>0</td>\n",
              "      <td>0</td>\n",
              "      <td>0</td>\n",
              "      <td>0</td>\n",
              "      <td>0</td>\n",
              "      <td>0</td>\n",
              "      <td>0</td>\n",
              "      <td>0</td>\n",
              "      <td>0</td>\n",
              "    </tr>\n",
              "    <tr>\n",
              "      <th>...</th>\n",
              "      <td>...</td>\n",
              "      <td>...</td>\n",
              "      <td>...</td>\n",
              "      <td>...</td>\n",
              "      <td>...</td>\n",
              "      <td>...</td>\n",
              "      <td>...</td>\n",
              "      <td>...</td>\n",
              "      <td>...</td>\n",
              "      <td>...</td>\n",
              "      <td>...</td>\n",
              "      <td>...</td>\n",
              "      <td>...</td>\n",
              "      <td>...</td>\n",
              "      <td>...</td>\n",
              "      <td>...</td>\n",
              "      <td>...</td>\n",
              "      <td>...</td>\n",
              "      <td>...</td>\n",
              "      <td>...</td>\n",
              "      <td>...</td>\n",
              "      <td>...</td>\n",
              "      <td>...</td>\n",
              "      <td>...</td>\n",
              "      <td>...</td>\n",
              "      <td>...</td>\n",
              "      <td>...</td>\n",
              "      <td>...</td>\n",
              "      <td>...</td>\n",
              "      <td>...</td>\n",
              "      <td>...</td>\n",
              "      <td>...</td>\n",
              "      <td>...</td>\n",
              "      <td>...</td>\n",
              "      <td>...</td>\n",
              "      <td>...</td>\n",
              "      <td>...</td>\n",
              "      <td>...</td>\n",
              "      <td>...</td>\n",
              "      <td>...</td>\n",
              "      <td>...</td>\n",
              "      <td>...</td>\n",
              "      <td>...</td>\n",
              "      <td>...</td>\n",
              "      <td>...</td>\n",
              "      <td>...</td>\n",
              "      <td>...</td>\n",
              "    </tr>\n",
              "    <tr>\n",
              "      <th>5038</th>\n",
              "      <td>0</td>\n",
              "      <td>0</td>\n",
              "      <td>0</td>\n",
              "      <td>0</td>\n",
              "      <td>0</td>\n",
              "      <td>0</td>\n",
              "      <td>0</td>\n",
              "      <td>0</td>\n",
              "      <td>0</td>\n",
              "      <td>0</td>\n",
              "      <td>0</td>\n",
              "      <td>1</td>\n",
              "      <td>0</td>\n",
              "      <td>0</td>\n",
              "      <td>0</td>\n",
              "      <td>0</td>\n",
              "      <td>0</td>\n",
              "      <td>0</td>\n",
              "      <td>0</td>\n",
              "      <td>0</td>\n",
              "      <td>0</td>\n",
              "      <td>0</td>\n",
              "      <td>0</td>\n",
              "      <td>0</td>\n",
              "      <td>0</td>\n",
              "      <td>0</td>\n",
              "      <td>0</td>\n",
              "      <td>0</td>\n",
              "      <td>0</td>\n",
              "      <td>0</td>\n",
              "      <td>0</td>\n",
              "      <td>0</td>\n",
              "      <td>0</td>\n",
              "      <td>0</td>\n",
              "      <td>0</td>\n",
              "      <td>0</td>\n",
              "      <td>0</td>\n",
              "      <td>0</td>\n",
              "      <td>0</td>\n",
              "      <td>0</td>\n",
              "      <td>0</td>\n",
              "      <td>0</td>\n",
              "      <td>0</td>\n",
              "      <td>0</td>\n",
              "      <td>0</td>\n",
              "      <td>0</td>\n",
              "      <td>0</td>\n",
              "    </tr>\n",
              "    <tr>\n",
              "      <th>5039</th>\n",
              "      <td>0</td>\n",
              "      <td>0</td>\n",
              "      <td>0</td>\n",
              "      <td>0</td>\n",
              "      <td>0</td>\n",
              "      <td>0</td>\n",
              "      <td>0</td>\n",
              "      <td>0</td>\n",
              "      <td>0</td>\n",
              "      <td>0</td>\n",
              "      <td>0</td>\n",
              "      <td>1</td>\n",
              "      <td>0</td>\n",
              "      <td>0</td>\n",
              "      <td>0</td>\n",
              "      <td>0</td>\n",
              "      <td>0</td>\n",
              "      <td>0</td>\n",
              "      <td>0</td>\n",
              "      <td>0</td>\n",
              "      <td>0</td>\n",
              "      <td>0</td>\n",
              "      <td>0</td>\n",
              "      <td>0</td>\n",
              "      <td>0</td>\n",
              "      <td>0</td>\n",
              "      <td>0</td>\n",
              "      <td>0</td>\n",
              "      <td>0</td>\n",
              "      <td>0</td>\n",
              "      <td>0</td>\n",
              "      <td>0</td>\n",
              "      <td>0</td>\n",
              "      <td>0</td>\n",
              "      <td>0</td>\n",
              "      <td>0</td>\n",
              "      <td>0</td>\n",
              "      <td>0</td>\n",
              "      <td>0</td>\n",
              "      <td>0</td>\n",
              "      <td>0</td>\n",
              "      <td>0</td>\n",
              "      <td>0</td>\n",
              "      <td>0</td>\n",
              "      <td>0</td>\n",
              "      <td>0</td>\n",
              "      <td>0</td>\n",
              "    </tr>\n",
              "    <tr>\n",
              "      <th>5040</th>\n",
              "      <td>0</td>\n",
              "      <td>0</td>\n",
              "      <td>0</td>\n",
              "      <td>0</td>\n",
              "      <td>0</td>\n",
              "      <td>0</td>\n",
              "      <td>0</td>\n",
              "      <td>0</td>\n",
              "      <td>0</td>\n",
              "      <td>0</td>\n",
              "      <td>0</td>\n",
              "      <td>1</td>\n",
              "      <td>0</td>\n",
              "      <td>0</td>\n",
              "      <td>0</td>\n",
              "      <td>0</td>\n",
              "      <td>0</td>\n",
              "      <td>0</td>\n",
              "      <td>0</td>\n",
              "      <td>0</td>\n",
              "      <td>0</td>\n",
              "      <td>0</td>\n",
              "      <td>0</td>\n",
              "      <td>0</td>\n",
              "      <td>0</td>\n",
              "      <td>0</td>\n",
              "      <td>0</td>\n",
              "      <td>0</td>\n",
              "      <td>0</td>\n",
              "      <td>0</td>\n",
              "      <td>0</td>\n",
              "      <td>0</td>\n",
              "      <td>0</td>\n",
              "      <td>0</td>\n",
              "      <td>0</td>\n",
              "      <td>0</td>\n",
              "      <td>0</td>\n",
              "      <td>0</td>\n",
              "      <td>0</td>\n",
              "      <td>0</td>\n",
              "      <td>0</td>\n",
              "      <td>0</td>\n",
              "      <td>0</td>\n",
              "      <td>0</td>\n",
              "      <td>0</td>\n",
              "      <td>0</td>\n",
              "      <td>0</td>\n",
              "    </tr>\n",
              "    <tr>\n",
              "      <th>5041</th>\n",
              "      <td>0</td>\n",
              "      <td>0</td>\n",
              "      <td>0</td>\n",
              "      <td>0</td>\n",
              "      <td>0</td>\n",
              "      <td>0</td>\n",
              "      <td>0</td>\n",
              "      <td>0</td>\n",
              "      <td>0</td>\n",
              "      <td>0</td>\n",
              "      <td>0</td>\n",
              "      <td>1</td>\n",
              "      <td>0</td>\n",
              "      <td>0</td>\n",
              "      <td>0</td>\n",
              "      <td>0</td>\n",
              "      <td>0</td>\n",
              "      <td>0</td>\n",
              "      <td>0</td>\n",
              "      <td>0</td>\n",
              "      <td>0</td>\n",
              "      <td>0</td>\n",
              "      <td>0</td>\n",
              "      <td>0</td>\n",
              "      <td>0</td>\n",
              "      <td>0</td>\n",
              "      <td>0</td>\n",
              "      <td>0</td>\n",
              "      <td>0</td>\n",
              "      <td>0</td>\n",
              "      <td>0</td>\n",
              "      <td>0</td>\n",
              "      <td>0</td>\n",
              "      <td>0</td>\n",
              "      <td>0</td>\n",
              "      <td>0</td>\n",
              "      <td>0</td>\n",
              "      <td>0</td>\n",
              "      <td>0</td>\n",
              "      <td>0</td>\n",
              "      <td>0</td>\n",
              "      <td>0</td>\n",
              "      <td>0</td>\n",
              "      <td>0</td>\n",
              "      <td>0</td>\n",
              "      <td>0</td>\n",
              "      <td>0</td>\n",
              "    </tr>\n",
              "    <tr>\n",
              "      <th>5042</th>\n",
              "      <td>0</td>\n",
              "      <td>0</td>\n",
              "      <td>0</td>\n",
              "      <td>0</td>\n",
              "      <td>0</td>\n",
              "      <td>0</td>\n",
              "      <td>0</td>\n",
              "      <td>0</td>\n",
              "      <td>0</td>\n",
              "      <td>0</td>\n",
              "      <td>0</td>\n",
              "      <td>1</td>\n",
              "      <td>0</td>\n",
              "      <td>0</td>\n",
              "      <td>0</td>\n",
              "      <td>0</td>\n",
              "      <td>0</td>\n",
              "      <td>0</td>\n",
              "      <td>0</td>\n",
              "      <td>0</td>\n",
              "      <td>0</td>\n",
              "      <td>0</td>\n",
              "      <td>0</td>\n",
              "      <td>0</td>\n",
              "      <td>0</td>\n",
              "      <td>0</td>\n",
              "      <td>0</td>\n",
              "      <td>0</td>\n",
              "      <td>0</td>\n",
              "      <td>0</td>\n",
              "      <td>0</td>\n",
              "      <td>0</td>\n",
              "      <td>0</td>\n",
              "      <td>0</td>\n",
              "      <td>0</td>\n",
              "      <td>0</td>\n",
              "      <td>0</td>\n",
              "      <td>0</td>\n",
              "      <td>0</td>\n",
              "      <td>0</td>\n",
              "      <td>0</td>\n",
              "      <td>0</td>\n",
              "      <td>0</td>\n",
              "      <td>0</td>\n",
              "      <td>0</td>\n",
              "      <td>0</td>\n",
              "      <td>0</td>\n",
              "    </tr>\n",
              "  </tbody>\n",
              "</table>\n",
              "<p>4917 rows × 47 columns</p>\n",
              "</div>"
            ],
            "text/plain": [
              "      Aboriginal  Arabic  Aramaic  Bosnian  ...  Thai  Urdu  Vietnamese  Zulu\n",
              "0              0       0        0        0  ...     0     0           0     0\n",
              "1              0       0        0        0  ...     0     0           0     0\n",
              "2              0       0        0        0  ...     0     0           0     0\n",
              "3              0       0        0        0  ...     0     0           0     0\n",
              "4              0       0        0        0  ...     0     0           0     0\n",
              "...          ...     ...      ...      ...  ...   ...   ...         ...   ...\n",
              "5038           0       0        0        0  ...     0     0           0     0\n",
              "5039           0       0        0        0  ...     0     0           0     0\n",
              "5040           0       0        0        0  ...     0     0           0     0\n",
              "5041           0       0        0        0  ...     0     0           0     0\n",
              "5042           0       0        0        0  ...     0     0           0     0\n",
              "\n",
              "[4917 rows x 47 columns]"
            ]
          },
          "metadata": {
            "tags": []
          },
          "execution_count": 84
        }
      ]
    },
    {
      "cell_type": "markdown",
      "metadata": {
        "id": "BtQkL_BCEB1N",
        "colab_type": "text"
      },
      "source": [
        "StandardScaler\n",
        "\n",
        "LabelBinarizer\n",
        "\n",
        "LabelEncoder\n",
        "\n",
        "OneHotEncoder\n",
        "\n",
        "pd.getdummies"
      ]
    },
    {
      "cell_type": "code",
      "metadata": {
        "id": "M7HNjsQlDzCX",
        "colab_type": "code",
        "colab": {}
      },
      "source": [
        "branches = pd.Series(['ECE','CSE',\"ECE\",\"IT\",\"ECE\",\"IT\",\"MECH\"])"
      ],
      "execution_count": 0,
      "outputs": []
    },
    {
      "cell_type": "code",
      "metadata": {
        "id": "aIU9feT5DjFl",
        "colab_type": "code",
        "colab": {
          "base_uri": "https://localhost:8080/",
          "height": 139
        },
        "outputId": "d8adc04c-94d0-4249-87b4-ee5faac394b0"
      },
      "source": [
        "lb1 = LabelBinarizer()\n",
        "lb1.fit_transform(branches)"
      ],
      "execution_count": 86,
      "outputs": [
        {
          "output_type": "execute_result",
          "data": {
            "text/plain": [
              "array([[0, 1, 0, 0],\n",
              "       [1, 0, 0, 0],\n",
              "       [0, 1, 0, 0],\n",
              "       [0, 0, 1, 0],\n",
              "       [0, 1, 0, 0],\n",
              "       [0, 0, 1, 0],\n",
              "       [0, 0, 0, 1]])"
            ]
          },
          "metadata": {
            "tags": []
          },
          "execution_count": 86
        }
      ]
    },
    {
      "cell_type": "code",
      "metadata": {
        "id": "vNbsWAK8Di_8",
        "colab_type": "code",
        "colab": {
          "base_uri": "https://localhost:8080/",
          "height": 35
        },
        "outputId": "1136c750-a70f-438f-940f-47f527946656"
      },
      "source": [
        "lb1.classes_"
      ],
      "execution_count": 87,
      "outputs": [
        {
          "output_type": "execute_result",
          "data": {
            "text/plain": [
              "array(['CSE', 'ECE', 'IT', 'MECH'], dtype='<U4')"
            ]
          },
          "metadata": {
            "tags": []
          },
          "execution_count": 87
        }
      ]
    },
    {
      "cell_type": "code",
      "metadata": {
        "id": "MByQe2g-EiZs",
        "colab_type": "code",
        "colab": {
          "base_uri": "https://localhost:8080/",
          "height": 35
        },
        "outputId": "48c6da44-8ed0-4a93-853b-258a94f36226"
      },
      "source": [
        "le1 = LabelEncoder()\n",
        "le1.fit_transform(branches)"
      ],
      "execution_count": 88,
      "outputs": [
        {
          "output_type": "execute_result",
          "data": {
            "text/plain": [
              "array([1, 0, 1, 2, 1, 2, 3])"
            ]
          },
          "metadata": {
            "tags": []
          },
          "execution_count": 88
        }
      ]
    },
    {
      "cell_type": "code",
      "metadata": {
        "id": "oSJhvq28EqjQ",
        "colab_type": "code",
        "colab": {
          "base_uri": "https://localhost:8080/",
          "height": 156
        },
        "outputId": "73c6b219-8b90-4cfd-8812-8f895a64c758"
      },
      "source": [
        "branches"
      ],
      "execution_count": 89,
      "outputs": [
        {
          "output_type": "execute_result",
          "data": {
            "text/plain": [
              "0     ECE\n",
              "1     CSE\n",
              "2     ECE\n",
              "3      IT\n",
              "4     ECE\n",
              "5      IT\n",
              "6    MECH\n",
              "dtype: object"
            ]
          },
          "metadata": {
            "tags": []
          },
          "execution_count": 89
        }
      ]
    },
    {
      "cell_type": "code",
      "metadata": {
        "id": "JAC16KiyEikX",
        "colab_type": "code",
        "colab": {}
      },
      "source": [
        "le1.classes_"
      ],
      "execution_count": 0,
      "outputs": []
    },
    {
      "cell_type": "code",
      "metadata": {
        "id": "g_xP8TpFEiWN",
        "colab_type": "code",
        "colab": {
          "base_uri": "https://localhost:8080/",
          "height": 263
        },
        "outputId": "3123fb59-c24c-47be-dee0-7a8d13087bfe"
      },
      "source": [
        "pd.get_dummies(branches)"
      ],
      "execution_count": 90,
      "outputs": [
        {
          "output_type": "execute_result",
          "data": {
            "text/html": [
              "<div>\n",
              "<style scoped>\n",
              "    .dataframe tbody tr th:only-of-type {\n",
              "        vertical-align: middle;\n",
              "    }\n",
              "\n",
              "    .dataframe tbody tr th {\n",
              "        vertical-align: top;\n",
              "    }\n",
              "\n",
              "    .dataframe thead th {\n",
              "        text-align: right;\n",
              "    }\n",
              "</style>\n",
              "<table border=\"1\" class=\"dataframe\">\n",
              "  <thead>\n",
              "    <tr style=\"text-align: right;\">\n",
              "      <th></th>\n",
              "      <th>CSE</th>\n",
              "      <th>ECE</th>\n",
              "      <th>IT</th>\n",
              "      <th>MECH</th>\n",
              "    </tr>\n",
              "  </thead>\n",
              "  <tbody>\n",
              "    <tr>\n",
              "      <th>0</th>\n",
              "      <td>0</td>\n",
              "      <td>1</td>\n",
              "      <td>0</td>\n",
              "      <td>0</td>\n",
              "    </tr>\n",
              "    <tr>\n",
              "      <th>1</th>\n",
              "      <td>1</td>\n",
              "      <td>0</td>\n",
              "      <td>0</td>\n",
              "      <td>0</td>\n",
              "    </tr>\n",
              "    <tr>\n",
              "      <th>2</th>\n",
              "      <td>0</td>\n",
              "      <td>1</td>\n",
              "      <td>0</td>\n",
              "      <td>0</td>\n",
              "    </tr>\n",
              "    <tr>\n",
              "      <th>3</th>\n",
              "      <td>0</td>\n",
              "      <td>0</td>\n",
              "      <td>1</td>\n",
              "      <td>0</td>\n",
              "    </tr>\n",
              "    <tr>\n",
              "      <th>4</th>\n",
              "      <td>0</td>\n",
              "      <td>1</td>\n",
              "      <td>0</td>\n",
              "      <td>0</td>\n",
              "    </tr>\n",
              "    <tr>\n",
              "      <th>5</th>\n",
              "      <td>0</td>\n",
              "      <td>0</td>\n",
              "      <td>1</td>\n",
              "      <td>0</td>\n",
              "    </tr>\n",
              "    <tr>\n",
              "      <th>6</th>\n",
              "      <td>0</td>\n",
              "      <td>0</td>\n",
              "      <td>0</td>\n",
              "      <td>1</td>\n",
              "    </tr>\n",
              "  </tbody>\n",
              "</table>\n",
              "</div>"
            ],
            "text/plain": [
              "   CSE  ECE  IT  MECH\n",
              "0    0    1   0     0\n",
              "1    1    0   0     0\n",
              "2    0    1   0     0\n",
              "3    0    0   1     0\n",
              "4    0    1   0     0\n",
              "5    0    0   1     0\n",
              "6    0    0   0     1"
            ]
          },
          "metadata": {
            "tags": []
          },
          "execution_count": 90
        }
      ]
    },
    {
      "cell_type": "code",
      "metadata": {
        "id": "U_L8zccYE-hh",
        "colab_type": "code",
        "colab": {}
      },
      "source": [
        ""
      ],
      "execution_count": 0,
      "outputs": []
    }
  ]
}