{
  "nbformat": 4,
  "nbformat_minor": 0,
  "metadata": {
    "colab": {
      "name": "20-03-2020.ipynb",
      "provenance": [],
      "authorship_tag": "ABX9TyPhrEAP0OFwCiJ1TDeI48O2",
      "include_colab_link": true
    },
    "kernelspec": {
      "name": "python3",
      "display_name": "Python 3"
    }
  },
  "cells": [
    {
      "cell_type": "markdown",
      "metadata": {
        "id": "view-in-github",
        "colab_type": "text"
      },
      "source": [
        "<a href=\"https://colab.research.google.com/github/PRihana/Machine-learning/blob/master/20_03_2020.ipynb\" target=\"_parent\"><img src=\"https://colab.research.google.com/assets/colab-badge.svg\" alt=\"Open In Colab\"/></a>"
      ]
    },
    {
      "cell_type": "markdown",
      "metadata": {
        "id": "p0-ZzEiprqbT",
        "colab_type": "text"
      },
      "source": [
        "Numpy\n",
        "\n",
        "  - convert A list,tuple,dict in to Numpy array\n",
        "  - How to generate array with in a range of values\n",
        "     - arange\n",
        "     - linspace\n",
        "     - random.randint\n",
        "  - basic arthimetc operators on numpy array"
      ]
    },
    {
      "cell_type": "code",
      "metadata": {
        "id": "uHp8KPWjoopo",
        "colab_type": "code",
        "colab": {
          "base_uri": "https://localhost:8080/",
          "height": 35
        },
        "outputId": "26ca96a4-e45b-4db1-a0f4-d8cd87c44282"
      },
      "source": [
        "import numpy as np\n",
        "a = np.arange(10)\n",
        "a"
      ],
      "execution_count": 1,
      "outputs": [
        {
          "output_type": "execute_result",
          "data": {
            "text/plain": [
              "array([0, 1, 2, 3, 4, 5, 6, 7, 8, 9])"
            ]
          },
          "metadata": {
            "tags": []
          },
          "execution_count": 1
        }
      ]
    },
    {
      "cell_type": "code",
      "metadata": {
        "id": "9fKn3_hft1Nd",
        "colab_type": "code",
        "colab": {
          "base_uri": "https://localhost:8080/",
          "height": 69
        },
        "outputId": "0f3d4b6e-e478-4cd6-c232-a3016da93448"
      },
      "source": [
        "# How to slicing \n",
        "print(a[1:10])\n",
        "print(a[1:5:2])\n",
        "print(a[:])"
      ],
      "execution_count": 2,
      "outputs": [
        {
          "output_type": "stream",
          "text": [
            "[1 2 3 4 5 6 7 8 9]\n",
            "[1 3]\n",
            "[0 1 2 3 4 5 6 7 8 9]\n"
          ],
          "name": "stdout"
        }
      ]
    },
    {
      "cell_type": "code",
      "metadata": {
        "id": "F0Y6Hb4_uD1Q",
        "colab_type": "code",
        "colab": {
          "base_uri": "https://localhost:8080/",
          "height": 52
        },
        "outputId": "5fa90628-353d-46e4-89b4-7a6a59becc40"
      },
      "source": [
        "a>5"
      ],
      "execution_count": 3,
      "outputs": [
        {
          "output_type": "execute_result",
          "data": {
            "text/plain": [
              "array([False, False, False, False, False, False,  True,  True,  True,\n",
              "        True])"
            ]
          },
          "metadata": {
            "tags": []
          },
          "execution_count": 3
        }
      ]
    },
    {
      "cell_type": "code",
      "metadata": {
        "id": "ICcX3U7duDxs",
        "colab_type": "code",
        "colab": {
          "base_uri": "https://localhost:8080/",
          "height": 35
        },
        "outputId": "ccd5ffa7-5670-4b0c-c61b-a687e52d2afe"
      },
      "source": [
        "# Fancy Indexing or Boolean Indexing\n",
        "print(a[a>5])"
      ],
      "execution_count": 4,
      "outputs": [
        {
          "output_type": "stream",
          "text": [
            "[6 7 8 9]\n"
          ],
          "name": "stdout"
        }
      ]
    },
    {
      "cell_type": "code",
      "metadata": {
        "id": "gtX4L5NluDrF",
        "colab_type": "code",
        "colab": {
          "base_uri": "https://localhost:8080/",
          "height": 35
        },
        "outputId": "7d99b81d-cd9c-46bc-b436-442fa30107b2"
      },
      "source": [
        "a.shape"
      ],
      "execution_count": 5,
      "outputs": [
        {
          "output_type": "execute_result",
          "data": {
            "text/plain": [
              "(10,)"
            ]
          },
          "metadata": {
            "tags": []
          },
          "execution_count": 5
        }
      ]
    },
    {
      "cell_type": "code",
      "metadata": {
        "id": "oYqTtUQ5ub3j",
        "colab_type": "code",
        "colab": {
          "base_uri": "https://localhost:8080/",
          "height": 35
        },
        "outputId": "1a8761df-ec38-4e72-c268-bc18b73c9379"
      },
      "source": [
        "a.ndim"
      ],
      "execution_count": 6,
      "outputs": [
        {
          "output_type": "execute_result",
          "data": {
            "text/plain": [
              "1"
            ]
          },
          "metadata": {
            "tags": []
          },
          "execution_count": 6
        }
      ]
    },
    {
      "cell_type": "code",
      "metadata": {
        "id": "J6-pvrZPub1V",
        "colab_type": "code",
        "colab": {
          "base_uri": "https://localhost:8080/",
          "height": 69
        },
        "outputId": "e63ed141-7da3-49b4-ef30-d9154ec2fca8"
      },
      "source": [
        "a2 = np.random.randint(10,30,(3,3))\n",
        "a2"
      ],
      "execution_count": 7,
      "outputs": [
        {
          "output_type": "execute_result",
          "data": {
            "text/plain": [
              "array([[19, 15, 21],\n",
              "       [15, 18, 13],\n",
              "       [22, 26, 12]])"
            ]
          },
          "metadata": {
            "tags": []
          },
          "execution_count": 7
        }
      ]
    },
    {
      "cell_type": "code",
      "metadata": {
        "id": "UganYR9Tubvw",
        "colab_type": "code",
        "colab": {
          "base_uri": "https://localhost:8080/",
          "height": 52
        },
        "outputId": "e496e906-a08b-4960-c5f4-ccf9db57cece"
      },
      "source": [
        "print(a2.ndim)\n",
        "print(a2.shape)"
      ],
      "execution_count": 9,
      "outputs": [
        {
          "output_type": "stream",
          "text": [
            "2\n",
            "(3, 3)\n"
          ],
          "name": "stdout"
        }
      ]
    },
    {
      "cell_type": "code",
      "metadata": {
        "id": "2K7rvaghubq2",
        "colab_type": "code",
        "colab": {
          "base_uri": "https://localhost:8080/",
          "height": 35
        },
        "outputId": "8c238391-4016-4bfd-ffbc-3385132de3bf"
      },
      "source": [
        "for i in a2:\n",
        "    print(i)\n",
        "    break"
      ],
      "execution_count": 10,
      "outputs": [
        {
          "output_type": "stream",
          "text": [
            "[19 15 21]\n"
          ],
          "name": "stdout"
        }
      ]
    },
    {
      "cell_type": "code",
      "metadata": {
        "id": "d2KmR8Oaubol",
        "colab_type": "code",
        "colab": {
          "base_uri": "https://localhost:8080/",
          "height": 69
        },
        "outputId": "1db40c86-d44b-4784-9fca-905892d4cb08"
      },
      "source": [
        "for i in a2:\n",
        "    for j in i:\n",
        "        print(j,end=' ')\n",
        "    print()"
      ],
      "execution_count": 11,
      "outputs": [
        {
          "output_type": "stream",
          "text": [
            "19 15 21 \n",
            "15 18 13 \n",
            "22 26 12 \n"
          ],
          "name": "stdout"
        }
      ]
    },
    {
      "cell_type": "code",
      "metadata": {
        "id": "RdAdmSxcubms",
        "colab_type": "code",
        "colab": {
          "base_uri": "https://localhost:8080/",
          "height": 35
        },
        "outputId": "c70b74cd-5728-4cfe-a0cd-4efa387d0f5b"
      },
      "source": [
        "print(a2[0],type(a2[0]),a2[0].shape)"
      ],
      "execution_count": 12,
      "outputs": [
        {
          "output_type": "stream",
          "text": [
            "[19 15 21] <class 'numpy.ndarray'> (3,)\n"
          ],
          "name": "stdout"
        }
      ]
    },
    {
      "cell_type": "code",
      "metadata": {
        "id": "GpiGW1i5ubia",
        "colab_type": "code",
        "colab": {
          "base_uri": "https://localhost:8080/",
          "height": 52
        },
        "outputId": "633e624c-e691-4d7a-88da-2066dac3cdcb"
      },
      "source": [
        "print(a2[1:],type(a2[1:]),a2[1:].shape)"
      ],
      "execution_count": 13,
      "outputs": [
        {
          "output_type": "stream",
          "text": [
            "[[15 18 13]\n",
            " [22 26 12]] <class 'numpy.ndarray'> (2, 3)\n"
          ],
          "name": "stdout"
        }
      ]
    },
    {
      "cell_type": "code",
      "metadata": {
        "id": "Maa1WnsovjgP",
        "colab_type": "code",
        "colab": {
          "base_uri": "https://localhost:8080/",
          "height": 52
        },
        "outputId": "020a5182-a5b2-4bba-c7ba-773b450524a2"
      },
      "source": [
        "# rows from 0  to 2\n",
        "# columns from 0 to 2\n",
        "# 1st row and second column\n",
        "print(a2[1][2])\n",
        "print(a2[1,2])"
      ],
      "execution_count": 14,
      "outputs": [
        {
          "output_type": "stream",
          "text": [
            "13\n",
            "13\n"
          ],
          "name": "stdout"
        }
      ]
    },
    {
      "cell_type": "code",
      "metadata": {
        "id": "-UPUrf57vjdp",
        "colab_type": "code",
        "colab": {
          "base_uri": "https://localhost:8080/",
          "height": 52
        },
        "outputId": "2bf61ea2-0fc1-404a-bbfd-a7ec231323f1"
      },
      "source": [
        "print(a2[1:3])"
      ],
      "execution_count": 15,
      "outputs": [
        {
          "output_type": "stream",
          "text": [
            "[[15 18 13]\n",
            " [22 26 12]]\n"
          ],
          "name": "stdout"
        }
      ]
    },
    {
      "cell_type": "code",
      "metadata": {
        "id": "IwGALBAjvjaK",
        "colab_type": "code",
        "colab": {
          "base_uri": "https://localhost:8080/",
          "height": 52
        },
        "outputId": "403d4a6f-0c00-4233-ece8-4d64e6bfc1da"
      },
      "source": [
        "print(a2[1:3,0:2])"
      ],
      "execution_count": 16,
      "outputs": [
        {
          "output_type": "stream",
          "text": [
            "[[15 18]\n",
            " [22 26]]\n"
          ],
          "name": "stdout"
        }
      ]
    },
    {
      "cell_type": "code",
      "metadata": {
        "id": "ohTCJmeiwPI5",
        "colab_type": "code",
        "colab": {
          "base_uri": "https://localhost:8080/",
          "height": 69
        },
        "outputId": "d202f555-ad35-4477-da2a-eb03073595b6"
      },
      "source": [
        "print(a2)"
      ],
      "execution_count": 17,
      "outputs": [
        {
          "output_type": "stream",
          "text": [
            "[[19 15 21]\n",
            " [15 18 13]\n",
            " [22 26 12]]\n"
          ],
          "name": "stdout"
        }
      ]
    },
    {
      "cell_type": "code",
      "metadata": {
        "id": "ANd8ckuUwPEn",
        "colab_type": "code",
        "colab": {
          "base_uri": "https://localhost:8080/",
          "height": 520
        },
        "outputId": "3df7562e-debf-4784-bc4b-b027a0f94f90"
      },
      "source": [
        "a3 = np.random.randint(10,100,(5,5,3))\n",
        "a3"
      ],
      "execution_count": 18,
      "outputs": [
        {
          "output_type": "execute_result",
          "data": {
            "text/plain": [
              "array([[[55, 77, 12],\n",
              "        [53, 30, 34],\n",
              "        [70, 93, 13],\n",
              "        [36, 18, 10],\n",
              "        [74, 34, 26]],\n",
              "\n",
              "       [[56, 11, 37],\n",
              "        [12, 37, 80],\n",
              "        [21, 68, 46],\n",
              "        [13, 13, 81],\n",
              "        [74, 73, 18]],\n",
              "\n",
              "       [[46, 12, 79],\n",
              "        [35, 71, 82],\n",
              "        [61, 62, 85],\n",
              "        [77, 28, 20],\n",
              "        [13, 20, 30]],\n",
              "\n",
              "       [[69, 68, 70],\n",
              "        [69, 24, 58],\n",
              "        [78, 12, 18],\n",
              "        [65, 32, 14],\n",
              "        [75, 52, 93]],\n",
              "\n",
              "       [[57, 90, 23],\n",
              "        [53, 70, 49],\n",
              "        [34, 98, 56],\n",
              "        [65, 90, 60],\n",
              "        [15, 47, 61]]])"
            ]
          },
          "metadata": {
            "tags": []
          },
          "execution_count": 18
        }
      ]
    },
    {
      "cell_type": "code",
      "metadata": {
        "id": "EmSnIUbxubfF",
        "colab_type": "code",
        "colab": {
          "base_uri": "https://localhost:8080/",
          "height": 208
        },
        "outputId": "64b77358-43b3-4a2e-a1e0-5ada35613bdf"
      },
      "source": [
        "print(a3[:2]) # indices - 0,1"
      ],
      "execution_count": 19,
      "outputs": [
        {
          "output_type": "stream",
          "text": [
            "[[[55 77 12]\n",
            "  [53 30 34]\n",
            "  [70 93 13]\n",
            "  [36 18 10]\n",
            "  [74 34 26]]\n",
            "\n",
            " [[56 11 37]\n",
            "  [12 37 80]\n",
            "  [21 68 46]\n",
            "  [13 13 81]\n",
            "  [74 73 18]]]\n"
          ],
          "name": "stdout"
        }
      ]
    },
    {
      "cell_type": "code",
      "metadata": {
        "id": "cEoKRxTxwYN-",
        "colab_type": "code",
        "colab": {
          "base_uri": "https://localhost:8080/",
          "height": 208
        },
        "outputId": "40a58768-735b-4739-e96a-193effea9920"
      },
      "source": [
        "print(a3[1::2])"
      ],
      "execution_count": 20,
      "outputs": [
        {
          "output_type": "stream",
          "text": [
            "[[[56 11 37]\n",
            "  [12 37 80]\n",
            "  [21 68 46]\n",
            "  [13 13 81]\n",
            "  [74 73 18]]\n",
            "\n",
            " [[69 68 70]\n",
            "  [69 24 58]\n",
            "  [78 12 18]\n",
            "  [65 32 14]\n",
            "  [75 52 93]]]\n"
          ],
          "name": "stdout"
        }
      ]
    },
    {
      "cell_type": "code",
      "metadata": {
        "id": "vhDQ6BVewYKD",
        "colab_type": "code",
        "colab": {
          "base_uri": "https://localhost:8080/",
          "height": 52
        },
        "outputId": "51afed61-e709-4efe-95ac-c88205bd6e11"
      },
      "source": [
        "print(a3[1::2,2])"
      ],
      "execution_count": 21,
      "outputs": [
        {
          "output_type": "stream",
          "text": [
            "[[21 68 46]\n",
            " [78 12 18]]\n"
          ],
          "name": "stdout"
        }
      ]
    },
    {
      "cell_type": "code",
      "metadata": {
        "id": "WwIS_v8-w7qq",
        "colab_type": "code",
        "colab": {
          "base_uri": "https://localhost:8080/",
          "height": 139
        },
        "outputId": "0aee08f8-e4fb-49d0-d852-7b9985701935"
      },
      "source": [
        "print(a3[1::2,0:5:2])"
      ],
      "execution_count": 22,
      "outputs": [
        {
          "output_type": "stream",
          "text": [
            "[[[56 11 37]\n",
            "  [21 68 46]\n",
            "  [74 73 18]]\n",
            "\n",
            " [[69 68 70]\n",
            "  [78 12 18]\n",
            "  [75 52 93]]]\n"
          ],
          "name": "stdout"
        }
      ]
    },
    {
      "cell_type": "code",
      "metadata": {
        "id": "-SLtbZtPw7ln",
        "colab_type": "code",
        "colab": {
          "base_uri": "https://localhost:8080/",
          "height": 52
        },
        "outputId": "0773eef1-9781-43e4-f65d-b4354ef6404b"
      },
      "source": [
        "print(a3[1::2,0:5:2,2])"
      ],
      "execution_count": 23,
      "outputs": [
        {
          "output_type": "stream",
          "text": [
            "[[37 46 18]\n",
            " [70 18 93]]\n"
          ],
          "name": "stdout"
        }
      ]
    },
    {
      "cell_type": "code",
      "metadata": {
        "id": "quoOn1sFwX-R",
        "colab_type": "code",
        "colab": {
          "base_uri": "https://localhost:8080/",
          "height": 520
        },
        "outputId": "6c4e8fac-3f5d-42e4-9409-828ff0bfefe5"
      },
      "source": [
        "a3==86"
      ],
      "execution_count": 24,
      "outputs": [
        {
          "output_type": "execute_result",
          "data": {
            "text/plain": [
              "array([[[False, False, False],\n",
              "        [False, False, False],\n",
              "        [False, False, False],\n",
              "        [False, False, False],\n",
              "        [False, False, False]],\n",
              "\n",
              "       [[False, False, False],\n",
              "        [False, False, False],\n",
              "        [False, False, False],\n",
              "        [False, False, False],\n",
              "        [False, False, False]],\n",
              "\n",
              "       [[False, False, False],\n",
              "        [False, False, False],\n",
              "        [False, False, False],\n",
              "        [False, False, False],\n",
              "        [False, False, False]],\n",
              "\n",
              "       [[False, False, False],\n",
              "        [False, False, False],\n",
              "        [False, False, False],\n",
              "        [False, False, False],\n",
              "        [False, False, False]],\n",
              "\n",
              "       [[False, False, False],\n",
              "        [False, False, False],\n",
              "        [False, False, False],\n",
              "        [False, False, False],\n",
              "        [False, False, False]]])"
            ]
          },
          "metadata": {
            "tags": []
          },
          "execution_count": 24
        }
      ]
    },
    {
      "cell_type": "code",
      "metadata": {
        "id": "SDKYrGpLxNwk",
        "colab_type": "code",
        "colab": {
          "base_uri": "https://localhost:8080/",
          "height": 35
        },
        "outputId": "0321aebd-dd03-4a43-d223-e5cabf5abd29"
      },
      "source": [
        "# Boolean Indexing\n",
        "a3[a3==86]"
      ],
      "execution_count": 26,
      "outputs": [
        {
          "output_type": "execute_result",
          "data": {
            "text/plain": [
              "array([], dtype=int64)"
            ]
          },
          "metadata": {
            "tags": []
          },
          "execution_count": 26
        }
      ]
    },
    {
      "cell_type": "code",
      "metadata": {
        "id": "oIz-9QWExfwX",
        "colab_type": "code",
        "colab": {
          "base_uri": "https://localhost:8080/",
          "height": 69
        },
        "outputId": "d6a3c8a7-07c8-4ff3-da37-362698fbec31"
      },
      "source": [
        "a3[a3>50]"
      ],
      "execution_count": 27,
      "outputs": [
        {
          "output_type": "execute_result",
          "data": {
            "text/plain": [
              "array([55, 77, 53, 70, 93, 74, 56, 80, 68, 81, 74, 73, 79, 71, 82, 61, 62,\n",
              "       85, 77, 69, 68, 70, 69, 58, 78, 65, 75, 52, 93, 57, 90, 53, 70, 98,\n",
              "       56, 65, 90, 60, 61])"
            ]
          },
          "metadata": {
            "tags": []
          },
          "execution_count": 27
        }
      ]
    },
    {
      "cell_type": "code",
      "metadata": {
        "id": "aSL6z0V8xfYb",
        "colab_type": "code",
        "colab": {
          "base_uri": "https://localhost:8080/",
          "height": 52
        },
        "outputId": "8928ecf7-dfda-44ad-bb83-495cfda8ee7f"
      },
      "source": [
        "a3[(a3>50) & (a3<70)] #or -- |"
      ],
      "execution_count": 28,
      "outputs": [
        {
          "output_type": "execute_result",
          "data": {
            "text/plain": [
              "array([55, 53, 56, 68, 61, 62, 69, 68, 69, 58, 65, 52, 57, 53, 56, 65, 60,\n",
              "       61])"
            ]
          },
          "metadata": {
            "tags": []
          },
          "execution_count": 28
        }
      ]
    },
    {
      "cell_type": "code",
      "metadata": {
        "id": "JbCn7edAxfCS",
        "colab_type": "code",
        "colab": {
          "base_uri": "https://localhost:8080/",
          "height": 87
        },
        "outputId": "f06fe88c-63f5-4a7f-c454-c043cac3a211"
      },
      "source": [
        "a3[(a3<50) | (a3>70)]"
      ],
      "execution_count": 29,
      "outputs": [
        {
          "output_type": "execute_result",
          "data": {
            "text/plain": [
              "array([77, 12, 30, 34, 93, 13, 36, 18, 10, 74, 34, 26, 11, 37, 12, 37, 80,\n",
              "       21, 46, 13, 13, 81, 74, 73, 18, 46, 12, 79, 35, 71, 82, 85, 77, 28,\n",
              "       20, 13, 20, 30, 24, 78, 12, 18, 32, 14, 75, 93, 90, 23, 49, 34, 98,\n",
              "       90, 15, 47])"
            ]
          },
          "metadata": {
            "tags": []
          },
          "execution_count": 29
        }
      ]
    },
    {
      "cell_type": "code",
      "metadata": {
        "id": "DeqG0e9Mxext",
        "colab_type": "code",
        "colab": {}
      },
      "source": [
        "L = list(range(100))\n",
        "# 0,1,2,3--- L[:]\n",
        "# 1,2,3,4.... L[1:]\n",
        "# 1,3,5,7,9,11,13 #L[1::2]\n",
        "# 1,13,45,74,23,67 #"
      ],
      "execution_count": 0,
      "outputs": []
    },
    {
      "cell_type": "code",
      "metadata": {
        "id": "JcqNNcUExegr",
        "colab_type": "code",
        "colab": {
          "base_uri": "https://localhost:8080/",
          "height": 166
        },
        "outputId": "80ce0592-4d17-4c00-f6f3-0bd9508e1c48"
      },
      "source": [
        "L[[1,13,45,74,23,67]]"
      ],
      "execution_count": 32,
      "outputs": [
        {
          "output_type": "error",
          "ename": "TypeError",
          "evalue": "ignored",
          "traceback": [
            "\u001b[0;31m---------------------------------------------------------------------------\u001b[0m",
            "\u001b[0;31mTypeError\u001b[0m                                 Traceback (most recent call last)",
            "\u001b[0;32m<ipython-input-32-366bfd8bcb0c>\u001b[0m in \u001b[0;36m<module>\u001b[0;34m()\u001b[0m\n\u001b[0;32m----> 1\u001b[0;31m \u001b[0mL\u001b[0m\u001b[0;34m[\u001b[0m\u001b[0;34m[\u001b[0m\u001b[0;36m1\u001b[0m\u001b[0;34m,\u001b[0m\u001b[0;36m13\u001b[0m\u001b[0;34m,\u001b[0m\u001b[0;36m45\u001b[0m\u001b[0;34m,\u001b[0m\u001b[0;36m74\u001b[0m\u001b[0;34m,\u001b[0m\u001b[0;36m23\u001b[0m\u001b[0;34m,\u001b[0m\u001b[0;36m67\u001b[0m\u001b[0;34m]\u001b[0m\u001b[0;34m]\u001b[0m\u001b[0;34m\u001b[0m\u001b[0;34m\u001b[0m\u001b[0m\n\u001b[0m",
            "\u001b[0;31mTypeError\u001b[0m: list indices must be integers or slices, not list"
          ]
        }
      ]
    },
    {
      "cell_type": "code",
      "metadata": {
        "id": "iwgJDG0yyOMF",
        "colab_type": "code",
        "colab": {
          "base_uri": "https://localhost:8080/",
          "height": 35
        },
        "outputId": "0544ff54-7d33-4e7d-d406-d603c354cd18"
      },
      "source": [
        "aL = np.array(L)\n",
        "aL[[1,13,45,74,23,67]]"
      ],
      "execution_count": 33,
      "outputs": [
        {
          "output_type": "execute_result",
          "data": {
            "text/plain": [
              "array([ 1, 13, 45, 74, 23, 67])"
            ]
          },
          "metadata": {
            "tags": []
          },
          "execution_count": 33
        }
      ]
    },
    {
      "cell_type": "code",
      "metadata": {
        "id": "w18CxD_0yOEX",
        "colab_type": "code",
        "colab": {
          "base_uri": "https://localhost:8080/",
          "height": 35
        },
        "outputId": "2bf95220-0e24-4a25-c2fd-1c319bb7ad77"
      },
      "source": [
        "aL[[45,74,23,67,1,7,3]]"
      ],
      "execution_count": 34,
      "outputs": [
        {
          "output_type": "execute_result",
          "data": {
            "text/plain": [
              "array([45, 74, 23, 67,  1,  7,  3])"
            ]
          },
          "metadata": {
            "tags": []
          },
          "execution_count": 34
        }
      ]
    },
    {
      "cell_type": "code",
      "metadata": {
        "id": "nshmPY0MyoU-",
        "colab_type": "code",
        "colab": {
          "base_uri": "https://localhost:8080/",
          "height": 69
        },
        "outputId": "40c2be11-0332-4291-eb4e-184aae14992e"
      },
      "source": [
        "a2"
      ],
      "execution_count": 35,
      "outputs": [
        {
          "output_type": "execute_result",
          "data": {
            "text/plain": [
              "array([[19, 15, 21],\n",
              "       [15, 18, 13],\n",
              "       [22, 26, 12]])"
            ]
          },
          "metadata": {
            "tags": []
          },
          "execution_count": 35
        }
      ]
    },
    {
      "cell_type": "code",
      "metadata": {
        "id": "MqL85In5y9TB",
        "colab_type": "code",
        "colab": {
          "base_uri": "https://localhost:8080/",
          "height": 35
        },
        "outputId": "b1c36a14-1f1a-4cb6-e69f-b7fcb8604841"
      },
      "source": [
        "a2[[1,2],[0,1]] # (1,0)(2,1)"
      ],
      "execution_count": 36,
      "outputs": [
        {
          "output_type": "execute_result",
          "data": {
            "text/plain": [
              "array([15, 26])"
            ]
          },
          "metadata": {
            "tags": []
          },
          "execution_count": 36
        }
      ]
    },
    {
      "cell_type": "code",
      "metadata": {
        "id": "f3OxlXLEy9F-",
        "colab_type": "code",
        "colab": {
          "base_uri": "https://localhost:8080/",
          "height": 69
        },
        "outputId": "49e187e7-91f9-41d3-be98-c86170fbf687"
      },
      "source": [
        "print(a3[[1,2],[1,2],[1,2]])#(1,1,1)(2,2,2)\n",
        "print(a3[1,1,1])\n",
        "print(a3[2,2,2])"
      ],
      "execution_count": 37,
      "outputs": [
        {
          "output_type": "stream",
          "text": [
            "[37 85]\n",
            "37\n",
            "85\n"
          ],
          "name": "stdout"
        }
      ]
    },
    {
      "cell_type": "markdown",
      "metadata": {
        "id": "W9XynnqX4Kvz",
        "colab_type": "text"
      },
      "source": [
        "**statistical Functions**"
      ]
    },
    {
      "cell_type": "code",
      "metadata": {
        "id": "mtKlSuZjy807",
        "colab_type": "code",
        "colab": {
          "base_uri": "https://localhost:8080/",
          "height": 35
        },
        "outputId": "076ca611-61a1-4fb0-dd30-79142ce4ff95"
      },
      "source": [
        "a = np.random.randint(20,30,5)\n",
        "a"
      ],
      "execution_count": 90,
      "outputs": [
        {
          "output_type": "execute_result",
          "data": {
            "text/plain": [
              "array([27, 25, 27, 20, 22])"
            ]
          },
          "metadata": {
            "tags": []
          },
          "execution_count": 90
        }
      ]
    },
    {
      "cell_type": "code",
      "metadata": {
        "id": "mmWFggLU4DQe",
        "colab_type": "code",
        "colab": {
          "base_uri": "https://localhost:8080/",
          "height": 52
        },
        "outputId": "b99b3814-25d1-4489-901f-70729792f712"
      },
      "source": [
        "print(np.mean(a))# avg\n",
        "print(np.sum(a)/np.size(a))"
      ],
      "execution_count": 91,
      "outputs": [
        {
          "output_type": "stream",
          "text": [
            "24.2\n",
            "24.2\n"
          ],
          "name": "stdout"
        }
      ]
    },
    {
      "cell_type": "code",
      "metadata": {
        "id": "3QRyprVw4DNk",
        "colab_type": "code",
        "colab": {
          "base_uri": "https://localhost:8080/",
          "height": 35
        },
        "outputId": "6a5cc0c2-ec89-48a6-a022-1f2155e9fb89"
      },
      "source": [
        "# sorted a[23,24,25,27,29]\n",
        "np.median(a)"
      ],
      "execution_count": 92,
      "outputs": [
        {
          "output_type": "execute_result",
          "data": {
            "text/plain": [
              "25.0"
            ]
          },
          "metadata": {
            "tags": []
          },
          "execution_count": 92
        }
      ]
    },
    {
      "cell_type": "code",
      "metadata": {
        "id": "eo_6LRvS4DH0",
        "colab_type": "code",
        "colab": {
          "base_uri": "https://localhost:8080/",
          "height": 69
        },
        "outputId": "2f986668-083f-4a47-a075-9b5f22ea70bb"
      },
      "source": [
        "print(np.quantile(a,0.25)) # Q1\n",
        "print(np.quantile(a,0.5)) # Q2\n",
        "print(np.quantile(a,0.75)) # Q3"
      ],
      "execution_count": 93,
      "outputs": [
        {
          "output_type": "stream",
          "text": [
            "22.0\n",
            "25.0\n",
            "27.0\n"
          ],
          "name": "stdout"
        }
      ]
    },
    {
      "cell_type": "markdown",
      "metadata": {
        "id": "TDeHLxBq5Vvk",
        "colab_type": "text"
      },
      "source": [
        "**Logorithemic and Exponential**"
      ]
    },
    {
      "cell_type": "code",
      "metadata": {
        "id": "wSGSrsIk5AGi",
        "colab_type": "code",
        "colab": {
          "base_uri": "https://localhost:8080/",
          "height": 52
        },
        "outputId": "b000ebe5-1bfa-451d-d405-9c3b3b99a632"
      },
      "source": [
        "import numpy as np\n",
        "print(np.log(2))# log with base e\n",
        "print(np.log(np.exp(1)))"
      ],
      "execution_count": 45,
      "outputs": [
        {
          "output_type": "stream",
          "text": [
            "0.6931471805599453\n",
            "1.0\n"
          ],
          "name": "stdout"
        }
      ]
    },
    {
      "cell_type": "code",
      "metadata": {
        "id": "902b9nbh5ADH",
        "colab_type": "code",
        "colab": {
          "base_uri": "https://localhost:8080/",
          "height": 69
        },
        "outputId": "86660429-8fb9-4d08-fe43-9d463b863f47"
      },
      "source": [
        "print(np.log2(2))\n",
        "print(np.log2(7))\n",
        "print(np.log10(5))"
      ],
      "execution_count": 46,
      "outputs": [
        {
          "output_type": "stream",
          "text": [
            "1.0\n",
            "2.807354922057604\n",
            "0.6989700043360189\n"
          ],
          "name": "stdout"
        }
      ]
    },
    {
      "cell_type": "code",
      "metadata": {
        "id": "dYjuD5Tu5od4",
        "colab_type": "code",
        "colab": {
          "base_uri": "https://localhost:8080/",
          "height": 35
        },
        "outputId": "ff58c985-1a11-41ac-a5a5-6da44363aeaa"
      },
      "source": [
        "np.log(0+1)"
      ],
      "execution_count": 48,
      "outputs": [
        {
          "output_type": "execute_result",
          "data": {
            "text/plain": [
              "0.0"
            ]
          },
          "metadata": {
            "tags": []
          },
          "execution_count": 48
        }
      ]
    },
    {
      "cell_type": "code",
      "metadata": {
        "id": "ycZd16Nw5oWr",
        "colab_type": "code",
        "colab": {
          "base_uri": "https://localhost:8080/",
          "height": 52
        },
        "outputId": "c187b3be-15c9-4804-ae33-181f2b906f7a"
      },
      "source": [
        "print(np.log1p(2)) # np.log(1+2)\n",
        "print(np.log1p(0)) # np.log(1+0)"
      ],
      "execution_count": 49,
      "outputs": [
        {
          "output_type": "stream",
          "text": [
            "1.0986122886681096\n",
            "0.0\n"
          ],
          "name": "stdout"
        }
      ]
    },
    {
      "cell_type": "code",
      "metadata": {
        "id": "vpr062kj5oRT",
        "colab_type": "code",
        "colab": {
          "base_uri": "https://localhost:8080/",
          "height": 35
        },
        "outputId": "97c4ac86-554e-4d85-a569-d892856849de"
      },
      "source": [
        "np.exp(1)"
      ],
      "execution_count": 50,
      "outputs": [
        {
          "output_type": "execute_result",
          "data": {
            "text/plain": [
              "2.718281828459045"
            ]
          },
          "metadata": {
            "tags": []
          },
          "execution_count": 50
        }
      ]
    },
    {
      "cell_type": "code",
      "metadata": {
        "id": "D3u7OurE5oNe",
        "colab_type": "code",
        "colab": {
          "base_uri": "https://localhost:8080/",
          "height": 35
        },
        "outputId": "01a7b107-85af-4e87-dd2e-8e7eb1cdf318"
      },
      "source": [
        "np.exp(2)"
      ],
      "execution_count": 51,
      "outputs": [
        {
          "output_type": "execute_result",
          "data": {
            "text/plain": [
              "7.38905609893065"
            ]
          },
          "metadata": {
            "tags": []
          },
          "execution_count": 51
        }
      ]
    },
    {
      "cell_type": "code",
      "metadata": {
        "id": "nx3gLUAy6RMz",
        "colab_type": "code",
        "colab": {
          "base_uri": "https://localhost:8080/",
          "height": 35
        },
        "outputId": "2f98bc67-f945-47f8-b4ea-3d03a7e1f424"
      },
      "source": [
        "print(np.exp2(4))#2**4"
      ],
      "execution_count": 52,
      "outputs": [
        {
          "output_type": "stream",
          "text": [
            "16.0\n"
          ],
          "name": "stdout"
        }
      ]
    },
    {
      "cell_type": "code",
      "metadata": {
        "id": "7wrpXUDF6RBh",
        "colab_type": "code",
        "colab": {
          "base_uri": "https://localhost:8080/",
          "height": 52
        },
        "outputId": "233a5eb3-cb5e-4ba1-a792-94bbce173869"
      },
      "source": [
        "print(np.expm1(2))# np.exp(2)-1\n",
        "print(np.exp(2)-1)"
      ],
      "execution_count": 53,
      "outputs": [
        {
          "output_type": "stream",
          "text": [
            "6.38905609893065\n",
            "6.38905609893065\n"
          ],
          "name": "stdout"
        }
      ]
    }
  ]
}