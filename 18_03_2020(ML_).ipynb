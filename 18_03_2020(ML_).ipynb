{
  "nbformat": 4,
  "nbformat_minor": 0,
  "metadata": {
    "colab": {
      "name": "18-03-2020(ML ).ipynb",
      "provenance": [],
      "authorship_tag": "ABX9TyPgH9Lxc3cD0S8XJunH6FxL",
      "include_colab_link": true
    },
    "kernelspec": {
      "name": "python3",
      "display_name": "Python 3"
    }
  },
  "cells": [
    {
      "cell_type": "markdown",
      "metadata": {
        "id": "view-in-github",
        "colab_type": "text"
      },
      "source": [
        "<a href=\"https://colab.research.google.com/github/PRihana/Machine-learning/blob/master/18_03_2020(ML_).ipynb\" target=\"_parent\"><img src=\"https://colab.research.google.com/assets/colab-badge.svg\" alt=\"Open In Colab\"/></a>"
      ]
    },
    {
      "cell_type": "code",
      "metadata": {
        "id": "Hsvze9Q77sFs",
        "colab_type": "code",
        "colab": {}
      },
      "source": [
        "classification\n",
        "- Binary\n",
        "- Multiclass\n",
        "- Sentiment Analysis\n",
        "- Anomly detection \n",
        "Regression\n",
        "Recommender Systems\n",
        "Reinforcement Learning\n",
        "NLP\n",
        "- Q&A\n",
        "- Auto completion\n",
        "- Chatbot\n",
        "Computer Vision\n",
        "- Object detection\n",
        "- Object tracking\n",
        "- image classfication\n",
        "- image tagging\n",
        "Data\n",
        "- numerical data\n",
        "- image data\n",
        "- audio data\n",
        "- video data\n",
        "- text data\n",
        "- from documents\n",
        "- satellite imagery\n",
        "- timeseries data(Temperatue Reading, Stock prices)"
      ],
      "execution_count": 0,
      "outputs": []
    },
    {
      "cell_type": "markdown",
      "metadata": {
        "id": "S3qIst8rNV4E",
        "colab_type": "text"
      },
      "source": [
        "**MACHINE LEARNING**"
      ]
    },
    {
      "cell_type": "markdown",
      "metadata": {
        "id": "ImvsNj-IRQEW",
        "colab_type": "text"
      },
      "source": [
        "Machine learning  is the scientific study of algorithms and statistical models that computer systems use to perform a specific task without using explicit instructions.It is seen as a subset of artificial intelligence. Machine learning algorithms build a mathematical model based on sample data, known as \"training data\", in order to make predictions or decisions without being explicitly programmed to perform the task."
      ]
    },
    {
      "cell_type": "markdown",
      "metadata": {
        "id": "iniYP5weP9cQ",
        "colab_type": "text"
      },
      "source": [
        " **CLASSIFICATION**"
      ]
    },
    {
      "cell_type": "markdown",
      "metadata": {
        "id": "-g0-VEpIP8Nv",
        "colab_type": "text"
      },
      "source": [
        "Classification is a type of supervised learning. It specifies the class to which data elements belong to and is best used when the output has finite and discrete values. It predicts a class for an input variable as well.\n",
        "\n",
        "There are 2 types of Classification: \n",
        "\n",
        "  - **Binary**\n",
        "     \n",
        "      Binary classification is the task of classifying the elements of a given set into two groups (predicting which group each one belongs to) on the basis of a classification rule.\n",
        "     \n",
        "      Example 1:medical testing to determine if a patient has certain disease or not – the classification property is the presence of the disease.\n",
        "      \n",
        "       2.To test whether student is pass or fail\n",
        "\n",
        "  - **Multi-Class**\n",
        "  \n",
        "A classification task with more than two classes; e.g., classify a set of images of fruits which may be oranges, apples, or pears. Multi-class classification makes the assumption that each sample is assigned to one and only one label: a fruit can be either an apple or a pear but not both at the same time.\n"
      ]
    },
    {
      "cell_type": "markdown",
      "metadata": {
        "id": "hqsqRdVIHOEz",
        "colab_type": "text"
      },
      "source": [
        "**supervised and unsupervised**"
      ]
    },
    {
      "cell_type": "markdown",
      "metadata": {
        "id": "OM3kG27wHUwq",
        "colab_type": "text"
      },
      "source": [
        "Unsupervised learning is a machine learning technique, where you do not need to supervise the model. Supervised learning allows you to collect data or produce a data output from the previous experience. Unsupervised machine learning helps you to finds all kind of unknown patterns in data."
      ]
    },
    {
      "cell_type": "markdown",
      "metadata": {
        "id": "yDgpQttSW43W",
        "colab_type": "text"
      },
      "source": [
        "  - **Sentiment Analysis**\n",
        "\n",
        "The task of sentiment analysis typically involves taking a piece of text, whether it’s a sentence, a comment or an entire document and returning a “score” that measures how positive or negative the text is.\n",
        "\n",
        "For **Example** in customer feedback:\n",
        "Customer feedback text\n",
        "\n",
        "the cafe is great,the staff are really friendly and the coffee is really delicious\n",
        "\n",
        "positive\n",
        "\n",
        "I would not recomended this cafe to anyone .their coffee is terrible and really expensive\n",
        "\n",
        "negative"
      ]
    },
    {
      "cell_type": "markdown",
      "metadata": {
        "id": "11dvrdBIc-wv",
        "colab_type": "text"
      },
      "source": [
        "  - **Anomly detection**\n",
        "\n",
        "Anomaly Detection is the technique of identifying rare events or observations which can raise suspicions by being statistically different from the rest of the observations. Such “anomalous” behaviour typically translates to some kind of a problem like a credit card fraud, failing machine in a server, a cyber attack, etc."
      ]
    },
    {
      "cell_type": "markdown",
      "metadata": {
        "id": "aOH05UULd5J6",
        "colab_type": "text"
      },
      "source": [
        " **REGRESSION**\n",
        "\n",
        "A regression problem is when the output variable is a real or continuous value, such as “salary” or “weight”. "
      ]
    },
    {
      "cell_type": "markdown",
      "metadata": {
        "id": "pLtcqA3tfkYK",
        "colab_type": "text"
      },
      "source": [
        "**Recommender Systems**\n",
        "\n",
        "This is an important practical application of machine learning. Netflix, Spotify, Youtube, Amazon and other companies try to recommend things to you every time you use their services.\n",
        "\n"
      ]
    },
    {
      "cell_type": "markdown",
      "metadata": {
        "id": "32t_hQelfj2x",
        "colab_type": "text"
      },
      "source": [
        "**Reinforcement Learning**\n",
        "\n",
        "Reinforcement learning is an area of Machine Learning. It is about taking suitable action to maximize reward in a particular situation. It is employed by various software and machines to find the best possible behavior or path it should take in a specific situation.\n",
        "\n",
        "**Example**:\n",
        "The problem is as follows: We have an agent and a reward, with many hurdles in between. The agent is supposed to find the best possible path to reach the reward."
      ]
    },
    {
      "cell_type": "markdown",
      "metadata": {
        "id": "4t8bjkGMfjvC",
        "colab_type": "text"
      },
      "source": [
        "  - **NLP**\n",
        "\n",
        "Natural Language Processing (NLP) is a branch of AI that helps computers to understand, interpret and manipulate human language.\n",
        "\n",
        "NLP helps developers to organize and structure knowledge to perform tasks like translation, summarization, named entity recognition, relationship extraction, speech recognition, topic segmentation, etc.\n",
        "\n",
        "NLP is a way of computers to analyze, understand and derive meaning from a human languages such as English, Spanish, Hindi, etc.\n",
        "\n",
        "**examples**:Google, Yahoo, Bing, and other search engines base their machine translation technology on NLP deep learning models."
      ]
    },
    {
      "cell_type": "markdown",
      "metadata": {
        "id": "GylowyDVkzxs",
        "colab_type": "text"
      },
      "source": [
        " - **Auto completion**\n",
        "\n"
      ]
    },
    {
      "cell_type": "markdown",
      "metadata": {
        "id": "hPZD08FKOIdc",
        "colab_type": "text"
      },
      "source": [
        "Auto completion a feature found in many computer programs (such as those used for data entry, e-mail editing, Internet searches, or word processing) that attempts to predict and automatically complete the current word or phrase as it is being entered by the program's user"
      ]
    },
    {
      "cell_type": "markdown",
      "metadata": {
        "id": "cUuij5D_v7zs",
        "colab_type": "text"
      },
      "source": [
        "  - **Chatbot**"
      ]
    },
    {
      "cell_type": "markdown",
      "metadata": {
        "id": "17vQYS44IbUF",
        "colab_type": "text"
      },
      "source": [
        "A chatbot is a service, powered by rules and sometimes artificial intelligence, that you interact with via a chat interface. The service could be any number of things, ranging from functional to fun, and it could live in any major chat product (Facebook Messenger, Slack, Telegram, Text Messages, etc.).\n"
      ]
    },
    {
      "cell_type": "markdown",
      "metadata": {
        "id": "FmETZHeTRc6u",
        "colab_type": "text"
      },
      "source": [
        "**COMPUTER VISION**"
      ]
    },
    {
      "cell_type": "markdown",
      "metadata": {
        "id": "TnLBNUiKv7u_",
        "colab_type": "text"
      },
      "source": [
        " Computer vision is an interdisciplinary scientific field that deals with how computers can gain high-level understanding from digital images or videos. From the perspective of engineering, it seeks to understand and automate tasks that the human visual system can do.\n",
        " \n",
        "  - Learning 3D shapes has been a challenging task in computer vision.\n",
        "  - Artist's concept of a Mars Exploration Rover, an example of an unmanned land-based vehicle. \n",
        "  - Computer vision for people counter purposes in public places, malls, shopping centres.\n"
      ]
    },
    {
      "cell_type": "markdown",
      "metadata": {
        "id": "XAfhTjSkv7mF",
        "colab_type": "text"
      },
      "source": [
        "  - **Object detection**"
      ]
    },
    {
      "cell_type": "markdown",
      "metadata": {
        "id": "4KXk83eMS9hS",
        "colab_type": "text"
      },
      "source": [
        "Object detection is a computer technology related to computer vision and image processing that deals with detecting instances of semantic objects of a certain class (such as humans, buildings, or cars) in digital images and videos.\n",
        "\n",
        "An **example** of an IC board with defects. With an image classification model, you generate image features (through traditional or deep learning methods) of the full image. These features are aggregates of the image. With object detection, you do this on a more fine-grained, granular, regional level of the image."
      ]
    },
    {
      "cell_type": "markdown",
      "metadata": {
        "id": "EefRa0FvS9dc",
        "colab_type": "text"
      },
      "source": [
        "  - **Object tracking**"
      ]
    },
    {
      "cell_type": "markdown",
      "metadata": {
        "id": "ghdcRCtdS9XW",
        "colab_type": "text"
      },
      "source": [
        "Object tracking is a discipline within computer vision, which aims to track objects as they move across a series of video frames. Objects are often people, but may also be animals, vehicles or other objects of interest, such as the ball in a game of soccer.\n",
        "\n",
        " **Example:** some of which are surveillance and security, traffic monitoring, video communication, robot vision and animation. Face detection and Face Recognition is widely used in computer vision task."
      ]
    },
    {
      "cell_type": "markdown",
      "metadata": {
        "id": "zdQoqyCnS9Ql",
        "colab_type": "text"
      },
      "source": [
        "  - **image classfication**"
      ]
    },
    {
      "cell_type": "markdown",
      "metadata": {
        "id": "jKhIxBcAS9Mq",
        "colab_type": "text"
      },
      "source": [
        "The task of predicting what an image represents is called image classification. An image classification model is trained to recognize various classes of images. For **example**, a model might be trained to recognize photos representing three different types of animals: rabbits, hamsters, and dogs.\n",
        "\n",
        "When we subsequently provide a new image as input to the model, it will output the probabilities of the image representing each of the types of animal it was trained on. An example output might be as follows:\n",
        "\n",
        "\n",
        "Animal type\tProbability\n",
        "\n",
        "Rabbit\t0.07\n",
        "\n",
        "Hamster\t0.02\n",
        "\n",
        "Dog\t0.91\n",
        "\n",
        "Based on the output, we can see that the classification model has predicted that the image has a high probability of representing a dog."
      ]
    },
    {
      "cell_type": "markdown",
      "metadata": {
        "id": "ITmXvBgWS9JC",
        "colab_type": "text"
      },
      "source": [
        "  - **Image tagging**"
      ]
    },
    {
      "cell_type": "markdown",
      "metadata": {
        "id": "vA1saXJ4S9FZ",
        "colab_type": "text"
      },
      "source": [
        "Image tagging is the process of labeling or keywording images based on figures within a certain picture. Image tagging software automatically tags images, though it's possible for users to fulfill image tagging processes. It makes images on websites more searchable through keywords pertaining to that photo.\n",
        "\n",
        "**Examples** of image tagging and tag refinement results. A red tag with a “−” superscript indicates the imprecise tags, which should be removed from initial image tagging results, and a green tag with a “+” superscript indicates the enriched tags by image tag refinement approaches."
      ]
    },
    {
      "cell_type": "markdown",
      "metadata": {
        "id": "toI-xxB7S9Bj",
        "colab_type": "text"
      },
      "source": [
        "**DATA**"
      ]
    },
    {
      "cell_type": "markdown",
      "metadata": {
        "id": "AmARlS6-S89f",
        "colab_type": "text"
      },
      "source": [
        " It can be any unprocessed fact, value, text, sound or picture that is not being interpreted and analyzed. Data is the most important part of all Data Analytics, Machine Learning, Artificial Intelligence. ... KNOWLEDGE : Combination of inferred information, experiences, learning and insights."
      ]
    },
    {
      "cell_type": "markdown",
      "metadata": {
        "id": "-5R_nGqMS8yS",
        "colab_type": "text"
      },
      "source": [
        "  - **Numerical data**"
      ]
    },
    {
      "cell_type": "markdown",
      "metadata": {
        "id": "TtI-9w08S8ur",
        "colab_type": "text"
      },
      "source": [
        "Numerical data can be characterized into continuous or discrete data. Continuous data can assume any value within a range whereas discrete data has distinct values.\n",
        "\n",
        "For **example**, number of students taking Python class would be a discrete data set. You can only have discrete whole number values like 10, 25, or 33. A class cannot have 12.75 students enrolled. A student either join a class or he doesn’t. On the other hand, continuous data are numbers that can fall anywhere within a range. Like a student could have an average score of 88.25 which falls between 0 and 100."
      ]
    },
    {
      "cell_type": "markdown",
      "metadata": {
        "id": "49C6RVy-S8mi",
        "colab_type": "text"
      },
      "source": [
        "  - **Audio data**"
      ]
    },
    {
      "cell_type": "markdown",
      "metadata": {
        "id": "axAvXyKuS8do",
        "colab_type": "text"
      },
      "source": [
        "Audio data is analog sound wave, that coded in digital form. There are 2 main types of audio data coding: Pulse Code Modulation (PCM) Direct Stream Digital (DSD)\n",
        "\n",
        "**Examples**\n",
        "\n",
        "-Raw Sound Files.\n",
        "\n",
        "-AU/SND Files.\n",
        "\n",
        "-WAVE Files.\n",
        "\n",
        "-AIFF Files.\n",
        "\n",
        "-MP3 Files.\n",
        "\n",
        "-OGG Files.\n",
        "\n",
        "-RAM Files."
      ]
    },
    {
      "cell_type": "markdown",
      "metadata": {
        "id": "FPzVPsUtie_z",
        "colab_type": "text"
      },
      "source": [
        "  - **Text data**"
      ]
    },
    {
      "cell_type": "markdown",
      "metadata": {
        "id": "Tw39GeeVS8ZA",
        "colab_type": "text"
      },
      "source": [
        "Text data is basically just words. A lot of the time the first thing that you do with text is you turn it into numbers using some interesting functions like the bag of words formulation."
      ]
    },
    {
      "cell_type": "markdown",
      "metadata": {
        "id": "qDLI6xhOS8VZ",
        "colab_type": "text"
      },
      "source": [
        "  - **video data**"
      ]
    },
    {
      "cell_type": "markdown",
      "metadata": {
        "id": "0_4a-rVoS8Rl",
        "colab_type": "text"
      },
      "source": [
        "Video data normally occurs as continuous, analog signals. In order for a computer to process this video data, we must \n",
        "convert the analog signals to a non-continuous, digital format. In a digital format, the video data can be stored as a \n",
        "series of bits on a hard disk or in computer memory.\n",
        "**Example**:Use Video Data and Analytics to Enhance Performance."
      ]
    },
    {
      "cell_type": "markdown",
      "metadata": {
        "id": "Z1E5FnPWS8NZ",
        "colab_type": "text"
      },
      "source": [
        "  - **Image data**"
      ]
    },
    {
      "cell_type": "markdown",
      "metadata": {
        "id": "WGD6CpKwS8Gm",
        "colab_type": "text"
      },
      "source": [
        "IMAGE DATA. Image data is most often used to represent graphic or pictorial data. The term image inherently reflects a \n",
        "graphic representation, and in the GIS world, differs significant for data.\n",
        "**Example**:GIF files"
      ]
    },
    {
      "cell_type": "markdown",
      "metadata": {
        "id": "tEqOCedrS7_q",
        "colab_type": "text"
      },
      "source": [
        "  - **Documents**"
      ]
    },
    {
      "cell_type": "markdown",
      "metadata": {
        "id": "_bgDOJIXS74h",
        "colab_type": "text"
      },
      "source": [
        "\"Document\" usually denotes a primarily textual computer file, including its structure and format.\n",
        "**Examples**: fonts, colors, and images.\n",
        "1.paper, given the existence of electronic documents."
      ]
    },
    {
      "cell_type": "markdown",
      "metadata": {
        "id": "D-byeaUl_Zts",
        "colab_type": "text"
      },
      "source": [
        "  - **Satellite imagery**"
      ]
    },
    {
      "cell_type": "markdown",
      "metadata": {
        "id": "bmKFAnxO_hF2",
        "colab_type": "text"
      },
      "source": [
        "Satellite images are one of the most powerful and important tools used by the meteorologist. They are essentially the eyes \n",
        "in the sky. These images reassure forecasters to the behavior of the atmosphere as they give a clear, concise, and\n",
        "accurate representation of how events are unfolding.\n",
        "\n",
        "**Examples**:\n",
        "\n",
        "1.available via their EarthExplorer\n",
        "\n",
        "2.LandViewer\n",
        "\n",
        "3.Copernicus Open Access Hub. \n",
        "\n",
        "4.Sentinel Hub.\n",
        "\n",
        "5.NASA Earthdata Search. \n",
        "\n",
        "6.Remote Pixel. \n",
        "\n",
        "7.INPE Image Catalog.\n"
      ]
    },
    {
      "cell_type": "markdown",
      "metadata": {
        "id": "urvrO2rFAAut",
        "colab_type": "text"
      },
      "source": [
        "**Timeseries data(Temperatue Reading, Stock prices)**"
      ]
    },
    {
      "cell_type": "markdown",
      "metadata": {
        "id": "tYCrXHzjjMgB",
        "colab_type": "text"
      },
      "source": [
        "Time series data is a sequence of numbers collected at regular intervals over some period of time. It is very important, especially in particular fields like finance. Time series data has a temporal value attached to it, so this would be something like a date or a time stamp that you can look for trends in time.\n",
        "For **example**, we might measure the average number of home sales for many years. The difference of time series data and numerical data is that rather then having a bunch of numerical values which don’t have any time ordering, time series data does have some implied ordering. There is a first data point collected and a last data point collected."
      ]
    }
  ]
}